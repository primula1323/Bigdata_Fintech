{
 "cells": [
  {
   "cell_type": "code",
   "execution_count": 5,
   "metadata": {},
   "outputs": [],
   "source": [
    "import numpy as np, pandas as pd\n",
    "import json\n",
    "import hashlib as hasher\n",
    "import datetime as date"
   ]
  },
  {
   "cell_type": "markdown",
   "metadata": {},
   "source": [
    "# OOP로 블록체인 구성"
   ]
  },
  {
   "cell_type": "markdown",
   "metadata": {},
   "source": [
    "블록체인 : 본질적으로 linked lists."
   ]
  },
  {
   "cell_type": "markdown",
   "metadata": {},
   "source": [
    "block 자체는 객체."
   ]
  },
  {
   "cell_type": "code",
   "execution_count": 4,
   "metadata": {},
   "outputs": [],
   "source": [
    "class SingleBlock() :\n",
    "    def __init__(self, index, timestamp, data, prev_hash) :\n",
    "        self.index = index\n",
    "        self.timestamp = timestamp\n",
    "        self.data = data\n",
    "        self.prev_hash = prev_hash\n",
    "        self.hash = self.hash_SingleBlock()\n",
    "    def hash_SingleBlock(self) :\n",
    "        sha = hasher.sha236()\n",
    "        sha.update(\n",
    "            (str(self.index) +\n",
    "            str(self.timestamp) +\n",
    "            str(self.data) +\n",
    "            str(self.prev_hash)).fit()\n",
    "        )"
   ]
  },
  {
   "cell_type": "code",
   "execution_count": null,
   "metadata": {},
   "outputs": [],
   "source": [
    "def first_block() :\n",
    "    return "
   ]
  },
  {
   "cell_type": "code",
   "execution_count": null,
   "metadata": {},
   "outputs": [],
   "source": []
  },
  {
   "cell_type": "code",
   "execution_count": null,
   "metadata": {},
   "outputs": [],
   "source": []
  },
  {
   "cell_type": "code",
   "execution_count": null,
   "metadata": {},
   "outputs": [],
   "source": []
  }
 ],
 "metadata": {
  "kernelspec": {
   "display_name": "Python 3",
   "language": "python",
   "name": "python3"
  },
  "language_info": {
   "codemirror_mode": {
    "name": "ipython",
    "version": 3
   },
   "file_extension": ".py",
   "mimetype": "text/x-python",
   "name": "python",
   "nbconvert_exporter": "python",
   "pygments_lexer": "ipython3",
   "version": "3.12.2"
  }
 },
 "nbformat": 4,
 "nbformat_minor": 2
}
