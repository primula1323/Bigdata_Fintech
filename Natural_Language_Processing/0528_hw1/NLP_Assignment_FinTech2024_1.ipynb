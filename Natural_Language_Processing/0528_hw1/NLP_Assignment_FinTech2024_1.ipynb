{
 "cells": [
  {
   "cell_type": "markdown",
   "metadata": {},
   "source": [
    "# 한국어 NSMC 감성분류"
   ]
  },
  {
   "cell_type": "markdown",
   "metadata": {},
   "source": [
    "- https://github.com/e9t/nsmc 는 네이버 영화 리뷰 코퍼스로, Train 데이터셋과 Text 데이터셋으로 구성되어 있다.\n",
    "- 먼저 해당 GitHub으로부터 데이터를 Clone하라. \n",
    "- Clone 후 Train 데이터셋은 5,000건 Test 데이터셋은 500건을 활용하라. (훈련시간 이슈; 하드웨어 여유가 있다면 그 이상도 가능 But No Extra Point)\n",
    "- https://github.com/bentrevett/pytorch-sentiment-analysis 에 있는 pytorch sentiment analysis의 방법을 따라 한국어 감성분석 모델을 만들어라\n",
    "\n"
   ]
  },
  {
   "cell_type": "markdown",
   "metadata": {},
   "source": [
    "## 목표\n",
    "\n",
    "\n",
    "- 깃헙 내의 txt 파일을 불러온 후 torchtext를 사용하여 데이터를 신경망에 입력가능한 꼴로 바꾸기\n",
    "- 한국어 데이터 전처리를 위한 함수를 만들고 이를 torchtext에 통합하기 \n",
    "- 제시된 여러 모델을 사용하여(transformers 제외) 성능을 향상 시키기\n",
    "- training, evaluation 한 것을 test 데이터에 적용하여 성능을 보이기.\n",
    "- predict를 사용하여 제시된 영화 리뷰들의 분류 결과를 보이기\n",
    "\n",
    "- 참고 사이트\n",
    "    \n",
    "    - https://pytorch.org/text/\n",
    "    - http://mlexplained.com/2018/02/08/a-comprehensive-tutorial-to-torchtext/\n",
    "    - https://github.com/pytorch/text\n",
    "    - https://mc.ai/using-fine-tuned-gensim-word2vec-embeddings-with-torchtext-and-pytorch/\n",
    "    - https://github.com/bentrevett"
   ]
  },
  {
   "cell_type": "markdown",
   "metadata": {},
   "source": [
    "## 제출\n",
    "\n",
    "- **주의사항**\n",
    "    1) .ipynb 파일로 제출할 것\n",
    "    2) Colab으로 구축했을 시 특히 런타임 초기화 후 코드 전체 실행했을 때 오류 없는 지 확인!\n",
    "    3) User Input 부분의 결과를 잘 나타낼 것 \n",
    "    4) 새로운 모듈 및 라이브러리 설치 시 # !pip로 해당 모듈 명시"
   ]
  },
  {
   "cell_type": "markdown",
   "metadata": {},
   "source": [
    "## 정리\n",
    "- 구현한 시스템의 성능을 정리\n"
   ]
  },
  {
   "cell_type": "code",
   "execution_count": null,
   "metadata": {},
   "outputs": [],
   "source": [
    "## 프로그래밍 시작"
   ]
  },
  {
   "cell_type": "markdown",
   "metadata": {},
   "source": [
    "## User Input\n"
   ]
  },
  {
   "cell_type": "code",
   "execution_count": null,
   "metadata": {},
   "outputs": [],
   "source": [
    "def predict_sentiment(model, sentence, min_len=5):"
   ]
  },
  {
   "cell_type": "code",
   "execution_count": null,
   "metadata": {},
   "outputs": [],
   "source": [
    "#정답: 1 / 1 / 1/ 1 / 1 / 0 / 0 / 0 / 0 / 0\n",
    "\n",
    "s1 = \"존잼이다 오컬트 영환데 ㄹㅇ힙함 파묘 보고 김고은과 이도현을 사랑하게 됨ㅠㅠ\"\n",
    "s2 = \"배우들 연기 미쳤다.. 몰입하다보니 영화 끝나있음.. 내 기준 올해 한국 영화 중에 탑ㅠ\"\n",
    "s3 = \"이런 기이한 이야기에 미술, 의상, 음악이 이렇게 예뻐도 되는 거냐. 스톤과 러팔로도 아카데미 주조연상 후보에 나란히 올라갈 정도의 코미디 연기를 보여줘서 보는 내내 입꼬리가 안 내려갔다\"\n",
    "s4 = \"네게 미결로 남고 싶은 내 삶의 흔적\"\n",
    "s5 = \"내가 얼마나 '정상적'이고 괜찮은 인간인지 스스로에게, 그리고 타인에게 인정받을 수 있는 가장 쉽고 빠른 방법은 다른 누군가를 괴물이라고 손가락질 해보이는 것이다. 이런식의 괴물 색출, 사냥 놀이에 몰두하는 사회일수록 구성원들의 정신, 사고, 행동은 영화에서처럼 병들고 뒤틀릴 수밖에 없다\"\n",
    "s6 = \"명성에 비해 그닥\"\n",
    "s7 = \"재밌네요 물론 한번도 웃지는 않았습니다\"\n",
    "s8 = \"엥 평론가는 0점 줄수있어요??? 나 cgv vvip 메가박스 mvip 인데 수백편 영화보면서 평론가가 0점 준거 처음봤는데 신기하내요 버그나 오류아니겠죠??평론가 0점 실화에요?? 나는 그래도 솔직히 10점만점에 1.8점 정도인데\"\n",
    "s9 = \"맥아리없는 심심한 빌런, 남은건 초롱이뿐\"\n",
    "s10 = \"1. 영화 내내 유치하고 재미없는 유머 남발초롱이 캐릭터는 좋았다2. 말이 안 되는 장면 천지초반부터 형사가 일반인 구타?줄빠따 맞고도 아무일 없듯이 칼듯 야쿠자들 관광전편들과 달리 형사로서의 작전 능력 없이 모든 과정이 우연처럼 성공적으로 풀린다3. 약한 빌런임팩트 있게 등장하지만 실상 까보면 아무것도 없음4. 마동석 원맨쇼동료형사들 아예 안 나왔어도 무방할듯광수대로 가면서 동료를 다 버렸다\"\n"
   ]
  }
 ],
 "metadata": {
  "kernelspec": {
   "display_name": "Python 3 (ipykernel)",
   "language": "python",
   "name": "python3"
  },
  "language_info": {
   "codemirror_mode": {
    "name": "ipython",
    "version": 3
   },
   "file_extension": ".py",
   "mimetype": "text/x-python",
   "name": "python",
   "nbconvert_exporter": "python",
   "pygments_lexer": "ipython3",
   "version": "3.8.13"
  }
 },
 "nbformat": 4,
 "nbformat_minor": 2
}
