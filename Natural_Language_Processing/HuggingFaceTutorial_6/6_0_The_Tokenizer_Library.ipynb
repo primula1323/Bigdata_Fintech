{
 "cells": [
  {
   "cell_type": "markdown",
   "id": "worldwide-compilation",
   "metadata": {},
   "source": [
    "# Introduction\n",
    "\n",
    "In [Chapter 3](https://huggingface.co/course/chapter6/1?fw=pt#:~:text=In%20Chapter%203,the%20first%20place.), we looked at how to fine-tune a model on a given task. When we do that, we use the same tokenizer that the model was pretrained with — but what do we do when we want to train a model from scratch? In these cases, using a tokenizer that was pretrained on a corpus from another domain or language is typically suboptimal. For example, a tokenizer that’s trained on an English corpus will perform poorly on a corpus of Japanese texts because the use of spaces and punctuation is very different in the two languages.\n",
    "\n",
    "In this chapter, you will learn how to train a brand new tokenizer on a corpus of texts, so it can then be used to pretrain a language model. This will all be done with the help of the 🤗 [Tokenizers](https://github.com/huggingface/tokenizers) library, which provides the “fast” tokenizers in the 🤗 [Transformers](https://github.com/huggingface/transformers) library. We’ll take a close look at the features that this library provides, and explore how the fast tokenizers differ from the “slow” versions.\n",
    "\n",
    "Topics we will cover include:\n",
    "\n",
    "How to train a new tokenizer similar to the one used by a given checkpoint on a new corpus of texts\n",
    "The special features of fast tokenizers\n",
    "The differences between the three main subword tokenization algorithms used in NLP today\n",
    "How to build a tokenizer from scratch with the 🤗 Tokenizers library and train it on some data\n",
    "The techniques introduced in this chapter will prepare you for the section in [Chapter 7](https://huggingface.co/course/chapter7/6) where we look at creating a language model for Python source code. Let’s start by looking at what it means to “train” a tokenizer in the first place."
   ]
  }
 ],
 "metadata": {
  "kernelspec": {
   "display_name": "Python 3",
   "language": "python",
   "name": "python3"
  },
  "language_info": {
   "codemirror_mode": {
    "name": "ipython",
    "version": 3
   },
   "file_extension": ".py",
   "mimetype": "text/x-python",
   "name": "python",
   "nbconvert_exporter": "python",
   "pygments_lexer": "ipython3",
   "version": "3.8.8"
  }
 },
 "nbformat": 4,
 "nbformat_minor": 5
}
