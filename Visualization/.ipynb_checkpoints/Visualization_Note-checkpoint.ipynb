{
 "cells": [
  {
   "cell_type": "markdown",
   "id": "9a453961-a5af-4415-bf39-49d5991c7f1d",
   "metadata": {},
   "source": [
    "# Visualization"
   ]
  },
  {
   "cell_type": "markdown",
   "id": "b1d1349b-e018-43a6-983b-bb5e763c5e46",
   "metadata": {},
   "source": [
    "## 1.1. Introduction"
   ]
  },
  {
   "cell_type": "markdown",
   "id": "5134a331-88ef-431f-bb91-596a60e1f5e2",
   "metadata": {},
   "source": [
    "DS Techniques\n",
    "\n",
    "1. Descriptive Analytics\n",
    "2. Preductive Analytics\n",
    "3. Prescriptive Analystics"
   ]
  },
  {
   "cell_type": "markdown",
   "id": "e0a27e13-1741-4acb-98a0-01bccf2caf2e",
   "metadata": {},
   "source": [
    "Why Visualization?\n",
    "\n",
    "* catch information efficiently\n",
    "* summary statistics 같아도 distribution은 각자 다를 수 있음"
   ]
  },
  {
   "cell_type": "markdown",
   "id": "97d72ea6-b4a6-4f8d-b3d3-3d048f122000",
   "metadata": {},
   "source": [
    "Data-Ink ratio \n",
    "\n",
    "* 배경 색 없애기?\n",
    "* 색을 까맣게 할까 하얗게 할까?\n",
    "* ...\n",
    "\n",
    "절대적 기준 아님. 정보를 무조건 날릴 건 아님..."
   ]
  },
  {
   "cell_type": "markdown",
   "id": "e2564de2-316f-454f-87b6-072cd3aa26a9",
   "metadata": {},
   "source": [
    "Chartjunk\n",
    "\n",
    "3D : 정보 표현에 별로 효과적이지 않음. flat한 게 차라리 나음..."
   ]
  },
  {
   "cell_type": "markdown",
   "id": "e324c178-741c-40a7-829b-81564c62793e",
   "metadata": {},
   "source": [
    "NYT : Visualization 적절히 활용."
   ]
  },
  {
   "cell_type": "markdown",
   "id": "c9b0d4d8-7f30-4168-af26-76d78820d0e4",
   "metadata": {},
   "source": [
    "시각화 관련 사이트\n",
    "\n",
    "..."
   ]
  },
  {
   "cell_type": "markdown",
   "id": "f3250587-fad0-4ff9-aa76-4dfaa80e604f",
   "metadata": {},
   "source": [
    "장식? 별로 필요 없음"
   ]
  },
  {
   "cell_type": "markdown",
   "id": "c57b4326-364b-4fa1-b472-d043d99a5e7e",
   "metadata": {},
   "source": [
    "interactive visulaization : 도움 됨"
   ]
  },
  {
   "cell_type": "markdown",
   "id": "e8344a0a-7c0d-4760-9b9d-ee918b29ed16",
   "metadata": {},
   "source": []
  },
  {
   "cell_type": "markdown",
   "id": "01e163c6-2a7e-4f85-b15f-2d8a2a4d7006",
   "metadata": {},
   "source": [
    "### Bar charts"
   ]
  },
  {
   "cell_type": "markdown",
   "id": "123c7a4c-e3f5-45be-9b72-271fe808a01b",
   "metadata": {},
   "source": [
    "categorical 변수의 정량적 표현"
   ]
  },
  {
   "cell_type": "markdown",
   "id": "d2a8c434-5074-4c2a-868b-44b9b08b5107",
   "metadata": {},
   "source": [
    "### Line charts"
   ]
  },
  {
   "cell_type": "code",
   "execution_count": null,
   "id": "85b94526-3e0d-4735-85aa-ffd145a83f08",
   "metadata": {},
   "outputs": [],
   "source": []
  },
  {
   "cell_type": "code",
   "execution_count": null,
   "id": "a23766e1-d94f-4004-b721-7b3ef5f34056",
   "metadata": {},
   "outputs": [],
   "source": []
  },
  {
   "cell_type": "code",
   "execution_count": null,
   "id": "e6f199ae-65f1-4c45-b116-a23b827cd43a",
   "metadata": {},
   "outputs": [],
   "source": []
  },
  {
   "cell_type": "code",
   "execution_count": null,
   "id": "bd30195f-51f4-4ac6-855d-0b04a76987c3",
   "metadata": {},
   "outputs": [],
   "source": []
  },
  {
   "cell_type": "code",
   "execution_count": null,
   "id": "7bb083c0-9d38-42c3-abf9-264ace754a2d",
   "metadata": {},
   "outputs": [],
   "source": []
  },
  {
   "cell_type": "code",
   "execution_count": null,
   "id": "5a3f35d2-4252-4849-82da-c38acd41ad68",
   "metadata": {},
   "outputs": [],
   "source": []
  }
 ],
 "metadata": {
  "kernelspec": {
   "display_name": "Python 3 (ipykernel)",
   "language": "python",
   "name": "python3"
  },
  "language_info": {
   "codemirror_mode": {
    "name": "ipython",
    "version": 3
   },
   "file_extension": ".py",
   "mimetype": "text/x-python",
   "name": "python",
   "nbconvert_exporter": "python",
   "pygments_lexer": "ipython3",
   "version": "3.11.7"
  }
 },
 "nbformat": 4,
 "nbformat_minor": 5
}
