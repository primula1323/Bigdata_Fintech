{
 "cells": [
  {
   "cell_type": "code",
   "execution_count": 1,
   "metadata": {},
   "outputs": [
    {
     "ename": "ModuleNotFoundError",
     "evalue": "No module named 'pandas'",
     "output_type": "error",
     "traceback": [
      "\u001b[0;31m---------------------------------------------------------------------------\u001b[0m",
      "\u001b[0;31mModuleNotFoundError\u001b[0m                       Traceback (most recent call last)",
      "Cell \u001b[0;32mIn[1], line 1\u001b[0m\n\u001b[0;32m----> 1\u001b[0m \u001b[38;5;28;01mimport\u001b[39;00m \u001b[38;5;21;01mpandas\u001b[39;00m \u001b[38;5;28;01mas\u001b[39;00m \u001b[38;5;21;01mpd\u001b[39;00m\n\u001b[1;32m      2\u001b[0m \u001b[38;5;28;01mimport\u001b[39;00m \u001b[38;5;21;01mnumpy\u001b[39;00m \u001b[38;5;28;01mas\u001b[39;00m \u001b[38;5;21;01mnp\u001b[39;00m\n\u001b[1;32m      3\u001b[0m \u001b[38;5;28;01mimport\u001b[39;00m \u001b[38;5;21;01mmatplotlib\u001b[39;00m\u001b[38;5;21;01m.\u001b[39;00m\u001b[38;5;21;01mpyplot\u001b[39;00m \u001b[38;5;28;01mas\u001b[39;00m \u001b[38;5;21;01mplt\u001b[39;00m\n",
      "\u001b[0;31mModuleNotFoundError\u001b[0m: No module named 'pandas'"
     ]
    }
   ],
   "source": [
    "import pandas as pd\n",
    "import numpy as np\n",
    "import matplotlib.pyplot as plt"
   ]
  },
  {
   "cell_type": "markdown",
   "metadata": {},
   "source": [
    "This project follows the analysis from\n",
    "\n",
    "https://nicholastsmith.wordpress.com/2016/04/19/stock-market-prediction-using-multi-layer-perceptrons-with-tensorflow/"
   ]
  },
  {
   "cell_type": "code",
   "execution_count": 3,
   "metadata": {},
   "outputs": [],
   "source": [
    "df = pd.read_csv('BA_all.csv', parse_dates=['Date'])"
   ]
  },
  {
   "cell_type": "code",
   "execution_count": 4,
   "metadata": {},
   "outputs": [
    {
     "name": "stdout",
     "output_type": "stream",
     "text": [
      "<class 'pandas.core.frame.DataFrame'>\n",
      "RangeIndex: 15680 entries, 0 to 15679\n",
      "Data columns (total 7 columns):\n",
      " #   Column     Non-Null Count  Dtype         \n",
      "---  ------     --------------  -----         \n",
      " 0   Date       15680 non-null  datetime64[ns]\n",
      " 1   Open       15680 non-null  float64       \n",
      " 2   High       15680 non-null  float64       \n",
      " 3   Low        15680 non-null  float64       \n",
      " 4   Close      15680 non-null  float64       \n",
      " 5   Adj Close  15680 non-null  float64       \n",
      " 6   Volume     15680 non-null  int64         \n",
      "dtypes: datetime64[ns](1), float64(5), int64(1)\n",
      "memory usage: 857.6 KB\n"
     ]
    },
    {
     "data": {
      "text/html": [
       "<div>\n",
       "<style scoped>\n",
       "    .dataframe tbody tr th:only-of-type {\n",
       "        vertical-align: middle;\n",
       "    }\n",
       "\n",
       "    .dataframe tbody tr th {\n",
       "        vertical-align: top;\n",
       "    }\n",
       "\n",
       "    .dataframe thead th {\n",
       "        text-align: right;\n",
       "    }\n",
       "</style>\n",
       "<table border=\"1\" class=\"dataframe\">\n",
       "  <thead>\n",
       "    <tr style=\"text-align: right;\">\n",
       "      <th></th>\n",
       "      <th>Date</th>\n",
       "      <th>Open</th>\n",
       "      <th>High</th>\n",
       "      <th>Low</th>\n",
       "      <th>Close</th>\n",
       "      <th>Adj Close</th>\n",
       "      <th>Volume</th>\n",
       "    </tr>\n",
       "  </thead>\n",
       "  <tbody>\n",
       "    <tr>\n",
       "      <th>0</th>\n",
       "      <td>1962-01-02</td>\n",
       "      <td>0.837449</td>\n",
       "      <td>0.837449</td>\n",
       "      <td>0.823045</td>\n",
       "      <td>0.823045</td>\n",
       "      <td>0.190931</td>\n",
       "      <td>352350</td>\n",
       "    </tr>\n",
       "    <tr>\n",
       "      <th>1</th>\n",
       "      <td>1962-01-03</td>\n",
       "      <td>0.835391</td>\n",
       "      <td>0.851852</td>\n",
       "      <td>0.835391</td>\n",
       "      <td>0.839506</td>\n",
       "      <td>0.194750</td>\n",
       "      <td>710775</td>\n",
       "    </tr>\n",
       "    <tr>\n",
       "      <th>2</th>\n",
       "      <td>1962-01-04</td>\n",
       "      <td>0.839506</td>\n",
       "      <td>0.853909</td>\n",
       "      <td>0.831276</td>\n",
       "      <td>0.831276</td>\n",
       "      <td>0.192840</td>\n",
       "      <td>911250</td>\n",
       "    </tr>\n",
       "    <tr>\n",
       "      <th>3</th>\n",
       "      <td>1962-01-05</td>\n",
       "      <td>0.831276</td>\n",
       "      <td>0.835391</td>\n",
       "      <td>0.792181</td>\n",
       "      <td>0.814815</td>\n",
       "      <td>0.189022</td>\n",
       "      <td>880875</td>\n",
       "    </tr>\n",
       "    <tr>\n",
       "      <th>4</th>\n",
       "      <td>1962-01-08</td>\n",
       "      <td>0.814815</td>\n",
       "      <td>0.829218</td>\n",
       "      <td>0.804527</td>\n",
       "      <td>0.816872</td>\n",
       "      <td>0.189499</td>\n",
       "      <td>473850</td>\n",
       "    </tr>\n",
       "    <tr>\n",
       "      <th>...</th>\n",
       "      <td>...</td>\n",
       "      <td>...</td>\n",
       "      <td>...</td>\n",
       "      <td>...</td>\n",
       "      <td>...</td>\n",
       "      <td>...</td>\n",
       "      <td>...</td>\n",
       "    </tr>\n",
       "    <tr>\n",
       "      <th>15675</th>\n",
       "      <td>2024-04-11</td>\n",
       "      <td>174.470001</td>\n",
       "      <td>174.699997</td>\n",
       "      <td>171.380005</td>\n",
       "      <td>173.360001</td>\n",
       "      <td>173.360001</td>\n",
       "      <td>7625100</td>\n",
       "    </tr>\n",
       "    <tr>\n",
       "      <th>15676</th>\n",
       "      <td>2024-04-12</td>\n",
       "      <td>172.199997</td>\n",
       "      <td>173.240005</td>\n",
       "      <td>169.369995</td>\n",
       "      <td>169.550003</td>\n",
       "      <td>169.550003</td>\n",
       "      <td>7548900</td>\n",
       "    </tr>\n",
       "    <tr>\n",
       "      <th>15677</th>\n",
       "      <td>2024-04-15</td>\n",
       "      <td>170.740005</td>\n",
       "      <td>171.179993</td>\n",
       "      <td>167.529999</td>\n",
       "      <td>167.820007</td>\n",
       "      <td>167.820007</td>\n",
       "      <td>6490700</td>\n",
       "    </tr>\n",
       "    <tr>\n",
       "      <th>15678</th>\n",
       "      <td>2024-04-16</td>\n",
       "      <td>168.139999</td>\n",
       "      <td>170.639999</td>\n",
       "      <td>167.750000</td>\n",
       "      <td>170.550003</td>\n",
       "      <td>170.550003</td>\n",
       "      <td>7976300</td>\n",
       "    </tr>\n",
       "    <tr>\n",
       "      <th>15679</th>\n",
       "      <td>2024-04-17</td>\n",
       "      <td>170.000000</td>\n",
       "      <td>170.850006</td>\n",
       "      <td>168.130005</td>\n",
       "      <td>170.024994</td>\n",
       "      <td>170.024994</td>\n",
       "      <td>5133136</td>\n",
       "    </tr>\n",
       "  </tbody>\n",
       "</table>\n",
       "<p>15680 rows × 7 columns</p>\n",
       "</div>"
      ],
      "text/plain": [
       "            Date        Open        High         Low       Close   Adj Close  \\\n",
       "0     1962-01-02    0.837449    0.837449    0.823045    0.823045    0.190931   \n",
       "1     1962-01-03    0.835391    0.851852    0.835391    0.839506    0.194750   \n",
       "2     1962-01-04    0.839506    0.853909    0.831276    0.831276    0.192840   \n",
       "3     1962-01-05    0.831276    0.835391    0.792181    0.814815    0.189022   \n",
       "4     1962-01-08    0.814815    0.829218    0.804527    0.816872    0.189499   \n",
       "...          ...         ...         ...         ...         ...         ...   \n",
       "15675 2024-04-11  174.470001  174.699997  171.380005  173.360001  173.360001   \n",
       "15676 2024-04-12  172.199997  173.240005  169.369995  169.550003  169.550003   \n",
       "15677 2024-04-15  170.740005  171.179993  167.529999  167.820007  167.820007   \n",
       "15678 2024-04-16  168.139999  170.639999  167.750000  170.550003  170.550003   \n",
       "15679 2024-04-17  170.000000  170.850006  168.130005  170.024994  170.024994   \n",
       "\n",
       "        Volume  \n",
       "0       352350  \n",
       "1       710775  \n",
       "2       911250  \n",
       "3       880875  \n",
       "4       473850  \n",
       "...        ...  \n",
       "15675  7625100  \n",
       "15676  7548900  \n",
       "15677  6490700  \n",
       "15678  7976300  \n",
       "15679  5133136  \n",
       "\n",
       "[15680 rows x 7 columns]"
      ]
     },
     "execution_count": 4,
     "metadata": {},
     "output_type": "execute_result"
    }
   ],
   "source": [
    "df.info()\n",
    "df"
   ]
  },
  {
   "cell_type": "code",
   "execution_count": 5,
   "metadata": {},
   "outputs": [
    {
     "data": {
      "text/plain": [
       "[<matplotlib.lines.Line2D at 0x1d78b4b7dd0>]"
      ]
     },
     "execution_count": 5,
     "metadata": {},
     "output_type": "execute_result"
    },
    {
     "data": {
      "image/png": "[encoded data removed]",
      "text/plain": [
       "<Figure size 640x480 with 1 Axes>"
      ]
     },
     "metadata": {},
     "output_type": "display_data"
    }
   ],
   "source": [
    "plt.plot(df['Date'], df['Close'])\n",
    "plt.plot('Date', 'Close', data = df)"
   ]
  },
  {
   "cell_type": "code",
   "execution_count": 6,
   "metadata": {},
   "outputs": [
    {
     "data": {
      "text/plain": [
       "<Axes: ylabel='Frequency'>"
      ]
     },
     "execution_count": 6,
     "metadata": {},
     "output_type": "execute_result"
    },
    {
     "data": {
      "image/png": "[encoded data removed]",
      "text/plain": [
       "<Figure size 1000x1000 with 1 Axes>"
      ]
     },
     "metadata": {},
     "output_type": "display_data"
    }
   ],
   "source": [
    "df.Close.plot(kind = 'hist', bins = 50, figsize = (10,10))"
   ]
  },
  {
   "cell_type": "code",
   "execution_count": 18,
   "metadata": {},
   "outputs": [],
   "source": [
    "def return_moving(d0:float, d1:float) : \n",
    "    #return 'meaningful price change'\n",
    "    w = (d1 - d0)/d0\n",
    "    if w < -0.005 : \n",
    "        return -1\n",
    "    elif w > 0.005 : \n",
    "        return 1 \n",
    "    else :\n",
    "        return 0"
   ]
  },
  {
   "cell_type": "code",
   "execution_count": 20,
   "metadata": {},
   "outputs": [
    {
     "name": "stdout",
     "output_type": "stream",
     "text": [
      "-16.734982000000443\n"
     ]
    }
   ],
   "source": [
    "#전략 1\n",
    "\n",
    "money = 0\n",
    "for i in range(1, len(df) - 1) :\n",
    "    k = return_moving(df['Close'][i-1], df['Close'][i])\n",
    "    if k == 1 :\n",
    "        money += (df['Open'][i+1] - df['Close'][i+1])\n",
    "    elif k == -1 :\n",
    "        money += (df['Close'][i+1] - df['Open'][i+1])\n",
    "    else : \n",
    "        pass\n",
    "print(money)"
   ]
  },
  {
   "cell_type": "code",
   "execution_count": 21,
   "metadata": {},
   "outputs": [
    {
     "name": "stdout",
     "output_type": "stream",
     "text": [
      "51.933443999999554\n"
     ]
    }
   ],
   "source": [
    "#전략 2\n",
    "\n",
    "money = 0\n",
    "for i in range(1, len(df) - 1) :\n",
    "    k = return_moving(df['Close'][i-1], df['Close'][i])\n",
    "    if k == 1 :\n",
    "        money += (df['Open'][i+1] - df['Close'][i+1])\n",
    "    else : \n",
    "        pass\n",
    "print(money)"
   ]
  },
  {
   "cell_type": "code",
   "execution_count": 22,
   "metadata": {},
   "outputs": [],
   "source": [
    "def return_moving2(d0:float, d1:float) : \n",
    "    #return 'meaningful price change'\n",
    "    w = (d1 - d0)/d0\n",
    "    if w < -0.003 : \n",
    "        return -1\n",
    "    elif w > 0.003 : \n",
    "        return 1 \n",
    "    else :\n",
    "        return 0"
   ]
  },
  {
   "cell_type": "code",
   "execution_count": 23,
   "metadata": {},
   "outputs": [
    {
     "name": "stdout",
     "output_type": "stream",
     "text": [
      "46.22404999999975\n"
     ]
    }
   ],
   "source": [
    "#전략 3\n",
    "\n",
    "money = 0\n",
    "for i in range(1, len(df) - 1) :\n",
    "    k = return_moving2(df['Close'][i-1], df['Close'][i])\n",
    "    if k == 1 :\n",
    "        money += (df['Open'][i+1] - df['Close'][i+1])\n",
    "    else : \n",
    "        pass\n",
    "print(money)"
   ]
  },
  {
   "cell_type": "code",
   "execution_count": 24,
   "metadata": {},
   "outputs": [
    {
     "name": "stdout",
     "output_type": "stream",
     "text": [
      "93.90517599999981\n"
     ]
    }
   ],
   "source": []
  },
  {
   "cell_type": "code",
   "execution_count": 1,
   "metadata": {},
   "outputs": [
    {
     "name": "stdout",
     "output_type": "stream",
     "text": [
      "Collecting QuantLib\n",
      "  Downloading QuantLib-1.33-cp312-cp312-win_amd64.whl.metadata (1.1 kB)\n",
      "Downloading QuantLib-1.33-cp312-cp312-win_amd64.whl (12.2 MB)\n",
      "   ---------------------------------------- 0.0/12.2 MB ? eta -:--:--\n",
      "   ---------------------------------------- 0.0/12.2 MB 1.3 MB/s eta 0:00:10\n",
      "   - -------------------------------------- 0.5/12.2 MB 7.5 MB/s eta 0:00:02\n",
      "   --- ------------------------------------ 1.0/12.2 MB 8.6 MB/s eta 0:00:02\n",
      "   ---- ----------------------------------- 1.5/12.2 MB 9.5 MB/s eta 0:00:02\n",
      "   ------ --------------------------------- 2.0/12.2 MB 9.7 MB/s eta 0:00:02\n",
      "   ------- -------------------------------- 2.4/12.2 MB 9.4 MB/s eta 0:00:02\n",
      "   --------- ------------------------------ 2.9/12.2 MB 9.7 MB/s eta 0:00:01\n",
      "   ----------- ---------------------------- 3.4/12.2 MB 9.9 MB/s eta 0:00:01\n",
      "   ------------ --------------------------- 3.9/12.2 MB 9.9 MB/s eta 0:00:01\n",
      "   -------------- ------------------------- 4.4/12.2 MB 10.0 MB/s eta 0:00:01\n",
      "   -------------- ------------------------- 4.5/12.2 MB 9.2 MB/s eta 0:00:01\n",
      "   -------------- ------------------------- 4.6/12.2 MB 8.5 MB/s eta 0:00:01\n",
      "   --------------- ------------------------ 4.7/12.2 MB 8.3 MB/s eta 0:00:01\n",
      "   --------------- ------------------------ 4.9/12.2 MB 7.8 MB/s eta 0:00:01\n",
      "   ---------------- ----------------------- 5.1/12.2 MB 7.6 MB/s eta 0:00:01\n",
      "   ------------------ --------------------- 5.6/12.2 MB 7.7 MB/s eta 0:00:01\n",
      "   ------------------- -------------------- 6.0/12.2 MB 7.8 MB/s eta 0:00:01\n",
      "   --------------------- ------------------ 6.6/12.2 MB 8.1 MB/s eta 0:00:01\n",
      "   ----------------------- ---------------- 7.1/12.2 MB 8.2 MB/s eta 0:00:01\n",
      "   ------------------------ --------------- 7.6/12.2 MB 8.3 MB/s eta 0:00:01\n",
      "   -------------------------- ------------- 8.1/12.2 MB 8.6 MB/s eta 0:00:01\n",
      "   --------------------------- ------------ 8.5/12.2 MB 8.6 MB/s eta 0:00:01\n",
      "   ----------------------------- ---------- 9.0/12.2 MB 8.7 MB/s eta 0:00:01\n",
      "   ------------------------------- -------- 9.5/12.2 MB 8.7 MB/s eta 0:00:01\n",
      "   -------------------------------- ------- 10.0/12.2 MB 8.8 MB/s eta 0:00:01\n",
      "   ---------------------------------- ----- 10.5/12.2 MB 9.1 MB/s eta 0:00:01\n",
      "   ------------------------------------ --- 11.0/12.2 MB 9.1 MB/s eta 0:00:01\n",
      "   ------------------------------------- -- 11.5/12.2 MB 9.1 MB/s eta 0:00:01\n",
      "   ---------------------------------------  12.1/12.2 MB 9.2 MB/s eta 0:00:01\n",
      "   ---------------------------------------- 12.2/12.2 MB 8.8 MB/s eta 0:00:00\n",
      "Installing collected packages: QuantLib\n",
      "Successfully installed QuantLib-1.33\n",
      "Note: you may need to restart the kernel to use updated packages.\n"
     ]
    }
   ],
   "source": []
  },
  {
   "cell_type": "code",
   "execution_count": 3,
   "metadata": {},
   "outputs": [],
   "source": []
  },
  {
   "cell_type": "code",
   "execution_count": 7,
   "metadata": {},
   "outputs": [
    {
     "name": "stdout",
     "output_type": "stream",
     "text": [
      "Collecting yfinance\n",
      "  Downloading yfinance-0.2.38-py2.py3-none-any.whl.metadata (11 kB)\n",
      "Requirement already satisfied: pandas>=1.3.0 in c:\\users\\na\\appdata\\local\\programs\\python\\python312\\lib\\site-packages (from yfinance) (2.2.1)\n",
      "Requirement already satisfied: numpy>=1.16.5 in c:\\users\\na\\appdata\\local\\programs\\python\\python312\\lib\\site-packages (from yfinance) (1.26.3)\n",
      "Requirement already satisfied: requests>=2.31 in c:\\users\\na\\appdata\\local\\programs\\python\\python312\\lib\\site-packages (from yfinance) (2.31.0)\n",
      "Collecting multitasking>=0.0.7 (from yfinance)\n",
      "  Downloading multitasking-0.0.11-py3-none-any.whl.metadata (5.5 kB)\n",
      "Collecting lxml>=4.9.1 (from yfinance)\n",
      "  Downloading lxml-5.2.1-cp312-cp312-win_amd64.whl.metadata (3.5 kB)\n",
      "Collecting appdirs>=1.4.4 (from yfinance)\n",
      "  Downloading appdirs-1.4.4-py2.py3-none-any.whl.metadata (9.0 kB)\n",
      "Requirement already satisfied: pytz>=2022.5 in c:\\users\\na\\appdata\\local\\programs\\python\\python312\\lib\\site-packages (from yfinance) (2024.1)\n",
      "Collecting frozendict>=2.3.4 (from yfinance)\n",
      "  Downloading frozendict-2.4.2.tar.gz (315 kB)\n",
      "     ---------------------------------------- 0.0/315.3 kB ? eta -:--:--\n",
      "     -------------------------------------  307.2/315.3 kB 9.6 MB/s eta 0:00:01\n",
      "     -------------------------------------- 315.3/315.3 kB 6.5 MB/s eta 0:00:00\n",
      "  Installing build dependencies: started\n",
      "  Installing build dependencies: finished with status 'done'\n",
      "  Getting requirements to build wheel: started\n",
      "  Getting requirements to build wheel: finished with status 'done'\n",
      "  Installing backend dependencies: started\n",
      "  Installing backend dependencies: finished with status 'done'\n",
      "  Preparing metadata (pyproject.toml): started\n",
      "  Preparing metadata (pyproject.toml): finished with status 'done'\n",
      "Collecting peewee>=3.16.2 (from yfinance)\n",
      "  Downloading peewee-3.17.3.tar.gz (3.0 MB)\n",
      "     ---------------------------------------- 0.0/3.0 MB ? eta -:--:--\n",
      "     ---- ----------------------------------- 0.3/3.0 MB 6.1 MB/s eta 0:00:01\n",
      "     ------- -------------------------------- 0.6/3.0 MB 5.9 MB/s eta 0:00:01\n",
      "     ----------- ---------------------------- 0.8/3.0 MB 5.8 MB/s eta 0:00:01\n",
      "     --------------- ------------------------ 1.2/3.0 MB 6.1 MB/s eta 0:00:01\n",
      "     ------------------- -------------------- 1.5/3.0 MB 6.2 MB/s eta 0:00:01\n",
      "     ----------------------- ---------------- 1.8/3.0 MB 6.3 MB/s eta 0:00:01\n",
      "     ----------------------------- ---------- 2.2/3.0 MB 6.5 MB/s eta 0:00:01\n",
      "     ---------------------------------- ----- 2.6/3.0 MB 6.8 MB/s eta 0:00:01\n",
      "     ---------------------------------------  2.9/3.0 MB 7.0 MB/s eta 0:00:01\n",
      "     ---------------------------------------- 3.0/3.0 MB 7.0 MB/s eta 0:00:00\n",
      "  Installing build dependencies: started\n",
      "  Installing build dependencies: finished with status 'done'\n",
      "  Getting requirements to build wheel: started\n",
      "  Getting requirements to build wheel: finished with status 'done'\n",
      "  Preparing metadata (pyproject.toml): started\n",
      "  Preparing metadata (pyproject.toml): finished with status 'done'\n",
      "Requirement already satisfied: beautifulsoup4>=4.11.1 in c:\\users\\na\\appdata\\local\\programs\\python\\python312\\lib\\site-packages (from yfinance) (4.12.2)\n",
      "Collecting html5lib>=1.1 (from yfinance)\n",
      "  Downloading html5lib-1.1-py2.py3-none-any.whl.metadata (16 kB)\n",
      "Requirement already satisfied: soupsieve>1.2 in c:\\users\\na\\appdata\\local\\programs\\python\\python312\\lib\\site-packages (from beautifulsoup4>=4.11.1->yfinance) (2.5)\n",
      "Requirement already satisfied: six>=1.9 in c:\\users\\na\\appdata\\local\\programs\\python\\python312\\lib\\site-packages (from html5lib>=1.1->yfinance) (1.16.0)\n",
      "Requirement already satisfied: webencodings in c:\\users\\na\\appdata\\local\\programs\\python\\python312\\lib\\site-packages (from html5lib>=1.1->yfinance) (0.5.1)\n",
      "Requirement already satisfied: python-dateutil>=2.8.2 in c:\\users\\na\\appdata\\local\\programs\\python\\python312\\lib\\site-packages (from pandas>=1.3.0->yfinance) (2.8.2)\n",
      "Requirement already satisfied: tzdata>=2022.7 in c:\\users\\na\\appdata\\local\\programs\\python\\python312\\lib\\site-packages (from pandas>=1.3.0->yfinance) (2024.1)\n",
      "Requirement already satisfied: charset-normalizer<4,>=2 in c:\\users\\na\\appdata\\local\\programs\\python\\python312\\lib\\site-packages (from requests>=2.31->yfinance) (3.3.2)\n",
      "Requirement already satisfied: idna<4,>=2.5 in c:\\users\\na\\appdata\\local\\programs\\python\\python312\\lib\\site-packages (from requests>=2.31->yfinance) (3.6)\n",
      "Requirement already satisfied: urllib3<3,>=1.21.1 in c:\\users\\na\\appdata\\local\\programs\\python\\python312\\lib\\site-packages (from requests>=2.31->yfinance) (2.1.0)\n",
      "Requirement already satisfied: certifi>=2017.4.17 in c:\\users\\na\\appdata\\local\\programs\\python\\python312\\lib\\site-packages (from requests>=2.31->yfinance) (2023.11.17)\n",
      "Downloading yfinance-0.2.38-py2.py3-none-any.whl (72 kB)\n",
      "   ---------------------------------------- 0.0/73.0 kB ? eta -:--:--\n",
      "   ---------------------------------------  71.7/73.0 kB 3.8 MB/s eta 0:00:01\n",
      "   ---------------------------------------- 73.0/73.0 kB 2.0 MB/s eta 0:00:00\n",
      "Downloading appdirs-1.4.4-py2.py3-none-any.whl (9.6 kB)\n",
      "Downloading html5lib-1.1-py2.py3-none-any.whl (112 kB)\n",
      "   ---------------------------------------- 0.0/112.2 kB ? eta -:--:--\n",
      "   ---------------------------------------- 112.2/112.2 kB 3.2 MB/s eta 0:00:00\n",
      "Downloading lxml-5.2.1-cp312-cp312-win_amd64.whl (3.8 MB)\n",
      "   ---------------------------------------- 0.0/3.8 MB ? eta -:--:--\n",
      "   - -------------------------------------- 0.1/3.8 MB 3.3 MB/s eta 0:00:02\n",
      "   -- ------------------------------------- 0.2/3.8 MB 2.8 MB/s eta 0:00:02\n",
      "   --- ------------------------------------ 0.4/3.8 MB 2.9 MB/s eta 0:00:02\n",
      "   ----- ---------------------------------- 0.5/3.8 MB 2.8 MB/s eta 0:00:02\n",
      "   ------ --------------------------------- 0.6/3.8 MB 2.7 MB/s eta 0:00:02\n",
      "   ------- -------------------------------- 0.7/3.8 MB 2.8 MB/s eta 0:00:02\n",
      "   -------- ------------------------------- 0.8/3.8 MB 2.7 MB/s eta 0:00:02\n",
      "   --------- ------------------------------ 1.0/3.8 MB 2.6 MB/s eta 0:00:02\n",
      "   ------------ --------------------------- 1.1/3.8 MB 2.8 MB/s eta 0:00:01\n",
      "   ------------- -------------------------- 1.3/3.8 MB 3.0 MB/s eta 0:00:01\n",
      "   --------------- ------------------------ 1.5/3.8 MB 3.0 MB/s eta 0:00:01\n",
      "   ------------------- -------------------- 1.8/3.8 MB 3.3 MB/s eta 0:00:01\n",
      "   --------------------- ------------------ 2.0/3.8 MB 3.4 MB/s eta 0:00:01\n",
      "   -------------------------- ------------- 2.5/3.8 MB 3.9 MB/s eta 0:00:01\n",
      "   ------------------------------ --------- 2.9/3.8 MB 4.2 MB/s eta 0:00:01\n",
      "   ------------------------------------ --- 3.4/3.8 MB 4.7 MB/s eta 0:00:01\n",
      "   ---------------------------------------  3.8/3.8 MB 5.0 MB/s eta 0:00:01\n",
      "   ---------------------------------------- 3.8/3.8 MB 4.9 MB/s eta 0:00:00\n",
      "Downloading multitasking-0.0.11-py3-none-any.whl (8.5 kB)\n",
      "Building wheels for collected packages: frozendict, peewee\n",
      "  Building wheel for frozendict (pyproject.toml): started\n",
      "  Building wheel for frozendict (pyproject.toml): finished with status 'done'\n",
      "  Created wheel for frozendict: filename=frozendict-2.4.2-cp312-cp312-win_amd64.whl size=15543 sha256=9866123ecdcf8ebc6f91c0405209ace6e154f8a5e08cbf52f8f1290e603f4a0a\n",
      "  Stored in directory: c:\\users\\na\\appdata\\local\\pip\\cache\\wheels\\27\\ad\\d9\\1c34a1bc48bf0fc4aee0887230b95ac6329426bffd89d5b6ac\n",
      "  Building wheel for peewee (pyproject.toml): started\n",
      "  Building wheel for peewee (pyproject.toml): finished with status 'done'\n",
      "  Created wheel for peewee: filename=peewee-3.17.3-py3-none-any.whl size=138453 sha256=0fdc2a592c14965bc43af007f894ef8b59cae064989a6262e8e3b653946ece15\n",
      "  Stored in directory: c:\\users\\na\\appdata\\local\\pip\\cache\\wheels\\39\\c7\\dd\\909d267742f7fbb941ff081dacd661f622a0b4eb38f667b84b\n",
      "Successfully built frozendict peewee\n",
      "Installing collected packages: peewee, multitasking, appdirs, lxml, html5lib, frozendict, yfinance\n",
      "Successfully installed appdirs-1.4.4 frozendict-2.4.2 html5lib-1.1 lxml-5.2.1 multitasking-0.0.11 peewee-3.17.3 yfinance-0.2.38\n",
      "Note: you may need to restart the kernel to use updated packages.\n"
     ]
    }
   ],
   "source": []
  },
  {
   "cell_type": "code",
   "execution_count": 8,
   "metadata": {},
   "outputs": [],
   "source": []
  },
  {
   "cell_type": "code",
   "execution_count": 9,
   "metadata": {},
   "outputs": [],
   "source": [
    "edv = yf.Ticker('EDV')"
   ]
  },
  {
   "cell_type": "code",
   "execution_count": 11,
   "metadata": {},
   "outputs": [
    {
     "data": {
      "text/plain": [
       "{'longBusinessSummary': \"The advisor employs an indexing investment approach designed to track the performance of the Bloomberg U.S. Treasury STRIPS 20-30 Year Equal Par Bond Index. This index includes zero-coupon U.S. Treasury securities (Treasury STRIPS), which are backed by the full faith and credit of the U.S. government, with maturities ranging from 20 to 30 years. The fund invests by sampling the index. At least 80% of it's assets will be invested in U.S. Treasury securities held in the index.\",\n",
       " 'maxAge': 86400,\n",
       " 'priceHint': 2,\n",
       " 'previousClose': 70.05,\n",
       " 'open': 70.05,\n",
       " 'dayLow': 69.53,\n",
       " 'dayHigh': 70.04,\n",
       " 'regularMarketPreviousClose': 70.05,\n",
       " 'regularMarketOpen': 70.05,\n",
       " 'regularMarketDayLow': 69.53,\n",
       " 'regularMarketDayHigh': 70.04,\n",
       " 'volume': 138980,\n",
       " 'regularMarketVolume': 138980,\n",
       " 'averageVolume': 484108,\n",
       " 'averageVolume10days': 515890,\n",
       " 'averageDailyVolume10Day': 515890,\n",
       " 'bid': 69.57,\n",
       " 'ask': 69.63,\n",
       " 'bidSize': 1400,\n",
       " 'askSize': 1800,\n",
       " 'yield': 0.0378,\n",
       " 'totalAssets': 4132737792,\n",
       " 'fiftyTwoWeekLow': 62.3,\n",
       " 'fiftyTwoWeekHigh': 90.72,\n",
       " 'fiftyDayAverage': 74.5638,\n",
       " 'twoHundredDayAverage': 75.17365,\n",
       " 'navPrice': 69.64,\n",
       " 'currency': 'USD',\n",
       " 'category': 'Long Government',\n",
       " 'ytdReturn': -0.1264897,\n",
       " 'beta3Year': 2.9,\n",
       " 'fundFamily': 'Vanguard',\n",
       " 'fundInceptionDate': 1196899200,\n",
       " 'legalType': 'Exchange Traded Fund',\n",
       " 'threeYearAverageReturn': -0.1598779,\n",
       " 'fiveYearAverageReturn': -0.0604959,\n",
       " 'exchange': 'PCX',\n",
       " 'quoteType': 'ETF',\n",
       " 'symbol': 'EDV',\n",
       " 'underlyingSymbol': 'EDV',\n",
       " 'shortName': 'Vanguard Extended Duration Trea',\n",
       " 'longName': 'Vanguard Extended Duration Treasury Index Fund ETF Shares',\n",
       " 'firstTradeDateEpochUtc': 1201617000,\n",
       " 'timeZoneFullName': 'America/New_York',\n",
       " 'timeZoneShortName': 'EDT',\n",
       " 'uuid': '33c266a8-04c2-3bb4-bea5-149e50430302',\n",
       " 'messageBoardId': 'finmb_39505632',\n",
       " 'gmtOffSetMilliseconds': -14400000,\n",
       " 'trailingPegRatio': None}"
      ]
     },
     "execution_count": 11,
     "metadata": {},
     "output_type": "execute_result"
    }
   ],
   "source": [
    "edv.info"
   ]
  },
  {
   "cell_type": "code",
   "execution_count": null,
   "metadata": {},
   "outputs": [],
   "source": []
  }
 ],
 "metadata": {
  "kernelspec": {
   "display_name": "base",
   "language": "python",
   "name": "python3"
  },
  "language_info": {
   "codemirror_mode": {
    "name": "ipython",
    "version": 3
   },
   "file_extension": ".py",
   "mimetype": "text/x-python",
   "name": "python",
   "nbconvert_exporter": "python",
   "pygments_lexer": "ipython3",
   "version": "3.9.19"
  }
 },
 "nbformat": 4,
 "nbformat_minor": 2
}
