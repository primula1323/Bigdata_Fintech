{
 "cells": [
  {
   "cell_type": "markdown",
   "id": "9a453961-a5af-4415-bf39-49d5991c7f1d",
   "metadata": {},
   "source": [
    "# Visualization"
   ]
  },
  {
   "cell_type": "markdown",
   "id": "b1d1349b-e018-43a6-983b-bb5e763c5e46",
   "metadata": {},
   "source": [
    "## 1.1. Introduction"
   ]
  },
  {
   "cell_type": "markdown",
   "id": "5134a331-88ef-431f-bb91-596a60e1f5e2",
   "metadata": {},
   "source": [
    "DS Techniques\n",
    "\n",
    "1. Descriptive Analytics\n",
    "2. Preductive Analytics\n",
    "3. Prescriptive Analystics"
   ]
  },
  {
   "cell_type": "markdown",
   "id": "e0a27e13-1741-4acb-98a0-01bccf2caf2e",
   "metadata": {},
   "source": [
    "Why Visualization?\n",
    "\n",
    "* catch information efficiently\n",
    "* summary statistics 같아도 distribution은 각자 다를 수 있음"
   ]
  },
  {
   "cell_type": "markdown",
   "id": "97d72ea6-b4a6-4f8d-b3d3-3d048f122000",
   "metadata": {},
   "source": [
    "Data-Ink ratio \n",
    "\n",
    "* 배경 색 없애기?\n",
    "* 색을 까맣게 할까 하얗게 할까?\n",
    "* ...\n",
    "\n",
    "절대적 기준 아님. 정보를 무조건 날릴 건 아님..."
   ]
  },
  {
   "cell_type": "markdown",
   "id": "e2564de2-316f-454f-87b6-072cd3aa26a9",
   "metadata": {},
   "source": [
    "Chartjunk\n",
    "\n",
    "3D : 정보 표현에 별로 효과적이지 않음. flat한 게 차라리 나음..."
   ]
  },
  {
   "cell_type": "markdown",
   "id": "e324c178-741c-40a7-829b-81564c62793e",
   "metadata": {},
   "source": [
    "NYT : Visualization 적절히 활용."
   ]
  },
  {
   "cell_type": "markdown",
   "id": "c9b0d4d8-7f30-4168-af26-76d78820d0e4",
   "metadata": {},
   "source": [
    "시각화 관련 사이트\n",
    "\n",
    "..."
   ]
  },
  {
   "cell_type": "markdown",
   "id": "f3250587-fad0-4ff9-aa76-4dfaa80e604f",
   "metadata": {},
   "source": [
    "장식? 별로 필요 없음"
   ]
  },
  {
   "cell_type": "markdown",
   "id": "c57b4326-364b-4fa1-b472-d043d99a5e7e",
   "metadata": {},
   "source": [
    "interactive visulaization : 도움 됨"
   ]
  },
  {
   "cell_type": "markdown",
   "id": "e8344a0a-7c0d-4760-9b9d-ee918b29ed16",
   "metadata": {},
   "source": []
  },
  {
   "cell_type": "markdown",
   "id": "01e163c6-2a7e-4f85-b15f-2d8a2a4d7006",
   "metadata": {},
   "source": [
    "### Bar charts"
   ]
  },
  {
   "cell_type": "markdown",
   "id": "123c7a4c-e3f5-45be-9b72-271fe808a01b",
   "metadata": {},
   "source": [
    "categorical 변수의 정량적 표현"
   ]
  },
  {
   "cell_type": "markdown",
   "id": "d2a8c434-5074-4c2a-868b-44b9b08b5107",
   "metadata": {},
   "source": [
    "### Line charts"
   ]
  },
  {
   "cell_type": "markdown",
   "id": "468f23bc-3e59-468b-b56f-0a6f572acc68",
   "metadata": {},
   "source": [
    "Bar chart를 옮긴 것.\n",
    "\n",
    "변수 간 '관계'를 암시 -> 관계가 없는데 쓰면 misleading!"
   ]
  },
  {
   "cell_type": "markdown",
   "id": "df991532-a043-4ef5-9b01-b779a7050228",
   "metadata": {},
   "source": [
    "시계열 그래프와 친숙.\n",
    "\n",
    "eg. 주식..."
   ]
  },
  {
   "cell_type": "markdown",
   "id": "71ed35c8-216a-45f7-9629-77648b8e5c08",
   "metadata": {},
   "source": [
    "### Pie Charts/도넛"
   ]
  },
  {
   "cell_type": "markdown",
   "id": "bac90cf5-a9aa-47f9-86b3-d3347c24e99f",
   "metadata": {},
   "source": [
    "쓰지 마세요... 크기 비교하기 어려움.\n",
    "\n",
    "카테고리 여러 개 되면 특히 더 그렇습니다."
   ]
  },
  {
   "cell_type": "markdown",
   "id": "2f0ed7f2-a442-4fa8-b6ad-afac014f1a70",
   "metadata": {},
   "source": [
    "쓰는 이유? '해당 카테고리 대표'를 시각화하기 그나마 편리."
   ]
  },
  {
   "cell_type": "markdown",
   "id": "ce76c21f-c754-45a8-978a-882caf783dee",
   "metadata": {},
   "source": [
    "### Scatterplot"
   ]
  },
  {
   "cell_type": "markdown",
   "id": "25a3300b-1afb-4dec-8f4a-894e5109c7e5",
   "metadata": {},
   "source": [
    "두 숫자형 변수 사이의 관계 표현"
   ]
  },
  {
   "cell_type": "code",
   "execution_count": null,
   "id": "c5d5c8d9-7a12-45d2-a27b-05e0aad39e07",
   "metadata": {},
   "outputs": [],
   "source": []
  },
  {
   "cell_type": "markdown",
   "id": "e9c4a5d6-4884-4fb1-aa55-21f04a7c54a1",
   "metadata": {},
   "source": [
    "### Hitmap"
   ]
  },
  {
   "cell_type": "markdown",
   "id": "77ec4b08-0a9d-448a-8940-4720a8d07035",
   "metadata": {},
   "source": [
    "Scatterplot에서 구간별로 점의 수 센 것."
   ]
  },
  {
   "cell_type": "markdown",
   "id": "6abbcac8-6566-49fc-bd30-1553e3ad1a5a",
   "metadata": {},
   "source": [
    "### Treemap"
   ]
  },
  {
   "cell_type": "markdown",
   "id": "4bfbd3c2-d10e-465e-ac8d-696e1f0df21e",
   "metadata": {},
   "source": [
    "포함 관계 자료구조 시각화"
   ]
  },
  {
   "cell_type": "markdown",
   "id": "9a306fcf-082a-4dbc-be48-86d7f373d8b9",
   "metadata": {},
   "source": [
    "eg. 코스피 전체 사각형 -> 삼성전자, SK하이닉스, ... -> 올리면 빨강 내리면 파랑"
   ]
  },
  {
   "cell_type": "markdown",
   "id": "7de9574f-24eb-44c7-b341-e85d27d5334b",
   "metadata": {},
   "source": [
    "### Geographic "
   ]
  },
  {
   "cell_type": "code",
   "execution_count": null,
   "id": "9148c8c3-0c70-4a08-a27f-200146fbbfcc",
   "metadata": {},
   "outputs": [],
   "source": []
  },
  {
   "cell_type": "markdown",
   "id": "1f260167-bef6-44b4-a401-52f728b29474",
   "metadata": {},
   "source": [
    "### Network Graph"
   ]
  },
  {
   "cell_type": "markdown",
   "id": "31178eba-1853-484f-94f5-91656ddb17a0",
   "metadata": {},
   "source": [
    "점들 사이의 이어진 관계 표현."
   ]
  },
  {
   "cell_type": "code",
   "execution_count": null,
   "id": "51ce6160-4b6e-49d0-8282-ef6640ccbefc",
   "metadata": {},
   "outputs": [],
   "source": []
  },
  {
   "cell_type": "markdown",
   "id": "631beaf7-c44c-4b44-9990-61bccd904ba1",
   "metadata": {},
   "source": [
    "## The Grammar of Graphics"
   ]
  },
  {
   "cell_type": "markdown",
   "id": "115c1749-fc98-4551-9be3-c3c242eda401",
   "metadata": {},
   "source": [
    "visualization : 문법을 따라 데이터를 변환시켜 나온 결과물"
   ]
  },
  {
   "cell_type": "markdown",
   "id": "e26592c5-0522-4773-8249-b7abf8dfe706",
   "metadata": {},
   "source": [
    "* Data\n",
    "* Aesthetics : 어떤 변수를 어디 mapping?\n",
    "* Geometries : data + aes를 결합할 때 어떤 도형 사용? point, line, bar, ...\n",
    "* Scales\n",
    "* Coordinate system\n",
    "* Facets\n",
    "* Statistics"
   ]
  },
  {
   "cell_type": "markdown",
   "id": "4885f382-17da-46d4-bbaf-b9f829ebd486",
   "metadata": {},
   "source": [
    "현재 시각화 패키지 : 대부분 해당 개념에 기반"
   ]
  },
  {
   "cell_type": "code",
   "execution_count": null,
   "id": "76d9ffa9-2cb5-49bb-b7ca-09ca51240493",
   "metadata": {},
   "outputs": [],
   "source": []
  }
 ],
 "metadata": {
  "kernelspec": {
   "display_name": "Python 3 (ipykernel)",
   "language": "python",
   "name": "python3"
  },
  "language_info": {
   "codemirror_mode": {
    "name": "ipython",
    "version": 3
   },
   "file_extension": ".py",
   "mimetype": "text/x-python",
   "name": "python",
   "nbconvert_exporter": "python",
   "pygments_lexer": "ipython3",
   "version": "3.11.7"
  }
 },
 "nbformat": 4,
 "nbformat_minor": 5
}
