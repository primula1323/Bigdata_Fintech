{
 "cells": [
  {
   "cell_type": "markdown",
   "id": "98a54fa3",
   "metadata": {},
   "source": [
    "# 혜안 불러오기"
   ]
  },
  {
   "cell_type": "code",
   "execution_count": 1,
   "id": "2528ac85",
   "metadata": {
    "tags": []
   },
   "outputs": [],
   "source": [
    "import heaan\n",
    "#import piheaan as heaan\n",
    "#from piheaan.math import approx"
   ]
  },
  {
   "cell_type": "markdown",
   "id": "ebfba5b3",
   "metadata": {},
   "source": [
    "# 파라미터 설정"
   ]
  },
  {
   "cell_type": "code",
   "execution_count": 2,
   "id": "83b86368",
   "metadata": {
    "tags": []
   },
   "outputs": [],
   "source": [
    "params = heaan.ParameterPreset.FX      # FX : heaan 실습용 parameter\n",
    "context = heaan.make_context(params)   # context: 만들어진 동형암호 체계에 필요한 키, 연산 등을 위한 도구"
   ]
  },
  {
   "cell_type": "markdown",
   "id": "f7e09e9c",
   "metadata": {},
   "source": [
    "# 키(비밀키, 공개키) 생성"
   ]
  },
  {
   "cell_type": "code",
   "execution_count": 3,
   "id": "186c13f4",
   "metadata": {
    "tags": []
   },
   "outputs": [],
   "source": [
    "key_dir_path=\"./key_new\"\n",
    "secret_key = heaan.SecretKey(context)\n",
    "secret_key.save(\"./secret_key.bin\")\n",
    "key_generator = heaan.KeyGenerator(context, secret_key)\n",
    "key_generator.gen_common_keys()      # 공개키(암호화), 곱셈, 컨쥬게이션, 로테이션, 부트스트랩키\n",
    "key_generator.save(key_dir_path)\n",
    "public_key = key_generator.keypack"
   ]
  },
  {
   "cell_type": "code",
   "execution_count": 4,
   "id": "9b37107e",
   "metadata": {
    "tags": []
   },
   "outputs": [
    {
     "data": {
      "text/plain": [
       "<heaan.SecretKey at 0x7f4040bcd730>"
      ]
     },
     "execution_count": 4,
     "metadata": {},
     "output_type": "execute_result"
    }
   ],
   "source": [
    "secret_key"
   ]
  },
  {
   "cell_type": "code",
   "execution_count": 5,
   "id": "022a1e20",
   "metadata": {
    "tags": []
   },
   "outputs": [
    {
     "data": {
      "text/plain": [
       "<heaan.KeyPack at 0x7f404031ea70>"
      ]
     },
     "execution_count": 5,
     "metadata": {},
     "output_type": "execute_result"
    }
   ],
   "source": [
    "public_key"
   ]
  },
  {
   "cell_type": "markdown",
   "id": "304dca17",
   "metadata": {},
   "source": [
    "# 메시지 준비"
   ]
  },
  {
   "cell_type": "code",
   "execution_count": 6,
   "id": "fdf98df0",
   "metadata": {
    "tags": []
   },
   "outputs": [
    {
     "name": "stdout",
     "output_type": "stream",
     "text": [
      "\n",
      "message : <heaan.Message object> (log(num slots): 5, device: CPU, data: [ (0.000000+0.000000j), (1.000000+0.000000j), (2.000000+0.000000j), (3.000000+0.000000j), (4.000000+0.000000j), ..., (27.000000+0.000000j), (28.000000+0.000000j), (29.000000+0.000000j), (30.000000+0.000000j), (31.000000+0.000000j) ])\n"
     ]
    }
   ],
   "source": [
    "log_slots= heaan.get_log_full_slots(context)\n",
    "num_slots = 2**log_slots                            # 2**5 = 32\n",
    "\n",
    "data = [i for i in range(num_slots)]\n",
    "\n",
    "message = heaan.Message(log_slots)\n",
    "\n",
    "for i in range(num_slots):\n",
    "    message[i] = data[i]\n",
    "\n",
    "#print('data:', data)\n",
    "print()\n",
    "print('message :', message)"
   ]
  },
  {
   "cell_type": "markdown",
   "id": "f9dc54ba",
   "metadata": {},
   "source": [
    "# 암호화"
   ]
  },
  {
   "cell_type": "code",
   "execution_count": 7,
   "id": "acf5a756",
   "metadata": {
    "tags": []
   },
   "outputs": [
    {
     "data": {
      "text/plain": [
       "<heaan.Ciphertext object> (level: 12, log(num slots): 5, rescale counter: 0, device: CPU, data: ax = (176901138746419131, 243817890603715929, 249648776515780749, ...), bx = (53386409490807211, 34281871057315081, 20784868182519437, ...)\n",
       ")"
      ]
     },
     "execution_count": 7,
     "metadata": {},
     "output_type": "execute_result"
    }
   ],
   "source": [
    "encryptor = heaan.Encryptor(context)\n",
    "ciphertext = heaan.Ciphertext(context)\n",
    "encryptor.encrypt(message, public_key, ciphertext)\n",
    "ciphertext"
   ]
  },
  {
   "cell_type": "markdown",
   "id": "64d5bc98",
   "metadata": {},
   "source": [
    "# 복호화"
   ]
  },
  {
   "cell_type": "code",
   "execution_count": 8,
   "id": "289a3b29",
   "metadata": {
    "tags": []
   },
   "outputs": [
    {
     "name": "stdout",
     "output_type": "stream",
     "text": [
      "<heaan.Message object> (log(num slots): 5, device: CPU, data: [ (0.000000-0.000000j), (1.000000+0.000000j), (2.000000+0.000000j), (3.000000+0.000000j), (4.000000-0.000000j), ..., (27.000000+0.000000j), (28.000000+0.000000j), (29.000000-0.000000j), (30.000000-0.000000j), (31.000000+0.000000j) ])\n"
     ]
    }
   ],
   "source": [
    "decryptor = heaan.Decryptor(context)\n",
    "#plaintext = heaan.Plaintext(context)\n",
    "#decryptor.decrypt(ciphertext, secret_key,plaintext)\n",
    "decryptor.decrypt(ciphertext, secret_key, message)\n",
    "print(message)"
   ]
  },
  {
   "cell_type": "markdown",
   "id": "a532bf85",
   "metadata": {},
   "source": [
    "# Encode"
   ]
  },
  {
   "cell_type": "code",
   "execution_count": 9,
   "id": "d0c990c0",
   "metadata": {
    "tags": []
   },
   "outputs": [
    {
     "data": {
      "text/plain": [
       "<heaan.Plaintext object> (level: 12, log(num slots): 5, rescale counter: 0, device: CPU, data: mx = (155980243334934706, 4426702557230988, 285215265351873063, ...)\n",
       ")"
      ]
     },
     "execution_count": 9,
     "metadata": {},
     "output_type": "execute_result"
    }
   ],
   "source": [
    "# 1. encode(self: piheaan.EnDecoder, msg: piheaan.Message, level: int) -> piheaan.Plaintext\n",
    "# 2. encode(self: piheaan.EnDecoder, msg: piheaan.Message) -> piheaan.Plaintext\n",
    "\n",
    "endecoder = heaan.EnDecoder(context)\n",
    "ptxt = endecoder.encode(message)\n",
    "ptxt\n",
    "\n",
    "#encryptor.encrypt(ptxt,public_key, ciphertext)\n",
    "#ciphertext"
   ]
  },
  {
   "cell_type": "markdown",
   "id": "91cdb406",
   "metadata": {},
   "source": [
    "# Decode"
   ]
  },
  {
   "cell_type": "code",
   "execution_count": 10,
   "id": "2ab222c0",
   "metadata": {
    "tags": []
   },
   "outputs": [
    {
     "name": "stdout",
     "output_type": "stream",
     "text": [
      "디코딩된 데이터 : <heaan.Message object> (log(num slots): 5, device: CPU, data: [ (0.000000-0.000000j), (1.000000+0.000000j), (2.000000+0.000000j), (3.000000+0.000000j), (4.000000-0.000000j), ..., (27.000000+0.000000j), (28.000000+0.000000j), (29.000000-0.000000j), (30.000000-0.000000j), (31.000000+0.000000j) ])\n"
     ]
    }
   ],
   "source": [
    "# decode(self: piheaan.EnDecoder, ptxt: piheaan.Plaintext) -> piheaan.Message\n",
    "message_decode = endecoder.decode(ptxt)\n",
    "\n",
    "\n",
    "print('디코딩된 데이터 :', message_decode)"
   ]
  },
  {
   "cell_type": "markdown",
   "id": "68ac5954",
   "metadata": {},
   "source": [
    "# 덧셈, 뺄셈, 곱셈"
   ]
  },
  {
   "cell_type": "markdown",
   "id": "6c034900",
   "metadata": {},
   "source": [
    "메시지 준비"
   ]
  },
  {
   "cell_type": "code",
   "execution_count": 11,
   "id": "9c6341f1",
   "metadata": {
    "tags": []
   },
   "outputs": [],
   "source": [
    "#pip install numpy"
   ]
  },
  {
   "cell_type": "code",
   "execution_count": 12,
   "id": "03f574ad",
   "metadata": {
    "tags": []
   },
   "outputs": [],
   "source": [
    "import numpy as np\n",
    "\n",
    "#log_slots = 7\n",
    "#num_slots = 2 ** log_slots  \n",
    "# num_slots = 2**7 = 128\n",
    "\n",
    "data1 = np.random.uniform(size = num_slots)\n",
    "data2 = np.random.uniform(size = num_slots)"
   ]
  },
  {
   "cell_type": "code",
   "execution_count": 13,
   "id": "a6e8c896",
   "metadata": {
    "tags": []
   },
   "outputs": [
    {
     "name": "stdout",
     "output_type": "stream",
     "text": [
      "[0.92288416 0.57881798 0.14800398 0.58146911 0.74211621 0.54564242\n",
      " 0.47070815 0.40434411 0.3960774  0.38700724 0.79947053 0.62474375\n",
      " 0.83538989 0.52041192 0.856673   0.88937914 0.93775481 0.30380506\n",
      " 0.92767282 0.46910609 0.74225233 0.48537255 0.77904238 0.27009411\n",
      " 0.02707733 0.32474677 0.74902795 0.0240677  0.33178857 0.94043314\n",
      " 0.714096   0.30651559]\n"
     ]
    }
   ],
   "source": [
    "print(data1)"
   ]
  },
  {
   "cell_type": "code",
   "execution_count": 14,
   "id": "32467954",
   "metadata": {
    "tags": []
   },
   "outputs": [
    {
     "name": "stdout",
     "output_type": "stream",
     "text": [
      "[0.11493175 0.2013201  0.07053091 0.9308139  0.81668624 0.5366673\n",
      " 0.15223972 0.27475477 0.90843564 0.38114946 0.38450876 0.27844598\n",
      " 0.93012629 0.08572909 0.96293522 0.10227011 0.76386776 0.53706015\n",
      " 0.38908775 0.03600826 0.7365075  0.11436961 0.95326873 0.1143827\n",
      " 0.34578648 0.22673296 0.42968818 0.63289992 0.05420235 0.08611398\n",
      " 0.75231823 0.38207737]\n"
     ]
    }
   ],
   "source": [
    "print(data2)"
   ]
  },
  {
   "cell_type": "code",
   "execution_count": 15,
   "id": "b8d85a4d",
   "metadata": {
    "tags": []
   },
   "outputs": [
    {
     "name": "stdout",
     "output_type": "stream",
     "text": [
      "message_1 : <heaan.Message object> (log(num slots): 5, device: CPU, data: [ (0.922884+0.000000j), (0.578818+0.000000j), (0.148004+0.000000j), (0.581469+0.000000j), (0.742116+0.000000j), ..., (0.024068+0.000000j), (0.331789+0.000000j), (0.940433+0.000000j), (0.714096+0.000000j), (0.306516+0.000000j) ])\n",
      "\n",
      "message_2 :  <heaan.Message object> (log(num slots): 5, device: CPU, data: [ (0.114932+0.000000j), (0.201320+0.000000j), (0.070531+0.000000j), (0.930814+0.000000j), (0.816686+0.000000j), ..., (0.632900+0.000000j), (0.054202+0.000000j), (0.086114+0.000000j), (0.752318+0.000000j), (0.382077+0.000000j) ])\n"
     ]
    }
   ],
   "source": [
    "message_1 = heaan.Message(log_slots)\n",
    "message_2 = heaan.Message(log_slots)\n",
    "for i in range(num_slots):\n",
    "    message_1[i]=data1[i]\n",
    "    message_2[i]=data2[i]\n",
    "\n",
    "print('message_1 :', message_1)\n",
    "print()\n",
    "print('message_2 : ', message_2)"
   ]
  },
  {
   "cell_type": "markdown",
   "id": "dfb21664",
   "metadata": {},
   "source": [
    "동일한 공개키로 암호화"
   ]
  },
  {
   "cell_type": "code",
   "execution_count": 16,
   "id": "e45179f4",
   "metadata": {
    "tags": []
   },
   "outputs": [],
   "source": [
    "encryptor = heaan.Encryptor(context)\n",
    "ciphertext_1 = heaan.Ciphertext(context)\n",
    "ciphertext_2 = heaan.Ciphertext(context)\n",
    "encryptor.encrypt(message_1, public_key, ciphertext_1)\n",
    "encryptor.encrypt(message_2, public_key, ciphertext_2)\n",
    "#print(ciphertext_1)"
   ]
  },
  {
   "cell_type": "markdown",
   "id": "0ba3491f",
   "metadata": {},
   "source": [
    "암호문 동형연산(덧셈/스칼라 덧셈, 뺄셈, 곱셈/스칼라 곱셈/리스케일 없는 곱셈)"
   ]
  },
  {
   "cell_type": "code",
   "execution_count": 17,
   "id": "ad83abff",
   "metadata": {
    "tags": []
   },
   "outputs": [],
   "source": [
    "#help(heaan.HomEvaluator)\n",
    "#help(heaan.Ciphertext)"
   ]
  },
  {
   "cell_type": "code",
   "execution_count": 18,
   "id": "a8b56f31",
   "metadata": {
    "tags": []
   },
   "outputs": [],
   "source": [
    "evaluator = heaan.HomEvaluator(context, public_key)\n",
    "ciphertext_out_add = heaan.Ciphertext(context)\n",
    "ciphertext_out_sub = heaan.Ciphertext(context)\n",
    "ciphertext_out_mult = heaan.Ciphertext(context)\n",
    "\n",
    "evaluator.add(ciphertext_1, ciphertext_2, ciphertext_out_add)\n",
    "evaluator.sub(ciphertext_1, ciphertext_2, ciphertext_out_sub)\n",
    "evaluator.mult(ciphertext_1, ciphertext_2, ciphertext_out_mult)\n",
    "\n",
    "ciphertext_out_scalar_add = heaan.Ciphertext(context)\n",
    "ciphertext_out_scalar_mult = heaan.Ciphertext(context)\n",
    "\n",
    "add_scalar = 1/13\n",
    "evaluator.add(ciphertext_1, add_scalar, ciphertext_out_scalar_add)\n",
    "\n",
    "mult_scalar = 1/17\n",
    "evaluator.mult(ciphertext_1, mult_scalar, ciphertext_out_scalar_mult)"
   ]
  },
  {
   "cell_type": "markdown",
   "id": "f5fac491",
   "metadata": {},
   "source": [
    "동형연산 결과 복호화"
   ]
  },
  {
   "cell_type": "code",
   "execution_count": 19,
   "id": "d5b853e8",
   "metadata": {
    "tags": []
   },
   "outputs": [],
   "source": [
    "decryptor = heaan.Decryptor(context)\n",
    "message_out_add = heaan.Message(log_slots)\n",
    "message_out_sub = heaan.Message(log_slots)\n",
    "message_out_mult = heaan.Message(log_slots)\n",
    "\n",
    "message_out_scalar_add = heaan.Message(log_slots)\n",
    "message_out_scalar_mult = heaan.Message(log_slots)\n",
    "\n",
    "decryptor.decrypt(ciphertext_out_add, secret_key, message_out_add)\n",
    "decryptor.decrypt(ciphertext_out_sub, secret_key, message_out_sub)\n",
    "decryptor.decrypt(ciphertext_out_mult, secret_key, message_out_mult)\n",
    "\n",
    "decryptor.decrypt(ciphertext_out_scalar_add, secret_key, message_out_scalar_add) \n",
    "decryptor.decrypt(ciphertext_out_scalar_mult, secret_key, message_out_scalar_mult)              "
   ]
  },
  {
   "cell_type": "code",
   "execution_count": 20,
   "id": "caba94c6",
   "metadata": {
    "tags": []
   },
   "outputs": [
    {
     "name": "stdout",
     "output_type": "stream",
     "text": [
      "<heaan.Message object> (log(num slots): 5, device: CPU, data: [ (1.037816-0.000000j), (0.780138-0.000000j), (0.218535+0.000000j), (1.512283-0.000000j), (1.558802-0.000000j), ..., (0.656968-0.000000j), (0.385991+0.000000j), (1.026547+0.000000j), (1.466414-0.000000j), (0.688593-0.000000j) ])\n"
     ]
    }
   ],
   "source": [
    "print(message_out_add)"
   ]
  },
  {
   "cell_type": "code",
   "execution_count": 21,
   "id": "c7561990",
   "metadata": {
    "tags": []
   },
   "outputs": [
    {
     "name": "stdout",
     "output_type": "stream",
     "text": [
      "<heaan.Message object> (log(num slots): 5, device: CPU, data: [ (0.807952-0.000000j), (0.377498-0.000000j), (0.077473-0.000000j), (-0.349345+0.000000j), (-0.074570-0.000000j), ..., (-0.608832-0.000000j), (0.277586+0.000000j), (0.854319-0.000000j), (-0.038222+0.000000j), (-0.075562-0.000000j) ])\n"
     ]
    }
   ],
   "source": [
    "print(message_out_sub)"
   ]
  },
  {
   "cell_type": "code",
   "execution_count": 22,
   "id": "749a63a8",
   "metadata": {
    "tags": []
   },
   "outputs": [
    {
     "name": "stdout",
     "output_type": "stream",
     "text": [
      "<heaan.Message object> (log(num slots): 5, device: CPU, data: [ (0.106069-0.000000j), (0.116528+0.000000j), (0.010439+0.000000j), (0.541240-0.000000j), (0.606076-0.000000j), ..., (0.015232-0.000000j), (0.017984-0.000000j), (0.080984+0.000000j), (0.537227-0.000000j), (0.117113-0.000000j) ])\n"
     ]
    }
   ],
   "source": [
    "print(message_out_mult)"
   ]
  },
  {
   "cell_type": "code",
   "execution_count": 23,
   "id": "9f905cc2",
   "metadata": {
    "tags": []
   },
   "outputs": [
    {
     "name": "stdout",
     "output_type": "stream",
     "text": [
      "<heaan.Message object> (log(num slots): 5, device: CPU, data: [ (0.999807-0.000000j), (0.655741-0.000000j), (0.224927-0.000000j), (0.658392+0.000000j), (0.819039-0.000000j), ..., (0.100991-0.000000j), (0.408712+0.000000j), (1.017356-0.000000j), (0.791019-0.000000j), (0.383439-0.000000j) ])\n"
     ]
    }
   ],
   "source": [
    "print(message_out_scalar_add)"
   ]
  },
  {
   "cell_type": "code",
   "execution_count": 24,
   "id": "6b5d5d95",
   "metadata": {
    "tags": []
   },
   "outputs": [
    {
     "name": "stdout",
     "output_type": "stream",
     "text": [
      "<heaan.Message object> (log(num slots): 5, device: CPU, data: [ (0.054287-0.000000j), (0.034048-0.000000j), (0.008706-0.000000j), (0.034204-0.000000j), (0.043654-0.000000j), ..., (0.001416-0.000000j), (0.019517+0.000000j), (0.055320-0.000000j), (0.042006-0.000000j), (0.018030+0.000000j) ])\n"
     ]
    }
   ],
   "source": [
    "print(message_out_scalar_mult)"
   ]
  },
  {
   "cell_type": "markdown",
   "id": "07a7f59f",
   "metadata": {},
   "source": [
    "# Application\n",
    "\n",
    "polynomial\n",
    "\n",
    "$3x^3-2x^2+x-1$"
   ]
  },
  {
   "cell_type": "code",
   "execution_count": 25,
   "id": "944671b6",
   "metadata": {
    "tags": []
   },
   "outputs": [
    {
     "name": "stdout",
     "output_type": "stream",
     "text": [
      "        0\n",
      "0      -1\n",
      "1       1\n",
      "2      17\n",
      "3      65\n",
      "4     163\n",
      "5     329\n",
      "6     581\n",
      "7     937\n",
      "8    1415\n",
      "9    2033\n",
      "10   2809\n",
      "11   3761\n",
      "12   4907\n",
      "13   6265\n",
      "14   7853\n",
      "15   9689\n",
      "16  11791\n",
      "17  14177\n",
      "18  16865\n",
      "19  19873\n",
      "20  23219\n",
      "21  26921\n",
      "22  30997\n",
      "23  35465\n",
      "24  40343\n",
      "25  45649\n",
      "26  51401\n",
      "27  57617\n",
      "28  64315\n",
      "29  71513\n",
      "30  79229\n",
      "31  87481\n"
     ]
    }
   ],
   "source": [
    "import pandas as pd\n",
    "\n",
    "df = pd.DataFrame(data)\n",
    "df_cal=3*(df**3)-2*(df**2)+df-1\n",
    "print(df_cal)"
   ]
  },
  {
   "cell_type": "code",
   "execution_count": 26,
   "id": "60916d84",
   "metadata": {
    "tags": []
   },
   "outputs": [],
   "source": [
    "#help(pd.DataFrame)"
   ]
  },
  {
   "cell_type": "code",
   "execution_count": 27,
   "id": "869dc6e9",
   "metadata": {
    "tags": []
   },
   "outputs": [
    {
     "name": "stdout",
     "output_type": "stream",
     "text": [
      "<heaan.Message object> (log(num slots): 5, device: CPU, data: [ (0.000000+0.000000j), (1.000000+0.000000j), (2.000000+0.000000j), (3.000000+0.000000j), (4.000000+0.000000j), ..., (27.000000+0.000000j), (28.000000+0.000000j), (29.000000+0.000000j), (30.000000+0.000000j), (31.000000+0.000000j) ])\n"
     ]
    }
   ],
   "source": [
    "message_3 = heaan.Message(log_slots)\n",
    "for i in range(num_slots):\n",
    "    message_3[i] = data[i]\n",
    "\n",
    "print(message_3)"
   ]
  },
  {
   "cell_type": "code",
   "execution_count": 28,
   "id": "d0100595",
   "metadata": {
    "tags": []
   },
   "outputs": [],
   "source": [
    "ciphertext_3 = heaan.Ciphertext(context) \n",
    "encryptor.encrypt(message_3, public_key, ciphertext_3) # x\n",
    "\n",
    "ciphertext_tmp_2 = heaan.Ciphertext(context)\n",
    "ciphertext_tmp_22 = heaan.Ciphertext(context)\n",
    "ciphertext_tmp_3 = heaan.Ciphertext(context)\n",
    "ciphertext_tmp_33 = heaan.Ciphertext(context)"
   ]
  },
  {
   "cell_type": "code",
   "execution_count": 29,
   "id": "cea3f361",
   "metadata": {
    "tags": []
   },
   "outputs": [
    {
     "name": "stdout",
     "output_type": "stream",
     "text": [
      "<heaan.Message object> (log(num slots): 5, device: CPU, data: [ (-1.000000+0.000000j), (1.000000-0.000000j), (17.000000+0.000000j), (65.000000-0.000000j), (163.000000+0.000000j), ..., (57617.000000+0.000000j), (64315.000000-0.000000j), (71513.000000-0.000000j), (79229.000000+0.000000j), (87481.000000+0.000000j) ])\n"
     ]
    }
   ],
   "source": [
    "evaluator.mult(ciphertext_3, ciphertext_3, ciphertext_tmp_2) # x^2\n",
    "scalar_2 = 2\n",
    "evaluator.mult(ciphertext_tmp_2, scalar_2, ciphertext_tmp_22) # 2 x^2\n",
    "\n",
    "evaluator.mult(ciphertext_tmp_2, ciphertext_3, ciphertext_tmp_3) # x^3\n",
    "scalar_3 = 3\n",
    "evaluator.mult(ciphertext_tmp_3, scalar_3, ciphertext_tmp_33) # 3 x^3\n",
    "\n",
    "ciphertext_tmp_poly = heaan.Ciphertext(context)\n",
    "evaluator.sub(ciphertext_tmp_33, ciphertext_tmp_22, ciphertext_tmp_poly) # 3 x^3 - 2 x^2\n",
    "evaluator.add(ciphertext_tmp_poly, ciphertext_3, ciphertext_tmp_poly) # 3 x^3 - 2 x^2 + x\n",
    "\n",
    "scalar_1 = 1\n",
    "evaluator.sub(ciphertext_tmp_poly, scalar_1, ciphertext_tmp_poly) # 3 x^3 - 2 x^2 + x - 1\n",
    "\n",
    "decryptor = heaan.Decryptor(context)\n",
    "message_result = heaan.Message()\n",
    "decryptor.decrypt(ciphertext_tmp_poly, secret_key, message_result)\n",
    "\n",
    "print(message_result)"
   ]
  },
  {
   "cell_type": "markdown",
   "id": "bf62a5af",
   "metadata": {},
   "source": [
    "# 로테이션"
   ]
  },
  {
   "cell_type": "code",
   "execution_count": 30,
   "id": "7b3174ea",
   "metadata": {
    "tags": []
   },
   "outputs": [
    {
     "name": "stdout",
     "output_type": "stream",
     "text": [
      "Help on instancemethod in module heaan:\n",
      "\n",
      "left_rotate(...)\n",
      "    left_rotate(*args, **kwargs)\n",
      "    Overloaded function.\n",
      "    \n",
      "    1. left_rotate(self: heaan.HomEvaluator, op: heaan.Message, rot_idx: int, res: heaan.Message) -> None\n",
      "    \n",
      "    2. left_rotate(self: heaan.HomEvaluator, op: heaan.Plaintext, rot_idx: int, res: heaan.Plaintext) -> None\n",
      "    \n",
      "    3. left_rotate(self: heaan.HomEvaluator, op: heaan.Ciphertext, rot_idx: int, res: heaan.Ciphertext) -> None\n",
      "\n"
     ]
    }
   ],
   "source": [
    "help(heaan.HomEvaluator.left_rotate)"
   ]
  },
  {
   "cell_type": "code",
   "execution_count": 31,
   "id": "b8973cfe",
   "metadata": {
    "scrolled": true,
    "tags": []
   },
   "outputs": [
    {
     "name": "stdout",
     "output_type": "stream",
     "text": [
      "평문 로테이션 :  <heaan.Message object> (log(num slots): 5, device: CPU, data: [ (0.000000+0.000000j), (0.000000+0.000000j), (0.000000+0.000000j), (0.000000+0.000000j), (0.000000+0.000000j), ..., (0.000000+0.000000j), (0.000000+0.000000j), (0.000000+0.000000j), (0.000000+0.000000j), (0.000000+0.000000j) ])\n",
      "\n",
      "left 로테이션 : <heaan.Message object> (log(num slots): 5, device: CPU, data: [ (2.000000+0.000000j), (3.000000+0.000000j), (4.000000-0.000000j), (5.000000-0.000000j), (6.000000+0.000000j), ..., (29.000000-0.000000j), (30.000000-0.000000j), (31.000000+0.000000j), (0.000000-0.000000j), (1.000000-0.000000j) ])\n",
      "\n",
      "right 로테이션 : <heaan.Message object> (log(num slots): 5, device: CPU, data: [ (19.000000+0.000000j), (20.000000+0.000000j), (21.000000+0.000000j), (22.000000-0.000000j), (23.000000-0.000000j), ..., (14.000000-0.000000j), (15.000000+0.000000j), (16.000000-0.000000j), (17.000000-0.000000j), (18.000000-0.000000j) ])\n"
     ]
    }
   ],
   "source": [
    "message_left_rotate = heaan.Message(log_slots)\n",
    "ciphertext_left_rotate = heaan.Ciphertext(context)\n",
    "evaluator.left_rotate(ciphertext, 2**1, ciphertext_left_rotate)\n",
    "\n",
    "message_out_left_rotate = heaan.Message(log_slots)\n",
    "decryptor.decrypt(ciphertext_left_rotate, secret_key, message_out_left_rotate)\n",
    "\n",
    "print('평문 로테이션 : ', message_left_rotate)\n",
    "print()\n",
    "print('left 로테이션 :', message_out_left_rotate)\n",
    "print()\n",
    "\n",
    "\n",
    "ciphertext_right_rotate = heaan.Ciphertext(context)\n",
    "key_generator.gen_right_rot_key(13)     # gen_common_keys() 명령으로는 2^* 로테이션키만 생성 \n",
    "evaluator.right_rotate(ciphertext, 13, ciphertext_right_rotate)\n",
    "\n",
    "message_out_right_rotate = heaan.Message(log_slots)\n",
    "\n",
    "decryptor.decrypt(ciphertext_right_rotate, secret_key, message_out_right_rotate)\n",
    "print('right 로테이션 :', message_out_right_rotate)"
   ]
  },
  {
   "cell_type": "markdown",
   "id": "669871ab",
   "metadata": {},
   "source": [
    "# 평균"
   ]
  },
  {
   "cell_type": "code",
   "execution_count": 32,
   "id": "601a1327",
   "metadata": {
    "tags": []
   },
   "outputs": [
    {
     "name": "stdout",
     "output_type": "stream",
     "text": [
      "data_3 [0, 1, 2, 3, 4, 5, 6, 7, 8, 9, 10, 11, 12, 13, 14, 15, 16, 17, 18, 19, 20, 21, 22, 23, 24, 25, 26, 27, 28, 29, 30, 31]\n",
      "\n",
      "message_3 :  <heaan.Message object> (log(num slots): 5, device: CPU, data: [ (0.000000+0.000000j), (1.000000+0.000000j), (2.000000+0.000000j), (3.000000+0.000000j), (4.000000+0.000000j), ..., (27.000000+0.000000j), (28.000000+0.000000j), (29.000000+0.000000j), (30.000000+0.000000j), (31.000000+0.000000j) ])\n",
      "\n",
      "message_out_avg :  <heaan.Message object> (log(num slots): 5, device: CPU, data: [ (15.500000-0.000000j), (15.500000-0.000000j), (15.500000-0.000000j), (15.500000-0.000000j), (15.500000-0.000000j), ..., (15.500000-0.000000j), (15.500000-0.000000j), (15.500000-0.000000j), (15.500000-0.000000j), (15.500000-0.000000j) ])\n"
     ]
    }
   ],
   "source": [
    "import numpy as np\n",
    "#import math\n",
    "\n",
    "log_slots = 5\n",
    "num_slots = 2 ** log_slots  #num_slots = 2**7 = 128\n",
    "\n",
    "#data_3 = np.random.uniform(size=2**7)\n",
    "data_3 = [i for i in range(num_slots)]\n",
    "\n",
    "#for i in range(num_slots):\n",
    "#    data_3[i] = data_3[i]+1\n",
    "    \n",
    "    \n",
    "print('data_3', data_3)\n",
    "print()\n",
    "\n",
    "message_3 = heaan.Message(log_slots)\n",
    "\n",
    "for i in range(num_slots):\n",
    "    message_3[i]=data_3[i]\n",
    "\n",
    "print('message_3 : ', message_3)\n",
    "print()\n",
    "    \n",
    "encryptor = heaan.Encryptor(context)\n",
    "ciphertext_3 = heaan.Ciphertext(context)\n",
    "encryptor.encrypt(message_3, public_key, ciphertext_3)\n",
    "\n",
    "for i in range(log_slots):\n",
    "    ciphertext_tmp = heaan.Ciphertext(context)\n",
    "    evaluator.left_rotate(ciphertext_3, 2**i, ciphertext_tmp)\n",
    "    evaluator.add(ciphertext_3, ciphertext_tmp, ciphertext_3)\n",
    "    \n",
    "ciphertext_avg = heaan.Ciphertext(context)\n",
    "evaluator.mult(ciphertext_3, 1/num_slots, ciphertext_avg)\n",
    "\n",
    "message_out_avg = heaan.Message(log_slots)\n",
    "decryptor.decrypt(ciphertext_avg, secret_key, message_out_avg)\n",
    "print('message_out_avg : ', message_out_avg)\n"
   ]
  },
  {
   "cell_type": "code",
   "execution_count": null,
   "id": "7c5e9bff",
   "metadata": {},
   "outputs": [],
   "source": []
  },
  {
   "cell_type": "code",
   "execution_count": null,
   "id": "5bddc276",
   "metadata": {},
   "outputs": [],
   "source": []
  }
 ],
 "metadata": {
  "kernelspec": {
   "display_name": "HEaaN.stat-v0.2.0",
   "language": "python",
   "name": "python3"
  },
  "language_info": {
   "codemirror_mode": {
    "name": "ipython",
    "version": 3
   },
   "file_extension": ".py",
   "mimetype": "text/x-python",
   "name": "python",
   "nbconvert_exporter": "python",
   "pygments_lexer": "ipython3",
   "version": "3.8.10"
  }
 },
 "nbformat": 4,
 "nbformat_minor": 5
}
