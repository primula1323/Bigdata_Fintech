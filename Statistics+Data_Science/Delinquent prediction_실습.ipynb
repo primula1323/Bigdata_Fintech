{
 "cells": [
  {
   "cell_type": "code",
   "execution_count": null,
   "id": "XXGq28xMa9YM",
   "metadata": {
    "colab": {
     "base_uri": "https://localhost:8080/",
     "height": 76
    },
    "id": "XXGq28xMa9YM",
    "outputId": "4d703ee1-4f03-4abd-a9b6-b38ffd46c4ba"
   },
   "outputs": [],
   "source": [
    "from google.colab import files\n",
    "myfiles = files.upload()"
   ]
  },
  {
   "cell_type": "code",
   "execution_count": 1,
   "id": "0e81ec87",
   "metadata": {
    "id": "0e81ec87"
   },
   "outputs": [],
   "source": [
    "import numpy as np\n",
    "import pandas as pd\n",
    "import matplotlib.pyplot as plt"
   ]
  },
  {
   "cell_type": "code",
   "execution_count": 12,
   "id": "7c8350cb",
   "metadata": {
    "id": "7c8350cb"
   },
   "outputs": [],
   "source": [
    "df = pd.read_csv('lasvegas.csv')"
   ]
  },
  {
   "cell_type": "code",
   "execution_count": 13,
   "id": "bb0df25f",
   "metadata": {
    "colab": {
     "base_uri": "https://localhost:8080/",
     "height": 206
    },
    "id": "bb0df25f",
    "outputId": "a01e75ee-4b15-402e-e6df-0e2c95e93f3c"
   },
   "outputs": [
    {
     "data": {
      "text/html": [
       "<div>\n",
       "<style scoped>\n",
       "    .dataframe tbody tr th:only-of-type {\n",
       "        vertical-align: middle;\n",
       "    }\n",
       "\n",
       "    .dataframe tbody tr th {\n",
       "        vertical-align: top;\n",
       "    }\n",
       "\n",
       "    .dataframe thead th {\n",
       "        text-align: right;\n",
       "    }\n",
       "</style>\n",
       "<table border=\"1\" class=\"dataframe\">\n",
       "  <thead>\n",
       "    <tr style=\"text-align: right;\">\n",
       "      <th></th>\n",
       "      <th>LVR</th>\n",
       "      <th>REF</th>\n",
       "      <th>INSUR</th>\n",
       "      <th>RATE</th>\n",
       "      <th>AMOUNT</th>\n",
       "      <th>CREDIT</th>\n",
       "      <th>TERM</th>\n",
       "      <th>ARM</th>\n",
       "      <th>DELINQUENT</th>\n",
       "    </tr>\n",
       "  </thead>\n",
       "  <tbody>\n",
       "    <tr>\n",
       "      <th>0</th>\n",
       "      <td>80.0</td>\n",
       "      <td>0</td>\n",
       "      <td>1</td>\n",
       "      <td>6.355</td>\n",
       "      <td>1.5760</td>\n",
       "      <td>532</td>\n",
       "      <td>30</td>\n",
       "      <td>1</td>\n",
       "      <td>0</td>\n",
       "    </tr>\n",
       "    <tr>\n",
       "      <th>1</th>\n",
       "      <td>89.0</td>\n",
       "      <td>1</td>\n",
       "      <td>1</td>\n",
       "      <td>6.875</td>\n",
       "      <td>3.1595</td>\n",
       "      <td>703</td>\n",
       "      <td>30</td>\n",
       "      <td>1</td>\n",
       "      <td>0</td>\n",
       "    </tr>\n",
       "    <tr>\n",
       "      <th>2</th>\n",
       "      <td>80.0</td>\n",
       "      <td>1</td>\n",
       "      <td>1</td>\n",
       "      <td>7.080</td>\n",
       "      <td>1.7600</td>\n",
       "      <td>648</td>\n",
       "      <td>30</td>\n",
       "      <td>1</td>\n",
       "      <td>0</td>\n",
       "    </tr>\n",
       "    <tr>\n",
       "      <th>3</th>\n",
       "      <td>80.0</td>\n",
       "      <td>0</td>\n",
       "      <td>0</td>\n",
       "      <td>12.855</td>\n",
       "      <td>1.9680</td>\n",
       "      <td>599</td>\n",
       "      <td>30</td>\n",
       "      <td>1</td>\n",
       "      <td>1</td>\n",
       "    </tr>\n",
       "    <tr>\n",
       "      <th>4</th>\n",
       "      <td>70.0</td>\n",
       "      <td>1</td>\n",
       "      <td>0</td>\n",
       "      <td>5.760</td>\n",
       "      <td>1.8620</td>\n",
       "      <td>626</td>\n",
       "      <td>30</td>\n",
       "      <td>1</td>\n",
       "      <td>0</td>\n",
       "    </tr>\n",
       "  </tbody>\n",
       "</table>\n",
       "</div>"
      ],
      "text/plain": [
       "    LVR  REF  INSUR    RATE  AMOUNT  CREDIT  TERM  ARM  DELINQUENT\n",
       "0  80.0    0      1   6.355  1.5760     532    30    1           0\n",
       "1  89.0    1      1   6.875  3.1595     703    30    1           0\n",
       "2  80.0    1      1   7.080  1.7600     648    30    1           0\n",
       "3  80.0    0      0  12.855  1.9680     599    30    1           1\n",
       "4  70.0    1      0   5.760  1.8620     626    30    1           0"
      ]
     },
     "execution_count": 13,
     "metadata": {},
     "output_type": "execute_result"
    }
   ],
   "source": [
    "df.head()"
   ]
  },
  {
   "cell_type": "code",
   "execution_count": 14,
   "id": "bc701d4f",
   "metadata": {
    "id": "bc701d4f"
   },
   "outputs": [],
   "source": [
    "y = df['DELINQUENT']\n",
    "X = df.drop('DELINQUENT',axis=1)"
   ]
  },
  {
   "cell_type": "code",
   "execution_count": 15,
   "id": "7c1c29d1",
   "metadata": {
    "colab": {
     "base_uri": "https://localhost:8080/",
     "height": 108
    },
    "id": "7c1c29d1",
    "outputId": "0c8528e2-f775-4c3f-f7a6-1a37e66d2491"
   },
   "outputs": [
    {
     "data": {
      "text/plain": [
       "'\\nDELINQUENT = 1 (대출 만기일 이후, 90일 이내에 상환되지 않은 경우: 연체), 0 (그렇지 않은 경우)\\nLVR = 자산 대비 대출의 비율\\nREF = 1 (대출이 재융자로 이루어진 경우), 0 (그렇지 않은 경우)\\nINSUR = 1 (해당 대출이 주택담보대출 보험에 가입된 경우), 0 (그렇지 않은 경우)\\nRATE = 해당 대출의 대출시점 기준 최초 이자율\\nAMOUNT = 해당 대출의 액수\\nCREDIT = 해당 대출을 실행한 사람의 신용 점수\\nTERM = 해당 대출의 만기까지 실행 기간\\nARM = 1 (해당 대출이 변동 금리 상품인 경우), 0 (고정 금리인 경우)\\n'"
      ]
     },
     "execution_count": 15,
     "metadata": {},
     "output_type": "execute_result"
    }
   ],
   "source": [
    "'''\n",
    "DELINQUENT = 1 (대출 만기일 이후, 90일 이내에 상환되지 않은 경우: 연체), 0 (그렇지 않은 경우)\n",
    "LVR = 자산 대비 대출의 비율\n",
    "REF = 1 (대출이 재융자로 이루어진 경우), 0 (그렇지 않은 경우)\n",
    "INSUR = 1 (해당 대출이 주택담보대출 보험에 가입된 경우), 0 (그렇지 않은 경우)\n",
    "RATE = 해당 대출의 대출시점 기준 최초 이자율\n",
    "AMOUNT = 해당 대출의 액수\n",
    "CREDIT = 해당 대출을 실행한 사람의 신용 점수\n",
    "TERM = 해당 대출의 만기까지 실행 기간\n",
    "ARM = 1 (해당 대출이 변동 금리 상품인 경우), 0 (고정 금리인 경우)\n",
    "'''"
   ]
  },
  {
   "cell_type": "markdown",
   "id": "rfpiXkezcHBy",
   "metadata": {
    "id": "rfpiXkezcHBy"
   },
   "source": [
    "### Linear Probability Model"
   ]
  },
  {
   "cell_type": "code",
   "execution_count": 16,
   "id": "1cc7bd3e",
   "metadata": {
    "id": "1cc7bd3e"
   },
   "outputs": [],
   "source": [
    "import statsmodels.api as sm\n",
    "from sklearn.model_selection import train_test_split\n",
    "from sklearn.linear_model import LinearRegression, LogisticRegression #numerical optimization이 마음대로 가능해서 powerful\n",
    "import warnings\n",
    "warnings.filterwarnings(\"ignore\")\n",
    "#split : train set, validation set, test set"
   ]
  },
  {
   "cell_type": "code",
   "execution_count": 17,
   "id": "24ec312a",
   "metadata": {
    "id": "24ec312a"
   },
   "outputs": [],
   "source": [
    "train, test = train_test_split(df, test_size = 0.2, random_state = 131)\n",
    "train, validation = train_test_split(train, test_size = 0.25, random_state = 211)"
   ]
  },
  {
   "cell_type": "code",
   "execution_count": 18,
   "id": "cefffc78",
   "metadata": {
    "colab": {
     "base_uri": "https://localhost:8080/"
    },
    "id": "cefffc78",
    "outputId": "54f0f785-a7ef-44e4-fa5f-768cb12441de"
   },
   "outputs": [
    {
     "data": {
      "text/plain": [
       "(200, 9)"
      ]
     },
     "execution_count": 18,
     "metadata": {},
     "output_type": "execute_result"
    }
   ],
   "source": [
    "test.shape"
   ]
  },
  {
   "cell_type": "code",
   "execution_count": 20,
   "id": "657e7fe8",
   "metadata": {
    "id": "657e7fe8"
   },
   "outputs": [],
   "source": [
    "X = df.drop(['DELINQUENT'], axis=1)\n",
    "y = df['DELINQUENT']\n",
    "y_train = train['DELINQUENT']\n",
    "x_train = train.drop(['DELINQUENT'], axis = 1)\n",
    "y_val = validation['DELINQUENT']\n",
    "x_val = validation.drop(['DELINQUENT'], axis = 1)\n",
    "y_test = test['DELINQUENT']\n",
    "x_test = test.drop(['DELINQUENT'], axis = 1)\n",
    "#DELINQUENT만 설명변수이므로"
   ]
  },
  {
   "cell_type": "code",
   "execution_count": 21,
   "id": "cc16f26f",
   "metadata": {
    "colab": {
     "base_uri": "https://localhost:8080/"
    },
    "id": "cc16f26f",
    "outputId": "f4999386-3f07-4286-8941-dedbf8388134"
   },
   "outputs": [
    {
     "name": "stdout",
     "output_type": "stream",
     "text": [
      "                            OLS Regression Results                            \n",
      "==============================================================================\n",
      "Dep. Variable:             DELINQUENT   R-squared:                       0.345\n",
      "Model:                            OLS   Adj. R-squared:                  0.336\n",
      "Method:                 Least Squares   F-statistic:                     38.93\n",
      "Date:                Tue, 12 Mar 2024   Prob (F-statistic):           8.74e-50\n",
      "Time:                        12:56:06   Log-Likelihood:                -192.30\n",
      "No. Observations:                 600   AIC:                             402.6\n",
      "Df Residuals:                     591   BIC:                             442.2\n",
      "Df Model:                           8                                         \n",
      "Covariance Type:            nonrobust                                         \n",
      "==============================================================================\n",
      "                 coef    std err          t      P>|t|      [0.025      0.975]\n",
      "------------------------------------------------------------------------------\n",
      "const          0.4812      0.292      1.648      0.100      -0.092       1.055\n",
      "LVR            0.0019      0.001      1.760      0.079      -0.000       0.004\n",
      "REF           -0.0488      0.033     -1.492      0.136      -0.113       0.015\n",
      "INSUR         -0.5058      0.032    -16.037      0.000      -0.568      -0.444\n",
      "RATE           0.0478      0.012      4.019      0.000       0.024       0.071\n",
      "AMOUNT         0.0267      0.016      1.691      0.091      -0.004       0.058\n",
      "CREDIT        -0.0002      0.000     -0.852      0.395      -0.001       0.000\n",
      "TERM          -0.0141      0.005     -2.876      0.004      -0.024      -0.004\n",
      "ARM            0.1443      0.044      3.246      0.001       0.057       0.232\n",
      "==============================================================================\n",
      "Omnibus:                       51.658   Durbin-Watson:                   2.077\n",
      "Prob(Omnibus):                  0.000   Jarque-Bera (JB):               67.342\n",
      "Skew:                           0.688   Prob(JB):                     2.38e-15\n",
      "Kurtosis:                       3.896   Cond. No.                     1.34e+04\n",
      "==============================================================================\n",
      "\n",
      "Notes:\n",
      "[1] Standard Errors assume that the covariance matrix of the errors is correctly specified.\n",
      "[2] The condition number is large, 1.34e+04. This might indicate that there are\n",
      "strong multicollinearity or other numerical problems.\n"
     ]
    }
   ],
   "source": [
    "# verification\n",
    "X_cons = sm.add_constant(x_train)\n",
    "ver = sm.OLS(y_train, X_cons).fit()\n",
    "print(ver.summary())"
   ]
  },
  {
   "cell_type": "code",
   "execution_count": 26,
   "id": "827cced4",
   "metadata": {
    "colab": {
     "base_uri": "https://localhost:8080/",
     "height": 74
    },
    "id": "827cced4",
    "outputId": "817eb7f1-7a40-41ae-ff1d-815638f142d0"
   },
   "outputs": [
    {
     "data": {
      "text/plain": [
       "LinearRegression()"
      ]
     },
     "execution_count": 26,
     "metadata": {},
     "output_type": "execute_result"
    }
   ],
   "source": [
    "lpm = LinearRegression()\n",
    "lpm.fit(x_train, y_train)"
   ]
  },
  {
   "cell_type": "code",
   "execution_count": 29,
   "id": "c63a2a24",
   "metadata": {
    "colab": {
     "base_uri": "https://localhost:8080/"
    },
    "id": "c63a2a24",
    "outputId": "fe2d3e37-665e-430f-f8d5-02414532728f"
   },
   "outputs": [
    {
     "name": "stdout",
     "output_type": "stream",
     "text": [
      "0.481228812158881\n",
      "[ 1.86194773e-03 -4.87932282e-02 -5.05783387e-01  4.77662042e-02\n",
      "  2.67200560e-02 -2.31706344e-04 -1.41172406e-02  1.44275719e-01]\n"
     ]
    }
   ],
   "source": [
    "print(lpm.intercept_)\n",
    "print(lpm.coef_)\n",
    "#장점 : 편리한 문법"
   ]
  },
  {
   "cell_type": "code",
   "execution_count": null,
   "id": "e81d1e01",
   "metadata": {
    "colab": {
     "base_uri": "https://localhost:8080/",
     "height": 206
    },
    "id": "e81d1e01",
    "outputId": "403ddd07-8a0e-4348-e49c-714d9e44f8bd"
   },
   "outputs": [],
   "source": [
    "result = pd.DataFrame(lpm., columns=['pred_prob'])\n",
    "result.head()"
   ]
  },
  {
   "cell_type": "code",
   "execution_count": null,
   "id": "260409a8",
   "metadata": {
    "colab": {
     "base_uri": "https://localhost:8080/",
     "height": 448
    },
    "id": "260409a8",
    "outputId": "257cc2b3-d98a-4b82-8d70-ff368a75ceb1"
   },
   "outputs": [],
   "source": [
    "result.pred_prob.plot(kind='hist',bins=50, xlim=([-1,1]))"
   ]
  },
  {
   "cell_type": "code",
   "execution_count": null,
   "id": "Rg0ICOLqge5x",
   "metadata": {
    "id": "Rg0ICOLqge5x"
   },
   "outputs": [],
   "source": [
    "from sklearn.metrics import "
   ]
  },
  {
   "cell_type": "code",
   "execution_count": null,
   "id": "tDxPhDnOZg_5",
   "metadata": {
    "id": "tDxPhDnOZg_5"
   },
   "outputs": [],
   "source": [
    "fpr, tpr, threshold = ()\n",
    "#roc_auc = auc(fpr,tpr)"
   ]
  },
  {
   "cell_type": "code",
   "execution_count": null,
   "id": "wk93pA2JaYMD",
   "metadata": {
    "colab": {
     "base_uri": "https://localhost:8080/"
    },
    "id": "wk93pA2JaYMD",
    "outputId": "7537420c-4f77-4b0f-ca45-520b2e7501a6"
   },
   "outputs": [],
   "source": [
    "print(threshold)"
   ]
  },
  {
   "cell_type": "code",
   "execution_count": null,
   "id": "Ldj2vV1rasya",
   "metadata": {
    "colab": {
     "base_uri": "https://localhost:8080/",
     "height": 1000
    },
    "id": "Ldj2vV1rasya",
    "outputId": "d2baa9a6-4ba3-46ea-8eb9-4e89ee913d7b"
   },
   "outputs": [],
   "source": [
    "roc_result = pd.DataFrame([fpr, tpr, threshold], index=['fpr','tpr','threshold']).T\n",
    "roc_result"
   ]
  },
  {
   "cell_type": "code",
   "execution_count": null,
   "id": "49fwaLehbLLS",
   "metadata": {
    "colab": {
     "base_uri": "https://localhost:8080/",
     "height": 206
    },
    "id": "49fwaLehbLLS",
    "outputId": "5f8b5f58-929e-4904-d33a-15d2ed8daa40"
   },
   "outputs": [],
   "source": [
    "# 경계값 기준은 연구목적에 맞게 짜면 됩니다.\n",
    "# 여기서는 (1-fpr)+tpr 극대화하는 경계값을 찾습니다.\n",
    "\n",
    "roc_result['best']=(1-roc_result['fpr']) + roc_result['tpr']\n",
    "roc_result.head()"
   ]
  },
  {
   "cell_type": "code",
   "execution_count": null,
   "id": "JzmKckRac2KS",
   "metadata": {
    "colab": {
     "base_uri": "https://localhost:8080/"
    },
    "id": "JzmKckRac2KS",
    "outputId": "9f46d635-13be-4570-cedb-b3552b3e79bc"
   },
   "outputs": [],
   "source": [
    "optimal_threshold = \n",
    "optimal_threshold"
   ]
  },
  {
   "cell_type": "code",
   "execution_count": null,
   "id": "OPGTLQxNeHF3",
   "metadata": {
    "id": "OPGTLQxNeHF3"
   },
   "outputs": [],
   "source": [
    "result_test = "
   ]
  },
  {
   "cell_type": "code",
   "execution_count": null,
   "id": "DepIo5v2fQub",
   "metadata": {
    "colab": {
     "base_uri": "https://localhost:8080/",
     "height": 424
    },
    "id": "DepIo5v2fQub",
    "outputId": "ea8fd107-5137-4c0e-f82e-c5310b037149"
   },
   "outputs": [],
   "source": [
    "result_test[] = \n",
    "result_test"
   ]
  },
  {
   "cell_type": "code",
   "execution_count": null,
   "id": "OPoa6hoof7RZ",
   "metadata": {
    "colab": {
     "base_uri": "https://localhost:8080/"
    },
    "id": "OPoa6hoof7RZ",
    "outputId": "f25ba190-f7ed-497a-f076-5b3c4c9dbdbb"
   },
   "outputs": [],
   "source": [
    "confusion = \n",
    "confusion"
   ]
  },
  {
   "cell_type": "code",
   "execution_count": null,
   "id": "C7YdH3CXgIhW",
   "metadata": {
    "colab": {
     "base_uri": "https://localhost:8080/"
    },
    "id": "C7YdH3CXgIhW",
    "outputId": "cb5ca1e6-492a-4c31-8e35-3d0a89a935e6"
   },
   "outputs": [],
   "source": [
    "accuracy = \n",
    "accuracy"
   ]
  },
  {
   "cell_type": "code",
   "execution_count": null,
   "id": "ptRYynOhg3C1",
   "metadata": {
    "id": "ptRYynOhg3C1"
   },
   "outputs": [],
   "source": [
    "tn,fp,fn,tp = confusion_matrix(y_test, result_test.binary).ravel()"
   ]
  },
  {
   "cell_type": "code",
   "execution_count": null,
   "id": "ViwEAkXuhEvo",
   "metadata": {
    "colab": {
     "base_uri": "https://localhost:8080/"
    },
    "id": "ViwEAkXuhEvo",
    "outputId": "2848e1ab-c15a-408d-faca-84802d6a5a01"
   },
   "outputs": [],
   "source": [
    "(tn+tp)/(tn+fp+fn+tp)"
   ]
  },
  {
   "cell_type": "code",
   "execution_count": null,
   "id": "U39VeLQchJtv",
   "metadata": {
    "colab": {
     "base_uri": "https://localhost:8080/"
    },
    "id": "U39VeLQchJtv",
    "outputId": "5e5e8792-4d81-4298-c01c-b654d69b239f"
   },
   "outputs": [],
   "source": [
    "tp/(tp+fn)"
   ]
  },
  {
   "cell_type": "code",
   "execution_count": null,
   "id": "EZO3_UDWhTWu",
   "metadata": {
    "colab": {
     "base_uri": "https://localhost:8080/"
    },
    "id": "EZO3_UDWhTWu",
    "outputId": "8998a79c-3c02-40cd-e18e-ee02e9e6a6aa"
   },
   "outputs": [],
   "source": [
    "tp/(tp+fp)"
   ]
  },
  {
   "cell_type": "markdown",
   "id": "qAaseBeUb7W9",
   "metadata": {
    "id": "qAaseBeUb7W9"
   },
   "source": [
    "### Logistic Regression"
   ]
  },
  {
   "cell_type": "code",
   "execution_count": 31,
   "id": "zGR_5kvFhkLe",
   "metadata": {
    "colab": {
     "base_uri": "https://localhost:8080/"
    },
    "id": "zGR_5kvFhkLe",
    "outputId": "81fa4f5d-49cc-4fe9-cda4-8d6d7d8a5dbf"
   },
   "outputs": [
    {
     "name": "stdout",
     "output_type": "stream",
     "text": [
      "Optimization terminated successfully.\n",
      "         Current function value: 0.348677\n",
      "         Iterations 7\n",
      "                           Logit Regression Results                           \n",
      "==============================================================================\n",
      "Dep. Variable:             DELINQUENT   No. Observations:                  600\n",
      "Model:                          Logit   Df Residuals:                      591\n",
      "Method:                           MLE   Df Model:                            8\n",
      "Date:                Tue, 12 Mar 2024   Pseudo R-squ.:                  0.3329\n",
      "Time:                        13:01:06   Log-Likelihood:                -209.21\n",
      "converged:                       True   LL-Null:                       -313.59\n",
      "Covariance Type:            nonrobust   LLR p-value:                 9.025e-41\n",
      "==============================================================================\n",
      "                 coef    std err          z      P>|z|      [0.025      0.975]\n",
      "------------------------------------------------------------------------------\n",
      "const         -0.4099      2.651     -0.155      0.877      -5.605       4.785\n",
      "LVR            0.0154      0.011      1.417      0.156      -0.006       0.037\n",
      "REF           -0.4252      0.309     -1.378      0.168      -1.030       0.180\n",
      "INSUR         -3.1870      0.283    -11.251      0.000      -3.742      -2.632\n",
      "RATE           0.4161      0.111      3.736      0.000       0.198       0.634\n",
      "AMOUNT         0.2118      0.135      1.565      0.118      -0.053       0.477\n",
      "CREDIT        -0.0015      0.002     -0.597      0.551      -0.006       0.003\n",
      "TERM          -0.1441      0.049     -2.969      0.003      -0.239      -0.049\n",
      "ARM            1.6252      0.546      2.978      0.003       0.556       2.695\n",
      "==============================================================================\n"
     ]
    }
   ],
   "source": [
    "logit_1 = sm.Logit(y_train, X_cons).fit()\n",
    "print(logit_1.summary())\n",
    "#해석하려면? e^b는 odds ratio가 됨."
   ]
  },
  {
   "cell_type": "code",
   "execution_count": 32,
   "id": "kvUh6HQHeXCp",
   "metadata": {
    "colab": {
     "base_uri": "https://localhost:8080/",
     "height": 74
    },
    "id": "kvUh6HQHeXCp",
    "outputId": "e7862efa-fa4b-472b-8b3f-55ea6f36943a"
   },
   "outputs": [
    {
     "data": {
      "text/plain": [
       "LogisticRegression()"
      ]
     },
     "execution_count": 32,
     "metadata": {},
     "output_type": "execute_result"
    }
   ],
   "source": [
    "logit_2 = LogisticRegression()\n",
    "logit_2.fit(x_train, y_train)\n",
    "#기본 form : Logistic Ridge"
   ]
  },
  {
   "cell_type": "code",
   "execution_count": 33,
   "id": "1dOVOEVlelCj",
   "metadata": {
    "colab": {
     "base_uri": "https://localhost:8080/"
    },
    "id": "1dOVOEVlelCj",
    "outputId": "6b5e7d9d-f1fc-492c-dd6c-d4617209ec77"
   },
   "outputs": [
    {
     "name": "stdout",
     "output_type": "stream",
     "text": [
      "[-0.04903765]\n",
      "[[ 2.02091329e-02 -3.70055488e-01 -2.96416992e+00  3.41950062e-01\n",
      "   2.44963103e-01 -1.77669614e-03 -1.18738813e-01  5.70636592e-01]]\n"
     ]
    }
   ],
   "source": [
    "print(logit_2.intercept_)\n",
    "print(logit_2.coef_)"
   ]
  },
  {
   "cell_type": "code",
   "execution_count": 34,
   "id": "30d697b1",
   "metadata": {},
   "outputs": [
    {
     "data": {
      "text/plain": [
       "LogisticRegression(penalty='none')"
      ]
     },
     "execution_count": 34,
     "metadata": {},
     "output_type": "execute_result"
    }
   ],
   "source": [
    "logit_3 = LogisticRegression(fit_intercept = True, penalty = 'none')\n",
    "logit_3.fit(x_train, y_train)\n",
    "#sklearn에서는 기본 페널티가 L2임 "
   ]
  },
  {
   "cell_type": "code",
   "execution_count": 35,
   "id": "39a9986a",
   "metadata": {},
   "outputs": [
    {
     "name": "stdout",
     "output_type": "stream",
     "text": [
      "[-0.08044314]\n",
      "[[ 1.70643531e-02 -6.68783130e-01 -3.19371770e+00  4.08964700e-01\n",
      "   2.34900404e-01 -2.19289955e-03 -1.28749759e-01  1.28975862e+00]]\n"
     ]
    }
   ],
   "source": [
    "print(logit_3.intercept_)\n",
    "print(logit_3.coef_)"
   ]
  },
  {
   "cell_type": "code",
   "execution_count": 36,
   "id": "72ddfcf8",
   "metadata": {},
   "outputs": [
    {
     "data": {
      "text/plain": [
       "LogisticRegression(penalty='none', solver='newton-cg')"
      ]
     },
     "execution_count": 36,
     "metadata": {},
     "output_type": "execute_result"
    }
   ],
   "source": [
    "logit_4 = LogisticRegression(fit_intercept = True, penalty = 'none', solver = 'newton-cg')\n",
    "logit_4.fit(x_train, y_train)\n",
    "#sklearn에서는 기본 최적화가 newton-rapson 아님"
   ]
  },
  {
   "cell_type": "code",
   "execution_count": 37,
   "id": "c709ac45",
   "metadata": {},
   "outputs": [
    {
     "name": "stdout",
     "output_type": "stream",
     "text": [
      "[-0.40987993]\n",
      "[[ 1.54439058e-02 -4.25225428e-01 -3.18699445e+00  4.16060960e-01\n",
      "   2.11770302e-01 -1.45836277e-03 -1.44086664e-01  1.62517630e+00]]\n"
     ]
    }
   ],
   "source": [
    "print(logit_4.intercept_)\n",
    "print(logit_4.coef_)"
   ]
  },
  {
   "cell_type": "code",
   "execution_count": null,
   "id": "DeUZmE1qesWK",
   "metadata": {
    "id": "DeUZmE1qesWK"
   },
   "outputs": [],
   "source": [
    "result_logit = pd.DataFrame(, columns=['pred_prob'])\n",
    "result_logit.head()"
   ]
  },
  {
   "cell_type": "code",
   "execution_count": null,
   "id": "A9qDs34dfzQl",
   "metadata": {
    "colab": {
     "base_uri": "https://localhost:8080/",
     "height": 448
    },
    "id": "A9qDs34dfzQl",
    "outputId": "c2b93ad7-edaf-4520-bd9c-ae335cd229f8"
   },
   "outputs": [],
   "source": []
  },
  {
   "cell_type": "code",
   "execution_count": null,
   "id": "KIoVzlZegdTA",
   "metadata": {
    "id": "KIoVzlZegdTA"
   },
   "outputs": [],
   "source": []
  }
 ],
 "metadata": {
  "colab": {
   "provenance": []
  },
  "kernelspec": {
   "display_name": "Python 3",
   "language": "python",
   "name": "python3"
  },
  "language_info": {
   "codemirror_mode": {
    "name": "ipython",
    "version": 3
   },
   "file_extension": ".py",
   "mimetype": "text/x-python",
   "name": "python",
   "nbconvert_exporter": "python",
   "pygments_lexer": "ipython3",
   "version": "3.8.8"
  }
 },
 "nbformat": 4,
 "nbformat_minor": 5
}
