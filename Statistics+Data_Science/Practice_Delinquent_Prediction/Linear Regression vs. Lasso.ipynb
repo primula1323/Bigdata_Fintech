{
 "cells": [
  {
   "cell_type": "code",
   "execution_count": 1,
   "id": "b690f4e3-b146-4c69-a4aa-ec45d3bb9e38",
   "metadata": {},
   "outputs": [],
   "source": [
    "#%pip install scikit-learn"
   ]
  },
  {
   "cell_type": "code",
   "execution_count": 30,
   "id": "db86dc37",
   "metadata": {},
   "outputs": [],
   "source": [
    "from sklearn.linear_model import Lasso, LinearRegression, Ridge, LassoCV\n",
    "from sklearn.model_selection import train_test_split\n",
    "import pandas as pd"
   ]
  },
  {
   "cell_type": "code",
   "execution_count": 12,
   "id": "2932afeb",
   "metadata": {},
   "outputs": [
    {
     "data": {
      "text/html": [
       "<div>\n",
       "<style scoped>\n",
       "    .dataframe tbody tr th:only-of-type {\n",
       "        vertical-align: middle;\n",
       "    }\n",
       "\n",
       "    .dataframe tbody tr th {\n",
       "        vertical-align: top;\n",
       "    }\n",
       "\n",
       "    .dataframe thead th {\n",
       "        text-align: right;\n",
       "    }\n",
       "</style>\n",
       "<table border=\"1\" class=\"dataframe\">\n",
       "  <thead>\n",
       "    <tr style=\"text-align: right;\">\n",
       "      <th></th>\n",
       "      <th>LVR</th>\n",
       "      <th>REF</th>\n",
       "      <th>INSUR</th>\n",
       "      <th>RATE</th>\n",
       "      <th>AMOUNT</th>\n",
       "      <th>CREDIT</th>\n",
       "      <th>TERM</th>\n",
       "      <th>ARM</th>\n",
       "      <th>DELINQUENT</th>\n",
       "    </tr>\n",
       "  </thead>\n",
       "  <tbody>\n",
       "    <tr>\n",
       "      <th>0</th>\n",
       "      <td>80.0</td>\n",
       "      <td>0</td>\n",
       "      <td>1</td>\n",
       "      <td>6.355</td>\n",
       "      <td>1.5760</td>\n",
       "      <td>532</td>\n",
       "      <td>30</td>\n",
       "      <td>1</td>\n",
       "      <td>0</td>\n",
       "    </tr>\n",
       "    <tr>\n",
       "      <th>1</th>\n",
       "      <td>89.0</td>\n",
       "      <td>1</td>\n",
       "      <td>1</td>\n",
       "      <td>6.875</td>\n",
       "      <td>3.1595</td>\n",
       "      <td>703</td>\n",
       "      <td>30</td>\n",
       "      <td>1</td>\n",
       "      <td>0</td>\n",
       "    </tr>\n",
       "    <tr>\n",
       "      <th>2</th>\n",
       "      <td>80.0</td>\n",
       "      <td>1</td>\n",
       "      <td>1</td>\n",
       "      <td>7.080</td>\n",
       "      <td>1.7600</td>\n",
       "      <td>648</td>\n",
       "      <td>30</td>\n",
       "      <td>1</td>\n",
       "      <td>0</td>\n",
       "    </tr>\n",
       "    <tr>\n",
       "      <th>3</th>\n",
       "      <td>80.0</td>\n",
       "      <td>0</td>\n",
       "      <td>0</td>\n",
       "      <td>12.855</td>\n",
       "      <td>1.9680</td>\n",
       "      <td>599</td>\n",
       "      <td>30</td>\n",
       "      <td>1</td>\n",
       "      <td>1</td>\n",
       "    </tr>\n",
       "    <tr>\n",
       "      <th>4</th>\n",
       "      <td>70.0</td>\n",
       "      <td>1</td>\n",
       "      <td>0</td>\n",
       "      <td>5.760</td>\n",
       "      <td>1.8620</td>\n",
       "      <td>626</td>\n",
       "      <td>30</td>\n",
       "      <td>1</td>\n",
       "      <td>0</td>\n",
       "    </tr>\n",
       "  </tbody>\n",
       "</table>\n",
       "</div>"
      ],
      "text/plain": [
       "    LVR  REF  INSUR    RATE  AMOUNT  CREDIT  TERM  ARM  DELINQUENT\n",
       "0  80.0    0      1   6.355  1.5760     532    30    1           0\n",
       "1  89.0    1      1   6.875  3.1595     703    30    1           0\n",
       "2  80.0    1      1   7.080  1.7600     648    30    1           0\n",
       "3  80.0    0      0  12.855  1.9680     599    30    1           1\n",
       "4  70.0    1      0   5.760  1.8620     626    30    1           0"
      ]
     },
     "execution_count": 12,
     "metadata": {},
     "output_type": "execute_result"
    }
   ],
   "source": [
    "df = pd.read_csv('lasvegas.csv')\n",
    "df.head()\n",
    "\n",
    "# bad: 부도여부\n",
    "# purpose_i : 대출목적(원래는 10개 내외 정도의 목적이 있으나, 여기서는 일부만)\n",
    "# term_i: 대출실행기간\n",
    "# verification status: Lending club에 의해 소득이 검증되었는지, 또는 소득 출처가 검증되었는지\n",
    "# initial status: 대출의 최초 상태\n",
    "# dti: "
   ]
  },
  {
   "cell_type": "code",
   "execution_count": 13,
   "id": "2d9308bd",
   "metadata": {},
   "outputs": [
    {
     "name": "stdout",
     "output_type": "stream",
     "text": [
      "<class 'pandas.core.frame.DataFrame'>\n",
      "RangeIndex: 1000 entries, 0 to 999\n",
      "Data columns (total 9 columns):\n",
      " #   Column      Non-Null Count  Dtype  \n",
      "---  ------      --------------  -----  \n",
      " 0   LVR         1000 non-null   float64\n",
      " 1   REF         1000 non-null   int64  \n",
      " 2   INSUR       1000 non-null   int64  \n",
      " 3   RATE        1000 non-null   float64\n",
      " 4   AMOUNT      1000 non-null   float64\n",
      " 5   CREDIT      1000 non-null   int64  \n",
      " 6   TERM        1000 non-null   int64  \n",
      " 7   ARM         1000 non-null   int64  \n",
      " 8   DELINQUENT  1000 non-null   int64  \n",
      "dtypes: float64(3), int64(6)\n",
      "memory usage: 70.4 KB\n"
     ]
    }
   ],
   "source": [
    "df.info()"
   ]
  },
  {
   "cell_type": "code",
   "execution_count": 14,
   "id": "b100f8bb",
   "metadata": {},
   "outputs": [],
   "source": [
    "X = df.drop('DELINQUENT',axis=1)\n",
    "y = df['DELINQUENT']\n",
    "\n",
    "X_train, X_test, y_train, y_test = train_test_split(X, y, test_size=0.2, random_state=171)"
   ]
  },
  {
   "cell_type": "code",
   "execution_count": 15,
   "id": "87913cf0",
   "metadata": {},
   "outputs": [
    {
     "name": "stdout",
     "output_type": "stream",
     "text": [
      "[ 0.00169941 -0.06988192 -0.50042303  0.02364745  0.02737161 -0.00068389\n",
      " -0.01228432  0.08124334]\n",
      "0.9530553510747437\n"
     ]
    }
   ],
   "source": [
    "# Linear Regression model\n",
    "linear = LinearRegression()\n",
    "linear.fit(X_train, y_train)\n",
    "\n",
    "print(linear.coef_)\n",
    "print(linear.intercept_)"
   ]
  },
  {
   "cell_type": "code",
   "execution_count": 31,
   "id": "11999e4c",
   "metadata": {},
   "outputs": [
    {
     "name": "stdout",
     "output_type": "stream",
     "text": [
      "[ 0.00172232 -0.06552855 -0.49576853  0.02310515  0.02692049 -0.00067833\n",
      " -0.01193619  0.0724393 ]\n",
      "0.9439005752423748\n"
     ]
    }
   ],
   "source": [
    "# Least Absolute Shrinkage and Selection Operator\n",
    "lasso = Lasso(alpha = 0.001)\n",
    "lasso.fit(X_train, y_train)\n",
    "\n",
    "print(lasso.coef_)\n",
    "print(lasso.intercept_)\n",
    "#기존 계수에 비해 감소."
   ]
  },
  {
   "cell_type": "code",
   "execution_count": 32,
   "id": "f20a9b7d-d04d-4b9c-b2b0-cba45ad50d27",
   "metadata": {},
   "outputs": [
    {
     "name": "stdout",
     "output_type": "stream",
     "text": [
      "[ 0.0007766  -0.         -0.2596432   0.          0.         -0.00053581\n",
      " -0.00396367  0.        ]\n",
      "0.775959612244741\n"
     ]
    }
   ],
   "source": [
    "#정해진 rule 없음. 하이퍼파라미터.\n",
    "lasso = Lasso(alpha = 0.05)\n",
    "lasso.fit(X_train, y_train)\n",
    "\n",
    "print(lasso.coef_)\n",
    "print(lasso.intercept_)\n",
    "#penalty 증가에 따라 슈링크"
   ]
  },
  {
   "cell_type": "code",
   "execution_count": 40,
   "id": "82cac041-74a3-406c-9d59-956e60f89554",
   "metadata": {},
   "outputs": [
    {
     "name": "stdout",
     "output_type": "stream",
     "text": [
      "[ 0.0017365  -0.06279282 -0.49283244  0.02276051  0.02664014 -0.00067488\n",
      " -0.01171565  0.06688167]\n",
      "0.9381781745604045\n"
     ]
    }
   ],
   "source": [
    "#정해진 rule 없음. 하이퍼파라미터.\n",
    "lassoCV = LassoCV()\n",
    "lassoCV.fit(X_train, y_train)\n",
    "\n",
    "print(lassoCV.coef_)\n",
    "print(lassoCV.intercept_)\n",
    "#penalty 증가에 따라 슈링크"
   ]
  },
  {
   "cell_type": "code",
   "execution_count": 28,
   "id": "c15205e8",
   "metadata": {},
   "outputs": [
    {
     "name": "stdout",
     "output_type": "stream",
     "text": [
      "[ 0.0016994  -0.06988151 -0.50041979  0.02364742  0.02737197 -0.00068389\n",
      " -0.01228428  0.08124247]\n",
      "0.953051096190797\n"
     ]
    }
   ],
   "source": [
    "ridge = Ridge(alpha = 0.001)\n",
    "\n",
    "ridge.fit(X_train, y_train)\n",
    "\n",
    "print(ridge.coef_)\n",
    "print(ridge.intercept_)\n",
    "#penalty 증가에 따라 슈링크"
   ]
  },
  {
   "cell_type": "code",
   "execution_count": 33,
   "id": "02a6ac06",
   "metadata": {},
   "outputs": [
    {
     "name": "stdout",
     "output_type": "stream",
     "text": [
      "[ 0.00169926 -0.06986173 -0.50026108  0.02364591  0.0273897  -0.00068381\n",
      " -0.01228235  0.08120006]\n",
      "0.9528426745977523\n"
     ]
    }
   ],
   "source": [
    "ridge = Ridge(alpha = 0.05)\n",
    "\n",
    "ridge.fit(X_train, y_train)\n",
    "\n",
    "print(ridge.coef_)\n",
    "print(ridge.intercept_)\n",
    "#penalty 증가에 따라 슈링크. 그러나 0으로 낮추는 효과는 없음"
   ]
  },
  {
   "cell_type": "code",
   "execution_count": null,
   "id": "e35e2afb-094c-42c2-8a60-9533a7d1ef1e",
   "metadata": {},
   "outputs": [],
   "source": []
  }
 ],
 "metadata": {
  "kernelspec": {
   "display_name": "Python 3 (ipykernel)",
   "language": "python",
   "name": "python3"
  },
  "language_info": {
   "codemirror_mode": {
    "name": "ipython",
    "version": 3
   },
   "file_extension": ".py",
   "mimetype": "text/x-python",
   "name": "python",
   "nbconvert_exporter": "python",
   "pygments_lexer": "ipython3",
   "version": "3.12.1"
  }
 },
 "nbformat": 4,
 "nbformat_minor": 5
}
