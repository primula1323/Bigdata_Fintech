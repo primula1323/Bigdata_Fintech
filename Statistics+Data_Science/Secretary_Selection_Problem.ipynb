{
 "cells": [
  {
   "cell_type": "code",
   "execution_count": 9,
   "id": "9f853586-20df-4efc-b14c-180afcaace44",
   "metadata": {},
   "outputs": [],
   "source": [
    "import numpy as np"
   ]
  },
  {
   "cell_type": "code",
   "execution_count": 10,
   "id": "54fa7fce-e30c-4b1d-b00d-4ef1f8ddb817",
   "metadata": {},
   "outputs": [],
   "source": [
    "def secretaryProblem(array, passNum, totalNum) :\n",
    "\n",
    "    best_of_passer = max(array[0:passNum])\n",
    "\n",
    "    for j in range(passNum, totalNum) :\n",
    "        if array[j] > best_of_passer :\n",
    "            return j\n",
    "    return (totalNum - 1)\n",
    "#modulize"
   ]
  },
  {
   "cell_type": "code",
   "execution_count": 11,
   "id": "600b9e67-4491-4726-ba51-7c3c2310b372",
   "metadata": {},
   "outputs": [
    {
     "ename": "ValueError",
     "evalue": "max() iterable argument is empty",
     "output_type": "error",
     "traceback": [
      "\u001b[1;31m---------------------------------------------------------------------------\u001b[0m",
      "\u001b[1;31mValueError\u001b[0m                                Traceback (most recent call last)",
      "Cell \u001b[1;32mIn[11], line 6\u001b[0m\n\u001b[0;32m      4\u001b[0m \u001b[38;5;28;01mfor\u001b[39;00m i \u001b[38;5;129;01min\u001b[39;00m \u001b[38;5;28mrange\u001b[39m(\u001b[38;5;241m0\u001b[39m, totals) :\n\u001b[0;32m      5\u001b[0m     \u001b[38;5;28mmax\u001b[39m(candidates)\n\u001b[1;32m----> 6\u001b[0m     \u001b[43msecretaryProblem\u001b[49m\u001b[43m(\u001b[49m\u001b[43mcandidates\u001b[49m\u001b[43m,\u001b[49m\u001b[43m \u001b[49m\u001b[43mi\u001b[49m\u001b[43m,\u001b[49m\u001b[43m \u001b[49m\u001b[43mtotals\u001b[49m\u001b[43m)\u001b[49m\n",
      "Cell \u001b[1;32mIn[10], line 3\u001b[0m, in \u001b[0;36msecretaryProblem\u001b[1;34m(array, passNum, totalNum)\u001b[0m\n\u001b[0;32m      1\u001b[0m \u001b[38;5;28;01mdef\u001b[39;00m \u001b[38;5;21msecretaryProblem\u001b[39m(array, passNum, totalNum) :\n\u001b[1;32m----> 3\u001b[0m     best_of_passer \u001b[38;5;241m=\u001b[39m \u001b[38;5;28;43mmax\u001b[39;49m\u001b[43m(\u001b[49m\u001b[43marray\u001b[49m\u001b[43m[\u001b[49m\u001b[38;5;241;43m0\u001b[39;49m\u001b[43m:\u001b[49m\u001b[43mpassNum\u001b[49m\u001b[43m]\u001b[49m\u001b[43m)\u001b[49m\n\u001b[0;32m      5\u001b[0m     \u001b[38;5;28;01mfor\u001b[39;00m j \u001b[38;5;129;01min\u001b[39;00m \u001b[38;5;28mrange\u001b[39m(passNum, totalNum) :\n\u001b[0;32m      6\u001b[0m         \u001b[38;5;28;01mif\u001b[39;00m array[j] \u001b[38;5;241m>\u001b[39m best_of_passer :\n",
      "\u001b[1;31mValueError\u001b[0m: max() iterable argument is empty"
     ]
    }
   ],
   "source": [
    "totals = 100\n",
    "candidates = np.random.rand(totals)\n",
    "\n",
    "for i in range(0, totals) :\n",
    "    max(candidates)\n",
    "    secretaryProblem(candidates, i, totals)"
   ]
  },
  {
   "cell_type": "code",
   "execution_count": 12,
   "id": "7688f267-c97f-4845-aa39-8b4fc75c5fed",
   "metadata": {},
   "outputs": [],
   "source": [
    "def secretaryProblem2(array, passNum, totalNum) :\n",
    "\n",
    "    BoP = max(array[0:passNum])\n",
    "\n",
    "    for j in range(passNum, totalNum) :\n",
    "        if array[j] > BoP :\n",
    "            if array[j] == max(array) :\n",
    "                return 1\n",
    "            return 0\n",
    "\n",
    "    return 0\n",
    "\n",
    "totals = 100\n",
    "candidates_array = np.random.rand(2000*totals)"
   ]
  },
  {
   "cell_type": "code",
   "execution_count": 13,
   "id": "8cd220fe-4dea-4d8c-b3eb-739b8a60864d",
   "metadata": {},
   "outputs": [],
   "source": [
    "def ratioSuccess(array, passNum, totalNum) :\n",
    "    success = 0\n",
    "    for i in range(0, 2000) :\n",
    "        tempCan = array[i*totals:(i+1)*totals]\n",
    "        success += secretaryProblem2(tempCan, passNum, totalNum)\n",
    "    return success/2000"
   ]
  },
  {
   "cell_type": "code",
   "execution_count": 14,
   "id": "6f75ff6c-470a-457e-bdfd-947c70ad24fe",
   "metadata": {},
   "outputs": [
    {
     "name": "stdout",
     "output_type": "stream",
     "text": [
      "[0.0465, 0.079, 0.099, 0.1225, 0.1515, 0.1715, 0.19, 0.202, 0.2155, 0.2305, 0.239, 0.2535, 0.267, 0.2785, 0.287, 0.2965, 0.3045, 0.3105, 0.317, 0.3215, 0.326, 0.334, 0.338, 0.3455, 0.3495, 0.3535, 0.36, 0.366, 0.3685, 0.374, 0.375, 0.3815, 0.383, 0.3795, 0.384, 0.3825, 0.3805, 0.3785, 0.375, 0.3715, 0.3705, 0.373, 0.372, 0.3695, 0.3625, 0.3615, 0.36, 0.356, 0.356, 0.3565, 0.3545, 0.351, 0.3515, 0.346, 0.3435, 0.341, 0.335, 0.3255, 0.319, 0.318, 0.309, 0.3015, 0.2945, 0.2935, 0.288, 0.285, 0.2775, 0.272, 0.265, 0.26, 0.2515, 0.2455, 0.242, 0.235, 0.226, 0.22, 0.2105, 0.1995, 0.1895, 0.185, 0.1785, 0.1695, 0.1555, 0.1445, 0.1355, 0.129, 0.1195, 0.109, 0.0975, 0.089, 0.0765, 0.0665, 0.0585, 0.054, 0.045, 0.0395, 0.0305, 0.019, 0.0075]\n",
      "0.384\n"
     ]
    },
    {
     "data": {
      "text/plain": [
       "34"
      ]
     },
     "execution_count": 14,
     "metadata": {},
     "output_type": "execute_result"
    }
   ],
   "source": [
    "answers = []\n",
    "\n",
    "for i in range(1, totals) :\n",
    "    answers.append(ratioSuccess(candidates_array, i, totals))\n",
    "\n",
    "print(answers)\n",
    "print(max(answers))\n",
    "answers.index(max(answers))"
   ]
  },
  {
   "cell_type": "markdown",
   "id": "1646fd53-4887-4517-a9ab-46b3dac9ddd5",
   "metadata": {},
   "source": [
    "# 최적화 실험"
   ]
  },
  {
   "cell_type": "code",
   "execution_count": 18,
   "id": "98a45348-2ebe-4445-ba62-fbe81e117d1a",
   "metadata": {},
   "outputs": [],
   "source": [
    "def secretaryProblem2(array, passNum, totalNum) :\n",
    "\n",
    "    BoP = max(array[0:passNum])\n",
    "\n",
    "    for j in range(passNum, totalNum) :\n",
    "        if array[j] > BoP :\n",
    "            if array[j] == max(array) :\n",
    "                return 1\n",
    "            return 0\n",
    "\n",
    "    return 0\n",
    "\n",
    "totals = 100\n",
    "candidates_array = np.random.rand(200*totals)"
   ]
  },
  {
   "cell_type": "code",
   "execution_count": 19,
   "id": "5b77e816-fc84-4b88-ae92-f5a60c362a87",
   "metadata": {},
   "outputs": [],
   "source": [
    "def ratioSuccess(array, passNum, totalNum) :\n",
    "    success = 0\n",
    "    for i in range(0, 2000) :\n",
    "        tempCan = array[i*totals:(i+1)*totals]\n",
    "        success += secretaryProblem2(tempCan, passNum, totalNum)\n",
    "    return success/2000"
   ]
  },
  {
   "cell_type": "code",
   "execution_count": 20,
   "id": "7506006b-1258-46a3-963d-b709224988f2",
   "metadata": {},
   "outputs": [
    {
     "ename": "ValueError",
     "evalue": "max() iterable argument is empty",
     "output_type": "error",
     "traceback": [
      "\u001b[1;31m---------------------------------------------------------------------------\u001b[0m",
      "\u001b[1;31mValueError\u001b[0m                                Traceback (most recent call last)",
      "Cell \u001b[1;32mIn[20], line 4\u001b[0m\n\u001b[0;32m      1\u001b[0m answers \u001b[38;5;241m=\u001b[39m []\n\u001b[0;32m      3\u001b[0m \u001b[38;5;28;01mfor\u001b[39;00m i \u001b[38;5;129;01min\u001b[39;00m \u001b[38;5;28mrange\u001b[39m(\u001b[38;5;241m1\u001b[39m, totals) :\n\u001b[1;32m----> 4\u001b[0m     answers\u001b[38;5;241m.\u001b[39mappend(\u001b[43mratioSuccess\u001b[49m\u001b[43m(\u001b[49m\u001b[43mcandidates_array\u001b[49m\u001b[43m,\u001b[49m\u001b[43m \u001b[49m\u001b[43mi\u001b[49m\u001b[43m,\u001b[49m\u001b[43m \u001b[49m\u001b[43mtotals\u001b[49m\u001b[43m)\u001b[49m)\n\u001b[0;32m      6\u001b[0m \u001b[38;5;28mprint\u001b[39m(answers)\n\u001b[0;32m      7\u001b[0m \u001b[38;5;28mprint\u001b[39m(\u001b[38;5;28mmax\u001b[39m(answers))\n",
      "Cell \u001b[1;32mIn[19], line 5\u001b[0m, in \u001b[0;36mratioSuccess\u001b[1;34m(array, passNum, totalNum)\u001b[0m\n\u001b[0;32m      3\u001b[0m \u001b[38;5;28;01mfor\u001b[39;00m i \u001b[38;5;129;01min\u001b[39;00m \u001b[38;5;28mrange\u001b[39m(\u001b[38;5;241m0\u001b[39m, \u001b[38;5;241m2000\u001b[39m) :\n\u001b[0;32m      4\u001b[0m     tempCan \u001b[38;5;241m=\u001b[39m array[i\u001b[38;5;241m*\u001b[39mtotals:(i\u001b[38;5;241m+\u001b[39m\u001b[38;5;241m1\u001b[39m)\u001b[38;5;241m*\u001b[39mtotals]\n\u001b[1;32m----> 5\u001b[0m     success \u001b[38;5;241m+\u001b[39m\u001b[38;5;241m=\u001b[39m \u001b[43msecretaryProblem2\u001b[49m\u001b[43m(\u001b[49m\u001b[43mtempCan\u001b[49m\u001b[43m,\u001b[49m\u001b[43m \u001b[49m\u001b[43mpassNum\u001b[49m\u001b[43m,\u001b[49m\u001b[43m \u001b[49m\u001b[43mtotalNum\u001b[49m\u001b[43m)\u001b[49m\n\u001b[0;32m      6\u001b[0m \u001b[38;5;28;01mreturn\u001b[39;00m success\u001b[38;5;241m/\u001b[39m\u001b[38;5;241m2000\u001b[39m\n",
      "Cell \u001b[1;32mIn[18], line 3\u001b[0m, in \u001b[0;36msecretaryProblem2\u001b[1;34m(array, passNum, totalNum)\u001b[0m\n\u001b[0;32m      1\u001b[0m \u001b[38;5;28;01mdef\u001b[39;00m \u001b[38;5;21msecretaryProblem2\u001b[39m(array, passNum, totalNum) :\n\u001b[1;32m----> 3\u001b[0m     BoP \u001b[38;5;241m=\u001b[39m \u001b[38;5;28;43mmax\u001b[39;49m\u001b[43m(\u001b[49m\u001b[43marray\u001b[49m\u001b[43m[\u001b[49m\u001b[38;5;241;43m0\u001b[39;49m\u001b[43m:\u001b[49m\u001b[43mpassNum\u001b[49m\u001b[43m]\u001b[49m\u001b[43m)\u001b[49m\n\u001b[0;32m      5\u001b[0m     \u001b[38;5;28;01mfor\u001b[39;00m j \u001b[38;5;129;01min\u001b[39;00m \u001b[38;5;28mrange\u001b[39m(passNum, totalNum) :\n\u001b[0;32m      6\u001b[0m         \u001b[38;5;28;01mif\u001b[39;00m array[j] \u001b[38;5;241m>\u001b[39m BoP :\n",
      "\u001b[1;31mValueError\u001b[0m: max() iterable argument is empty"
     ]
    }
   ],
   "source": [
    "answers = []\n",
    "\n",
    "for i in range(1, totals) :\n",
    "    answers.append(ratioSuccess(candidates_array, i, totals))\n",
    "\n",
    "print(answers)\n",
    "print(max(answers))\n",
    "answers.index(max(answers))"
   ]
  },
  {
   "cell_type": "code",
   "execution_count": null,
   "id": "29d52782-44d2-4a54-b769-eda6e8051fb2",
   "metadata": {},
   "outputs": [],
   "source": []
  }
 ],
 "metadata": {
  "kernelspec": {
   "display_name": "Python 3 (ipykernel)",
   "language": "python",
   "name": "python3"
  },
  "language_info": {
   "codemirror_mode": {
    "name": "ipython",
    "version": 3
   },
   "file_extension": ".py",
   "mimetype": "text/x-python",
   "name": "python",
   "nbconvert_exporter": "python",
   "pygments_lexer": "ipython3",
   "version": "3.12.1"
  }
 },
 "nbformat": 4,
 "nbformat_minor": 5
}
