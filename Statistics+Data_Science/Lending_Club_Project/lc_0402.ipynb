{
 "cells": [
  {
   "cell_type": "code",
   "execution_count": 1,
   "metadata": {},
   "outputs": [
    {
     "name": "stderr",
     "output_type": "stream",
     "text": [
      "C:\\Users\\Na\\AppData\\Local\\Temp\\ipykernel_27460\\3147556744.py:8: DtypeWarning: Columns (0) have mixed types. Specify dtype option on import or set low_memory=False.\n",
      "  origin_data = pd.read_csv(file_path)\n"
     ]
    },
    {
     "name": "stdout",
     "output_type": "stream",
     "text": [
      "79\n",
      "1133666\n"
     ]
    }
   ],
   "source": [
    "## 1. import libraries\n",
    "import pandas as pd\n",
    "import numpy as np\n",
    "\n",
    "## 2. file path and load csv\n",
    "FOLDER_PATH = \"\" ## 파일 경로\n",
    "file_path = FOLDER_PATH+\"lending_club_2020_train.csv\"\n",
    "origin_data = pd.read_csv(file_path)\n",
    "origin_data.head()\n",
    "\n",
    "## 3. drop할 컬럼들을 일단 처리한다.\n",
    "with open('drop_columns.txt', mode='r') as f:\n",
    "    drop_fields = f.readlines()\n",
    "    drop_fields = [drop_field.strip('\\n') for drop_field in drop_fields]\n",
    "    \n",
    "drop_df = origin_data.drop(columns=drop_fields)\n",
    "\n",
    "# 컬럼 개수 출력\n",
    "print(len(drop_df.columns)) # 96\n",
    "\n",
    "## 4. 반응변수 처리\n",
    "# loan_status가 \"current\", \"issued\", \"policy\" 인 행을 필터링하여 삭제\n",
    "modified_df = drop_df[~drop_df['loan_status'].isin(['Current', 'Issued', 'Does not meet the credit policy. Status:Fully Paid', 'Does not meet the credit policy. Status:Charged Off'])]\n",
    "\n",
    "# risk = 1, safe = 0 으로 처리\n",
    "modified_df.loc[modified_df['loan_status'].isin(['Fully Paid', 'In Grace Period']), 'loan_status'] = 0\n",
    "modified_df.loc[modified_df['loan_status'].isin(['Charged Off', 'Default', 'Late (16-30 days)', 'Late (31-120 days)']), 'loan_status'] = 1\n",
    "\n",
    "print(len(modified_df)) # 1133666\n",
    "\n",
    "\n",
    "## 5. 데이터 처리용 함수\n",
    "def delete_suffix(term:str)->int:\n",
    "    '''첫 단어만을 저장하는 함수'''\n",
    "    term = term.strip().split()[0]\n",
    "    return int(term)\n",
    "\n",
    "def delete_suffix_percentage(term:str)->float:\n",
    "    '''%를 자르는 함수'''\n",
    "    term = term.strip('%')\n",
    "    return float(term)\n",
    "\n",
    "def delete_suffix_xx(term:str)->int:\n",
    "    '''xx를 자르는 함수'''\n",
    "    term = term.strip('xx')\n",
    "    return int(term)\n",
    "\n",
    "def apply_to_multiple_columns(date_columns:list)->None:\n",
    "    '''modified_df에서 %b-%Y(Aug-2006) 형식의 날짜 정보를 %Y-%m-%d(2006-08-01)형태로 저장하는 함수'''\n",
    "    for col in date_columns:\n",
    "        modified_df[col]=pd.to_datetime(modified_df[col], format='%b-%Y')"
   ]
  },
  {
   "cell_type": "code",
   "execution_count": 2,
   "metadata": {},
   "outputs": [
    {
     "name": "stdout",
     "output_type": "stream",
     "text": [
      "Index([], dtype='object')\n"
     ]
    }
   ],
   "source": [
    "THRESHOLD = 100\n",
    "\n",
    "null_percentages = (modified_df.isnull().sum() * 100) / len(modified_df)\n",
    "columns_to_drop = null_percentages[null_percentages >= THRESHOLD].index\n",
    "columns_to_keep = null_percentages[null_percentages < THRESHOLD].index\n",
    "\n",
    "# 필드 추출\n",
    "filtered_df = modified_df[columns_to_keep]\n",
    "filtered_df.columns\n",
    "print(columns_to_drop)"
   ]
  },
  {
   "cell_type": "code",
   "execution_count": 3,
   "metadata": {},
   "outputs": [],
   "source": [
    "filtered_df = filtered_df.dropna(subset=filtered_df.columns.difference(['loan_status']),how='all')"
   ]
  },
  {
   "cell_type": "code",
   "execution_count": 4,
   "metadata": {},
   "outputs": [
    {
     "name": "stdout",
     "output_type": "stream",
     "text": [
      "(1131682, 79)\n",
      "(1131682, 72)\n"
     ]
    }
   ],
   "source": [
    "## 6. 결측 처리\n",
    "# 6-1) 결측 개수가 1천 건 이하인 경우는 해당 데이터(row) 삭제\n",
    "filtered_df = filtered_df.dropna(subset=['chargeoff_within_12_mths','collections_12_mths_ex_med','dti',\n",
    "                                         'pub_rec_bankruptcies','revol_util','tax_liens'])\n",
    "print(filtered_df.shape) # (1131682, 79)\n",
    "\n",
    "# 6-2) 대체하기 어려운 변수 또는 결측이 많은 변수 삭제\n",
    "filtered_df = filtered_df.drop(columns=['bc_util', 'mths_since_last_delinq','mths_since_last_major_derog',\n",
    "                                        'mths_since_last_record','mths_since_recent_bc_dlq',\n",
    "                                        'mths_since_recent_revol_delinq','percent_bc_gt_75'])\n",
    "print(filtered_df.shape) #(1131682, 72)\n",
    "\n",
    "# 6-3) 결측 대체\n",
    "# A. joint 관련 변수 : 결측 0 대체\n",
    "filtered_df[['annual_inc_joint','dti_joint','revol_bal_joint']] = filtered_df[['annual_inc_joint','dti_joint','revol_bal_joint']].fillna(0)\n",
    "\n",
    "# B. 최빈값 대체\n",
    "filtered_df['mo_sin_old_il_acct'] = filtered_df['mo_sin_old_il_acct'].fillna(129)\n",
    "filtered_df['mths_since_recent_bc'] = filtered_df['mths_since_recent_bc'].fillna(13)\n",
    "filtered_df['mths_since_recent_inq'] = filtered_df['mths_since_recent_inq'].fillna(5)\n",
    "filtered_df['bc_open_to_buy'] = filtered_df['bc_open_to_buy'].fillna(5200.0)\n",
    "filtered_df['emp_length'] = filtered_df['emp_length'].fillna('10+ years')\n",
    "\n",
    "# C. 2012년 대체\n",
    "### 업데이트예정 ###\n",
    "\n",
    "\n",
    "# D. 2015년 대체\n",
    "### 업데이트 예정 ###\n",
    "\n"
   ]
  },
  {
   "cell_type": "code",
   "execution_count": null,
   "metadata": {},
   "outputs": [],
   "source": [
    "### 수정중입니다 ###\n",
    "\n",
    "# 수치형 처리\n",
    "# 변수 20번\n",
    "filtered_df['emp_length'] = filtered_df['emp_length'].apply(lambda x: x.replace(' years','').replace(' year','').replace('+','').replace('< ', ''))\n",
    "# 변수 92번\n",
    "filtered_df['revol_util'].apply(delete_suffix_percentage)"
   ]
  }
 ],
 "metadata": {
  "kernelspec": {
   "display_name": "Python 3",
   "language": "python",
   "name": "python3"
  },
  "language_info": {
   "codemirror_mode": {
    "name": "ipython",
    "version": 3
   },
   "file_extension": ".py",
   "mimetype": "text/x-python",
   "name": "python",
   "nbconvert_exporter": "python",
   "pygments_lexer": "ipython3",
   "version": "3.12.1"
  }
 },
 "nbformat": 4,
 "nbformat_minor": 2
}
