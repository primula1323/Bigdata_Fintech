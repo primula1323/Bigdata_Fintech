{
 "cells": [
  {
   "cell_type": "markdown",
   "metadata": {
    "id": "FqcuIQpJrHEY"
   },
   "source": [
    "# Starting"
   ]
  },
  {
   "cell_type": "code",
   "execution_count": 1,
   "metadata": {
    "colab": {
     "base_uri": "https://localhost:8080/"
    },
    "executionInfo": {
     "elapsed": 511,
     "status": "ok",
     "timestamp": 1708573402050,
     "user": {
      "displayName": "나승찬",
      "userId": "12480086669318498495"
     },
     "user_tz": -540
    },
    "id": "x8fW8CJzSSSe",
    "outputId": "7f96ae48-bec3-44f2-922b-da6a076edf33"
   },
   "outputs": [
    {
     "data": {
      "text/plain": [
       "5"
      ]
     },
     "execution_count": 1,
     "metadata": {},
     "output_type": "execute_result"
    }
   ],
   "source": [
    "2+3"
   ]
  },
  {
   "cell_type": "code",
   "execution_count": 2,
   "metadata": {
    "colab": {
     "base_uri": "https://localhost:8080/"
    },
    "executionInfo": {
     "elapsed": 5,
     "status": "ok",
     "timestamp": 1708573422872,
     "user": {
      "displayName": "나승찬",
      "userId": "12480086669318498495"
     },
     "user_tz": -540
    },
    "id": "442GGZC7rE-A",
    "outputId": "2c565c5a-11fd-42c7-dc8f-aa37751af5d0"
   },
   "outputs": [
    {
     "data": {
      "text/plain": [
       "[1, 2, 3]"
      ]
     },
     "execution_count": 2,
     "metadata": {},
     "output_type": "execute_result"
    }
   ],
   "source": [
    "[1,2,3]"
   ]
  },
  {
   "cell_type": "code",
   "execution_count": 3,
   "metadata": {
    "id": "zKwTBPkcrFBL"
   },
   "outputs": [],
   "source": [
    "import pandas as pd"
   ]
  },
  {
   "cell_type": "markdown",
   "metadata": {},
   "source": [
    "## Google Colab"
   ]
  },
  {
   "cell_type": "code",
   "execution_count": 4,
   "metadata": {},
   "outputs": [],
   "source": [
    "#from google.colab import files"
   ]
  },
  {
   "cell_type": "code",
   "execution_count": 5,
   "metadata": {
    "colab": {
     "base_uri": "https://localhost:8080/",
     "height": 77
    },
    "executionInfo": {
     "elapsed": 20224,
     "status": "ok",
     "timestamp": 1709177388635,
     "user": {
      "displayName": "나승찬",
      "userId": "12480086669318498495"
     },
     "user_tz": -540
    },
    "id": "KxffUgDZrFHS",
    "outputId": "1f3d4b05-54c9-48bd-9568-00fa6e253556"
   },
   "outputs": [],
   "source": [
    "#myfiles = files.upload()"
   ]
  },
  {
   "cell_type": "markdown",
   "metadata": {},
   "source": [
    "## Jupyter Notebook"
   ]
  },
  {
   "cell_type": "code",
   "execution_count": 6,
   "metadata": {
    "id": "dd4O3KX0rFSN"
   },
   "outputs": [],
   "source": [
    "df = pd.read_csv('APT data.csv', encoding = 'cp949')"
   ]
  },
  {
   "cell_type": "code",
   "execution_count": 7,
   "metadata": {
    "colab": {
     "base_uri": "https://localhost:8080/",
     "height": 206
    },
    "executionInfo": {
     "elapsed": 662,
     "status": "ok",
     "timestamp": 1708574367479,
     "user": {
      "displayName": "나승찬",
      "userId": "12480086669318498495"
     },
     "user_tz": -540
    },
    "id": "8ZKhKzjt9vct",
    "outputId": "bdc6af96-073e-43db-dd18-57a795a963ea"
   },
   "outputs": [
    {
     "data": {
      "text/html": [
       "<div>\n",
       "<style scoped>\n",
       "    .dataframe tbody tr th:only-of-type {\n",
       "        vertical-align: middle;\n",
       "    }\n",
       "\n",
       "    .dataframe tbody tr th {\n",
       "        vertical-align: top;\n",
       "    }\n",
       "\n",
       "    .dataframe thead th {\n",
       "        text-align: right;\n",
       "    }\n",
       "</style>\n",
       "<table border=\"1\" class=\"dataframe\">\n",
       "  <thead>\n",
       "    <tr style=\"text-align: right;\">\n",
       "      <th></th>\n",
       "      <th>시세(하한)</th>\n",
       "      <th>시세(상한)</th>\n",
       "      <th>시세</th>\n",
       "      <th>건설업체</th>\n",
       "      <th>지하철</th>\n",
       "      <th>건축년도</th>\n",
       "      <th>평수</th>\n",
       "      <th>연령</th>\n",
       "      <th>지하철1개 노선</th>\n",
       "      <th>지하철 2개노선</th>\n",
       "      <th>대기업더미</th>\n",
       "      <th>단지규모</th>\n",
       "    </tr>\n",
       "  </thead>\n",
       "  <tbody>\n",
       "    <tr>\n",
       "      <th>0</th>\n",
       "      <td>29000</td>\n",
       "      <td>33000</td>\n",
       "      <td>31000</td>\n",
       "      <td>GN</td>\n",
       "      <td>0</td>\n",
       "      <td>1984</td>\n",
       "      <td>32</td>\n",
       "      <td>16</td>\n",
       "      <td>0</td>\n",
       "      <td>0</td>\n",
       "      <td>0</td>\n",
       "      <td>678</td>\n",
       "    </tr>\n",
       "    <tr>\n",
       "      <th>1</th>\n",
       "      <td>24000</td>\n",
       "      <td>28000</td>\n",
       "      <td>26000</td>\n",
       "      <td>HD</td>\n",
       "      <td>1</td>\n",
       "      <td>1984</td>\n",
       "      <td>31</td>\n",
       "      <td>16</td>\n",
       "      <td>1</td>\n",
       "      <td>0</td>\n",
       "      <td>1</td>\n",
       "      <td>416</td>\n",
       "    </tr>\n",
       "    <tr>\n",
       "      <th>2</th>\n",
       "      <td>45000</td>\n",
       "      <td>50000</td>\n",
       "      <td>47500</td>\n",
       "      <td>HD</td>\n",
       "      <td>1</td>\n",
       "      <td>1984</td>\n",
       "      <td>46</td>\n",
       "      <td>16</td>\n",
       "      <td>1</td>\n",
       "      <td>0</td>\n",
       "      <td>1</td>\n",
       "      <td>416</td>\n",
       "    </tr>\n",
       "    <tr>\n",
       "      <th>3</th>\n",
       "      <td>55000</td>\n",
       "      <td>63000</td>\n",
       "      <td>59000</td>\n",
       "      <td>HD</td>\n",
       "      <td>1</td>\n",
       "      <td>1984</td>\n",
       "      <td>58</td>\n",
       "      <td>16</td>\n",
       "      <td>1</td>\n",
       "      <td>0</td>\n",
       "      <td>1</td>\n",
       "      <td>416</td>\n",
       "    </tr>\n",
       "    <tr>\n",
       "      <th>4</th>\n",
       "      <td>29000</td>\n",
       "      <td>33000</td>\n",
       "      <td>31000</td>\n",
       "      <td>HD</td>\n",
       "      <td>1</td>\n",
       "      <td>1985</td>\n",
       "      <td>32</td>\n",
       "      <td>15</td>\n",
       "      <td>1</td>\n",
       "      <td>0</td>\n",
       "      <td>1</td>\n",
       "      <td>558</td>\n",
       "    </tr>\n",
       "  </tbody>\n",
       "</table>\n",
       "</div>"
      ],
      "text/plain": [
       "   시세(하한)  시세(상한)     시세 건설업체  지하철  건축년도  평수  연령  지하철1개 노선  지하철 2개노선  대기업더미  \\\n",
       "0   29000   33000  31000   GN    0  1984  32  16         0         0      0   \n",
       "1   24000   28000  26000   HD    1  1984  31  16         1         0      1   \n",
       "2   45000   50000  47500   HD    1  1984  46  16         1         0      1   \n",
       "3   55000   63000  59000   HD    1  1984  58  16         1         0      1   \n",
       "4   29000   33000  31000   HD    1  1985  32  15         1         0      1   \n",
       "\n",
       "   단지규모  \n",
       "0   678  \n",
       "1   416  \n",
       "2   416  \n",
       "3   416  \n",
       "4   558  "
      ]
     },
     "execution_count": 7,
     "metadata": {},
     "output_type": "execute_result"
    }
   ],
   "source": [
    "df.head()"
   ]
  },
  {
   "cell_type": "markdown",
   "metadata": {
    "id": "vAlLfDd7h7d_"
   },
   "source": [
    "# EDA"
   ]
  },
  {
   "cell_type": "code",
   "execution_count": 8,
   "metadata": {
    "colab": {
     "base_uri": "https://localhost:8080/"
    },
    "executionInfo": {
     "elapsed": 320,
     "status": "ok",
     "timestamp": 1709003272520,
     "user": {
      "displayName": "나승찬",
      "userId": "12480086669318498495"
     },
     "user_tz": -540
    },
    "id": "Hi4CbIgnh7ow",
    "outputId": "e7787ca5-d035-49be-a679-bf72b783d307"
   },
   "outputs": [
    {
     "name": "stdout",
     "output_type": "stream",
     "text": [
      "<class 'pandas.core.frame.DataFrame'>\n",
      "RangeIndex: 236 entries, 0 to 235\n",
      "Data columns (total 12 columns):\n",
      " #   Column    Non-Null Count  Dtype \n",
      "---  ------    --------------  ----- \n",
      " 0   시세(하한)    236 non-null    int64 \n",
      " 1   시세(상한)    236 non-null    int64 \n",
      " 2   시세        236 non-null    int64 \n",
      " 3   건설업체      236 non-null    object\n",
      " 4   지하철       236 non-null    int64 \n",
      " 5   건축년도      236 non-null    int64 \n",
      " 6   평수        236 non-null    int64 \n",
      " 7   연령        236 non-null    int64 \n",
      " 8   지하철1개 노선  236 non-null    int64 \n",
      " 9   지하철 2개노선  236 non-null    int64 \n",
      " 10  대기업더미     236 non-null    int64 \n",
      " 11  단지규모      236 non-null    int64 \n",
      "dtypes: int64(11), object(1)\n",
      "memory usage: 22.3+ KB\n"
     ]
    }
   ],
   "source": [
    "df.info()"
   ]
  },
  {
   "cell_type": "code",
   "execution_count": 9,
   "metadata": {
    "colab": {
     "base_uri": "https://localhost:8080/",
     "height": 300
    },
    "executionInfo": {
     "elapsed": 14,
     "status": "ok",
     "timestamp": 1709003361485,
     "user": {
      "displayName": "나승찬",
      "userId": "12480086669318498495"
     },
     "user_tz": -540
    },
    "id": "ZtGV0EnJh7rY",
    "outputId": "738f577a-7f2f-4d01-9fd9-ebc39e1cf0ed"
   },
   "outputs": [
    {
     "data": {
      "text/html": [
       "<div>\n",
       "<style scoped>\n",
       "    .dataframe tbody tr th:only-of-type {\n",
       "        vertical-align: middle;\n",
       "    }\n",
       "\n",
       "    .dataframe tbody tr th {\n",
       "        vertical-align: top;\n",
       "    }\n",
       "\n",
       "    .dataframe thead th {\n",
       "        text-align: right;\n",
       "    }\n",
       "</style>\n",
       "<table border=\"1\" class=\"dataframe\">\n",
       "  <thead>\n",
       "    <tr style=\"text-align: right;\">\n",
       "      <th></th>\n",
       "      <th>시세(하한)</th>\n",
       "      <th>시세(상한)</th>\n",
       "      <th>시세</th>\n",
       "      <th>지하철</th>\n",
       "      <th>건축년도</th>\n",
       "      <th>평수</th>\n",
       "      <th>연령</th>\n",
       "      <th>지하철1개 노선</th>\n",
       "      <th>지하철 2개노선</th>\n",
       "      <th>대기업더미</th>\n",
       "      <th>단지규모</th>\n",
       "    </tr>\n",
       "  </thead>\n",
       "  <tbody>\n",
       "    <tr>\n",
       "      <th>count</th>\n",
       "      <td>236.000000</td>\n",
       "      <td>236.000000</td>\n",
       "      <td>236.000000</td>\n",
       "      <td>236.000000</td>\n",
       "      <td>236.000000</td>\n",
       "      <td>236.000000</td>\n",
       "      <td>236.000000</td>\n",
       "      <td>236.000000</td>\n",
       "      <td>236.000000</td>\n",
       "      <td>236.000000</td>\n",
       "      <td>236.000000</td>\n",
       "    </tr>\n",
       "    <tr>\n",
       "      <th>mean</th>\n",
       "      <td>35179.872881</td>\n",
       "      <td>40247.881356</td>\n",
       "      <td>37713.877119</td>\n",
       "      <td>0.830508</td>\n",
       "      <td>1985.203390</td>\n",
       "      <td>37.504237</td>\n",
       "      <td>14.796610</td>\n",
       "      <td>0.720339</td>\n",
       "      <td>0.055085</td>\n",
       "      <td>0.148305</td>\n",
       "      <td>1109.877119</td>\n",
       "    </tr>\n",
       "    <tr>\n",
       "      <th>std</th>\n",
       "      <td>19325.768477</td>\n",
       "      <td>23302.745153</td>\n",
       "      <td>21249.186235</td>\n",
       "      <td>0.501997</td>\n",
       "      <td>5.916525</td>\n",
       "      <td>12.790122</td>\n",
       "      <td>5.916525</td>\n",
       "      <td>0.449787</td>\n",
       "      <td>0.228631</td>\n",
       "      <td>0.356158</td>\n",
       "      <td>989.467421</td>\n",
       "    </tr>\n",
       "    <tr>\n",
       "      <th>min</th>\n",
       "      <td>8750.000000</td>\n",
       "      <td>2000.000000</td>\n",
       "      <td>9000.000000</td>\n",
       "      <td>0.000000</td>\n",
       "      <td>1976.000000</td>\n",
       "      <td>14.000000</td>\n",
       "      <td>1.000000</td>\n",
       "      <td>0.000000</td>\n",
       "      <td>0.000000</td>\n",
       "      <td>0.000000</td>\n",
       "      <td>106.000000</td>\n",
       "    </tr>\n",
       "    <tr>\n",
       "      <th>25%</th>\n",
       "      <td>22000.000000</td>\n",
       "      <td>25000.000000</td>\n",
       "      <td>23937.500000</td>\n",
       "      <td>1.000000</td>\n",
       "      <td>1980.000000</td>\n",
       "      <td>29.000000</td>\n",
       "      <td>9.000000</td>\n",
       "      <td>0.000000</td>\n",
       "      <td>0.000000</td>\n",
       "      <td>0.000000</td>\n",
       "      <td>424.000000</td>\n",
       "    </tr>\n",
       "    <tr>\n",
       "      <th>50%</th>\n",
       "      <td>28000.000000</td>\n",
       "      <td>33000.000000</td>\n",
       "      <td>30250.000000</td>\n",
       "      <td>1.000000</td>\n",
       "      <td>1984.000000</td>\n",
       "      <td>34.000000</td>\n",
       "      <td>16.000000</td>\n",
       "      <td>1.000000</td>\n",
       "      <td>0.000000</td>\n",
       "      <td>0.000000</td>\n",
       "      <td>732.000000</td>\n",
       "    </tr>\n",
       "    <tr>\n",
       "      <th>75%</th>\n",
       "      <td>49250.000000</td>\n",
       "      <td>55500.000000</td>\n",
       "      <td>52125.000000</td>\n",
       "      <td>1.000000</td>\n",
       "      <td>1991.000000</td>\n",
       "      <td>47.000000</td>\n",
       "      <td>20.000000</td>\n",
       "      <td>1.000000</td>\n",
       "      <td>0.000000</td>\n",
       "      <td>0.000000</td>\n",
       "      <td>1232.000000</td>\n",
       "    </tr>\n",
       "    <tr>\n",
       "      <th>max</th>\n",
       "      <td>140000.000000</td>\n",
       "      <td>160000.000000</td>\n",
       "      <td>150000.000000</td>\n",
       "      <td>2.000000</td>\n",
       "      <td>1999.000000</td>\n",
       "      <td>80.000000</td>\n",
       "      <td>24.000000</td>\n",
       "      <td>1.000000</td>\n",
       "      <td>1.000000</td>\n",
       "      <td>1.000000</td>\n",
       "      <td>4424.000000</td>\n",
       "    </tr>\n",
       "  </tbody>\n",
       "</table>\n",
       "</div>"
      ],
      "text/plain": [
       "              시세(하한)         시세(상한)             시세         지하철         건축년도  \\\n",
       "count     236.000000     236.000000     236.000000  236.000000   236.000000   \n",
       "mean    35179.872881   40247.881356   37713.877119    0.830508  1985.203390   \n",
       "std     19325.768477   23302.745153   21249.186235    0.501997     5.916525   \n",
       "min      8750.000000    2000.000000    9000.000000    0.000000  1976.000000   \n",
       "25%     22000.000000   25000.000000   23937.500000    1.000000  1980.000000   \n",
       "50%     28000.000000   33000.000000   30250.000000    1.000000  1984.000000   \n",
       "75%     49250.000000   55500.000000   52125.000000    1.000000  1991.000000   \n",
       "max    140000.000000  160000.000000  150000.000000    2.000000  1999.000000   \n",
       "\n",
       "               평수          연령    지하철1개 노선    지하철 2개노선       대기업더미         단지규모  \n",
       "count  236.000000  236.000000  236.000000  236.000000  236.000000   236.000000  \n",
       "mean    37.504237   14.796610    0.720339    0.055085    0.148305  1109.877119  \n",
       "std     12.790122    5.916525    0.449787    0.228631    0.356158   989.467421  \n",
       "min     14.000000    1.000000    0.000000    0.000000    0.000000   106.000000  \n",
       "25%     29.000000    9.000000    0.000000    0.000000    0.000000   424.000000  \n",
       "50%     34.000000   16.000000    1.000000    0.000000    0.000000   732.000000  \n",
       "75%     47.000000   20.000000    1.000000    0.000000    0.000000  1232.000000  \n",
       "max     80.000000   24.000000    1.000000    1.000000    1.000000  4424.000000  "
      ]
     },
     "execution_count": 9,
     "metadata": {},
     "output_type": "execute_result"
    }
   ],
   "source": [
    "df.describe()\n",
    "\n",
    "#계산된 std : sample standard deviation이 default."
   ]
  },
  {
   "cell_type": "code",
   "execution_count": 10,
   "metadata": {
    "colab": {
     "base_uri": "https://localhost:8080/",
     "height": 411
    },
    "executionInfo": {
     "elapsed": 337,
     "status": "ok",
     "timestamp": 1709003644767,
     "user": {
      "displayName": "나승찬",
      "userId": "12480086669318498495"
     },
     "user_tz": -540
    },
    "id": "pBEapULZjSb9",
    "outputId": "716800be-7cec-4372-c194-8816c8ffdbc2"
   },
   "outputs": [
    {
     "data": {
      "text/html": [
       "<div>\n",
       "<style scoped>\n",
       "    .dataframe tbody tr th:only-of-type {\n",
       "        vertical-align: middle;\n",
       "    }\n",
       "\n",
       "    .dataframe tbody tr th {\n",
       "        vertical-align: top;\n",
       "    }\n",
       "\n",
       "    .dataframe thead th {\n",
       "        text-align: right;\n",
       "    }\n",
       "</style>\n",
       "<table border=\"1\" class=\"dataframe\">\n",
       "  <thead>\n",
       "    <tr style=\"text-align: right;\">\n",
       "      <th></th>\n",
       "      <th>시세(하한)</th>\n",
       "      <th>시세(상한)</th>\n",
       "      <th>시세</th>\n",
       "      <th>건설업체</th>\n",
       "      <th>지하철</th>\n",
       "      <th>건축년도</th>\n",
       "      <th>평수</th>\n",
       "      <th>연령</th>\n",
       "      <th>지하철1개 노선</th>\n",
       "      <th>지하철 2개노선</th>\n",
       "      <th>대기업더미</th>\n",
       "      <th>단지규모</th>\n",
       "    </tr>\n",
       "  </thead>\n",
       "  <tbody>\n",
       "    <tr>\n",
       "      <th>count</th>\n",
       "      <td>236.000000</td>\n",
       "      <td>236.000000</td>\n",
       "      <td>236.000000</td>\n",
       "      <td>236</td>\n",
       "      <td>236.000000</td>\n",
       "      <td>236.000000</td>\n",
       "      <td>236.000000</td>\n",
       "      <td>236.000000</td>\n",
       "      <td>236.000000</td>\n",
       "      <td>236.000000</td>\n",
       "      <td>236.000000</td>\n",
       "      <td>236.000000</td>\n",
       "    </tr>\n",
       "    <tr>\n",
       "      <th>unique</th>\n",
       "      <td>NaN</td>\n",
       "      <td>NaN</td>\n",
       "      <td>NaN</td>\n",
       "      <td>30</td>\n",
       "      <td>NaN</td>\n",
       "      <td>NaN</td>\n",
       "      <td>NaN</td>\n",
       "      <td>NaN</td>\n",
       "      <td>NaN</td>\n",
       "      <td>NaN</td>\n",
       "      <td>NaN</td>\n",
       "      <td>NaN</td>\n",
       "    </tr>\n",
       "    <tr>\n",
       "      <th>top</th>\n",
       "      <td>NaN</td>\n",
       "      <td>NaN</td>\n",
       "      <td>NaN</td>\n",
       "      <td>HD</td>\n",
       "      <td>NaN</td>\n",
       "      <td>NaN</td>\n",
       "      <td>NaN</td>\n",
       "      <td>NaN</td>\n",
       "      <td>NaN</td>\n",
       "      <td>NaN</td>\n",
       "      <td>NaN</td>\n",
       "      <td>NaN</td>\n",
       "    </tr>\n",
       "    <tr>\n",
       "      <th>freq</th>\n",
       "      <td>NaN</td>\n",
       "      <td>NaN</td>\n",
       "      <td>NaN</td>\n",
       "      <td>30</td>\n",
       "      <td>NaN</td>\n",
       "      <td>NaN</td>\n",
       "      <td>NaN</td>\n",
       "      <td>NaN</td>\n",
       "      <td>NaN</td>\n",
       "      <td>NaN</td>\n",
       "      <td>NaN</td>\n",
       "      <td>NaN</td>\n",
       "    </tr>\n",
       "    <tr>\n",
       "      <th>mean</th>\n",
       "      <td>35179.872881</td>\n",
       "      <td>40247.881356</td>\n",
       "      <td>37713.877119</td>\n",
       "      <td>NaN</td>\n",
       "      <td>0.830508</td>\n",
       "      <td>1985.203390</td>\n",
       "      <td>37.504237</td>\n",
       "      <td>14.796610</td>\n",
       "      <td>0.720339</td>\n",
       "      <td>0.055085</td>\n",
       "      <td>0.148305</td>\n",
       "      <td>1109.877119</td>\n",
       "    </tr>\n",
       "    <tr>\n",
       "      <th>std</th>\n",
       "      <td>19325.768477</td>\n",
       "      <td>23302.745153</td>\n",
       "      <td>21249.186235</td>\n",
       "      <td>NaN</td>\n",
       "      <td>0.501997</td>\n",
       "      <td>5.916525</td>\n",
       "      <td>12.790122</td>\n",
       "      <td>5.916525</td>\n",
       "      <td>0.449787</td>\n",
       "      <td>0.228631</td>\n",
       "      <td>0.356158</td>\n",
       "      <td>989.467421</td>\n",
       "    </tr>\n",
       "    <tr>\n",
       "      <th>min</th>\n",
       "      <td>8750.000000</td>\n",
       "      <td>2000.000000</td>\n",
       "      <td>9000.000000</td>\n",
       "      <td>NaN</td>\n",
       "      <td>0.000000</td>\n",
       "      <td>1976.000000</td>\n",
       "      <td>14.000000</td>\n",
       "      <td>1.000000</td>\n",
       "      <td>0.000000</td>\n",
       "      <td>0.000000</td>\n",
       "      <td>0.000000</td>\n",
       "      <td>106.000000</td>\n",
       "    </tr>\n",
       "    <tr>\n",
       "      <th>25%</th>\n",
       "      <td>22000.000000</td>\n",
       "      <td>25000.000000</td>\n",
       "      <td>23937.500000</td>\n",
       "      <td>NaN</td>\n",
       "      <td>1.000000</td>\n",
       "      <td>1980.000000</td>\n",
       "      <td>29.000000</td>\n",
       "      <td>9.000000</td>\n",
       "      <td>0.000000</td>\n",
       "      <td>0.000000</td>\n",
       "      <td>0.000000</td>\n",
       "      <td>424.000000</td>\n",
       "    </tr>\n",
       "    <tr>\n",
       "      <th>50%</th>\n",
       "      <td>28000.000000</td>\n",
       "      <td>33000.000000</td>\n",
       "      <td>30250.000000</td>\n",
       "      <td>NaN</td>\n",
       "      <td>1.000000</td>\n",
       "      <td>1984.000000</td>\n",
       "      <td>34.000000</td>\n",
       "      <td>16.000000</td>\n",
       "      <td>1.000000</td>\n",
       "      <td>0.000000</td>\n",
       "      <td>0.000000</td>\n",
       "      <td>732.000000</td>\n",
       "    </tr>\n",
       "    <tr>\n",
       "      <th>75%</th>\n",
       "      <td>49250.000000</td>\n",
       "      <td>55500.000000</td>\n",
       "      <td>52125.000000</td>\n",
       "      <td>NaN</td>\n",
       "      <td>1.000000</td>\n",
       "      <td>1991.000000</td>\n",
       "      <td>47.000000</td>\n",
       "      <td>20.000000</td>\n",
       "      <td>1.000000</td>\n",
       "      <td>0.000000</td>\n",
       "      <td>0.000000</td>\n",
       "      <td>1232.000000</td>\n",
       "    </tr>\n",
       "    <tr>\n",
       "      <th>max</th>\n",
       "      <td>140000.000000</td>\n",
       "      <td>160000.000000</td>\n",
       "      <td>150000.000000</td>\n",
       "      <td>NaN</td>\n",
       "      <td>2.000000</td>\n",
       "      <td>1999.000000</td>\n",
       "      <td>80.000000</td>\n",
       "      <td>24.000000</td>\n",
       "      <td>1.000000</td>\n",
       "      <td>1.000000</td>\n",
       "      <td>1.000000</td>\n",
       "      <td>4424.000000</td>\n",
       "    </tr>\n",
       "  </tbody>\n",
       "</table>\n",
       "</div>"
      ],
      "text/plain": [
       "               시세(하한)         시세(상한)             시세 건설업체         지하철  \\\n",
       "count      236.000000     236.000000     236.000000  236  236.000000   \n",
       "unique            NaN            NaN            NaN   30         NaN   \n",
       "top               NaN            NaN            NaN   HD         NaN   \n",
       "freq              NaN            NaN            NaN   30         NaN   \n",
       "mean     35179.872881   40247.881356   37713.877119  NaN    0.830508   \n",
       "std      19325.768477   23302.745153   21249.186235  NaN    0.501997   \n",
       "min       8750.000000    2000.000000    9000.000000  NaN    0.000000   \n",
       "25%      22000.000000   25000.000000   23937.500000  NaN    1.000000   \n",
       "50%      28000.000000   33000.000000   30250.000000  NaN    1.000000   \n",
       "75%      49250.000000   55500.000000   52125.000000  NaN    1.000000   \n",
       "max     140000.000000  160000.000000  150000.000000  NaN    2.000000   \n",
       "\n",
       "               건축년도          평수          연령    지하철1개 노선    지하철 2개노선  \\\n",
       "count    236.000000  236.000000  236.000000  236.000000  236.000000   \n",
       "unique          NaN         NaN         NaN         NaN         NaN   \n",
       "top             NaN         NaN         NaN         NaN         NaN   \n",
       "freq            NaN         NaN         NaN         NaN         NaN   \n",
       "mean    1985.203390   37.504237   14.796610    0.720339    0.055085   \n",
       "std        5.916525   12.790122    5.916525    0.449787    0.228631   \n",
       "min     1976.000000   14.000000    1.000000    0.000000    0.000000   \n",
       "25%     1980.000000   29.000000    9.000000    0.000000    0.000000   \n",
       "50%     1984.000000   34.000000   16.000000    1.000000    0.000000   \n",
       "75%     1991.000000   47.000000   20.000000    1.000000    0.000000   \n",
       "max     1999.000000   80.000000   24.000000    1.000000    1.000000   \n",
       "\n",
       "             대기업더미         단지규모  \n",
       "count   236.000000   236.000000  \n",
       "unique         NaN          NaN  \n",
       "top            NaN          NaN  \n",
       "freq           NaN          NaN  \n",
       "mean      0.148305  1109.877119  \n",
       "std       0.356158   989.467421  \n",
       "min       0.000000   106.000000  \n",
       "25%       0.000000   424.000000  \n",
       "50%       0.000000   732.000000  \n",
       "75%       0.000000  1232.000000  \n",
       "max       1.000000  4424.000000  "
      ]
     },
     "execution_count": 10,
     "metadata": {},
     "output_type": "execute_result"
    }
   ],
   "source": [
    "df.describe(include='all')"
   ]
  },
  {
   "cell_type": "code",
   "execution_count": 11,
   "metadata": {
    "id": "C0evbw6Nh7uO"
   },
   "outputs": [],
   "source": [
    "import numpy as np"
   ]
  },
  {
   "cell_type": "code",
   "execution_count": 12,
   "metadata": {
    "colab": {
     "base_uri": "https://localhost:8080/"
    },
    "executionInfo": {
     "elapsed": 6,
     "status": "ok",
     "timestamp": 1709003780002,
     "user": {
      "displayName": "나승찬",
      "userId": "12480086669318498495"
     },
     "user_tz": -540
    },
    "id": "pEQ85QGHh7w3",
    "outputId": "d0c0990a-5637-4f59-f0bf-e2222f3b52bf"
   },
   "outputs": [
    {
     "name": "stdout",
     "output_type": "stream",
     "text": [
      "37713.877118644064 150000\n"
     ]
    }
   ],
   "source": [
    "print(np.mean(df['시세']), np.max(df['시세']))"
   ]
  },
  {
   "cell_type": "markdown",
   "metadata": {
    "id": "SbrVsxdtmTgJ"
   },
   "source": [
    "# Data wrangling"
   ]
  },
  {
   "cell_type": "code",
   "execution_count": null,
   "metadata": {
    "colab": {
     "base_uri": "https://localhost:8080/",
     "height": 436
    },
    "executionInfo": {
     "elapsed": 14,
     "status": "ok",
     "timestamp": 1709004347783,
     "user": {
      "displayName": "나승찬",
      "userId": "12480086669318498495"
     },
     "user_tz": -540
    },
    "id": "O0aQ-Bdoh7zm",
    "outputId": "3215c0b3-5324-492c-e91c-248dc45df6e9"
   },
   "outputs": [
    {
     "name": "stdout",
     "output_type": "stream",
     "text": [
      "   시세(하한)  시세(상한)  price 건설업체  지하철  건축년도  squareFit  age  지하철1개 노선  지하철 2개노선  \\\n",
      "0   29000   33000  31000   GN    0  1984         32   16         0         0   \n",
      "1   24000   28000  26000   HD    1  1984         31   16         1         0   \n",
      "2   45000   50000  47500   HD    1  1984         46   16         1         0   \n",
      "3   55000   63000  59000   HD    1  1984         58   16         1         0   \n",
      "4   29000   33000  31000   HD    1  1985         32   15         1         0   \n",
      "\n",
      "   대기업더미  block  \n",
      "0      0    678  \n",
      "1      1    416  \n",
      "2      1    416  \n",
      "3      1    416  \n",
      "4      1    558  \n"
     ]
    },
    {
     "data": {
      "application/vnd.google.colaboratory.intrinsic+json": {
       "summary": "{\n  \"name\": \"df\",\n  \"rows\": 236,\n  \"fields\": [\n    {\n      \"column\": \"\\uc2dc\\uc138(\\ud558\\ud55c)\",\n      \"properties\": {\n        \"dtype\": \"number\",\n        \"std\": 19325,\n        \"min\": 8750,\n        \"max\": 140000,\n        \"num_unique_values\": 82,\n        \"samples\": [\n          48000,\n          29000,\n          13000\n        ],\n        \"semantic_type\": \"\",\n        \"description\": \"\"\n      }\n    },\n    {\n      \"column\": \"\\uc2dc\\uc138(\\uc0c1\\ud55c)\",\n      \"properties\": {\n        \"dtype\": \"number\",\n        \"std\": 23302,\n        \"min\": 2000,\n        \"max\": 160000,\n        \"num_unique_values\": 88,\n        \"samples\": [\n          100000,\n          33000,\n          95000\n        ],\n        \"semantic_type\": \"\",\n        \"description\": \"\"\n      }\n    },\n    {\n      \"column\": \"price\",\n      \"properties\": {\n        \"dtype\": \"number\",\n        \"std\": 21249,\n        \"min\": 9000,\n        \"max\": 150000,\n        \"num_unique_values\": 130,\n        \"samples\": [\n          20000,\n          48500,\n          18250\n        ],\n        \"semantic_type\": \"\",\n        \"description\": \"\"\n      }\n    },\n    {\n      \"column\": \"\\uac74\\uc124\\uc5c5\\uccb4\",\n      \"properties\": {\n        \"dtype\": \"category\",\n        \"num_unique_values\": 30,\n        \"samples\": [\n          \"SDY\",\n          \"SS\",\n          \"HL\"\n        ],\n        \"semantic_type\": \"\",\n        \"description\": \"\"\n      }\n    },\n    {\n      \"column\": \"\\uc9c0\\ud558\\ucca0\",\n      \"properties\": {\n        \"dtype\": \"number\",\n        \"std\": 0,\n        \"min\": 0,\n        \"max\": 2,\n        \"num_unique_values\": 3,\n        \"samples\": [\n          0,\n          1,\n          2\n        ],\n        \"semantic_type\": \"\",\n        \"description\": \"\"\n      }\n    },\n    {\n      \"column\": \"\\uac74\\ucd95\\ub144\\ub3c4\",\n      \"properties\": {\n        \"dtype\": \"number\",\n        \"std\": 5,\n        \"min\": 1976,\n        \"max\": 1999,\n        \"num_unique_values\": 21,\n        \"samples\": [\n          1984,\n          1976,\n          1993\n        ],\n        \"semantic_type\": \"\",\n        \"description\": \"\"\n      }\n    },\n    {\n      \"column\": \"squareFit\",\n      \"properties\": {\n        \"dtype\": \"number\",\n        \"std\": 12,\n        \"min\": 14,\n        \"max\": 80,\n        \"num_unique_values\": 53,\n        \"samples\": [\n          37,\n          17,\n          44\n        ],\n        \"semantic_type\": \"\",\n        \"description\": \"\"\n      }\n    },\n    {\n      \"column\": \"age\",\n      \"properties\": {\n        \"dtype\": \"number\",\n        \"std\": 5,\n        \"min\": 1,\n        \"max\": 24,\n        \"num_unique_values\": 21,\n        \"samples\": [\n          16,\n          24,\n          7\n        ],\n        \"semantic_type\": \"\",\n        \"description\": \"\"\n      }\n    },\n    {\n      \"column\": \"\\uc9c0\\ud558\\ucca01\\uac1c \\ub178\\uc120\",\n      \"properties\": {\n        \"dtype\": \"number\",\n        \"std\": 0,\n        \"min\": 0,\n        \"max\": 1,\n        \"num_unique_values\": 2,\n        \"samples\": [\n          1,\n          0\n        ],\n        \"semantic_type\": \"\",\n        \"description\": \"\"\n      }\n    },\n    {\n      \"column\": \"\\uc9c0\\ud558\\ucca0 2\\uac1c\\ub178\\uc120\",\n      \"properties\": {\n        \"dtype\": \"number\",\n        \"std\": 0,\n        \"min\": 0,\n        \"max\": 1,\n        \"num_unique_values\": 2,\n        \"samples\": [\n          1,\n          0\n        ],\n        \"semantic_type\": \"\",\n        \"description\": \"\"\n      }\n    },\n    {\n      \"column\": \"\\ub300\\uae30\\uc5c5\\ub354\\ubbf8\",\n      \"properties\": {\n        \"dtype\": \"number\",\n        \"std\": 0,\n        \"min\": 0,\n        \"max\": 1,\n        \"num_unique_values\": 2,\n        \"samples\": [\n          1,\n          0\n        ],\n        \"semantic_type\": \"\",\n        \"description\": \"\"\n      }\n    },\n    {\n      \"column\": \"block\",\n      \"properties\": {\n        \"dtype\": \"number\",\n        \"std\": 989,\n        \"min\": 106,\n        \"max\": 4424,\n        \"num_unique_values\": 69,\n        \"samples\": [\n          882,\n          678\n        ],\n        \"semantic_type\": \"\",\n        \"description\": \"\"\n      }\n    }\n  ]\n}",
       "type": "dataframe",
       "variable_name": "df"
      },
      "text/html": [
       "\n",
       "  <div id=\"df-9391cc08-8795-431d-8b95-821b428fc436\" class=\"colab-df-container\">\n",
       "    <div>\n",
       "<style scoped>\n",
       "    .dataframe tbody tr th:only-of-type {\n",
       "        vertical-align: middle;\n",
       "    }\n",
       "\n",
       "    .dataframe tbody tr th {\n",
       "        vertical-align: top;\n",
       "    }\n",
       "\n",
       "    .dataframe thead th {\n",
       "        text-align: right;\n",
       "    }\n",
       "</style>\n",
       "<table border=\"1\" class=\"dataframe\">\n",
       "  <thead>\n",
       "    <tr style=\"text-align: right;\">\n",
       "      <th></th>\n",
       "      <th>시세(하한)</th>\n",
       "      <th>시세(상한)</th>\n",
       "      <th>price</th>\n",
       "      <th>건설업체</th>\n",
       "      <th>지하철</th>\n",
       "      <th>건축년도</th>\n",
       "      <th>squareFit</th>\n",
       "      <th>age</th>\n",
       "      <th>지하철1개 노선</th>\n",
       "      <th>지하철 2개노선</th>\n",
       "      <th>대기업더미</th>\n",
       "      <th>block</th>\n",
       "    </tr>\n",
       "  </thead>\n",
       "  <tbody>\n",
       "    <tr>\n",
       "      <th>0</th>\n",
       "      <td>29000</td>\n",
       "      <td>33000</td>\n",
       "      <td>31000</td>\n",
       "      <td>GN</td>\n",
       "      <td>0</td>\n",
       "      <td>1984</td>\n",
       "      <td>32</td>\n",
       "      <td>16</td>\n",
       "      <td>0</td>\n",
       "      <td>0</td>\n",
       "      <td>0</td>\n",
       "      <td>678</td>\n",
       "    </tr>\n",
       "    <tr>\n",
       "      <th>1</th>\n",
       "      <td>24000</td>\n",
       "      <td>28000</td>\n",
       "      <td>26000</td>\n",
       "      <td>HD</td>\n",
       "      <td>1</td>\n",
       "      <td>1984</td>\n",
       "      <td>31</td>\n",
       "      <td>16</td>\n",
       "      <td>1</td>\n",
       "      <td>0</td>\n",
       "      <td>1</td>\n",
       "      <td>416</td>\n",
       "    </tr>\n",
       "    <tr>\n",
       "      <th>2</th>\n",
       "      <td>45000</td>\n",
       "      <td>50000</td>\n",
       "      <td>47500</td>\n",
       "      <td>HD</td>\n",
       "      <td>1</td>\n",
       "      <td>1984</td>\n",
       "      <td>46</td>\n",
       "      <td>16</td>\n",
       "      <td>1</td>\n",
       "      <td>0</td>\n",
       "      <td>1</td>\n",
       "      <td>416</td>\n",
       "    </tr>\n",
       "    <tr>\n",
       "      <th>3</th>\n",
       "      <td>55000</td>\n",
       "      <td>63000</td>\n",
       "      <td>59000</td>\n",
       "      <td>HD</td>\n",
       "      <td>1</td>\n",
       "      <td>1984</td>\n",
       "      <td>58</td>\n",
       "      <td>16</td>\n",
       "      <td>1</td>\n",
       "      <td>0</td>\n",
       "      <td>1</td>\n",
       "      <td>416</td>\n",
       "    </tr>\n",
       "    <tr>\n",
       "      <th>4</th>\n",
       "      <td>29000</td>\n",
       "      <td>33000</td>\n",
       "      <td>31000</td>\n",
       "      <td>HD</td>\n",
       "      <td>1</td>\n",
       "      <td>1985</td>\n",
       "      <td>32</td>\n",
       "      <td>15</td>\n",
       "      <td>1</td>\n",
       "      <td>0</td>\n",
       "      <td>1</td>\n",
       "      <td>558</td>\n",
       "    </tr>\n",
       "  </tbody>\n",
       "</table>\n",
       "</div>\n",
       "    <div class=\"colab-df-buttons\">\n",
       "\n",
       "  <div class=\"colab-df-container\">\n",
       "    <button class=\"colab-df-convert\" onclick=\"convertToInteractive('df-9391cc08-8795-431d-8b95-821b428fc436')\"\n",
       "            title=\"Convert this dataframe to an interactive table.\"\n",
       "            style=\"display:none;\">\n",
       "\n",
       "  <svg xmlns=\"http://www.w3.org/2000/svg\" height=\"24px\" viewBox=\"0 -960 960 960\">\n",
       "    <path d=\"M120-120v-720h720v720H120Zm60-500h600v-160H180v160Zm220 220h160v-160H400v160Zm0 220h160v-160H400v160ZM180-400h160v-160H180v160Zm440 0h160v-160H620v160ZM180-180h160v-160H180v160Zm440 0h160v-160H620v160Z\"/>\n",
       "  </svg>\n",
       "    </button>\n",
       "\n",
       "  <style>\n",
       "    .colab-df-container {\n",
       "      display:flex;\n",
       "      gap: 12px;\n",
       "    }\n",
       "\n",
       "    .colab-df-convert {\n",
       "      background-color: #E8F0FE;\n",
       "      border: none;\n",
       "      border-radius: 50%;\n",
       "      cursor: pointer;\n",
       "      display: none;\n",
       "      fill: #1967D2;\n",
       "      height: 32px;\n",
       "      padding: 0 0 0 0;\n",
       "      width: 32px;\n",
       "    }\n",
       "\n",
       "    .colab-df-convert:hover {\n",
       "      background-color: #E2EBFA;\n",
       "      box-shadow: 0px 1px 2px rgba(60, 64, 67, 0.3), 0px 1px 3px 1px rgba(60, 64, 67, 0.15);\n",
       "      fill: #174EA6;\n",
       "    }\n",
       "\n",
       "    .colab-df-buttons div {\n",
       "      margin-bottom: 4px;\n",
       "    }\n",
       "\n",
       "    [theme=dark] .colab-df-convert {\n",
       "      background-color: #3B4455;\n",
       "      fill: #D2E3FC;\n",
       "    }\n",
       "\n",
       "    [theme=dark] .colab-df-convert:hover {\n",
       "      background-color: #434B5C;\n",
       "      box-shadow: 0px 1px 3px 1px rgba(0, 0, 0, 0.15);\n",
       "      filter: drop-shadow(0px 1px 2px rgba(0, 0, 0, 0.3));\n",
       "      fill: #FFFFFF;\n",
       "    }\n",
       "  </style>\n",
       "\n",
       "    <script>\n",
       "      const buttonEl =\n",
       "        document.querySelector('#df-9391cc08-8795-431d-8b95-821b428fc436 button.colab-df-convert');\n",
       "      buttonEl.style.display =\n",
       "        google.colab.kernel.accessAllowed ? 'block' : 'none';\n",
       "\n",
       "      async function convertToInteractive(key) {\n",
       "        const element = document.querySelector('#df-9391cc08-8795-431d-8b95-821b428fc436');\n",
       "        const dataTable =\n",
       "          await google.colab.kernel.invokeFunction('convertToInteractive',\n",
       "                                                    [key], {});\n",
       "        if (!dataTable) return;\n",
       "\n",
       "        const docLinkHtml = 'Like what you see? Visit the ' +\n",
       "          '<a target=\"_blank\" href=https://colab.research.google.com/notebooks/data_table.ipynb>data table notebook</a>'\n",
       "          + ' to learn more about interactive tables.';\n",
       "        element.innerHTML = '';\n",
       "        dataTable['output_type'] = 'display_data';\n",
       "        await google.colab.output.renderOutput(dataTable, element);\n",
       "        const docLink = document.createElement('div');\n",
       "        docLink.innerHTML = docLinkHtml;\n",
       "        element.appendChild(docLink);\n",
       "      }\n",
       "    </script>\n",
       "  </div>\n",
       "\n",
       "\n",
       "<div id=\"df-e27c2cfb-0e08-4887-b02c-eb4e74e0f3a3\">\n",
       "  <button class=\"colab-df-quickchart\" onclick=\"quickchart('df-e27c2cfb-0e08-4887-b02c-eb4e74e0f3a3')\"\n",
       "            title=\"Suggest charts\"\n",
       "            style=\"display:none;\">\n",
       "\n",
       "<svg xmlns=\"http://www.w3.org/2000/svg\" height=\"24px\"viewBox=\"0 0 24 24\"\n",
       "     width=\"24px\">\n",
       "    <g>\n",
       "        <path d=\"M19 3H5c-1.1 0-2 .9-2 2v14c0 1.1.9 2 2 2h14c1.1 0 2-.9 2-2V5c0-1.1-.9-2-2-2zM9 17H7v-7h2v7zm4 0h-2V7h2v10zm4 0h-2v-4h2v4z\"/>\n",
       "    </g>\n",
       "</svg>\n",
       "  </button>\n",
       "\n",
       "<style>\n",
       "  .colab-df-quickchart {\n",
       "      --bg-color: #E8F0FE;\n",
       "      --fill-color: #1967D2;\n",
       "      --hover-bg-color: #E2EBFA;\n",
       "      --hover-fill-color: #174EA6;\n",
       "      --disabled-fill-color: #AAA;\n",
       "      --disabled-bg-color: #DDD;\n",
       "  }\n",
       "\n",
       "  [theme=dark] .colab-df-quickchart {\n",
       "      --bg-color: #3B4455;\n",
       "      --fill-color: #D2E3FC;\n",
       "      --hover-bg-color: #434B5C;\n",
       "      --hover-fill-color: #FFFFFF;\n",
       "      --disabled-bg-color: #3B4455;\n",
       "      --disabled-fill-color: #666;\n",
       "  }\n",
       "\n",
       "  .colab-df-quickchart {\n",
       "    background-color: var(--bg-color);\n",
       "    border: none;\n",
       "    border-radius: 50%;\n",
       "    cursor: pointer;\n",
       "    display: none;\n",
       "    fill: var(--fill-color);\n",
       "    height: 32px;\n",
       "    padding: 0;\n",
       "    width: 32px;\n",
       "  }\n",
       "\n",
       "  .colab-df-quickchart:hover {\n",
       "    background-color: var(--hover-bg-color);\n",
       "    box-shadow: 0 1px 2px rgba(60, 64, 67, 0.3), 0 1px 3px 1px rgba(60, 64, 67, 0.15);\n",
       "    fill: var(--button-hover-fill-color);\n",
       "  }\n",
       "\n",
       "  .colab-df-quickchart-complete:disabled,\n",
       "  .colab-df-quickchart-complete:disabled:hover {\n",
       "    background-color: var(--disabled-bg-color);\n",
       "    fill: var(--disabled-fill-color);\n",
       "    box-shadow: none;\n",
       "  }\n",
       "\n",
       "  .colab-df-spinner {\n",
       "    border: 2px solid var(--fill-color);\n",
       "    border-color: transparent;\n",
       "    border-bottom-color: var(--fill-color);\n",
       "    animation:\n",
       "      spin 1s steps(1) infinite;\n",
       "  }\n",
       "\n",
       "  @keyframes spin {\n",
       "    0% {\n",
       "      border-color: transparent;\n",
       "      border-bottom-color: var(--fill-color);\n",
       "      border-left-color: var(--fill-color);\n",
       "    }\n",
       "    20% {\n",
       "      border-color: transparent;\n",
       "      border-left-color: var(--fill-color);\n",
       "      border-top-color: var(--fill-color);\n",
       "    }\n",
       "    30% {\n",
       "      border-color: transparent;\n",
       "      border-left-color: var(--fill-color);\n",
       "      border-top-color: var(--fill-color);\n",
       "      border-right-color: var(--fill-color);\n",
       "    }\n",
       "    40% {\n",
       "      border-color: transparent;\n",
       "      border-right-color: var(--fill-color);\n",
       "      border-top-color: var(--fill-color);\n",
       "    }\n",
       "    60% {\n",
       "      border-color: transparent;\n",
       "      border-right-color: var(--fill-color);\n",
       "    }\n",
       "    80% {\n",
       "      border-color: transparent;\n",
       "      border-right-color: var(--fill-color);\n",
       "      border-bottom-color: var(--fill-color);\n",
       "    }\n",
       "    90% {\n",
       "      border-color: transparent;\n",
       "      border-bottom-color: var(--fill-color);\n",
       "    }\n",
       "  }\n",
       "</style>\n",
       "\n",
       "  <script>\n",
       "    async function quickchart(key) {\n",
       "      const quickchartButtonEl =\n",
       "        document.querySelector('#' + key + ' button');\n",
       "      quickchartButtonEl.disabled = true;  // To prevent multiple clicks.\n",
       "      quickchartButtonEl.classList.add('colab-df-spinner');\n",
       "      try {\n",
       "        const charts = await google.colab.kernel.invokeFunction(\n",
       "            'suggestCharts', [key], {});\n",
       "      } catch (error) {\n",
       "        console.error('Error during call to suggestCharts:', error);\n",
       "      }\n",
       "      quickchartButtonEl.classList.remove('colab-df-spinner');\n",
       "      quickchartButtonEl.classList.add('colab-df-quickchart-complete');\n",
       "    }\n",
       "    (() => {\n",
       "      let quickchartButtonEl =\n",
       "        document.querySelector('#df-e27c2cfb-0e08-4887-b02c-eb4e74e0f3a3 button');\n",
       "      quickchartButtonEl.style.display =\n",
       "        google.colab.kernel.accessAllowed ? 'block' : 'none';\n",
       "    })();\n",
       "  </script>\n",
       "</div>\n",
       "\n",
       "    </div>\n",
       "  </div>\n"
      ],
      "text/plain": [
       "   시세(하한)  시세(상한)  price 건설업체  지하철  건축년도  squareFit  age  지하철1개 노선  지하철 2개노선  \\\n",
       "0   29000   33000  31000   GN    0  1984         32   16         0         0   \n",
       "1   24000   28000  26000   HD    1  1984         31   16         1         0   \n",
       "2   45000   50000  47500   HD    1  1984         46   16         1         0   \n",
       "3   55000   63000  59000   HD    1  1984         58   16         1         0   \n",
       "4   29000   33000  31000   HD    1  1985         32   15         1         0   \n",
       "\n",
       "   대기업더미  block  \n",
       "0      0    678  \n",
       "1      1    416  \n",
       "2      1    416  \n",
       "3      1    416  \n",
       "4      1    558  "
      ]
     },
     "execution_count": 23,
     "metadata": {},
     "output_type": "execute_result"
    }
   ],
   "source": [
    "#redefine variable names\n",
    "\n",
    "df.rename(columns = {'평수':'squareFit'}, inplace = True)\n",
    "print(df.head())\n",
    "df.rename(columns = {'시세':'price', '연령':'age', '단지규모':'block'}, inplace = True)\n",
    "df.head()"
   ]
  },
  {
   "cell_type": "markdown",
   "metadata": {
    "id": "IAlwGc9TmbBc"
   },
   "source": [
    "# Data Visualization"
   ]
  },
  {
   "cell_type": "markdown",
   "metadata": {
    "id": "-HeESsiymyX3"
   },
   "source": [
    "## Histogram"
   ]
  },
  {
   "cell_type": "code",
   "execution_count": null,
   "metadata": {
    "colab": {
     "base_uri": "https://localhost:8080/",
     "height": 848
    },
    "executionInfo": {
     "elapsed": 391,
     "status": "ok",
     "timestamp": 1709004637479,
     "user": {
      "displayName": "나승찬",
      "userId": "12480086669318498495"
     },
     "user_tz": -540
    },
    "id": "OzhSUgWtkmXk",
    "outputId": "15f9403f-6efe-4850-d0e7-db2c211c5dae"
   },
   "outputs": [
    {
     "data": {
      "text/plain": [
       "<Axes: ylabel='Frequency'>"
      ]
     },
     "execution_count": 28,
     "metadata": {},
     "output_type": "execute_result"
    },
    {
     "data": {
      "image/png": "[encoded data removed]",
      "text/plain": [
       "<Figure size 1000x1000 with 1 Axes>"
      ]
     },
     "metadata": {},
     "output_type": "display_data"
    }
   ],
   "source": [
    "df.price.plot(kind = 'hist', bins = 50, figsize = (10,10))"
   ]
  },
  {
   "cell_type": "code",
   "execution_count": null,
   "metadata": {
    "colab": {
     "base_uri": "https://localhost:8080/",
     "height": 848
    },
    "executionInfo": {
     "elapsed": 1540,
     "status": "ok",
     "timestamp": 1709005108077,
     "user": {
      "displayName": "나승찬",
      "userId": "12480086669318498495"
     },
     "user_tz": -540
    },
    "id": "-xdLwhwHnLq0",
    "outputId": "c70841d2-b0ce-4b34-aa45-45812699049f"
   },
   "outputs": [
    {
     "data": {
      "text/plain": [
       "<Axes: ylabel='Frequency'>"
      ]
     },
     "execution_count": 36,
     "metadata": {},
     "output_type": "execute_result"
    },
    {
     "data": {
      "image/png": "[encoded data removed]",
      "text/plain": [
       "<Figure size 1000x1000 with 1 Axes>"
      ]
     },
     "metadata": {},
     "output_type": "display_data"
    }
   ],
   "source": [
    "filteredDF = df[(df.squareFit >= 30) & (df.age > 15)]\n",
    "filteredDF.price.plot(kind = 'hist', bins = 30, figsize = (10,10))"
   ]
  },
  {
   "cell_type": "markdown",
   "metadata": {
    "id": "MbQ9QaBXpJne"
   },
   "source": [
    "## Scatterplot"
   ]
  },
  {
   "cell_type": "code",
   "execution_count": null,
   "metadata": {
    "colab": {
     "base_uri": "https://localhost:8080/",
     "height": 868
    },
    "executionInfo": {
     "elapsed": 665,
     "status": "ok",
     "timestamp": 1709005159615,
     "user": {
      "displayName": "나승찬",
      "userId": "12480086669318498495"
     },
     "user_tz": -540
    },
    "id": "FPFls6ZgpGpm",
    "outputId": "aef2ab6d-69c5-4659-b8ce-aa255a22cfbd"
   },
   "outputs": [
    {
     "data": {
      "text/plain": [
       "<Axes: xlabel='age', ylabel='price'>"
      ]
     },
     "execution_count": 37,
     "metadata": {},
     "output_type": "execute_result"
    },
    {
     "data": {
      "image/png": "[encoded data removed]",
      "text/plain": [
       "<Figure size 1000x1000 with 1 Axes>"
      ]
     },
     "metadata": {},
     "output_type": "display_data"
    }
   ],
   "source": [
    "df.plot(kind = 'scatter', x = 'age', y = 'price', figsize = (10,10))"
   ]
  },
  {
   "cell_type": "markdown",
   "metadata": {
    "id": "c0T9Mr9sU5DW"
   },
   "source": [
    "# Regression"
   ]
  },
  {
   "cell_type": "code",
   "execution_count": 20,
   "metadata": {
    "colab": {
     "base_uri": "https://localhost:8080/",
     "height": 1000
    },
    "executionInfo": {
     "elapsed": 378,
     "status": "ok",
     "timestamp": 1709177442162,
     "user": {
      "displayName": "나승찬",
      "userId": "12480086669318498495"
     },
     "user_tz": -540
    },
    "id": "DY4vZZwE49v0",
    "outputId": "106ba583-5e10-4748-e896-bc660137e35e"
   },
   "outputs": [
    {
     "data": {
      "text/html": [
       "<div>\n",
       "<style scoped>\n",
       "    .dataframe tbody tr th:only-of-type {\n",
       "        vertical-align: middle;\n",
       "    }\n",
       "\n",
       "    .dataframe tbody tr th {\n",
       "        vertical-align: top;\n",
       "    }\n",
       "\n",
       "    .dataframe thead th {\n",
       "        text-align: right;\n",
       "    }\n",
       "</style>\n",
       "<table border=\"1\" class=\"dataframe\">\n",
       "  <thead>\n",
       "    <tr style=\"text-align: right;\">\n",
       "      <th></th>\n",
       "      <th>시세(하한)</th>\n",
       "      <th>시세(상한)</th>\n",
       "      <th>price</th>\n",
       "      <th>건설업체</th>\n",
       "      <th>지하철</th>\n",
       "      <th>건축년도</th>\n",
       "      <th>squareFit</th>\n",
       "      <th>age</th>\n",
       "      <th>지하철1개 노선</th>\n",
       "      <th>지하철 2개노선</th>\n",
       "      <th>대기업더미</th>\n",
       "      <th>block</th>\n",
       "    </tr>\n",
       "  </thead>\n",
       "  <tbody>\n",
       "    <tr>\n",
       "      <th>0</th>\n",
       "      <td>29000</td>\n",
       "      <td>33000</td>\n",
       "      <td>31000</td>\n",
       "      <td>GN</td>\n",
       "      <td>0</td>\n",
       "      <td>1984</td>\n",
       "      <td>32</td>\n",
       "      <td>16</td>\n",
       "      <td>0</td>\n",
       "      <td>0</td>\n",
       "      <td>0</td>\n",
       "      <td>678</td>\n",
       "    </tr>\n",
       "    <tr>\n",
       "      <th>1</th>\n",
       "      <td>24000</td>\n",
       "      <td>28000</td>\n",
       "      <td>26000</td>\n",
       "      <td>HD</td>\n",
       "      <td>1</td>\n",
       "      <td>1984</td>\n",
       "      <td>31</td>\n",
       "      <td>16</td>\n",
       "      <td>1</td>\n",
       "      <td>0</td>\n",
       "      <td>1</td>\n",
       "      <td>416</td>\n",
       "    </tr>\n",
       "    <tr>\n",
       "      <th>2</th>\n",
       "      <td>45000</td>\n",
       "      <td>50000</td>\n",
       "      <td>47500</td>\n",
       "      <td>HD</td>\n",
       "      <td>1</td>\n",
       "      <td>1984</td>\n",
       "      <td>46</td>\n",
       "      <td>16</td>\n",
       "      <td>1</td>\n",
       "      <td>0</td>\n",
       "      <td>1</td>\n",
       "      <td>416</td>\n",
       "    </tr>\n",
       "    <tr>\n",
       "      <th>3</th>\n",
       "      <td>55000</td>\n",
       "      <td>63000</td>\n",
       "      <td>59000</td>\n",
       "      <td>HD</td>\n",
       "      <td>1</td>\n",
       "      <td>1984</td>\n",
       "      <td>58</td>\n",
       "      <td>16</td>\n",
       "      <td>1</td>\n",
       "      <td>0</td>\n",
       "      <td>1</td>\n",
       "      <td>416</td>\n",
       "    </tr>\n",
       "    <tr>\n",
       "      <th>4</th>\n",
       "      <td>29000</td>\n",
       "      <td>33000</td>\n",
       "      <td>31000</td>\n",
       "      <td>HD</td>\n",
       "      <td>1</td>\n",
       "      <td>1985</td>\n",
       "      <td>32</td>\n",
       "      <td>15</td>\n",
       "      <td>1</td>\n",
       "      <td>0</td>\n",
       "      <td>1</td>\n",
       "      <td>558</td>\n",
       "    </tr>\n",
       "  </tbody>\n",
       "</table>\n",
       "</div>"
      ],
      "text/plain": [
       "   시세(하한)  시세(상한)  price 건설업체  지하철  건축년도  squareFit  age  지하철1개 노선  지하철 2개노선  \\\n",
       "0   29000   33000  31000   GN    0  1984         32   16         0         0   \n",
       "1   24000   28000  26000   HD    1  1984         31   16         1         0   \n",
       "2   45000   50000  47500   HD    1  1984         46   16         1         0   \n",
       "3   55000   63000  59000   HD    1  1984         58   16         1         0   \n",
       "4   29000   33000  31000   HD    1  1985         32   15         1         0   \n",
       "\n",
       "   대기업더미  block  \n",
       "0      0    678  \n",
       "1      1    416  \n",
       "2      1    416  \n",
       "3      1    416  \n",
       "4      1    558  "
      ]
     },
     "execution_count": 20,
     "metadata": {},
     "output_type": "execute_result"
    }
   ],
   "source": [
    "df.rename(columns = {'평수':'squareFit'}, inplace = True)\n",
    "df.rename(columns = {'시세':'price', '연령':'age', '단지규모':'block'}, inplace = True)\n",
    "df.head()"
   ]
  },
  {
   "cell_type": "code",
   "execution_count": 21,
   "metadata": {
    "id": "cdU7Jcwc6jUN"
   },
   "outputs": [],
   "source": [
    "#!pip install statsmodels\n",
    "import statsmodels.formula.api as sfa"
   ]
  },
  {
   "cell_type": "code",
   "execution_count": 22,
   "metadata": {
    "colab": {
     "base_uri": "https://localhost:8080/"
    },
    "executionInfo": {
     "elapsed": 515,
     "status": "ok",
     "timestamp": 1709177983600,
     "user": {
      "displayName": "나승찬",
      "userId": "12480086669318498495"
     },
     "user_tz": -540
    },
    "id": "DoY2QlHh8HmO",
    "outputId": "0d40b742-dee4-470f-ab9a-f98af8f46a0d"
   },
   "outputs": [],
   "source": [
    "lm1 = sfa.ols(formula = 'price ~ age', data = df)"
   ]
  },
  {
   "cell_type": "code",
   "execution_count": 23,
   "metadata": {
    "colab": {
     "base_uri": "https://localhost:8080/",
     "height": 452
    },
    "executionInfo": {
     "elapsed": 362,
     "status": "ok",
     "timestamp": 1709178083794,
     "user": {
      "displayName": "나승찬",
      "userId": "12480086669318498495"
     },
     "user_tz": -540
    },
    "id": "pA3R41-j8z6y",
    "outputId": "958409c8-8095-40ef-e508-c4c456c786b8"
   },
   "outputs": [
    {
     "data": {
      "text/html": [
       "<table class=\"simpletable\">\n",
       "<caption>OLS Regression Results</caption>\n",
       "<tr>\n",
       "  <th>Dep. Variable:</th>          <td>price</td>      <th>  R-squared:         </th> <td>   0.061</td>\n",
       "</tr>\n",
       "<tr>\n",
       "  <th>Model:</th>                   <td>OLS</td>       <th>  Adj. R-squared:    </th> <td>   0.057</td>\n",
       "</tr>\n",
       "<tr>\n",
       "  <th>Method:</th>             <td>Least Squares</td>  <th>  F-statistic:       </th> <td>   15.30</td>\n",
       "</tr>\n",
       "<tr>\n",
       "  <th>Date:</th>             <td>Wed, 13 Mar 2024</td> <th>  Prob (F-statistic):</th> <td>0.000120</td>\n",
       "</tr>\n",
       "<tr>\n",
       "  <th>Time:</th>                 <td>23:50:42</td>     <th>  Log-Likelihood:    </th> <td> -2678.4</td>\n",
       "</tr>\n",
       "<tr>\n",
       "  <th>No. Observations:</th>      <td>   236</td>      <th>  AIC:               </th> <td>   5361.</td>\n",
       "</tr>\n",
       "<tr>\n",
       "  <th>Df Residuals:</th>          <td>   234</td>      <th>  BIC:               </th> <td>   5368.</td>\n",
       "</tr>\n",
       "<tr>\n",
       "  <th>Df Model:</th>              <td>     1</td>      <th>                     </th>     <td> </td>   \n",
       "</tr>\n",
       "<tr>\n",
       "  <th>Covariance Type:</th>      <td>nonrobust</td>    <th>                     </th>     <td> </td>   \n",
       "</tr>\n",
       "</table>\n",
       "<table class=\"simpletable\">\n",
       "<tr>\n",
       "      <td></td>         <th>coef</th>     <th>std err</th>      <th>t</th>      <th>P>|t|</th>  <th>[0.025</th>    <th>0.975]</th>  \n",
       "</tr>\n",
       "<tr>\n",
       "  <th>Intercept</th> <td> 2.455e+04</td> <td> 3623.723</td> <td>    6.774</td> <td> 0.000</td> <td> 1.74e+04</td> <td> 3.17e+04</td>\n",
       "</tr>\n",
       "<tr>\n",
       "  <th>age</th>       <td>  889.8073</td> <td>  227.464</td> <td>    3.912</td> <td> 0.000</td> <td>  441.669</td> <td> 1337.946</td>\n",
       "</tr>\n",
       "</table>\n",
       "<table class=\"simpletable\">\n",
       "<tr>\n",
       "  <th>Omnibus:</th>       <td>62.418</td> <th>  Durbin-Watson:     </th> <td>   1.258</td>\n",
       "</tr>\n",
       "<tr>\n",
       "  <th>Prob(Omnibus):</th> <td> 0.000</td> <th>  Jarque-Bera (JB):  </th> <td> 127.579</td>\n",
       "</tr>\n",
       "<tr>\n",
       "  <th>Skew:</th>          <td> 1.298</td> <th>  Prob(JB):          </th> <td>1.98e-28</td>\n",
       "</tr>\n",
       "<tr>\n",
       "  <th>Kurtosis:</th>      <td> 5.497</td> <th>  Cond. No.          </th> <td>    43.1</td>\n",
       "</tr>\n",
       "</table><br/><br/>Notes:<br/>[1] Standard Errors assume that the covariance matrix of the errors is correctly specified."
      ],
      "text/latex": [
       "\\begin{center}\n",
       "\\begin{tabular}{lclc}\n",
       "\\toprule\n",
       "\\textbf{Dep. Variable:}    &      price       & \\textbf{  R-squared:         } &     0.061   \\\\\n",
       "\\textbf{Model:}            &       OLS        & \\textbf{  Adj. R-squared:    } &     0.057   \\\\\n",
       "\\textbf{Method:}           &  Least Squares   & \\textbf{  F-statistic:       } &     15.30   \\\\\n",
       "\\textbf{Date:}             & Wed, 13 Mar 2024 & \\textbf{  Prob (F-statistic):} &  0.000120   \\\\\n",
       "\\textbf{Time:}             &     23:50:42     & \\textbf{  Log-Likelihood:    } &   -2678.4   \\\\\n",
       "\\textbf{No. Observations:} &         236      & \\textbf{  AIC:               } &     5361.   \\\\\n",
       "\\textbf{Df Residuals:}     &         234      & \\textbf{  BIC:               } &     5368.   \\\\\n",
       "\\textbf{Df Model:}         &           1      & \\textbf{                     } &             \\\\\n",
       "\\textbf{Covariance Type:}  &    nonrobust     & \\textbf{                     } &             \\\\\n",
       "\\bottomrule\n",
       "\\end{tabular}\n",
       "\\begin{tabular}{lcccccc}\n",
       "                   & \\textbf{coef} & \\textbf{std err} & \\textbf{t} & \\textbf{P$> |$t$|$} & \\textbf{[0.025} & \\textbf{0.975]}  \\\\\n",
       "\\midrule\n",
       "\\textbf{Intercept} &    2.455e+04  &     3623.723     &     6.774  &         0.000        &     1.74e+04    &     3.17e+04     \\\\\n",
       "\\textbf{age}       &     889.8073  &      227.464     &     3.912  &         0.000        &      441.669    &     1337.946     \\\\\n",
       "\\bottomrule\n",
       "\\end{tabular}\n",
       "\\begin{tabular}{lclc}\n",
       "\\textbf{Omnibus:}       & 62.418 & \\textbf{  Durbin-Watson:     } &    1.258  \\\\\n",
       "\\textbf{Prob(Omnibus):} &  0.000 & \\textbf{  Jarque-Bera (JB):  } &  127.579  \\\\\n",
       "\\textbf{Skew:}          &  1.298 & \\textbf{  Prob(JB):          } & 1.98e-28  \\\\\n",
       "\\textbf{Kurtosis:}      &  5.497 & \\textbf{  Cond. No.          } &     43.1  \\\\\n",
       "\\bottomrule\n",
       "\\end{tabular}\n",
       "%\\caption{OLS Regression Results}\n",
       "\\end{center}\n",
       "\n",
       "Notes: \\newline\n",
       " [1] Standard Errors assume that the covariance matrix of the errors is correctly specified."
      ],
      "text/plain": [
       "<class 'statsmodels.iolib.summary.Summary'>\n",
       "\"\"\"\n",
       "                            OLS Regression Results                            \n",
       "==============================================================================\n",
       "Dep. Variable:                  price   R-squared:                       0.061\n",
       "Model:                            OLS   Adj. R-squared:                  0.057\n",
       "Method:                 Least Squares   F-statistic:                     15.30\n",
       "Date:                Wed, 13 Mar 2024   Prob (F-statistic):           0.000120\n",
       "Time:                        23:50:42   Log-Likelihood:                -2678.4\n",
       "No. Observations:                 236   AIC:                             5361.\n",
       "Df Residuals:                     234   BIC:                             5368.\n",
       "Df Model:                           1                                         \n",
       "Covariance Type:            nonrobust                                         \n",
       "==============================================================================\n",
       "                 coef    std err          t      P>|t|      [0.025      0.975]\n",
       "------------------------------------------------------------------------------\n",
       "Intercept   2.455e+04   3623.723      6.774      0.000    1.74e+04    3.17e+04\n",
       "age          889.8073    227.464      3.912      0.000     441.669    1337.946\n",
       "==============================================================================\n",
       "Omnibus:                       62.418   Durbin-Watson:                   1.258\n",
       "Prob(Omnibus):                  0.000   Jarque-Bera (JB):              127.579\n",
       "Skew:                           1.298   Prob(JB):                     1.98e-28\n",
       "Kurtosis:                       5.497   Cond. No.                         43.1\n",
       "==============================================================================\n",
       "\n",
       "Notes:\n",
       "[1] Standard Errors assume that the covariance matrix of the errors is correctly specified.\n",
       "\"\"\""
      ]
     },
     "execution_count": 23,
     "metadata": {},
     "output_type": "execute_result"
    }
   ],
   "source": [
    "lm1.fit()\n",
    "lm1.fit().summary()"
   ]
  },
  {
   "cell_type": "code",
   "execution_count": 26,
   "metadata": {
    "id": "EhceKW_a-JIa"
   },
   "outputs": [],
   "source": [
    "#!pip install seaborn\n",
    "import matplotlib.pyplot as plt\n",
    "import seaborn as sns\n",
    "%matplotlib inline"
   ]
  },
  {
   "cell_type": "code",
   "execution_count": 27,
   "metadata": {
    "colab": {
     "base_uri": "https://localhost:8080/",
     "height": 524
    },
    "executionInfo": {
     "elapsed": 650,
     "status": "ok",
     "timestamp": 1709178517228,
     "user": {
      "displayName": "나승찬",
      "userId": "12480086669318498495"
     },
     "user_tz": -540
    },
    "id": "T-9viR13-Qun",
    "outputId": "9b2498f8-8fbe-4565-b1fe-2a64cdb97712"
   },
   "outputs": [
    {
     "data": {
      "text/plain": [
       "<seaborn.axisgrid.FacetGrid at 0x1abc63cc9b0>"
      ]
     },
     "execution_count": 27,
     "metadata": {},
     "output_type": "execute_result"
    },
    {
     "data": {
      "image/png": "[encoded data removed]",
      "text/plain": [
       "<Figure size 500x500 with 1 Axes>"
      ]
     },
     "metadata": {},
     "output_type": "display_data"
    }
   ],
   "source": [
    "sns.lmplot(x = 'age', y = 'price', data = df)"
   ]
  },
  {
   "cell_type": "code",
   "execution_count": 28,
   "metadata": {
    "colab": {
     "base_uri": "https://localhost:8080/",
     "height": 529
    },
    "executionInfo": {
     "elapsed": 14,
     "status": "ok",
     "timestamp": 1709178878028,
     "user": {
      "displayName": "나승찬",
      "userId": "12480086669318498495"
     },
     "user_tz": -540
    },
    "id": "EIodziiy_b6m",
    "outputId": "62c67dfa-615f-448a-e710-2561350203ed"
   },
   "outputs": [
    {
     "data": {
      "text/html": [
       "<table class=\"simpletable\">\n",
       "<caption>OLS Regression Results</caption>\n",
       "<tr>\n",
       "  <th>Dep. Variable:</th>          <td>price</td>      <th>  R-squared:         </th> <td>   0.877</td> \n",
       "</tr>\n",
       "<tr>\n",
       "  <th>Model:</th>                   <td>OLS</td>       <th>  Adj. R-squared:    </th> <td>   0.876</td> \n",
       "</tr>\n",
       "<tr>\n",
       "  <th>Method:</th>             <td>Least Squares</td>  <th>  F-statistic:       </th> <td>   553.2</td> \n",
       "</tr>\n",
       "<tr>\n",
       "  <th>Date:</th>             <td>Wed, 13 Mar 2024</td> <th>  Prob (F-statistic):</th> <td>2.19e-105</td>\n",
       "</tr>\n",
       "<tr>\n",
       "  <th>Time:</th>                 <td>23:51:08</td>     <th>  Log-Likelihood:    </th> <td> -2438.3</td> \n",
       "</tr>\n",
       "<tr>\n",
       "  <th>No. Observations:</th>      <td>   236</td>      <th>  AIC:               </th> <td>   4885.</td> \n",
       "</tr>\n",
       "<tr>\n",
       "  <th>Df Residuals:</th>          <td>   232</td>      <th>  BIC:               </th> <td>   4898.</td> \n",
       "</tr>\n",
       "<tr>\n",
       "  <th>Df Model:</th>              <td>     3</td>      <th>                     </th>     <td> </td>    \n",
       "</tr>\n",
       "<tr>\n",
       "  <th>Covariance Type:</th>      <td>nonrobust</td>    <th>                     </th>     <td> </td>    \n",
       "</tr>\n",
       "</table>\n",
       "<table class=\"simpletable\">\n",
       "<tr>\n",
       "      <td></td>         <th>coef</th>     <th>std err</th>      <th>t</th>      <th>P>|t|</th>  <th>[0.025</th>    <th>0.975]</th>  \n",
       "</tr>\n",
       "<tr>\n",
       "  <th>Intercept</th> <td>-2.029e+04</td> <td> 1747.156</td> <td>  -11.614</td> <td> 0.000</td> <td>-2.37e+04</td> <td>-1.68e+04</td>\n",
       "</tr>\n",
       "<tr>\n",
       "  <th>age</th>       <td> -137.0956</td> <td>   92.797</td> <td>   -1.477</td> <td> 0.141</td> <td> -319.927</td> <td>   45.736</td>\n",
       "</tr>\n",
       "<tr>\n",
       "  <th>squareFit</th> <td> 1538.7060</td> <td>   39.711</td> <td>   38.748</td> <td> 0.000</td> <td> 1460.466</td> <td> 1616.946</td>\n",
       "</tr>\n",
       "<tr>\n",
       "  <th>block</th>     <td>    2.0950</td> <td>    0.543</td> <td>    3.860</td> <td> 0.000</td> <td>    1.026</td> <td>    3.164</td>\n",
       "</tr>\n",
       "</table>\n",
       "<table class=\"simpletable\">\n",
       "<tr>\n",
       "  <th>Omnibus:</th>       <td>68.447</td> <th>  Durbin-Watson:     </th> <td>   1.091</td>\n",
       "</tr>\n",
       "<tr>\n",
       "  <th>Prob(Omnibus):</th> <td> 0.000</td> <th>  Jarque-Bera (JB):  </th> <td> 232.943</td>\n",
       "</tr>\n",
       "<tr>\n",
       "  <th>Skew:</th>          <td> 1.182</td> <th>  Prob(JB):          </th> <td>2.61e-51</td>\n",
       "</tr>\n",
       "<tr>\n",
       "  <th>Kurtosis:</th>      <td> 7.254</td> <th>  Cond. No.          </th> <td>5.33e+03</td>\n",
       "</tr>\n",
       "</table><br/><br/>Notes:<br/>[1] Standard Errors assume that the covariance matrix of the errors is correctly specified.<br/>[2] The condition number is large, 5.33e+03. This might indicate that there are<br/>strong multicollinearity or other numerical problems."
      ],
      "text/latex": [
       "\\begin{center}\n",
       "\\begin{tabular}{lclc}\n",
       "\\toprule\n",
       "\\textbf{Dep. Variable:}    &      price       & \\textbf{  R-squared:         } &     0.877   \\\\\n",
       "\\textbf{Model:}            &       OLS        & \\textbf{  Adj. R-squared:    } &     0.876   \\\\\n",
       "\\textbf{Method:}           &  Least Squares   & \\textbf{  F-statistic:       } &     553.2   \\\\\n",
       "\\textbf{Date:}             & Wed, 13 Mar 2024 & \\textbf{  Prob (F-statistic):} & 2.19e-105   \\\\\n",
       "\\textbf{Time:}             &     23:51:08     & \\textbf{  Log-Likelihood:    } &   -2438.3   \\\\\n",
       "\\textbf{No. Observations:} &         236      & \\textbf{  AIC:               } &     4885.   \\\\\n",
       "\\textbf{Df Residuals:}     &         232      & \\textbf{  BIC:               } &     4898.   \\\\\n",
       "\\textbf{Df Model:}         &           3      & \\textbf{                     } &             \\\\\n",
       "\\textbf{Covariance Type:}  &    nonrobust     & \\textbf{                     } &             \\\\\n",
       "\\bottomrule\n",
       "\\end{tabular}\n",
       "\\begin{tabular}{lcccccc}\n",
       "                   & \\textbf{coef} & \\textbf{std err} & \\textbf{t} & \\textbf{P$> |$t$|$} & \\textbf{[0.025} & \\textbf{0.975]}  \\\\\n",
       "\\midrule\n",
       "\\textbf{Intercept} &   -2.029e+04  &     1747.156     &   -11.614  &         0.000        &    -2.37e+04    &    -1.68e+04     \\\\\n",
       "\\textbf{age}       &    -137.0956  &       92.797     &    -1.477  &         0.141        &     -319.927    &       45.736     \\\\\n",
       "\\textbf{squareFit} &    1538.7060  &       39.711     &    38.748  &         0.000        &     1460.466    &     1616.946     \\\\\n",
       "\\textbf{block}     &       2.0950  &        0.543     &     3.860  &         0.000        &        1.026    &        3.164     \\\\\n",
       "\\bottomrule\n",
       "\\end{tabular}\n",
       "\\begin{tabular}{lclc}\n",
       "\\textbf{Omnibus:}       & 68.447 & \\textbf{  Durbin-Watson:     } &    1.091  \\\\\n",
       "\\textbf{Prob(Omnibus):} &  0.000 & \\textbf{  Jarque-Bera (JB):  } &  232.943  \\\\\n",
       "\\textbf{Skew:}          &  1.182 & \\textbf{  Prob(JB):          } & 2.61e-51  \\\\\n",
       "\\textbf{Kurtosis:}      &  7.254 & \\textbf{  Cond. No.          } & 5.33e+03  \\\\\n",
       "\\bottomrule\n",
       "\\end{tabular}\n",
       "%\\caption{OLS Regression Results}\n",
       "\\end{center}\n",
       "\n",
       "Notes: \\newline\n",
       " [1] Standard Errors assume that the covariance matrix of the errors is correctly specified. \\newline\n",
       " [2] The condition number is large, 5.33e+03. This might indicate that there are \\newline\n",
       " strong multicollinearity or other numerical problems."
      ],
      "text/plain": [
       "<class 'statsmodels.iolib.summary.Summary'>\n",
       "\"\"\"\n",
       "                            OLS Regression Results                            \n",
       "==============================================================================\n",
       "Dep. Variable:                  price   R-squared:                       0.877\n",
       "Model:                            OLS   Adj. R-squared:                  0.876\n",
       "Method:                 Least Squares   F-statistic:                     553.2\n",
       "Date:                Wed, 13 Mar 2024   Prob (F-statistic):          2.19e-105\n",
       "Time:                        23:51:08   Log-Likelihood:                -2438.3\n",
       "No. Observations:                 236   AIC:                             4885.\n",
       "Df Residuals:                     232   BIC:                             4898.\n",
       "Df Model:                           3                                         \n",
       "Covariance Type:            nonrobust                                         \n",
       "==============================================================================\n",
       "                 coef    std err          t      P>|t|      [0.025      0.975]\n",
       "------------------------------------------------------------------------------\n",
       "Intercept  -2.029e+04   1747.156    -11.614      0.000   -2.37e+04   -1.68e+04\n",
       "age         -137.0956     92.797     -1.477      0.141    -319.927      45.736\n",
       "squareFit   1538.7060     39.711     38.748      0.000    1460.466    1616.946\n",
       "block          2.0950      0.543      3.860      0.000       1.026       3.164\n",
       "==============================================================================\n",
       "Omnibus:                       68.447   Durbin-Watson:                   1.091\n",
       "Prob(Omnibus):                  0.000   Jarque-Bera (JB):              232.943\n",
       "Skew:                           1.182   Prob(JB):                     2.61e-51\n",
       "Kurtosis:                       7.254   Cond. No.                     5.33e+03\n",
       "==============================================================================\n",
       "\n",
       "Notes:\n",
       "[1] Standard Errors assume that the covariance matrix of the errors is correctly specified.\n",
       "[2] The condition number is large, 5.33e+03. This might indicate that there are\n",
       "strong multicollinearity or other numerical problems.\n",
       "\"\"\""
      ]
     },
     "execution_count": 28,
     "metadata": {},
     "output_type": "execute_result"
    }
   ],
   "source": [
    "lm2 = sfa.ols(formula = 'price ~ age + squareFit + block', data = df).fit()\n",
    "lm2.summary()"
   ]
  },
  {
   "cell_type": "code",
   "execution_count": 29,
   "metadata": {
    "id": "A-oxlgbj_bgh"
   },
   "outputs": [],
   "source": [
    "import statsmodels.api as sa"
   ]
  },
  {
   "cell_type": "code",
   "execution_count": 30,
   "metadata": {
    "id": "gwIsbzd-AGQC"
   },
   "outputs": [],
   "source": [
    "x = df[['age', 'squareFit', 'block']]\n",
    "y = df['price']\n",
    "\n",
    "x_cons = sa.add_constant(x)"
   ]
  },
  {
   "cell_type": "code",
   "execution_count": 31,
   "metadata": {
    "colab": {
     "base_uri": "https://localhost:8080/",
     "height": 529
    },
    "executionInfo": {
     "elapsed": 13,
     "status": "ok",
     "timestamp": 1709179260550,
     "user": {
      "displayName": "나승찬",
      "userId": "12480086669318498495"
     },
     "user_tz": -540
    },
    "id": "VXWudo6-BIWo",
    "outputId": "a7f7c73e-26d8-426b-d834-a23166c4e2ca"
   },
   "outputs": [
    {
     "data": {
      "text/html": [
       "<table class=\"simpletable\">\n",
       "<caption>OLS Regression Results</caption>\n",
       "<tr>\n",
       "  <th>Dep. Variable:</th>          <td>price</td>      <th>  R-squared:         </th> <td>   0.877</td> \n",
       "</tr>\n",
       "<tr>\n",
       "  <th>Model:</th>                   <td>OLS</td>       <th>  Adj. R-squared:    </th> <td>   0.876</td> \n",
       "</tr>\n",
       "<tr>\n",
       "  <th>Method:</th>             <td>Least Squares</td>  <th>  F-statistic:       </th> <td>   553.2</td> \n",
       "</tr>\n",
       "<tr>\n",
       "  <th>Date:</th>             <td>Wed, 13 Mar 2024</td> <th>  Prob (F-statistic):</th> <td>2.19e-105</td>\n",
       "</tr>\n",
       "<tr>\n",
       "  <th>Time:</th>                 <td>23:51:14</td>     <th>  Log-Likelihood:    </th> <td> -2438.3</td> \n",
       "</tr>\n",
       "<tr>\n",
       "  <th>No. Observations:</th>      <td>   236</td>      <th>  AIC:               </th> <td>   4885.</td> \n",
       "</tr>\n",
       "<tr>\n",
       "  <th>Df Residuals:</th>          <td>   232</td>      <th>  BIC:               </th> <td>   4898.</td> \n",
       "</tr>\n",
       "<tr>\n",
       "  <th>Df Model:</th>              <td>     3</td>      <th>                     </th>     <td> </td>    \n",
       "</tr>\n",
       "<tr>\n",
       "  <th>Covariance Type:</th>      <td>nonrobust</td>    <th>                     </th>     <td> </td>    \n",
       "</tr>\n",
       "</table>\n",
       "<table class=\"simpletable\">\n",
       "<tr>\n",
       "      <td></td>         <th>coef</th>     <th>std err</th>      <th>t</th>      <th>P>|t|</th>  <th>[0.025</th>    <th>0.975]</th>  \n",
       "</tr>\n",
       "<tr>\n",
       "  <th>const</th>     <td>-2.029e+04</td> <td> 1747.156</td> <td>  -11.614</td> <td> 0.000</td> <td>-2.37e+04</td> <td>-1.68e+04</td>\n",
       "</tr>\n",
       "<tr>\n",
       "  <th>age</th>       <td> -137.0956</td> <td>   92.797</td> <td>   -1.477</td> <td> 0.141</td> <td> -319.927</td> <td>   45.736</td>\n",
       "</tr>\n",
       "<tr>\n",
       "  <th>squareFit</th> <td> 1538.7060</td> <td>   39.711</td> <td>   38.748</td> <td> 0.000</td> <td> 1460.466</td> <td> 1616.946</td>\n",
       "</tr>\n",
       "<tr>\n",
       "  <th>block</th>     <td>    2.0950</td> <td>    0.543</td> <td>    3.860</td> <td> 0.000</td> <td>    1.026</td> <td>    3.164</td>\n",
       "</tr>\n",
       "</table>\n",
       "<table class=\"simpletable\">\n",
       "<tr>\n",
       "  <th>Omnibus:</th>       <td>68.447</td> <th>  Durbin-Watson:     </th> <td>   1.091</td>\n",
       "</tr>\n",
       "<tr>\n",
       "  <th>Prob(Omnibus):</th> <td> 0.000</td> <th>  Jarque-Bera (JB):  </th> <td> 232.943</td>\n",
       "</tr>\n",
       "<tr>\n",
       "  <th>Skew:</th>          <td> 1.182</td> <th>  Prob(JB):          </th> <td>2.61e-51</td>\n",
       "</tr>\n",
       "<tr>\n",
       "  <th>Kurtosis:</th>      <td> 7.254</td> <th>  Cond. No.          </th> <td>5.33e+03</td>\n",
       "</tr>\n",
       "</table><br/><br/>Notes:<br/>[1] Standard Errors assume that the covariance matrix of the errors is correctly specified.<br/>[2] The condition number is large, 5.33e+03. This might indicate that there are<br/>strong multicollinearity or other numerical problems."
      ],
      "text/latex": [
       "\\begin{center}\n",
       "\\begin{tabular}{lclc}\n",
       "\\toprule\n",
       "\\textbf{Dep. Variable:}    &      price       & \\textbf{  R-squared:         } &     0.877   \\\\\n",
       "\\textbf{Model:}            &       OLS        & \\textbf{  Adj. R-squared:    } &     0.876   \\\\\n",
       "\\textbf{Method:}           &  Least Squares   & \\textbf{  F-statistic:       } &     553.2   \\\\\n",
       "\\textbf{Date:}             & Wed, 13 Mar 2024 & \\textbf{  Prob (F-statistic):} & 2.19e-105   \\\\\n",
       "\\textbf{Time:}             &     23:51:14     & \\textbf{  Log-Likelihood:    } &   -2438.3   \\\\\n",
       "\\textbf{No. Observations:} &         236      & \\textbf{  AIC:               } &     4885.   \\\\\n",
       "\\textbf{Df Residuals:}     &         232      & \\textbf{  BIC:               } &     4898.   \\\\\n",
       "\\textbf{Df Model:}         &           3      & \\textbf{                     } &             \\\\\n",
       "\\textbf{Covariance Type:}  &    nonrobust     & \\textbf{                     } &             \\\\\n",
       "\\bottomrule\n",
       "\\end{tabular}\n",
       "\\begin{tabular}{lcccccc}\n",
       "                   & \\textbf{coef} & \\textbf{std err} & \\textbf{t} & \\textbf{P$> |$t$|$} & \\textbf{[0.025} & \\textbf{0.975]}  \\\\\n",
       "\\midrule\n",
       "\\textbf{const}     &   -2.029e+04  &     1747.156     &   -11.614  &         0.000        &    -2.37e+04    &    -1.68e+04     \\\\\n",
       "\\textbf{age}       &    -137.0956  &       92.797     &    -1.477  &         0.141        &     -319.927    &       45.736     \\\\\n",
       "\\textbf{squareFit} &    1538.7060  &       39.711     &    38.748  &         0.000        &     1460.466    &     1616.946     \\\\\n",
       "\\textbf{block}     &       2.0950  &        0.543     &     3.860  &         0.000        &        1.026    &        3.164     \\\\\n",
       "\\bottomrule\n",
       "\\end{tabular}\n",
       "\\begin{tabular}{lclc}\n",
       "\\textbf{Omnibus:}       & 68.447 & \\textbf{  Durbin-Watson:     } &    1.091  \\\\\n",
       "\\textbf{Prob(Omnibus):} &  0.000 & \\textbf{  Jarque-Bera (JB):  } &  232.943  \\\\\n",
       "\\textbf{Skew:}          &  1.182 & \\textbf{  Prob(JB):          } & 2.61e-51  \\\\\n",
       "\\textbf{Kurtosis:}      &  7.254 & \\textbf{  Cond. No.          } & 5.33e+03  \\\\\n",
       "\\bottomrule\n",
       "\\end{tabular}\n",
       "%\\caption{OLS Regression Results}\n",
       "\\end{center}\n",
       "\n",
       "Notes: \\newline\n",
       " [1] Standard Errors assume that the covariance matrix of the errors is correctly specified. \\newline\n",
       " [2] The condition number is large, 5.33e+03. This might indicate that there are \\newline\n",
       " strong multicollinearity or other numerical problems."
      ],
      "text/plain": [
       "<class 'statsmodels.iolib.summary.Summary'>\n",
       "\"\"\"\n",
       "                            OLS Regression Results                            \n",
       "==============================================================================\n",
       "Dep. Variable:                  price   R-squared:                       0.877\n",
       "Model:                            OLS   Adj. R-squared:                  0.876\n",
       "Method:                 Least Squares   F-statistic:                     553.2\n",
       "Date:                Wed, 13 Mar 2024   Prob (F-statistic):          2.19e-105\n",
       "Time:                        23:51:14   Log-Likelihood:                -2438.3\n",
       "No. Observations:                 236   AIC:                             4885.\n",
       "Df Residuals:                     232   BIC:                             4898.\n",
       "Df Model:                           3                                         \n",
       "Covariance Type:            nonrobust                                         \n",
       "==============================================================================\n",
       "                 coef    std err          t      P>|t|      [0.025      0.975]\n",
       "------------------------------------------------------------------------------\n",
       "const      -2.029e+04   1747.156    -11.614      0.000   -2.37e+04   -1.68e+04\n",
       "age         -137.0956     92.797     -1.477      0.141    -319.927      45.736\n",
       "squareFit   1538.7060     39.711     38.748      0.000    1460.466    1616.946\n",
       "block          2.0950      0.543      3.860      0.000       1.026       3.164\n",
       "==============================================================================\n",
       "Omnibus:                       68.447   Durbin-Watson:                   1.091\n",
       "Prob(Omnibus):                  0.000   Jarque-Bera (JB):              232.943\n",
       "Skew:                           1.182   Prob(JB):                     2.61e-51\n",
       "Kurtosis:                       7.254   Cond. No.                     5.33e+03\n",
       "==============================================================================\n",
       "\n",
       "Notes:\n",
       "[1] Standard Errors assume that the covariance matrix of the errors is correctly specified.\n",
       "[2] The condition number is large, 5.33e+03. This might indicate that there are\n",
       "strong multicollinearity or other numerical problems.\n",
       "\"\"\""
      ]
     },
     "execution_count": 31,
     "metadata": {},
     "output_type": "execute_result"
    }
   ],
   "source": [
    "lm3 = sa.OLS(y, x_cons).fit()\n",
    "lm3.summary()"
   ]
  },
  {
   "cell_type": "code",
   "execution_count": null,
   "metadata": {
    "id": "2WJBETMDdTnh"
   },
   "outputs": [],
   "source": [
    "def myrounding(num: float)->int:\n",
    "    if num > 0:\n",
    "        if abs(num-int(num))>=0.5:\n",
    "            rounding = int(num) + 1\n",
    "        else :\n",
    "            rounding = int(num)\n",
    "    else :\n",
    "        if abs(num-int(num))>=0.5:\n",
    "            rounding = int(num) - 1\n",
    "        else :\n",
    "            rounding = int(num)\n",
    "    return rounding"
   ]
  },
  {
   "cell_type": "code",
   "execution_count": null,
   "metadata": {
    "id": "bsuTcSY7fmyt"
   },
   "outputs": [],
   "source": [
    "def myrounding(x : float) -> int :\n",
    "    if x >= 0 :\n",
    "        if x%1 >= 0.5 :\n",
    "            y = x//1 + 1\n",
    "        else :\n",
    "            y = x//1\n",
    "    else :\n",
    "        if x%1 >= 0.5 :\n",
    "            y = x//1 + 1\n",
    "        else :\n",
    "            y =  x//1\n",
    "    return int(y)"
   ]
  }
 ],
 "metadata": {
  "colab": {
   "authorship_tag": "ABX9TyPWtvEVYirjhTDo9+JYtf2t",
   "provenance": [],
   "toc_visible": true
  },
  "kernelspec": {
   "display_name": "Python 3 (ipykernel)",
   "language": "python",
   "name": "python3"
  },
  "language_info": {
   "codemirror_mode": {
    "name": "ipython",
    "version": 3
   },
   "file_extension": ".py",
   "mimetype": "text/x-python",
   "name": "python",
   "nbconvert_exporter": "python",
   "pygments_lexer": "ipython3",
   "version": "3.12.1"
  }
 },
 "nbformat": 4,
 "nbformat_minor": 4
}
