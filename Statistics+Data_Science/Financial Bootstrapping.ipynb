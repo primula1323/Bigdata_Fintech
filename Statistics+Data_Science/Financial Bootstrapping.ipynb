{
 "cells": [
  {
   "cell_type": "code",
   "execution_count": 1,
   "id": "c8730ff6",
   "metadata": {},
   "outputs": [],
   "source": [
    "#!pip install pykrx"
   ]
  },
  {
   "cell_type": "code",
   "execution_count": 2,
   "id": "275a003d",
   "metadata": {},
   "outputs": [],
   "source": [
    "import pykrx\n",
    "#help(pykrx)  "
   ]
  },
  {
   "cell_type": "code",
   "execution_count": 3,
   "id": "e083bb04",
   "metadata": {},
   "outputs": [],
   "source": [
    "# 1. 데이터 소개\n",
    "from pykrx import stock\n",
    "\n",
    "# bond도 가능함\n",
    "# from pykrx import bond\n",
    "\n",
    "# https://github.com/sharebook-kr/pykrx\n",
    "\n",
    "# tickers = stock.get_market_ticker_list(조회일자(YYYYmmdd) [,market=조회할 시장(KOSPI, KOSDAQ, ALL])\n",
    "# name = get_market_ticker_name(심볼 [,market=조회할 시장(KOSPI, KOSDAQ, ALL])\n",
    "# ohlcv = stock.stock.get_market_ohlcv(조회일자(YYYYmmdd) [,앞에 시작일을 넣었다면 종료일] [,심볼] )\n",
    "\n",
    "# 예시\n",
    "#tickers = stock.get_market_ticker_list(\"20220222\", market=\"KOSPI\") # 코스피 종목 리스트\n",
    "#name = stock.get_market_ticker_name(\"005930\") # 심볼 -> 기업 이름\n",
    "#ohlcv = stock.get_market_ohlcv(\"20220222\", market=\"KOSPI\") # 특정일 코스피 종목들의 OHLCV\n",
    "raw = stock.get_market_ohlcv('20221229', '20231231', '005930') # 특정기간 특정 종목의 OHLCV : 'm' 등 옵션 존재."
   ]
  },
  {
   "cell_type": "code",
   "execution_count": null,
   "id": "01979b80",
   "metadata": {
    "scrolled": true
   },
   "outputs": [
    {
     "name": "stdout",
     "output_type": "stream",
     "text": [
      "246\n"
     ]
    },
    {
     "data": {
      "text/plain": [
       "pandas.core.frame.DataFrame"
      ]
     },
     "execution_count": 21,
     "metadata": {},
     "output_type": "execute_result"
    }
   ],
   "source": [
    "print(len(raw))\n",
    "raw.head()\n",
    "type(raw)"
   ]
  },
  {
   "cell_type": "code",
   "execution_count": 22,
   "id": "33f63514",
   "metadata": {},
   "outputs": [
    {
     "data": {
      "text/html": [
       "<div>\n",
       "<style scoped>\n",
       "    .dataframe tbody tr th:only-of-type {\n",
       "        vertical-align: middle;\n",
       "    }\n",
       "\n",
       "    .dataframe tbody tr th {\n",
       "        vertical-align: top;\n",
       "    }\n",
       "\n",
       "    .dataframe thead th {\n",
       "        text-align: right;\n",
       "    }\n",
       "</style>\n",
       "<table border=\"1\" class=\"dataframe\">\n",
       "  <thead>\n",
       "    <tr style=\"text-align: right;\">\n",
       "      <th></th>\n",
       "      <th>종가</th>\n",
       "    </tr>\n",
       "    <tr>\n",
       "      <th>날짜</th>\n",
       "      <th></th>\n",
       "    </tr>\n",
       "  </thead>\n",
       "  <tbody>\n",
       "    <tr>\n",
       "      <th>2022-12-29</th>\n",
       "      <td>75000</td>\n",
       "    </tr>\n",
       "    <tr>\n",
       "      <th>2023-01-02</th>\n",
       "      <td>75700</td>\n",
       "    </tr>\n",
       "    <tr>\n",
       "      <th>2023-01-03</th>\n",
       "      <td>75600</td>\n",
       "    </tr>\n",
       "    <tr>\n",
       "      <th>2023-01-04</th>\n",
       "      <td>81000</td>\n",
       "    </tr>\n",
       "    <tr>\n",
       "      <th>2023-01-05</th>\n",
       "      <td>81400</td>\n",
       "    </tr>\n",
       "  </tbody>\n",
       "</table>\n",
       "</div>"
      ],
      "text/plain": [
       "               종가\n",
       "날짜               \n",
       "2022-12-29  75000\n",
       "2023-01-02  75700\n",
       "2023-01-03  75600\n",
       "2023-01-04  81000\n",
       "2023-01-05  81400"
      ]
     },
     "execution_count": 22,
     "metadata": {},
     "output_type": "execute_result"
    }
   ],
   "source": [
    "# 2. 수익률 계산하기\n",
    "import pandas as pd\n",
    "import numpy as np\n",
    "df=pd.DataFrame(raw[['종가']])\n",
    "df.head()"
   ]
  },
  {
   "cell_type": "code",
   "execution_count": 23,
   "id": "08052210",
   "metadata": {},
   "outputs": [
    {
     "data": {
      "text/html": [
       "<div>\n",
       "<style scoped>\n",
       "    .dataframe tbody tr th:only-of-type {\n",
       "        vertical-align: middle;\n",
       "    }\n",
       "\n",
       "    .dataframe tbody tr th {\n",
       "        vertical-align: top;\n",
       "    }\n",
       "\n",
       "    .dataframe thead th {\n",
       "        text-align: right;\n",
       "    }\n",
       "</style>\n",
       "<table border=\"1\" class=\"dataframe\">\n",
       "  <thead>\n",
       "    <tr style=\"text-align: right;\">\n",
       "      <th></th>\n",
       "      <th>close</th>\n",
       "    </tr>\n",
       "    <tr>\n",
       "      <th>날짜</th>\n",
       "      <th></th>\n",
       "    </tr>\n",
       "  </thead>\n",
       "  <tbody>\n",
       "    <tr>\n",
       "      <th>2022-12-29</th>\n",
       "      <td>75000</td>\n",
       "    </tr>\n",
       "    <tr>\n",
       "      <th>2023-01-02</th>\n",
       "      <td>75700</td>\n",
       "    </tr>\n",
       "    <tr>\n",
       "      <th>2023-01-03</th>\n",
       "      <td>75600</td>\n",
       "    </tr>\n",
       "    <tr>\n",
       "      <th>2023-01-04</th>\n",
       "      <td>81000</td>\n",
       "    </tr>\n",
       "    <tr>\n",
       "      <th>2023-01-05</th>\n",
       "      <td>81400</td>\n",
       "    </tr>\n",
       "  </tbody>\n",
       "</table>\n",
       "</div>"
      ],
      "text/plain": [
       "            close\n",
       "날짜               \n",
       "2022-12-29  75000\n",
       "2023-01-02  75700\n",
       "2023-01-03  75600\n",
       "2023-01-04  81000\n",
       "2023-01-05  81400"
      ]
     },
     "execution_count": 23,
     "metadata": {},
     "output_type": "execute_result"
    }
   ],
   "source": [
    "df = df.rename(columns={'종가':'close'})\n",
    "df.head()"
   ]
  },
  {
   "cell_type": "code",
   "execution_count": 27,
   "id": "9399fe80-9989-4e3f-9b75-1f5b2d5d8893",
   "metadata": {},
   "outputs": [
    {
     "data": {
      "text/html": [
       "<div>\n",
       "<style scoped>\n",
       "    .dataframe tbody tr th:only-of-type {\n",
       "        vertical-align: middle;\n",
       "    }\n",
       "\n",
       "    .dataframe tbody tr th {\n",
       "        vertical-align: top;\n",
       "    }\n",
       "\n",
       "    .dataframe thead th {\n",
       "        text-align: right;\n",
       "    }\n",
       "</style>\n",
       "<table border=\"1\" class=\"dataframe\">\n",
       "  <thead>\n",
       "    <tr style=\"text-align: right;\">\n",
       "      <th></th>\n",
       "      <th>close</th>\n",
       "      <th>return</th>\n",
       "    </tr>\n",
       "    <tr>\n",
       "      <th>날짜</th>\n",
       "      <th></th>\n",
       "      <th></th>\n",
       "    </tr>\n",
       "  </thead>\n",
       "  <tbody>\n",
       "    <tr>\n",
       "      <th>2022-12-29</th>\n",
       "      <td>75000</td>\n",
       "      <td>NaN</td>\n",
       "    </tr>\n",
       "    <tr>\n",
       "      <th>2023-01-02</th>\n",
       "      <td>75700</td>\n",
       "      <td>0.009290</td>\n",
       "    </tr>\n",
       "    <tr>\n",
       "      <th>2023-01-03</th>\n",
       "      <td>75600</td>\n",
       "      <td>-0.001322</td>\n",
       "    </tr>\n",
       "    <tr>\n",
       "      <th>2023-01-04</th>\n",
       "      <td>81000</td>\n",
       "      <td>0.068993</td>\n",
       "    </tr>\n",
       "    <tr>\n",
       "      <th>2023-01-05</th>\n",
       "      <td>81400</td>\n",
       "      <td>0.004926</td>\n",
       "    </tr>\n",
       "  </tbody>\n",
       "</table>\n",
       "</div>"
      ],
      "text/plain": [
       "            close    return\n",
       "날짜                         \n",
       "2022-12-29  75000       NaN\n",
       "2023-01-02  75700  0.009290\n",
       "2023-01-03  75600 -0.001322\n",
       "2023-01-04  81000  0.068993\n",
       "2023-01-05  81400  0.004926"
      ]
     },
     "execution_count": 27,
     "metadata": {},
     "output_type": "execute_result"
    }
   ],
   "source": [
    "df['return'] = np.log(df['close']/df['close'].shift(1))\n",
    "df.head()"
   ]
  },
  {
   "cell_type": "code",
   "execution_count": 28,
   "id": "fc56a3f7",
   "metadata": {},
   "outputs": [
    {
     "data": {
      "text/plain": [
       "[0.03335559370088325,\n",
       " 0.007790801787768223,\n",
       " 0.044164420008634644,\n",
       " -0.012325085992620118,\n",
       " 0.010022862948652084,\n",
       " -0.00865057297600882,\n",
       " -0.01351371916672282,\n",
       " -0.02737553330017249,\n",
       " 0.007851975282685391,\n",
       " 0.031051339832050398,\n",
       " -0.012931214672248779,\n",
       " -0.010520260674179278,\n",
       " -0.005685063634608306,\n",
       " 0.040124887486099256,\n",
       " 0.010022862948652084,\n",
       " 0.0051063940745740555,\n",
       " -0.0011954574047737456,\n",
       " 0.0078023802841848,\n",
       " -0.01974247872920115,\n",
       " 0.0078023802841848,\n",
       " 0.005341485420333782,\n",
       " -0.02170627858186306,\n",
       " 0.021978906718775167,\n",
       " 0.01648627361704588,\n",
       " -0.017586384502075867,\n",
       " -0.02170627858186306,\n",
       " 0.012054940505353898,\n",
       " -0.01351371916672282,\n",
       " -0.007639456557957614,\n",
       " -0.005282632464427224,\n",
       " 0.03960913809504588,\n",
       " 0.020690393257446246,\n",
       " 0.02712030621919382,\n",
       " 0.01916434958921572,\n",
       " 0.001166180890182394,\n",
       " 0.0016792615197199939,\n",
       " -0.010520260674179278,\n",
       " -0.021555003561829697,\n",
       " 0.010022862948652084,\n",
       " 0.017798022644327213,\n",
       " -0.00867308125342878,\n",
       " 0.019342962843130935,\n",
       " 0.018329354121905013,\n",
       " 0.004017683186612394,\n",
       " 0.015306421282675507,\n",
       " 0.04246448051775859,\n",
       " 0.044164420008634644,\n",
       " 0.011438752088424355,\n",
       " -0.03707248461499174,\n",
       " -0.027444549923600712,\n",
       " -0.003059665823955499,\n",
       " 0.0049261183360557815,\n",
       " 0.03871451218069043,\n",
       " -0.010221554071538028,\n",
       " -0.005163522660049269,\n",
       " 0.01368230600157806,\n",
       " 0.01561814015696496,\n",
       " 0.03871451218069043,\n",
       " -0.0025136167403160123,\n",
       " -0.014888612493750637,\n",
       " -0.02737553330017249,\n",
       " 0.001635323340730838,\n",
       " 0.002328289759591168,\n",
       " -0.020834086902842025,\n",
       " -0.009602867333341467,\n",
       " 0.0031298930089275656,\n",
       " 0.010920545346660872,\n",
       " 0.018329354121905013,\n",
       " -0.03659915244832968,\n",
       " -0.0012650223065867451,\n",
       " 0.032242926446220566,\n",
       " 0.0,\n",
       " 0.015532518759621737,\n",
       " 0.0216286177267781,\n",
       " 0.001166180890182394,\n",
       " 0.0174829627803476,\n",
       " 0.001635323340730838,\n",
       " -0.011376686982107934,\n",
       " 0.005341485420333782,\n",
       " -0.009181395790290954,\n",
       " -0.006460567002944017,\n",
       " -0.03659915244832968,\n",
       " 0.014876307401287934,\n",
       " 0.01589136733663466,\n",
       " 0.03174869831458027,\n",
       " -0.0012650223065867451,\n",
       " 0.006825965070399891,\n",
       " -0.006688988150796652,\n",
       " -0.010520260674179278,\n",
       " 0.0008587377084178045,\n",
       " 0.007851975282685391,\n",
       " 0.0,\n",
       " 0.010920545346660872,\n",
       " -0.010520260674179278,\n",
       " 0.031051339832050398,\n",
       " 0.03074608616230909,\n",
       " 0.018899951130484007,\n",
       " 0.018329354121905013,\n",
       " 0.01645676196351055,\n",
       " -0.028170876966696335,\n",
       " 0.0343025943921052,\n",
       " 0.0049261183360557815,\n",
       " -0.024970086347759043,\n",
       " 0.01990115431729502,\n",
       " -0.01553251875962172,\n",
       " -0.010520260674179278,\n",
       " -0.005212870188533099,\n",
       " -0.0075282664207915245,\n",
       " -0.002560820861673704,\n",
       " 0.007790801787768223,\n",
       " -0.016474837203505097,\n",
       " 0.010022862948652084,\n",
       " 0.02061928720273561,\n",
       " -0.009735068770752578,\n",
       " 0.03074608616230909,\n",
       " -0.017586384502075867,\n",
       " 0.005420067469339113,\n",
       " 0.0051063940745740555,\n",
       " -0.02516401760027974,\n",
       " 0.0613263269887262,\n",
       " -0.018508966054959396,\n",
       " 0.050654986792814584,\n",
       " -0.0012650223065867451,\n",
       " 0.004017683186612394,\n",
       " -0.005282632464427224,\n",
       " -0.007503161503155271,\n",
       " -0.005317141277620302,\n",
       " -0.006688988150796652,\n",
       " -0.018508966054959396,\n",
       " -0.006928434181964099,\n",
       " 0.012054940505353898,\n",
       " 0.03381556345601445,\n",
       " 0.0068434826536745725,\n",
       " -0.015927526696101306,\n",
       " -0.04579704610130008,\n",
       " -0.021555003561829697,\n",
       " 0.024264621999631298,\n",
       " -0.006688988150796652,\n",
       " -0.03509131981127006,\n",
       " 0.0007114906027640052,\n",
       " 0.05565578395541352,\n",
       " 0.03960913809504588,\n",
       " 0.001166180890182394,\n",
       " 0.011260404818379843,\n",
       " 0.0387686057084131,\n",
       " -0.03869890388644252,\n",
       " 0.014876307401287934,\n",
       " -0.005685063634608306,\n",
       " 0.040752668027108106,\n",
       " -0.0034752424203033146,\n",
       " 0.020690393257446246,\n",
       " 0.01589136733663466,\n",
       " -0.018307147444356128,\n",
       " 0.01561814015696496,\n",
       " -0.02170627858186306,\n",
       " 0.0021314395280700397,\n",
       " -0.0025136167403160123,\n",
       " 0.0016764463272523522,\n",
       " 0.04644675824502086,\n",
       " 0.002328289759591168,\n",
       " -0.015517552750185763,\n",
       " 0.015837435098626305,\n",
       " 0.05360945060538088,\n",
       " -0.018307147444356128,\n",
       " -0.011329097205969248,\n",
       " 0.01990115431729502,\n",
       " -0.010118130165584667,\n",
       " -0.002549937633272648,\n",
       " 0.03335559370088325,\n",
       " -0.005282632464427224,\n",
       " -0.015517552750185763,\n",
       " -0.0043010818993905854,\n",
       " -0.002549937633272648,\n",
       " 0.0174829627803476,\n",
       " -0.018368965972377797,\n",
       " 0.007851975282685391,\n",
       " 0.003969834510911016,\n",
       " 0.000832986303891771,\n",
       " -0.0013218772579158245,\n",
       " 0.016160413256009906,\n",
       " -0.0034752424203033146,\n",
       " 0.023028736217919066,\n",
       " 0.024264621999631298,\n",
       " 0.02087435671055901,\n",
       " 0.0,\n",
       " 0.0021314395280700397,\n",
       " -0.010230268250814922,\n",
       " -0.00957963685681372,\n",
       " 0.009207226168460895,\n",
       " 0.0016792615197199939,\n",
       " -0.011329097205969248,\n",
       " -0.017113937372251448,\n",
       " 0.0336093675976348,\n",
       " -0.004444451760424018,\n",
       " -0.04579704610130008,\n",
       " 0.09289374689269624,\n",
       " -0.000843525988439187,\n",
       " -0.018508966054959396,\n",
       " -0.00867308125342878,\n",
       " 0.03960913809504588,\n",
       " 0.016160413256009906,\n",
       " 0.01990115431729502,\n",
       " -0.023790416836635676,\n",
       " 0.018899951130484007,\n",
       " 0.040124887486099256,\n",
       " -0.01974247872920115,\n",
       " -0.005685063634608306,\n",
       " 0.021645866774692508,\n",
       " -0.006849341845574783,\n",
       " 0.01990115431729502,\n",
       " 0.012054940505353898,\n",
       " 0.04109041486812898,\n",
       " -0.004415018209116831,\n",
       " -0.008781615160384677,\n",
       " -0.01553251875962172,\n",
       " 0.003982482364317568,\n",
       " 0.01589136733663466,\n",
       " -0.03869890388644252,\n",
       " -0.018307147444356128,\n",
       " 0.004017683186612394,\n",
       " 0.04644675824502086,\n",
       " 0.0,\n",
       " -0.02170627858186306,\n",
       " 0.005420067469339113,\n",
       " -0.012325085992620118,\n",
       " -0.011376686982107934,\n",
       " -0.0012650223065867451,\n",
       " -0.0013218772579158245,\n",
       " -0.0011954574047737456,\n",
       " -0.018368965972377797,\n",
       " 0.0,\n",
       " -0.003554927312923834,\n",
       " -0.0008406894147932353,\n",
       " 0.0,\n",
       " -0.0043010818993905854,\n",
       " 0.031051339832050398,\n",
       " 0.0216286177267781,\n",
       " -0.00865057297600882,\n",
       " 0.02061928720273561,\n",
       " -0.0023856870162032085,\n",
       " 0.040722238921389424,\n",
       " -0.0045924305742101506,\n",
       " 0.044164420008634644,\n",
       " 0.018329354121905013,\n",
       " -0.03509131981127006,\n",
       " 0.018329354121905013,\n",
       " 0.0051063940745740555,\n",
       " 0.032242926446220566,\n",
       " -0.0023856870162032085,\n",
       " 0.010920545346660872,\n",
       " -0.004415018209116831]"
      ]
     },
     "execution_count": 28,
     "metadata": {},
     "output_type": "execute_result"
    }
   ],
   "source": [
    "# 3. 12월 29일 종가를 기준으로 향후 251일 이후의 수익률 부트스트래핑\n",
    "expect = np.random.choice(df['return'][1:], size = 251)\n",
    "list(expect)\n",
    "# 불확실성이 실현된!"
   ]
  },
  {
   "cell_type": "code",
   "execution_count": 95,
   "id": "6dc6c3fd",
   "metadata": {},
   "outputs": [],
   "source": [
    "# 4. 각 행의 값을 직전의 종가에 곱하여 251일의 에측 종가를 만들기\n",
    "\n",
    "# 로그를 취했으므로 누적합에 exp를 취하자."
   ]
  },
  {
   "cell_type": "code",
   "execution_count": 36,
   "id": "fdaaecab-1bb3-4142-9bd4-c7dff28eca09",
   "metadata": {},
   "outputs": [
    {
     "data": {
      "text/plain": [
       "[75000,\n",
       " 77543.85964912281,\n",
       " 78150.34793688131,\n",
       " 81679.163207159,\n",
       " 80678.63893624724,\n",
       " 81491.33584860871,\n",
       " 80789.42942441741,\n",
       " 79705.00755294874,\n",
       " 77552.63604097038,\n",
       " 78163.9743881402,\n",
       " 80629.14588807385,\n",
       " 79593.22538415855,\n",
       " 78760.27302548713,\n",
       " 78313.78621695262,\n",
       " 81520.01265614839,\n",
       " 82341.18494480923,\n",
       " 82762.72684725706,\n",
       " 82663.84664791744,\n",
       " 83311.34414124316,\n",
       " 81682.70132344443,\n",
       " 82322.51360535128,\n",
       " 82763.41459635163,\n",
       " 80986.28606207414,\n",
       " 82785.98130789802,\n",
       " 84162.12622902667,\n",
       " 82694.957625985,\n",
       " 80919.29902665404,\n",
       " 81900.67972047234,\n",
       " 80801.34173764722,\n",
       " 80186.41524040485,\n",
       " 79763.93676179365,\n",
       " 82986.72208550248,\n",
       " 84721.63613607048,\n",
       " 87050.7532807047,\n",
       " 88735.11262298748,\n",
       " 88838.65417797345,\n",
       " 88987.96284045743,\n",
       " 88056.69346189452,\n",
       " 86178.94130052975,\n",
       " 87047.0441890882,\n",
       " 88610.1785404074,\n",
       " 87844.97838030026,\n",
       " 89560.70061429052,\n",
       " 91217.4273938802,\n",
       " 91584.6473109248,\n",
       " 92997.26397895964,\n",
       " 97031.3918684579,\n",
       " 101412.76528983099,\n",
       " 102579.460819714,\n",
       " 98846.21327954244,\n",
       " 96170.31086918568,\n",
       " 95876.51154881138,\n",
       " 96349.97580337341,\n",
       " 100153.26432192762,\n",
       " 99134.75654916227,\n",
       " 98624.19127938118,\n",
       " 99982.87138614737,\n",
       " 101556.67584315153,\n",
       " 105565.4919948549,\n",
       " 105300.4740233197,\n",
       " 103744.30938258098,\n",
       " 100942.77528954926,\n",
       " 101107.98441440942,\n",
       " 101343.66736176235,\n",
       " 99254.10720997343,\n",
       " 98305.54493429167,\n",
       " 98613.71278675027,\n",
       " 99696.53002519302,\n",
       " 101540.75310509322,\n",
       " 97891.63229037894,\n",
       " 97767.87548596632,\n",
       " 100971.56858098668,\n",
       " 100971.56858098668,\n",
       " 102552.154829492,\n",
       " 104794.37685683418,\n",
       " 104916.65734324821,\n",
       " 106767.03930697394,\n",
       " 106941.78077883479,\n",
       " 105732.03212749051,\n",
       " 106298.30926971884,\n",
       " 105326.80910883793,\n",
       " 104648.5315892778,\n",
       " 100887.72498528814,\n",
       " 102399.78081354391,\n",
       " 104040.05190209037,\n",
       " 107396.18260860942,\n",
       " 107260.40993780206,\n",
       " 107995.0702798418,\n",
       " 107275.10314464287,\n",
       " 106152.45671638497,\n",
       " 106243.65298504167,\n",
       " 107081.1592585724,\n",
       " 107081.1592585724,\n",
       " 108256.95237984302,\n",
       " 107124.03078517024,\n",
       " 110502.55790993328,\n",
       " 113952.84874762742,\n",
       " 116127.03329163378,\n",
       " 118275.19386394908,\n",
       " 120237.7247355854,\n",
       " 116897.78793737471,\n",
       " 120977.25346106167,\n",
       " 121574.67199667184,\n",
       " 118576.52965396723,\n",
       " 120959.97748620779,\n",
       " 119095.68046239497,\n",
       " 117849.33031802108,\n",
       " 117236.59549834332,\n",
       " 116357.32103210576,\n",
       " 116059.73197575766,\n",
       " 116967.46172305408,\n",
       " 115056.22868836364,\n",
       " 116215.22000299,\n",
       " 118636.37041971897,\n",
       " 117487.04067399508,\n",
       " 121155.41240811981,\n",
       " 119043.35292081504,\n",
       " 119690.3276649499,\n",
       " 120303.07678268856,\n",
       " 117313.54017026526,\n",
       " 124733.13161301473,\n",
       " 122445.68475495513,\n",
       " 128807.94914058178,\n",
       " 128645.1072326923,\n",
       " 129163.00218934566,\n",
       " 128482.48057612465,\n",
       " 127522.06336251576,\n",
       " 126845.8099961994,\n",
       " 126000.1712628914,\n",
       " 123689.48851049748,\n",
       " 122835.47593159878,\n",
       " 124325.21158236789,\n",
       " 128601.2291776342,\n",
       " 129484.32774709436,\n",
       " 127438.29999488294,\n",
       " 121733.62789279385,\n",
       " 119137.73683784089,\n",
       " 122063.926865437,\n",
       " 121250.16735300074,\n",
       " 117069.127099449,\n",
       " 117152.45032158382,\n",
       " 123857.51902043441,\n",
       " 128861.86322328025,\n",
       " 129012.22712435757,\n",
       " 130473.16697855327,\n",
       " 135630.76011766275,\n",
       " 130482.26151295907,\n",
       " 132437.86576544304,\n",
       " 131687.08421348478,\n",
       " 137164.53658978222,\n",
       " 136688.68390430164,\n",
       " 139546.28705212678,\n",
       " 141781.58226806475,\n",
       " 139209.58077567353,\n",
       " 141400.84269529063,\n",
       " 138364.62828158808,\n",
       " 138659.85864065264,\n",
       " 138311.75857711962,\n",
       " 138543.82528614165,\n",
       " 145130.51802738445,\n",
       " 145468.81760320588,\n",
       " 143228.92135268604,\n",
       " 145515.3579535271,\n",
       " 153529.24723212715,\n",
       " 150744.13617122688,\n",
       " 149045.97865803284,\n",
       " 152041.877726536,\n",
       " 150511.25479640308,\n",
       " 150127.9493936958,\n",
       " 155220.00849593812,\n",
       " 154402.20023199744,\n",
       " 152024.7497579376,\n",
       " 151372.28302077908,\n",
       " 150986.7848467024,\n",
       " 153649.69110502166,\n",
       " 150853.0693183136,\n",
       " 152042.2263962733,\n",
       " 152647.00852195453,\n",
       " 152774.2143623895,\n",
       " 152572.39901977076,\n",
       " 155058.06261900676,\n",
       " 154520.1335205887,\n",
       " 158119.8260184799,\n",
       " 162003.4708680566,\n",
       " 165420.73158167966,\n",
       " 165420.73158167966,\n",
       " 165773.69189088666,\n",
       " 164086.42785128477,\n",
       " 162522.044534906,\n",
       " 164025.3316888774,\n",
       " 164301.00451524524,\n",
       " 162450.12664808912,\n",
       " 159693.6199741962,\n",
       " 165152.0346797121,\n",
       " 164419.65315119896,\n",
       " 157059.54077992224,\n",
       " 172348.5226257554,\n",
       " 172203.20346671174,\n",
       " 169045.215916621,\n",
       " 167585.4126703635,\n",
       " 174356.54045502466,\n",
       " 177197.10472931134,\n",
       " 180758.85557814172,\n",
       " 176509.27710947007,\n",
       " 179877.0186480346,\n",
       " 187241.3216763078,\n",
       " 183580.96501195894,\n",
       " 182540.25659352378,\n",
       " 186534.57293036237,\n",
       " 185261.29939500152,\n",
       " 188985.1446089714,\n",
       " 191277.13643995122,\n",
       " 199300.50625706327,\n",
       " 198422.530458574,\n",
       " 196687.68866221487,\n",
       " 193656.23743170025,\n",
       " 194429.00773270463,\n",
       " 197543.4311975306,\n",
       " 190044.7481627489,\n",
       " 186597.2243865539,\n",
       " 187348.42094205535,\n",
       " 196255.39663551323,\n",
       " 196255.39663551323,\n",
       " 192041.32370162185,\n",
       " 193085.02654782633,\n",
       " 190719.84248098213,\n",
       " 188562.37819952302,\n",
       " 188323.99339775371,\n",
       " 188075.21665614506,\n",
       " 187850.51508307914,\n",
       " 184431.39435886894,\n",
       " 184431.39435886894,\n",
       " 183776.9181546146,\n",
       " 183622.4837696107,\n",
       " 183622.4837696107,\n",
       " 182834.40444012743,\n",
       " 188600.72027246992,\n",
       " 192724.32635437665,\n",
       " 191064.34076992894,\n",
       " 195044.84786930247,\n",
       " 194580.08651615874,\n",
       " 202667.37190752028,\n",
       " 201738.76997438163,\n",
       " 210848.1197199209,\n",
       " 214748.46578655712,\n",
       " 207343.3462766758,\n",
       " 211178.85975513444,\n",
       " 212259.98019756688,\n",
       " 219215.39197805212,\n",
       " 218693.03600034432,\n",
       " 221094.371297603,\n",
       " 220120.38728307612]"
      ]
     },
     "execution_count": 36,
     "metadata": {},
     "output_type": "execute_result"
    }
   ],
   "source": [
    "fclose = [75000]\n",
    "rlst = list(np.exp(np.cumsum(expect)))\n",
    "for i in range(len(rlst)) :\n",
    "    fclose.append(fclose[0]*rlst[i])\n",
    "fclose"
   ]
  },
  {
   "cell_type": "code",
   "execution_count": 37,
   "id": "f601e085",
   "metadata": {},
   "outputs": [
    {
     "data": {
      "text/plain": [
       "[<matplotlib.lines.Line2D at 0x22fc2fcea20>]"
      ]
     },
     "execution_count": 37,
     "metadata": {},
     "output_type": "execute_result"
    },
    {
     "data": {
      "image/png": "[encoded data removed]",
      "text/plain": [
       "<Figure size 640x480 with 1 Axes>"
      ]
     },
     "metadata": {},
     "output_type": "display_data"
    }
   ],
   "source": [
    "# 5. 251일의 주가 흐름을 line plot으로 그려보기\n",
    "import matplotlib as plt\n",
    "plt.pyplot.plot(fclose)"
   ]
  },
  {
   "cell_type": "code",
   "execution_count": null,
   "id": "f5540367",
   "metadata": {},
   "outputs": [],
   "source": [
    "# 6. 해당 시행을 1000번, 10000번 반복하여 251일째 (즉, 대략적인 영업일 기준 2023년 12월 31일)의 예측 종가를 히스토그램으로 그려보기 /"
   ]
  },
  {
   "cell_type": "code",
   "execution_count": 43,
   "id": "b639f720-4f3b-4ac5-8378-8fbb251020a0",
   "metadata": {},
   "outputs": [],
   "source": [
    "##100회\n",
    "rlst_100 = []\n",
    "for i in range(0,100) :\n",
    "    expect = np.exp(np.cumsum(np.random.choice(df['return'][1:], size = 251)))[-1]\n",
    "    rlst_100.append(expect*75000)"
   ]
  },
  {
   "cell_type": "code",
   "execution_count": 44,
   "id": "20acdac5-d251-4de8-a8b9-6650300ba51c",
   "metadata": {},
   "outputs": [
    {
     "data": {
      "text/plain": [
       "(array([ 3., 15., 23., 18., 21.,  7.,  4.,  3.,  4.,  2.]),\n",
       " array([ 53139.65398002,  80226.73601198, 107313.81804394, 134400.9000759 ,\n",
       "        161487.98210786, 188575.06413982, 215662.14617178, 242749.22820374,\n",
       "        269836.3102357 , 296923.39226766, 324010.47429962]),\n",
       " <BarContainer object of 10 artists>)"
      ]
     },
     "execution_count": 44,
     "metadata": {},
     "output_type": "execute_result"
    },
    {
     "data": {
      "image/png": "[encoded data removed]",
      "text/plain": [
       "<Figure size 640x480 with 1 Axes>"
      ]
     },
     "metadata": {},
     "output_type": "display_data"
    }
   ],
   "source": [
    "plt.pyplot.hist(rlst_100)"
   ]
  },
  {
   "cell_type": "code",
   "execution_count": 48,
   "id": "97d5d6eb-e7d0-4fd1-926b-f3f1515f6295",
   "metadata": {},
   "outputs": [],
   "source": [
    "##1000회\n",
    "rlst_1000 = []\n",
    "for i in range(0,1000) :\n",
    "    expect = np.exp(np.cumsum(np.random.choice(df['return'][1:], size = 251)))[-1]\n",
    "    rlst_1000.append(expect*75000)"
   ]
  },
  {
   "cell_type": "code",
   "execution_count": 49,
   "id": "63fc99ac-28fd-47c9-bf24-7d7849c8ac82",
   "metadata": {},
   "outputs": [
    {
     "data": {
      "text/plain": [
       "(array([ 67., 240., 295., 194., 112.,  53.,  23.,  10.,   4.,   2.]),\n",
       " array([ 45474.60693356,  82526.39018077, 119578.17342798, 156629.95667518,\n",
       "        193681.73992239, 230733.52316959, 267785.3064168 , 304837.089664  ,\n",
       "        341888.87291121, 378940.65615841, 415992.43940562]),\n",
       " <BarContainer object of 10 artists>)"
      ]
     },
     "execution_count": 49,
     "metadata": {},
     "output_type": "execute_result"
    },
    {
     "data": {
      "image/png": "[encoded data removed]",
      "text/plain": [
       "<Figure size 640x480 with 1 Axes>"
      ]
     },
     "metadata": {},
     "output_type": "display_data"
    }
   ],
   "source": [
    "plt.pyplot.hist(rlst_1000)"
   ]
  },
  {
   "cell_type": "markdown",
   "id": "a70e786d-1d34-49b6-971a-11590ddedb06",
   "metadata": {},
   "source": [
    "## 추가 연구 : SK하이닉스 조사(최초 제출본 수정)"
   ]
  },
  {
   "cell_type": "code",
   "execution_count": 10,
   "id": "89d7309f-3de9-4be2-84ae-3873247360a4",
   "metadata": {},
   "outputs": [
    {
     "name": "stdout",
     "output_type": "stream",
     "text": [
      "246\n"
     ]
    },
    {
     "data": {
      "text/html": [
       "<div>\n",
       "<style scoped>\n",
       "    .dataframe tbody tr th:only-of-type {\n",
       "        vertical-align: middle;\n",
       "    }\n",
       "\n",
       "    .dataframe tbody tr th {\n",
       "        vertical-align: top;\n",
       "    }\n",
       "\n",
       "    .dataframe thead th {\n",
       "        text-align: right;\n",
       "    }\n",
       "</style>\n",
       "<table border=\"1\" class=\"dataframe\">\n",
       "  <thead>\n",
       "    <tr style=\"text-align: right;\">\n",
       "      <th></th>\n",
       "      <th>시가</th>\n",
       "      <th>고가</th>\n",
       "      <th>저가</th>\n",
       "      <th>종가</th>\n",
       "      <th>거래량</th>\n",
       "      <th>등락률</th>\n",
       "    </tr>\n",
       "    <tr>\n",
       "      <th>날짜</th>\n",
       "      <th></th>\n",
       "      <th></th>\n",
       "      <th></th>\n",
       "      <th></th>\n",
       "      <th></th>\n",
       "      <th></th>\n",
       "    </tr>\n",
       "  </thead>\n",
       "  <tbody>\n",
       "    <tr>\n",
       "      <th>2022-12-29</th>\n",
       "      <td>75200</td>\n",
       "      <td>75600</td>\n",
       "      <td>74700</td>\n",
       "      <td>75000</td>\n",
       "      <td>1736661</td>\n",
       "      <td>-1.315789</td>\n",
       "    </tr>\n",
       "    <tr>\n",
       "      <th>2023-01-02</th>\n",
       "      <td>75100</td>\n",
       "      <td>76700</td>\n",
       "      <td>75000</td>\n",
       "      <td>75700</td>\n",
       "      <td>1376985</td>\n",
       "      <td>0.933333</td>\n",
       "    </tr>\n",
       "    <tr>\n",
       "      <th>2023-01-03</th>\n",
       "      <td>75600</td>\n",
       "      <td>76300</td>\n",
       "      <td>73100</td>\n",
       "      <td>75600</td>\n",
       "      <td>2719437</td>\n",
       "      <td>-0.132100</td>\n",
       "    </tr>\n",
       "    <tr>\n",
       "      <th>2023-01-04</th>\n",
       "      <td>75400</td>\n",
       "      <td>81900</td>\n",
       "      <td>75200</td>\n",
       "      <td>81000</td>\n",
       "      <td>5154609</td>\n",
       "      <td>7.142857</td>\n",
       "    </tr>\n",
       "    <tr>\n",
       "      <th>2023-01-05</th>\n",
       "      <td>83300</td>\n",
       "      <td>83300</td>\n",
       "      <td>80800</td>\n",
       "      <td>81400</td>\n",
       "      <td>3510964</td>\n",
       "      <td>0.493827</td>\n",
       "    </tr>\n",
       "  </tbody>\n",
       "</table>\n",
       "</div>"
      ],
      "text/plain": [
       "               시가     고가     저가     종가      거래량       등락률\n",
       "날짜                                                       \n",
       "2022-12-29  75200  75600  74700  75000  1736661 -1.315789\n",
       "2023-01-02  75100  76700  75000  75700  1376985  0.933333\n",
       "2023-01-03  75600  76300  73100  75600  2719437 -0.132100\n",
       "2023-01-04  75400  81900  75200  81000  5154609  7.142857\n",
       "2023-01-05  83300  83300  80800  81400  3510964  0.493827"
      ]
     },
     "execution_count": 10,
     "metadata": {},
     "output_type": "execute_result"
    }
   ],
   "source": [
    "raw = stock.get_market_ohlcv('20221229', '20231231', '000660') \n",
    "print(len(raw))\n",
    "raw.head()"
   ]
  },
  {
   "cell_type": "code",
   "execution_count": 12,
   "id": "7d68a66e-f9ef-479a-9a26-32fa2f0493b8",
   "metadata": {},
   "outputs": [
    {
     "data": {
      "text/html": [
       "<div>\n",
       "<style scoped>\n",
       "    .dataframe tbody tr th:only-of-type {\n",
       "        vertical-align: middle;\n",
       "    }\n",
       "\n",
       "    .dataframe tbody tr th {\n",
       "        vertical-align: top;\n",
       "    }\n",
       "\n",
       "    .dataframe thead th {\n",
       "        text-align: right;\n",
       "    }\n",
       "</style>\n",
       "<table border=\"1\" class=\"dataframe\">\n",
       "  <thead>\n",
       "    <tr style=\"text-align: right;\">\n",
       "      <th></th>\n",
       "      <th>close</th>\n",
       "      <th>updown</th>\n",
       "      <th>return</th>\n",
       "    </tr>\n",
       "    <tr>\n",
       "      <th>날짜</th>\n",
       "      <th></th>\n",
       "      <th></th>\n",
       "      <th></th>\n",
       "    </tr>\n",
       "  </thead>\n",
       "  <tbody>\n",
       "    <tr>\n",
       "      <th>2022-12-29</th>\n",
       "      <td>75000</td>\n",
       "      <td>-1.315789</td>\n",
       "      <td>0.986842</td>\n",
       "    </tr>\n",
       "    <tr>\n",
       "      <th>2023-01-02</th>\n",
       "      <td>75700</td>\n",
       "      <td>0.933333</td>\n",
       "      <td>1.009333</td>\n",
       "    </tr>\n",
       "    <tr>\n",
       "      <th>2023-01-03</th>\n",
       "      <td>75600</td>\n",
       "      <td>-0.132100</td>\n",
       "      <td>0.998679</td>\n",
       "    </tr>\n",
       "    <tr>\n",
       "      <th>2023-01-04</th>\n",
       "      <td>81000</td>\n",
       "      <td>7.142857</td>\n",
       "      <td>1.071429</td>\n",
       "    </tr>\n",
       "    <tr>\n",
       "      <th>2023-01-05</th>\n",
       "      <td>81400</td>\n",
       "      <td>0.493827</td>\n",
       "      <td>1.004938</td>\n",
       "    </tr>\n",
       "  </tbody>\n",
       "</table>\n",
       "</div>"
      ],
      "text/plain": [
       "            close    updown    return\n",
       "날짜                                   \n",
       "2022-12-29  75000 -1.315789  0.986842\n",
       "2023-01-02  75700  0.933333  1.009333\n",
       "2023-01-03  75600 -0.132100  0.998679\n",
       "2023-01-04  81000  7.142857  1.071429\n",
       "2023-01-05  81400  0.493827  1.004938"
      ]
     },
     "execution_count": 12,
     "metadata": {},
     "output_type": "execute_result"
    }
   ],
   "source": [
    "df = pd.DataFrame(raw[['종가', '등락률']])\n",
    "df = df.rename(columns={'종가':'close', '등락률':'updown'})\n",
    "df['return'] = 1 + df['updown']/100\n",
    "df.head()\n",
    "#이와 같이 정의할 경우, 로그를 사용하지 않고 return을 직접 곱해야 적절한 답이 나온다."
   ]
  },
  {
   "cell_type": "code",
   "execution_count": 13,
   "id": "aeddf353-febe-4e59-9a6f-f4e8739ea872",
   "metadata": {},
   "outputs": [
    {
     "name": "stderr",
     "output_type": "stream",
     "text": [
      "C:\\Users\\Na\\AppData\\Local\\Temp\\ipykernel_33932\\4086889925.py:4: FutureWarning: Series.__getitem__ treating keys as positions is deprecated. In a future version, integer keys will always be treated as labels (consistent with DataFrame behavior). To access a value by position, use `ser.iloc[pos]`\n",
      "  rlst.append(df['return'][sn])\n"
     ]
    },
    {
     "data": {
      "text/plain": [
       "135684.7637217309"
      ]
     },
     "execution_count": 13,
     "metadata": {},
     "output_type": "execute_result"
    }
   ],
   "source": [
    "rlst = []\n",
    "for i in range(0,251) : \n",
    "    sn = np.random.randint(1, 246)\n",
    "    rlst.append(df['return'][sn])\n",
    "\n",
    "fclose = [75000]\n",
    "for i in range(0, len(rlst)) :\n",
    "    fclose.append(fclose[i]*rlst[i])\n",
    "fclose[-1]"
   ]
  },
  {
   "cell_type": "code",
   "execution_count": 16,
   "id": "6cc59de7-5025-4ed1-b8e7-73fd8c1c0515",
   "metadata": {},
   "outputs": [
    {
     "data": {
      "text/plain": [
       "[<matplotlib.lines.Line2D at 0x22fc2f81970>]"
      ]
     },
     "execution_count": 16,
     "metadata": {},
     "output_type": "execute_result"
    },
    {
     "data": {
      "image/png": "[encoded data removed]",
      "text/plain": [
       "<Figure size 640x480 with 1 Axes>"
      ]
     },
     "metadata": {},
     "output_type": "display_data"
    }
   ],
   "source": [
    "plt.pyplot.plot(fclose)"
   ]
  },
  {
   "cell_type": "code",
   "execution_count": 17,
   "id": "98b69be1-0c94-4c22-a2f1-349947332458",
   "metadata": {},
   "outputs": [
    {
     "name": "stderr",
     "output_type": "stream",
     "text": [
      "C:\\Users\\Na\\AppData\\Local\\Temp\\ipykernel_33932\\3628509740.py:8: FutureWarning: Series.__getitem__ treating keys as positions is deprecated. In a future version, integer keys will always be treated as labels (consistent with DataFrame behavior). To access a value by position, use `ser.iloc[pos]`\n",
      "  rlst.append(df['return'][sn])\n"
     ]
    }
   ],
   "source": [
    "#100회 \n",
    "\n",
    "lst_100 = []\n",
    "for j in range(0, 100) :\n",
    "    rlst = []\n",
    "    for i in range(0,251) : \n",
    "        sn = np.random.randint(1, 246)\n",
    "        rlst.append(df['return'][sn])\n",
    "    fclose = [75000]\n",
    "    for i in range(0, len(rlst)) :\n",
    "        fclose.append(fclose[i]*rlst[i])\n",
    "    lst_100.append(fclose[-1])"
   ]
  },
  {
   "cell_type": "code",
   "execution_count": 18,
   "id": "d4cb40f5-981d-4657-947c-27940434dcd0",
   "metadata": {},
   "outputs": [
    {
     "data": {
      "text/plain": [
       "(array([ 6., 15., 18., 25., 12., 13.,  5.,  3.,  1.,  2.]),\n",
       " array([ 48140.94544512,  76288.13150632, 104435.31756752, 132582.50362872,\n",
       "        160729.68968992, 188876.87575112, 217024.06181232, 245171.24787352,\n",
       "        273318.43393472, 301465.61999592, 329612.80605712]),\n",
       " <BarContainer object of 10 artists>)"
      ]
     },
     "execution_count": 18,
     "metadata": {},
     "output_type": "execute_result"
    },
    {
     "data": {
      "image/png": "[encoded data removed]",
      "text/plain": [
       "<Figure size 640x480 with 1 Axes>"
      ]
     },
     "metadata": {},
     "output_type": "display_data"
    }
   ],
   "source": [
    "plt.pyplot.hist(lst_100)"
   ]
  },
  {
   "cell_type": "code",
   "execution_count": 19,
   "id": "2f369939-c256-4af7-aa77-93c04a8535f2",
   "metadata": {},
   "outputs": [
    {
     "name": "stderr",
     "output_type": "stream",
     "text": [
      "C:\\Users\\Na\\AppData\\Local\\Temp\\ipykernel_33932\\1788237517.py:8: FutureWarning: Series.__getitem__ treating keys as positions is deprecated. In a future version, integer keys will always be treated as labels (consistent with DataFrame behavior). To access a value by position, use `ser.iloc[pos]`\n",
      "  rlst.append(df['return'][sn])\n"
     ]
    }
   ],
   "source": [
    "##1000회\n",
    "\n",
    "lst_1000 = []\n",
    "for j in range(0, 1000) :\n",
    "    rlst = []\n",
    "    for i in range(0,251) : \n",
    "        sn = np.random.randint(1, 246)\n",
    "        rlst.append(df['return'][sn])\n",
    "    fclose = [75000]\n",
    "    for i in range(0, len(rlst)) :\n",
    "        fclose.append(fclose[i]*rlst[i])\n",
    "    lst_1000.append(fclose[-1])"
   ]
  },
  {
   "cell_type": "code",
   "execution_count": 20,
   "id": "c31518e0-f36a-43a8-8ce4-3a938fe021cf",
   "metadata": {},
   "outputs": [
    {
     "data": {
      "text/plain": [
       "(array([ 99., 359., 321., 125.,  69.,  24.,   1.,   0.,   1.,   1.]),\n",
       " array([ 44171.32814766,  91448.57051982, 138725.81289199, 186003.05526415,\n",
       "        233280.29763631, 280557.54000847, 327834.78238064, 375112.0247528 ,\n",
       "        422389.26712496, 469666.50949712, 516943.75186929]),\n",
       " <BarContainer object of 10 artists>)"
      ]
     },
     "execution_count": 20,
     "metadata": {},
     "output_type": "execute_result"
    },
    {
     "data": {
      "image/png": "[encoded data removed]",
      "text/plain": [
       "<Figure size 640x480 with 1 Axes>"
      ]
     },
     "metadata": {},
     "output_type": "display_data"
    }
   ],
   "source": [
    "plt.pyplot.hist(lst_1000)"
   ]
  },
  {
   "cell_type": "markdown",
   "id": "b4c58108-2eff-48e8-9629-e366c0447729",
   "metadata": {},
   "source": [
    "time 측면에서의 퍼포먼스는 앞의 코드가 이 코드보다 훨씬 낫다. 지속적으로 곱해 저장하는 과정, for 구문 내에서 이중 for가 쓰인 것이 영향을 미친 것으로 보인다."
   ]
  },
  {
   "cell_type": "code",
   "execution_count": null,
   "id": "8a13c833-18a6-4281-8149-7cdad83c7d0b",
   "metadata": {},
   "outputs": [],
   "source": []
  },
  {
   "cell_type": "code",
   "execution_count": null,
   "id": "b703b031",
   "metadata": {},
   "outputs": [],
   "source": [
    "# 기타 지표 수집법 (다만, 이 지표는 아직까지 검증이 좀 필요함)\n",
    "fs = stock.get_market_fundamental(\"20220101\", \"20221231\", \"005930\")\n",
    "fs.tail()\n",
    "# BPS: Book value Per Share : 주당순자산\n",
    "# PER: Price Earning Ratio : 주가수익비율\n",
    "# PBR: Price on Book-value Ratio : 주가순자산비율\n",
    "# EPS: Earning Per Share : 주당순이익\n",
    "# DIV: Dividend : 배당수익률\n",
    "# DPS: Dividend Per Share : 주당배당금"
   ]
  },
  {
   "cell_type": "code",
   "execution_count": null,
   "id": "64d25ef8",
   "metadata": {},
   "outputs": [],
   "source": [
    "# \n",
    "df = stock.get_market_trading_value_by_date(\"20220101\", \"20221231\", \"005930\", on=\"매수\")\n",
    "df.tail()"
   ]
  },
  {
   "cell_type": "code",
   "execution_count": null,
   "id": "ee958867",
   "metadata": {},
   "outputs": [],
   "source": [
    "# 기타 국내외 주식정보 수집\n",
    "import FinanceDataReader as fdr\n",
    "\n",
    "# fdr.DataReader(주식 종목 [, 시작일(YYYY-mm-dd)] [,종료일(YYYY-mm-dd)])\n",
    "# fdr.StockListing(거래소이름(\"SSE\", \"SZSE\", ...))\n",
    "\n",
    "samsung = fdr.DataReader(\"005930\")\n",
    "samsung_period = fdr.DataReader(\"005930\", \"2022-01-01\", \"2022-12-31\")\n",
    "samsung_year = fdr.DataReader(\"005930\", \"2021\")\n",
    "\n",
    "# 뉴욕거래소 전체\n",
    "NYSE_df = fdr.StockListing('NYSE') "
   ]
  },
  {
   "cell_type": "code",
   "execution_count": null,
   "id": "496ec106",
   "metadata": {},
   "outputs": [],
   "source": [
    "NYSE_df.tail()"
   ]
  },
  {
   "cell_type": "code",
   "execution_count": null,
   "id": "fbc7ac86",
   "metadata": {},
   "outputs": [],
   "source": [
    "samsung_period.head()"
   ]
  },
  {
   "cell_type": "code",
   "execution_count": null,
   "id": "3483863e",
   "metadata": {},
   "outputs": [],
   "source": [
    "# yahoo finance 사용 - 해외특화\n",
    "from pandas_datareader import data as pdr\n",
    "import yfinance as yf\n",
    "yf.pdr_override()\n",
    "# yf의 메소드를 재정의해줌(이 부분이 필요!)\n",
    "\n",
    "# df = pdr.get_data_yahoo(주식 종목(한국주식의 경우 \".KS\") [, 시작일(YYYY-mm-dd)] [,종료일(YYYY-mm-dd)])\n",
    "\n",
    "# 예시\n",
    "df = pdr.get_data_yahoo(\"AAPL\", \"2022-01-01\", \"2022-12-31\")\n",
    "\n",
    "df"
   ]
  },
  {
   "cell_type": "code",
   "execution_count": null,
   "id": "17734d79",
   "metadata": {},
   "outputs": [],
   "source": []
  }
 ],
 "metadata": {
  "kernelspec": {
   "display_name": "Python 3 (ipykernel)",
   "language": "python",
   "name": "python3"
  },
  "language_info": {
   "codemirror_mode": {
    "name": "ipython",
    "version": 3
   },
   "file_extension": ".py",
   "mimetype": "text/x-python",
   "name": "python",
   "nbconvert_exporter": "python",
   "pygments_lexer": "ipython3",
   "version": "3.12.1"
  }
 },
 "nbformat": 4,
 "nbformat_minor": 5
}
