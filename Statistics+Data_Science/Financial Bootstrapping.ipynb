{
 "cells": [
  {
   "cell_type": "code",
   "execution_count": 1,
   "id": "c8730ff6",
   "metadata": {},
   "outputs": [],
   "source": [
    "#!pip install pykrx"
   ]
  },
  {
   "cell_type": "code",
   "execution_count": 2,
   "id": "275a003d",
   "metadata": {},
   "outputs": [],
   "source": [
    "import pykrx\n",
    "#help(pykrx)"
   ]
  },
  {
   "cell_type": "code",
   "execution_count": 3,
   "id": "e083bb04",
   "metadata": {},
   "outputs": [],
   "source": [
    "# 1. 데이터 소개\n",
    "from pykrx import stock\n",
    "\n",
    "# bond도 가능함\n",
    "# from pykrx import bond\n",
    "\n",
    "# https://github.com/sharebook-kr/pykrx\n",
    "\n",
    "# tickers = stock.get_market_ticker_list(조회일자(YYYYmmdd) [,market=조회할 시장(KOSPI, KOSDAQ, ALL])\n",
    "# name = get_market_ticker_name(심볼 [,market=조회할 시장(KOSPI, KOSDAQ, ALL])\n",
    "# ohlcv = stock.stock.get_market_ohlcv(조회일자(YYYYmmdd) [,앞에 시작일을 넣었다면 종료일] [,심볼] )\n",
    "\n",
    "# 예시\n",
    "#tickers = stock.get_market_ticker_list(\"20220222\", market=\"KOSPI\") # 코스피 종목 리스트\n",
    "#name = stock.get_market_ticker_name(\"005930\") # 심볼 -> 기업 이름\n",
    "#ohlcv = stock.get_market_ohlcv(\"20220222\", market=\"KOSPI\") # 특정일 코스피 종목들의 OHLCV\n",
    "raw = stock.get_market_ohlcv('20221229', '20231231', '000660') # 특정기간 특정 종목의 OHLCV : 'm' 등 옵션 존재."
   ]
  },
  {
   "cell_type": "code",
   "execution_count": 4,
   "id": "01979b80",
   "metadata": {
    "scrolled": true
   },
   "outputs": [
    {
     "name": "stdout",
     "output_type": "stream",
     "text": [
      "246\n"
     ]
    },
    {
     "data": {
      "text/plain": [
       "pandas.core.frame.DataFrame"
      ]
     },
     "execution_count": 4,
     "metadata": {},
     "output_type": "execute_result"
    }
   ],
   "source": [
    "print(len(raw))\n",
    "raw.head()\n",
    "type(raw)"
   ]
  },
  {
   "cell_type": "code",
   "execution_count": 5,
   "id": "33f63514",
   "metadata": {},
   "outputs": [
    {
     "data": {
      "text/html": [
       "<div>\n",
       "<style scoped>\n",
       "    .dataframe tbody tr th:only-of-type {\n",
       "        vertical-align: middle;\n",
       "    }\n",
       "\n",
       "    .dataframe tbody tr th {\n",
       "        vertical-align: top;\n",
       "    }\n",
       "\n",
       "    .dataframe thead th {\n",
       "        text-align: right;\n",
       "    }\n",
       "</style>\n",
       "<table border=\"1\" class=\"dataframe\">\n",
       "  <thead>\n",
       "    <tr style=\"text-align: right;\">\n",
       "      <th></th>\n",
       "      <th>종가</th>\n",
       "      <th>등락률</th>\n",
       "    </tr>\n",
       "    <tr>\n",
       "      <th>날짜</th>\n",
       "      <th></th>\n",
       "      <th></th>\n",
       "    </tr>\n",
       "  </thead>\n",
       "  <tbody>\n",
       "    <tr>\n",
       "      <th>2022-12-29</th>\n",
       "      <td>75000</td>\n",
       "      <td>-1.315789</td>\n",
       "    </tr>\n",
       "    <tr>\n",
       "      <th>2023-01-02</th>\n",
       "      <td>75700</td>\n",
       "      <td>0.933333</td>\n",
       "    </tr>\n",
       "    <tr>\n",
       "      <th>2023-01-03</th>\n",
       "      <td>75600</td>\n",
       "      <td>-0.132100</td>\n",
       "    </tr>\n",
       "    <tr>\n",
       "      <th>2023-01-04</th>\n",
       "      <td>81000</td>\n",
       "      <td>7.142857</td>\n",
       "    </tr>\n",
       "    <tr>\n",
       "      <th>2023-01-05</th>\n",
       "      <td>81400</td>\n",
       "      <td>0.493827</td>\n",
       "    </tr>\n",
       "  </tbody>\n",
       "</table>\n",
       "</div>"
      ],
      "text/plain": [
       "               종가       등락률\n",
       "날짜                         \n",
       "2022-12-29  75000 -1.315789\n",
       "2023-01-02  75700  0.933333\n",
       "2023-01-03  75600 -0.132100\n",
       "2023-01-04  81000  7.142857\n",
       "2023-01-05  81400  0.493827"
      ]
     },
     "execution_count": 5,
     "metadata": {},
     "output_type": "execute_result"
    }
   ],
   "source": [
    "# 2. 수익률 계산하기\n",
    "import pandas as pd\n",
    "import numpy as np\n",
    "df=pd.DataFrame(raw[['종가', '등락률']])\n",
    "df.head()"
   ]
  },
  {
   "cell_type": "code",
   "execution_count": 6,
   "id": "08052210",
   "metadata": {},
   "outputs": [
    {
     "data": {
      "text/html": [
       "<div>\n",
       "<style scoped>\n",
       "    .dataframe tbody tr th:only-of-type {\n",
       "        vertical-align: middle;\n",
       "    }\n",
       "\n",
       "    .dataframe tbody tr th {\n",
       "        vertical-align: top;\n",
       "    }\n",
       "\n",
       "    .dataframe thead th {\n",
       "        text-align: right;\n",
       "    }\n",
       "</style>\n",
       "<table border=\"1\" class=\"dataframe\">\n",
       "  <thead>\n",
       "    <tr style=\"text-align: right;\">\n",
       "      <th></th>\n",
       "      <th>close</th>\n",
       "      <th>updown</th>\n",
       "    </tr>\n",
       "    <tr>\n",
       "      <th>날짜</th>\n",
       "      <th></th>\n",
       "      <th></th>\n",
       "    </tr>\n",
       "  </thead>\n",
       "  <tbody>\n",
       "    <tr>\n",
       "      <th>2022-12-29</th>\n",
       "      <td>75000</td>\n",
       "      <td>-1.315789</td>\n",
       "    </tr>\n",
       "    <tr>\n",
       "      <th>2023-01-02</th>\n",
       "      <td>75700</td>\n",
       "      <td>0.933333</td>\n",
       "    </tr>\n",
       "    <tr>\n",
       "      <th>2023-01-03</th>\n",
       "      <td>75600</td>\n",
       "      <td>-0.132100</td>\n",
       "    </tr>\n",
       "    <tr>\n",
       "      <th>2023-01-04</th>\n",
       "      <td>81000</td>\n",
       "      <td>7.142857</td>\n",
       "    </tr>\n",
       "    <tr>\n",
       "      <th>2023-01-05</th>\n",
       "      <td>81400</td>\n",
       "      <td>0.493827</td>\n",
       "    </tr>\n",
       "  </tbody>\n",
       "</table>\n",
       "</div>"
      ],
      "text/plain": [
       "            close    updown\n",
       "날짜                         \n",
       "2022-12-29  75000 -1.315789\n",
       "2023-01-02  75700  0.933333\n",
       "2023-01-03  75600 -0.132100\n",
       "2023-01-04  81000  7.142857\n",
       "2023-01-05  81400  0.493827"
      ]
     },
     "execution_count": 6,
     "metadata": {},
     "output_type": "execute_result"
    }
   ],
   "source": [
    "df = df.rename(columns={'종가':'close', '등락률':'updown'})\n",
    "df.head()"
   ]
  },
  {
   "cell_type": "code",
   "execution_count": 7,
   "id": "4ebd539e",
   "metadata": {},
   "outputs": [
    {
     "data": {
      "text/html": [
       "<div>\n",
       "<style scoped>\n",
       "    .dataframe tbody tr th:only-of-type {\n",
       "        vertical-align: middle;\n",
       "    }\n",
       "\n",
       "    .dataframe tbody tr th {\n",
       "        vertical-align: top;\n",
       "    }\n",
       "\n",
       "    .dataframe thead th {\n",
       "        text-align: right;\n",
       "    }\n",
       "</style>\n",
       "<table border=\"1\" class=\"dataframe\">\n",
       "  <thead>\n",
       "    <tr style=\"text-align: right;\">\n",
       "      <th></th>\n",
       "      <th>close</th>\n",
       "      <th>updown</th>\n",
       "      <th>return</th>\n",
       "    </tr>\n",
       "    <tr>\n",
       "      <th>날짜</th>\n",
       "      <th></th>\n",
       "      <th></th>\n",
       "      <th></th>\n",
       "    </tr>\n",
       "  </thead>\n",
       "  <tbody>\n",
       "    <tr>\n",
       "      <th>2023-12-21</th>\n",
       "      <td>140500</td>\n",
       "      <td>0.000000</td>\n",
       "      <td>1.000000</td>\n",
       "    </tr>\n",
       "    <tr>\n",
       "      <th>2023-12-22</th>\n",
       "      <td>140600</td>\n",
       "      <td>0.071174</td>\n",
       "      <td>1.000712</td>\n",
       "    </tr>\n",
       "    <tr>\n",
       "      <th>2023-12-26</th>\n",
       "      <td>140900</td>\n",
       "      <td>0.213371</td>\n",
       "      <td>1.002134</td>\n",
       "    </tr>\n",
       "    <tr>\n",
       "      <th>2023-12-27</th>\n",
       "      <td>140400</td>\n",
       "      <td>-0.354862</td>\n",
       "      <td>0.996451</td>\n",
       "    </tr>\n",
       "    <tr>\n",
       "      <th>2023-12-28</th>\n",
       "      <td>141500</td>\n",
       "      <td>0.783476</td>\n",
       "      <td>1.007835</td>\n",
       "    </tr>\n",
       "  </tbody>\n",
       "</table>\n",
       "</div>"
      ],
      "text/plain": [
       "             close    updown    return\n",
       "날짜                                    \n",
       "2023-12-21  140500  0.000000  1.000000\n",
       "2023-12-22  140600  0.071174  1.000712\n",
       "2023-12-26  140900  0.213371  1.002134\n",
       "2023-12-27  140400 -0.354862  0.996451\n",
       "2023-12-28  141500  0.783476  1.007835"
      ]
     },
     "execution_count": 7,
     "metadata": {},
     "output_type": "execute_result"
    }
   ],
   "source": [
    "df['return'] = 1 + df['updown']/100\n",
    "df.tail()"
   ]
  },
  {
   "cell_type": "code",
   "execution_count": null,
   "id": "48cba952-d1d6-4f59-a380-04e3a29ed951",
   "metadata": {},
   "outputs": [],
   "source": [
    "#df['return'] = np.log(df['close']/df['close'].shift(1)) 확인"
   ]
  },
  {
   "cell_type": "code",
   "execution_count": 8,
   "id": "fc56a3f7",
   "metadata": {},
   "outputs": [
    {
     "name": "stderr",
     "output_type": "stream",
     "text": [
      "C:\\Users\\Na\\AppData\\Local\\Temp\\ipykernel_42632\\1526152599.py:8: FutureWarning: Series.__getitem__ treating keys as positions is deprecated. In a future version, integer keys will always be treated as labels (consistent with DataFrame behavior). To access a value by position, use `ser.iloc[pos]`\n",
      "  rlst.append(df['return'][sn])\n"
     ]
    }
   ],
   "source": [
    "# 3. 12월 29일 종가를 기준으로 향후 251일 이후의 수익률 부트스트래핑\n",
    "def geomean(lst) :\n",
    "    return np.exp(np.mean(np.log(lst)))\n",
    "\n",
    "rlst = []\n",
    "for i in range(0,251) : \n",
    "    sn = np.random.randint(1, 246)\n",
    "    rlst.append(df['return'][sn])\n",
    "\n",
    "# 불확실성이 실현된!"
   ]
  },
  {
   "cell_type": "code",
   "execution_count": 95,
   "id": "6dc6c3fd",
   "metadata": {},
   "outputs": [],
   "source": [
    "# 4. 각 행의 값을 직전의 종가에 곱하여 251일의 에측 종가를 만들기"
   ]
  },
  {
   "cell_type": "code",
   "execution_count": 96,
   "id": "fdaaecab-1bb3-4142-9bd4-c7dff28eca09",
   "metadata": {},
   "outputs": [
    {
     "data": {
      "text/plain": [
       "119344.6064527661"
      ]
     },
     "execution_count": 96,
     "metadata": {},
     "output_type": "execute_result"
    }
   ],
   "source": [
    "fclose = [75000]\n",
    "for i in range(0, len(rlst)) :\n",
    "    fclose.append(fclose[i]*rlst[i])\n",
    "fclose[-1]"
   ]
  },
  {
   "cell_type": "code",
   "execution_count": 98,
   "id": "f601e085",
   "metadata": {},
   "outputs": [
    {
     "data": {
      "text/plain": [
       "[<matplotlib.lines.Line2D at 0x27abe26d9d0>]"
      ]
     },
     "execution_count": 98,
     "metadata": {},
     "output_type": "execute_result"
    },
    {
     "data": {
      "image/png": "[encoded data removed]",
      "text/plain": [
       "<Figure size 640x480 with 1 Axes>"
      ]
     },
     "metadata": {},
     "output_type": "display_data"
    }
   ],
   "source": [
    "# 5. 251일의 주가 흐름을 line plot으로 그려보기\n",
    "import matplotlib as plt\n",
    "plt.pyplot.plot(fclose)"
   ]
  },
  {
   "cell_type": "code",
   "execution_count": null,
   "id": "f5540367",
   "metadata": {},
   "outputs": [],
   "source": [
    "# 6. 해당 시행을 1000번, 10000번 반복하여 251일째 (즉, 대략적인 영업일 기준 2023년 12월 31일)의 예측 종가를 히스토그램으로 그려보기 /"
   ]
  },
  {
   "cell_type": "code",
   "execution_count": 102,
   "id": "b639f720-4f3b-4ac5-8378-8fbb251020a0",
   "metadata": {},
   "outputs": [
    {
     "name": "stderr",
     "output_type": "stream",
     "text": [
      "C:\\Users\\Na\\AppData\\Local\\Temp\\ipykernel_47148\\1806572603.py:8: FutureWarning: Series.__getitem__ treating keys as positions is deprecated. In a future version, integer keys will always be treated as labels (consistent with DataFrame behavior). To access a value by position, use `ser.iloc[pos]`\n",
      "  rlst.append(df['return'][sn])\n"
     ]
    }
   ],
   "source": [
    "##100회\n",
    "\n",
    "lst_100 = []\n",
    "for j in range(0, 100) :\n",
    "    rlst = []\n",
    "    for i in range(0,251) : \n",
    "        sn = np.random.randint(1, 246)\n",
    "        rlst.append(df['return'][sn])\n",
    "    fclose = [75000]\n",
    "    for i in range(0, len(rlst)) :\n",
    "        fclose.append(fclose[i]*rlst[i])\n",
    "    lst_100.append(fclose[-1])"
   ]
  },
  {
   "cell_type": "code",
   "execution_count": 103,
   "id": "20acdac5-d251-4de8-a8b9-6650300ba51c",
   "metadata": {},
   "outputs": [
    {
     "data": {
      "text/plain": [
       "(array([ 6., 11., 31., 24., 13.,  9.,  5.,  0.,  0.,  1.]),\n",
       " array([ 51307.98129874,  80996.19521466, 110684.40913058, 140372.6230465 ,\n",
       "        170060.83696243, 199749.05087835, 229437.26479427, 259125.47871019,\n",
       "        288813.69262612, 318501.90654204, 348190.12045796]),\n",
       " <BarContainer object of 10 artists>)"
      ]
     },
     "execution_count": 103,
     "metadata": {},
     "output_type": "execute_result"
    },
    {
     "data": {
      "image/png": "[encoded data removed]",
      "text/plain": [
       "<Figure size 640x480 with 1 Axes>"
      ]
     },
     "metadata": {},
     "output_type": "display_data"
    }
   ],
   "source": [
    "plt.pyplot.hist(lst_100)"
   ]
  },
  {
   "cell_type": "code",
   "execution_count": 104,
   "id": "97d5d6eb-e7d0-4fd1-926b-f3f1515f6295",
   "metadata": {},
   "outputs": [
    {
     "name": "stderr",
     "output_type": "stream",
     "text": [
      "C:\\Users\\Na\\AppData\\Local\\Temp\\ipykernel_47148\\1788237517.py:8: FutureWarning: Series.__getitem__ treating keys as positions is deprecated. In a future version, integer keys will always be treated as labels (consistent with DataFrame behavior). To access a value by position, use `ser.iloc[pos]`\n",
      "  rlst.append(df['return'][sn])\n"
     ]
    }
   ],
   "source": [
    "##1000회\n",
    "\n",
    "lst_1000 = []\n",
    "for j in range(0, 1000) :\n",
    "    rlst = []\n",
    "    for i in range(0,251) : \n",
    "        sn = np.random.randint(1, 246)\n",
    "        rlst.append(df['return'][sn])\n",
    "    fclose = [75000]\n",
    "    for i in range(0, len(rlst)) :\n",
    "        fclose.append(fclose[i]*rlst[i])\n",
    "    lst_1000.append(fclose[-1])"
   ]
  },
  {
   "cell_type": "code",
   "execution_count": 105,
   "id": "63fc99ac-28fd-47c9-bf24-7d7849c8ac82",
   "metadata": {},
   "outputs": [
    {
     "data": {
      "text/plain": [
       "(array([179., 416., 254.,  99.,  39.,  12.,   0.,   0.,   0.,   1.]),\n",
       " array([ 54825.93963989, 105197.12598661, 155568.31233333, 205939.49868005,\n",
       "        256310.68502677, 306681.87137349, 357053.05772021, 407424.24406693,\n",
       "        457795.43041365, 508166.61676037, 558537.80310709]),\n",
       " <BarContainer object of 10 artists>)"
      ]
     },
     "execution_count": 105,
     "metadata": {},
     "output_type": "execute_result"
    },
    {
     "data": {
      "image/png": "[encoded data removed]",
      "text/plain": [
       "<Figure size 640x480 with 1 Axes>"
      ]
     },
     "metadata": {},
     "output_type": "display_data"
    }
   ],
   "source": [
    "plt.pyplot.hist(lst_1000)"
   ]
  },
  {
   "cell_type": "code",
   "execution_count": null,
   "id": "b703b031",
   "metadata": {},
   "outputs": [],
   "source": [
    "# 기타 지표 수집법 (다만, 이 지표는 아직까지 검증이 좀 필요함)\n",
    "fs = stock.get_market_fundamental(\"20220101\", \"20221231\", \"005930\")\n",
    "fs.tail()\n",
    "# BPS: Book value Per Share : 주당순자산\n",
    "# PER: Price Earning Ratio : 주가수익비율\n",
    "# PBR: Price on Book-value Ratio : 주가순자산비율\n",
    "# EPS: Earning Per Share : 주당순이익\n",
    "# DIV: Dividend : 배당수익률\n",
    "# DPS: Dividend Per Share : 주당배당금"
   ]
  },
  {
   "cell_type": "code",
   "execution_count": null,
   "id": "64d25ef8",
   "metadata": {},
   "outputs": [],
   "source": [
    "# \n",
    "df = stock.get_market_trading_value_by_date(\"20220101\", \"20221231\", \"005930\", on=\"매수\")\n",
    "df.tail()"
   ]
  },
  {
   "cell_type": "code",
   "execution_count": null,
   "id": "ee958867",
   "metadata": {},
   "outputs": [],
   "source": [
    "# 기타 국내외 주식정보 수집\n",
    "import FinanceDataReader as fdr\n",
    "\n",
    "# fdr.DataReader(주식 종목 [, 시작일(YYYY-mm-dd)] [,종료일(YYYY-mm-dd)])\n",
    "# fdr.StockListing(거래소이름(\"SSE\", \"SZSE\", ...))\n",
    "\n",
    "samsung = fdr.DataReader(\"005930\")\n",
    "samsung_period = fdr.DataReader(\"005930\", \"2022-01-01\", \"2022-12-31\")\n",
    "samsung_year = fdr.DataReader(\"005930\", \"2021\")\n",
    "\n",
    "# 뉴욕거래소 전체\n",
    "NYSE_df = fdr.StockListing('NYSE') "
   ]
  },
  {
   "cell_type": "code",
   "execution_count": null,
   "id": "496ec106",
   "metadata": {},
   "outputs": [],
   "source": [
    "NYSE_df.tail()"
   ]
  },
  {
   "cell_type": "code",
   "execution_count": null,
   "id": "fbc7ac86",
   "metadata": {},
   "outputs": [],
   "source": [
    "samsung_period.head()"
   ]
  },
  {
   "cell_type": "code",
   "execution_count": null,
   "id": "3483863e",
   "metadata": {},
   "outputs": [],
   "source": [
    "# yahoo finance 사용 - 해외특화\n",
    "from pandas_datareader import data as pdr\n",
    "import yfinance as yf\n",
    "yf.pdr_override()\n",
    "# yf의 메소드를 재정의해줌(이 부분이 필요!)\n",
    "\n",
    "# df = pdr.get_data_yahoo(주식 종목(한국주식의 경우 \".KS\") [, 시작일(YYYY-mm-dd)] [,종료일(YYYY-mm-dd)])\n",
    "\n",
    "# 예시\n",
    "df = pdr.get_data_yahoo(\"AAPL\", \"2022-01-01\", \"2022-12-31\")\n",
    "\n",
    "df"
   ]
  },
  {
   "cell_type": "code",
   "execution_count": null,
   "id": "17734d79",
   "metadata": {},
   "outputs": [],
   "source": []
  }
 ],
 "metadata": {
  "kernelspec": {
   "display_name": "Python 3 (ipykernel)",
   "language": "python",
   "name": "python3"
  },
  "language_info": {
   "codemirror_mode": {
    "name": "ipython",
    "version": 3
   },
   "file_extension": ".py",
   "mimetype": "text/x-python",
   "name": "python",
   "nbconvert_exporter": "python",
   "pygments_lexer": "ipython3",
   "version": "3.12.1"
  }
 },
 "nbformat": 4,
 "nbformat_minor": 5
}
