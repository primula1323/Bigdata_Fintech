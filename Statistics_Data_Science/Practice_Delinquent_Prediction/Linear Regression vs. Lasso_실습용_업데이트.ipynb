{
 "cells": [
  {
   "cell_type": "code",
   "execution_count": null,
   "id": "db86dc37",
   "metadata": {},
   "outputs": [],
   "source": [
    "from sklearn.linear_model import Lasso, LinearRegression, Ridge\n",
    "from sklearn.model_selection import train_test_split\n",
    "import pandas as pd"
   ]
  },
  {
   "cell_type": "code",
   "execution_count": null,
   "id": "2932afeb",
   "metadata": {},
   "outputs": [],
   "source": [
    "df = pd.read_csv('lasvegas.csv')\n",
    "df.head()\n",
    "\n",
    "# bad: 부도여부\n",
    "# purpose_i : 대출목적(원래는 10개 내외 정도의 목적이 있으나, 여기서는 일부만)\n",
    "# term_i: 대출실행기간\n",
    "# verification status: Lending club에 의해 소득이 검증되었는지, 또는 소득 출처가 검증되었는지\n",
    "# initial status: 대출의 최초 상태\n",
    "# dti: "
   ]
  },
  {
   "cell_type": "code",
   "execution_count": null,
   "id": "2d9308bd",
   "metadata": {},
   "outputs": [],
   "source": [
    "df.info()"
   ]
  },
  {
   "cell_type": "code",
   "execution_count": null,
   "id": "b100f8bb",
   "metadata": {},
   "outputs": [],
   "source": [
    "X = df.drop('DELINQUENT',axis=1)\n",
    "y = df['DELINQUENT']\n",
    "\n",
    "X_train, X_test, y_train, y_test = train_test_split(X, y, test_size=0.2, random_state=171)"
   ]
  },
  {
   "cell_type": "code",
   "execution_count": null,
   "id": "87913cf0",
   "metadata": {},
   "outputs": [],
   "source": [
    "# Linear Regression model\n",
    "linear = LinearRegression()\n",
    "linear.fit(X_train, y_train)\n",
    "\n",
    "print(linear.coef_)\n",
    "print(linear.intercept_)"
   ]
  },
  {
   "cell_type": "code",
   "execution_count": null,
   "id": "11999e4c",
   "metadata": {},
   "outputs": [],
   "source": [
    "# Least Absolute Shrinkage and Selection Operator\n",
    "lasso = Lasso(alpha=)\n",
    "\n",
    "lasso.fit(X_train, y_train)\n",
    "\n",
    "print(lasso.coef_)\n",
    "print(lasso.intercept_)"
   ]
  },
  {
   "cell_type": "code",
   "execution_count": null,
   "id": "c15205e8",
   "metadata": {},
   "outputs": [],
   "source": [
    "ridge = Ridge(alpha=)\n",
    "\n",
    "ridge.fit(X_train, y_train)\n",
    "\n",
    "print(ridge.coef_)\n",
    "print(ridge.intercept_)"
   ]
  },
  {
   "cell_type": "code",
   "execution_count": null,
   "id": "02a6ac06",
   "metadata": {},
   "outputs": [],
   "source": []
  }
 ],
 "metadata": {
  "kernelspec": {
   "display_name": "Python 3 (ipykernel)",
   "language": "python",
   "name": "python3"
  },
  "language_info": {
   "codemirror_mode": {
    "name": "ipython",
    "version": 3
   },
   "file_extension": ".py",
   "mimetype": "text/x-python",
   "name": "python",
   "nbconvert_exporter": "python",
   "pygments_lexer": "ipython3",
   "version": "3.9.13"
  }
 },
 "nbformat": 4,
 "nbformat_minor": 5
}
