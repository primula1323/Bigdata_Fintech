{
 "cells": [
  {
   "cell_type": "markdown",
   "id": "f2d66477-1083-41c3-ac23-745c8f00b685",
   "metadata": {},
   "source": [
    "# 자습 코드"
   ]
  },
  {
   "cell_type": "code",
   "execution_count": 1,
   "id": "ba01a5d7-29f1-4582-a19f-888ece9bb0c0",
   "metadata": {},
   "outputs": [],
   "source": [
    "import numpy as np\n",
    "\n",
    "uni_x = np.random.uniform(0,1, 2000)\n",
    "uni_y = np.random.uniform(0,1, 2000)\n",
    "uni_xy = []\n",
    "\n",
    "for i in range(0, 2000) :\n",
    "    uni_xy.append((uni_x[i], uni_y[i]))"
   ]
  },
  {
   "cell_type": "code",
   "execution_count": 2,
   "id": "ce8ba27e-e533-436e-bd47-53a86e94b42e",
   "metadata": {},
   "outputs": [
    {
     "name": "stdout",
     "output_type": "stream",
     "text": [
      "0.782\n",
      "3.128\n"
     ]
    }
   ],
   "source": [
    "Num = 0\n",
    "for i in range(0,2000) :\n",
    "    if (uni_x[i])**2 + (uni_y[i])**2 <= 1 :\n",
    "        Num += 1\n",
    "\n",
    "print(Num/2000) # approximates to pi/4\n",
    "print(Num/500)"
   ]
  },
  {
   "cell_type": "markdown",
   "id": "8fa68133-f517-43c9-994b-47747b8cc36c",
   "metadata": {},
   "source": [
    "# 수업 코드"
   ]
  },
  {
   "cell_type": "code",
   "execution_count": 1,
   "id": "4d391b4c",
   "metadata": {},
   "outputs": [],
   "source": [
    "import random\n",
    "import matplotlib.pyplot as plt\n",
    "import numpy as np\n",
    "import time"
   ]
  },
  {
   "cell_type": "code",
   "execution_count": null,
   "id": "234af444",
   "metadata": {},
   "outputs": [],
   "source": [
    "start_time = time.time()\n",
    "\n",
    "n = 200000\n",
    "x_list = []\n",
    "y_list = []\n",
    "circle_x = []\n",
    "circle_y = []\n",
    "\n",
    "for i in range(n):\n",
    "    x = \n",
    "    y = random.rand(0,1)\n",
    "    x_list.append()\n",
    "    y_list.append()\n",
    "    \n",
    "    if np.sqrt(x**2 + y**2) <= 1:\n",
    "        circle_x.\n",
    "        circle_y.\n",
    "\n",
    "area = len(circle_x)/len(x_list)\n",
    "pi = area*4\n",
    "\n",
    "\n",
    "end_time = time.time()\n",
    "\n",
    "execution_time = end_time - start_time\n",
    "\n",
    "print(f\"Execution time: {execution_time} seconds\")"
   ]
  }
 ],
 "metadata": {
  "kernelspec": {
   "display_name": "Python 3 (ipykernel)",
   "language": "python",
   "name": "python3"
  },
  "language_info": {
   "codemirror_mode": {
    "name": "ipython",
    "version": 3
   },
   "file_extension": ".py",
   "mimetype": "text/x-python",
   "name": "python",
   "nbconvert_exporter": "python",
   "pygments_lexer": "ipython3",
   "version": "3.12.1"
  }
 },
 "nbformat": 4,
 "nbformat_minor": 5
}
