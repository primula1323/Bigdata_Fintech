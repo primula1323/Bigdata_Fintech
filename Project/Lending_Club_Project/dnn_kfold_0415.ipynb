{
 "cells": [
  {
   "cell_type": "code",
   "execution_count": 10,
   "metadata": {},
   "outputs": [],
   "source": [
    "import pandas as pd\n",
    "import numpy as np\n",
    "import warnings\n",
    "from tensorflow import keras\n",
    "from tensorflow.keras.utils import to_categorical\n",
    "from tensorflow.python.keras import callbacks\n",
    "from keras import backend as K\n",
    "\n",
    "from sklearn.model_selection import train_test_split\n",
    "from sklearn.decomposition import PCA\n",
    "from sklearn.preprocessing import StandardScaler\n",
    "\n",
    "from keras.layers import Dense, Dropout\n",
    "from keras.optimizers import Adam, SGD\n",
    "from keras.callbacks import EarlyStopping\n",
    "\n",
    "warnings.filterwarnings(action='ignore')"
   ]
  },
  {
   "cell_type": "code",
   "execution_count": 11,
   "metadata": {},
   "outputs": [],
   "source": [
    "df = pd.read_csv(\"data/modified_train_0417.csv\")\n",
    "x_train = df.drop(columns=['loan_status', 'addr_state', 'Unnamed: 0'])\n",
    "y_train = df['loan_status']"
   ]
  },
  {
   "cell_type": "code",
   "execution_count": 12,
   "metadata": {},
   "outputs": [],
   "source": [
    "nan_indices = np.isnan(x_train).any(axis=1)\n",
    "x_train = x_train[~nan_indices]\n",
    "y_train = y_train[~nan_indices]"
   ]
  },
  {
   "cell_type": "code",
   "execution_count": 13,
   "metadata": {},
   "outputs": [],
   "source": [
    "scaler = StandardScaler()\n",
    "X_scaled = scaler.fit_transform(x_train)\n",
    "\n",
    "# PCA로 차원 축소\n",
    "pca = PCA(n_components=90)\n",
    "X_pca = pca.fit_transform(X_scaled)\n",
    "x_train = X_pca.astype('float32')\n",
    "# stratify로 학습에 용이하게 비율 유지\n",
    "# X_Train, X_Validation, Y_Train, Y_Validation = train_test_split(x_train, y_train, test_size=0.2, stratify=y_train)"
   ]
  },
  {
   "cell_type": "code",
   "execution_count": 14,
   "metadata": {},
   "outputs": [],
   "source": [
    "y_train=to_categorical(y_train, 2).astype(int)\n",
    "# from sklearn.preprocessing import OneHotEncoder\n",
    "# encoder = OneHotEncoder()\n",
    "# y_train = y_train.values\n",
    "# y_train = encoder.fit_transform(y_train.reshape(-1, 1))"
   ]
  },
  {
   "cell_type": "code",
   "execution_count": 15,
   "metadata": {},
   "outputs": [],
   "source": [
    "def f1_score(y_true, y_pred):\n",
    "    true_positives = K.sum(K.round(K.clip(y_true * y_pred, 0, 1)))\n",
    "    possible_positives = K.sum(K.round(K.clip(y_true, 0, 1)))\n",
    "    predicted_positives = K.sum(K.round(K.clip(y_pred, 0, 1)))\n",
    "    precision = true_positives / (predicted_positives + K.epsilon())\n",
    "    recall = true_positives / (possible_positives + K.epsilon())    \n",
    "    f1_val = 2 * (precision * recall) / (precision + recall + K.epsilon())\n",
    "    return f1_val\n",
    "\n",
    "def recall(y_true, y_pred):\n",
    "    true_positives = K.sum(K.round(K.clip(y_true * y_pred, 0, 1)))\n",
    "    possible_positives = K.sum(K.round(K.clip(y_true, 0, 1)))\n",
    "    recall = true_positives / (possible_positives + K.epsilon())\n",
    "    return recall\n",
    "\n",
    "def precision(y_true, y_pred):\n",
    "    true_positives = K.sum(K.round(K.clip(y_true * y_pred, 0, 1)))\n",
    "    predicted_positives = K.sum(K.round(K.clip(y_pred, 0, 1)))\n",
    "    precision = true_positives / (predicted_positives + K.epsilon())\n",
    "    return precision"
   ]
  },
  {
   "cell_type": "code",
   "execution_count": 16,
   "metadata": {},
   "outputs": [
    {
     "name": "stdout",
     "output_type": "stream",
     "text": [
      "===================================\n",
      "Average Validation accuracy: 0.7976619482040406\n",
      "Average Validation F1-score: 0.7976645827293396\n",
      "Average Validation recall: 0.7976646423339844\n",
      "Average Validation precesion: 0.7976646423339844\n"
     ]
    }
   ],
   "source": [
    "from sklearn.model_selection import KFold\n",
    "\n",
    "# Define the number of splits for k-fold cross-validation\n",
    "k = 5\n",
    "skf = KFold(n_splits=k, shuffle=True)\n",
    "\n",
    "# Initialize lists to store evaluation metrics\n",
    "valid_acc_list = []\n",
    "valid_f1_list = []\n",
    "valid_recall_list = []\n",
    "valid_precision_list = []\n",
    "\n",
    "# Perform k-fold cross-validation\n",
    "for train, val in skf.split(x_train, y_train):\n",
    "    X_train_fold, X_val_fold = x_train[train], x_train[val]\n",
    "    Y_train_fold, Y_val_fold = y_train[train], y_train[val]\n",
    "    \n",
    "    # Define and compile the model\n",
    "    model = keras.Sequential([\n",
    "        Dense(45, input_dim=90, activation='relu'),\n",
    "        Dropout(0.2),\n",
    "        Dense(45, activation='relu'),\n",
    "        Dropout(0.2),\n",
    "        Dense(45, activation='relu'),\n",
    "        Dropout(0,2),\n",
    "        Dense(10),\n",
    "        Dense(2, activation='softmax')\n",
    "    ])\n",
    "    optimizer = Adam(learning_rate=0.01)\n",
    "    \n",
    "    model.compile(loss=\"categorical_crossentropy\", optimizer=optimizer, metrics=[\"accuracy\", f1_score, recall, precision])\n",
    "    \n",
    "    \n",
    "    epochs = 100\n",
    "    batch_size = 200000\n",
    "    early_stopping = EarlyStopping(monitor='loss',min_delta=0.001)\n",
    "\n",
    "    # Train the model\n",
    "    model.fit(X_train_fold, Y_train_fold, batch_size=batch_size, epochs=epochs, verbose=0, callbacks=[early_stopping])\n",
    "    \n",
    "    # Evaluate the model on validation data\n",
    "    valid_loss, valid_acc, valid_f1, valid_recall, valid_precision = model.evaluate(X_val_fold, Y_val_fold, verbose=0)\n",
    "    valid_acc_list.append(valid_acc)\n",
    "    valid_f1_list.append(valid_f1)\n",
    "    valid_recall_list.append(valid_recall)\n",
    "    valid_precision_list.append(valid_precision)\n",
    "\n",
    "# Calculate the average metrics across all folds\n",
    "avg_valid_acc = sum(valid_acc_list) / k\n",
    "avg_valid_f1 = sum(valid_f1_list) / k\n",
    "avg_valid_recall = sum(valid_recall_list) / k\n",
    "avg_valid_precision = sum(valid_precision_list) / k\n",
    "\n",
    "# Print the average evaluation metrics\n",
    "print(\"===================================\")\n",
    "print(\"Average Validation accuracy:\", avg_valid_acc)\n",
    "print(\"Average Validation F1-score:\", avg_valid_f1)\n",
    "print(\"Average Validation recall:\", avg_valid_recall)\n",
    "print(\"Average Validation precesion:\", avg_valid_precision)\n"
   ]
  },
  {
   "cell_type": "code",
   "execution_count": null,
   "metadata": {},
   "outputs": [],
   "source": []
  }
 ],
 "metadata": {
  "kernelspec": {
   "display_name": "tf_env",
   "language": "python",
   "name": "python3"
  },
  "language_info": {
   "codemirror_mode": {
    "name": "ipython",
    "version": 3
   },
   "file_extension": ".py",
   "mimetype": "text/x-python",
   "name": "python",
   "nbconvert_exporter": "python",
   "pygments_lexer": "ipython3",
   "version": "3.11.5"
  }
 },
 "nbformat": 4,
 "nbformat_minor": 2
}
