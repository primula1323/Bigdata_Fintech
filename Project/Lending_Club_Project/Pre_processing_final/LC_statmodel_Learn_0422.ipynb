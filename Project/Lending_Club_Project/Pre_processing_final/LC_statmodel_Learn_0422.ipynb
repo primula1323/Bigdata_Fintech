{
 "cells": [
  {
   "cell_type": "code",
   "execution_count": 1,
   "metadata": {},
   "outputs": [],
   "source": [
    "import joblib\n",
    "import pandas as pd\n",
    "import numpy as np\n",
    "import warnings\n",
    "from sklearn.datasets import make_classification\n",
    "from sklearn.model_selection import train_test_split\n",
    "from sklearn.metrics import classification_report\n",
    "from sklearn.decomposition import PCA\n",
    "from sklearn.preprocessing import StandardScaler\n",
    "from sklearn.model_selection import RandomizedSearchCV\n",
    "from typing import Union, List\n",
    "#import ISLP\n",
    "import imblearn\n",
    "from imblearn.over_sampling import RandomOverSampler\n",
    "import warnings\n",
    "from collections import Counter\n",
    "\n",
    "warnings.filterwarnings(action='ignore')"
   ]
  },
  {
   "cell_type": "code",
   "execution_count": 2,
   "metadata": {},
   "outputs": [],
   "source": [
    "df = pd.read_csv('modified_0420.csv')"
   ]
  },
  {
   "cell_type": "code",
   "execution_count": 3,
   "metadata": {},
   "outputs": [
    {
     "data": {
      "text/plain": [
       "(1131682, 91)"
      ]
     },
     "execution_count": 3,
     "metadata": {},
     "output_type": "execute_result"
    }
   ],
   "source": [
    "#df = p.get_df()\n",
    "df.shape"
   ]
  },
  {
   "cell_type": "code",
   "execution_count": 4,
   "metadata": {},
   "outputs": [],
   "source": [
    "new_loan_status = []\n",
    "for i in range(len(df)) :\n",
    "    if df['loan_status'][i] == 0 :\n",
    "        new_loan_status.append(1)\n",
    "    else :\n",
    "        new_loan_status.append(0)"
   ]
  },
  {
   "cell_type": "code",
   "execution_count": 5,
   "metadata": {},
   "outputs": [
    {
     "data": {
      "text/html": [
       "<div>\n",
       "<style scoped>\n",
       "    .dataframe tbody tr th:only-of-type {\n",
       "        vertical-align: middle;\n",
       "    }\n",
       "\n",
       "    .dataframe tbody tr th {\n",
       "        vertical-align: top;\n",
       "    }\n",
       "\n",
       "    .dataframe thead th {\n",
       "        text-align: right;\n",
       "    }\n",
       "</style>\n",
       "<table border=\"1\" class=\"dataframe\">\n",
       "  <thead>\n",
       "    <tr style=\"text-align: right;\">\n",
       "      <th></th>\n",
       "      <th>new_loan_status</th>\n",
       "      <th>Unnamed: 0</th>\n",
       "      <th>loan_amnt</th>\n",
       "      <th>term</th>\n",
       "      <th>int_rate</th>\n",
       "      <th>installment</th>\n",
       "      <th>sub_grade</th>\n",
       "      <th>emp_length</th>\n",
       "      <th>loan_status</th>\n",
       "      <th>delinq_2yrs</th>\n",
       "      <th>...</th>\n",
       "      <th>tax_liens_log</th>\n",
       "      <th>tot_cur_bal_log</th>\n",
       "      <th>tot_hi_cred_lim_log</th>\n",
       "      <th>total_acc_log</th>\n",
       "      <th>total_bal_ex_mort_log</th>\n",
       "      <th>total_bal_il_log</th>\n",
       "      <th>total_bc_limit_log</th>\n",
       "      <th>total_cu_tl_log</th>\n",
       "      <th>total_il_high_credit_limit_log</th>\n",
       "      <th>total_rev_hi_lim_log</th>\n",
       "    </tr>\n",
       "  </thead>\n",
       "  <tbody>\n",
       "    <tr>\n",
       "      <th>0</th>\n",
       "      <td>1</td>\n",
       "      <td>0</td>\n",
       "      <td>6000.0</td>\n",
       "      <td>36</td>\n",
       "      <td>7.97</td>\n",
       "      <td>187.94</td>\n",
       "      <td>4</td>\n",
       "      <td>2</td>\n",
       "      <td>0</td>\n",
       "      <td>1.0</td>\n",
       "      <td>...</td>\n",
       "      <td>0.0</td>\n",
       "      <td>10.820878</td>\n",
       "      <td>11.272280</td>\n",
       "      <td>3.610918</td>\n",
       "      <td>10.820878</td>\n",
       "      <td>10.757158</td>\n",
       "      <td>9.615872</td>\n",
       "      <td>0.000000</td>\n",
       "      <td>10.942208</td>\n",
       "      <td>10.003378</td>\n",
       "    </tr>\n",
       "    <tr>\n",
       "      <th>1</th>\n",
       "      <td>0</td>\n",
       "      <td>1</td>\n",
       "      <td>23200.0</td>\n",
       "      <td>60</td>\n",
       "      <td>24.99</td>\n",
       "      <td>680.82</td>\n",
       "      <td>23</td>\n",
       "      <td>10</td>\n",
       "      <td>1</td>\n",
       "      <td>1.0</td>\n",
       "      <td>...</td>\n",
       "      <td>0.0</td>\n",
       "      <td>13.315176</td>\n",
       "      <td>13.386134</td>\n",
       "      <td>4.110874</td>\n",
       "      <td>12.592905</td>\n",
       "      <td>12.533767</td>\n",
       "      <td>9.918425</td>\n",
       "      <td>1.386294</td>\n",
       "      <td>12.582679</td>\n",
       "      <td>10.317450</td>\n",
       "    </tr>\n",
       "    <tr>\n",
       "      <th>2</th>\n",
       "      <td>0</td>\n",
       "      <td>2</td>\n",
       "      <td>16000.0</td>\n",
       "      <td>36</td>\n",
       "      <td>7.07</td>\n",
       "      <td>494.55</td>\n",
       "      <td>1</td>\n",
       "      <td>10</td>\n",
       "      <td>1</td>\n",
       "      <td>0.0</td>\n",
       "      <td>...</td>\n",
       "      <td>0.0</td>\n",
       "      <td>11.522113</td>\n",
       "      <td>12.186584</td>\n",
       "      <td>3.367296</td>\n",
       "      <td>10.390594</td>\n",
       "      <td>10.263641</td>\n",
       "      <td>10.987003</td>\n",
       "      <td>0.000000</td>\n",
       "      <td>10.806490</td>\n",
       "      <td>11.157692</td>\n",
       "    </tr>\n",
       "    <tr>\n",
       "      <th>3</th>\n",
       "      <td>1</td>\n",
       "      <td>3</td>\n",
       "      <td>4500.0</td>\n",
       "      <td>36</td>\n",
       "      <td>10.42</td>\n",
       "      <td>146.10</td>\n",
       "      <td>7</td>\n",
       "      <td>5</td>\n",
       "      <td>0</td>\n",
       "      <td>0.0</td>\n",
       "      <td>...</td>\n",
       "      <td>0.0</td>\n",
       "      <td>12.178635</td>\n",
       "      <td>12.263577</td>\n",
       "      <td>2.302585</td>\n",
       "      <td>9.166806</td>\n",
       "      <td>7.919356</td>\n",
       "      <td>9.137877</td>\n",
       "      <td>0.000000</td>\n",
       "      <td>9.390242</td>\n",
       "      <td>9.532496</td>\n",
       "    </tr>\n",
       "    <tr>\n",
       "      <th>4</th>\n",
       "      <td>1</td>\n",
       "      <td>4</td>\n",
       "      <td>20000.0</td>\n",
       "      <td>36</td>\n",
       "      <td>9.99</td>\n",
       "      <td>645.25</td>\n",
       "      <td>7</td>\n",
       "      <td>10</td>\n",
       "      <td>0</td>\n",
       "      <td>0.0</td>\n",
       "      <td>...</td>\n",
       "      <td>0.0</td>\n",
       "      <td>11.831590</td>\n",
       "      <td>12.137612</td>\n",
       "      <td>3.713572</td>\n",
       "      <td>11.101704</td>\n",
       "      <td>0.000000</td>\n",
       "      <td>9.305741</td>\n",
       "      <td>0.000000</td>\n",
       "      <td>11.199461</td>\n",
       "      <td>10.229224</td>\n",
       "    </tr>\n",
       "    <tr>\n",
       "      <th>...</th>\n",
       "      <td>...</td>\n",
       "      <td>...</td>\n",
       "      <td>...</td>\n",
       "      <td>...</td>\n",
       "      <td>...</td>\n",
       "      <td>...</td>\n",
       "      <td>...</td>\n",
       "      <td>...</td>\n",
       "      <td>...</td>\n",
       "      <td>...</td>\n",
       "      <td>...</td>\n",
       "      <td>...</td>\n",
       "      <td>...</td>\n",
       "      <td>...</td>\n",
       "      <td>...</td>\n",
       "      <td>...</td>\n",
       "      <td>...</td>\n",
       "      <td>...</td>\n",
       "      <td>...</td>\n",
       "      <td>...</td>\n",
       "      <td>...</td>\n",
       "    </tr>\n",
       "    <tr>\n",
       "      <th>1131677</th>\n",
       "      <td>1</td>\n",
       "      <td>1131677</td>\n",
       "      <td>26500.0</td>\n",
       "      <td>60</td>\n",
       "      <td>17.27</td>\n",
       "      <td>662.45</td>\n",
       "      <td>14</td>\n",
       "      <td>2</td>\n",
       "      <td>0</td>\n",
       "      <td>0.0</td>\n",
       "      <td>...</td>\n",
       "      <td>0.0</td>\n",
       "      <td>12.346938</td>\n",
       "      <td>12.461776</td>\n",
       "      <td>2.833213</td>\n",
       "      <td>10.434557</td>\n",
       "      <td>0.000000</td>\n",
       "      <td>9.846970</td>\n",
       "      <td>0.000000</td>\n",
       "      <td>9.728241</td>\n",
       "      <td>10.507831</td>\n",
       "    </tr>\n",
       "    <tr>\n",
       "      <th>1131678</th>\n",
       "      <td>0</td>\n",
       "      <td>1131678</td>\n",
       "      <td>3600.0</td>\n",
       "      <td>36</td>\n",
       "      <td>19.99</td>\n",
       "      <td>133.78</td>\n",
       "      <td>20</td>\n",
       "      <td>7</td>\n",
       "      <td>1</td>\n",
       "      <td>0.0</td>\n",
       "      <td>...</td>\n",
       "      <td>0.0</td>\n",
       "      <td>11.195760</td>\n",
       "      <td>11.378571</td>\n",
       "      <td>2.302585</td>\n",
       "      <td>9.390493</td>\n",
       "      <td>0.000000</td>\n",
       "      <td>8.779711</td>\n",
       "      <td>0.000000</td>\n",
       "      <td>9.501217</td>\n",
       "      <td>9.278092</td>\n",
       "    </tr>\n",
       "    <tr>\n",
       "      <th>1131679</th>\n",
       "      <td>1</td>\n",
       "      <td>1131679</td>\n",
       "      <td>19000.0</td>\n",
       "      <td>36</td>\n",
       "      <td>6.68</td>\n",
       "      <td>583.89</td>\n",
       "      <td>2</td>\n",
       "      <td>4</td>\n",
       "      <td>0</td>\n",
       "      <td>0.0</td>\n",
       "      <td>...</td>\n",
       "      <td>0.0</td>\n",
       "      <td>12.388636</td>\n",
       "      <td>12.548072</td>\n",
       "      <td>3.526361</td>\n",
       "      <td>10.837304</td>\n",
       "      <td>0.000000</td>\n",
       "      <td>9.775711</td>\n",
       "      <td>0.000000</td>\n",
       "      <td>10.681688</td>\n",
       "      <td>10.225607</td>\n",
       "    </tr>\n",
       "    <tr>\n",
       "      <th>1131680</th>\n",
       "      <td>1</td>\n",
       "      <td>1131680</td>\n",
       "      <td>9600.0</td>\n",
       "      <td>36</td>\n",
       "      <td>14.33</td>\n",
       "      <td>329.65</td>\n",
       "      <td>10</td>\n",
       "      <td>9</td>\n",
       "      <td>0</td>\n",
       "      <td>0.0</td>\n",
       "      <td>...</td>\n",
       "      <td>0.0</td>\n",
       "      <td>11.884551</td>\n",
       "      <td>11.926941</td>\n",
       "      <td>2.197225</td>\n",
       "      <td>9.513256</td>\n",
       "      <td>0.000000</td>\n",
       "      <td>8.343078</td>\n",
       "      <td>0.000000</td>\n",
       "      <td>9.251002</td>\n",
       "      <td>8.881975</td>\n",
       "    </tr>\n",
       "    <tr>\n",
       "      <th>1131681</th>\n",
       "      <td>1</td>\n",
       "      <td>1131681</td>\n",
       "      <td>24000.0</td>\n",
       "      <td>36</td>\n",
       "      <td>7.35</td>\n",
       "      <td>744.90</td>\n",
       "      <td>3</td>\n",
       "      <td>5</td>\n",
       "      <td>0</td>\n",
       "      <td>0.0</td>\n",
       "      <td>...</td>\n",
       "      <td>0.0</td>\n",
       "      <td>12.243108</td>\n",
       "      <td>12.791679</td>\n",
       "      <td>3.583519</td>\n",
       "      <td>10.526615</td>\n",
       "      <td>10.038980</td>\n",
       "      <td>11.604602</td>\n",
       "      <td>0.000000</td>\n",
       "      <td>10.407772</td>\n",
       "      <td>11.704380</td>\n",
       "    </tr>\n",
       "  </tbody>\n",
       "</table>\n",
       "<p>1131682 rows × 92 columns</p>\n",
       "</div>"
      ],
      "text/plain": [
       "         new_loan_status  Unnamed: 0  loan_amnt  term  int_rate  installment  \\\n",
       "0                      1           0     6000.0    36      7.97       187.94   \n",
       "1                      0           1    23200.0    60     24.99       680.82   \n",
       "2                      0           2    16000.0    36      7.07       494.55   \n",
       "3                      1           3     4500.0    36     10.42       146.10   \n",
       "4                      1           4    20000.0    36      9.99       645.25   \n",
       "...                  ...         ...        ...   ...       ...          ...   \n",
       "1131677                1     1131677    26500.0    60     17.27       662.45   \n",
       "1131678                0     1131678     3600.0    36     19.99       133.78   \n",
       "1131679                1     1131679    19000.0    36      6.68       583.89   \n",
       "1131680                1     1131680     9600.0    36     14.33       329.65   \n",
       "1131681                1     1131681    24000.0    36      7.35       744.90   \n",
       "\n",
       "         sub_grade  emp_length  loan_status  delinq_2yrs  ...  tax_liens_log  \\\n",
       "0                4           2            0          1.0  ...            0.0   \n",
       "1               23          10            1          1.0  ...            0.0   \n",
       "2                1          10            1          0.0  ...            0.0   \n",
       "3                7           5            0          0.0  ...            0.0   \n",
       "4                7          10            0          0.0  ...            0.0   \n",
       "...            ...         ...          ...          ...  ...            ...   \n",
       "1131677         14           2            0          0.0  ...            0.0   \n",
       "1131678         20           7            1          0.0  ...            0.0   \n",
       "1131679          2           4            0          0.0  ...            0.0   \n",
       "1131680         10           9            0          0.0  ...            0.0   \n",
       "1131681          3           5            0          0.0  ...            0.0   \n",
       "\n",
       "         tot_cur_bal_log  tot_hi_cred_lim_log  total_acc_log  \\\n",
       "0              10.820878            11.272280       3.610918   \n",
       "1              13.315176            13.386134       4.110874   \n",
       "2              11.522113            12.186584       3.367296   \n",
       "3              12.178635            12.263577       2.302585   \n",
       "4              11.831590            12.137612       3.713572   \n",
       "...                  ...                  ...            ...   \n",
       "1131677        12.346938            12.461776       2.833213   \n",
       "1131678        11.195760            11.378571       2.302585   \n",
       "1131679        12.388636            12.548072       3.526361   \n",
       "1131680        11.884551            11.926941       2.197225   \n",
       "1131681        12.243108            12.791679       3.583519   \n",
       "\n",
       "         total_bal_ex_mort_log  total_bal_il_log  total_bc_limit_log  \\\n",
       "0                    10.820878         10.757158            9.615872   \n",
       "1                    12.592905         12.533767            9.918425   \n",
       "2                    10.390594         10.263641           10.987003   \n",
       "3                     9.166806          7.919356            9.137877   \n",
       "4                    11.101704          0.000000            9.305741   \n",
       "...                        ...               ...                 ...   \n",
       "1131677              10.434557          0.000000            9.846970   \n",
       "1131678               9.390493          0.000000            8.779711   \n",
       "1131679              10.837304          0.000000            9.775711   \n",
       "1131680               9.513256          0.000000            8.343078   \n",
       "1131681              10.526615         10.038980           11.604602   \n",
       "\n",
       "         total_cu_tl_log  total_il_high_credit_limit_log  total_rev_hi_lim_log  \n",
       "0               0.000000                       10.942208             10.003378  \n",
       "1               1.386294                       12.582679             10.317450  \n",
       "2               0.000000                       10.806490             11.157692  \n",
       "3               0.000000                        9.390242              9.532496  \n",
       "4               0.000000                       11.199461             10.229224  \n",
       "...                  ...                             ...                   ...  \n",
       "1131677         0.000000                        9.728241             10.507831  \n",
       "1131678         0.000000                        9.501217              9.278092  \n",
       "1131679         0.000000                       10.681688             10.225607  \n",
       "1131680         0.000000                        9.251002              8.881975  \n",
       "1131681         0.000000                       10.407772             11.704380  \n",
       "\n",
       "[1131682 rows x 92 columns]"
      ]
     },
     "execution_count": 5,
     "metadata": {},
     "output_type": "execute_result"
    }
   ],
   "source": [
    "df.insert(0, 'new_loan_status', new_loan_status)\n",
    "df"
   ]
  },
  {
   "cell_type": "code",
   "execution_count": 6,
   "metadata": {},
   "outputs": [],
   "source": [
    "df_X = df.drop(columns=['loan_status', 'new_loan_status', 'Unnamed: 0'])\n",
    "df_y = df['new_loan_status']"
   ]
  },
  {
   "cell_type": "code",
   "execution_count": 7,
   "metadata": {},
   "outputs": [],
   "source": [
    "X_train, X_test, y_train, y_test = train_test_split(df_X, df_y, test_size = 0.2, random_state = 42)\n",
    "\n",
    "ros = RandomOverSampler(random_state=42)\n",
    "X_resampled, y_resampled = ros.fit_resample(X_train, y_train)"
   ]
  },
  {
   "cell_type": "code",
   "execution_count": 8,
   "metadata": {},
   "outputs": [],
   "source": [
    "pca = PCA(n_components = 50)\n",
    "pca.fit(df_X)\n",
    "X_pca = pca.transform(df_X)\n",
    "X_train_pca, X_test_pca, y_train_pca, y_test_pca = train_test_split(X_pca, df_y, test_size = 0.2, random_state = 42)\n",
    "#X_train, X_test, y_train, y_test = train_test_split(X_pca, df_y, test_size=0.2, random_state=42, stratify = y_train)"
   ]
  },
  {
   "cell_type": "code",
   "execution_count": 9,
   "metadata": {},
   "outputs": [],
   "source": [
    "ros = RandomOverSampler(random_state=42)\n",
    "X_resampled_pca, y_resampled_pca = ros.fit_resample(X_train_pca, y_train_pca)"
   ]
  },
  {
   "cell_type": "markdown",
   "metadata": {},
   "source": [
    "## RidgeClassifier"
   ]
  },
  {
   "cell_type": "code",
   "execution_count": 24,
   "metadata": {},
   "outputs": [],
   "source": [
    "from sklearn.linear_model import RidgeClassifierCV"
   ]
  },
  {
   "cell_type": "code",
   "execution_count": 11,
   "metadata": {},
   "outputs": [],
   "source": [
    "clfRidge = RidgeClassifierCV().fit(X_train, y_train)"
   ]
  },
  {
   "cell_type": "code",
   "execution_count": 10,
   "metadata": {},
   "outputs": [
    {
     "data": {
      "text/plain": [
       "['clfRidge.pkl']"
      ]
     },
     "execution_count": 10,
     "metadata": {},
     "output_type": "execute_result"
    }
   ],
   "source": [
    "joblib.dump(clfRidge, 'clfRidge.pkl')"
   ]
  },
  {
   "cell_type": "code",
   "execution_count": 11,
   "metadata": {},
   "outputs": [
    {
     "name": "stdout",
     "output_type": "stream",
     "text": [
      "              precision    recall  f1-score   support\n",
      "\n",
      "           0       0.59      0.04      0.07     45821\n",
      "           1       0.80      0.99      0.89    180516\n",
      "\n",
      "    accuracy                           0.80    226337\n",
      "   macro avg       0.69      0.52      0.48    226337\n",
      "weighted avg       0.76      0.80      0.72    226337\n",
      "\n"
     ]
    }
   ],
   "source": [
    "y_pred = clfRidge.predict(X_test)\n",
    "print(classification_report(y_test, y_pred))"
   ]
  },
  {
   "cell_type": "code",
   "execution_count": 12,
   "metadata": {},
   "outputs": [],
   "source": [
    "clfRidge_over = RidgeClassifierCV().fit(X_resampled, y_resampled)"
   ]
  },
  {
   "cell_type": "code",
   "execution_count": 13,
   "metadata": {},
   "outputs": [
    {
     "name": "stdout",
     "output_type": "stream",
     "text": [
      "              precision    recall  f1-score   support\n",
      "\n",
      "           0       0.32      0.65      0.43     45821\n",
      "           1       0.88      0.66      0.75    180516\n",
      "\n",
      "    accuracy                           0.66    226337\n",
      "   macro avg       0.60      0.65      0.59    226337\n",
      "weighted avg       0.77      0.66      0.69    226337\n",
      "\n"
     ]
    }
   ],
   "source": [
    "y_pred = clfRidge_over.predict(X_test)\n",
    "print(classification_report(y_test, y_pred))"
   ]
  },
  {
   "cell_type": "code",
   "execution_count": 14,
   "metadata": {},
   "outputs": [
    {
     "data": {
      "text/plain": [
       "['clfRidge_Over.pkl']"
      ]
     },
     "execution_count": 14,
     "metadata": {},
     "output_type": "execute_result"
    }
   ],
   "source": [
    "joblib.dump(clfRidge_over, 'clfRidge_Over.pkl')"
   ]
  },
  {
   "cell_type": "code",
   "execution_count": 25,
   "metadata": {},
   "outputs": [],
   "source": [
    "clfRidge_pcaover = RidgeClassifierCV().fit(X_resampled_pca, y_resampled_pca)"
   ]
  },
  {
   "cell_type": "code",
   "execution_count": 26,
   "metadata": {},
   "outputs": [
    {
     "name": "stdout",
     "output_type": "stream",
     "text": [
      "              precision    recall  f1-score   support\n",
      "\n",
      "           0       0.33      0.65      0.43     45821\n",
      "           1       0.88      0.66      0.75    180516\n",
      "\n",
      "    accuracy                           0.66    226337\n",
      "   macro avg       0.60      0.65      0.59    226337\n",
      "weighted avg       0.77      0.66      0.69    226337\n",
      "\n"
     ]
    }
   ],
   "source": [
    "y_pred = clfRidge_pcaover.predict(X_test_pca)\n",
    "print(classification_report(y_test_pca, y_pred))"
   ]
  },
  {
   "cell_type": "code",
   "execution_count": null,
   "metadata": {},
   "outputs": [],
   "source": []
  },
  {
   "cell_type": "markdown",
   "metadata": {},
   "source": [
    "## LassoClassifier"
   ]
  },
  {
   "cell_type": "code",
   "execution_count": 10,
   "metadata": {},
   "outputs": [],
   "source": [
    "from sklearn.linear_model import LogisticRegressionCV"
   ]
  },
  {
   "cell_type": "code",
   "execution_count": 42,
   "metadata": {},
   "outputs": [],
   "source": [
    "clfLasso = LogisticRegressionCV(penalty='l1', solver = 'saga').fit(X_train, y_train)"
   ]
  },
  {
   "cell_type": "code",
   "execution_count": 28,
   "metadata": {},
   "outputs": [
    {
     "name": "stdout",
     "output_type": "stream",
     "text": [
      "              precision    recall  f1-score   support\n",
      "\n",
      "           0       0.80      1.00      0.89    180516\n",
      "           1       0.00      0.00      0.00     45821\n",
      "\n",
      "    accuracy                           0.80    226337\n",
      "   macro avg       0.40      0.50      0.44    226337\n",
      "weighted avg       0.64      0.80      0.71    226337\n",
      "\n"
     ]
    }
   ],
   "source": [
    "y_pred = clfLasso.predict(X_test)\n",
    "print(classification_report(y_test, y_pred))\n",
    "#48분 걸려서 recall 0.05!"
   ]
  },
  {
   "cell_type": "code",
   "execution_count": null,
   "metadata": {},
   "outputs": [],
   "source": [
    "clfLasso_over = LogisticRegressionCV(penalty='l1', solver = 'saga').fit(X_resampled, y_resampled)"
   ]
  },
  {
   "cell_type": "code",
   "execution_count": null,
   "metadata": {},
   "outputs": [],
   "source": [
    "y_pred = clfLasso_over.predict(X_test)\n",
    "print(classification_report(y_test, y_pred))"
   ]
  },
  {
   "cell_type": "code",
   "execution_count": 11,
   "metadata": {},
   "outputs": [],
   "source": [
    "clfLasso_pcaover = LogisticRegressionCV(penalty='l1', solver = 'saga').fit(X_resampled_pca, y_resampled_pca)"
   ]
  },
  {
   "cell_type": "code",
   "execution_count": 12,
   "metadata": {},
   "outputs": [
    {
     "name": "stdout",
     "output_type": "stream",
     "text": [
      "              precision    recall  f1-score   support\n",
      "\n",
      "           0       0.31      0.67      0.43     45821\n",
      "           1       0.88      0.63      0.73    180516\n",
      "\n",
      "    accuracy                           0.64    226337\n",
      "   macro avg       0.60      0.65      0.58    226337\n",
      "weighted avg       0.77      0.64      0.67    226337\n",
      "\n"
     ]
    }
   ],
   "source": [
    "y_pred = clfLasso_pcaover.predict(X_test_pca)\n",
    "print(classification_report(y_test, y_pred))"
   ]
  },
  {
   "cell_type": "markdown",
   "metadata": {},
   "source": [
    "## LDA, QDA"
   ]
  },
  {
   "cell_type": "code",
   "execution_count": 50,
   "metadata": {},
   "outputs": [],
   "source": [
    "#LDA\n",
    "from sklearn.discriminant_analysis import LinearDiscriminantAnalysis"
   ]
  },
  {
   "cell_type": "code",
   "execution_count": 51,
   "metadata": {},
   "outputs": [],
   "source": [
    "clfLDA = LinearDiscriminantAnalysis().fit(X_train, y_train)"
   ]
  },
  {
   "cell_type": "code",
   "execution_count": 52,
   "metadata": {},
   "outputs": [
    {
     "name": "stdout",
     "output_type": "stream",
     "text": [
      "              precision    recall  f1-score   support\n",
      "\n",
      "           0       0.52      0.10      0.17     45821\n",
      "           1       0.81      0.98      0.89    180516\n",
      "\n",
      "    accuracy                           0.80    226337\n",
      "   macro avg       0.67      0.54      0.53    226337\n",
      "weighted avg       0.75      0.80      0.74    226337\n",
      "\n"
     ]
    }
   ],
   "source": [
    "y_pred = clfLDA.predict(X_test)\n",
    "print(classification_report(y_test, y_pred))"
   ]
  },
  {
   "cell_type": "code",
   "execution_count": 53,
   "metadata": {},
   "outputs": [],
   "source": [
    "clfLDA_over = LinearDiscriminantAnalysis().fit(X_resampled, y_resampled)"
   ]
  },
  {
   "cell_type": "code",
   "execution_count": 54,
   "metadata": {},
   "outputs": [
    {
     "name": "stdout",
     "output_type": "stream",
     "text": [
      "              precision    recall  f1-score   support\n",
      "\n",
      "           0       0.52      0.10      0.17     45821\n",
      "           1       0.81      0.98      0.89    180516\n",
      "\n",
      "    accuracy                           0.80    226337\n",
      "   macro avg       0.67      0.54      0.53    226337\n",
      "weighted avg       0.75      0.80      0.74    226337\n",
      "\n"
     ]
    }
   ],
   "source": [
    "y_pred = clfLDA.predict(X_test)\n",
    "print(classification_report(y_test, y_pred))"
   ]
  },
  {
   "cell_type": "code",
   "execution_count": 27,
   "metadata": {},
   "outputs": [],
   "source": [
    "# QDA\n",
    "from sklearn.discriminant_analysis import QuadraticDiscriminantAnalysis"
   ]
  },
  {
   "cell_type": "code",
   "execution_count": 56,
   "metadata": {},
   "outputs": [],
   "source": [
    "clfQDA = QuadraticDiscriminantAnalysis().fit(X_train, y_train)"
   ]
  },
  {
   "cell_type": "code",
   "execution_count": 24,
   "metadata": {},
   "outputs": [
    {
     "name": "stdout",
     "output_type": "stream",
     "text": [
      "              precision    recall  f1-score   support\n",
      "\n",
      "           0       0.83      0.80      0.82    180516\n",
      "           1       0.32      0.36      0.34     45821\n",
      "\n",
      "    accuracy                           0.71    226337\n",
      "   macro avg       0.58      0.58      0.58    226337\n",
      "weighted avg       0.73      0.71      0.72    226337\n",
      "\n"
     ]
    }
   ],
   "source": [
    "y_pred = clfQDA.predict(X_test)\n",
    "print(classification_report(y_test, y_pred))"
   ]
  },
  {
   "cell_type": "code",
   "execution_count": 57,
   "metadata": {},
   "outputs": [],
   "source": [
    "clfQDA_over = QuadraticDiscriminantAnalysis().fit(X_resampled, y_resampled)"
   ]
  },
  {
   "cell_type": "code",
   "execution_count": 58,
   "metadata": {},
   "outputs": [
    {
     "name": "stdout",
     "output_type": "stream",
     "text": [
      "              precision    recall  f1-score   support\n",
      "\n",
      "           0       0.30      0.54      0.39     45821\n",
      "           1       0.86      0.69      0.76    180516\n",
      "\n",
      "    accuracy                           0.66    226337\n",
      "   macro avg       0.58      0.61      0.58    226337\n",
      "weighted avg       0.74      0.66      0.69    226337\n",
      "\n"
     ]
    }
   ],
   "source": [
    "y_pred = clfQDA_over.predict(X_test)\n",
    "print(classification_report(y_test, y_pred))"
   ]
  },
  {
   "cell_type": "code",
   "execution_count": 28,
   "metadata": {},
   "outputs": [],
   "source": [
    "clfQDA_pcaover = QuadraticDiscriminantAnalysis().fit(X_resampled_pca, y_resampled_pca)"
   ]
  },
  {
   "cell_type": "code",
   "execution_count": 30,
   "metadata": {},
   "outputs": [
    {
     "name": "stdout",
     "output_type": "stream",
     "text": [
      "              precision    recall  f1-score   support\n",
      "\n",
      "           0       0.32      0.53      0.40     45821\n",
      "           1       0.86      0.72      0.78    180516\n",
      "\n",
      "    accuracy                           0.68    226337\n",
      "   macro avg       0.59      0.63      0.59    226337\n",
      "weighted avg       0.75      0.68      0.70    226337\n",
      "\n"
     ]
    }
   ],
   "source": [
    "y_pred = clfQDA_pcaover.predict(X_test_pca)\n",
    "print(classification_report(y_test_pca, y_pred))"
   ]
  },
  {
   "cell_type": "markdown",
   "metadata": {},
   "source": [
    "사실 LDA와 QDA는 자료의 정규성을 가정하고 하는 거라 자료가 연속이어야 함! 해당 자료는 그 차원에서 문제가 있기는 합니다. LDA와 QDA의 타당성에 대해서는 이와 같은 관점에서 무리가 있습니다."
   ]
  },
  {
   "cell_type": "markdown",
   "metadata": {},
   "source": [
    "## Naive Bayes"
   ]
  },
  {
   "cell_type": "code",
   "execution_count": 45,
   "metadata": {},
   "outputs": [],
   "source": [
    "from sklearn.naive_bayes import GaussianNB"
   ]
  },
  {
   "cell_type": "code",
   "execution_count": 46,
   "metadata": {},
   "outputs": [],
   "source": [
    "clfNB = GaussianNB().fit(X_train, y_train)"
   ]
  },
  {
   "cell_type": "code",
   "execution_count": 47,
   "metadata": {},
   "outputs": [
    {
     "name": "stdout",
     "output_type": "stream",
     "text": [
      "              precision    recall  f1-score   support\n",
      "\n",
      "           0       0.34      0.42      0.38     45821\n",
      "           1       0.84      0.79      0.82    180516\n",
      "\n",
      "    accuracy                           0.72    226337\n",
      "   macro avg       0.59      0.61      0.60    226337\n",
      "weighted avg       0.74      0.72      0.73    226337\n",
      "\n"
     ]
    }
   ],
   "source": [
    "y_pred = clfNB.predict(X_test)\n",
    "print(classification_report(y_test, y_pred))"
   ]
  },
  {
   "cell_type": "code",
   "execution_count": 48,
   "metadata": {},
   "outputs": [],
   "source": [
    "clfNB_over = GaussianNB().fit(X_resampled, y_resampled)"
   ]
  },
  {
   "cell_type": "code",
   "execution_count": 49,
   "metadata": {},
   "outputs": [
    {
     "name": "stdout",
     "output_type": "stream",
     "text": [
      "              precision    recall  f1-score   support\n",
      "\n",
      "           0       0.31      0.60      0.41     45821\n",
      "           1       0.87      0.66      0.75    180516\n",
      "\n",
      "    accuracy                           0.65    226337\n",
      "   macro avg       0.59      0.63      0.58    226337\n",
      "weighted avg       0.75      0.65      0.68    226337\n",
      "\n"
     ]
    }
   ],
   "source": [
    "y_pred = clfNB_over.predict(X_test)\n",
    "print(classification_report(y_test, y_pred))"
   ]
  },
  {
   "cell_type": "markdown",
   "metadata": {},
   "source": [
    "## SVM"
   ]
  },
  {
   "cell_type": "markdown",
   "metadata": {},
   "source": [
    "from PyML import *"
   ]
  },
  {
   "cell_type": "code",
   "execution_count": 9,
   "metadata": {},
   "outputs": [],
   "source": [
    "from sklearn import svm\n",
    "clfSVM = svm.SVC()\n",
    "clfSVM.fit(X_train, y_train)"
   ]
  },
  {
   "cell_type": "code",
   "execution_count": 1,
   "metadata": {},
   "outputs": [
    {
     "ename": "NameError",
     "evalue": "name 'clfSVM' is not defined",
     "output_type": "error",
     "traceback": [
      "\u001b[0;31m---------------------------------------------------------------------------\u001b[0m",
      "\u001b[0;31mNameError\u001b[0m                                 Traceback (most recent call last)",
      "Cell \u001b[0;32mIn[1], line 1\u001b[0m\n\u001b[0;32m----> 1\u001b[0m y_pred \u001b[38;5;241m=\u001b[39m \u001b[43mclfSVM\u001b[49m\u001b[38;5;241m.\u001b[39mpredict(X_test)\n\u001b[1;32m      2\u001b[0m \u001b[38;5;28mprint\u001b[39m(classification_report(y_test, y_pred))\n",
      "\u001b[0;31mNameError\u001b[0m: name 'clfSVM' is not defined"
     ]
    }
   ],
   "source": [
    "y_pred = clfSVM.predict(X_test)\n",
    "print(classification_report(y_test, y_pred))"
   ]
  },
  {
   "cell_type": "code",
   "execution_count": null,
   "metadata": {},
   "outputs": [],
   "source": []
  }
 ],
 "metadata": {
  "kernelspec": {
   "display_name": "Python 3",
   "language": "python",
   "name": "python3"
  },
  "language_info": {
   "codemirror_mode": {
    "name": "ipython",
    "version": 3
   },
   "file_extension": ".py",
   "mimetype": "text/x-python",
   "name": "python",
   "nbconvert_exporter": "python",
   "pygments_lexer": "ipython3",
   "version": "3.12.2"
  }
 },
 "nbformat": 4,
 "nbformat_minor": 2
}
