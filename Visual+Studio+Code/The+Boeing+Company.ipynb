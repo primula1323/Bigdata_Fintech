{
 "cells": [
  {
   "cell_type": "code",
   "execution_count": 11,
   "metadata": {},
   "outputs": [],
   "source": [
    "import pandas as pd\n",
    "import numpy as np\n",
    "import matplotlib.pyplot as plt"
   ]
  },
  {
   "cell_type": "markdown",
   "metadata": {},
   "source": [
    "This project follows the analysis from\n",
    "\n",
    "https://nicholastsmith.wordpress.com/2016/04/19/stock-market-prediction-using-multi-layer-perceptrons-with-tensorflow/"
   ]
  },
  {
   "cell_type": "code",
   "execution_count": 6,
   "metadata": {},
   "outputs": [],
   "source": [
    "df = pd.read_csv('BA_all.csv', parse_dates=['Date'])"
   ]
  },
  {
   "cell_type": "code",
   "execution_count": 9,
   "metadata": {},
   "outputs": [
    {
     "name": "stdout",
     "output_type": "stream",
     "text": [
      "<class 'pandas.core.frame.DataFrame'>\n",
      "RangeIndex: 15680 entries, 0 to 15679\n",
      "Data columns (total 7 columns):\n",
      " #   Column     Non-Null Count  Dtype         \n",
      "---  ------     --------------  -----         \n",
      " 0   Date       15680 non-null  datetime64[ns]\n",
      " 1   Open       15680 non-null  float64       \n",
      " 2   High       15680 non-null  float64       \n",
      " 3   Low        15680 non-null  float64       \n",
      " 4   Close      15680 non-null  float64       \n",
      " 5   Adj Close  15680 non-null  float64       \n",
      " 6   Volume     15680 non-null  int64         \n",
      "dtypes: datetime64[ns](1), float64(5), int64(1)\n",
      "memory usage: 857.6 KB\n"
     ]
    },
    {
     "data": {
      "text/html": [
       "<div>\n",
       "<style scoped>\n",
       "    .dataframe tbody tr th:only-of-type {\n",
       "        vertical-align: middle;\n",
       "    }\n",
       "\n",
       "    .dataframe tbody tr th {\n",
       "        vertical-align: top;\n",
       "    }\n",
       "\n",
       "    .dataframe thead th {\n",
       "        text-align: right;\n",
       "    }\n",
       "</style>\n",
       "<table border=\"1\" class=\"dataframe\">\n",
       "  <thead>\n",
       "    <tr style=\"text-align: right;\">\n",
       "      <th></th>\n",
       "      <th>Date</th>\n",
       "      <th>Open</th>\n",
       "      <th>High</th>\n",
       "      <th>Low</th>\n",
       "      <th>Close</th>\n",
       "      <th>Adj Close</th>\n",
       "      <th>Volume</th>\n",
       "    </tr>\n",
       "  </thead>\n",
       "  <tbody>\n",
       "    <tr>\n",
       "      <th>0</th>\n",
       "      <td>1962-01-02</td>\n",
       "      <td>0.837449</td>\n",
       "      <td>0.837449</td>\n",
       "      <td>0.823045</td>\n",
       "      <td>0.823045</td>\n",
       "      <td>0.190931</td>\n",
       "      <td>352350</td>\n",
       "    </tr>\n",
       "    <tr>\n",
       "      <th>1</th>\n",
       "      <td>1962-01-03</td>\n",
       "      <td>0.835391</td>\n",
       "      <td>0.851852</td>\n",
       "      <td>0.835391</td>\n",
       "      <td>0.839506</td>\n",
       "      <td>0.194750</td>\n",
       "      <td>710775</td>\n",
       "    </tr>\n",
       "    <tr>\n",
       "      <th>2</th>\n",
       "      <td>1962-01-04</td>\n",
       "      <td>0.839506</td>\n",
       "      <td>0.853909</td>\n",
       "      <td>0.831276</td>\n",
       "      <td>0.831276</td>\n",
       "      <td>0.192840</td>\n",
       "      <td>911250</td>\n",
       "    </tr>\n",
       "    <tr>\n",
       "      <th>3</th>\n",
       "      <td>1962-01-05</td>\n",
       "      <td>0.831276</td>\n",
       "      <td>0.835391</td>\n",
       "      <td>0.792181</td>\n",
       "      <td>0.814815</td>\n",
       "      <td>0.189022</td>\n",
       "      <td>880875</td>\n",
       "    </tr>\n",
       "    <tr>\n",
       "      <th>4</th>\n",
       "      <td>1962-01-08</td>\n",
       "      <td>0.814815</td>\n",
       "      <td>0.829218</td>\n",
       "      <td>0.804527</td>\n",
       "      <td>0.816872</td>\n",
       "      <td>0.189499</td>\n",
       "      <td>473850</td>\n",
       "    </tr>\n",
       "    <tr>\n",
       "      <th>...</th>\n",
       "      <td>...</td>\n",
       "      <td>...</td>\n",
       "      <td>...</td>\n",
       "      <td>...</td>\n",
       "      <td>...</td>\n",
       "      <td>...</td>\n",
       "      <td>...</td>\n",
       "    </tr>\n",
       "    <tr>\n",
       "      <th>15675</th>\n",
       "      <td>2024-04-11</td>\n",
       "      <td>174.470001</td>\n",
       "      <td>174.699997</td>\n",
       "      <td>171.380005</td>\n",
       "      <td>173.360001</td>\n",
       "      <td>173.360001</td>\n",
       "      <td>7625100</td>\n",
       "    </tr>\n",
       "    <tr>\n",
       "      <th>15676</th>\n",
       "      <td>2024-04-12</td>\n",
       "      <td>172.199997</td>\n",
       "      <td>173.240005</td>\n",
       "      <td>169.369995</td>\n",
       "      <td>169.550003</td>\n",
       "      <td>169.550003</td>\n",
       "      <td>7548900</td>\n",
       "    </tr>\n",
       "    <tr>\n",
       "      <th>15677</th>\n",
       "      <td>2024-04-15</td>\n",
       "      <td>170.740005</td>\n",
       "      <td>171.179993</td>\n",
       "      <td>167.529999</td>\n",
       "      <td>167.820007</td>\n",
       "      <td>167.820007</td>\n",
       "      <td>6490700</td>\n",
       "    </tr>\n",
       "    <tr>\n",
       "      <th>15678</th>\n",
       "      <td>2024-04-16</td>\n",
       "      <td>168.139999</td>\n",
       "      <td>170.639999</td>\n",
       "      <td>167.750000</td>\n",
       "      <td>170.550003</td>\n",
       "      <td>170.550003</td>\n",
       "      <td>7976300</td>\n",
       "    </tr>\n",
       "    <tr>\n",
       "      <th>15679</th>\n",
       "      <td>2024-04-17</td>\n",
       "      <td>170.000000</td>\n",
       "      <td>170.850006</td>\n",
       "      <td>168.130005</td>\n",
       "      <td>170.024994</td>\n",
       "      <td>170.024994</td>\n",
       "      <td>5133136</td>\n",
       "    </tr>\n",
       "  </tbody>\n",
       "</table>\n",
       "<p>15680 rows × 7 columns</p>\n",
       "</div>"
      ],
      "text/plain": [
       "            Date        Open        High         Low       Close   Adj Close  \\\n",
       "0     1962-01-02    0.837449    0.837449    0.823045    0.823045    0.190931   \n",
       "1     1962-01-03    0.835391    0.851852    0.835391    0.839506    0.194750   \n",
       "2     1962-01-04    0.839506    0.853909    0.831276    0.831276    0.192840   \n",
       "3     1962-01-05    0.831276    0.835391    0.792181    0.814815    0.189022   \n",
       "4     1962-01-08    0.814815    0.829218    0.804527    0.816872    0.189499   \n",
       "...          ...         ...         ...         ...         ...         ...   \n",
       "15675 2024-04-11  174.470001  174.699997  171.380005  173.360001  173.360001   \n",
       "15676 2024-04-12  172.199997  173.240005  169.369995  169.550003  169.550003   \n",
       "15677 2024-04-15  170.740005  171.179993  167.529999  167.820007  167.820007   \n",
       "15678 2024-04-16  168.139999  170.639999  167.750000  170.550003  170.550003   \n",
       "15679 2024-04-17  170.000000  170.850006  168.130005  170.024994  170.024994   \n",
       "\n",
       "        Volume  \n",
       "0       352350  \n",
       "1       710775  \n",
       "2       911250  \n",
       "3       880875  \n",
       "4       473850  \n",
       "...        ...  \n",
       "15675  7625100  \n",
       "15676  7548900  \n",
       "15677  6490700  \n",
       "15678  7976300  \n",
       "15679  5133136  \n",
       "\n",
       "[15680 rows x 7 columns]"
      ]
     },
     "execution_count": 9,
     "metadata": {},
     "output_type": "execute_result"
    }
   ],
   "source": [
    "df.info()\n",
    "df"
   ]
  },
  {
   "cell_type": "code",
   "execution_count": 16,
   "metadata": {},
   "outputs": [
    {
     "data": {
      "text/plain": [
       "[<matplotlib.lines.Line2D at 0x1dc166d4f70>]"
      ]
     },
     "execution_count": 16,
     "metadata": {},
     "output_type": "execute_result"
    },
    {
     "data": {
      "image/png": "[encoded data removed]",
      "text/plain": [
       "<Figure size 432x288 with 1 Axes>"
      ]
     },
     "metadata": {
      "needs_background": "light"
     },
     "output_type": "display_data"
    }
   ],
   "source": [
    "plt.plot(df['Date'], df['Close'])\n",
    "plt.plot('Date', 'Close', data = df)"
   ]
  },
  {
   "cell_type": "code",
   "execution_count": 18,
   "metadata": {},
   "outputs": [],
   "source": [
    "def return_moving(d0:float, d1:float) : \n",
    "    #return 'meaningful price change'\n",
    "    w = (d1 - d0)/d0\n",
    "    if w < -0.005 : \n",
    "        return -1\n",
    "    elif w > 0.005 : \n",
    "        return 1 \n",
    "    else :\n",
    "        return 0"
   ]
  },
  {
   "cell_type": "code",
   "execution_count": 20,
   "metadata": {},
   "outputs": [
    {
     "name": "stdout",
     "output_type": "stream",
     "text": [
      "-16.734982000000443\n"
     ]
    }
   ],
   "source": [
    "#전략 1\n",
    "\n",
    "money = 0\n",
    "for i in range(1, len(df) - 1) :\n",
    "    k = return_moving(df['Close'][i-1], df['Close'][i])\n",
    "    if k == 1 :\n",
    "        money += (df['Open'][i+1] - df['Close'][i+1])\n",
    "    elif k == -1 :\n",
    "        money += (df['Close'][i+1] - df['Open'][i+1])\n",
    "    else : \n",
    "        pass\n",
    "print(money)"
   ]
  },
  {
   "cell_type": "code",
   "execution_count": 21,
   "metadata": {},
   "outputs": [
    {
     "name": "stdout",
     "output_type": "stream",
     "text": [
      "51.933443999999554\n"
     ]
    }
   ],
   "source": [
    "#전략 2\n",
    "\n",
    "money = 0\n",
    "for i in range(1, len(df) - 1) :\n",
    "    k = return_moving(df['Close'][i-1], df['Close'][i])\n",
    "    if k == 1 :\n",
    "        money += (df['Open'][i+1] - df['Close'][i+1])\n",
    "    else : \n",
    "        pass\n",
    "print(money)"
   ]
  },
  {
   "cell_type": "code",
   "execution_count": 22,
   "metadata": {},
   "outputs": [],
   "source": [
    "def return_moving2(d0:float, d1:float) : \n",
    "    #return 'meaningful price change'\n",
    "    w = (d1 - d0)/d0\n",
    "    if w < -0.003 : \n",
    "        return -1\n",
    "    elif w > 0.003 : \n",
    "        return 1 \n",
    "    else :\n",
    "        return 0"
   ]
  },
  {
   "cell_type": "code",
   "execution_count": 23,
   "metadata": {},
   "outputs": [
    {
     "name": "stdout",
     "output_type": "stream",
     "text": [
      "46.22404999999975\n"
     ]
    }
   ],
   "source": [
    "#전략 3\n",
    "\n",
    "money = 0\n",
    "for i in range(1, len(df) - 1) :\n",
    "    k = return_moving2(df['Close'][i-1], df['Close'][i])\n",
    "    if k == 1 :\n",
    "        money += (df['Open'][i+1] - df['Close'][i+1])\n",
    "    else : \n",
    "        pass\n",
    "print(money)"
   ]
  },
  {
   "cell_type": "code",
   "execution_count": 24,
   "metadata": {},
   "outputs": [
    {
     "name": "stdout",
     "output_type": "stream",
     "text": [
      "93.90517599999981\n"
     ]
    }
   ],
   "source": []
  },
  {
   "cell_type": "code",
   "execution_count": null,
   "metadata": {},
   "outputs": [],
   "source": []
  }
 ],
 "metadata": {
  "kernelspec": {
   "display_name": "base",
   "language": "python",
   "name": "python3"
  },
  "language_info": {
   "codemirror_mode": {
    "name": "ipython",
    "version": 3
   },
   "file_extension": ".py",
   "mimetype": "text/x-python",
   "name": "python",
   "nbconvert_exporter": "python",
   "pygments_lexer": "ipython3",
   "version": "3.9.7"
  }
 },
 "nbformat": 4,
 "nbformat_minor": 2
}
