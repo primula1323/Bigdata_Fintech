{
 "cells": [
  {
   "cell_type": "code",
   "execution_count": null,
   "metadata": {
    "id": "2WJBETMDdTnh"
   },
   "outputs": [],
   "source": [
    "def myrounding(num: float)->int:\n",
    "    if num > 0:\n",
    "        if abs(num-int(num))>=0.5:\n",
    "            rounding = int(num) + 1\n",
    "        else :\n",
    "            rounding = int(num)\n",
    "    else :\n",
    "        if abs(num-int(num))>=0.5:\n",
    "            rounding = int(num) - 1\n",
    "        else :\n",
    "            rounding = int(num)\n",
    "    return rounding"
   ]
  },
  {
   "cell_type": "code",
   "execution_count": null,
   "metadata": {
    "id": "bsuTcSY7fmyt"
   },
   "outputs": [],
   "source": [
    "def myrounding(x : float) -> int :\n",
    "    if x >= 0 :\n",
    "        if x%1 >= 0.5 :\n",
    "            y = x//1 + 1\n",
    "        else :\n",
    "            y = x//1\n",
    "    else :\n",
    "        if x%1 >= 0.5 :\n",
    "            y = x//1 + 1\n",
    "        else :\n",
    "            y =  x//1\n",
    "    return int(y)"
   ]
  }
 ],
 "metadata": {
  "colab": {
   "authorship_tag": "ABX9TyPWtvEVYirjhTDo9+JYtf2t",
   "provenance": [],
   "toc_visible": true
  },
  "kernelspec": {
   "display_name": "Python 3 (ipykernel)",
   "language": "python",
   "name": "python3"
  },
  "language_info": {
   "codemirror_mode": {
    "name": "ipython",
    "version": 3
   },
   "file_extension": ".py",
   "mimetype": "text/x-python",
   "name": "python",
   "nbconvert_exporter": "python",
   "pygments_lexer": "ipython3",
   "version": "3.12.1"
  }
 },
 "nbformat": 4,
 "nbformat_minor": 4
}
