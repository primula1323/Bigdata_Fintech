{
 "cells": [
  {
   "cell_type": "markdown",
   "id": "30b4ee4d",
   "metadata": {
    "id": "30b4ee4d"
   },
   "source": [
    "# 1.1 Pascal's Triangle"
   ]
  },
  {
   "cell_type": "markdown",
   "id": "7d527a27",
   "metadata": {
    "id": "7d527a27"
   },
   "source": [
    "### Create a function for calculating a list of row index of the Pascal’s triangle"
   ]
  },
  {
   "cell_type": "code",
   "execution_count": 2,
   "id": "6b416b8c",
   "metadata": {
    "id": "6b416b8c"
   },
   "outputs": [],
   "source": [
    "from typing import List\n",
    "import time"
   ]
  },
  {
   "cell_type": "code",
   "execution_count": 3,
   "id": "24bdf330",
   "metadata": {
    "id": "24bdf330"
   },
   "outputs": [],
   "source": [
    "def Pascal(n: int) -> List[int]:\n",
    "    # Write your code\n",
    "    if n == 0 :\n",
    "        return [1]\n",
    "    else :\n",
    "        plst = Pascal(n-1)\n",
    "        alst = []\n",
    "        alst.append(plst[0])\n",
    "        for i in range(1, n) :\n",
    "            alst.append(plst[i-1] + plst[i])\n",
    "        alst.append(plst[-1])\n",
    "    return alst"
   ]
  },
  {
   "cell_type": "code",
   "execution_count": 5,
   "id": "ef123eaf-aded-49a7-93f8-64da0c8cc641",
   "metadata": {},
   "outputs": [],
   "source": [
    "def Pascal2(n: int) -> List[int]:\n",
    "    # Write your code\n",
    "    if n == 0 :\n",
    "        return [1]\n",
    "    else :\n",
    "        plst = Pascal(n-1)[:]\n",
    "        alst = []\n",
    "        alst.append(plst[0])\n",
    "        for i in range(1, n) :\n",
    "            alst.append(plst[i-1] + plst[i])\n",
    "        alst.append(plst[-1])\n",
    "    return alst"
   ]
  },
  {
   "cell_type": "code",
   "execution_count": 4,
   "id": "a7c3aa06",
   "metadata": {
    "id": "a7c3aa06",
    "outputId": "d6cd4dee-b890-453c-de1a-a423513c63db"
   },
   "outputs": [
    {
     "name": "stdout",
     "output_type": "stream",
     "text": [
      "[1, 4, 6, 4, 1]\n",
      "0.00000000000000000000 sec\n"
     ]
    }
   ],
   "source": [
    "start = time.time()\n",
    "print(Pascal(4))\n",
    "end = time.time()\n",
    "print(f\"{end - start:.20f} sec\")"
   ]
  },
  {
   "cell_type": "code",
   "execution_count": 6,
   "id": "aebad047-b2d3-47b0-9014-02d96ad42688",
   "metadata": {},
   "outputs": [
    {
     "name": "stdout",
     "output_type": "stream",
     "text": [
      "[1, 4, 6, 4, 1]\n",
      "0.00000000000000000000 sec\n"
     ]
    }
   ],
   "source": [
    "start = time.time()\n",
    "print(Pascal2(4))\n",
    "end = time.time()\n",
    "print(f\"{end - start:.20f} sec\")"
   ]
  },
  {
   "cell_type": "markdown",
   "id": "70163ceb",
   "metadata": {
    "id": "70163ceb"
   },
   "source": [
    "# 1.2 Merge Sort"
   ]
  },
  {
   "cell_type": "markdown",
   "id": "da9c09ab",
   "metadata": {
    "id": "da9c09ab"
   },
   "source": [
    "### Create a function for outputting a list and a value from the merge sort in the order"
   ]
  },
  {
   "cell_type": "code",
   "execution_count": null,
   "id": "2b3e28f5",
   "metadata": {
    "id": "2b3e28f5"
   },
   "outputs": [],
   "source": [
    "def mergeSortHelp(L:list, first:int, last:int) -> None:\n",
    "    if first == last: # Base Case\n",
    "        return \n",
    "    else: # Recursive Case\n",
    "        # Step 1 : Divide it into two sublists\n",
    "        mid = first + (last - first) // 2\n",
    "        # Step 2 : Sort the two sublists\n",
    "        mergeSortHelp(L, first, mid)\n",
    "        mergeSortHelp(L, mid+1, last)\n",
    "        # Step 3 : Merge the two \"sorted\" sublists\n",
    "        merge(L, first, mid, last)\n",
    "\n",
    "def merge(L:list, first:int, mid:int, last:int) -> None:\n",
    "    # Write your code\n",
    "    i, j = 0, 0\n",
    "    while i + j <= last - 1 :\n",
    "        if L[i] > L[j+mid+1] :\n",
    "            \n",
    "            L[i+j] \n",
    "\n",
    "            j += 1\n",
    "        else :\n",
    "            i += 1"
   ]
  },
  {
   "cell_type": "code",
   "execution_count": null,
   "id": "8678ffc3",
   "metadata": {
    "id": "8678ffc3",
    "outputId": "124db478-a3ff-4811-d0ed-69fa11ea75b0"
   },
   "outputs": [
    {
     "name": "stdout",
     "output_type": "stream",
     "text": [
      "[4, 5, 1, 3, 2] 4\n",
      "[4, 5, 1, 3, 2] 5\n",
      "[1, 5, 1, 3, 2] 1\n",
      "[1, 4, 1, 3, 2] 4\n",
      "[1, 4, 5, 3, 2] 5\n",
      "[1, 4, 5, 2, 2] 2\n",
      "[1, 4, 5, 2, 3] 3\n",
      "[1, 4, 5, 2, 3] 1\n",
      "[1, 2, 5, 2, 3] 2\n",
      "[1, 2, 3, 2, 3] 3\n",
      "[1, 2, 3, 4, 3] 4\n",
      "[1, 2, 3, 4, 5] 5\n"
     ]
    }
   ],
   "source": [
    "L = [4, 5, 1, 3, 2]\n",
    "mergeSortHelp(L, 0, 4)"
   ]
  },
  {
   "cell_type": "code",
   "execution_count": null,
   "id": "4db3b22a-ec9f-4eff-87eb-c7a679da1fff",
   "metadata": {},
   "outputs": [],
   "source": [
    "L = [4, 5, 1, 3, 2]\n",
    "mergeSortHelp(L, 0, 4)\n",
    "\n",
    "[4, 5, 1, 3, 2] 4\n",
    "[4, 5, 1, 3, 2] 5\n",
    "[1, 5, 1, 3, 2] 1\n",
    "[1, 4, 1, 3, 2] 4\n",
    "[1, 4, 5, 3, 2] 5\n",
    "[1, 4, 5, 2, 2] 2\n",
    "[1, 4, 5, 2, 3] 3\n",
    "[1, 4, 5, 2, 3] 1\n",
    "[1, 2, 5, 2, 3] 2\n",
    "[1, 2, 3, 2, 3] 3\n",
    "[1, 2, 3, 4, 3] 4\n",
    "[1, 2, 3, 4, 5] 5"
   ]
  }
 ],
 "metadata": {
  "colab": {
   "provenance": []
  },
  "kernelspec": {
   "display_name": "Python 3 (ipykernel)",
   "language": "python",
   "name": "python3"
  },
  "language_info": {
   "codemirror_mode": {
    "name": "ipython",
    "version": 3
   },
   "file_extension": ".py",
   "mimetype": "text/x-python",
   "name": "python",
   "nbconvert_exporter": "python",
   "pygments_lexer": "ipython3",
   "version": "3.12.1"
  }
 },
 "nbformat": 4,
 "nbformat_minor": 5
}
