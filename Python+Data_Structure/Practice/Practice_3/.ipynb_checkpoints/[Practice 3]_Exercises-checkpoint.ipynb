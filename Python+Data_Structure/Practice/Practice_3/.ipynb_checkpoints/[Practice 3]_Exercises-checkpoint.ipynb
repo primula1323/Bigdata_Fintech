{
 "cells": [
  {
   "cell_type": "markdown",
   "id": "59b87d01",
   "metadata": {
    "id": "59b87d01"
   },
   "source": [
    "# 1.1 Find duplicates"
   ]
  },
  {
   "cell_type": "markdown",
   "id": "a2c008f6",
   "metadata": {
    "id": "a2c008f6"
   },
   "source": [
    "[KOR] 정수(int)로만 구성된 리스트를 변수(argument)로 받고, 그 중 두 번 이상 반복되는 정수의 집합(set)을 리턴하는 함수를 작성하시오.\n",
    "\n",
    "[ENG] Take a list of integers as input argument, and return a set of numbers that appear two or more times."
   ]
  },
  {
   "cell_type": "markdown",
   "id": "06eaaced",
   "metadata": {
    "id": "06eaaced"
   },
   "source": [
    "- ex1 - P1([1, 2, 3, 1])\n",
    "> {1}\n",
    "- ex2 - P1([1, 1, 2, 3, 3, 3])\n",
    "> {1,3}\n",
    "- ex3 - P1([1, 2, 3, 4, 5])\n",
    "> set()\n"
   ]
  },
  {
   "cell_type": "markdown",
   "id": "d04c3808",
   "metadata": {
    "id": "d04c3808"
   },
   "source": [
    "#### Solution"
   ]
  },
  {
   "cell_type": "code",
   "execution_count": 94,
   "id": "6305f9b7",
   "metadata": {},
   "outputs": [],
   "source": [
    "def P1(lst: list) -> set:\n",
    "    ### Write code here ###\n",
    "    a = lst[:]\n",
    "    b = list(set(lst))\n",
    "    for i in b :\n",
    "        a.remove(i)\n",
    "    return set(a)\n",
    "    ### End of your code ###"
   ]
  },
  {
   "cell_type": "code",
   "execution_count": null,
   "id": "946434b6-f96f-4aca-9039-b7f1300f3b35",
   "metadata": {},
   "outputs": [],
   "source": [
    "def P1(lst: list) -> set:\n",
    "    ### Write code here ###\n",
    "    orset = list(set(lst))\n",
    "    for i in orset :\n",
    "        lst.remove(i)\n",
    "    return set(lst)\n",
    "    ### End of your code ###"
   ]
  },
  {
   "cell_type": "code",
   "execution_count": 95,
   "id": "fd529607",
   "metadata": {
    "id": "fd529607"
   },
   "outputs": [
    {
     "name": "stdout",
     "output_type": "stream",
     "text": [
      "Input: [1, 2, 3, 1] / Expected: {1} / Return:  {1}\n",
      "Input: [1, 1, 2, 3, 3, 3] / Expected: {1, 3} / Return:  {1, 3}\n",
      "Input: [1, 2, 3, 4, 5] / Expected: set() / Return:  set()\n"
     ]
    }
   ],
   "source": [
    "# Test code for given cases; run without modification\n",
    "print(\"Input: [1, 2, 3, 1] / Expected: {1} / Return: \", P1([1, 2, 3, 1]))\n",
    "print(\"Input: [1, 1, 2, 3, 3, 3] / Expected: {1, 3} / Return: \", P1([1, 1, 2, 3, 3, 3]))\n",
    "print(\"Input: [1, 2, 3, 4, 5] / Expected: set() / Return: \", P1([1, 2, 3, 4, 5]))"
   ]
  },
  {
   "cell_type": "code",
   "execution_count": null,
   "id": "55f7a109",
   "metadata": {
    "id": "55f7a109"
   },
   "outputs": [],
   "source": [
    "# Try your own test case!\n",
    "test_input = _# your input\n",
    "P1(test_input)"
   ]
  },
  {
   "cell_type": "markdown",
   "id": "8cd0fa28",
   "metadata": {
    "id": "8cd0fa28"
   },
   "source": [
    "# 1.2 Particle with highest probability"
   ]
  },
  {
   "cell_type": "markdown",
   "id": "d047edd3",
   "metadata": {
    "id": "d047edd3"
   },
   "source": [
    "[KOR]\n",
    "일련의 실험을 수행한 후, 특정 다섯 종류의 아원자 입자(subatomic particles)를 탐지할 확률을 {str: float} 딕셔너리 형태로 다음과 같이 저장했다.\n",
    "> {'neutron': 0.55, ‘proton': 0.21, 'meson': 0.03, 'muon': 0.07, 'neutrino': 0.14}\n",
    "\n",
    "이러한 딕셔너리를 변수(argument)로 받아 탐지 가능성이 가장 큰 입자를 리턴하는 함수를 작성하시오. 입자가 발견될 확률이 같은 경우는 없다.\n",
    "\n",
    "[ENG]\n",
    "Probability of detecting each subatomic particles is given as follows in the form of dictionary.\n",
    "> {'neutron': 0.55, ‘proton': 0.21, 'meson': 0.03, 'muon': 0.07, 'neutrino': 0.14}\n",
    "\n",
    "Make a function that returns the particle with the highest probability. There is no case that the probability is the same among different particles."
   ]
  },
  {
   "cell_type": "markdown",
   "id": "0cee3808",
   "metadata": {
    "id": "0cee3808"
   },
   "source": [
    "- ex1 - P2({'neutron': 0.55, 'proton': 0.21, 'meson': 0.03, 'muon': 0.07, 'neutrino': 0.14})\n",
    "> 'neutron'\n",
    "- ex2 - P2({'neutron': 0.11, 'proton': 0.21, 'meson': 0.05, 'muon': 0.09, 'neutrino': 0.12})\n",
    "> 'proton'"
   ]
  },
  {
   "cell_type": "markdown",
   "id": "378deec1",
   "metadata": {
    "id": "378deec1"
   },
   "source": [
    "#### Solution"
   ]
  },
  {
   "cell_type": "code",
   "execution_count": 96,
   "id": "78c884c3",
   "metadata": {
    "id": "78c884c3"
   },
   "outputs": [],
   "source": [
    "def P2(dct: dict) -> str:\n",
    "    ### Write code here ###\n",
    "    dick = max(set(dct.values()))\n",
    "    for i in dct :\n",
    "        if dct[i] == dick :\n",
    "            return i\n",
    "    ### End of your code ###"
   ]
  },
  {
   "cell_type": "code",
   "execution_count": 97,
   "id": "f04b4b4f",
   "metadata": {},
   "outputs": [],
   "source": [
    "def P2(dct : dict) -> str :\n",
    "    a = list(dct.keys())\n",
    "    b = list(dct.values())\n",
    "    c = b.index(max(b)) \n",
    "    return a[c]\n",
    "#b를 이렇게 정의하고 max 찾기 vs. c = set(dct.values)로 정의하고 max만 c에서 찾기\n",
    "#인터넷에서 검색함!"
   ]
  },
  {
   "cell_type": "code",
   "execution_count": null,
   "id": "ad68aed8-5e3b-4082-b859-680d4c5aaafb",
   "metadata": {},
   "outputs": [],
   "source": [
    "def P2(dct: dict) -> str:\n",
    "    ### Write code here ###\n",
    "    klst = list(dct.keys())\n",
    "    vlst = list(dct.values())\n",
    "    m = max(vlst)\n",
    "    for i in klst :\n",
    "        if dct[i] == m :\n",
    "            return i\n",
    "    ### End of your code ###"
   ]
  },
  {
   "cell_type": "code",
   "execution_count": 98,
   "id": "e4c48b20",
   "metadata": {
    "id": "e4c48b20"
   },
   "outputs": [
    {
     "name": "stdout",
     "output_type": "stream",
     "text": [
      "Input: {'neutron': 0.55, 'proton': 0.21, 'meson': 0.03, 'muon': 0.07, 'neutrino': 0.14} \n",
      " Expected: neutron \n",
      " Return:  neutron\n",
      "Input: {'neutron': 0.11, 'proton': 0.21, 'meson': 0.05, 'muon': 0.09, 'neutrino': 0.12} \n",
      " Expected: proton \n",
      " Return:  proton\n"
     ]
    }
   ],
   "source": [
    "# Test code for given cases; run without modification\n",
    "print(\"Input: {'neutron': 0.55, 'proton': 0.21, 'meson': 0.03, 'muon': 0.07, 'neutrino': 0.14} \\n Expected: neutron \\n Return: \", P2({'neutron': 0.55, 'proton': 0.21, 'meson': 0.03, 'muon': 0.07, 'neutrino': 0.14}))\n",
    "print(\"Input: {'neutron': 0.11, 'proton': 0.21, 'meson': 0.05, 'muon': 0.09, 'neutrino': 0.12} \\n Expected: proton \\n Return: \", P2({'neutron': 0.11, 'proton': 0.21, 'meson': 0.05, 'muon': 0.09, 'neutrino': 0.12}))"
   ]
  },
  {
   "cell_type": "code",
   "execution_count": 15,
   "id": "3ae730f3",
   "metadata": {},
   "outputs": [
    {
     "data": {
      "text/plain": [
       "{1, 2}"
      ]
     },
     "execution_count": 15,
     "metadata": {},
     "output_type": "execute_result"
    }
   ],
   "source": [
    "aa = {'k' : 1, 'y' : 2}\n",
    "set(aa.values())"
   ]
  },
  {
   "cell_type": "code",
   "execution_count": null,
   "id": "af547038",
   "metadata": {
    "id": "af547038"
   },
   "outputs": [],
   "source": [
    "# Try your own test case!\n",
    "test_input = _# your input\n",
    "P2(test_input)"
   ]
  },
  {
   "cell_type": "markdown",
   "id": "764fc4b0",
   "metadata": {
    "id": "764fc4b0"
   },
   "source": [
    "# 1.3 Check dictionary of dictionaries"
   ]
  },
  {
   "cell_type": "markdown",
   "id": "a6ed4a38",
   "metadata": {
    "id": "a6ed4a38"
   },
   "source": [
    "[KOR]\n",
    "때때로 프로그래머들은 value가 딕셔너리로 이루어진 “Dictionary of dictionaries”를 간단한 데이터베이스로 이용한다. key가 문자열(string)이고 value가 딕셔너리 형태인 “Dictionary of dictionaries”를 다음과 같이 나타낼 수 있고, 이때 value는 “inner dictionary”라 한다. “Dictionary of dictionaries”를 변수(argument)로 받아 “inner dictionaries”가 모두 같은 key 값을 가지면 1, 아니면 0을 리턴하는 함수를 작성하시오.\n",
    "\n",
    "! 조건\n",
    "1. 딕셔너리가 비어있는 경우는 없음\n",
    "2. 모든 value는 딕셔너리로 되어있음\n",
    "3. value의 value는 딕셔너리 형태가 아님\n",
    "\n",
    "\n",
    "[ENG]\n",
    "\"Dictionary of dictionaries\" refer to a dictionary that has values that are dictionaries as well. Here we have keys of strings and values of dictionaries, which we call \"inner dictionary\". Take \"Dictionary of dictionaries\" as input argument. Return 1 if all \"inner dictionaries\" have the exact same keys, else 0.\n",
    "\n",
    "! Condition\n",
    "1. input dictionaries are not empty\n",
    "2. All values are dictionaries\n",
    "3. Values of a value is not a dictionary"
   ]
  },
  {
   "cell_type": "code",
   "execution_count": null,
   "id": "becfd848",
   "metadata": {
    "id": "becfd848"
   },
   "outputs": [],
   "source": [
    "{ 'jgoodall' : {'surname' : 'Goodall',\n",
    "                'forename' : 'Jane',\n",
    "                'born' : 1934,\n",
    "                'died' : None,\n",
    "                'notes' : 'primate researcher',\n",
    "                'author' : ['In the Shadow of Man','The Chimpanzees of Gombe']},\n",
    "    'rfranklin' : {'surname' : 'Franklin',\n",
    "                'forename' : 'Rosalind',\n",
    "                'born' : 1920,\n",
    "                'died' : 1957,\n",
    "                'notes' : 'contributed to discovery of DNA'},\n",
    "    'rcarson' : {'surname' : 'Carson',\n",
    "                'forename' : 'Rachel',\n",
    "                'born' : 1907,\n",
    "                'died' : 1964,\n",
    "                'notes' : 'raised awareness of effects of DDT',\n",
    "                'author' : ['Silent Spring'] }}"
   ]
  },
  {
   "cell_type": "markdown",
   "id": "ee4feb00",
   "metadata": {
    "id": "ee4feb00"
   },
   "source": [
    "- ex1 - P3({'a': {'aa':123, 'ab': [1,2]}, 'b': {'aa': 'bb', 'ab': 'cc'}})\n",
    "> 1 (Explanation: All values have the same keys, {'aa', 'ab'}.)\n",
    "- ex2 - P3({'A': {1: 'a', 2: 'b'}, 'B': {2: 'c', 3: 'd'}})\n",
    "> 0"
   ]
  },
  {
   "cell_type": "markdown",
   "id": "b1586baf",
   "metadata": {
    "id": "b1586baf"
   },
   "source": [
    "#### Solution"
   ]
  },
  {
   "cell_type": "code",
   "execution_count": 69,
   "id": "99f76b43",
   "metadata": {
    "id": "99f76b43"
   },
   "outputs": [],
   "source": [
    "def P3(dct: dict) -> int:\n",
    "    ### Write code here ###\n",
    "    a = set(dct.keys())\n",
    "    b = list(dct.values())   \n",
    "    for i in b :\n",
    "        for j in b :\n",
    "            if set(i.keys()) != set(j.keys()) :\n",
    "                return 0    \n",
    "    return 1\n",
    "    ### End of your code ###"
   ]
  },
  {
   "cell_type": "code",
   "execution_count": null,
   "id": "7783182a-a4c5-42fb-9cba-bc1d248c39ab",
   "metadata": {},
   "outputs": [],
   "source": [
    "def P3(dct: dict) -> int:\n",
    "    ### Write code here ###\n",
    "    vlst = dct.values()\n",
    "    for i in vlst :\n",
    "        if i.keys() != vlst[0].keys() :\n",
    "            return 0\n",
    "    return 1\n",
    "    ### End of your code ###\n",
    "# 한 번만 비교해도 되는 이유? 1==2이므로 2!=3이면 1!=3과 같은 결과 나옴. 반복..."
   ]
  },
  {
   "cell_type": "code",
   "execution_count": 70,
   "id": "6241edea",
   "metadata": {
    "id": "6241edea"
   },
   "outputs": [
    {
     "name": "stdout",
     "output_type": "stream",
     "text": [
      "Input: {'a': {'aa':123, 'ab': [1,2]}, 'b': {'aa': 'bb', 'ab': 'cc'}} \n",
      " Expected: 1 \n",
      " Return:  1\n",
      "Input: {'A': {1: 'a', 2: 'b'}, 'B': {2: 'c', 3: 'd'}} \n",
      " Expected: 0 \n",
      " Return:  0\n"
     ]
    }
   ],
   "source": [
    "# Test code for given cases; run without modification\n",
    "print(\"Input: {'a': {'aa':123, 'ab': [1,2]}, 'b': {'aa': 'bb', 'ab': 'cc'}} \\n Expected: 1 \\n Return: \", P3({'a': {'aa':123, 'ab': [1,2]}, 'b': {'aa': 'bb', 'ab': 'cc'}}))\n",
    "print(\"Input: {'A': {1: 'a', 2: 'b'}, 'B': {2: 'c', 3: 'd'}} \\n Expected: 0 \\n Return: \", P3({'A': {1: 'a', 2: 'b'}, 'B': {2: 'c', 3: 'd'}}))"
   ]
  },
  {
   "cell_type": "code",
   "execution_count": null,
   "id": "6791dd78",
   "metadata": {
    "id": "6791dd78"
   },
   "outputs": [],
   "source": [
    "# Try your own test case!\n",
    "test_input = _# your input\n",
    "P3(test_input)"
   ]
  },
  {
   "cell_type": "markdown",
   "id": "37da5851",
   "metadata": {
    "id": "37da5851"
   },
   "source": [
    "# 2.1 Café menu\n",
    "\n",
    "Write two functions to read a cafe's menu from a text file (menu.txt) and return a list of menu.\n",
    "\n",
    "* menu - returns list of lists\n",
    "* reverse_menu - returns a list of strings in reverse order"
   ]
  },
  {
   "cell_type": "code",
   "execution_count": 100,
   "id": "80d140a0",
   "metadata": {
    "id": "80d140a0"
   },
   "outputs": [],
   "source": [
    "from typing import TextIO, List"
   ]
  },
  {
   "cell_type": "code",
   "execution_count": 108,
   "id": "8a29fdd4",
   "metadata": {
    "id": "8a29fdd4"
   },
   "outputs": [],
   "source": [
    "def menu(filename : str) -> List[List]:\n",
    "    # Write your code here\n",
    "\n",
    "    f = open(filename, 'r')\n",
    "    line = f.readlines()\n",
    "    f.close()\n",
    "\n",
    "    out_list = []\n",
    "    for i in line :\n",
    "        out_list.append(i.strip('\\n'))    \n",
    "    \n",
    "    return out_list"
   ]
  },
  {
   "cell_type": "code",
   "execution_count": 109,
   "id": "2301df84",
   "metadata": {
    "id": "2301df84"
   },
   "outputs": [
    {
     "data": {
      "text/plain": [
       "['Americano 3.66 4.11 4.56',\n",
       " 'CafeLatte 4.11 4.56 5.00',\n",
       " 'CafeMocha 4.55 5.00 5.45',\n",
       " 'DecafeCaffeLatte 4.38 4.82']"
      ]
     },
     "execution_count": 109,
     "metadata": {},
     "output_type": "execute_result"
    }
   ],
   "source": [
    "menu('menu.txt')"
   ]
  },
  {
   "cell_type": "code",
   "execution_count": 121,
   "id": "b153071e",
   "metadata": {
    "id": "b153071e"
   },
   "outputs": [],
   "source": [
    "def reverse_menu(filename: str) -> list:\n",
    "    # Write your code here\n",
    "    reverse_list = menu(filename)\n",
    "    reverse_list.reverse()\n",
    "    return reverse_list"
   ]
  },
  {
   "cell_type": "code",
   "execution_count": 122,
   "id": "501bc6d0",
   "metadata": {
    "id": "501bc6d0"
   },
   "outputs": [
    {
     "data": {
      "text/plain": [
       "['DecafeCaffeLatte 4.38 4.82',\n",
       " 'CafeMocha 4.55 5.00 5.45',\n",
       " 'CafeLatte 4.11 4.56 5.00',\n",
       " 'Americano 3.66 4.11 4.56']"
      ]
     },
     "execution_count": 122,
     "metadata": {},
     "output_type": "execute_result"
    }
   ],
   "source": [
    "reverse_menu('menu.txt')"
   ]
  },
  {
   "cell_type": "markdown",
   "id": "0408a141",
   "metadata": {
    "id": "0408a141"
   },
   "source": [
    "# Extra questions"
   ]
  },
  {
   "cell_type": "markdown",
   "id": "2d209e85",
   "metadata": {
    "id": "2d209e85"
   },
   "source": [
    "# Q4. Common dictionary items"
   ]
  },
  {
   "cell_type": "markdown",
   "id": "271f78f5",
   "metadata": {
    "id": "271f78f5"
   },
   "source": [
    "[KOR]\n",
    "두 개의 딕셔너리 dct1과 dct2를 변수(arguments)로 받아 dct1과 dct2에 공통으로 포함된 key/value 쌍으로만 만든 새로운 딕셔너리를 리턴하는 함수를 작성하시오.\n",
    "\n",
    "[ENG]\n",
    "Take 2 dictionaries, dct1 and dct2 as input arguments, and return a dictionary with key/value pairs that are common in both dictionaries."
   ]
  },
  {
   "cell_type": "markdown",
   "id": "6e653707",
   "metadata": {
    "id": "6e653707"
   },
   "source": [
    "- ex1 - P4({'a': 1, 'b': True, 'c': [1,2]}, {'a': 1, 'b': 123, 'c': [1,2]})\n",
    "> {'a': 1, 'c': [1, 2]}\n",
    "- ex2 - P4({'a': 1, 'b': True }, {'c': 1, 'd': 123, 'e': [1,2]})\n",
    "> {}\n",
    "- ex3 - P4({}, {'c': 1, 'd': 123, 'e': [1,2]})\n",
    "> {}"
   ]
  },
  {
   "cell_type": "markdown",
   "id": "b8c35e78",
   "metadata": {
    "id": "b8c35e78"
   },
   "source": [
    "#### Solution"
   ]
  },
  {
   "cell_type": "code",
   "execution_count": null,
   "id": "00204a8d",
   "metadata": {
    "id": "00204a8d"
   },
   "outputs": [],
   "source": [
    "def P4(dct1: dict, dct2: dict) -> dict:\n",
    "    ### Write code here ###\n",
    "\n",
    "\n",
    "    ### End of your code ###"
   ]
  },
  {
   "cell_type": "code",
   "execution_count": null,
   "id": "39075ff1",
   "metadata": {
    "id": "39075ff1"
   },
   "outputs": [],
   "source": [
    "# Test code for given cases; run without modification\n",
    "print(\"Input: {'a': 1, 'b': True, 'c': [1,2]}, {'a': 1, 'b': 123, 'c': [1,2]} \\n Expected: {'a': 1, 'c': [1, 2]} \\n Return:  \", P4({'a': 1, 'b': True, 'c': [1,2]}, {'a': 1, 'b': 123, 'c': [1,2]}))\n",
    "print(\"Input: {'a': 1, 'b': True }, {'c': 1, 'd': 123, 'e': [1,2]} \\n Expected: {} \\n Return:  \", P4({'a': 1, 'b': True }, {'c': 1, 'd': 123, 'e': [1,2]}))\n",
    "print(\"Input: {}, {'c': 1, 'd': 123, 'e': [1,2]} \\n Expected: {} \\n Return:  \", P4({}, {'c': 1, 'd': 123, 'e': [1,2]}))"
   ]
  },
  {
   "cell_type": "code",
   "execution_count": null,
   "id": "4bd4fa6b",
   "metadata": {
    "id": "4bd4fa6b"
   },
   "outputs": [],
   "source": [
    "# Try your own test case!\n",
    "test_input = _# your input\n",
    "P4(test_input)"
   ]
  },
  {
   "cell_type": "markdown",
   "id": "d6a2a24b",
   "metadata": {
    "id": "d6a2a24b"
   },
   "source": [
    "# Q5. Pairing with tuples"
   ]
  },
  {
   "cell_type": "markdown",
   "id": "48c57107",
   "metadata": {
    "id": "48c57107"
   },
   "source": [
    "[KOR] 길이가 같은 리스트 두 개를 변수(arguments)로 받고, 같은 인덱스를 갖는 원소끼리 짝지은 튜플(tuple)의 집합(set)을 리턴하는 함수를 작성하시오. 튜플은 (첫번째 리스트 원소, 두번째 리스트 원소) 순서로 만들어야 한다.\n",
    "\n",
    "[ENG] Take 2 lists of equal length as arguments and return a set of tuples that pairs elements from the same index in each list. Tuples should be in the form (element from first list, element from second list)."
   ]
  },
  {
   "cell_type": "markdown",
   "id": "957c2e66",
   "metadata": {
    "id": "957c2e66"
   },
   "source": [
    "- ex1 - P5(['red', 'yellow', 'purple'], ['apple', 'banana', 'grape'])\n",
    "> {('red', 'apple'), ('yellow', 'banana'), ('purple', 'grape')}\n",
    "- ex2 - P5([1, 2, 3], ['computer', 'keyboard', 'mouse'])\n",
    "> {(1, 'computer'), (2, 'keyboard', (3, 'mouse')}\n",
    "- ex3 - P5([], [])\n",
    "> set()\n"
   ]
  },
  {
   "cell_type": "markdown",
   "id": "799b5123",
   "metadata": {
    "id": "799b5123"
   },
   "source": [
    "#### Solution"
   ]
  },
  {
   "cell_type": "code",
   "execution_count": null,
   "id": "c2c1744f",
   "metadata": {
    "id": "c2c1744f"
   },
   "outputs": [],
   "source": [
    "def P5(lst1: list, lst2: list) -> set:\n",
    "    ### Write code here ###\n",
    "    rset = set()\n",
    "    for i in range(len(lst2)) :\n",
    "        rset.add((lst1[i], lst2[i]))\n",
    "    return rset\n",
    "    ### End of your code ###"
   ]
  },
  {
   "cell_type": "code",
   "execution_count": null,
   "id": "e5b6ece2",
   "metadata": {
    "id": "e5b6ece2"
   },
   "outputs": [],
   "source": [
    "# Test code for given cases; run without modification\n",
    "print(\"### Sets are unordered -> Printed order of elements in the returned set can be different with that in the expected one ###\\n\")\n",
    "print(\"Input: ['red', 'yellow', 'purple'], ['apple', 'banana', 'grape'] \\n Expected: {('red', 'apple'), ('yellow', 'banana'), ('purple', 'grape')} \\n Return:  \", P5(['red', 'yellow', 'purple'], ['apple', 'banana', 'grape']))\n",
    "print(\"Input: [1, 2, 3], ['computer', 'keyboard', 'mouse'] \\n Expected: {(1, 'computer'), (2, 'keyboard'), (3, 'mouse')} \\n Return:  \", P5([1, 2, 3], ['computer', 'keyboard', 'mouse']))\n",
    "print(\"Input: [], [] \\n Expected: set() \\n Return:  \", P5([], []))"
   ]
  },
  {
   "cell_type": "code",
   "execution_count": null,
   "id": "e1058f1a",
   "metadata": {
    "id": "e1058f1a"
   },
   "outputs": [],
   "source": [
    "# Try your own test case!\n",
    "test_input = _# your input\n",
    "P5(test_input)"
   ]
  },
  {
   "cell_type": "markdown",
   "id": "248a1cee",
   "metadata": {
    "id": "248a1cee"
   },
   "source": [
    "# Q6. Dot product of sparse vectors"
   ]
  },
  {
   "cell_type": "markdown",
   "id": "aad0f0b2",
   "metadata": {
    "id": "aad0f0b2"
   },
   "source": [
    "[KOR] 다음과 같이 대부분의 원소가 0으로 되어있는 벡터를 “Sparse vector”라 한다.\n",
    "> sparse_vector = [1, 0, 0, 0, 0, 0, 3, 0, 0, 0]\n",
    "\n",
    "이때 벡터를 모든 0을 포함한 형태로 리스트에 저장하면 메모리가 낭비되기 때문에 딕셔너리를 이용하여 0이 아닌 원소만 나타내기도 한다. 위의 벡터는 딕셔너리를 사용하여 다음과 같이 나타낼 수 있다.\n",
    "> sparse_vector[0] = 1, sparse_vector[6] = 3\n",
    "\n",
    "> -> sparse_vector_dict = {0: 1, 6: 3}\n",
    "\n",
    "두 벡터의 dot product는 corresponding elements의 products의 sum이다. 예를 들어 [1, 2, 3]과 [4, 5, 6]의 dot product는 4 + 10 + 18 = 32 이다. 두 “Sparse vectors”를 변수(arguments)로 받아 그들의 dot product를 계산하는 함수를 작성하시오.\n",
    "\n",
    "\n",
    "[ENG] A vector in which most of its elements are 0 is called a \"Sparse vector.\"\n",
    "> sparse_vector = [1, 0, 0, 0, 0, 0, 3, 0, 0, 0]\n",
    "\n",
    "Storing the vector in its full form, including all the zeros, would waste memory. Therefore, sometimes dictionaries are used to represent only the non-zero elements. The above vector can be represented using a dictionary as follows:\n",
    "> sparse_vector[0] = 1, sparse_vector[6] = 3\n",
    "\n",
    "> -> sparse_vector_dict = {0: 1, 6: 3}\n",
    "\n",
    "The dot product of two vectors is the sum of the products of their corresponding elements. For example, the dot product of [1, 2, 3] and [4, 5, 6] is 4 + 10 + 18 = 32. Write a function that takes two \"Sparse vectors\" as variables (arguments) and calculates their dot product."
   ]
  },
  {
   "cell_type": "markdown",
   "id": "306d4aec",
   "metadata": {
    "id": "306d4aec"
   },
   "source": [
    "- ex1 - P6({0:1, 6:3}, {0:2, 5:2, 6:2, 7:1})\n",
    "> 8\n",
    "- ex2 - P6({0:1, 6:3}, {1:-1, 2:2, 3:2, 4:1})\n",
    "> 0\n",
    "- ex3 - P6({0:1, 6:-3}, {0:-1, 6:3})\n",
    "> -10\n"
   ]
  },
  {
   "cell_type": "markdown",
   "id": "180e3a48",
   "metadata": {
    "id": "180e3a48"
   },
   "source": [
    "#### Solution"
   ]
  },
  {
   "cell_type": "code",
   "execution_count": null,
   "id": "e4c1bbb4",
   "metadata": {
    "id": "e4c1bbb4"
   },
   "outputs": [],
   "source": [
    "def P6(dct1: dict, dct2: dict) -> int:\n",
    "    ### Write code here ###\n",
    "\n",
    "    ### End of your code ###"
   ]
  },
  {
   "cell_type": "code",
   "execution_count": null,
   "id": "54c5ff4c",
   "metadata": {
    "id": "54c5ff4c"
   },
   "outputs": [],
   "source": [
    "# Test code for given cases; run without modification\n",
    "print(\"Input: {0:1, 6:3}, {0:2, 5:2, 6:2, 7:1} \\n Expected: 8 \\n Return:  \", P6({0:1, 6:3}, {0:2, 5:2, 6:2, 7:1}))\n",
    "print(\"Input: {0:1, 6:3}, {1:-1, 2:2, 3:2, 4:1} \\n Expected: 0 \\n Return:  \", P6({0:1, 6:3}, {1:-1, 2:2, 3:2, 4:1}))\n",
    "print(\"Input: {0:1, 6:-3}, {0:-1, 6:3} \\n Expected: -10 \\n Return:  \", P6({0:1, 6:-3}, {0:-1, 6:3}))"
   ]
  },
  {
   "cell_type": "code",
   "execution_count": null,
   "id": "1b50c694",
   "metadata": {
    "id": "1b50c694"
   },
   "outputs": [],
   "source": [
    "# Try your own test case!\n",
    "test_input = _# your input\n",
    "P6(test_input)"
   ]
  }
 ],
 "metadata": {
  "colab": {
   "provenance": []
  },
  "kernelspec": {
   "display_name": "Python 3 (ipykernel)",
   "language": "python",
   "name": "python3"
  },
  "language_info": {
   "codemirror_mode": {
    "name": "ipython",
    "version": 3
   },
   "file_extension": ".py",
   "mimetype": "text/x-python",
   "name": "python",
   "nbconvert_exporter": "python",
   "pygments_lexer": "ipython3",
   "version": "3.12.1"
  }
 },
 "nbformat": 4,
 "nbformat_minor": 5
}
