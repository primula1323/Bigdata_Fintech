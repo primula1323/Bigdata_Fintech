{
 "cells": [
  {
   "cell_type": "markdown",
   "id": "HG-rToaJVBtc",
   "metadata": {
    "id": "HG-rToaJVBtc"
   },
   "source": [
    "# Practice 1.1 Quotient and remainder"
   ]
  },
  {
   "cell_type": "markdown",
   "id": "TpiHJjYnVBtc",
   "metadata": {
    "id": "TpiHJjYnVBtc"
   },
   "source": [
    "## Create a function for calculating the quotient and remainder"
   ]
  },
  {
   "cell_type": "code",
   "execution_count": null,
   "id": "hju5uBUcAq4o",
   "metadata": {
    "id": "hju5uBUcAq4o"
   },
   "outputs": [],
   "source": [
    "def my_devide(num1 : int, num2 : int) -> int :\n",
    "    #returns its quotient and remainder, num1 devided by num2\n",
    "    if num2 == 0 :\n",
    "        return 'invalid operation'\n",
    "    quotient = num1//num2\n",
    "    remainder = num1%num2\n",
    "    return quotient, remainder"
   ]
  },
  {
   "cell_type": "code",
   "execution_count": null,
   "id": "WaOem5C5Aq4s",
   "metadata": {
    "id": "WaOem5C5Aq4s",
    "outputId": "89ad64aa-93b1-43a5-d9de-54597ec9aff7"
   },
   "outputs": [
    {
     "data": {
      "text/plain": [
       "(3, 1)"
      ]
     },
     "execution_count": 11,
     "metadata": {},
     "output_type": "execute_result"
    }
   ],
   "source": [
    "my_devide(10, 3)"
   ]
  },
  {
   "cell_type": "markdown",
   "id": "L5w0b2AmAq40",
   "metadata": {
    "id": "L5w0b2AmAq40"
   },
   "source": [
    "# Practice 1.2 Number of diagonals in a polygon"
   ]
  },
  {
   "cell_type": "markdown",
   "id": "yM0rQLISAq42",
   "metadata": {
    "id": "yM0rQLISAq42"
   },
   "source": [
    "## Create a function for calculating the Number of diagonals in a polygon"
   ]
  },
  {
   "cell_type": "code",
   "execution_count": null,
   "id": "NI1nqsgaAq43",
   "metadata": {
    "id": "NI1nqsgaAq43"
   },
   "outputs": [],
   "source": [
    "def my_diagonal(num1 : int) -> int :\n",
    "    #returns the number of diagonal lines of num1 line\n",
    "    diagonal = num1*(num1 + 3)/2\n",
    "    return round(diagonal)"
   ]
  },
  {
   "cell_type": "code",
   "execution_count": null,
   "id": "OLjppq4xAq45",
   "metadata": {
    "id": "OLjppq4xAq45",
    "outputId": "73fd73a1-7114-425f-bd9e-dbfb592286b3"
   },
   "outputs": [
    {
     "data": {
      "text/plain": [
       "5"
      ]
     },
     "execution_count": 4,
     "metadata": {},
     "output_type": "execute_result"
    }
   ],
   "source": [
    "my_diagonal(5)"
   ]
  },
  {
   "cell_type": "markdown",
   "id": "UmIGiXRyAq46",
   "metadata": {
    "id": "UmIGiXRyAq46"
   },
   "source": [
    "# Practice 1.3 Rounding"
   ]
  },
  {
   "cell_type": "markdown",
   "id": "USpVqDOjAq47",
   "metadata": {
    "id": "USpVqDOjAq47"
   },
   "source": [
    "## Create a function for rounding to an integer"
   ]
  },
  {
   "cell_type": "code",
   "execution_count": null,
   "id": "oHSrFFlrAq47",
   "metadata": {
    "id": "oHSrFFlrAq47"
   },
   "outputs": [],
   "source": [
    "def my_rounding(num1: float)->int:\n",
    "    if (num1>0):\n",
    "        # Write your code\n",
    "    # Write your code\n",
    "    return rounding"
   ]
  },
  {
   "cell_type": "code",
   "execution_count": null,
   "id": "6932abb2-f924-48e9-976a-41545cd6566a",
   "metadata": {},
   "outputs": [],
   "source": [
    "def myrounding(num: float)->int:\n",
    "    if num > 0:\n",
    "        if abs(num-int(num))>=0.5:\n",
    "            rounding = int(num) + 1\n",
    "        else :\n",
    "            rounding = int(num)\n",
    "    else :\n",
    "        if abs(num-int(num))>=0.5:\n",
    "            rounding = int(num) - 1\n",
    "        else :\n",
    "            rounding = int(num)\n",
    "    return rounding"
   ]
  },
  {
   "cell_type": "code",
   "execution_count": null,
   "id": "f41537d1-3946-4498-8ff7-6d952fa4f92a",
   "metadata": {},
   "outputs": [],
   "source": [
    "def myrounding(x : float) -> int :\n",
    "    if x >= 0 :\n",
    "        if x%1 >= 0.5 :\n",
    "            y = x//1 + 1\n",
    "        else :\n",
    "            y = x//1\n",
    "    else :\n",
    "        if x%1 >= 0.5 :\n",
    "            y = x//1 + 1\n",
    "        else :\n",
    "            y =  x//1\n",
    "    return int(y)"
   ]
  },
  {
   "cell_type": "code",
   "execution_count": null,
   "id": "OZOezg4zAq48",
   "metadata": {
    "id": "OZOezg4zAq48",
    "outputId": "6ebf396b-cca4-4d33-fba2-be0cefce57ad"
   },
   "outputs": [
    {
     "data": {
      "text/plain": [
       "5"
      ]
     },
     "execution_count": 13,
     "metadata": {},
     "output_type": "execute_result"
    }
   ],
   "source": [
    "my_rounding(4.5)"
   ]
  },
  {
   "cell_type": "code",
   "execution_count": null,
   "id": "Lwmdih8DAq4_",
   "metadata": {
    "id": "Lwmdih8DAq4_",
    "outputId": "28274bb1-cf86-4558-da21-1f44bbf666f1"
   },
   "outputs": [
    {
     "name": "stdout",
     "output_type": "stream",
     "text": [
      "-4.5 -4\n",
      "-3.5 -3\n",
      "-2.5 -2\n",
      "-1.5 -1\n",
      "-0.5 0\n",
      "0.5 0\n",
      "1.5 1\n",
      "2.5 2\n",
      "3.5 3\n"
     ]
    }
   ],
   "source": [
    "for i in range(-4,5):\n",
    "    print(i-0.5, int(i-0.5))"
   ]
  },
  {
   "cell_type": "code",
   "execution_count": null,
   "id": "AI7zEupeAq5D",
   "metadata": {
    "id": "AI7zEupeAq5D",
    "outputId": "ef84f66c-2fc6-4657-a1f1-a29b8660fca1"
   },
   "outputs": [
    {
     "name": "stdout",
     "output_type": "stream",
     "text": [
      "-4.5 -4\n",
      "-3.5 -4\n",
      "-2.5 -2\n",
      "-1.5 -2\n",
      "-0.5 0\n",
      "0.5 0\n",
      "1.5 2\n",
      "2.5 2\n",
      "3.5 4\n"
     ]
    }
   ],
   "source": [
    "for i in range(-4,5):\n",
    "    print(i-0.5, round(i-0.5))"
   ]
  },
  {
   "cell_type": "code",
   "execution_count": null,
   "id": "AnTsYnqgAq5G",
   "metadata": {
    "id": "AnTsYnqgAq5G",
    "outputId": "64f1b301-62e7-48d4-c82d-3e4b6f4a1eaf"
   },
   "outputs": [
    {
     "name": "stdout",
     "output_type": "stream",
     "text": [
      "-4.5 -4\n",
      "-3.5 -3\n",
      "-2.5 -2\n",
      "-1.5 -1\n",
      "-0.5 0\n",
      "0.5 1\n",
      "1.5 2\n",
      "2.5 3\n",
      "3.5 4\n"
     ]
    }
   ],
   "source": [
    "for i in range(-4,5):\n",
    "    print(i-0.5, my_rounding(i-0.5))"
   ]
  },
  {
   "cell_type": "markdown",
   "id": "70163ceb",
   "metadata": {
    "id": "70163ceb"
   },
   "source": [
    "# Practice 2.1 Name Separator"
   ]
  },
  {
   "cell_type": "markdown",
   "id": "da9c09ab",
   "metadata": {
    "id": "da9c09ab"
   },
   "source": [
    "### Taking a name as input, write a function that separates last name and first name."
   ]
  },
  {
   "cell_type": "code",
   "execution_count": null,
   "id": "8bca9293",
   "metadata": {
    "id": "8bca9293"
   },
   "outputs": [],
   "source": [
    "def name_separator() :\n",
    "    my_name = input('Write your name: ')\n",
    "    nlist = my_name.split(' ')\n",
    "    print(f'First name is {nlist[0]}')\n",
    "    print(f'Last name is {nlist[1]}')\n",
    "    \n",
    "#for test\n",
    "my_name = input(\"Write your name:(eg.Sun-sin Yi) \")\n",
    "name_separator(my_name)"
   ]
  },
  {
   "cell_type": "markdown",
   "id": "c2e46317",
   "metadata": {
    "id": "c2e46317"
   },
   "source": [
    "# Practice 2.2 Age and Gender Calculator"
   ]
  },
  {
   "cell_type": "markdown",
   "id": "7bda0c0f",
   "metadata": {
    "id": "7bda0c0f"
   },
   "source": [
    "### Taking the first seven digits of the residential number as input values, write a function that outputs the age and gender."
   ]
  },
  {
   "cell_type": "markdown",
   "id": "50365456",
   "metadata": {
    "id": "50365456"
   },
   "source": [
    "**Guidelines**\n",
    "1) Distinguish gender (hint: 7th digit: 1 or 3- male, 2 or 4-female) \\\n",
    "2) Calculate the age based on today's date (hint:compare birthday and today's date)"
   ]
  },
  {
   "cell_type": "code",
   "execution_count": null,
   "id": "e1079db0",
   "metadata": {
    "id": "e1079db0"
   },
   "outputs": [],
   "source": [
    "from datetime import date\n",
    "today = date.today()\n",
    "today = today.strftime(\"%Y%m%d\")\n",
    "\n",
    "def q3() :\n",
    "    Pnum = input('Write your personal number(eg. 220908-2) : ')\n",
    "    sPnum = Pnum.split('-')\n",
    "    if sPnum[1] == '1' or sPnum[1] == '3' :\n",
    "        gender = 'Male'\n",
    "    else :\n",
    "        gender = \"Female\"\n",
    "    if int(sPnum[0]) <= 99 :\n",
    "        bd = int('19' + sPnum[0])\n",
    "    elif int(sPnum[0]) > 99 :\n",
    "        bd = int('20' + sPnum[0])\n",
    "    td = int(date.today().strftime(\"%Y%m%d\"))\n",
    "    age = (td - bd)//365.25\n",
    "    return round(age)\n",
    "\n",
    "#for test\n",
    "my_number = input(\"Write your residential number:(eg.220908-2)  \")\n",
    "q3(my_number)"
   ]
  }
 ],
 "metadata": {
  "colab": {
   "provenance": []
  },
  "kernelspec": {
   "display_name": "Python 3 (ipykernel)",
   "language": "python",
   "name": "python3"
  },
  "language_info": {
   "codemirror_mode": {
    "name": "ipython",
    "version": 3
   },
   "file_extension": ".py",
   "mimetype": "text/x-python",
   "name": "python",
   "nbconvert_exporter": "python",
   "pygments_lexer": "ipython3",
   "version": "3.12.1"
  }
 },
 "nbformat": 4,
 "nbformat_minor": 5
}
