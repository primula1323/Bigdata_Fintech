{
 "cells": [
  {
   "cell_type": "markdown",
   "id": "59b87d01",
   "metadata": {
    "id": "59b87d01"
   },
   "source": [
    "# 1.1 Binary Search Tree Implementation"
   ]
  },
  {
   "cell_type": "markdown",
   "id": "a2c008f6",
   "metadata": {
    "id": "a2c008f6"
   },
   "source": [
    "Implement a binary search tree that has the following three methods:\n",
    "- search method\n",
    "- insert method\n",
    "- delete method"
   ]
  },
  {
   "cell_type": "markdown",
   "id": "1e2b7c8d",
   "metadata": {
    "id": "1e2b7c8d"
   },
   "source": [
    "First two methods are provided for you, so implement the delete method.\n",
    "<br> Complete the deleteHelp, and findMax function.\n",
    "<br> Most BST problems make use of recursion, so recover your memory from class!"
   ]
  },
  {
   "cell_type": "markdown",
   "id": "d572ff5c",
   "metadata": {
    "id": "d572ff5c"
   },
   "source": [
    "- (1) Base case – case that returns a variable or constant value\n",
    "- (2) Recursive case – case that uses the function being defined or another function again"
   ]
  },
  {
   "cell_type": "code",
   "execution_count": null,
   "id": "ebe04ab2",
   "metadata": {
    "id": "ebe04ab2"
   },
   "outputs": [],
   "source": [
    "class TreeNode():\n",
    "    def __init__(self, x:int):\n",
    "        self.val = x\n",
    "        self.left = None\n",
    "        self.right = None"
   ]
  },
  {
   "cell_type": "code",
   "execution_count": null,
   "id": "ace3d2df-72ba-4ff8-a9a0-f7b0ae7134af",
   "metadata": {},
   "outputs": [],
   "source": []
  },
  {
   "cell_type": "code",
   "execution_count": null,
   "id": "ae8b144f",
   "metadata": {
    "id": "ae8b144f"
   },
   "outputs": [],
   "source": [
    "class BST():\n",
    "    def __init__(self, root:TreeNode) -> None:\n",
    "        self.root = root\n",
    "\n",
    "    def __searchHelp(self, curNode: TreeNode, x: int) -> TreeNode:\n",
    "        # (1) Base Case\n",
    "        if not curNode:\n",
    "            return None\n",
    "        if x == curNode.val:\n",
    "            return curNode\n",
    "\n",
    "        # (2) Recursive case\n",
    "        if x < curNode.val:\n",
    "            return self.__searchHelp(curNode.left, x)\n",
    "        else:\n",
    "            return self.__searchHelp(curNode.right, x)\n",
    "\n",
    "    def search(self, x:int) -> TreeNode:\n",
    "        return self.__searchHelp(self.root, x)\n",
    "\n",
    "    def __insertHelp(self, curNode: TreeNode, x: int) -> TreeNode:\n",
    "        # (1) Base Case\n",
    "        if not curNode:\n",
    "            return TreeNode(x)\n",
    "        if x == curNode.val:\n",
    "            return curNode\n",
    "\n",
    "        # (2) Recursive case\n",
    "        if x < curNode.val:\n",
    "            curNode.left = self.__insertHelp(curNode.left, x)\n",
    "        else:\n",
    "            curNode.right = self.__insertHelp(curNode.right, x)\n",
    "\n",
    "        return curNode\n",
    "\n",
    "    def insert(self, x: int) -> None:\n",
    "        self.root = self.__insertHelp(self.root, x)\n",
    "\n",
    "    def __findMax(self, curNode: TreeNode) -> int:\n",
    "\n",
    "        # (1) Base Case\n",
    "        # When you can't move more to the right, return the value of curNode\n",
    "        ### Write you code here ###\n",
    "        if not curNode.right :\n",
    "            return curNode.val\n",
    "\n",
    "        ### End of your code ###\n",
    "\n",
    "        # (2) Recursive Case\n",
    "        # When you can move more to the right, keep looking for the node with max value\n",
    "        ### Write you code here ###\n",
    "        else :\n",
    "            self.__findMax(curNode.right)\n",
    "\n",
    "        ### End of your code ###\n",
    "\n",
    "    # Scan through a subtree which has curNode as its root,\n",
    "    # and return a new (if necessary) root\n",
    "    def __deleteHelp(self, curNode: TreeNode, x: int) -> TreeNode:\n",
    "\n",
    "        # (1) Base Case\n",
    "        ### Write you code here ###\n",
    "        if not curNode :\n",
    "            return None\n",
    "        ### End of your code ###\n",
    "\n",
    "        # (2) Recursive Case\n",
    "        if x < curNode.val: #left\n",
    "            # delete x from curNode's left,\n",
    "            # and replace its left node with a new (if necessary) root of left subtree\n",
    "            ### Write you code here ###\n",
    "            curNode.left = self.__deleteHelp(curNode.left, x)\n",
    "            ### End of your code ###\n",
    "\n",
    "        elif x > curNode.val: #right\n",
    "            # delete x from curNode's right,\n",
    "            # and replace its left node with a new (if necessary) root of right subtree\n",
    "            ### Write you code here ###\n",
    "            curNode.right = self.__deleteHelp(curNode.right, x)\n",
    "            ### End of your code ###\n",
    "\n",
    "        else: # x == curNode.val\n",
    "            # (1) No child\n",
    "            ### Write you code here ###\n",
    "            if curNode.left == None and curNode.right == None :\n",
    "                return None\n",
    "            ### End of your code ###\n",
    "\n",
    "            # (2) One child\n",
    "            ### Write you code here ###\n",
    "            if curNode.left == None and curNode.right :\n",
    "                return curNode.right\n",
    "            elif curNode.left and curNode.right == None :\n",
    "                return curNode.left\n",
    "            ### End of your code ###\n",
    "\n",
    "            # (3)  Two children\n",
    "            # delete curNode by replacing itself with the node that has either\n",
    "            # [a] the biggest value from its left subtree, or\n",
    "            # [b] the smallest value from its right subtree\n",
    "            # Here, choose and implement method [a]\n",
    "            ### Write you code here ###\n",
    "            else :\n",
    "                leftLargest = self.__findMax(curNode.left)\n",
    "                curNode.left = self.deleteHelp(curNode.left, leftLargest)\n",
    "                curNode.val = leftLargest\n",
    "            ### End of your code ###\n",
    "\n",
    "        return curNode\n",
    "\n",
    "    def delete(self, x:int) -> None:\n",
    "        # root may change when some node is erased\n",
    "        self.root = self.__deleteHelp(self.root, x)"
   ]
  },
  {
   "cell_type": "code",
   "execution_count": null,
   "id": "0a9150fa",
   "metadata": {
    "id": "0a9150fa"
   },
   "outputs": [],
   "source": [
    "tree1 = TreeNode(1)\n",
    "tree2 = TreeNode(2)\n",
    "tree3 = TreeNode(3)\n",
    "tree4 = TreeNode(4)\n",
    "tree5 = TreeNode(5)\n",
    "tree6 = TreeNode(6)\n",
    "tree7 = TreeNode(7)\n",
    "\n",
    "tree4.left = tree2\n",
    "tree4.right = tree6\n",
    "\n",
    "tree2.left = tree1\n",
    "tree2.right = tree3\n",
    "\n",
    "tree6.left = tree5\n",
    "tree6.right = tree7\n",
    "\n",
    "# Instance of class BST, setting node with value of 4 as its root\n",
    "myTree = BST(tree4)"
   ]
  },
  {
   "cell_type": "code",
   "execution_count": null,
   "id": "6cea9279",
   "metadata": {
    "id": "6cea9279"
   },
   "outputs": [],
   "source": [
    "# Test search\n",
    "node = myTree.search(6)\n",
    "if node == None:\n",
    "    print(node)\n",
    "else:\n",
    "    print(node, node.val)"
   ]
  },
  {
   "cell_type": "code",
   "execution_count": null,
   "id": "ef27f9a3",
   "metadata": {
    "id": "ef27f9a3"
   },
   "outputs": [],
   "source": [
    "# Test insert\n",
    "myTree.insert(8)\n",
    "node = myTree.search(8)\n",
    "if node == None:\n",
    "    print(node)\n",
    "else:\n",
    "    print(node, node.val) #node 호출은 node.val로 해야 함. node는 '함수 호출'만 나올 것."
   ]
  },
  {
   "cell_type": "code",
   "execution_count": null,
   "id": "9d2c1318",
   "metadata": {
    "id": "9d2c1318"
   },
   "outputs": [],
   "source": [
    "# Test delete - 1\n",
    "print(\"root:\", myTree.root.val)\n",
    "myTree.delete(4)\n",
    "print(\"new root:\", myTree.root.val)"
   ]
  },
  {
   "cell_type": "code",
   "execution_count": null,
   "id": "85110cd6",
   "metadata": {
    "id": "85110cd6"
   },
   "outputs": [],
   "source": [
    "# Test delete - 2\n",
    "print(\"Is there node with the value of 4?\")\n",
    "node = myTree.search(4)\n",
    "if node == None:\n",
    "    print(node)\n",
    "else:\n",
    "    print(node, node.val)"
   ]
  },
  {
   "cell_type": "code",
   "execution_count": null,
   "id": "dfddbb82",
   "metadata": {
    "id": "dfddbb82"
   },
   "outputs": [],
   "source": [
    "# Test delete - 3\n",
    "print(\"Is there node with the value of 3?\")\n",
    "node = myTree.search(3)\n",
    "if node == None:\n",
    "    print(node)\n",
    "else:\n",
    "    print(node, node.val)"
   ]
  },
  {
   "cell_type": "code",
   "execution_count": null,
   "id": "477d693e",
   "metadata": {
    "id": "477d693e"
   },
   "outputs": [],
   "source": [
    "# Test delete - 4\n",
    "print(myTree.root.left.val)\n",
    "print(myTree.root.right.val)"
   ]
  },
  {
   "cell_type": "markdown",
   "id": "8cd0fa28",
   "metadata": {
    "id": "8cd0fa28"
   },
   "source": [
    "# 1.2 Sum of subtree in BST"
   ]
  },
  {
   "cell_type": "markdown",
   "id": "63d7628e",
   "metadata": {
    "id": "63d7628e"
   },
   "source": [
    "Complete a function that returns sum of all the BST node values within the range [low, high]. Here make use of recursion as well!\n",
    "- Each node of BST is defined by TreeNode class, which is defined in BST_Helper.py file. printTree() Method returns a list of all nodes in the tree.\n",
    "- Input: Root Node of BST, low, high\n",
    "- Each node values are unique in the BST.\n",
    "- To test if your function is correct, use create_linked_bst function defined in BST_Helper.py file. It creates a BST with an input of integer list, and returns the root node. The input list has to be in a certain sequence: first element is the value of the root node, second is the value of left node of the root, third is the value of right node of the root, ... Also, if there is no node input None.\n"
   ]
  },
  {
   "cell_type": "markdown",
   "id": "458dd80d",
   "metadata": {
    "id": "458dd80d"
   },
   "source": [
    "- You should not use the method of summing up the values in a list, without using the characteristic of BST. To prevent this, the input may be given to you in a way that the condition of BST child is violated. Originally, current node's left value has to be smaller than current value, while the right value has to be bigger than current value. Here, we do not apply this rule to grand children. For example, BST below may be given to you. 9 is smaller than 10 but it is located at the right subtree of node with value 9. Refer to example 1 and 2 for the calculation of these kind of BSTs.\n"
   ]
  },
  {
   "cell_type": "markdown",
   "id": "11808137",
   "metadata": {
    "id": "11808137"
   },
   "source": [
    "Ex1) root = create_linked_bst([10,5,15,3,7, 9, 18]); P1(root, 3, 9)\n",
    "- output: 15\n",
    "- explanation: 3,5,7 is within the range, so it returns the sum of 15. Numerically, 9 is within the range too, but when we search BST, 9 is the maximum value within the range, thus we only scan through the left subtree of the root."
   ]
  },
  {
   "cell_type": "markdown",
   "id": "e1690829",
   "metadata": {
    "id": "e1690829"
   },
   "source": [
    "Ex2) root = create_linked_bst([10,5,15,3,7, 9, 18]); P1(root, 3, 15)\n",
    "- output: 49\n",
    "- explanation: 3, 5, 7, 9, 10, 15 is within the range, so it returns the sum of 49. The maximum value within the range is 15 and it's bigger than the root node value. Thus, we should search both left and right subtrees, and 9 should be included in the sum."
   ]
  },
  {
   "cell_type": "markdown",
   "id": "c8e770dc",
   "metadata": {
    "id": "c8e770dc"
   },
   "source": [
    "Ex3) root = create_linked_bst ([10,5,15,3,7,13,18,1,None,6]); P1(root, 6, 10)\n",
    "- output: 23\n",
    "- explanation: 6, 7, 10 is within the range, so it should return the sum of 23."
   ]
  },
  {
   "cell_type": "markdown",
   "id": "378deec1",
   "metadata": {
    "id": "378deec1"
   },
   "source": [
    "#### Solution"
   ]
  },
  {
   "cell_type": "code",
   "execution_count": null,
   "id": "WWPeFH8z8r07",
   "metadata": {
    "id": "WWPeFH8z8r07"
   },
   "outputs": [],
   "source": [
    "# If you use colab, then run this code. No need to run for Jupyter Notebook user.\n",
    "# This code block will allow you to access to google drive from colab.\n",
    "\n",
    "# mount your google drive\n",
    "from google.colab import drive\n",
    "drive.mount('/content/drive')"
   ]
  },
  {
   "cell_type": "code",
   "execution_count": null,
   "id": "v4vZNIUs8-nh",
   "metadata": {
    "id": "v4vZNIUs8-nh"
   },
   "outputs": [],
   "source": [
    "# If you use colab, then run this code also. No need to run for Jupyter Notebook user.\n",
    "# BST_Helper.py should be in your google drive.\n",
    "# Check file tab in the left-side bar after mounting Google Drive, find appropriate folder path, and copy it from vertical ellipsis (dot dot dot)\n",
    "# If you can see 'BST_Helper.py' when you run this code block, you're ready to import BST_Helper.py!\n",
    "\n",
    "# move to the folder which contains BST_Helper.py file in Google Drive\n",
    "%cd 'path to the Google Drive folder where BST_Helper.py file exists'\n",
    "%ls"
   ]
  },
  {
   "cell_type": "code",
   "execution_count": 2,
   "id": "d605922c",
   "metadata": {
    "id": "d605922c"
   },
   "outputs": [],
   "source": [
    "import BST_Helper\n",
    "from BST_Helper import *"
   ]
  },
  {
   "cell_type": "code",
   "execution_count": null,
   "id": "78c884c3",
   "metadata": {
    "id": "78c884c3"
   },
   "outputs": [],
   "source": [
    "def P1(root: TreeNode, low: int, high: int) -> int:\n",
    "    ### Write you code here ###\n",
    "\n",
    "    #Base Case\n",
    "    if root == None :\n",
    "        return 0\n",
    "    #recursion\n",
    "    else :\n",
    "        #value 비교하며 더하기\n",
    "        if low <= root.val <= high :\n",
    "            ans += root.val + P1(root.left, low, high) + P1(root.right, low, high)\n",
    "        elif root.val < low :\n",
    "            ans += P1(root.right, low, high)\n",
    "        else :\n",
    "            ans += P1(root.left, low, high)\n",
    "        return ans\n",
    "    \n",
    "\n",
    "\n",
    "    ### End of your code ###"
   ]
  },
  {
   "cell_type": "code",
   "execution_count": null,
   "id": "d60cc017",
   "metadata": {
    "id": "d60cc017"
   },
   "outputs": [],
   "source": [
    "root = create_linked_bst([10,5,15,3,7, 9, 18])\n",
    "P1(root, 3, 9)"
   ]
  },
  {
   "cell_type": "code",
   "execution_count": null,
   "id": "31a8e9c7",
   "metadata": {
    "id": "31a8e9c7"
   },
   "outputs": [],
   "source": [
    "root = create_linked_bst([10,5,15,3,7, 9, 18])\n",
    "P1(root, 3, 15)"
   ]
  },
  {
   "cell_type": "code",
   "execution_count": null,
   "id": "881162f6",
   "metadata": {
    "id": "881162f6"
   },
   "outputs": [],
   "source": [
    "root = create_linked_bst ([10,5,15,3,7,13,18,1,None,6])\n",
    "P1(root, 6, 10)"
   ]
  },
  {
   "cell_type": "markdown",
   "id": "e076ca09",
   "metadata": {
    "id": "e076ca09"
   },
   "source": [
    "# 2.1 Directory Listing\n",
    "\n",
    "Implement a preorder traversal for directory listing.  \n",
    "* Each directory name is stored in a TreeNode below.\n"
   ]
  },
  {
   "cell_type": "code",
   "execution_count": null,
   "id": "9c47b820",
   "metadata": {
    "id": "9c47b820"
   },
   "outputs": [],
   "source": [
    "# TreeNode Definition\n",
    "class TreeNode():\n",
    "    def __init__(self, s: str, k: int):\n",
    "        self.name = s\n",
    "        self.ary = k\n",
    "        self.child = [None]*k"
   ]
  },
  {
   "cell_type": "code",
   "execution_count": null,
   "id": "ahead-defendant",
   "metadata": {
    "id": "ahead-defendant"
   },
   "outputs": [],
   "source": [
    "#Tree Construction\n",
    "t_root = TreeNode(\"/\", 10)\n",
    "t_root.child[0] = TreeNode(\"conda\",10)\n",
    "t_root.child[1] = TreeNode(\"idlerc\",10)\n",
    "t_root.child[2] = TreeNode(\"ipynb_checkpoints\",10)\n",
    "t_root.child[3] = TreeNode(\"ipython\",10)\n",
    "t_root.child[4] = TreeNode(\"jupyter\",10)\n",
    "t_root.child[5] = TreeNode(\"VirtualBox\",10)\n",
    "t_root.child[6] = TreeNode(\"3D Objects\",10)\n",
    "t_root.child[7] = TreeNode(\"anaconda3\",10)\n",
    "\n",
    "t_ipython = t_root.child[3]\n",
    "t_ipython.child[0] = TreeNode(\"extensions\",10)\n",
    "t_ipython.child[1] = TreeNode(\"nbextensions\",10)\n",
    "t_ipython.child[2] = TreeNode(\"profile_default\",10)\n",
    "t_default = t_ipython.child[2]\n",
    "t_default.child[0] = TreeNode(\"db\",10)\n",
    "t_default.child[1] = TreeNode(\"log\",10)\n",
    "t_default.child[2] = TreeNode(\"pid\",10)\n",
    "t_default.child[3] = TreeNode(\"security\",10)\n",
    "t_default.child[4] = TreeNode(\"startup\",10)\n",
    "\n",
    "t_jupyter = t_root.child[4]\n",
    "t_jupyter.child[0] = TreeNode(\"lab\",10)\n",
    "t_jupyter.child[1] = TreeNode(\"nbconfig\",10)\n",
    "t_jupyter.child[0].child[0] = TreeNode(\"workspace\",10)\n",
    "\n",
    "t_ana = t_root.child[7]\n",
    "t_ana.child[0] = TreeNode(\"bin\",10)\n",
    "t_ana.child[1] = TreeNode(\"conda-meta\",10)\n",
    "t_ana.child[2] = TreeNode(\"condabin\",10)\n",
    "t_ana.child[3] = TreeNode(\"DLLs\",10)\n",
    "t_ana.child[4] = TreeNode(\"etc\",10)\n",
    "t_etc = t_ana.child[4]\n",
    "t_etc.child[0] = TreeNode(\"fish\",10)\n",
    "t_etc.child[0].child[0] = TreeNode(\"conf.d\",10)\n",
    "t_etc.child[1] = TreeNode(\"jupyter\",10)\n",
    "t_etc.child[1].child[0] = TreeNode(\"jupyter_notebook_config.d\",10)\n",
    "t_etc.child[1].child[1] = TreeNode(\"nbconfig\",10)\n",
    "t_etc.child[1].child[1].child[0] = TreeNode(\"notebook.d\",10)\n",
    "t_etc.child[2] = TreeNode(\"profile.d\",10)"
   ]
  },
  {
   "cell_type": "code",
   "execution_count": null,
   "id": "hairy-unknown",
   "metadata": {
    "id": "hairy-unknown"
   },
   "outputs": [],
   "source": [
    "class Tree():\n",
    "    def __init__(self, root: TreeNode) -> None:\n",
    "        self.root = root\n",
    "\n",
    "    def visit(# Write Your Code Here):\n",
    "        # Write Your Code Here\n",
    "\n",
    "    def __DFT_preorderHelp(# Write Your Code Here):\n",
    "        # Write Your Code Here\n",
    "\n",
    "    def DFT_preorder(# Write Your Code Here):\n",
    "        # Write Your Code Here"
   ]
  },
  {
   "cell_type": "code",
   "execution_count": null,
   "id": "dominant-sucking",
   "metadata": {
    "colab": {
     "base_uri": "https://localhost:8080/"
    },
    "executionInfo": {
     "elapsed": 11,
     "status": "ok",
     "timestamp": 1697779037631,
     "user": {
      "displayName": "­한예규 / 학생 / 데이터사이언스학과",
      "userId": "05941801331185193821"
     },
     "user_tz": -540
    },
    "id": "dominant-sucking",
    "outputId": "00fc50dd-4ebb-4f01-dd04-812f87bcd5d8"
   },
   "outputs": [
    {
     "name": "stdout",
     "output_type": "stream",
     "text": [
      " /\n",
      "-- conda\n",
      "-- idlerc\n",
      "-- ipynb_checkpoints\n",
      "-- ipython\n",
      "---- extensions\n",
      "---- nbextensions\n",
      "---- profile_default\n",
      "------ db\n",
      "------ log\n",
      "------ pid\n",
      "------ security\n",
      "------ startup\n",
      "-- jupyter\n",
      "---- lab\n",
      "------ workspace\n",
      "---- nbconfig\n",
      "-- VirtualBox\n",
      "-- 3D Objects\n",
      "-- anaconda3\n",
      "---- bin\n",
      "---- conda-meta\n",
      "---- condabin\n",
      "---- DLLs\n",
      "---- etc\n",
      "------ fish\n",
      "-------- conf.d\n",
      "------ jupyter\n",
      "-------- jupyter_notebook_config.d\n",
      "-------- nbconfig\n",
      "---------- notebook.d\n",
      "------ profile.d\n"
     ]
    }
   ],
   "source": [
    "# Create a tree\n",
    "myTree = Tree(t_root)\n",
    "\n",
    "# Execute preorder DFT\n",
    "myTree.DFT_preorder()"
   ]
  },
  {
   "cell_type": "markdown",
   "id": "f145bd19",
   "metadata": {
    "id": "f145bd19"
   },
   "source": [
    "# 2.2 Deepest Leaves Sum\n",
    "Given the root of a binary tree, return the sum of values of its deepest leaves."
   ]
  },
  {
   "cell_type": "code",
   "execution_count": null,
   "id": "049ffc67",
   "metadata": {
    "id": "049ffc67"
   },
   "outputs": [],
   "source": [
    "# TreeNode Definition for Binary Tree\n",
    "class TreeNode:\n",
    "    def __init__(self, val=0, left=None, right=None):\n",
    "        self.val = val\n",
    "        self.left = left\n",
    "        self.right = right"
   ]
  },
  {
   "cell_type": "code",
   "execution_count": null,
   "id": "2553c694",
   "metadata": {
    "id": "2553c694"
   },
   "outputs": [],
   "source": [
    "# Tree Construction\n",
    "root = TreeNode(1)\n",
    "root.left = TreeNode(2)\n",
    "root.right = TreeNode(3)\n",
    "root.left.left = TreeNode(4)\n",
    "root.left.right = TreeNode(5)\n",
    "root.right.left = None\n",
    "root.right.right = TreeNode(6)\n",
    "root.left.left.left = TreeNode(7)\n",
    "root.left.left.right = None\n",
    "root.left.right.left = None\n",
    "root.left.right.right = None\n",
    "root.right.right.left = None\n",
    "root.right.right.right = TreeNode(8)"
   ]
  },
  {
   "cell_type": "code",
   "execution_count": null,
   "id": "d0107434",
   "metadata": {
    "id": "d0107434"
   },
   "outputs": [],
   "source": [
    "class Tree():\n",
    "    def __init__(self, root: TreeNode) -> None:\n",
    "        self.root = root\n",
    "\n",
    "    def deepestLeavesSum(self) -> None:\n",
    "        if self.root == None:\n",
    "            return\n",
    "\n",
    "        # Write Your Code Here\n",
    "\n",
    "\n",
    "\n",
    "        return deepestSum"
   ]
  },
  {
   "cell_type": "code",
   "execution_count": null,
   "id": "f9670519",
   "metadata": {
    "id": "f9670519",
    "outputId": "178ba1fd-252d-4ca7-a306-90480203c888"
   },
   "outputs": [
    {
     "data": {
      "text/plain": [
       "15"
      ]
     },
     "execution_count": 4,
     "metadata": {},
     "output_type": "execute_result"
    }
   ],
   "source": [
    "# Create a tree\n",
    "myTree = Tree(root)\n",
    "\n",
    "# Execute preorder DFT\n",
    "myTree.deepestLeavesSum()"
   ]
  }
 ],
 "metadata": {
  "colab": {
   "provenance": []
  },
  "kernelspec": {
   "display_name": "Python 3 (ipykernel)",
   "language": "python",
   "name": "python3"
  },
  "language_info": {
   "codemirror_mode": {
    "name": "ipython",
    "version": 3
   },
   "file_extension": ".py",
   "mimetype": "text/x-python",
   "name": "python",
   "nbconvert_exporter": "python",
   "pygments_lexer": "ipython3",
   "version": "3.11.7"
  }
 },
 "nbformat": 4,
 "nbformat_minor": 5
}
