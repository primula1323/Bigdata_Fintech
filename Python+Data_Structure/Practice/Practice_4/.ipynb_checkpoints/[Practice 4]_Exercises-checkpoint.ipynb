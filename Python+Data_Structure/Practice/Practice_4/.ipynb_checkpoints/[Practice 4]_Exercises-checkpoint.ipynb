{
 "cells": [
  {
   "cell_type": "markdown",
   "id": "gOBZDP6cRNXp",
   "metadata": {
    "id": "gOBZDP6cRNXp"
   },
   "source": [
    "# 1.1 Naive Word Processor"
   ]
  },
  {
   "cell_type": "code",
   "execution_count": 3,
   "id": "77uLJ75qwfsR",
   "metadata": {
    "id": "77uLJ75qwfsR"
   },
   "outputs": [],
   "source": [
    "from collections import deque\n",
    "\n",
    "class Naive_WordProcessor:\n",
    "    def __init__(self):\n",
    "      ########Do not modify########\n",
    "      self.stack = []\n",
    "      self.queue = deque([])\n",
    "      ############################\n",
    "    ### 내가 사용할 variables 정의하는 구간.\n",
    "\n",
    "    def addText(self, text: str) -> str:\n",
    "      ########Write your own code#########\n",
    "        for char in text :\n",
    "            self.stack.append(char)\n",
    "      ####################################\n",
    "        return \"\".join(self.stack) + '|' + \"\".join(self.queue)\n",
    "\n",
    "    def deleteText(self, k: int) -> str:\n",
    "      ########Write your own code#########\n",
    "        i = 0 # 몇 번 delete했나?\n",
    "        while self.stack and i < k :\n",
    "            self.stack.pop()\n",
    "            i += 1\n",
    "      ####################################\n",
    "        return \"\".join(self.stack) + '|' + \"\".join(self.queue)\n",
    "\n",
    "    def cursorLeft(self, k: int) -> str:\n",
    "      ########Write your own code#########\n",
    "        i = 0\n",
    "        while self.stack and i < k :\n",
    "            self.queue.appendleft()\n",
    "            i += 1\n",
    "      ####################################\n",
    "        return \"\".join(self.stack) + '|' + \"\".join(self.queue)\n",
    "\n",
    "    def cursorRight(self, k: int) -> str:\n",
    "      ########Write your own code#########\n",
    "        i = 0\n",
    "        while self.queue and i < k :\n",
    "            self.stack.append(self.queue.popleft())\n",
    "            i += 1\n",
    "      ####################################\n",
    "        return \"\".join(self.stack) + '|' + \"\".join(self.queue)"
   ]
  },
  {
   "cell_type": "code",
   "execution_count": 4,
   "id": "2CnQiOISw-Eg",
   "metadata": {
    "colab": {
     "base_uri": "https://localhost:8080/"
    },
    "executionInfo": {
     "elapsed": 5,
     "status": "ok",
     "timestamp": 1697121727994,
     "user": {
      "displayName": "­정지혜 / 학생 / 데이터사이언스학과",
      "userId": "18385305302286132298"
     },
     "user_tz": -540
    },
    "id": "2CnQiOISw-Eg",
    "outputId": "1b29af38-69fd-4f17-e9cf-72a04012bffd"
   },
   "outputs": [
    {
     "name": "stdout",
     "output_type": "stream",
     "text": [
      "I love python!|\n",
      "I love py|\n",
      "I love pypractice|\n"
     ]
    },
    {
     "ename": "TypeError",
     "evalue": "deque.appendleft() takes exactly one argument (0 given)",
     "output_type": "error",
     "traceback": [
      "\u001b[1;31m---------------------------------------------------------------------------\u001b[0m",
      "\u001b[1;31mTypeError\u001b[0m                                 Traceback (most recent call last)",
      "Cell \u001b[1;32mIn[4], line 6\u001b[0m\n\u001b[0;32m      4\u001b[0m \u001b[38;5;28mprint\u001b[39m(TE\u001b[38;5;241m.\u001b[39mdeleteText(\u001b[38;5;241m5\u001b[39m))\n\u001b[0;32m      5\u001b[0m \u001b[38;5;28mprint\u001b[39m(TE\u001b[38;5;241m.\u001b[39maddText(\u001b[38;5;124m'\u001b[39m\u001b[38;5;124mpractice\u001b[39m\u001b[38;5;124m'\u001b[39m))\n\u001b[1;32m----> 6\u001b[0m \u001b[38;5;28mprint\u001b[39m(\u001b[43mTE\u001b[49m\u001b[38;5;241;43m.\u001b[39;49m\u001b[43mcursorLeft\u001b[49m\u001b[43m(\u001b[49m\u001b[38;5;241;43m8\u001b[39;49m\u001b[43m)\u001b[49m)\n\u001b[0;32m      7\u001b[0m \u001b[38;5;28mprint\u001b[39m(TE\u001b[38;5;241m.\u001b[39mcursorRight(\u001b[38;5;241m10\u001b[39m))\n\u001b[0;32m      8\u001b[0m \u001b[38;5;28mprint\u001b[39m(TE\u001b[38;5;241m.\u001b[39mdeleteText(\u001b[38;5;241m10\u001b[39m))\n",
      "Cell \u001b[1;32mIn[3], line 31\u001b[0m, in \u001b[0;36mNaive_WordProcessor.cursorLeft\u001b[1;34m(self, k)\u001b[0m\n\u001b[0;32m     29\u001b[0m   i \u001b[38;5;241m=\u001b[39m \u001b[38;5;241m0\u001b[39m\n\u001b[0;32m     30\u001b[0m   \u001b[38;5;28;01mwhile\u001b[39;00m \u001b[38;5;28mself\u001b[39m\u001b[38;5;241m.\u001b[39mstack \u001b[38;5;129;01mand\u001b[39;00m i \u001b[38;5;241m<\u001b[39m k :\n\u001b[1;32m---> 31\u001b[0m       \u001b[38;5;28;43mself\u001b[39;49m\u001b[38;5;241;43m.\u001b[39;49m\u001b[43mqueue\u001b[49m\u001b[38;5;241;43m.\u001b[39;49m\u001b[43mappendleft\u001b[49m\u001b[43m(\u001b[49m\u001b[43m)\u001b[49m\n\u001b[0;32m     32\u001b[0m       i \u001b[38;5;241m+\u001b[39m\u001b[38;5;241m=\u001b[39m \u001b[38;5;241m1\u001b[39m\n\u001b[0;32m     33\u001b[0m \u001b[38;5;66;03m####################################\u001b[39;00m\n",
      "\u001b[1;31mTypeError\u001b[0m: deque.appendleft() takes exactly one argument (0 given)"
     ]
    }
   ],
   "source": [
    "# Given Example 1\n",
    "TE = Naive_WordProcessor()\n",
    "print(TE.addText('I love python!'))\n",
    "print(TE.deleteText(5))\n",
    "print(TE.addText('practice'))\n",
    "print(TE.cursorLeft(8))\n",
    "print(TE.cursorRight(10))\n",
    "print(TE.deleteText(10))"
   ]
  },
  {
   "cell_type": "code",
   "execution_count": null,
   "id": "EupDZknVTw6J",
   "metadata": {
    "colab": {
     "base_uri": "https://localhost:8080/"
    },
    "executionInfo": {
     "elapsed": 440,
     "status": "ok",
     "timestamp": 1697121733728,
     "user": {
      "displayName": "­정지혜 / 학생 / 데이터사이언스학과",
      "userId": "18385305302286132298"
     },
     "user_tz": -540
    },
    "id": "EupDZknVTw6J",
    "outputId": "58116bca-6f72-4653-bcbb-f7ce5555e4b2"
   },
   "outputs": [
    {
     "name": "stdout",
     "output_type": "stream",
     "text": [
      "Do you know BTS?|\n",
      "Do you know |\n",
      "Do you know IU?|\n",
      "Do you know| IU?\n",
      "Do you | IU?\n",
      "Do you love| IU?\n",
      "Do you love IU?|\n"
     ]
    }
   ],
   "source": [
    "# Given Example 2\n",
    "TE = Naive_WordProcessor()\n",
    "print(TE.addText('Do you know BTS?'))\n",
    "print(TE.deleteText(4))\n",
    "print(TE.addText('IU?'))\n",
    "print(TE.cursorLeft(4))\n",
    "print(TE.deleteText(4))\n",
    "print(TE.addText('love'))\n",
    "print(TE.cursorRight(6))"
   ]
  },
  {
   "cell_type": "code",
   "execution_count": null,
   "id": "F21aBS1oTxtr",
   "metadata": {
    "colab": {
     "base_uri": "https://localhost:8080/"
    },
    "executionInfo": {
     "elapsed": 3,
     "status": "ok",
     "timestamp": 1697121763779,
     "user": {
      "displayName": "­정지혜 / 학생 / 데이터사이언스학과",
      "userId": "18385305302286132298"
     },
     "user_tz": -540
    },
    "id": "F21aBS1oTxtr",
    "outputId": "f86948f6-d15d-431e-bc34-f7856bbdebf1"
   },
   "outputs": [
    {
     "name": "stdout",
     "output_type": "stream",
     "text": [
      "Today is Monday!|\n",
      "Today| is Monday!\n",
      "| is Monday!\n",
      "Tomorrow| is Monday!\n",
      "Tomorrow is Monday!|\n",
      "Tomorrow is Monday!Terrible!|\n"
     ]
    }
   ],
   "source": [
    "# Given Example 3\n",
    "TE = Naive_WordProcessor()\n",
    "print(TE.addText('Today is Monday!'))\n",
    "print(TE.cursorLeft(11))\n",
    "print(TE.deleteText(8))\n",
    "print(TE.addText('Tomorrow'))\n",
    "print(TE.cursorRight(20))\n",
    "print(TE.addText('Terrible!'))"
   ]
  }
 ],
 "metadata": {
  "colab": {
   "provenance": []
  },
  "kernelspec": {
   "display_name": "Python 3 (ipykernel)",
   "language": "python",
   "name": "python3"
  },
  "language_info": {
   "codemirror_mode": {
    "name": "ipython",
    "version": 3
   },
   "file_extension": ".py",
   "mimetype": "text/x-python",
   "name": "python",
   "nbconvert_exporter": "python",
   "pygments_lexer": "ipython3",
   "version": "3.12.2"
  }
 },
 "nbformat": 4,
 "nbformat_minor": 5
}
