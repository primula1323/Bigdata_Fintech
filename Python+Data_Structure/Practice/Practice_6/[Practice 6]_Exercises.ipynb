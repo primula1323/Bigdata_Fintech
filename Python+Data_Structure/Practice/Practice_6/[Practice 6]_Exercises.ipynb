{
 "cells": [
  {
   "cell_type": "markdown",
   "id": "0d1921ea-e5ae-4ba2-a64e-337de81dab0b",
   "metadata": {},
   "source": [
    "# Quiz"
   ]
  },
  {
   "cell_type": "markdown",
   "id": "990aafbd-0ba2-4709-ab71-f6f1ec77326d",
   "metadata": {},
   "source": [
    "Q1. \n",
    "Q2. \n",
    "Q3. \n",
    "Q4. \n",
    "Q5. "
   ]
  },
  {
   "cell_type": "markdown",
   "id": "pz0rVpAR9ZUf",
   "metadata": {
    "id": "pz0rVpAR9ZUf"
   },
   "source": [
    "# 1.1 Stack"
   ]
  },
  {
   "cell_type": "markdown",
   "id": "q9INvpLR9ZUf",
   "metadata": {
    "id": "q9INvpLR9ZUf"
   },
   "source": [
    "push(x): Add a LinkedNode that has val x to myStack  \n",
    "pop: Remove the most recently added LinkedNode from myStack  \n",
    "top: Return val of the most recently added LinkedNode  \n",
    "getSize: Return the number of LinkedNodes in myStack  \n",
    "isEmpty: Return True if myStack is empty, or False otherwise."
   ]
  },
  {
   "cell_type": "code",
   "execution_count": null,
   "id": "a2xIR4I69ZUg",
   "metadata": {
    "id": "a2xIR4I69ZUg",
    "tags": []
   },
   "outputs": [],
   "source": [
    "class LinkedNode():\n",
    "    def __init__(self,x):\n",
    "        self.val = x\n",
    "        self.next = None\n",
    "\n",
    "class myStack():\n",
    "    def __init__(self)->None:\n",
    "        self.sentinel = LinkedNode(0)\n",
    "        self.size = 0\n",
    "        \n",
    "    def push(self, x:int)->None:\n",
    "        ##### Write your Code Here #####\n",
    "        curNode = self.sentinel.next\n",
    "        LinkedNode\n",
    "        ################################\n",
    "        \n",
    "    def pop(self)->None:\n",
    "        ##### Write your Code Here #####\n",
    "        self.size -= 1\n",
    "        popNode = self.sentinel.next\n",
    "        ################################\n",
    "\n",
    "    def top(self)->None:\n",
    "        ##### Write your Code Here #####\n",
    "            \n",
    "        ################################\n",
    "\n",
    "    def getSize(self)->int:\n",
    "         ##### Write your Code Here #####\n",
    "        return self.size\n",
    "         ################################\n",
    "\n",
    "    def isEmpty(self)->bool:\n",
    "        ##### Write your Code Here #####\n",
    "        if self.size == 0 :\n",
    "            return True\n",
    "        return False\n",
    "        ################################"
   ]
  },
  {
   "cell_type": "code",
   "execution_count": null,
   "id": "YRjWz5ls9ZUh",
   "metadata": {
    "id": "YRjWz5ls9ZUh",
    "tags": []
   },
   "outputs": [],
   "source": [
    "s = myStack()"
   ]
  },
  {
   "cell_type": "code",
   "execution_count": null,
   "id": "gzYTu59-9ZUh",
   "metadata": {
    "colab": {
     "base_uri": "https://localhost:8080/"
    },
    "executionInfo": {
     "elapsed": 5,
     "status": "ok",
     "timestamp": 1696245165907,
     "user": {
      "displayName": "­정지혜 / 학생 / 데이터사이언스학과",
      "userId": "18385305302286132298"
     },
     "user_tz": -540
    },
    "id": "gzYTu59-9ZUh",
    "outputId": "cb15a90a-d84f-413f-e251-9000f15e867e",
    "tags": []
   },
   "outputs": [
    {
     "name": "stdout",
     "output_type": "stream",
     "text": [
      "False 1 10\n",
      "True 0 None\n"
     ]
    }
   ],
   "source": [
    "s.push(10)\n",
    "print(s.isEmpty(), s.getSize(), s.top())\n",
    "s.pop()\n",
    "print(s.isEmpty(), s.getSize(), s.top())"
   ]
  },
  {
   "cell_type": "markdown",
   "id": "c6f723d7-d2f1-4b6e-9623-26da8c6142e7",
   "metadata": {},
   "source": [
    "False 1 10\n",
    "True 0 None"
   ]
  },
  {
   "cell_type": "markdown",
   "id": "YMPHMl5J9ZUi",
   "metadata": {
    "id": "YMPHMl5J9ZUi"
   },
   "source": [
    "# 1.2 Reversing SLL"
   ]
  },
  {
   "cell_type": "markdown",
   "id": "sgdBwNQo9ZUi",
   "metadata": {
    "id": "sgdBwNQo9ZUi"
   },
   "source": [
    "※ Space complexity should be O(1)  \n",
    "(Generating new LinkedLists or lists is not allowed)"
   ]
  },
  {
   "cell_type": "code",
   "execution_count": null,
   "id": "lTdCGhc49ZUj",
   "metadata": {
    "id": "lTdCGhc49ZUj"
   },
   "outputs": [],
   "source": [
    "class ListNode:\n",
    "    def __init__(self, val=0, next=None):\n",
    "        self.val = val\n",
    "        self.next = next"
   ]
  },
  {
   "cell_type": "code",
   "execution_count": null,
   "id": "ciRBsqcR9ZUj",
   "metadata": {
    "id": "ciRBsqcR9ZUj"
   },
   "outputs": [],
   "source": [
    "# converting list form into a singly linked list\n",
    "def create_linked_list(l: list) -> ListNode:\n",
    "    if len(l) == 0:\n",
    "        return None\n",
    "\n",
    "    start = ListNode(l[0])\n",
    "    node = start\n",
    "\n",
    "    for i in range(1, len(l)):\n",
    "        node_new = ListNode(l[i])\n",
    "        node.next = node_new\n",
    "        node = node_new\n",
    "\n",
    "    return start\n",
    "\n",
    "# printing linked-list in form of a list\n",
    "def print_linked_list(n: ListNode, l: list) -> None:\n",
    "    if n is not None:\n",
    "        l.append(n.val)\n",
    "        print_linked_list(n.next, l)\n",
    "    else:\n",
    "        print(l)\n",
    "\n",
    "\n",
    "def reverse_SSL(head: ListNode) -> ListNode:\n",
    "    ##### Write your Code Here #####\n",
    "\n",
    "    return\n",
    "    ################################"
   ]
  },
  {
   "cell_type": "code",
   "execution_count": null,
   "id": "W0IY8Azn9ZUj",
   "metadata": {
    "colab": {
     "base_uri": "https://localhost:8080/"
    },
    "executionInfo": {
     "elapsed": 374,
     "status": "ok",
     "timestamp": 1696245135408,
     "user": {
      "displayName": "­정지혜 / 학생 / 데이터사이언스학과",
      "userId": "18385305302286132298"
     },
     "user_tz": -540
    },
    "id": "W0IY8Azn9ZUj",
    "outputId": "afcea17a-b7fb-4554-f7fc-dbdefd968387"
   },
   "outputs": [
    {
     "name": "stdout",
     "output_type": "stream",
     "text": [
      "[3, 1, 2, 4]\n"
     ]
    }
   ],
   "source": [
    "l1 =  create_linked_list([4,2,1,3])\n",
    "print_linked_list(reverse_SSL(l1),[])"
   ]
  }
 ],
 "metadata": {
  "colab": {
   "provenance": []
  },
  "kernelspec": {
   "display_name": "Python 3 (ipykernel)",
   "language": "python",
   "name": "python3"
  },
  "language_info": {
   "codemirror_mode": {
    "name": "ipython",
    "version": 3
   },
   "file_extension": ".py",
   "mimetype": "text/x-python",
   "name": "python",
   "nbconvert_exporter": "python",
   "pygments_lexer": "ipython3",
   "version": "3.12.2"
  }
 },
 "nbformat": 4,
 "nbformat_minor": 5
}
