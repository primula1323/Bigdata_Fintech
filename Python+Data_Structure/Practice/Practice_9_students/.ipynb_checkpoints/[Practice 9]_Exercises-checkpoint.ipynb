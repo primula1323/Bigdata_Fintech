{
 "cells": [
  {
   "cell_type": "markdown",
   "id": "05575511-af86-4943-b119-6073159f86a0",
   "metadata": {
    "id": "05575511-af86-4943-b119-6073159f86a0"
   },
   "source": [
    "# 1.1 Number of Islands in a Graph\n",
    "\n",
    "The following code is a DFT (Depth-First Traversal) preorder code.\n",
    "Let's create a code to find out 'how many disjoint islands exist in the graph.'\n",
    "You can achieve this by making the appropriate modifications to the given code."
   ]
  },
  {
   "cell_type": "code",
   "execution_count": 8,
   "id": "34afaa10-2e8f-496b-9600-f2c9bea9fcf4",
   "metadata": {
    "id": "34afaa10-2e8f-496b-9600-f2c9bea9fcf4"
   },
   "outputs": [],
   "source": [
    "class _undi_graph():\n",
    "    def __init__(self, V:list, E:list) -> None:\n",
    "        self.V = V[:]\n",
    "        self.neighbor = {}\n",
    "        for v in V :\n",
    "            self.neighbor[v] = []\n",
    "        for (v,w) in E:\n",
    "            self.neighbor[v].append(w)\n",
    "            self.neighbor[w].append(v)\n",
    "\n",
    "    def __DFTHelp(self, visited:list, v : int) -> None:\n",
    "        if not visited[v]:\n",
    "            visited[v] = True\n",
    "            print(v)\n",
    "            for w in self.neighbor[v]:\n",
    "                self.__DFTHelp(visited, w)\n",
    "\n",
    "    def DFT(self) -> None:\n",
    "        count = 0\n",
    "        if self.V:\n",
    "            visited = {}\n",
    "            for v in self.V:\n",
    "                visited[v] = False\n",
    "        for v in self.V:\n",
    "            if not visited[v]:\n",
    "                count += 1\n",
    "                self.__DFTHelp(visited,v)\n",
    "        return count"
   ]
  },
  {
   "cell_type": "markdown",
   "id": "45a5a982",
   "metadata": {
    "id": "45a5a982"
   },
   "source": [
    "**Test Case**"
   ]
  },
  {
   "cell_type": "code",
   "execution_count": 9,
   "id": "4cc82b60",
   "metadata": {
    "id": "4cc82b60",
    "outputId": "b7c53dd4-af8b-432f-cf4f-30293d65d0af"
   },
   "outputs": [
    {
     "name": "stdout",
     "output_type": "stream",
     "text": [
      "a\n",
      "b\n",
      "c\n",
      "d\n",
      "g\n",
      "e\n",
      "i\n",
      "f\n",
      "h\n",
      "Dijoint Islands 개수: 3\n"
     ]
    }
   ],
   "source": [
    "# 답 : 3\n",
    "V = ['a','b','c','d','e','f','g','h','i']\n",
    "E = [('a','b'),('a','c'),('a','d'),('b','c'),('c','d'),('c','e'),('c','g'),('d','g'),('e','i'),('g','e')]\n",
    "\n",
    "graph = _undi_graph(V,E)\n",
    "disjoint_islands = graph.DFT()\n",
    "print(\"Dijoint Islands 개수:\", disjoint_islands)"
   ]
  },
  {
   "cell_type": "code",
   "execution_count": 10,
   "id": "5d8a5824",
   "metadata": {
    "id": "5d8a5824",
    "outputId": "130e2cb3-6c9e-468b-d66f-196fe09e47c9"
   },
   "outputs": [
    {
     "name": "stdout",
     "output_type": "stream",
     "text": [
      "a\n",
      "b\n",
      "c\n",
      "d\n",
      "g\n",
      "e\n",
      "i\n",
      "f\n",
      "h\n",
      "j\n",
      "k\n",
      "Dijoint Islands 개수: 4\n"
     ]
    }
   ],
   "source": [
    "# 답 : 4\n",
    "V = ['a','b','c','d','e','f','g','h','i','j','k']\n",
    "E = [('a','b'),('a','c'),('a','d'),('b','c'),('c','d'),('c','e'),('c','g'),('d','g'),('e','i'),('g','e'),('j','k')]\n",
    "\n",
    "graph = _undi_graph(V,E)\n",
    "disjoint_islands = graph.DFT()\n",
    "print(\"Dijoint Islands 개수:\", disjoint_islands)"
   ]
  },
  {
   "cell_type": "code",
   "execution_count": 11,
   "id": "18019865",
   "metadata": {
    "id": "18019865",
    "outputId": "bc5be52c-ea9d-43a4-c0b4-8b8e6d744051"
   },
   "outputs": [
    {
     "name": "stdout",
     "output_type": "stream",
     "text": [
      "a\n",
      "b\n",
      "c\n",
      "d\n",
      "g\n",
      "e\n",
      "i\n",
      "f\n",
      "h\n",
      "j\n",
      "k\n",
      "l\n",
      "m\n",
      "n\n",
      "o\n",
      "p\n",
      "q\n",
      "r\n",
      "s\n",
      "t\n",
      "Dijoint Islands 개수: 7\n"
     ]
    }
   ],
   "source": [
    "# 답 : 7\n",
    "V = ['a', 'b', 'c', 'd', 'e', 'f', 'g', 'h', 'i', 'j', 'k', 'l', 'm', 'n', 'o', 'p', 'q', 'r', 's', 't']\n",
    "E = [('a','b'),('a','c'),('a','d'),('b','c'),('c','d'),('c','e'),('c','g'),('d','g'),('e','i'),('g','e'),\n",
    "     ('j','k'),('l','m'),('m','n'),('o','p'),('q','r'),('r','s'),('s','t')]\n",
    "\n",
    "graph = _undi_graph(V,E)\n",
    "disjoint_islands = graph.DFT()\n",
    "print(\"Dijoint Islands 개수:\", disjoint_islands)"
   ]
  },
  {
   "cell_type": "markdown",
   "id": "cd250472",
   "metadata": {
    "id": "cd250472"
   },
   "source": [
    "-------------------------------------------------------------------------------------------------------------------------------------------"
   ]
  },
  {
   "cell_type": "markdown",
   "id": "5afbb11d-76ac-46e5-99f8-1f190f89ad09",
   "metadata": {
    "id": "5afbb11d-76ac-46e5-99f8-1f190f89ad09"
   },
   "source": [
    "# 1.2 Number of Islands in a 2D Grid\n",
    "\n",
    "The M x N list, the grid, is received as an input to the function.<br>\n",
    "The elements in the list are made up of 1 or 0, where 1 is land and 0 is water.<br>\n",
    "At this time, an area connected to adjacent land and surrounded by water is called an island.<br>\n",
    "Implement a function that returns the number of islands.\n",
    "\n",
    "- M and N are natural numbers starting from 1.\n",
    "- Assume outside the list is water.\n",
    "- Adjacent is attached in one of four directions: upper, lower, left, and right, and the diagonal direction is not adjacent.\n",
    "- There is no land other than an island.\n",
    "\n",
    "\n",
    "M x N 리스트인 grid를 함수의 입력으로 받는다.<br>\n",
    "리스트의 원소는 1 또는 0으로 이루어져 있고, 1은 땅, 0은 물을 의미한다.<br>\n",
    "이 때, 인접한 땅으로 연결되어 있고, 물로 둘러 싸여 있는 지역을 섬이라고 하자.<br>\n",
    "섬의 개수를 return 하는 함수를 구현하라.\n",
    "\n",
    "  - M과 N은 1이상 자연수이다.\n",
    "  - 리스트 바깥은 물이라고 가정한다.\n",
    "  - 인접해 있다는 것은 상, 하, 좌, 우 네 방향 중 한 곳에서 붙어 있는 것이고, 대각선 방향은 인접해 있는 것이 아니다.\n",
    "  - 섬이 아닌 땅은 없다."
   ]
  },
  {
   "cell_type": "code",
   "execution_count": null,
   "id": "917cea5a",
   "metadata": {
    "id": "917cea5a"
   },
   "outputs": [],
   "source": [
    "from collections import deque\n",
    "\n",
    "class IslandCounter:\n",
    "    def __init__(self, grid):\n",
    "        self.grid = grid\n",
    "        self.rows = len(grid)\n",
    "        self.cols = len(grid[0])\n",
    "        self.visited = [[False for _ in range(self.cols)] for _ in range(self.rows)]\n",
    "        self.num_islands = 0\n",
    "\n",
    "\n",
    "    def dfs(self, i, j):\n",
    "        #########################################\n",
    "        # write your code\n",
    "        if i<0 or i>=self.rows or j<0 or j>=self.cols or self.grid[i][j] ===0 :\n",
    "            return \n",
    "        self.visited += True\n",
    "        self.dfs(i+1, j)\n",
    "        self.dfs(i, j+1)\n",
    "        self.dfs(i-1, j)\n",
    "        self.dfs(i, j-1)\n",
    "        #########################################\n",
    "\n",
    "    def islands_counter_dfs(self):\n",
    "        for i in range(self.rows):\n",
    "            for j in range(self.cols):\n",
    "                #########################################\n",
    "                # write your code\n",
    "                if self.grid[i][j] == 1 and self.visited[i][j] :\n",
    "                    self.num_islands += 1\n",
    "                    self.dfs(i, j)\n",
    "                #########################################\n",
    "\n",
    "        return self.num_islands\n",
    "\n",
    "\n",
    "    def islands_counter_bfs(self):\n",
    "        if not self.grid:\n",
    "            return 0\n",
    "\n",
    "        d_row = [1, -1, 0, 0] # \"상하\"좌우 방향으로 이동하기 위한 델타값\n",
    "        d_col = [0, 0, 1, -1] # 상하\"좌우\" 방향으로 이동하기 위한 델타값\n",
    "\n",
    "        for i in range(self.rows):\n",
    "            for j in range(self.cols):\n",
    "                #########################################\n",
    "                # write your code\n",
    "                if self.grid[i][j] == 1 :\n",
    "                    q = deque([i, j])\n",
    "                    self.num_island += 1\n",
    "                    while q :\n",
    "                        curr_row, curr_col = q.popleft()\n",
    "                        for d in range(4)#direction\n",
    "                            newR, newC = curr_row + d_row[d], curr_col + d_col[d]\n",
    "                            if 0 <= newR <self.row and 0 <= newC < self.col and self.grid[newR][newC]\n",
    "                            q.append\n",
    "                            self.grid[i][j] = 0\n",
    "                #########################################\n",
    "\n",
    "        return self.num_islands"
   ]
  },
  {
   "cell_type": "markdown",
   "id": "54cda015",
   "metadata": {
    "id": "54cda015"
   },
   "source": [
    "**Test Case**"
   ]
  },
  {
   "cell_type": "code",
   "execution_count": null,
   "id": "d8a0531f-8b52-4695-b5b4-dfbdf1f540ce",
   "metadata": {
    "id": "d8a0531f-8b52-4695-b5b4-dfbdf1f540ce",
    "outputId": "37a2de39-689d-4fcb-aaa3-6d0634437787"
   },
   "outputs": [
    {
     "name": "stdout",
     "output_type": "stream",
     "text": [
      "Number of islands using DFS: 1\n",
      "Number of islands using BFS: 1\n"
     ]
    }
   ],
   "source": [
    "# 1\n",
    "grid = [\n",
    "    [1,1,1,1,0],\n",
    "    [1,0,0,1,0],\n",
    "    [1,1,0,1,0],\n",
    "    [1,1,0,0,0]\n",
    "    ]\n",
    "\n",
    "island_counter_for_dfs = IslandCounter(grid)\n",
    "island_counter_for_bfs = IslandCounter(grid)\n",
    "\n",
    "dfs_result = island_counter_for_dfs.islands_counter_dfs()\n",
    "bfs_result = island_counter_for_bfs.islands_counter_bfs()\n",
    "print(f\"Number of islands using DFS: {dfs_result}\\nNumber of islands using BFS: {bfs_result}\")"
   ]
  },
  {
   "cell_type": "code",
   "execution_count": null,
   "id": "09a0d9b4",
   "metadata": {
    "id": "09a0d9b4",
    "outputId": "2a717406-e26c-4c92-a6e6-1c00f94d6ebd"
   },
   "outputs": [
    {
     "name": "stdout",
     "output_type": "stream",
     "text": [
      "Number of islands using DFS: 1\n",
      "Number of islands using BFS: 1\n"
     ]
    }
   ],
   "source": [
    "# 1\n",
    "grid = [\n",
    "    [1,1,1,1,1],\n",
    "    [1,1,1,1,1],\n",
    "    [1,1,1,1,1],\n",
    "    [1,1,1,1,1]\n",
    "    ]\n",
    "\n",
    "island_counter_for_dfs = IslandCounter(grid)\n",
    "island_counter_for_bfs = IslandCounter(grid)\n",
    "\n",
    "dfs_result = island_counter_for_dfs.islands_counter_dfs()\n",
    "bfs_result = island_counter_for_bfs.islands_counter_bfs()\n",
    "print(f\"Number of islands using DFS: {dfs_result}\\nNumber of islands using BFS: {bfs_result}\")"
   ]
  },
  {
   "cell_type": "code",
   "execution_count": null,
   "id": "3642a34d",
   "metadata": {
    "id": "3642a34d",
    "outputId": "b40dd737-6ec6-45a3-f860-23a56dc53dc7"
   },
   "outputs": [
    {
     "name": "stdout",
     "output_type": "stream",
     "text": [
      "Number of islands using DFS: 0\n",
      "Number of islands using BFS: 0\n"
     ]
    }
   ],
   "source": [
    "# 0\n",
    "grid = [\n",
    "    [0,0,0,0,0],\n",
    "    [0,0,0,0,0],\n",
    "    [0,0,0,0,0],\n",
    "    [0,0,0,0,0]\n",
    "    ]\n",
    "\n",
    "island_counter_for_dfs = IslandCounter(grid)\n",
    "island_counter_for_bfs = IslandCounter(grid)\n",
    "\n",
    "dfs_result = island_counter_for_dfs.islands_counter_dfs()\n",
    "bfs_result = island_counter_for_bfs.islands_counter_bfs()\n",
    "print(f\"Number of islands using DFS: {dfs_result}\\nNumber of islands using BFS: {bfs_result}\")"
   ]
  },
  {
   "cell_type": "code",
   "execution_count": null,
   "id": "b76628e7",
   "metadata": {
    "id": "b76628e7",
    "outputId": "509fcf1d-a239-4aa0-a10d-78fed4db6c39"
   },
   "outputs": [
    {
     "name": "stdout",
     "output_type": "stream",
     "text": [
      "Number of islands using DFS: 4\n",
      "Number of islands using BFS: 4\n"
     ]
    }
   ],
   "source": [
    "# 4\n",
    "grid = [\n",
    "    [1,0,0,0,1],\n",
    "    [1,1,0,0,0],\n",
    "    [0,0,0,1,1],\n",
    "    [0,1,0,1,0]\n",
    "    ]\n",
    "\n",
    "island_counter_for_dfs = IslandCounter(grid)\n",
    "island_counter_for_bfs = IslandCounter(grid)\n",
    "\n",
    "dfs_result = island_counter_for_dfs.islands_counter_dfs()\n",
    "bfs_result = island_counter_for_bfs.islands_counter_bfs()\n",
    "print(f\"Number of islands using DFS: {dfs_result}\\nNumber of islands using BFS: {bfs_result}\")"
   ]
  },
  {
   "cell_type": "code",
   "execution_count": null,
   "id": "bc5b202b",
   "metadata": {
    "id": "bc5b202b",
    "outputId": "cf04fe81-dc19-4209-8c24-c3f7ea03d7fe"
   },
   "outputs": [
    {
     "name": "stdout",
     "output_type": "stream",
     "text": [
      "Number of islands using DFS: 2\n",
      "Number of islands using BFS: 2\n"
     ]
    }
   ],
   "source": [
    "# 2\n",
    "grid = [\n",
    "    [1],\n",
    "    [0],\n",
    "    [1],\n",
    "    [1]\n",
    "    ]\n",
    "\n",
    "island_counter_for_dfs = IslandCounter(grid)\n",
    "island_counter_for_bfs = IslandCounter(grid)\n",
    "\n",
    "dfs_result = island_counter_for_dfs.islands_counter_dfs()\n",
    "bfs_result = island_counter_for_bfs.islands_counter_bfs()\n",
    "print(f\"Number of islands using DFS: {dfs_result}\\nNumber of islands using BFS: {bfs_result}\")"
   ]
  },
  {
   "cell_type": "code",
   "execution_count": null,
   "id": "2f1503c1",
   "metadata": {
    "id": "2f1503c1",
    "outputId": "c99d4b41-ea6d-40ef-cc2d-424ca6b24cf2"
   },
   "outputs": [
    {
     "name": "stdout",
     "output_type": "stream",
     "text": [
      "Number of islands using DFS: 2\n",
      "Number of islands using BFS: 2\n"
     ]
    }
   ],
   "source": [
    "# 2\n",
    "grid = [[1,0,0,0,1]]\n",
    "\n",
    "island_counter_for_dfs = IslandCounter(grid)\n",
    "island_counter_for_bfs = IslandCounter(grid)\n",
    "\n",
    "dfs_result = island_counter_for_dfs.islands_counter_dfs()\n",
    "bfs_result = island_counter_for_bfs.islands_counter_bfs()\n",
    "print(f\"Number of islands using DFS: {dfs_result}\\nNumber of islands using BFS: {bfs_result}\")"
   ]
  }
 ],
 "metadata": {
  "colab": {
   "provenance": []
  },
  "kernelspec": {
   "display_name": "Python 3 (ipykernel)",
   "language": "python",
   "name": "python3"
  },
  "language_info": {
   "codemirror_mode": {
    "name": "ipython",
    "version": 3
   },
   "file_extension": ".py",
   "mimetype": "text/x-python",
   "name": "python",
   "nbconvert_exporter": "python",
   "pygments_lexer": "ipython3",
   "version": "3.11.7"
  }
 },
 "nbformat": 4,
 "nbformat_minor": 5
}
