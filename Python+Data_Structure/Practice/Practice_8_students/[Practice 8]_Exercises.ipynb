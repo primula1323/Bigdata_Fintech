{
 "cells": [
  {
   "cell_type": "markdown",
   "id": "e076ca09",
   "metadata": {
    "id": "e076ca09"
   },
   "source": [
    "## 1.1 Directory Listing\n",
    "\n",
    "Implement a preorder traversal for directory listing.  \n",
    "* Each directory name is stored in a TreeNode below.\n"
   ]
  },
  {
   "cell_type": "code",
   "execution_count": 1,
   "id": "9c47b820",
   "metadata": {
    "id": "9c47b820"
   },
   "outputs": [],
   "source": [
    "# TreeNode Definition\n",
    "class TreeNode():\n",
    "    def __init__(self, s: str, k: int):\n",
    "        self.name = s\n",
    "        self.ary = k\n",
    "        self.child = [None]*k"
   ]
  },
  {
   "cell_type": "code",
   "execution_count": 2,
   "id": "ahead-defendant",
   "metadata": {
    "id": "ahead-defendant"
   },
   "outputs": [],
   "source": [
    "#Tree Construction\n",
    "t_root = TreeNode(\"/\", 10)\n",
    "t_root.child[0] = TreeNode(\"conda\",10)\n",
    "t_root.child[1] = TreeNode(\"idlerc\",10)\n",
    "t_root.child[2] = TreeNode(\"ipynb_checkpoints\",10)\n",
    "t_root.child[3] = TreeNode(\"ipython\",10)\n",
    "t_root.child[4] = TreeNode(\"jupyter\",10)\n",
    "t_root.child[5] = TreeNode(\"VirtualBox\",10)\n",
    "t_root.child[6] = TreeNode(\"3D Objects\",10)\n",
    "t_root.child[7] = TreeNode(\"anaconda3\",10)\n",
    "\n",
    "t_ipython = t_root.child[3]\n",
    "t_ipython.child[0] = TreeNode(\"extensions\",10)\n",
    "t_ipython.child[1] = TreeNode(\"nbextensions\",10)\n",
    "t_ipython.child[2] = TreeNode(\"profile_default\",10)\n",
    "t_default = t_ipython.child[2]\n",
    "t_default.child[0] = TreeNode(\"db\",10)\n",
    "t_default.child[1] = TreeNode(\"log\",10)\n",
    "t_default.child[2] = TreeNode(\"pid\",10)\n",
    "t_default.child[3] = TreeNode(\"security\",10)\n",
    "t_default.child[4] = TreeNode(\"startup\",10)\n",
    "\n",
    "t_jupyter = t_root.child[4]\n",
    "t_jupyter.child[0] = TreeNode(\"lab\",10)\n",
    "t_jupyter.child[1] = TreeNode(\"nbconfig\",10)\n",
    "t_jupyter.child[0].child[0] = TreeNode(\"workspace\",10)\n",
    "\n",
    "t_ana = t_root.child[7]\n",
    "t_ana.child[0] = TreeNode(\"bin\",10)\n",
    "t_ana.child[1] = TreeNode(\"conda-meta\",10)\n",
    "t_ana.child[2] = TreeNode(\"condabin\",10)\n",
    "t_ana.child[3] = TreeNode(\"DLLs\",10)\n",
    "t_ana.child[4] = TreeNode(\"etc\",10)\n",
    "t_etc = t_ana.child[4]\n",
    "t_etc.child[0] = TreeNode(\"fish\",10)\n",
    "t_etc.child[0].child[0] = TreeNode(\"conf.d\",10)\n",
    "t_etc.child[1] = TreeNode(\"jupyter\",10)\n",
    "t_etc.child[1].child[0] = TreeNode(\"jupyter_notebook_config.d\",10)\n",
    "t_etc.child[1].child[1] = TreeNode(\"nbconfig\",10)\n",
    "t_etc.child[1].child[1].child[0] = TreeNode(\"notebook.d\",10)\n",
    "t_etc.child[2] = TreeNode(\"profile.d\",10)"
   ]
  },
  {
   "cell_type": "code",
   "execution_count": 9,
   "id": "hairy-unknown",
   "metadata": {
    "id": "hairy-unknown"
   },
   "outputs": [],
   "source": [
    "class Tree():\n",
    "    def __init__(self, root: TreeNode) -> None:\n",
    "        self.root = root\n",
    "\n",
    "    def visit(self, node : TreeNode, depth : int):\n",
    "        # Write Your Code Here\n",
    "        print('--'*depth, node.name)\n",
    "\n",
    "    def __DFT_preorderHelp(self, curNode : TreeNode, depth : int):\n",
    "        # Write Your Code Here\n",
    "        #base case\n",
    "        if curNode == None :\n",
    "            return\n",
    "\n",
    "        self.visit(curNode, depth)\n",
    "        depth += 1\n",
    "        \n",
    "        for child in curNode.child :\n",
    "            self.__DFT_preorderHelp(child, depth)\n",
    "\n",
    "    def DFT_preorder(self):\n",
    "        # Write Your Code Here\n",
    "        self.__DFT_preorderHelp(self.root, 0)"
   ]
  },
  {
   "cell_type": "code",
   "execution_count": 10,
   "id": "dominant-sucking",
   "metadata": {
    "colab": {
     "base_uri": "https://localhost:8080/"
    },
    "executionInfo": {
     "elapsed": 11,
     "status": "ok",
     "timestamp": 1697779037631,
     "user": {
      "displayName": "­한예규 / 학생 / 데이터사이언스학과",
      "userId": "05941801331185193821"
     },
     "user_tz": -540
    },
    "id": "dominant-sucking",
    "outputId": "00fc50dd-4ebb-4f01-dd04-812f87bcd5d8"
   },
   "outputs": [
    {
     "name": "stdout",
     "output_type": "stream",
     "text": [
      " /\n",
      "-- conda\n",
      "-- idlerc\n",
      "-- ipynb_checkpoints\n",
      "-- ipython\n",
      "---- extensions\n",
      "---- nbextensions\n",
      "---- profile_default\n",
      "------ db\n",
      "------ log\n",
      "------ pid\n",
      "------ security\n",
      "------ startup\n",
      "-- jupyter\n",
      "---- lab\n",
      "------ workspace\n",
      "---- nbconfig\n",
      "-- VirtualBox\n",
      "-- 3D Objects\n",
      "-- anaconda3\n",
      "---- bin\n",
      "---- conda-meta\n",
      "---- condabin\n",
      "---- DLLs\n",
      "---- etc\n",
      "------ fish\n",
      "-------- conf.d\n",
      "------ jupyter\n",
      "-------- jupyter_notebook_config.d\n",
      "-------- nbconfig\n",
      "---------- notebook.d\n",
      "------ profile.d\n"
     ]
    }
   ],
   "source": [
    "# Create a tree\n",
    "myTree = Tree(t_root)\n",
    "\n",
    "# Execute preorder DFT : DFT는 보통 큐\n",
    "myTree.DFT_preorder()"
   ]
  },
  {
   "cell_type": "markdown",
   "id": "f145bd19",
   "metadata": {
    "id": "f145bd19"
   },
   "source": [
    "# 1.2 Deepest Leaves Sum\n",
    "Given the root of a binary tree, return the sum of values of its deepest leaves."
   ]
  },
  {
   "cell_type": "code",
   "execution_count": 11,
   "id": "049ffc67",
   "metadata": {
    "id": "049ffc67"
   },
   "outputs": [],
   "source": [
    "# TreeNode Definition for Binary Tree\n",
    "class TreeNode:\n",
    "    def __init__(self, val=0, left=None, right=None):\n",
    "        self.val = val\n",
    "        self.left = left\n",
    "        self.right = right"
   ]
  },
  {
   "cell_type": "code",
   "execution_count": 12,
   "id": "2553c694",
   "metadata": {
    "id": "2553c694"
   },
   "outputs": [],
   "source": [
    "# Tree Construction\n",
    "root = TreeNode(1)\n",
    "root.left = TreeNode(2)\n",
    "root.right = TreeNode(3)\n",
    "root.left.left = TreeNode(4)\n",
    "root.left.right = TreeNode(5)\n",
    "root.right.left = None\n",
    "root.right.right = TreeNode(6)\n",
    "root.left.left.left = TreeNode(7)\n",
    "root.left.left.right = None\n",
    "root.left.right.left = None\n",
    "root.left.right.right = None\n",
    "root.right.right.left = None\n",
    "root.right.right.right = TreeNode(8)"
   ]
  },
  {
   "cell_type": "code",
   "execution_count": 15,
   "id": "d0107434",
   "metadata": {
    "id": "d0107434"
   },
   "outputs": [],
   "source": [
    "class Tree():\n",
    "    def __init__(self, root: TreeNode) -> None:\n",
    "        self.root = root\n",
    "\n",
    "    def deepestLeavesSum(self) -> None:\n",
    "        if self.root == None:\n",
    "            return\n",
    "\n",
    "        # Write Your Code Here\n",
    "        stack = [self.root] #stack\n",
    "        nextS = []\n",
    "        count = 0\n",
    "\n",
    "        while stack :\n",
    "            for node in stack :\n",
    "                for child in [node.left, node.right] : #for child loop\n",
    "                    if child :\n",
    "                        nextS.append(child)\n",
    "                if len(nextS) != 0 :\n",
    "                    stack, nextS = nextS, []\n",
    "                else :\n",
    "                    for node in stack :\n",
    "                        deepestSum += node.val \n",
    "                    return deepestSum"
   ]
  },
  {
   "cell_type": "code",
   "execution_count": 16,
   "id": "f9670519",
   "metadata": {
    "id": "f9670519",
    "outputId": "178ba1fd-252d-4ca7-a306-90480203c888"
   },
   "outputs": [
    {
     "ename": "UnboundLocalError",
     "evalue": "cannot access local variable 'deepestSum' where it is not associated with a value",
     "output_type": "error",
     "traceback": [
      "\u001b[0;31m---------------------------------------------------------------------------\u001b[0m",
      "\u001b[0;31mUnboundLocalError\u001b[0m                         Traceback (most recent call last)",
      "Cell \u001b[0;32mIn[16], line 5\u001b[0m\n\u001b[1;32m      2\u001b[0m myTree \u001b[38;5;241m=\u001b[39m Tree(root)\n\u001b[1;32m      4\u001b[0m \u001b[38;5;66;03m# Execute preorder DFT\u001b[39;00m\n\u001b[0;32m----> 5\u001b[0m myTree\u001b[38;5;241m.\u001b[39mdeepestLeavesSum()\n",
      "Cell \u001b[0;32mIn[15], line 22\u001b[0m, in \u001b[0;36mTree.deepestLeavesSum\u001b[0;34m(self)\u001b[0m\n\u001b[1;32m     20\u001b[0m     stack, nextS \u001b[38;5;241m=\u001b[39m nextS, []\n\u001b[1;32m     21\u001b[0m \u001b[38;5;28;01melse\u001b[39;00m :\n\u001b[0;32m---> 22\u001b[0m     \u001b[38;5;28;01mfor\u001b[39;00m node \u001b[38;5;129;01min\u001b[39;00m stack :\n\u001b[1;32m     23\u001b[0m         deepestSum \u001b[38;5;241m+\u001b[39m\u001b[38;5;241m=\u001b[39m node\u001b[38;5;241m.\u001b[39mval \n\u001b[1;32m     24\u001b[0m     \u001b[38;5;28;01mreturn\u001b[39;00m deepestSum\n",
      "\u001b[0;31mUnboundLocalError\u001b[0m: cannot access local variable 'deepestSum' where it is not associated with a value"
     ]
    }
   ],
   "source": [
    "# Create a tree\n",
    "myTree = Tree(root)\n",
    "\n",
    "# Execute preorder DFT\n",
    "myTree.deepestLeavesSum()"
   ]
  },
  {
   "cell_type": "markdown",
   "id": "5afbb11d-76ac-46e5-99f8-1f190f89ad09",
   "metadata": {
    "id": "5afbb11d-76ac-46e5-99f8-1f190f89ad09"
   },
   "source": [
    "# 2.1 BFT (Breadth-first Traversal)\n",
    "\n",
    "### Implement BFT for graph\n",
    "*  implementation of a graph given"
   ]
  },
  {
   "cell_type": "code",
   "execution_count": 17,
   "id": "efe2a389-a274-4f1c-9c60-5c261410f123",
   "metadata": {
    "id": "efe2a389-a274-4f1c-9c60-5c261410f123"
   },
   "outputs": [],
   "source": [
    "from collections import deque\n",
    "\n",
    "class undi_graph():\n",
    "    def __init__(self, V: list, E:list) -> None :\n",
    "        self.V = V[:]\n",
    "        self.neighbors = {}\n",
    "\n",
    "        for v in V:\n",
    "            self.neighbors[v] = []\n",
    "\n",
    "        for(v,w) in E:\n",
    "            self.neighbors[v].append(w)\n",
    "            self.neighbors[w].append(v)\n",
    "\n",
    "    def BFT(self) -> None :\n",
    "        if self.V :\n",
    "            visited = {}\n",
    "            #######################################\n",
    "            # write your code\n",
    "            #initialization\n",
    "            for v in self.V :\n",
    "                visited[v] = False\n",
    "\n",
    "            q = deque()\n",
    "            for v in self.V :\n",
    "                q.append(v)\n",
    "            while q :\n",
    "                v = q.popleft()\n",
    "                if not visited[v] :\n",
    "                    visited[v] = True \n",
    "                    print(v, end = \" \")\n",
    "                    for w in self.neighbors[v] :\n",
    "                        q.append(w)\n",
    "                    \n",
    "            #######################################"
   ]
  },
  {
   "cell_type": "code",
   "execution_count": 18,
   "id": "d8a0531f-8b52-4695-b5b4-dfbdf1f540ce",
   "metadata": {
    "id": "d8a0531f-8b52-4695-b5b4-dfbdf1f540ce",
    "outputId": "61f98f11-51d6-48fd-9f62-38ff354a02ab"
   },
   "outputs": [
    {
     "name": "stdout",
     "output_type": "stream",
     "text": [
      "0 1 2 3 4 5 6 7 8 9 "
     ]
    }
   ],
   "source": [
    "V = [0,1,2,3,4,5,6,7,8,9]\n",
    "E = [(0,1),(1,4),(1,5),(2,3),(4,6),(5,6),(5,7),(6,9),(7,8)]\n",
    "\n",
    "graph = undi_graph(V,E)\n",
    "graph.BFT()"
   ]
  },
  {
   "cell_type": "markdown",
   "id": "05575511-af86-4943-b119-6073159f86a0",
   "metadata": {
    "id": "05575511-af86-4943-b119-6073159f86a0"
   },
   "source": [
    "# 2.2 Social Media\n",
    "\n",
    "In some social media platforms, there are members numbered from 1 to n, and friend relationships can be represented as tuples.\n",
    "For example, (1, 2) indicates that member 1 and member 2 are friends.\n",
    "Therefore, friend relationships can be represented as a graph.\n",
    "In this context, let's define a cluster as all members connected through friend relationships.\n",
    "\n",
    "* Implement a function called \"cluster\" that returns the number of members in the cluster to which member 1 belongs."
   ]
  },
  {
   "cell_type": "code",
   "execution_count": 21,
   "id": "34afaa10-2e8f-496b-9600-f2c9bea9fcf4",
   "metadata": {
    "id": "34afaa10-2e8f-496b-9600-f2c9bea9fcf4"
   },
   "outputs": [
    {
     "ename": "SyntaxError",
     "evalue": "invalid syntax. Perhaps you forgot a comma? (1733040681.py, line 21)",
     "output_type": "error",
     "traceback": [
      "\u001b[0;36m  Cell \u001b[0;32mIn[21], line 21\u001b[0;36m\u001b[0m\n\u001b[0;31m    if graph[curr][i] == 1 and not visted[i] and (i not q) :\u001b[0m\n\u001b[0m                                                  ^\u001b[0m\n\u001b[0;31mSyntaxError\u001b[0m\u001b[0;31m:\u001b[0m invalid syntax. Perhaps you forgot a comma?\n"
     ]
    }
   ],
   "source": [
    "from collections import deque\n",
    "\n",
    "def socialMedia(total: int, relations: list) -> int:\n",
    "    #######################################\n",
    "    # write your code\n",
    "    #initialization : 2d graph 만들기\n",
    "    graph = [[0]*(total) for _ in range(total+1)]\n",
    "    visited = [0] * (total)\n",
    "\n",
    "    for edge in relations :\n",
    "        row, col = edge\n",
    "        graph[row][col] = 1\n",
    "        graph[col][row] = 1\n",
    "\n",
    "    #DFS\n",
    "    q = deque([1])\n",
    "    while q :\n",
    "        curr = q.popleft()\n",
    "        visited[curr] = 1\n",
    "        for i in range(total + 1) :\n",
    "            if graph[curr][i] == 1 and not visted[i] and (i not q) :\n",
    "                q.append(1)\n",
    "\n",
    "        return sum(visited)\n",
    "\n",
    "    \n",
    "    #########################################"
   ]
  },
  {
   "cell_type": "code",
   "execution_count": 20,
   "id": "9a315886-1227-4a31-a747-4d423873fc51",
   "metadata": {
    "id": "9a315886-1227-4a31-a747-4d423873fc51",
    "outputId": "7fe5a3f1-9e82-424d-aa7c-8a250ed428e6"
   },
   "outputs": [
    {
     "ename": "NameError",
     "evalue": "name 'socialMedia' is not defined",
     "output_type": "error",
     "traceback": [
      "\u001b[0;31m---------------------------------------------------------------------------\u001b[0m",
      "\u001b[0;31mNameError\u001b[0m                                 Traceback (most recent call last)",
      "Cell \u001b[0;32mIn[20], line 1\u001b[0m\n\u001b[0;32m----> 1\u001b[0m socialMedia(\u001b[38;5;241m7\u001b[39m, [(\u001b[38;5;241m1\u001b[39m, \u001b[38;5;241m2\u001b[39m), (\u001b[38;5;241m2\u001b[39m,\u001b[38;5;241m3\u001b[39m), (\u001b[38;5;241m1\u001b[39m,\u001b[38;5;241m5\u001b[39m), (\u001b[38;5;241m5\u001b[39m, \u001b[38;5;241m2\u001b[39m), (\u001b[38;5;241m5\u001b[39m, \u001b[38;5;241m6\u001b[39m), (\u001b[38;5;241m4\u001b[39m, \u001b[38;5;241m7\u001b[39m)])\n",
      "\u001b[0;31mNameError\u001b[0m: name 'socialMedia' is not defined"
     ]
    }
   ],
   "source": [
    "socialMedia(7, [(1, 2), (2,3), (1,5), (5, 2), (5, 6), (4, 7)])"
   ]
  },
  {
   "cell_type": "code",
   "execution_count": null,
   "id": "4c5496e2-5b02-4401-b02f-c3e184d843d5",
   "metadata": {
    "id": "4c5496e2-5b02-4401-b02f-c3e184d843d5",
    "outputId": "378c9a93-fbe0-48d6-84ea-ffc3a60ce5cf"
   },
   "outputs": [
    {
     "data": {
      "text/plain": [
       "2"
      ]
     },
     "execution_count": 5,
     "metadata": {},
     "output_type": "execute_result"
    }
   ],
   "source": [
    "socialMedia(4, [(1, 2), (2, 1), (3, 4)])"
   ]
  }
 ],
 "metadata": {
  "colab": {
   "provenance": []
  },
  "kernelspec": {
   "display_name": "Python 3 (ipykernel)",
   "language": "python",
   "name": "python3"
  },
  "language_info": {
   "codemirror_mode": {
    "name": "ipython",
    "version": 3
   },
   "file_extension": ".py",
   "mimetype": "text/x-python",
   "name": "python",
   "nbconvert_exporter": "python",
   "pygments_lexer": "ipython3",
   "version": "3.11.7"
  }
 },
 "nbformat": 4,
 "nbformat_minor": 5
}
