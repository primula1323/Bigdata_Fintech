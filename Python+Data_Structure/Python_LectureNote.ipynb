{
 "cells": [
  {
   "cell_type": "markdown",
   "id": "4f9d420b",
   "metadata": {},
   "source": [
    "# 01 Introduction : Basic Python"
   ]
  },
  {
   "cell_type": "markdown",
   "id": "9cdf02b7-d8c2-428e-8be9-625788ae851e",
   "metadata": {},
   "source": [
    "# 02 Abstraction"
   ]
  },
  {
   "cell_type": "markdown",
   "id": "bbc5747b-190c-48d5-b961-f7ad709cf569",
   "metadata": {
    "jp-MarkdownHeadingCollapsed": true
   },
   "source": [
    "# 03 Hello Python and Memory Models"
   ]
  },
  {
   "cell_type": "markdown",
   "id": "e82036f7-3fe9-47d8-9c37-6c9d463d0f79",
   "metadata": {},
   "source": [
    "## Hello Python"
   ]
  },
  {
   "cell_type": "markdown",
   "id": "148998c2",
   "metadata": {},
   "source": [
    "Your First Program"
   ]
  },
  {
   "cell_type": "code",
   "execution_count": 1,
   "id": "0dce98da",
   "metadata": {},
   "outputs": [
    {
     "data": {
      "text/plain": [
       "7"
      ]
     },
     "execution_count": 1,
     "metadata": {},
     "output_type": "execute_result"
    }
   ],
   "source": [
    " 3+4"
   ]
  },
  {
   "cell_type": "markdown",
   "id": "8e5a1d2c",
   "metadata": {},
   "source": [
    "+-*/%//**"
   ]
  },
  {
   "cell_type": "markdown",
   "id": "0eefcd6c",
   "metadata": {},
   "source": [
    "괄호 쓰기, 모호성 감소 가능."
   ]
  },
  {
   "cell_type": "code",
   "execution_count": 2,
   "id": "585becf2",
   "metadata": {},
   "outputs": [
    {
     "data": {
      "text/plain": [
       "2"
      ]
     },
     "execution_count": 2,
     "metadata": {},
     "output_type": "execute_result"
    }
   ],
   "source": [
    "7//3"
   ]
  },
  {
   "cell_type": "code",
   "execution_count": 3,
   "id": "5fc8391a",
   "metadata": {},
   "outputs": [
    {
     "data": {
      "text/plain": [
       "1"
      ]
     },
     "execution_count": 3,
     "metadata": {},
     "output_type": "execute_result"
    }
   ],
   "source": [
    "7%2"
   ]
  },
  {
   "cell_type": "markdown",
   "id": "37542059",
   "metadata": {},
   "source": [
    "Types : float, int, ..."
   ]
  },
  {
   "cell_type": "markdown",
   "id": "19a0e193",
   "metadata": {},
   "source": [
    "무한소수 불가. 부동소수점 연산 문제 발생.\n",
    "\n",
    "call expressions : function을 불러내는 expression. eg. max(min(3,2), min(5,1))\n",
    "\n",
    "함수가 operands가 되면, 해당 함수를 evaluation해서 function 작동."
   ]
  },
  {
   "cell_type": "markdown",
   "id": "407e36fd",
   "metadata": {},
   "source": [
    "value : name X. 사람이 그 의미 다 기억 불가.\n",
    "\n",
    "variable : named value. value의 역할을 표현하는 name이 되어야."
   ]
  },
  {
   "cell_type": "markdown",
   "id": "6630d1ae",
   "metadata": {},
   "source": [
    "assignment. =는 <-의 의미. "
   ]
  },
  {
   "cell_type": "code",
   "execution_count": 4,
   "id": "7c6b4029",
   "metadata": {},
   "outputs": [
    {
     "name": "stdout",
     "output_type": "stream",
     "text": [
      "2 1\n"
     ]
    }
   ],
   "source": [
    "x, y = 1, 2\n",
    "y, x = x, y\n",
    "print(x, y)"
   ]
  },
  {
   "cell_type": "markdown",
   "id": "415ec987",
   "metadata": {},
   "source": [
    "Python이 variable을 expression에서 발견시, 해당 variable에 assigned value를 찾아 해당 expression에 evaluation"
   ]
  },
  {
   "cell_type": "markdown",
   "id": "d89db6fe",
   "metadata": {},
   "source": [
    "**Summary**\n",
    "\n",
    "* expression and evaluation\n",
    "* operator and operand\n",
    "* \n",
    "* "
   ]
  },
  {
   "cell_type": "markdown",
   "id": "024d4479",
   "metadata": {},
   "source": [
    "## Memory Models"
   ]
  },
  {
   "cell_type": "markdown",
   "id": "e45cc3e0",
   "metadata": {},
   "source": [
    "Memory object : Address + value"
   ]
  },
  {
   "cell_type": "markdown",
   "id": "5819f47a",
   "metadata": {},
   "source": [
    "Assignment시, memory는 무엇을 하나?\n",
    "\n",
    "\\<\\<Variable\\>\\> = \\<\\<expression\\>\\>\n",
    "\n",
    "* (1) variable의 memory object에는 'adress'가 저장됨. 해당 adress를 찾아가면 value를 찾을 수 있음.\n",
    "* (2) 즉, '이름'과 'value' 각각 자기 주소를 가지고 있고, variable은 value의 주소를 아는 것(화살표)\n",
    "* (3)"
   ]
  },
  {
   "cell_type": "markdown",
   "id": "2b9a6b80",
   "metadata": {},
   "source": [
    "Reassignment시에는?\n",
    "\n",
    "\\<\\<variable\\>\\> = \\<\\<new expression\\>\\>\n",
    "\n",
    "* (1) new value가 살 수 있는 집이 추가로 마련됨.\n",
    "* (2) variable에 저장된 'adress'의 값이 new value로 변경됨.\n",
    "* (3) 즉, old value는 여전히 원래 메모리 오브젝트에 존재.\n",
    "\n",
    "새로운 공간 생기는 건 어떻게...? Python이 알아서 쓰레기 처리를 하긴 함."
   ]
  },
  {
   "cell_type": "markdown",
   "id": "48cafc3d",
   "metadata": {},
   "source": [
    "Summary\n",
    "\n",
    "* Memory models \n",
    "* \n",
    "* \n",
    "*"
   ]
  },
  {
   "cell_type": "markdown",
   "id": "41f37acf",
   "metadata": {
    "jp-MarkdownHeadingCollapsed": true
   },
   "source": [
    "# 04 Function memory model, Function design, and Strings"
   ]
  },
  {
   "cell_type": "code",
   "execution_count": 7,
   "id": "de978570",
   "metadata": {},
   "outputs": [],
   "source": [
    "def C2F(c) :\n",
    "    return c*9/5 + 32"
   ]
  },
  {
   "cell_type": "code",
   "execution_count": 8,
   "id": "5683088b",
   "metadata": {},
   "outputs": [
    {
     "data": {
      "text/plain": [
       "37.4"
      ]
     },
     "execution_count": 8,
     "metadata": {},
     "output_type": "execute_result"
    }
   ],
   "source": [
    "C2F(3)"
   ]
  },
  {
   "cell_type": "markdown",
   "id": "b30dab28",
   "metadata": {},
   "source": [
    "Generalize : 함수 정의시\n",
    "\n",
    "def function_name(parameters) :\n",
    "    function_body"
   ]
  },
  {
   "cell_type": "markdown",
   "id": "a1f617bc",
   "metadata": {},
   "source": [
    "global variable vs. local variable.\n",
    "\n",
    "local variable : 함수 실행 시 잠깐 생기고 함수 실행 종료시 사라짐."
   ]
  },
  {
   "cell_type": "markdown",
   "id": "84d2768c",
   "metadata": {},
   "source": [
    "Namespace : 어떤 '공간'이 함수 실행 시 생성되고 종료 시 사라짐.\n",
    "\n",
    "함수 '실행' 시 'function namespace'가 생성되고, 모든 local variable은 여기서 활동.\n",
    "함수 내에서 정의된 변수 : '현재 namespace' 우선!"
   ]
  },
  {
   "cell_type": "markdown",
   "id": "9cbbebec",
   "metadata": {},
   "source": [
    "Summary\n",
    "\n",
    "* d\n",
    "* "
   ]
  },
  {
   "cell_type": "markdown",
   "id": "cc1ddeac",
   "metadata": {},
   "source": [
    "## Memory models for Functions"
   ]
  },
  {
   "cell_type": "markdown",
   "id": "d38bc4da",
   "metadata": {},
   "source": [
    "function을 '만드는 입장'에서 parameters 정의, 이는 user 입장에서는 'argument'\n",
    "\n",
    "* (1) 함수가 실행된 때 왼쪽부터 오른쪽까지 evaluation\n",
    "* (2) 함수를 위한 namespace 생성. parameter name이 해당 공간에 존재.\n",
    "* (3) argument가 각 local variable에 assignment됨 "
   ]
  },
  {
   "cell_type": "markdown",
   "id": "72131e49",
   "metadata": {},
   "source": [
    "기본 namespace : global namespace\n",
    "\n",
    "실행시 memory models 관점에서는 '함수 이름'이 '함수 존재 메모리 공간'을 지칭하는 느낌? memory의 함수 호출시 namespace가 생성되는 것."
   ]
  },
  {
   "cell_type": "markdown",
   "id": "997b0151",
   "metadata": {},
   "source": [
    "coding, design function의 시작점 : algorithm이 머릿속에 있어야 함.\n",
    "\n",
    "* naming : '기능'을 명확히 이해해야 지을 수 있음.\n",
    "* parameters : 얼마나 보여 줄 것인가?\n",
    "* body, return\n",
    "* test : 꼭 해 보세요...."
   ]
  },
  {
   "cell_type": "markdown",
   "id": "ae441d6c",
   "metadata": {},
   "source": [
    "test cases : 구현 전 미리 몇몇 사례를 생각하고 해당 사례를 체크."
   ]
  },
  {
   "cell_type": "code",
   "execution_count": 2,
   "id": "d2e30ff6",
   "metadata": {},
   "outputs": [],
   "source": [
    "def days_diff(day1:int, day2:int) -> int : # 함수 header 부분 type은 함수에 아무 기능 없음.\n",
    "    # day1과 day2 사이의 \n",
    "    return day2 - day1"
   ]
  },
  {
   "cell_type": "markdown",
   "id": "611d4281",
   "metadata": {},
   "source": [
    "소통하기 : 어떤 기능인지 주석 달고, 변수로 무엇이 들어가나 써 두고...(abstraction!)\n",
    "\n",
    "협업 시 이를 반드시 반영해야 하고, 이걸 안 쓰면 반영해 주지 않음."
   ]
  },
  {
   "cell_type": "markdown",
   "id": "ab05e6f1",
   "metadata": {},
   "source": [
    "function design test : 이 구조에 따라 interview에게 전달해야."
   ]
  },
  {
   "cell_type": "markdown",
   "id": "29c64644-5098-42cb-b669-2af5724dcfbf",
   "metadata": {
    "jp-MarkdownHeadingCollapsed": true
   },
   "source": [
    "# 05 Reassignment Practice"
   ]
  },
  {
   "cell_type": "code",
   "execution_count": 2,
   "id": "e21d303d",
   "metadata": {},
   "outputs": [
    {
     "data": {
      "text/plain": [
       "1"
      ]
     },
     "execution_count": 2,
     "metadata": {},
     "output_type": "execute_result"
    }
   ],
   "source": [
    "f = min\n",
    "f = max\n",
    "g, h = min, max\n",
    "max = g\n",
    "\n",
    "max(f(2, g(h(1,5), 3)), 4)"
   ]
  },
  {
   "cell_type": "markdown",
   "id": "3671c15e",
   "metadata": {
    "jp-MarkdownHeadingCollapsed": true
   },
   "source": [
    "# 06 Strings, Control Structures"
   ]
  },
  {
   "cell_type": "markdown",
   "id": "8af1bb47-6930-4d53-950a-e5e1ae07c26b",
   "metadata": {},
   "source": [
    "## String Types"
   ]
  },
  {
   "cell_type": "markdown",
   "id": "a91dad48",
   "metadata": {},
   "source": [
    "text : sequence of characters(number, 기호, ...)\n",
    "\n"
   ]
  },
  {
   "cell_type": "markdown",
   "id": "5b0cf0ca",
   "metadata": {},
   "source": [
    "9 as integer vs. 9 as string\n",
    "\n",
    "'' or \"\" 로 사용. 이게 아니면 namespace에서 찾아야 하는 variable로 인식됨.\n",
    "\n",
    "따옴표 치면? name으로 인식."
   ]
  },
  {
   "cell_type": "code",
   "execution_count": 5,
   "id": "395b465e",
   "metadata": {},
   "outputs": [],
   "source": [
    "str_0307 = '''string\n",
    "with spacing'''\n",
    "str_0307_1 = 'string\\n with spacing'"
   ]
  },
  {
   "cell_type": "code",
   "execution_count": 6,
   "id": "128ec41b",
   "metadata": {},
   "outputs": [
    {
     "name": "stdout",
     "output_type": "stream",
     "text": [
      "string\n",
      "with spacing\n",
      "string\n",
      " with spacing\n"
     ]
    }
   ],
   "source": [
    "print(str_0307)\n",
    "print(str_0307_1)"
   ]
  },
  {
   "cell_type": "markdown",
   "id": "387fb9fd",
   "metadata": {},
   "source": [
    "Built-In operations : Python 자체에 내장된 함수들."
   ]
  },
  {
   "cell_type": "code",
   "execution_count": 19,
   "id": "6792e3ae",
   "metadata": {},
   "outputs": [
    {
     "name": "stdout",
     "output_type": "stream",
     "text": [
      "6\n",
      "string\n",
      "with spacing\n",
      "string\n",
      " with spacing\n"
     ]
    }
   ],
   "source": [
    "print(len('string'), str_0307, str_0307_1, sep = '\\n')\n"
   ]
  },
  {
   "cell_type": "markdown",
   "id": "ce6f0145",
   "metadata": {},
   "source": [
    "type change : int(), float(), str(), ..."
   ]
  },
  {
   "cell_type": "markdown",
   "id": "c6b57ede",
   "metadata": {},
   "source": [
    "special charaters : \\n(newline), \\t(tab), \\\\(escape sequence), \\r(carrage return - 싹 지우고 처음부터)\n",
    "\n",
    "escape sequence backslash : 문법적 기능 지우기"
   ]
  },
  {
   "cell_type": "code",
   "execution_count": 25,
   "id": "3591c8fd",
   "metadata": {},
   "outputs": [
    {
     "name": "stdout",
     "output_type": "stream",
     "text": [
      "나는 4세 입니다.\n"
     ]
    }
   ],
   "source": [
    "print(f'나는 {min(4,5)}세 입니다.')"
   ]
  },
  {
   "cell_type": "markdown",
   "id": "fd410969",
   "metadata": {},
   "source": [
    "c"
   ]
  },
  {
   "cell_type": "code",
   "execution_count": 30,
   "id": "b60e2e8f",
   "metadata": {},
   "outputs": [
    {
     "name": "stdout",
     "output_type": "stream",
     "text": [
      "당신의 나이를 4 중 입력하시오5\n"
     ]
    },
    {
     "data": {
      "text/plain": [
       "'5'"
      ]
     },
     "execution_count": 30,
     "metadata": {},
     "output_type": "execute_result"
    }
   ],
   "source": [
    "input(f'당신의 나이를 {min(4,5)} 중 입력하시오')"
   ]
  },
  {
   "cell_type": "markdown",
   "id": "d24b9194",
   "metadata": {},
   "source": [
    "c"
   ]
  },
  {
   "cell_type": "markdown",
   "id": "f57f055a",
   "metadata": {},
   "source": [
    "c"
   ]
  },
  {
   "cell_type": "code",
   "execution_count": 29,
   "id": "ab0242ef",
   "metadata": {},
   "outputs": [
    {
     "name": "stdout",
     "output_type": "stream",
     "text": [
      "Name\tNationality\n",
      "Kim\tKorean\n",
      "Culler\tAmerican\n"
     ]
    }
   ],
   "source": [
    "print('Name\\tNationality\\nKim\\tKorean\\nCuller\\tAmerican')"
   ]
  },
  {
   "cell_type": "markdown",
   "id": "45f75152",
   "metadata": {},
   "source": [
    "## Boolean Types"
   ]
  },
  {
   "cell_type": "markdown",
   "id": "b8565b4a",
   "metadata": {},
   "source": [
    "True or False : 이미 할당된 value 그 자체. value에 value 할당은 당연히 안 됨.\n",
    "\n",
    "논리 연산 : not, and, or"
   ]
  },
  {
   "cell_type": "code",
   "execution_count": 32,
   "id": "83a2adf1",
   "metadata": {},
   "outputs": [
    {
     "data": {
      "text/plain": [
       "True"
      ]
     },
     "execution_count": 32,
     "metadata": {},
     "output_type": "execute_result"
    }
   ],
   "source": [
    "True or False"
   ]
  },
  {
   "cell_type": "code",
   "execution_count": 33,
   "id": "91aacd10",
   "metadata": {},
   "outputs": [
    {
     "data": {
      "text/plain": [
       "True"
      ]
     },
     "execution_count": 33,
     "metadata": {},
     "output_type": "execute_result"
    }
   ],
   "source": [
    "(3 == 3) or (4/0 == 4)"
   ]
  },
  {
   "cell_type": "markdown",
   "id": "e4074372",
   "metadata": {},
   "source": [
    "비교 연산 : ? -> Boolean Type인 Operator."
   ]
  },
  {
   "cell_type": "markdown",
   "id": "d94884f5",
   "metadata": {},
   "source": [
    "<, >, >=, <=, ==, !="
   ]
  },
  {
   "cell_type": "markdown",
   "id": "49e57e7d",
   "metadata": {},
   "source": [
    "ASCII Code relation operation"
   ]
  },
  {
   "cell_type": "code",
   "execution_count": 34,
   "id": "2588d7b7",
   "metadata": {},
   "outputs": [
    {
     "data": {
      "text/plain": [
       "False"
      ]
     },
     "execution_count": 34,
     "metadata": {},
     "output_type": "execute_result"
    }
   ],
   "source": [
    "'a' >= 'b'"
   ]
  },
  {
   "cell_type": "code",
   "execution_count": 2,
   "id": "1f37054b",
   "metadata": {},
   "outputs": [],
   "source": [
    "#ord('afhudv lhliu')\n",
    "#ord(문자)는 1개 글자."
   ]
  },
  {
   "cell_type": "code",
   "execution_count": 37,
   "id": "9f091320",
   "metadata": {},
   "outputs": [
    {
     "data": {
      "text/plain": [
       "52"
      ]
     },
     "execution_count": 37,
     "metadata": {},
     "output_type": "execute_result"
    }
   ],
   "source": [
    "ord('4')\n",
    "#사전 순서의 예 따름"
   ]
  },
  {
   "cell_type": "markdown",
   "id": "36a8bffd",
   "metadata": {},
   "source": [
    "in operator\n",
    "\n",
    "문자열의 '포함 여부'에 따라 T/F 출력"
   ]
  },
  {
   "cell_type": "markdown",
   "id": "bdd34bec",
   "metadata": {},
   "source": [
    "## Control structures - if/else"
   ]
  },
  {
   "cell_type": "markdown",
   "id": "47d8268b",
   "metadata": {},
   "source": [
    "if \\<\\<condition\\>\\> :\n",
    "\n",
    "    \\<\\<body\\>\\>"
   ]
  },
  {
   "cell_type": "code",
   "execution_count": 52,
   "id": "6fb6c575",
   "metadata": {},
   "outputs": [],
   "source": [
    "if '11:15' < '11:00' :\n",
    "    print('ss')"
   ]
  },
  {
   "cell_type": "code",
   "execution_count": 54,
   "id": "dc599add",
   "metadata": {
    "scrolled": true
   },
   "outputs": [
    {
     "data": {
      "text/plain": [
       "'11:10'"
      ]
     },
     "execution_count": 54,
     "metadata": {},
     "output_type": "execute_result"
    }
   ],
   "source": [
    "\"11:10\""
   ]
  },
  {
   "cell_type": "markdown",
   "id": "5f140427",
   "metadata": {
    "jp-MarkdownHeadingCollapsed": true
   },
   "source": [
    "# 07 Modules and Classes"
   ]
  },
  {
   "cell_type": "markdown",
   "id": "a583f6fd-5969-4c2a-a493-a069a22c3c37",
   "metadata": {},
   "source": [
    "## Modules"
   ]
  },
  {
   "cell_type": "markdown",
   "id": "0cf3b438",
   "metadata": {},
   "source": [
    "Module : a package of variables, functions, grouped in a single files"
   ]
  },
  {
   "cell_type": "code",
   "execution_count": 55,
   "id": "39c4f587",
   "metadata": {},
   "outputs": [],
   "source": [
    "import math"
   ]
  },
  {
   "cell_type": "markdown",
   "id": "df22f343",
   "metadata": {},
   "source": [
    "무슨 일이 일어났는가?"
   ]
  },
  {
   "cell_type": "code",
   "execution_count": 56,
   "id": "7ceb00b9",
   "metadata": {},
   "outputs": [
    {
     "data": {
      "text/plain": [
       "3.141592653589793"
      ]
     },
     "execution_count": 56,
     "metadata": {},
     "output_type": "execute_result"
    }
   ],
   "source": [
    "math.pi"
   ]
  },
  {
   "cell_type": "code",
   "execution_count": 57,
   "id": "29241f47",
   "metadata": {},
   "outputs": [
    {
     "ename": "NameError",
     "evalue": "name 'pi' is not defined",
     "output_type": "error",
     "traceback": [
      "\u001b[1;31m---------------------------------------------------------------------------\u001b[0m",
      "\u001b[1;31mNameError\u001b[0m                                 Traceback (most recent call last)",
      "\u001b[1;32m<ipython-input-57-f84ab820532c>\u001b[0m in \u001b[0;36m<module>\u001b[1;34m\u001b[0m\n\u001b[1;32m----> 1\u001b[1;33m \u001b[0mpi\u001b[0m\u001b[1;33m\u001b[0m\u001b[1;33m\u001b[0m\u001b[0m\n\u001b[0m",
      "\u001b[1;31mNameError\u001b[0m: name 'pi' is not defined"
     ]
    }
   ],
   "source": [
    "pi"
   ]
  },
  {
   "cell_type": "code",
   "execution_count": 58,
   "id": "2d29cec6",
   "metadata": {},
   "outputs": [],
   "source": [
    "import math as my_math"
   ]
  },
  {
   "cell_type": "code",
   "execution_count": 60,
   "id": "d65171f8",
   "metadata": {},
   "outputs": [
    {
     "data": {
      "text/plain": [
       "3.141592653589793"
      ]
     },
     "execution_count": 60,
     "metadata": {},
     "output_type": "execute_result"
    }
   ],
   "source": [
    "math.pi#당연히 여전히 기능함!"
   ]
  },
  {
   "cell_type": "code",
   "execution_count": 61,
   "id": "e8fd2d68",
   "metadata": {},
   "outputs": [],
   "source": [
    "math.pi = 1200"
   ]
  },
  {
   "cell_type": "code",
   "execution_count": 62,
   "id": "6f93b4e5",
   "metadata": {},
   "outputs": [
    {
     "data": {
      "text/plain": [
       "1200"
      ]
     },
     "execution_count": 62,
     "metadata": {},
     "output_type": "execute_result"
    }
   ],
   "source": [
    "math.pi"
   ]
  },
  {
   "cell_type": "code",
   "execution_count": 63,
   "id": "548c6b7d",
   "metadata": {},
   "outputs": [],
   "source": [
    "from math import *\n",
    "import math\n",
    "import math as ma"
   ]
  },
  {
   "cell_type": "markdown",
   "id": "0c7744fd-8593-4f75-b8be-4a5d8e4111c3",
   "metadata": {},
   "source": [
    "'절대' 권장하지 않음!"
   ]
  },
  {
   "cell_type": "code",
   "execution_count": 3,
   "id": "dd9749bd",
   "metadata": {},
   "outputs": [
    {
     "ename": "ModuleNotFoundError",
     "evalue": "No module named 'mypackage'",
     "output_type": "error",
     "traceback": [
      "\u001b[1;31m---------------------------------------------------------------------------\u001b[0m",
      "\u001b[1;31mModuleNotFoundError\u001b[0m                       Traceback (most recent call last)",
      "Cell \u001b[1;32mIn[3], line 1\u001b[0m\n\u001b[1;32m----> 1\u001b[0m \u001b[38;5;28;01mimport\u001b[39;00m \u001b[38;5;21;01mmypackage\u001b[39;00m\n\u001b[0;32m      2\u001b[0m \u001b[38;5;66;03m#package 작성\u001b[39;00m\n",
      "\u001b[1;31mModuleNotFoundError\u001b[0m: No module named 'mypackage'"
     ]
    }
   ],
   "source": [
    "import mypackage\n",
    "#package 작성"
   ]
  },
  {
   "cell_type": "code",
   "execution_count": 3,
   "id": "33736e0a",
   "metadata": {},
   "outputs": [
    {
     "data": {
      "text/plain": [
       "3"
      ]
     },
     "execution_count": 3,
     "metadata": {},
     "output_type": "execute_result"
    }
   ],
   "source": [
    "mypackage.aadsfasda"
   ]
  },
  {
   "cell_type": "code",
   "execution_count": 4,
   "id": "b3e7e64f",
   "metadata": {},
   "outputs": [
    {
     "name": "stdout",
     "output_type": "stream",
     "text": [
      "7\n"
     ]
    }
   ],
   "source": [
    "print(mypackage.asdf(4))"
   ]
  },
  {
   "cell_type": "markdown",
   "id": "d6a65998",
   "metadata": {},
   "source": [
    "## Class"
   ]
  },
  {
   "cell_type": "markdown",
   "id": "b46629c4",
   "metadata": {},
   "source": [
    "Class : 청사진\n",
    "\n"
   ]
  },
  {
   "cell_type": "code",
   "execution_count": 5,
   "id": "659ecf8b",
   "metadata": {},
   "outputs": [],
   "source": [
    "name = 'Na SCi'"
   ]
  },
  {
   "cell_type": "code",
   "execution_count": 7,
   "id": "c3f9da14",
   "metadata": {},
   "outputs": [
    {
     "data": {
      "text/plain": [
       "'NA SCI'"
      ]
     },
     "execution_count": 7,
     "metadata": {},
     "output_type": "execute_result"
    }
   ],
   "source": [
    "name.upper()"
   ]
  },
  {
   "cell_type": "code",
   "execution_count": 8,
   "id": "48bfd08d",
   "metadata": {},
   "outputs": [
    {
     "data": {
      "text/plain": [
       "'na sci'"
      ]
     },
     "execution_count": 8,
     "metadata": {},
     "output_type": "execute_result"
    }
   ],
   "source": [
    "name.lower()"
   ]
  },
  {
   "cell_type": "markdown",
   "id": "484fc7b1",
   "metadata": {},
   "source": [
    "class vs. class object"
   ]
  },
  {
   "cell_type": "markdown",
   "id": "b7a0c7b8",
   "metadata": {
    "jp-MarkdownHeadingCollapsed": true
   },
   "source": [
    "# 09 Lists"
   ]
  },
  {
   "cell_type": "markdown",
   "id": "2f3de03d",
   "metadata": {},
   "source": []
  },
  {
   "cell_type": "code",
   "execution_count": null,
   "id": "b266485c",
   "metadata": {},
   "outputs": [],
   "source": []
  },
  {
   "cell_type": "code",
   "execution_count": null,
   "id": "bb2f4b41",
   "metadata": {},
   "outputs": [],
   "source": []
  },
  {
   "cell_type": "code",
   "execution_count": null,
   "id": "46d42c50",
   "metadata": {},
   "outputs": [],
   "source": []
  },
  {
   "cell_type": "markdown",
   "id": "41b62435",
   "metadata": {},
   "source": [
    "## Copy and Alias"
   ]
  },
  {
   "cell_type": "markdown",
   "id": "c3e12ef8",
   "metadata": {},
   "source": [
    "    Copy by Slicing : 떼어와서 새로운 리스트 만들기\n",
    "    * '복제인간\n",
    "\n",
    "    Alias by assignment : 같은 메모리 주소 참조.\n",
    "    * 같은 사람의 '서로 다른' 칭호"
   ]
  },
  {
   "cell_type": "code",
   "execution_count": 3,
   "id": "da8429ec",
   "metadata": {},
   "outputs": [
    {
     "name": "stdout",
     "output_type": "stream",
     "text": [
      "[1, 2, 3, 4, 5]\n",
      "[1, 2, 3, 4, 5, 6]\n"
     ]
    }
   ],
   "source": [
    "lst = [1,2,3,4,5]\n",
    "lst_copy = lst[:]\n",
    "lst_copy.append(6)\n",
    "\n",
    "print(lst)\n",
    "print(lst_copy)"
   ]
  },
  {
   "cell_type": "code",
   "execution_count": 4,
   "id": "f9188ab9",
   "metadata": {},
   "outputs": [
    {
     "name": "stdout",
     "output_type": "stream",
     "text": [
      "[1, 2, 3, 4, 5, 7]\n",
      "[1, 2, 3, 4, 5, 7]\n"
     ]
    }
   ],
   "source": [
    "lst = [1,2,3,4,5]\n",
    "lst_alias = lst\n",
    "lst_alias.append(7)\n",
    "\n",
    "print(lst)\n",
    "print(lst_alias)"
   ]
  },
  {
   "cell_type": "markdown",
   "id": "e933a4b1",
   "metadata": {},
   "source": [
    "당연하지만, 'Alias'로 리스트를 지속 생성하면 내가 하는 일이 무슨 문제를 일으킬지 케어해야 함.\n",
    "\n",
    "내 작업을 타인과 isolate시키기..."
   ]
  },
  {
   "cell_type": "markdown",
   "id": "db926e26",
   "metadata": {},
   "source": [
    "function이 원본에 영향을 미칠 수 있는 이유?\n",
    "\n",
    "function은 parameter을 alias로 namespace에 불러옴."
   ]
  },
  {
   "cell_type": "markdown",
   "id": "ed85fad9",
   "metadata": {
    "jp-MarkdownHeadingCollapsed": true
   },
   "source": [
    "# 10 Loops"
   ]
  },
  {
   "cell_type": "markdown",
   "id": "235323fe",
   "metadata": {},
   "source": [
    "### For"
   ]
  },
  {
   "cell_type": "code",
   "execution_count": null,
   "id": "e274d568",
   "metadata": {},
   "outputs": [],
   "source": []
  },
  {
   "cell_type": "code",
   "execution_count": null,
   "id": "8d750060",
   "metadata": {},
   "outputs": [],
   "source": []
  },
  {
   "cell_type": "markdown",
   "id": "2cd501fb",
   "metadata": {},
   "source": [
    "List Values vs. List Indices"
   ]
  },
  {
   "cell_type": "markdown",
   "id": "f46feacd",
   "metadata": {},
   "source": [
    "숫자를 가져와서 list index로 직접 활용 : list의 element를 직접 활용"
   ]
  },
  {
   "cell_type": "markdown",
   "id": "adac5488",
   "metadata": {},
   "source": [
    "indices : 특히 parallel list 다룰 때 좋음. each index가 각 학생을 represent하므로..."
   ]
  },
  {
   "cell_type": "markdown",
   "id": "5540cecb",
   "metadata": {},
   "source": [
    "### While "
   ]
  },
  {
   "cell_type": "markdown",
   "id": "e8bcdee4",
   "metadata": {},
   "source": [
    "'조건이 참인 동안' Loop."
   ]
  },
  {
   "cell_type": "markdown",
   "id": "36442dfa",
   "metadata": {},
   "source": [
    "주의사항 : 반드시 'while' 내부의 조건이 False가 되도록 하는 반복이 있어야!"
   ]
  },
  {
   "cell_type": "markdown",
   "id": "d5d8e224",
   "metadata": {},
   "source": [
    "아니면, break/continue로 loop control\n",
    "\n",
    "단, powerful but 읽기 난해이므로 유의해서 쓰기."
   ]
  },
  {
   "cell_type": "markdown",
   "id": "151aede1-27a6-4444-896e-2f648018fb94",
   "metadata": {},
   "source": [
    "## Loop Controls"
   ]
  },
  {
   "cell_type": "code",
   "execution_count": null,
   "id": "4f87c428-7c08-4a53-a4b0-69ff32fd6231",
   "metadata": {},
   "outputs": [],
   "source": []
  },
  {
   "cell_type": "markdown",
   "id": "0fc42093",
   "metadata": {
    "jp-MarkdownHeadingCollapsed": true
   },
   "source": [
    "# 12 Sets, Tuples, Dictionaries, Mutability"
   ]
  },
  {
   "cell_type": "markdown",
   "id": "fef7e4db-2f4e-470a-bc03-bbbacc77b9f9",
   "metadata": {},
   "source": [
    "## Sets"
   ]
  },
  {
   "cell_type": "markdown",
   "id": "b202fab6",
   "metadata": {},
   "source": [
    "mutable, unordered, distinct"
   ]
  },
  {
   "cell_type": "code",
   "execution_count": 12,
   "id": "cad338c2",
   "metadata": {},
   "outputs": [
    {
     "data": {
      "text/plain": [
       "{1, 3, 6}"
      ]
     },
     "execution_count": 12,
     "metadata": {},
     "output_type": "execute_result"
    }
   ],
   "source": [
    "set1 = {1, 3, 6, 3}\n",
    "set1"
   ]
  },
  {
   "cell_type": "code",
   "execution_count": 16,
   "id": "2e612c59",
   "metadata": {},
   "outputs": [
    {
     "data": {
      "text/plain": [
       "set()"
      ]
     },
     "execution_count": 16,
     "metadata": {},
     "output_type": "execute_result"
    }
   ],
   "source": [
    "set2 = set()\n",
    "set2"
   ]
  },
  {
   "cell_type": "code",
   "execution_count": 15,
   "id": "1986a0ab",
   "metadata": {},
   "outputs": [
    {
     "data": {
      "text/plain": [
       "dict"
      ]
     },
     "execution_count": 15,
     "metadata": {},
     "output_type": "execute_result"
    }
   ],
   "source": [
    "set_empty = {}\n",
    "type(set_empty)"
   ]
  },
  {
   "cell_type": "markdown",
   "id": "44364118",
   "metadata": {},
   "source": [
    "set : mutable dataset, immutable elements\n",
    "\n",
    "한 번의 검색으로 'in' operation 가능!\n",
    "\n",
    "문제에서 '중복 의미 없음'과 '변화 X', '순서 X' 등 모두 만족되면 set으로 머리 굴려야!"
   ]
  },
  {
   "cell_type": "code",
   "execution_count": 18,
   "id": "fc2e7800",
   "metadata": {},
   "outputs": [
    {
     "data": {
      "text/plain": [
       "set"
      ]
     },
     "execution_count": 18,
     "metadata": {},
     "output_type": "execute_result"
    }
   ],
   "source": [
    "set_err = {1, '2'}\n",
    "type(set_err)"
   ]
  },
  {
   "cell_type": "code",
   "execution_count": 19,
   "id": "a4d9a6ff",
   "metadata": {},
   "outputs": [
    {
     "ename": "TypeError",
     "evalue": "unhashable type: 'list'",
     "output_type": "error",
     "traceback": [
      "\u001b[1;31m---------------------------------------------------------------------------\u001b[0m",
      "\u001b[1;31mTypeError\u001b[0m                                 Traceback (most recent call last)",
      "\u001b[1;32m<ipython-input-19-1a6b5896533e>\u001b[0m in \u001b[0;36m<module>\u001b[1;34m\u001b[0m\n\u001b[1;32m----> 1\u001b[1;33m \u001b[0mset_err\u001b[0m\u001b[1;33m.\u001b[0m\u001b[0madd\u001b[0m\u001b[1;33m(\u001b[0m\u001b[1;33m[\u001b[0m\u001b[1;36m1\u001b[0m\u001b[1;33m]\u001b[0m\u001b[1;33m)\u001b[0m\u001b[1;33m\u001b[0m\u001b[1;33m\u001b[0m\u001b[0m\n\u001b[0m",
      "\u001b[1;31mTypeError\u001b[0m: unhashable type: 'list'"
     ]
    }
   ],
   "source": [
    "set_err.add([1])"
   ]
  },
  {
   "cell_type": "markdown",
   "id": "de80c1bd",
   "metadata": {},
   "source": [
    "## Tuples"
   ]
  },
  {
   "cell_type": "markdown",
   "id": "e5684481",
   "metadata": {},
   "source": [
    "ordered items, immutable."
   ]
  },
  {
   "cell_type": "code",
   "execution_count": 21,
   "id": "d248f84b",
   "metadata": {},
   "outputs": [],
   "source": [
    "tuple1 = (1,2,3)\n",
    "tuple2 = (1,)\n",
    "tuple3 = (1)"
   ]
  },
  {
   "cell_type": "code",
   "execution_count": 22,
   "id": "128109df",
   "metadata": {},
   "outputs": [
    {
     "data": {
      "text/plain": [
       "int"
      ]
     },
     "execution_count": 22,
     "metadata": {},
     "output_type": "execute_result"
    }
   ],
   "source": [
    "type(tuple3)"
   ]
  },
  {
   "cell_type": "markdown",
   "id": "00e255e9",
   "metadata": {},
   "source": [
    "ordered이므로 indices 존재."
   ]
  },
  {
   "cell_type": "markdown",
   "id": "5a87dc4d",
   "metadata": {},
   "source": [
    "immutable container, but the elements can be modified."
   ]
  },
  {
   "cell_type": "markdown",
   "id": "51522654",
   "metadata": {},
   "source": [
    "## Dictionaries"
   ]
  },
  {
   "cell_type": "markdown",
   "id": "833cf331",
   "metadata": {},
   "source": [
    "key:value의 pair로 이루어짐."
   ]
  },
  {
   "cell_type": "markdown",
   "id": "3d1b4b06",
   "metadata": {},
   "source": [
    "ordered, without duplication(key), mutable"
   ]
  },
  {
   "cell_type": "code",
   "execution_count": 13,
   "id": "a8bbcd9d",
   "metadata": {},
   "outputs": [],
   "source": [
    "def invert_dict(dct : dict) -> dict :\n",
    "    klst = list(dct.keys())\n",
    "    vlst = list(dct.values())\n",
    "    idct = {}\n",
    "    for i, j in dct.items() :\n",
    "        if i in idct.keys() : \n",
    "            idct[j].append(i)\n",
    "        else :\n",
    "            idct[j] = [i]\n",
    "    return idct"
   ]
  },
  {
   "cell_type": "code",
   "execution_count": 14,
   "id": "0763f7dc",
   "metadata": {},
   "outputs": [
    {
     "data": {
      "text/plain": [
       "{'A': ['병'], 'B': ['을'], 'D': ['정']}"
      ]
     },
     "execution_count": 14,
     "metadata": {},
     "output_type": "execute_result"
    }
   ],
   "source": [
    "grades = {'갑':'A', '을':'B', '병':'A', '정':'D'}\n",
    "grades.values()\n",
    "invert_dict(grades)"
   ]
  },
  {
   "cell_type": "markdown",
   "id": "21df1cf4-5ef5-4344-987a-68b82a513113",
   "metadata": {},
   "source": [
    "## Mutablity"
   ]
  },
  {
   "cell_type": "markdown",
   "id": "e07f3cd1-fd34-4664-9e55-63fb6d5fc7e5",
   "metadata": {},
   "source": [
    "Container가 mutable : 전체 컨테이너가 늘었다/줄었다 가능\n",
    "Elements가 mutable : 특정 원소가 다른 것으로 바뀌기 가능(mutable data structure가 들어가기 가능)"
   ]
  },
  {
   "cell_type": "markdown",
   "id": "4dc5af25-e70b-45fe-9967-4989da6b8278",
   "metadata": {},
   "source": [
    "List : mutable container with mutable elements"
   ]
  },
  {
   "cell_type": "markdown",
   "id": "58f76dd7-a386-4e90-bff9-8df5dd6d67b5",
   "metadata": {},
   "source": [
    "Tuple : immutable container with mutable elements"
   ]
  },
  {
   "cell_type": "markdown",
   "id": "802b079a-99f8-4e5b-9915-e7b141239f4c",
   "metadata": {},
   "source": [
    "Sets : mutable container with immutable elements\n",
    "\n",
    "(mutable elements(list 등)는 elements가 될 수 없음)"
   ]
  },
  {
   "cell_type": "markdown",
   "id": "cee0718d-1952-437a-8467-fbdd9dbd0c54",
   "metadata": {},
   "source": [
    "Dictionary : mutable container/keys are immutable"
   ]
  },
  {
   "cell_type": "markdown",
   "id": "c5136215-abd2-41c0-a1cb-7a44c8b96c75",
   "metadata": {
    "jp-MarkdownHeadingCollapsed": true
   },
   "source": [
    "# 13 File I/O"
   ]
  },
  {
   "cell_type": "markdown",
   "id": "cd476aa2-eef5-4f4d-99dc-da5ba98cd7e8",
   "metadata": {},
   "source": [
    "### Basics"
   ]
  },
  {
   "cell_type": "markdown",
   "id": "fd1ff763-89d9-4d09-a72a-4e95ae57d89e",
   "metadata": {},
   "source": [
    "user I/O : input(), print()\n",
    "\n",
    "file I/O : file과 프로그램 사이의 소통"
   ]
  },
  {
   "cell_type": "markdown",
   "id": "e1e897f4-442b-4d79-974c-9782ae4cdcfd",
   "metadata": {},
   "source": []
  },
  {
   "cell_type": "code",
   "execution_count": null,
   "id": "0999882c-58ca-41a5-820f-e1bd472d33ab",
   "metadata": {},
   "outputs": [],
   "source": [
    "file = open('doit.txt', 'r')\n",
    "lines = f.readlines()"
   ]
  },
  {
   "cell_type": "code",
   "execution_count": 15,
   "id": "faa8a444-b865-4ba8-bccb-339e7645a4fe",
   "metadata": {},
   "outputs": [
    {
     "name": "stdout",
     "output_type": "stream",
     "text": [
      "Kono\n",
      "Koino\n",
      "Kotae\n"
     ]
    }
   ],
   "source": [
    "file = open('doit.txt', 'r')\n",
    "line = file.read()\n",
    "file.close()\n",
    "print(line)"
   ]
  },
  {
   "cell_type": "markdown",
   "id": "6dd281b1-aa67-4fee-908b-5074ca86d51f",
   "metadata": {},
   "source": [
    "커서 : 무한히 앞으로 전진. 후진 불가. end까지 \n",
    "\n",
    "놓쳤다면? 파일 다시 열어와야."
   ]
  },
  {
   "cell_type": "markdown",
   "id": "52154382-bdbc-49ba-b4c4-bbdf51e39d96",
   "metadata": {},
   "source": [
    "'open'의 mode : 'w', 'r', 'a'\n",
    "\n",
    "'w' : for writing. 앞에서부터 새로 쓰기\n",
    "\n",
    "'a' : appending. 뒤에서부터 새로 쓰기\n",
    "\n",
    "'r' : reading only"
   ]
  },
  {
   "cell_type": "markdown",
   "id": "bf6d09ba-ccbb-418e-ace2-efa4f4b0da46",
   "metadata": {},
   "source": [
    "file : open이라는 함수를 통해 return된 것.\n",
    "\n",
    "file object : 이것도 클래스. 이에 대응하여 파일을 만지는 다양한 메소드 존재.\n",
    "\n",
    "file.read()/file.close() - 열었으면 닫기까지!"
   ]
  },
  {
   "cell_type": "code",
   "execution_count": 17,
   "id": "62166f7b-4414-4478-bd1c-997ec98d565b",
   "metadata": {},
   "outputs": [
    {
     "name": "stdout",
     "output_type": "stream",
     "text": [
      "Kono\n",
      "Koino\n",
      "Kotae\n"
     ]
    }
   ],
   "source": [
    "with open('doit.txt', 'r') as file :\n",
    "    line = file.read()\n",
    "print(line)"
   ]
  },
  {
   "cell_type": "markdown",
   "id": "5789a502-8a21-4d60-9bb8-d20d3bbd65d5",
   "metadata": {},
   "source": [
    "with statement로 file open시 block 내에서만 file 살아 있고 나가면 자동 닫힘.\n",
    "\n",
    "보통 with으로 불러옴!"
   ]
  },
  {
   "cell_type": "markdown",
   "id": "82741808-8cb5-40d1-a7c1-ae2cd688c380",
   "metadata": {},
   "source": [
    "Absolute path vs. Relative path"
   ]
  },
  {
   "cell_type": "markdown",
   "id": "ed148309-61d8-4447-891c-32751923d079",
   "metadata": {},
   "source": [
    "Absolute path : 가장 위부터 위치까지 하나하나 내려오기\n",
    "\n",
    "Relative path : current working diretory부터 시작\n",
    "위로 올라가려면 . 찍기"
   ]
  },
  {
   "cell_type": "code",
   "execution_count": 18,
   "id": "7ac7b208-22a4-40eb-875f-bde1ebd96204",
   "metadata": {},
   "outputs": [
    {
     "data": {
      "text/plain": [
       "'C:\\\\Users\\\\spic1\\\\Documents\\\\GitHub\\\\Bigdata_Fintech_Python\\\\Python+Data_Structure'"
      ]
     },
     "execution_count": 18,
     "metadata": {},
     "output_type": "execute_result"
    }
   ],
   "source": [
    "import os\n",
    "os.getcwd()\n",
    "#os.chdir() choose directory"
   ]
  },
  {
   "cell_type": "code",
   "execution_count": 20,
   "id": "7291e82b-178e-4711-b9fd-096b7cba327a",
   "metadata": {},
   "outputs": [
    {
     "name": "stdout",
     "output_type": "stream",
     "text": [
      "Kono\n",
      "\n"
     ]
    }
   ],
   "source": [
    "with open('doit.txt', 'r') as file :\n",
    "    line = file.read(5)#5번째 글자까지\n",
    "print(line)"
   ]
  },
  {
   "cell_type": "code",
   "execution_count": 26,
   "id": "178193e5-7bcc-48ef-9ef3-d77f4db6457b",
   "metadata": {},
   "outputs": [
    {
     "name": "stdout",
     "output_type": "stream",
     "text": [
      "['Kono\\n', 'Koino\\n', 'Kotae']\n"
     ]
    }
   ],
   "source": [
    "with open('doit.txt', 'r') as file :\n",
    "    lines = file.readlines() # 줄별로 나눠서 리스트로 저장\n",
    "    for i in lines :\n",
    "        i.strip('\\n') #'\\n' 지우기\n",
    "print(lines)"
   ]
  },
  {
   "cell_type": "code",
   "execution_count": 27,
   "id": "ddb6c2e5-e015-49e8-b1ef-48b6d104bfb4",
   "metadata": {},
   "outputs": [],
   "source": [
    "#with open('doit.txt', 'r') as file :\n",
    "#    for line in file :\n",
    "#        line.strip() # 줄별로 반복됨\n"
   ]
  },
  {
   "cell_type": "markdown",
   "id": "a464949e-eca1-4d39-ad6d-4d55dedaf940",
   "metadata": {},
   "source": [
    "import urllib.request\n",
    "url = \"\"\n",
    "with urllib.request.urlopen(url) as file :\n",
    "    for line in file :\n",
    "        line = line.strip()\n",
    "        line = line.decode(\"utf-8\")#인터넷 파일은 기본적으로 바이트로 받아옴. 이를 디코딩하는 것!\n",
    "        print(line)"
   ]
  },
  {
   "cell_type": "code",
   "execution_count": 34,
   "id": "e2a6e0c8-67f9-4294-b38b-397491a5b357",
   "metadata": {},
   "outputs": [],
   "source": [
    "with open('doit2.txt', 'w') as output_file :\n",
    "    output_file.write('''Solve this \n",
    "    equation of Love''')#t 상태로 쓰임"
   ]
  },
  {
   "cell_type": "code",
   "execution_count": 36,
   "id": "6135c934-c1da-4496-a9dd-e3f8ad155de8",
   "metadata": {},
   "outputs": [],
   "source": [
    "with open('doit2.txt', 'a') as output_file :\n",
    "    output_file.write('''\\nFountain''')#t 상태로 불러와짐"
   ]
  },
  {
   "cell_type": "code",
   "execution_count": null,
   "id": "fc3d2331-915b-4649-a789-431e0d8b7a54",
   "metadata": {},
   "outputs": [],
   "source": []
  },
  {
   "cell_type": "code",
   "execution_count": null,
   "id": "4a55d8f1-a73e-4f58-9575-d492c350a917",
   "metadata": {},
   "outputs": [],
   "source": []
  },
  {
   "cell_type": "code",
   "execution_count": null,
   "id": "f0970070-0e0d-4b4a-815f-d642a00a6f91",
   "metadata": {},
   "outputs": [],
   "source": []
  },
  {
   "cell_type": "code",
   "execution_count": 37,
   "id": "986488b4-1164-4066-b3e4-ce4797e4ae84",
   "metadata": {},
   "outputs": [],
   "source": [
    "def skip_header() -> str :\n",
    "    line = input_file.readline()\n",
    "    while line.startswith('#') :\n",
    "        line = input_file.readline()\n",
    "    return line\n",
    "#why 마지막에 return line? 유효한 데이터의 첫 번째 줄임."
   ]
  },
  {
   "cell_type": "code",
   "execution_count": null,
   "id": "0af214e5-e7d9-4bb8-98f3-417b88f67996",
   "metadata": {},
   "outputs": [],
   "source": []
  },
  {
   "cell_type": "markdown",
   "id": "331312b4-6d7a-43d1-83ec-328a62b47fa7",
   "metadata": {
    "jp-MarkdownHeadingCollapsed": true
   },
   "source": [
    "# 15 OOP : Object-Oriented Programming"
   ]
  },
  {
   "cell_type": "markdown",
   "id": "1504f931-2467-4173-a917-9c665913fc1d",
   "metadata": {},
   "source": [
    "* Encapulation"
   ]
  },
  {
   "cell_type": "markdown",
   "id": "4b6a597d-be39-42eb-acd1-2221f7756ba6",
   "metadata": {},
   "source": []
  },
  {
   "cell_type": "markdown",
   "id": "9f7ef85f-6462-430b-af1d-51ed2661ea17",
   "metadata": {},
   "source": [
    "* Abstraction"
   ]
  },
  {
   "cell_type": "markdown",
   "id": "dec91689-79d5-4b3e-8ebc-8e555226b95c",
   "metadata": {},
   "source": []
  },
  {
   "cell_type": "markdown",
   "id": "68e60274-a058-46ce-807e-f5b1a110f5c3",
   "metadata": {},
   "source": [
    "* Abstraction"
   ]
  },
  {
   "cell_type": "markdown",
   "id": "386db5c7-8bb2-45f2-89d6-e415a975b089",
   "metadata": {},
   "source": [
    "개발자 입장에서도 다른 사람들의 코드 전부 다 이해하기를 원하지 않음..."
   ]
  },
  {
   "cell_type": "markdown",
   "id": "f382fb4f-32b3-473c-8855-92fa1ec04f50",
   "metadata": {},
   "source": [
    "* Polymorphism"
   ]
  },
  {
   "cell_type": "markdown",
   "id": "8fec116d-fe33-403b-aabb-5798ababf0ae",
   "metadata": {},
   "source": []
  },
  {
   "cell_type": "markdown",
   "id": "b461647f-1e78-4434-be13-43c1c77269de",
   "metadata": {},
   "source": [
    "# 17 Searching"
   ]
  },
  {
   "cell_type": "markdown",
   "id": "c9cdff0e-db22-417b-baf7-377e95e13ea8",
   "metadata": {},
   "source": [
    "## Searching"
   ]
  },
  {
   "cell_type": "markdown",
   "id": "52cfdb30-0c22-44dd-8f2d-0e9dab345c9b",
   "metadata": {},
   "source": [
    "### Linear Search"
   ]
  },
  {
   "cell_type": "markdown",
   "id": "c17e5f2e-d8b0-4f59-b79e-265fbecf5461",
   "metadata": {},
   "source": [
    "일반적이고 기본적 알고리즘."
   ]
  },
  {
   "cell_type": "markdown",
   "id": "2cafc47f-0b37-42a9-9f9b-94b2ebbd1b25",
   "metadata": {},
   "source": [
    "\"처음부터 끝까지 하나하나 보고 인덱스 출력\"\n",
    "\n",
    "-> 처음부터 보므로 '가장 첫 번째 등장하는 하나'만 제시. 없으면 -1 출력"
   ]
  },
  {
   "cell_type": "markdown",
   "id": "cff879ef-6914-4489-b45a-eec067a2e0a3",
   "metadata": {},
   "source": [
    "가장 빠르게 돌아가는 상황 : target이 index 0인 상황\n",
    "\n",
    "가장 느리게 돌아가는 상황 : target이 없는 상황"
   ]
  },
  {
   "cell_type": "markdown",
   "id": "79fc3c93-e856-4e11-81a1-2248c55dd573",
   "metadata": {},
   "source": [
    "#### Programming"
   ]
  },
  {
   "cell_type": "code",
   "execution_count": 4,
   "id": "231462e3-2da5-4958-9569-0f2b665c27c4",
   "metadata": {},
   "outputs": [],
   "source": [
    "def lsearch(L, value) -> int :\n",
    "    i = 0\n",
    "    while i < Len(L) and L[i] != value :\n",
    "        i += 1\n",
    "    if i == len(L) :\n",
    "        return -1 #마지막에 있으나 \n",
    "    else :\n",
    "        return i"
   ]
  },
  {
   "cell_type": "markdown",
   "id": "f376982f-488e-4114-8d6b-8d59e34c5101",
   "metadata": {},
   "source": [
    "문제점 : 매번 조건문 판단"
   ]
  },
  {
   "cell_type": "code",
   "execution_count": 3,
   "id": "1085729f-bde9-4f30-974a-74ac81d36274",
   "metadata": {},
   "outputs": [],
   "source": [
    "def lsearch(L, value) -> int :\n",
    "    L.append(value)\n",
    "    i = 0\n",
    "    while L[i] != value :\n",
    "        i += 1\n",
    "    L.pop()\n",
    "    if i == Len(L) :\n",
    "        return -1\n",
    "    else :\n",
    "        return i"
   ]
  },
  {
   "cell_type": "markdown",
   "id": "9e3169e5-586f-445f-aaf5-ae43a9d0d220",
   "metadata": {},
   "source": [
    "Sentinel 사용 : 원본 리스트를 바꾸게 됨"
   ]
  },
  {
   "cell_type": "code",
   "execution_count": null,
   "id": "c8347460-a5bc-434a-94f0-089d6b360fac",
   "metadata": {},
   "outputs": [],
   "source": [
    "def lsearch(L, value) :\n",
    "    for i in range(len(L)) :\n",
    "        if L[i] == value :\n",
    "            return i\n",
    "    return -1"
   ]
  },
  {
   "cell_type": "markdown",
   "id": "f1e57b06-ba29-4b5c-af76-43a2cc4ba5a4",
   "metadata": {},
   "source": [
    "loop 중간에 return 들어가는 걸 싫어하는 사람 존재..."
   ]
  },
  {
   "cell_type": "code",
   "execution_count": null,
   "id": "bd62d6e6-3aa2-498e-9886-51fd962cb247",
   "metadata": {},
   "outputs": [],
   "source": [
    "import time\n",
    "t_start = time.pert_counter()\n"
   ]
  },
  {
   "cell_type": "markdown",
   "id": "7130e9dc-1846-4d0c-8856-8c4637cb2a73",
   "metadata": {},
   "source": [
    "시간복잡도 관점 :\n",
    "\n",
    "while < sentinel < for < list.index() 순서로 빠름\n",
    "\n",
    "list.index() : C로 구현되어 있음"
   ]
  },
  {
   "cell_type": "markdown",
   "id": "b5319a28-b9c7-47b2-9b92-e9e8a3d4a374",
   "metadata": {},
   "source": [
    "### Binary Search"
   ]
  },
  {
   "cell_type": "markdown",
   "id": "fefc05d6-75a5-4294-861f-0adc57c7c4df",
   "metadata": {},
   "source": [
    "if Sorted List : 더 빠른 방법 존재\n",
    "\n",
    "Linear Search는 Sorting을 해서 더 나빠지는 경우까지 존재...."
   ]
  },
  {
   "cell_type": "markdown",
   "id": "e36215f3-3427-4d9e-9a52-8f529de9fd2b",
   "metadata": {},
   "source": [
    "반영법 : start = 0, end = len(L)로 두고\n",
    "\n",
    "mid = (start + end)//2에서 L[mid]의 값이 target보다 크면 start 올리기.\n",
    "\n",
    "start가 end보다 커지면 \n",
    "\n",
    "start = L[target]이 만족!"
   ]
  },
  {
   "cell_type": "markdown",
   "id": "5f1b7bde-ac2f-47e6-9e1d-48b33dfb5a85",
   "metadata": {},
   "source": [
    "시간복잡도 : C로 구현한 list.index() < binary_search by python\n",
    "\n",
    "Len(L) vs. lb(Len(L))\n",
    "\n",
    "여담) Sorting이 Searching보다 비쌈...."
   ]
  },
  {
   "cell_type": "markdown",
   "id": "2e80c045-adcb-48c4-86ce-4ec517449d15",
   "metadata": {},
   "source": [
    "# 18 Sorting and Big O"
   ]
  },
  {
   "cell_type": "markdown",
   "id": "2b95748f-3040-4b5f-8d7f-f4b51b4c9f21",
   "metadata": {},
   "source": [
    "## Selection Sort"
   ]
  },
  {
   "cell_type": "markdown",
   "id": "2df3105a-9b66-49c3-8022-44a1645621f1",
   "metadata": {},
   "source": [
    "(Algorithm)\n",
    "\n",
    "* [start:end]에서 가장 작은 값 찾기\n",
    "* 가장 작은 값을 L[start]에 두기(swap)\n",
    "* [start+1:end]에서 가장 작은 값 찾기\n",
    "* ...\n",
    "* 완료!"
   ]
  },
  {
   "cell_type": "markdown",
   "id": "5647f555-17d6-42f8-9569-f6a021a2dbd7",
   "metadata": {},
   "source": [
    "#### Programming"
   ]
  },
  {
   "cell_type": "code",
   "execution_count": 5,
   "id": "bcc4533c-1769-4ae5-8ccf-c84137f62d98",
   "metadata": {},
   "outputs": [],
   "source": [
    "def ssort(L) -> None :\n",
    "    for i in range(len(L)) :\n",
    "        smallest = find_min(L, i)\n",
    "        L[i], L[smallest] = L[smallest], L[i]\n",
    "\n",
    "#절차 지향 : 복잡한 동작은 '됐다 생각하고' 주석/함수처리, 이후 함수 만들기\n",
    "\n",
    "def find_min(L, i) -> None :\n",
    "    return None"
   ]
  },
  {
   "cell_type": "markdown",
   "id": "069fcc04-597e-4166-a9ec-9983f1e8f122",
   "metadata": {},
   "source": [
    "time complexity : find_min part에서 (N+1-i) 물건 봐야 함\n",
    "\n",
    "sum(N) = N(N+1)/2"
   ]
  },
  {
   "cell_type": "markdown",
   "id": "e2a46340-96d7-4065-9774-6d71eee097e3",
   "metadata": {},
   "source": [
    "## Insertion Sorting"
   ]
  },
  {
   "cell_type": "markdown",
   "id": "d792dc1e-e5ad-4633-9437-b2eeeaa0f979",
   "metadata": {},
   "source": [
    "(Algorithm)\n",
    "\n",
    "* L[0]은 sorted라 가정\n",
    "* L[1]은 L[0]과 L[1] 중 어디에 넣을지 고민\n",
    "* L[2]는 L[0:1]의 왼쪽, 중간, 오른쪽 중 어디에 넣을지 고민\n",
    "* ...\n",
    "* L[n]은 L[0:n-1]의 어디에 넣을지 고민\n",
    "\n",
    "주로 시간을 쓰는 것 : '삽입' 부분. '어디에 넣을지 고민'이 왼쪽부터 swap이라서."
   ]
  },
  {
   "cell_type": "code",
   "execution_count": null,
   "id": "fffeb214-6b42-47fd-8bf5-6f93dd843b8b",
   "metadata": {},
   "outputs": [],
   "source": []
  },
  {
   "cell_type": "markdown",
   "id": "c352b0e6-4873-44df-a59f-a10b71519611",
   "metadata": {},
   "source": [
    "Time Complexity \n",
    "\n",
    "insert할 부분을 찾는 연산 : 1~i회이므로 대략 i/2.\n",
    "\n",
    "time complexity : N(N-1)/4 ... 실제로는 selection sort보다 느림. 대체 왜?"
   ]
  },
  {
   "cell_type": "markdown",
   "id": "486818ea-a666-47e3-b5b3-d382008fbbd3",
   "metadata": {},
   "source": [
    "for문의 횟수 자체는 insertion이 더 적음. 단 'swap'이라는 메커니즘이 문제.\n",
    "insertion은 swap이 N회, selection은 swap이 1회"
   ]
  },
  {
   "cell_type": "markdown",
   "id": "216f2044-9d34-455f-92eb-c5991bcbb751",
   "metadata": {},
   "source": [
    "리스트가 70~80% 정도 정렬돼 있는데 다시 정렬? insertion이 빠름."
   ]
  },
  {
   "cell_type": "markdown",
   "id": "8d12a023-7514-4a6f-9335-e1c693a5c210",
   "metadata": {},
   "source": [
    "## Big O"
   ]
  },
  {
   "cell_type": "markdown",
   "id": "308ea994-a8f3-4bcb-8770-8dbcdf184798",
   "metadata": {},
   "source": [
    "Big O : 알고리즘 성능 분석을 위한 툴"
   ]
  },
  {
   "cell_type": "markdown",
   "id": "c9bcc4b0-20e0-4195-906d-465f1be590c8",
   "metadata": {},
   "source": [
    "Execution Cost\n",
    "\n",
    "Time Complexity, Memory Complexity\n",
    "\n",
    "주로 Time Complexity에 focus. 현실에서는 위의 '개발하는 걸 돌리는 시간' 말고 'Programming Cost'(개발하는 데 걸리는 시간) - Development Time, Readability, Modifiability, Maintainability 등도 중요"
   ]
  },
  {
   "cell_type": "markdown",
   "id": "4e4a70f0-df6f-4565-8e67-95deb855a96d",
   "metadata": {},
   "source": [
    "Time Complexity를 '실제 실행'으로 측정시 발생하는 문제? '실제 실행' 시간은 변수가 지나치게 많음. -> code만 보고, data size N에 어떤 식으로 비례하는지 측정."
   ]
  },
  {
   "cell_type": "markdown",
   "id": "710b6897-4a27-4fbe-9016-4aa2a0143511",
   "metadata": {},
   "source": [
    "보고 싶은 것? N에 얼마나 비례하는지 측정. 특히 N이 '매우 큰 경우'로..."
   ]
  },
  {
   "cell_type": "markdown",
   "id": "5b7ac194-2172-45f6-898b-58bd1c80012c",
   "metadata": {},
   "source": [
    "대세에 영향을 미치지 않는다면 대충 세기(Asymptotic Analysis) -> order of growth('증가 속도' 따지기)"
   ]
  },
  {
   "cell_type": "markdown",
   "id": "10cd68d2-794f-4adc-8fb5-482c2c742acc",
   "metadata": {},
   "source": [
    "원칙\n",
    "\n",
    "* order of growth가 가장 높은 것만 남기고 나머지는 무의미(N^2 + N에서 N^2만 남기기)\n",
    "* constant term은 불필요 : cN -> N, N + c -> N\n",
    "* 최악의 사례만 counting -> Linear Search라면 찾는 게 끝에 있는 상황 고려. index 0인 사례 고려 X\n",
    "\n",
    "결론\n",
    "\n",
    "* 따라서, 가장 많이 걸릴 것 같은 연산에 집중하기. 중첩 for문(N^2), 브루트 포스(e^N) 찾았으면 단일 for문(N)은 big O의 관점에서 의미 없음..."
   ]
  },
  {
   "cell_type": "markdown",
   "id": "0097470e-ceb1-445e-b151-2d6533b7b61c",
   "metadata": {},
   "source": [
    "# 19 Recursion and Merge Sort"
   ]
  },
  {
   "cell_type": "markdown",
   "id": "b9c53cea-ebad-4cda-93c5-baddf528b873",
   "metadata": {},
   "source": [
    "## Recursion"
   ]
  },
  {
   "cell_type": "markdown",
   "id": "e62737ce-7cb9-4571-93ff-a3fc382bd59b",
   "metadata": {},
   "source": [
    "<분 수 령>\n",
    "매우 어렵습니다..."
   ]
  },
  {
   "cell_type": "markdown",
   "id": "5c77512d-f991-41fd-9f13-2fb75e3b784d",
   "metadata": {},
   "source": [
    "Recursion : Function that calls itself in execution"
   ]
  },
  {
   "cell_type": "code",
   "execution_count": 6,
   "id": "517bf9cb-9e5f-4bc5-ac51-89ef3b81b6a5",
   "metadata": {},
   "outputs": [],
   "source": [
    "def recurfacto(n:int) -> int :\n",
    "    if n == 0 :\n",
    "        return 1\n",
    "    else :\n",
    "        return n * recurfacto(n-1)"
   ]
  },
  {
   "cell_type": "code",
   "execution_count": 7,
   "id": "56a3a24a-a0db-4cd2-a2f6-7792ddfca700",
   "metadata": {},
   "outputs": [
    {
     "data": {
      "text/plain": [
       "120"
      ]
     },
     "execution_count": 7,
     "metadata": {},
     "output_type": "execute_result"
    }
   ],
   "source": [
    "recurfacto(5)"
   ]
  },
  {
   "cell_type": "markdown",
   "id": "7202bf21-4310-4d73-98e4-fa3583bcd9a5",
   "metadata": {},
   "source": [
    "사용 가능한 경우 : 같은 구조의 subproblems를 반복적으로 푸는 programming case\n",
    "\n",
    "Dynamic Programming 등의 핵심"
   ]
  },
  {
   "cell_type": "code",
   "execution_count": 8,
   "id": "f7de971f-6fcd-4adf-beb7-53f9eb23e11e",
   "metadata": {},
   "outputs": [],
   "source": [
    "def PNa(n) :\n",
    "    if n == 1 or n == 2 :\n",
    "        return 1\n",
    "    else :\n",
    "        return PNa(n-2) + PNa(n-1)"
   ]
  },
  {
   "cell_type": "code",
   "execution_count": 11,
   "id": "d3b607ed-401b-4253-bb9a-6941e84f372b",
   "metadata": {},
   "outputs": [
    {
     "data": {
      "text/plain": [
       "6765"
      ]
     },
     "execution_count": 11,
     "metadata": {},
     "output_type": "execute_result"
    }
   ],
   "source": [
    "PNa(20)"
   ]
  },
  {
   "cell_type": "markdown",
   "id": "c36f0ded-c4ef-45e8-a30d-515dcb19e985",
   "metadata": {},
   "source": [
    "구조 : \n",
    "\n",
    "* Base Case(시작점) - recursive 없이 답 나와야\n",
    "* Conditional statements(시작점인지 판단)\n",
    "* Recursive Case - Base case 이외. 자기 자신 call하는 작업 수행."
   ]
  },
  {
   "cell_type": "markdown",
   "id": "5804eb51-9768-4ec6-bbe1-920dc6ace76b",
   "metadata": {},
   "source": [
    "검증 :\n",
    "\n",
    "* Base Case check\n",
    "* Assuming that f(n-1) and f(n) is correct, verify f(n+1) is correct\n",
    "\n",
    "(Mathematical Induction)"
   ]
  },
  {
   "cell_type": "markdown",
   "id": "39dab265-d60b-49cc-bc24-d8f3dc89056b",
   "metadata": {},
   "source": [
    "## Merge Sort"
   ]
  },
  {
   "cell_type": "markdown",
   "id": "b51a14eb-9857-491d-8972-8e36eb597acd",
   "metadata": {},
   "source": [
    "idea : \n",
    "\n",
    "* list를 sublist로 나누고 sublist 각각 sorting\n",
    "* sorted list를 sorting 유지하며 **merge**\n",
    "* sublist sorting은 어떻게? 그것도 merge sort(recursion)"
   ]
  },
  {
   "cell_type": "markdown",
   "id": "8c7e5fd3-530c-4f74-a21e-57902ec03ebc",
   "metadata": {},
   "source": [
    "Base cases : list with length (0) or length (1)"
   ]
  },
  {
   "cell_type": "code",
   "execution_count": 12,
   "id": "e72cd5a8-4878-4421-bd72-5f599e44fba5",
   "metadata": {},
   "outputs": [],
   "source": [
    "def mrSort(L) -> None :\n",
    "    mrSortHelp(L, 0, len(L) - 1)\n",
    "\n",
    "def mrSortHelp(L, f, l) :\n",
    "    if f == l :\n",
    "        return \n",
    "    else :\n",
    "        m = f + (l-f)//2\n",
    "        mrSortHelp(L, f, m)\n",
    "        mrSortHelp(L, m+1, l)\n",
    "        merge(L, f, m, l)\n",
    "\n",
    "def merge(L, f, m, l) :\n",
    "    k = f\n",
    "    s1 = L[f:m+1]\n",
    "    s2 = L[m+1:l+1]#추가 메모리 부담이 생기는 부분!(N만큼)\n",
    "    j = i = 0\n",
    "    while i < len(s1) and j < len(s2) :\n",
    "        if s1[i] < s2[j] :\n",
    "            L[k] = s1[i]\n",
    "            i += 1\n",
    "        else :\n",
    "            L[k] = s2[j]\n",
    "            j += 1\n",
    "        k += 1\n",
    "    if i < len(s1) :\n",
    "        L[k:l+1] = s1[i:]\n",
    "    elif j < len(s2) :\n",
    "        L[k:l+1] = s2[j:]"
   ]
  },
  {
   "cell_type": "code",
   "execution_count": 24,
   "id": "4ed23ea2-c53e-488f-bcc3-1d51a91fadac",
   "metadata": {},
   "outputs": [
    {
     "name": "stdout",
     "output_type": "stream",
     "text": [
      "[815, 331, 197, 275, 319, 972, 8, 794, 829, 899, 752, 263, 923, 864, 132, 543, 492, 772, 64, 871, 407, 175, 699, 673, 466, 987, 877, 253, 667, 718, 106, 524, 19, 204, 562, 981, 10, 861, 102, 418, 213, 107, 170, 645, 302, 959, 945, 61, 469, 45, 624, 934, 117, 501, 139, 888, 923, 101, 940, 166, 472, 548, 53, 604, 198, 57, 557, 913, 627, 104, 595, 466, 576, 6, 75, 667, 195, 97, 411, 578, 673, 746, 245, 271, 625, 856, 558, 733, 533, 849, 906, 290, 855, 922, 681, 582, 883, 344, 696, 503]\n"
     ]
    }
   ],
   "source": [
    "import random\n",
    "j = []\n",
    "for i in range(0, 100) :\n",
    "    j.append(random.randint(0, 1000))\n",
    "print(j)"
   ]
  },
  {
   "cell_type": "code",
   "execution_count": 25,
   "id": "1100e6b5-ca2f-4317-baec-aaeb71aa1200",
   "metadata": {},
   "outputs": [
    {
     "name": "stdout",
     "output_type": "stream",
     "text": [
      "[6, 8, 10, 19, 45, 53, 57, 61, 64, 75, 97, 101, 102, 104, 106, 107, 117, 132, 139, 166, 170, 175, 195, 197, 198, 204, 213, 245, 253, 263, 271, 275, 290, 302, 319, 331, 344, 407, 411, 418, 466, 466, 469, 472, 492, 501, 503, 524, 533, 543, 548, 557, 558, 562, 576, 578, 582, 595, 604, 624, 625, 627, 645, 667, 667, 673, 673, 681, 696, 699, 718, 733, 746, 752, 772, 794, 815, 829, 849, 855, 856, 861, 864, 871, 877, 883, 888, 899, 906, 913, 922, 923, 923, 934, 940, 945, 959, 972, 981, 987]\n"
     ]
    }
   ],
   "source": [
    "mrSort(j)\n",
    "print(j)"
   ]
  },
  {
   "cell_type": "markdown",
   "id": "a3c8efa0-7783-4dd3-a0f0-4165e17d02f1",
   "metadata": {},
   "source": [
    "알고리즘의 '재설계' : 대세 변화에 영향을 미침!"
   ]
  },
  {
   "cell_type": "markdown",
   "id": "37c36f72-75cc-4619-ac0f-70e19982d3f8",
   "metadata": {},
   "source": [
    "## Tim Sort"
   ]
  },
  {
   "cell_type": "markdown",
   "id": "68294622-a230-44ce-bb3f-902dc997db1f",
   "metadata": {},
   "source": [
    "하이브리드 기법 : merge sort and insertion sort 섞음\n",
    "\n",
    "sublist를 만들어가다가 꼭 1까지 하지 않고 적당한 길이에서 끊기. 이 상태에서 삽입 정렬.\n",
    "\n",
    "python의 .sort() method에 사용."
   ]
  },
  {
   "cell_type": "markdown",
   "id": "8a02f9c4-d66c-42db-ae8f-c7cd9f3f1c10",
   "metadata": {},
   "source": [
    "# 21 Arrays"
   ]
  },
  {
   "cell_type": "markdown",
   "id": "3dad17e7-ff35-4d8e-a2fb-cbde21f25f64",
   "metadata": {},
   "source": [
    "## Basic Array"
   ]
  },
  {
   "cell_type": "markdown",
   "id": "dc325536-f18a-4890-b97f-625ac23b526c",
   "metadata": {},
   "source": [
    "데이터 구조 set, dict, tuple, list를 구현하는 deep 과정(하부)"
   ]
  },
  {
   "cell_type": "markdown",
   "id": "da9c0935-0ef9-46ba-ae7e-a8fa42f75f97",
   "metadata": {},
   "source": [
    "1개 element 저장 위해? 1개 메모리 공간에 해당 값과 주소 할당해야.\n",
    "\n",
    "Array의 특징? 메모리를 공간적으로 연속된 순서에 할당.\n",
    "\n",
    "길이 유동 불가. 무조건 fixed length여야만 가능"
   ]
  },
  {
   "cell_type": "markdown",
   "id": "9cf7f88b-841a-4462-a926-e72e8f8e2907",
   "metadata": {},
   "source": [
    "### Resize Array"
   ]
  },
  {
   "cell_type": "markdown",
   "id": "713ca9e2-c523-4976-8c68-4bcb5cbdaa51",
   "metadata": {},
   "source": [
    "어려운 문제. 길이가 고정되어 있으므로 새 array 만들려면 address 자체를 바꿔야 함."
   ]
  },
  {
   "cell_type": "markdown",
   "id": "b87db187-0a91-40db-a706-6bfd823d4225",
   "metadata": {},
   "source": [
    "끝에 dummy 놓고 생성 시 4개 주소 찾기, ...\n",
    "\n",
    "현재 : 0개, 4개, ... 등으로 새 주소 찾을 때 한 번에 dummy 만들어 둠"
   ]
  },
  {
   "cell_type": "markdown",
   "id": "8548722d-00cc-4751-82a7-29f15194b480",
   "metadata": {},
   "source": [
    "## Linked Lists"
   ]
  },
  {
   "cell_type": "code",
   "execution_count": 2,
   "id": "b750bc77-1def-4843-a14c-4cdf0abd07bc",
   "metadata": {},
   "outputs": [],
   "source": [
    "class LinkedNode() :\n",
    "    def __init__(self, x) :\n",
    "        self.val = x\n",
    "        self.next = None"
   ]
  },
  {
   "cell_type": "markdown",
   "id": "d3f55877-9c38-4788-9868-2f5216b7f626",
   "metadata": {},
   "source": [
    "Node : 하나의 리스트를 저장하기 위한 곳"
   ]
  },
  {
   "cell_type": "markdown",
   "id": "7b73a71f-61b3-44a7-8f70-4a7a9e4cb18e",
   "metadata": {},
   "source": [
    "Array와 달리, 첫 번째 element의 메모리에는 '두 번째 메모리의 주소'만 들어감 - 1부터 n까지는 꼬리물기!"
   ]
  },
  {
   "cell_type": "code",
   "execution_count": 6,
   "id": "a7a978ea-12b7-452c-9dbe-438be9f9faf5",
   "metadata": {},
   "outputs": [
    {
     "name": "stdout",
     "output_type": "stream",
     "text": [
      "5\n",
      "<__main__.LinkedNode object at 0x000001F09C2A3E60>\n"
     ]
    }
   ],
   "source": [
    "LL1 = LinkedNode(5)\n",
    "LL2 = LinkedNode(7)\n",
    "LL1.next = LL2\n",
    "print(LL1.val)\n",
    "print(LL1.next)"
   ]
  },
  {
   "cell_type": "markdown",
   "id": "03ea907a-cec5-4322-b1c0-cc721d277327",
   "metadata": {},
   "source": [
    "### Single Linked Lists"
   ]
  },
  {
   "cell_type": "markdown",
   "id": "975352c9-ed82-4d6f-a582-5083d97ea2e1",
   "metadata": {},
   "source": [
    "요구사항 : addfirst() method가 first node 새로 생성, 한 칸씩 밀림"
   ]
  },
  {
   "cell_type": "code",
   "execution_count": 8,
   "id": "4c8cf0e8-6760-417d-9c04-d5c5282fb5d1",
   "metadata": {},
   "outputs": [],
   "source": [
    "class LinkedList() :\n",
    "    def __init__(self) :\n",
    "        self.first = None\n",
    "    def addFirst(self, x) -> None :\n",
    "        newFirst = LinkedNode(x)\n",
    "        newFirst.next = self.first\n",
    "        self.first = newFirst\n",
    "    def getFirst(self, x) :\n",
    "        if self.first :\n",
    "            return self.first.val\n",
    "        return None\n",
    "    def getSize(self) :\n",
    "        curNode = self.first\n",
    "        size = 0\n",
    "        while curNode != None : #for + if 구분의 대체 : while \n",
    "            size += 1\n",
    "            curNode = curNode.next#시간이 오래 걸리네요... list size 자체를 저장해버리죠?"
   ]
  },
  {
   "cell_type": "code",
   "execution_count": 11,
   "id": "36d17407-0676-43eb-b4f3-83bea6d93ab4",
   "metadata": {},
   "outputs": [],
   "source": [
    "class LinkedList() :\n",
    "    def __init__(self) :\n",
    "        self.first = None\n",
    "        self.size = 0\n",
    "    def addFirst(self, x) -> None :\n",
    "        newFirst = LinkedNode(x)\n",
    "        newFirst.next = self.first\n",
    "        self.first = newFirst\n",
    "        self.size += 1\n",
    "    def getFirst(self, x) :\n",
    "        if self.first :\n",
    "            return self.first.val\n",
    "        return None\n",
    "    def getSize(self) :\n",
    "        self.size\n",
    "    def append(self, x) :\n",
    "        if self.size == 0 :\n",
    "            addFirst(x)\n",
    "            return None \n",
    "        self.size += 1\n",
    "        #corner case : first == last\n",
    "        curNode = self.first\n",
    "        while curNode.next != None :\n",
    "            curNode = curNode.next\n",
    "        curNode.next = LinkedNode(x)"
   ]
  },
  {
   "cell_type": "markdown",
   "id": "80062725-fbd6-43fa-abcf-79ddf6bc636b",
   "metadata": {},
   "source": [
    "### Single Linked Lists with Sentinel Node"
   ]
  },
  {
   "cell_type": "code",
   "execution_count": null,
   "id": "09b041b1-7cc7-4ac9-ab1b-c0318d9a5c72",
   "metadata": {},
   "outputs": [],
   "source": [
    "class LinkedList() :\n",
    "    def __init__(self) :\n",
    "        self.first = None\n",
    "        self.size = 0\n",
    "    def addFirst(self, x) -> None :\n",
    "        newFirst = LinkedNode(x)\n",
    "        newFirst.next = self.first\n",
    "        self.first = newFirst\n",
    "        self.size += 1\n",
    "    def getFirst(self, x) :\n",
    "        if self.first :\n",
    "            return self.first.val\n",
    "        return None\n",
    "    def getSize(self) :\n",
    "        self.size\n",
    "    def append(self, x) :\n",
    "        if self.size == 0 :\n",
    "            addFirst(x)\n",
    "            return None \n",
    "        self.size += 1\n",
    "        #corner case : first == last\n",
    "        curNode = self.first\n",
    "        while curNode.next != None :\n",
    "            curNode = curNode.next\n",
    "        curNode.next = LinkedNode(x)"
   ]
  },
  {
   "cell_type": "markdown",
   "id": "d8780410-94cd-4a92-9349-5812c4e78eb1",
   "metadata": {},
   "source": [
    "Sentinel node : 처음 칸에 있는 더미 노드.\n",
    "\n",
    "절대 변화하지도 않고. sentinel.next가 진정한 first node"
   ]
  },
  {
   "cell_type": "code",
   "execution_count": null,
   "id": "ecced9d0-3cf1-4ea9-bd21-49d19f2d2524",
   "metadata": {},
   "outputs": [],
   "source": [
    "class LinkedListSentinel() :\n",
    "    def __init__(self) :\n",
    "        self.sentinel = LinkedNode(0)\n",
    "        self.size = 0\n",
    "    def addFirst(self, x) -> None :\n",
    "        newFirst = LinkedNode(x)\n",
    "        newFirst.next = sentinel.first\n",
    "        self.sentinel.next = newFirst\n",
    "        self.size += 1\n",
    "    def getFirst(self, x) :\n",
    "        if self.sentinel.next :\n",
    "            return self.sentinel.next.val\n",
    "        return None\n",
    "    def getSize(self) :\n",
    "        self.size\n",
    "    def append(self, x) :\n",
    "        self.size += 1\n",
    "        #corner case : first == last\n",
    "        curNode = self.sentinel.next\n",
    "        while curNode.next != None :\n",
    "            curNode = curNode.next\n",
    "        curNode.next = LinkedNode(x)"
   ]
  },
  {
   "cell_type": "markdown",
   "id": "f6964916-254f-4bae-97d1-7535c342aa06",
   "metadata": {},
   "source": [
    "### Doubly Linked Lists"
   ]
  },
  {
   "cell_type": "markdown",
   "id": "0fc24c03-f7ad-4a26-9db3-6912f5695cc9",
   "metadata": {},
   "source": [
    "한 노드마다 .prev와 .next 모두 존재\n",
    "\n",
    "처음과 끝에 모두 센티넬 존재"
   ]
  },
  {
   "cell_type": "markdown",
   "id": "58bb3f57-caaa-49a2-8fac-56e9f8c522ec",
   "metadata": {},
   "source": [
    "array list : neighbooring rule로 인해 한 번에 찾는 곳으로 갈 수 있음, size 변형이 어려움\n",
    "\n",
    "linked list : 메모리 유동성 존재, 찾는 곳으로 가기 어려움"
   ]
  },
  {
   "cell_type": "markdown",
   "id": "61e631a0-db3e-47e7-ae2a-ebc65f278585",
   "metadata": {},
   "source": [
    "# 22 Queues "
   ]
  },
  {
   "cell_type": "markdown",
   "id": "c863fedc-c6e7-413f-acb0-bb6ec9c3c959",
   "metadata": {},
   "source": [
    "## Queues"
   ]
  },
  {
   "cell_type": "markdown",
   "id": "026cb6a3-ab44-4c22-97bf-d85244101bf1",
   "metadata": {},
   "source": [
    "Queue : '줄 서기'\n",
    "\n",
    "First in, First out - 몇 번째에 누가 있는지 관심이 없음!\n",
    "\n",
    "임시적인 것, 유동적이고 가변적. keep하는 것이 목적 아님"
   ]
  },
  {
   "cell_type": "code",
   "execution_count": null,
   "id": "61673525-33a8-4bb7-a8c5-37989332fd2e",
   "metadata": {},
   "outputs": [],
   "source": [
    "class Queue :\n",
    "    def __init__(self) :\n",
    "        self.\n",
    "        self.\n",
    "    def enqueue(self, x) :\n",
    "        return None\n",
    "    def dequeue(self) :\n",
    "        return self.first"
   ]
  },
  {
   "cell_type": "markdown",
   "id": "741a7282-c018-4320-8f78-303a856f1c29",
   "metadata": {},
   "source": [
    "## Stacks"
   ]
  },
  {
   "cell_type": "markdown",
   "id": "e69e83a4-d321-48be-84cc-4ea6ceaadf4c",
   "metadata": {},
   "source": [
    "Last in, First out -\n",
    "\n",
    "e.g. ctrl+z(실행 취소)\n",
    "Parentheses matching(괄호 매칭) (({}([])))"
   ]
  },
  {
   "cell_type": "code",
   "execution_count": null,
   "id": "94b1481c-dcea-435c-830a-de7e42b9d7e6",
   "metadata": {},
   "outputs": [],
   "source": [
    "class Stack :\n",
    "    def __init__(self) :\n",
    "\n",
    "    def push(self, x) :\n",
    "        #끝에 더하기 행 \n",
    "    def pop(self) :\n",
    "        #가장 마지막에 들어간 것 꺼내기"
   ]
  },
  {
   "cell_type": "markdown",
   "id": "be26721d-df87-4f4c-97aa-b27f51fd9bba",
   "metadata": {},
   "source": [
    "# 24 Algorithm Design"
   ]
  },
  {
   "cell_type": "markdown",
   "id": "c2b8b6c8-8bee-41c0-b6a5-ca659e68cc29",
   "metadata": {},
   "source": [
    "## Algorithm Design"
   ]
  },
  {
   "cell_type": "markdown",
   "id": "b401a7c7-4f2b-4bac-ac89-d9f1ead0bb6c",
   "metadata": {},
   "source": [
    "Interviewer :\n",
    "* 문제 명확히 설정, 질문에 성실히 답하기\n",
    "* 풀이에 피드백"
   ]
  },
  {
   "cell_type": "markdown",
   "id": "3547bb60-4be8-4672-8d5c-da1240bb1000",
   "metadata": {},
   "source": [
    "Interviewee : \n",
    "* 정확히 이해했나? 확인하고 묻기\n",
    "* 데이터 구조 및 알고리즘 종합적 활용\n",
    "* 다른 이에게 나의 사고 알리기\n",
    "* 내 코드의 time memory complexity를 big-O로 알려 주기\n",
    "* verify by a few examples"
   ]
  },
  {
   "cell_type": "markdown",
   "id": "6b2b69da-4977-4a39-b069-ba558cc48e66",
   "metadata": {},
   "source": [
    "\"내 코드를 이해 못 하면 내 잘못이다\""
   ]
  },
  {
   "cell_type": "markdown",
   "id": "81b529f9-fa3f-4b5f-b917-29bcfd24bbac",
   "metadata": {},
   "source": [
    "배운 구조가 있다면? 장단점 반드시 알고 언제 쓸 수 있는지 알아야 함"
   ]
  },
  {
   "cell_type": "markdown",
   "id": "d9a7b319-6705-409c-b928-074136e5f010",
   "metadata": {},
   "source": [
    "## Testing and Debuging"
   ]
  },
  {
   "cell_type": "markdown",
   "id": "1e66fcd6-772a-443a-951e-7290b12a5fb2",
   "metadata": {},
   "source": [
    "### QA(Quality Assurance)"
   ]
  },
  {
   "cell_type": "markdown",
   "id": "e1394705-78ab-4eb8-a6aa-901ac23ed3a5",
   "metadata": {},
   "source": [
    "QA Programming : 별도로 해야 하는 과정\n",
    "\n",
    "잡일, but 반드시 해야 하는 일\n",
    "\n",
    "Test Program : reusable and 별도로 코딩해야 하는 일\n",
    "\n",
    "새 모듈 추가시마다 새로운 테스트 코드 돌려야 함"
   ]
  },
  {
   "cell_type": "markdown",
   "id": "991e3f1b-31ba-481b-8fec-b51a92643547",
   "metadata": {},
   "source": [
    "# 25 Problem Solving"
   ]
  },
  {
   "cell_type": "markdown",
   "id": "d9ae8c37-b208-419b-be99-ba760e32b24f",
   "metadata": {},
   "source": []
  },
  {
   "cell_type": "code",
   "execution_count": 1,
   "id": "665b4144-7486-4e27-affb-55f20b2b4a18",
   "metadata": {},
   "outputs": [],
   "source": [
    "def mytest(lst : list, tg : int) -> list :\n",
    "    #return a list of indices [i, j] s.t. lst[i] + lst[j] == tg\n",
    "    for i in range(0, len(lst) - 1) :\n",
    "        for j in range(i + 1, len(lst)) :\n",
    "            if lst[i] + lst[j] == tg :\n",
    "                return [i, j]"
   ]
  },
  {
   "cell_type": "code",
   "execution_count": 5,
   "id": "92297546-210b-4fa9-b902-96eed474cd6a",
   "metadata": {},
   "outputs": [],
   "source": [
    "def mytest(lst : list, tg : int) -> list :\n",
    "    myD = {}\n",
    "    for i in range(len(lst)) :\n",
    "        if lst[i] in myD :\n",
    "            return [myD[lst[i], i]]\n",
    "        remain = tg - lst[i]\n",
    "        myD[remain] = i"
   ]
  },
  {
   "cell_type": "code",
   "execution_count": 7,
   "id": "7e5a2d08-9abf-4954-a8df-1d6002bbb570",
   "metadata": {},
   "outputs": [],
   "source": [
    "def mytest(lst : list, tg : int) -> list :\n",
    "    #Sorted Case\n",
    "    i, j = 0, len(lst) - 1\n",
    "    while lst[i] + lst[j] != tg :\n",
    "        if lst[i] + lst[j] < tg :\n",
    "            i += 1\n",
    "        else :\n",
    "            j -= 1\n",
    "    return [i, j]"
   ]
  },
  {
   "cell_type": "markdown",
   "id": "3a4fdf17-1bac-45f1-bee4-1621a555e8a3",
   "metadata": {},
   "source": [
    "# 27. Binary Search Tree"
   ]
  },
  {
   "cell_type": "markdown",
   "id": "e36a5102-d2ff-450b-a7cb-dbe698b1f5b0",
   "metadata": {},
   "source": [
    "Linked List의 단점 : Linear Search 말고 사용 불가.\n",
    "\n",
    "'First'가 중간에 있다면?"
   ]
  },
  {
   "cell_type": "markdown",
   "id": "9ecdd879-09d3-4a3e-bcc2-cd7b5dc306f6",
   "metadata": {},
   "source": [
    "## Binary Search Tree"
   ]
  },
  {
   "cell_type": "markdown",
   "id": "b988c7dc-7bd5-4c1f-9899-c87706c61334",
   "metadata": {},
   "source": [
    "Tree : \n",
    "\n",
    "Rooted Tree :\n",
    "\n",
    "Rooted Binary Tree : Rooted tree. Each node has at most 2 children nodes.\n",
    "\n",
    "Rooted Binary Search Tree : Rooted Binary Tree + Each node has unique values + Every node (from left : less, right : greater) are sorted"
   ]
  },
  {
   "cell_type": "code",
   "execution_count": null,
   "id": "6c0ea553-de8e-4f0f-b33e-673c8f69e106",
   "metadata": {},
   "outputs": [],
   "source": [
    "class TreeNode() :\n",
    "    def __init__(self, x : int) :\n",
    "        self.val = x\n",
    "        self.left = None\n",
    "        self.right = None\n",
    "\n",
    "class BST() :\n",
    "    def __init__(self) :\n",
    "        self.root = None\n",
    "\n",
    "    def search(self, x : int) :\n",
    "        return self.__searchHelf(self.root, x)  \n",
    "        \n",
    "    def __searchHelp(self, curNode : TreeNode, x : int) -> TreeNode :\n",
    "    #어떤 노드를 찍고 그 밑에서 찾아 주는 함수. search()는 트리 전체에서 찾는 것이므로.\n",
    "        #위의 둘 : 베이스 케이스\n",
    "        if not curNode :\n",
    "            return None\n",
    "        #왜 존재? 찾는 게 없으면 없다고 답해 줘야 함.\n",
    "        if x == curNode.val :\n",
    "            return curNode\n",
    "        elif x < curNode.val :\n",
    "            return self.__searchHelp(curNode.left, x)\n",
    "        else :\n",
    "            return self.__searchHelp(curNode.right, x)\n",
    "    \n",
    "\n",
    "    def insert(self, x : int) :\n",
    "        self.root = self.__insertHelp(self.root, x)\n",
    "\n",
    "    def __insertHelp(self, curNode : TreeNode, x : int) -> TreeNode :\n",
    "        if not curNode :\n",
    "            return TreeNode(x)\n",
    "        #새 노드 넣어야 할 곳!\n",
    "        if x < curNode.val :\n",
    "            curNode.left = self.__insertHelp(curNode.left, x)\n",
    "        elif x > curNode.val :\n",
    "            curNode.right = self.__insertHelp(curNode.right, x)\n",
    "        return curNode\n",
    "\n",
    "\n",
    "    def delete(self, x : int) :\n",
    "        #leaf node 지우는 경우와 parent node 지우는 경우 다름!\n",
    "\n",
    "\n",
    "        \n",
    "        #(1)\n",
    "\n",
    "\n",
    "\n",
    "\n",
    "\n",
    "        "
   ]
  },
  {
   "cell_type": "markdown",
   "id": "e78acfaf-b38e-4a13-b2de-de37d660fc00",
   "metadata": {},
   "source": [
    "delete 부가설명\n",
    "\n",
    "1. leaf node : 찾아서 부모 자리에서 연결 끊기\n",
    "2. parent node w/ 1 child : 지우고 손자를 부모가 데려감(가지 변경)\n",
    "3. parent node w/ 2 child : 새 parent를 앉혀야 해서 어려움.\n",
    "    왼쪽 subtree의 최우단과 오른쪽 subtree 중 하나 앉히기"
   ]
  },
  {
   "cell_type": "markdown",
   "id": "903e1475-54f2-48d7-9a3c-b044f53c4da6",
   "metadata": {},
   "source": [
    "BST : balanced tree이면 O(logN), 아니면 O(N)"
   ]
  },
  {
   "cell_type": "markdown",
   "id": "bacbf59e-72cd-4025-9924-eb3b27d4be65",
   "metadata": {},
   "source": []
  },
  {
   "cell_type": "code",
   "execution_count": null,
   "id": "ba98da12-518f-4470-9e02-53da5eb0968b",
   "metadata": {},
   "outputs": [],
   "source": []
  },
  {
   "cell_type": "markdown",
   "id": "65f188a6-3fa3-4e03-a0b9-9571614c3c71",
   "metadata": {},
   "source": [
    "# 29. Trees"
   ]
  },
  {
   "cell_type": "markdown",
   "id": "70eb82e0-5e38-4fb4-b40e-2004769ccbb5",
   "metadata": {},
   "source": [
    "Trees are everywhere.\n",
    "\n",
    "일상생활의 데이터 구조를 나타내기에 대단히 적절. '계층'이 존재하기 때문..."
   ]
  },
  {
   "cell_type": "markdown",
   "id": "6586d122-2396-47a1-9f7e-034da932ca16",
   "metadata": {},
   "source": [
    "## K-ary Trees"
   ]
  },
  {
   "cell_type": "markdown",
   "id": "6d832e0c-0963-46c0-a1dc-4426dde5a793",
   "metadata": {},
   "source": [
    "최대 자녀를 k개만큼 가질 수 있는 트리."
   ]
  },
  {
   "cell_type": "code",
   "execution_count": 1,
   "id": "f7e9e794-248e-473c-b946-97f512aff107",
   "metadata": {},
   "outputs": [],
   "source": [
    "class TreeNode() :\n",
    "    def __init__(self, x : int, k : int) -> None :\n",
    "        self.val = x\n",
    "        self.arity = k\n",
    "        self.child = [None]*k"
   ]
  },
  {
   "cell_type": "markdown",
   "id": "5957f8fa-f747-43a7-9d63-0156f26fc5d5",
   "metadata": {},
   "source": [
    "for 루프 하나 돌려서 모든 노드 방문하는 것이 목표!\n",
    "\n",
    "\"How to navigate the whole tree conveniently?\""
   ]
  },
  {
   "cell_type": "markdown",
   "id": "25409c89-4a1d-4246-a362-53ce21304383",
   "metadata": {},
   "source": [
    "## Breadth-First Traversal(level-order)"
   ]
  },
  {
   "cell_type": "markdown",
   "id": "bf7c1799-bc32-4eb3-8dde-bdd18c93d01e",
   "metadata": {},
   "source": [
    "1. 왼쪽에서 오른쪽으로 탐색\n",
    "2. 아랫줄로 내려가 왼쪽에서 오른쪽으로 탐색"
   ]
  },
  {
   "cell_type": "code",
   "execution_count": 2,
   "id": "87c1fc76-f26c-4105-a1bc-e4105ea38d14",
   "metadata": {},
   "outputs": [],
   "source": [
    "#큐 사용 알고리즘\n",
    "\n",
    "class Tree() :\n",
    "    def visit(self, node : TreeNode) :\n",
    "        print(node.val)#어떤 노드를 방문했는지 알리기 위해!\n",
    "    def BFT(self) :\n",
    "        if self.root == None :\n",
    "            return \n",
    "        q = [self.root]#quque 만들기 \n",
    "        while q :\n",
    "            curNode = q.pop(0)\n",
    "            self.visit(curNode)#현재 큐에서 노드 빼내서 프린트!\n",
    "            for childNode in curNode.child :#현재 노드의 왼쪽부터 모든 child에 대해 for loop!\n",
    "                if childNode :\n",
    "                    q.append(childNode)#아까 넣은 위의 노드가 왼쪽에서 아래를 큐에 더한 후 print됨."
   ]
  },
  {
   "cell_type": "code",
   "execution_count": 3,
   "id": "fabc17fd-af76-41d5-929f-fcd2836e3f24",
   "metadata": {},
   "outputs": [],
   "source": [
    "#리사이징 활용 : linked lists 기반\n",
    "\n",
    "from collections import deque"
   ]
  },
  {
   "cell_type": "code",
   "execution_count": null,
   "id": "1b0b3d0c-91fb-4242-aab1-d555930b8bf3",
   "metadata": {},
   "outputs": [],
   "source": [
    "class Tree() :\n",
    "    def visit(self, node : TreeNode) :\n",
    "        print(node.val)\n",
    "    def BFT(self) :\n",
    "        if self.root == None :\n",
    "            return \n",
    "        q = [self.root]#quque 만들기 \n",
    "        while q :\n",
    "            curNode = q.pop(0)\n",
    "            self.visit(curNode)#현재 큐에서 노드 빼내서 프린트!\n",
    "            for childNode in curNode.child :#현재 노드의 왼쪽부터 모든 child에 대해 for loop!\n",
    "                if childNode :\n",
    "                    q.append(childNode)#아까 넣은 위의 노드가 왼쪽에서 아래를 큐에 더한 후 print됨."
   ]
  },
  {
   "cell_type": "markdown",
   "id": "6fb446bd-e59e-4c89-905e-310733438ad7",
   "metadata": {},
   "source": [
    "## Depth-First Traversals"
   ]
  },
  {
   "cell_type": "markdown",
   "id": "eb0df4f0-62fd-4455-8e66-5531b85696b8",
   "metadata": {},
   "source": [
    "Three Types : preorder, inorder, postorder\n",
    "\n",
    "밑까지 갈 때 방문? 자녀 방문 도중에 방문? 밑에서 다 방문하고 올라올 때 방문?"
   ]
  },
  {
   "cell_type": "markdown",
   "id": "df6da56c-85cb-4f48-b756-467fae4e6020",
   "metadata": {},
   "source": [
    "### Preorder"
   ]
  },
  {
   "cell_type": "code",
   "execution_count": 4,
   "id": "ce24d0c8-35ab-483f-b2bd-e8816f08b5aa",
   "metadata": {},
   "outputs": [],
   "source": [
    "class Tree() :\n",
    "    def visit(self, node : TreeNode) :\n",
    "        print(node.val)\n",
    "    def __DFT_preorderHelp(self, curNode : TreeNode) :\n",
    "        if curNode == None :\n",
    "            return\n",
    "        self.visit(curNode)\n",
    "        for childNode in curNode.child :\n",
    "            self.__DFT_preorderHelp(childNode)\n",
    "    def DFT_preorder(self) :\n",
    "        self.__DFT_preorderHelp(self.root)"
   ]
  },
  {
   "cell_type": "markdown",
   "id": "f5e47a66-e1f6-439a-9fb1-6e8233e8aff0",
   "metadata": {},
   "source": [
    "eg. directory에서 위계별 listing.\n",
    "\n",
    "Time complexity : n^2 due to none"
   ]
  },
  {
   "cell_type": "markdown",
   "id": "85390a01-fefa-49dd-8922-d6b8dfeca52a",
   "metadata": {},
   "source": [
    "### Inorder"
   ]
  },
  {
   "cell_type": "code",
   "execution_count": 5,
   "id": "a95efe1b-26e6-4f85-a6be-a71639c43812",
   "metadata": {},
   "outputs": [],
   "source": [
    "class Tree() :\n",
    "    def visit(self, node : TreeNode) :\n",
    "        print(node.val)\n",
    "    def __DFT_inorderHelp(self, curNode : TreeNode) :\n",
    "        if curNode == None :\n",
    "            return\n",
    "        for childNode in range(len(curNode.child)) :\n",
    "            if i == 1 :\n",
    "                self.visit(curNode)\n",
    "            self.__DFT_inorderHelp(childNode)\n",
    "    def DFT_inorder(self) :\n",
    "        self.__DFT_inorderHelp(self.root)"
   ]
  },
  {
   "cell_type": "markdown",
   "id": "39265a5a-5e2f-4ada-bd23-c6e3693a1c47",
   "metadata": {},
   "source": [
    "쓰임새 : From a Binary Search Tree to a sorted list"
   ]
  },
  {
   "cell_type": "markdown",
   "id": "fc2b8ad6-f4b8-481b-affa-ec3bda1a286a",
   "metadata": {},
   "source": [
    "### Postorder"
   ]
  },
  {
   "cell_type": "code",
   "execution_count": 6,
   "id": "f5503d34-8b8f-479a-adbf-e516e73678f0",
   "metadata": {},
   "outputs": [],
   "source": [
    "class Tree() :\n",
    "    def visit(self, node : TreeNode) :\n",
    "        print(node.val)\n",
    "    def __DFT_postorderHelp(self, curNode : TreeNode) :\n",
    "        if curNode == None :\n",
    "            return\n",
    "        for childNode in curNode.child :\n",
    "            self.__DFT_postorderHelp(childNode)\n",
    "        self.visit(curNode)\n",
    "    def DFT_postorder(self) :\n",
    "        self.__DFT_postorderHelp(self.root)"
   ]
  },
  {
   "cell_type": "markdown",
   "id": "37d9039c-2aa4-4a80-9279-8665a2463020",
   "metadata": {},
   "source": [
    "쓰임새 : 파일 사이즈 계산"
   ]
  },
  {
   "cell_type": "code",
   "execution_count": 7,
   "id": "9b615518-e7c5-4932-a82a-19eae498d9f7",
   "metadata": {},
   "outputs": [],
   "source": [
    "class Tree() :\n",
    "    def visit(self, node : TreeNode, size : float) :\n",
    "        node.val += size\n",
    "    def __DFT_postorderHelp(self, curNode : TreeNode) :\n",
    "        if curNode == None :\n",
    "            return\n",
    "        for childNode in curNode.child :\n",
    "            self.__DFT_postorderHelp(childNode)\n",
    "        self.visit(curNode)\n",
    "    def DFT_postorder(self) :\n",
    "        self.__DFT_postorderHelp(self.root)"
   ]
  },
  {
   "cell_type": "markdown",
   "id": "a3579a15-cf92-4dc4-99ec-575d8815774e",
   "metadata": {},
   "source": [
    "## 31. Graphs"
   ]
  },
  {
   "cell_type": "markdown",
   "id": "289aa198-1c10-4cd8-903d-099fa8ebada1",
   "metadata": {},
   "source": [
    "Graph : Tree보다 일반적인 자료구조"
   ]
  },
  {
   "cell_type": "markdown",
   "id": "562b15e3-5297-43e1-b729-82e376535598",
   "metadata": {},
   "source": [
    "Graph : a set of Nodes + a set of Edges(including zero edges)\n",
    "\n",
    "Edge : 모서리(연결선)\n",
    "\n",
    "지나치게 일반적"
   ]
  },
  {
   "cell_type": "markdown",
   "id": "89e84642-89be-46b6-9210-f706091a1047",
   "metadata": {},
   "source": [
    "## Simple Graphs"
   ]
  },
  {
   "cell_type": "markdown",
   "id": "de51801b-c0ea-4e32-8946-8c1e667a5e86",
   "metadata": {},
   "source": [
    "1. loop(자기 자신에게 돌아오는 엣지) 없음\n",
    "2. parallel edge(같은 노드 둘 사이를 잇는 둘 이상의 모서리) 없음\n",
    "\n",
    "결론 : '상식 선의 그래프'"
   ]
  },
  {
   "cell_type": "markdown",
   "id": "a3d658d1-b20d-4092-8ff3-358d1d8606f3",
   "metadata": {},
   "source": [
    "(용어사전)\n",
    "\n",
    "* vertex : node\n",
    "* edge : a pair of vertices (v, w) - link!\n",
    "* adjacent vertices : 두 버텍스가 하나의 에지로 연결됨\n",
    "* path : 여러 개의 엣지를 sequential하게 연결.\n",
    "* simple path(non-repeated path) : 하나의 버텍스를 두 번 지나지 않는 패스.\n",
    "* cycle : first vertex와 last vertex가 같은 path\n",
    "* cyclic graph vs. acyclic graph\n",
    "* 두 버텍스 사이에 path 존재하면 두 버텍스는 connected\n",
    "* Edge : undirected(선처럼) or directed(화살표처럼)\n",
    "    * (v, w) undirected ->\n",
    "    * (v, w) directed ->\n",
    "* undirected graphs vs. directed graphs"
   ]
  },
  {
   "cell_type": "code",
   "execution_count": null,
   "id": "c66ebe0c-1f8c-40d0-9cde-1bbba7e0272c",
   "metadata": {},
   "outputs": [],
   "source": [
    "class undi_graph() :\n",
    "    def __init__(self, V : list, E : list) -> None :\n",
    "        self.V = V[:]\n",
    "        self.neighbor = {}\n",
    "        for v in V :\n",
    "            self.neighbor[v] = []\n",
    "        "
   ]
  },
  {
   "cell_type": "code",
   "execution_count": null,
   "id": "f611744b-58b1-4458-84bc-e143510dbd7d",
   "metadata": {},
   "outputs": [],
   "source": []
  },
  {
   "cell_type": "markdown",
   "id": "01484bf6-4b2a-4a0d-82af-94f15bb10e31",
   "metadata": {},
   "source": [
    "## DFT-Preorder"
   ]
  },
  {
   "cell_type": "code",
   "execution_count": null,
   "id": "4991b17c-0ed6-4176-817c-6710809f4351",
   "metadata": {},
   "outputs": [],
   "source": [
    "class undi_graph() :\n",
    "    def __DFTHelp(self, visited : list, v : int) -> None :\n",
    "        if not visited[v] :\n",
    "            visited[v] = True\n",
    "            print(v)\n",
    "            for w in self.neighbor[v] :\n",
    "                self.__DFTHelp(visited, w)\n",
    "\n",
    "    def DFT(self) -> None :\n",
    "        if self.V :\n",
    "            visited = {}#사이클 대응하려면 이게 있어야 함\n",
    "            for v in self.V :\n",
    "                visited[v] = False\n",
    "            for v in self.V :\n",
    "                self_DFTHelp(visited, v)"
   ]
  },
  {
   "cell_type": "markdown",
   "id": "27ae687c-ef46-478e-b603-f1dc1298b608",
   "metadata": {},
   "source": [
    "connected임을 알 수 있음/island의 수 측정 가능/cycle 감지 가능"
   ]
  },
  {
   "cell_type": "code",
   "execution_count": null,
   "id": "c0814d0e-3d61-47e4-9917-458e6f164b0c",
   "metadata": {},
   "outputs": [],
   "source": []
  },
  {
   "cell_type": "code",
   "execution_count": null,
   "id": "89e74eea-570d-4504-8f05-805568e905a5",
   "metadata": {},
   "outputs": [],
   "source": []
  },
  {
   "cell_type": "code",
   "execution_count": null,
   "id": "63c8f481-de4c-4291-9a84-c0d60ddaaf32",
   "metadata": {},
   "outputs": [],
   "source": []
  },
  {
   "cell_type": "code",
   "execution_count": null,
   "id": "5bcd4d6f-284f-4187-9502-7dac55995bd5",
   "metadata": {},
   "outputs": [],
   "source": [
    "D -> stack, recursive\n",
    "B -> queue"
   ]
  },
  {
   "cell_type": "markdown",
   "id": "a4a77cc2-516b-4367-b0a0-fc43e22fe17a",
   "metadata": {},
   "source": [
    "DFS = DFT"
   ]
  }
 ],
 "metadata": {
  "kernelspec": {
   "display_name": "Python 3 (ipykernel)",
   "language": "python",
   "name": "python3"
  },
  "language_info": {
   "codemirror_mode": {
    "name": "ipython",
    "version": 3
   },
   "file_extension": ".py",
   "mimetype": "text/x-python",
   "name": "python",
   "nbconvert_exporter": "python",
   "pygments_lexer": "ipython3",
   "version": "3.11.7"
  }
 },
 "nbformat": 4,
 "nbformat_minor": 5
}
