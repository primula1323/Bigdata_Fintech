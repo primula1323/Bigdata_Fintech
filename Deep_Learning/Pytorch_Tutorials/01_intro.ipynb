{
  "cells": [
    {
      "cell_type": "code",
      "execution_count": 1,
      "metadata": {
        "collapsed": false
      },
      "outputs": [],
      "source": [
        "# Google Colab에서 노트북을 실행하실 때에는 \n",
        "# https://tutorials.pytorch.kr/beginner/colab 를 참고하세요.\n",
        "%matplotlib inline"
      ]
    },
    {
      "cell_type": "markdown",
      "metadata": {},
      "source": [
        "**파이토치(PyTorch) 기본 익히기** \\|\\| [빠른\n",
        "시작](quickstart_tutorial.html) \\|\\|\n",
        "[텐서(Tensor)](tensorqs_tutorial.html) \\|\\| [Dataset과\n",
        "Dataloader](data_tutorial.html) \\|\\|\n",
        "[변형(Transform)](transforms_tutorial.html) \\|\\| [신경망 모델\n",
        "구성하기](buildmodel_tutorial.html) \\|\\|\n",
        "[Autograd](autogradqs_tutorial.html) \\|\\|\n",
        "[최적화(Optimization)](optimization_tutorial.html) \\|\\| [모델 저장하고\n",
        "불러오기](saveloadrun_tutorial.html)\n",
        "\n",
        "파이토치(PyTorch) 기본 익히기\n",
        "=============================\n",
        "\n",
        "Authors: [Suraj Subramanian](https://github.com/suraj813), [Seth\n",
        "Juarez](https://github.com/sethjuarez/), [Cassie\n",
        "Breviu](https://github.com/cassieview/), [Dmitry\n",
        "Soshnikov](https://soshnikov.com/), [Ari\n",
        "Bornstein](https://github.com/aribornstein/)\n",
        "\n",
        "번역: [박정환](https://github.com/9bow)\n",
        "\n",
        "대부분의 머신러닝 워크플로우는 데이터 작업과 모델 생성, 모델 매개변수\n",
        "최적화, 학습된 모델 저장이 포함됩니다. 이 튜토리얼에서는 이러한 개념들에\n",
        "대해 더 자세히 알아볼 수 있는 바로가기와 함께 PyTorch로 구현된 전체 ML\n",
        "워크플로우를 소개합니다.\n",
        "\n",
        "FashionMNIST 데이터셋을 사용하여 입력 이미지가 다음 분류(class) 중\n",
        "하나에 속하는지를 예측하는 신경망을 학습합니다: T-shirt/top, Trouser,\n",
        "Pullover, Dress, Coat, Sandal, Shirt, Sneaker, Bag, or Ankle boot.\n",
        "\n",
        "[이 튜토리얼은 Python과 딥러닝 개념에 대해 기본적인 지식이 있다고\n",
        "가정합니다.]{.title-ref}\n",
        "\n",
        "튜토리얼 코드 실행하기\n",
        "----------------------\n",
        "\n",
        "다음의 두 가지 방법으로 이 튜토리얼을 실행해볼 수 있습니다:\n",
        "\n",
        "-   **클라우드**: 시작하기 가장 쉬운 방법입니다! 각 섹션의 맨 위에는\n",
        "    \\\"Run in Microsoft Learn\\\" 링크와 \\\"Run in Google Colab\\\" 링크가\n",
        "    있으며, 이 링크들은 각각 완전히 호스팅되는 환경에서 Microsoft Learn\n",
        "    또는 Google Colab의 노트북을 엽니다.\n",
        "-   **로컬**: 먼저 로컬 컴퓨터에 PyTorch와 TorchVision을 설치해야 합니다\n",
        "    ([설치 방법](https://pytorch.kr/get-started/locally/)). 노트북을\n",
        "    내려받거나 코드를 원하는 IDE에 복사하세요.\n",
        "\n",
        "튜토리얼 사용 방법\n",
        "------------------\n",
        "\n",
        "다른 딥러닝 프레임워크에 익숙하다면, [0. 빠른\n",
        "시작](quickstart_tutorial.html) 을 보고 PyTorch의 API들을 빠르게\n",
        "익히세요.\n",
        "\n",
        "딥러닝 프레임워크가 처음이라면, 단계별(step-by-step) 가이드의 첫번째인\n",
        "[1. 텐서(Tensor)](tensorqs_tutorial.html) 로 이동하세요.\n",
        "\n",
        "::: {.toctree hidden=\"\"}\n",
        ":::\n"
      ]
    }
  ],
  "metadata": {
    "kernelspec": {
      "display_name": "Python 3",
      "language": "python",
      "name": "python3"
    },
    "language_info": {
      "codemirror_mode": {
        "name": "ipython",
        "version": 3
      },
      "file_extension": ".py",
      "mimetype": "text/x-python",
      "name": "python",
      "nbconvert_exporter": "python",
      "pygments_lexer": "ipython3",
      "version": "3.11.9"
    }
  },
  "nbformat": 4,
  "nbformat_minor": 0
}
