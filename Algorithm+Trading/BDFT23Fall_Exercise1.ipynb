{
 "cells": [
  {
   "cell_type": "code",
   "execution_count": 1,
   "metadata": {},
   "outputs": [],
   "source": [
    "import numpy as np\n",
    "import pandas as pd"
   ]
  },
  {
   "cell_type": "markdown",
   "metadata": {},
   "source": [
    "### Creating a Series"
   ]
  },
  {
   "cell_type": "markdown",
   "metadata": {},
   "source": [
    "Series : 1차원 데이터 컨테이너. list와 유사. 각 pd.DataFrame의 column은 Series의 형태로 저장됨. 보통 dtype은 'object'임.\n",
    "\n",
    "pd.DataFrame : Series의 Dictionary.\n",
    "\n",
    "->numpy의 ndarray와 유사. "
   ]
  },
  {
   "cell_type": "code",
   "execution_count": 2,
   "metadata": {},
   "outputs": [
    {
     "name": "stdout",
     "output_type": "stream",
     "text": [
      "0    banana\n",
      "1        42\n",
      "dtype: object \n",
      "\n",
      "type= <class 'pandas.core.series.Series'> \n",
      "\n",
      "0    42\n",
      "1    61\n",
      "dtype: int64 \n",
      "\n"
     ]
    }
   ],
   "source": [
    "# pandas series\n",
    "s1 = pd.Series(['banana', 42])\n",
    "print(s1, '\\n')\n",
    "print('type=', type(s1), '\\n')\n",
    "\n",
    "s2 = pd.Series([42, 61])\n",
    "print(s2, '\\n')"
   ]
  },
  {
   "cell_type": "code",
   "execution_count": 4,
   "metadata": {},
   "outputs": [
    {
     "name": "stdout",
     "output_type": "stream",
     "text": [
      "0    banana\n",
      "1        42\n",
      "2        61\n",
      "dtype: object \n",
      "\n"
     ]
    }
   ],
   "source": [
    "s2 = pd.Series(['banana', 42, 61])\n",
    "print(s2, '\\n')"
   ]
  },
  {
   "cell_type": "code",
   "execution_count": 188,
   "metadata": {},
   "outputs": [
    {
     "name": "stdout",
     "output_type": "stream",
     "text": [
      "Person         Wes McKinney\n",
      "Who       Creator of Pandas\n",
      "dtype: object \n",
      "\n"
     ]
    }
   ],
   "source": [
    "# manually assign index values to a series \n",
    "# by passing a Python list\n",
    "s3 = pd.Series(['Wes McKinney','Creator of Pandas'], index = ['Person', 'Who'])\n",
    "print(s3, '\\n')"
   ]
  },
  {
   "cell_type": "code",
   "execution_count": 189,
   "metadata": {},
   "outputs": [
    {
     "name": "stdout",
     "output_type": "stream",
     "text": [
      "PA1; \n",
      " 0    1.1\n",
      "1    2.2\n",
      "2    3.3\n",
      "3    4.4\n",
      "4    5.5\n",
      "dtype: float64 \n",
      "\n",
      "PA1; \n",
      " RangeIndex(start=0, stop=5, step=1) \n",
      "\n",
      "PA1; \n",
      " [1.1 2.2 3.3 4.4 5.5] \n",
      "\n"
     ]
    }
   ],
   "source": [
    "# Create a Series by passing a list of values, \n",
    "# Let pandas create a default integer index:\n",
    "z11 = pd.Series([1.1, 2.2, 3.3, 4.4, 5.5]); \n",
    "print('PA1; \\n', z11, '\\n') \n",
    "print('PA1; \\n', z11.index, '\\n')\n",
    "print('PA1; \\n', z11.values, '\\n') #numpy.ndarray"
   ]
  },
  {
   "cell_type": "code",
   "execution_count": 192,
   "metadata": {},
   "outputs": [
    {
     "name": "stdout",
     "output_type": "stream",
     "text": [
      "PA25; \n",
      " e    0.891207\n",
      "d    0.808496\n",
      "c   -0.157746\n",
      "b   -0.951602\n",
      "a   -0.705540\n",
      "dtype: float64 \n",
      "\n"
     ]
    }
   ],
   "source": [
    "z12 = pd.Series([1.1, 2.2, 3.3, 4.4, 5.5], ['e', 'd', 'c', 'b', 'a']);\n",
    "\n",
    "# print('PA21; \\n', z12.head(), '\\n')\n",
    "# print('PA22; \\n', z12.index, '\\n')\n",
    "# print('PA23; \\n', z12['c'], '\\n')\n",
    "# print('PA24; \\n', z12[z12 > 3], '\\n')\n",
    "print('PA25; \\n', np.sin(z12), '\\n')"
   ]
  },
  {
   "cell_type": "code",
   "execution_count": 193,
   "metadata": {},
   "outputs": [
    {
     "name": "stdout",
     "output_type": "stream",
     "text": [
      "PA31; \n",
      " {'Spring': 111, 'Summer': 222, 'Fall': 333, 'Winter': 444} \n",
      "\n",
      "PA32; \n",
      " <class 'dict'> \n",
      "\n"
     ]
    }
   ],
   "source": [
    "# Each key is separated from its value by a colon (:), \n",
    "# the items are separated by commas, and \n",
    "# the whole thing is enclosed  # in curly braces\n",
    "# An empty dictionary without any items is written with \n",
    "# just two curly braces, like this: {}\n",
    "zdata1 = {'Spring':111, 'Summer':222, 'Fall':333, 'Winter':444}; \n",
    "print('PA31; \\n', zdata1, '\\n')\n",
    "print('PA32; \\n', type(zdata1), '\\n')"
   ]
  },
  {
   "cell_type": "code",
   "execution_count": 194,
   "metadata": {},
   "outputs": [
    {
     "name": "stdout",
     "output_type": "stream",
     "text": [
      "PA42; \n",
      " Spring    111\n",
      "Summer    222\n",
      "Fall      333\n",
      "Winter    444\n",
      "dtype: int64 \n",
      "\n"
     ]
    }
   ],
   "source": [
    "# Changing the order of the index\n",
    "z13 = pd.Series(zdata1);\n",
    "print('PA42; \\n', z13, '\\n')\n",
    "\n",
    "season14 = ['Winter', 'Summer', 'Fall', 'Spring']; \n",
    "# print('PA41; \\n', season14, '\\n')\n"
   ]
  },
  {
   "cell_type": "code",
   "execution_count": 17,
   "metadata": {},
   "outputs": [
    {
     "name": "stdout",
     "output_type": "stream",
     "text": [
      "PA43; \n",
      " Winter    444\n",
      "Summer    222\n",
      "Fall      333\n",
      "Spring    111\n",
      "dtype: int64 \n",
      "\n"
     ]
    }
   ],
   "source": [
    "z14 = pd.Series(zdata1, index=season14); \n",
    "print('PA43; \\n', z14, '\\n')"
   ]
  },
  {
   "cell_type": "code",
   "execution_count": 118,
   "metadata": {},
   "outputs": [
    {
     "name": "stdout",
     "output_type": "stream",
     "text": [
      "PA43; \n",
      " season\n",
      "Winter    444\n",
      "Summer    222\n",
      "Fall      333\n",
      "Spring    111\n",
      "Name: snow fall, dtype: int64 \n",
      "\n"
     ]
    }
   ],
   "source": [
    "# Name of index and series\n",
    "z14.index.name = 'season'\n",
    "z14.name = 'snow fall'\n",
    "print('PA43; \\n', z14, '\\n')"
   ]
  },
  {
   "cell_type": "code",
   "execution_count": 21,
   "metadata": {},
   "outputs": [
    {
     "name": "stdout",
     "output_type": "stream",
     "text": [
      "PA44; \n",
      " ['Winter', 'Summer', 'Autumn', 'Spring'] \n",
      "\n",
      "Index(['Winter', 'Summer', 'Autumn', 'Spring'], dtype='object')\n",
      "[444. 222.  nan 111.]\n",
      "PA45; \n",
      " Winter    444.0\n",
      "Summer    222.0\n",
      "Autumn      NaN\n",
      "Spring    111.0\n",
      "dtype: float64 \n",
      "\n",
      "PA46; \n",
      " Winter    False\n",
      "Summer    False\n",
      "Autumn     True\n",
      "Spring    False\n",
      "dtype: bool \n",
      "\n",
      "PA48; \n",
      " Winter     True\n",
      "Summer     True\n",
      "Autumn    False\n",
      "Spring     True\n",
      "dtype: bool \n",
      "\n"
     ]
    }
   ],
   "source": [
    "# Add index and check null\n",
    "season15 = ['Winter', 'Summer', 'Autumn', 'Spring']; \n",
    "print('PA44; \\n', season15, '\\n')\n",
    "\n",
    "z15 = pd.Series(zdata1, index=season15); \n",
    "\n",
    "print(z15.index)\n",
    "print(z15.values)\n",
    "\n",
    "print('PA45; \\n', z15, '\\n')\n",
    "print('PA46; \\n', pd.isnull(z15), '\\n')\n",
    "# print('PA47; \\n', z15.isnull(), '\\n')\n",
    "print('PA48; \\n', pd.notnull(z15), '\\n')"
   ]
  },
  {
   "cell_type": "markdown",
   "metadata": {},
   "source": [
    "### Series Attributes"
   ]
  },
  {
   "cell_type": "code",
   "execution_count": 6,
   "metadata": {},
   "outputs": [
    {
     "data": {
      "text/html": [
       "<div>\n",
       "<style scoped>\n",
       "    .dataframe tbody tr th:only-of-type {\n",
       "        vertical-align: middle;\n",
       "    }\n",
       "\n",
       "    .dataframe tbody tr th {\n",
       "        vertical-align: top;\n",
       "    }\n",
       "\n",
       "    .dataframe thead th {\n",
       "        text-align: right;\n",
       "    }\n",
       "</style>\n",
       "<table border=\"1\" class=\"dataframe\">\n",
       "  <thead>\n",
       "    <tr style=\"text-align: right;\">\n",
       "      <th></th>\n",
       "      <th>Occupation</th>\n",
       "      <th>Born</th>\n",
       "      <th>Died</th>\n",
       "      <th>Age</th>\n",
       "    </tr>\n",
       "    <tr>\n",
       "      <th>Name</th>\n",
       "      <th></th>\n",
       "      <th></th>\n",
       "      <th></th>\n",
       "      <th></th>\n",
       "    </tr>\n",
       "  </thead>\n",
       "  <tbody>\n",
       "    <tr>\n",
       "      <th>Rosaline Franklin</th>\n",
       "      <td>Chemist</td>\n",
       "      <td>1920-07-25</td>\n",
       "      <td>1958-04-16</td>\n",
       "      <td>37</td>\n",
       "    </tr>\n",
       "    <tr>\n",
       "      <th>William Gosset</th>\n",
       "      <td>Statistician</td>\n",
       "      <td>1876-06-13</td>\n",
       "      <td>1937-10-16</td>\n",
       "      <td>61</td>\n",
       "    </tr>\n",
       "    <tr>\n",
       "      <th>Florence Nightingale</th>\n",
       "      <td>Nurse</td>\n",
       "      <td>1820-05-12</td>\n",
       "      <td>1910-08-13</td>\n",
       "      <td>90</td>\n",
       "    </tr>\n",
       "    <tr>\n",
       "      <th>Marie Curie</th>\n",
       "      <td>Chemist</td>\n",
       "      <td>1867-11-07</td>\n",
       "      <td>1934-07-04</td>\n",
       "      <td>66</td>\n",
       "    </tr>\n",
       "    <tr>\n",
       "      <th>Rachel Carson</th>\n",
       "      <td>Biologist</td>\n",
       "      <td>1907-05-27</td>\n",
       "      <td>1964-04-14</td>\n",
       "      <td>56</td>\n",
       "    </tr>\n",
       "    <tr>\n",
       "      <th>John Snow</th>\n",
       "      <td>Physician</td>\n",
       "      <td>1813-03-15</td>\n",
       "      <td>1858-06-16</td>\n",
       "      <td>45</td>\n",
       "    </tr>\n",
       "    <tr>\n",
       "      <th>Alan Turing</th>\n",
       "      <td>Computer Scientist</td>\n",
       "      <td>1912-06-23</td>\n",
       "      <td>1954-06-07</td>\n",
       "      <td>41</td>\n",
       "    </tr>\n",
       "    <tr>\n",
       "      <th>Johann Gauss</th>\n",
       "      <td>Mathematician</td>\n",
       "      <td>1777-04-30</td>\n",
       "      <td>1855-02-23</td>\n",
       "      <td>77</td>\n",
       "    </tr>\n",
       "  </tbody>\n",
       "</table>\n",
       "</div>"
      ],
      "text/plain": [
       "                              Occupation        Born        Died  Age\n",
       "Name                                                                 \n",
       "Rosaline Franklin                Chemist  1920-07-25  1958-04-16   37\n",
       "William Gosset              Statistician  1876-06-13  1937-10-16   61\n",
       "Florence Nightingale               Nurse  1820-05-12  1910-08-13   90\n",
       "Marie Curie                      Chemist  1867-11-07  1934-07-04   66\n",
       "Rachel Carson                  Biologist  1907-05-27  1964-04-14   56\n",
       "John Snow                      Physician  1813-03-15  1858-06-16   45\n",
       "Alan Turing           Computer Scientist  1912-06-23  1954-06-07   41\n",
       "Johann Gauss               Mathematician  1777-04-30  1855-02-23   77"
      ]
     },
     "execution_count": 6,
     "metadata": {},
     "output_type": "execute_result"
    }
   ],
   "source": [
    "# scientists dataframe\n",
    "scientists = pd.read_csv('data/scientists.csv')\n",
    "scientists = pd.DataFrame(scientists, columns=['Occupation', 'Born', 'Died', 'Age', 'Name'])\n",
    "scientists = scientists.set_index('Name')\n",
    "scientists"
   ]
  },
  {
   "cell_type": "markdown",
   "metadata": {},
   "source": [
    "If we use the `.loc` method to subset the first row of our scientists dataframe, we will get a series object back"
   ]
  },
  {
   "cell_type": "code",
   "execution_count": 7,
   "metadata": {},
   "outputs": [
    {
     "name": "stdout",
     "output_type": "stream",
     "text": [
      "<class 'pandas.core.series.Series'> \n",
      "\n",
      "Occupation    Statistician\n",
      "Born            1876-06-13\n",
      "Died            1937-10-16\n",
      "Age                     61\n",
      "Name: William Gosset, dtype: object \n",
      "\n"
     ]
    }
   ],
   "source": [
    "first_row = scientists.loc['William Gosset'] # location[row_index, column_index]\n",
    "print(type(first_row), '\\n')\n",
    "print(first_row, '\\n')"
   ]
  },
  {
   "cell_type": "markdown",
   "metadata": {},
   "source": [
    "* When a series is printed (i.e., the string representation), the index is printed down as the first ‘column’, and the values\n",
    "are printed as the second ‘column’ \n",
    "* There are many attributes and methods associated with a series object\n",
    "* Two examples of attributes are index and values"
   ]
  },
  {
   "cell_type": "code",
   "execution_count": 198,
   "metadata": {},
   "outputs": [
    {
     "name": "stdout",
     "output_type": "stream",
     "text": [
      "P01 \n",
      " Index(['Occupation', 'Born', 'Died', 'Age'], dtype='object') \n",
      "\n",
      "P02 \n",
      " ['Statistician' '1876-06-13' '1937-10-16' 61] \n",
      "\n"
     ]
    }
   ],
   "source": [
    "print('P01 \\n', first_row.index, '\\n')\n",
    "print('P02 \\n', first_row.values, '\\n')"
   ]
  },
  {
   "cell_type": "markdown",
   "metadata": {},
   "source": [
    "An example of a series method is keys, which is an alias for the index attribute."
   ]
  },
  {
   "cell_type": "code",
   "execution_count": 199,
   "metadata": {},
   "outputs": [
    {
     "name": "stdout",
     "output_type": "stream",
     "text": [
      "P03 \n",
      " Occupation \n",
      "\n",
      "P04 \n",
      " Occupation \n",
      "\n",
      "P05 \n",
      " Index(['Occupation', 'Born', 'Died', 'Age'], dtype='object') \n",
      "\n"
     ]
    }
   ],
   "source": [
    "# get the first index using an attribute\n",
    "print('P03 \\n', first_row.index[0], '\\n')\n",
    "# get the first index using a method \n",
    "print('P04 \\n', first_row.keys()[0], '\\n')\n",
    "# keys\n",
    "print('P05 \\n', first_row.keys(), '\\n')"
   ]
  },
  {
   "cell_type": "markdown",
   "metadata": {},
   "source": [
    "### The series is ndarray-like"
   ]
  },
  {
   "cell_type": "markdown",
   "metadata": {},
   "source": [
    "* The Pandas.Series is very similar to the numpy.ndarray\n",
    "* This means that many methods and functions that operate on an ndarray will also operate on a series\n",
    "* People will also refer to a series as a ‘vector’"
   ]
  },
  {
   "cell_type": "code",
   "execution_count": 9,
   "metadata": {},
   "outputs": [
    {
     "name": "stdout",
     "output_type": "stream",
     "text": [
      "A01 \n",
      " Name\n",
      "Rosaline Franklin       37\n",
      "William Gosset          61\n",
      "Florence Nightingale    90\n",
      "Marie Curie             66\n",
      "Rachel Carson           56\n",
      "John Snow               45\n",
      "Alan Turing             41\n",
      "Johann Gauss            77\n",
      "Name: Age, dtype: int64 \n",
      "\n",
      "A02 \n",
      " 59.125 \n",
      "\n",
      "A03 \n",
      " 37 \n",
      "\n",
      "A04 \n",
      " 90 \n",
      "\n",
      "A05 \n",
      " 18.325918413937288 \n",
      "\n"
     ]
    }
   ],
   "source": [
    "# get the ’Age’ column # Similar to numpy ndarray\n",
    "ages = scientists['Age'] \n",
    "print('A01 \\n', ages, '\\n')\n",
    "print('A02 \\n', ages.mean(), '\\n')\n",
    "print('A03 \\n', ages.min(), '\\n')\n",
    "print('A04 \\n', ages.max(), '\\n')\n",
    "print('A05 \\n', ages.std(), '\\n')"
   ]
  },
  {
   "cell_type": "code",
   "execution_count": 10,
   "metadata": {},
   "outputs": [
    {
     "name": "stdout",
     "output_type": "stream",
     "text": [
      "B01 \n",
      " Name\n",
      "Rosaline Franklin       37\n",
      "William Gosset          61\n",
      "Florence Nightingale    90\n",
      "Marie Curie             66\n",
      "Rachel Carson           56\n",
      "John Snow               45\n",
      "Alan Turing             41\n",
      "Johann Gauss            77\n",
      "Name: Age, dtype: int64 \n",
      "\n",
      "B03 \n",
      " count     8.000000\n",
      "mean     59.125000\n",
      "std      18.325918\n",
      "min      37.000000\n",
      "25%      44.000000\n",
      "50%      58.500000\n",
      "75%      68.750000\n",
      "max      90.000000\n",
      "Name: Age, dtype: float64 \n",
      "\n"
     ]
    }
   ],
   "source": [
    "print('B01 \\n', ages, '\\n')\n",
    "print('B03 \\n', ages.describe(), '\\n')"
   ]
  },
  {
   "cell_type": "code",
   "execution_count": 11,
   "metadata": {},
   "outputs": [
    {
     "name": "stdout",
     "output_type": "stream",
     "text": [
      "B04 \n",
      " Name\n",
      "William Gosset          61\n",
      "Florence Nightingale    90\n",
      "Marie Curie             66\n",
      "Johann Gauss            77\n",
      "Name: Age, dtype: int64 \n",
      "\n",
      "B05 \n",
      " Name\n",
      "Rosaline Franklin       False\n",
      "William Gosset           True\n",
      "Florence Nightingale     True\n",
      "Marie Curie              True\n",
      "Rachel Carson           False\n",
      "John Snow               False\n",
      "Alan Turing             False\n",
      "Johann Gauss             True\n",
      "Name: Age, dtype: bool \n",
      "\n",
      "B06 \n",
      " <class 'pandas.core.series.Series'> \n",
      "\n"
     ]
    }
   ],
   "source": [
    "print('B04 \\n', ages[ages > ages.mean()], '\\n')\n",
    "print('B05 \\n', ages > ages.mean(), '\\n')\n",
    "print('B06 \\n', type(ages > ages.mean()), '\\n')"
   ]
  },
  {
   "cell_type": "code",
   "execution_count": 202,
   "metadata": {},
   "outputs": [
    {
     "name": "stdout",
     "output_type": "stream",
     "text": [
      "B07 \n",
      " Name\n",
      "Rosaline Franklin    37\n",
      "William Gosset       61\n",
      "Rachel Carson        56\n",
      "John Snow            45\n",
      "Name: Age, dtype: int64 \n",
      "\n"
     ]
    }
   ],
   "source": [
    "# get index 0, 1, 4, and 5\n",
    "manual_bool_values = [True, True, False, False, True, True,            \n",
    "                                       False, False]\n",
    "print('B07 \\n', ages[manual_bool_values], '\\n')"
   ]
  },
  {
   "cell_type": "markdown",
   "metadata": {},
   "source": [
    "### Operations Are Vectorized"
   ]
  },
  {
   "cell_type": "markdown",
   "metadata": {},
   "source": [
    "* Many of the methods that work on series (and also dataframes) are vectorized\n",
    "* It means that they work on the entire vector simultaneously\n",
    "* It makes the code easier to read, and typically there are optimizations to make calculations faster"
   ]
  },
  {
   "cell_type": "code",
   "execution_count": 203,
   "metadata": {},
   "outputs": [
    {
     "name": "stdout",
     "output_type": "stream",
     "text": [
      "0    37\n",
      "1    61\n",
      "2    90\n",
      "3    66\n",
      "4    56\n",
      "5    45\n",
      "6    41\n",
      "7    77\n",
      "Name: Age, dtype: int64 \n",
      "\n",
      "C01 \n",
      " 0     74\n",
      "1    122\n",
      "2    180\n",
      "3    132\n",
      "4    112\n",
      "5     90\n",
      "6     82\n",
      "7    154\n",
      "Name: Age, dtype: int64 \n",
      "\n"
     ]
    }
   ],
   "source": [
    "# Vectors of same length\n",
    "# change the index of age by number from 0 to 7\n",
    "ages = pd.Series(ages.values, index=range(len(ages)))\n",
    "ages.name = 'Age'\n",
    "print(ages, '\\n')\n",
    "print('C01 \\n', ages+ages, '\\n')"
   ]
  },
  {
   "cell_type": "markdown",
   "metadata": {},
   "source": [
    "* When you are working with vectors of different lengths, the behavior will depend on the type of the vectors\n",
    "* With a Series, the vectors will preform an operation matched by the index\n",
    "* The rest of the resulting vector will be filled with a ‘missing’ value, this is denoted with an NaN, for ‘not a number’\n",
    "* This type of behavior is called ‘broadcasting’ and it differs between languages. \n",
    "* Broadcasting in Pandas refers to how operations are calculated between arrays with different shapes"
   ]
  },
  {
   "cell_type": "code",
   "execution_count": 12,
   "metadata": {},
   "outputs": [
    {
     "name": "stdout",
     "output_type": "stream",
     "text": [
      "C02 \n",
      " 0   NaN\n",
      "1   NaN\n",
      "2   NaN\n",
      "3   NaN\n",
      "4   NaN\n",
      "5   NaN\n",
      "6   NaN\n",
      "7   NaN\n",
      "0   NaN\n",
      "1   NaN\n",
      "2   NaN\n",
      "3   NaN\n",
      "4   NaN\n",
      "5   NaN\n",
      "6   NaN\n",
      "7   NaN\n",
      "dtype: float64 \n",
      "\n",
      "C02 \n",
      " Index([0, 1, 2, 3, 4, 5, 6, 7, '0', '1', '2', '3', '4', '5', '6', '7'], dtype='object') \n",
      "\n"
     ]
    }
   ],
   "source": [
    "ages1 = pd.Series(ages.values, index=range(len(ages)))\n",
    "ages2 = pd.Series(ages.values, index=['0', '1', '2', '3', '4', '5', '6', '7'])\n",
    "ages3 = ages1+ages2\n",
    "# ages1.name = 'Age'\n",
    "# print(ages1, '\\n')\n",
    "print('C02 \\n', ages3, '\\n')\n",
    "print('C02 \\n', ages3.index, '\\n')"
   ]
  },
  {
   "cell_type": "code",
   "execution_count": 205,
   "metadata": {},
   "outputs": [
    {
     "name": "stdout",
     "output_type": "stream",
     "text": [
      "C11 \n",
      " 0    40.14\n",
      "1    64.14\n",
      "2    93.14\n",
      "3    69.14\n",
      "4    59.14\n",
      "5    48.14\n",
      "6    44.14\n",
      "7    80.14\n",
      "Name: Age, dtype: float64 \n",
      "\n",
      "C12 \n",
      " 0    116.18\n",
      "1    191.54\n",
      "2    282.60\n",
      "3    207.24\n",
      "4    175.84\n",
      "5    141.30\n",
      "6    128.74\n",
      "7    241.78\n",
      "Name: Age, dtype: float64 \n",
      "\n"
     ]
    }
   ],
   "source": [
    "# Vectors with Scalars\n",
    "print('C11 \\n', ages+3.14, '\\n')\n",
    "print('C12 \\n', ages*3.14, '\\n')"
   ]
  },
  {
   "cell_type": "code",
   "execution_count": 206,
   "metadata": {},
   "outputs": [
    {
     "name": "stdout",
     "output_type": "stream",
     "text": [
      "C21 \n",
      " 0      1\n",
      "1    100\n",
      "dtype: int64 \n",
      "\n",
      "C22 \n",
      " 0    37\n",
      "1    61\n",
      "2    90\n",
      "3    66\n",
      "4    56\n",
      "5    45\n",
      "6    41\n",
      "7    77\n",
      "Name: Age, dtype: int64 \n",
      "\n",
      "C23 \n",
      " 0     38.0\n",
      "1    161.0\n",
      "2      NaN\n",
      "3      NaN\n",
      "4      NaN\n",
      "5      NaN\n",
      "6      NaN\n",
      "7      NaN\n",
      "dtype: float64 \n",
      "\n"
     ]
    }
   ],
   "source": [
    "print('C21 \\n', pd.Series([1,100]), '\\n')\n",
    "print('C22 \\n', ages, '\\n')\n",
    "print('C23 \\n', ages + pd.Series([1,100]), '\\n')"
   ]
  },
  {
   "cell_type": "code",
   "execution_count": 207,
   "metadata": {},
   "outputs": [
    {
     "name": "stdout",
     "output_type": "stream",
     "text": [
      "D01 \n",
      " 0    37\n",
      "1    61\n",
      "2    90\n",
      "3    66\n",
      "4    56\n",
      "5    45\n",
      "6    41\n",
      "7    77\n",
      "Name: Age, dtype: int64 \n",
      "\n",
      "D02 \n",
      " 7    77\n",
      "6    41\n",
      "5    45\n",
      "4    56\n",
      "3    66\n",
      "2    90\n",
      "1    61\n",
      "0    37\n",
      "Name: Age, dtype: int64 \n",
      "\n"
     ]
    }
   ],
   "source": [
    "# Vectors with Common Index Labels\n",
    "# ages as they appear in the data\n",
    "print('D01 \\n', ages, '\\n')\n",
    "rev_ages = ages.sort_index(ascending=False)\n",
    "print('D02 \\n', rev_ages, '\\n')"
   ]
  },
  {
   "cell_type": "code",
   "execution_count": 209,
   "metadata": {},
   "outputs": [
    {
     "name": "stdout",
     "output_type": "stream",
     "text": [
      "D03 \n",
      " 0     74\n",
      "1    122\n",
      "2    180\n",
      "3    132\n",
      "4    112\n",
      "5     90\n",
      "6     82\n",
      "7    154\n",
      "Name: Age, dtype: int64 \n",
      "\n",
      "D04 \n",
      " 0     74\n",
      "1    122\n",
      "2    180\n",
      "3    132\n",
      "4    112\n",
      "5     90\n",
      "6     82\n",
      "7    154\n",
      "Name: Age, dtype: int64 \n",
      "\n"
     ]
    }
   ],
   "source": [
    "# reference output # to show index label alignment \n",
    "print('D03 \\n', ages*2, '\\n')\n",
    "# note how we get the same values\n",
    "print('D04 \\n', ages + rev_ages, '\\n')"
   ]
  },
  {
   "cell_type": "markdown",
   "metadata": {},
   "source": [
    "### DataFrame"
   ]
  },
  {
   "cell_type": "markdown",
   "metadata": {},
   "source": [
    "* The DataFrame is the most common Pandas object. \n",
    "* It can be thought of as Python’s way of storing spreadsheetlike data.\n",
    "* Many of the common features with the Series carry over into the DataFrame."
   ]
  },
  {
   "cell_type": "code",
   "execution_count": 13,
   "metadata": {},
   "outputs": [
    {
     "name": "stdout",
     "output_type": "stream",
     "text": [
      "<class 'pandas.core.frame.DataFrame'>\n",
      "                   Name        Born        Died  Age          Occupation\n",
      "0     Rosaline Franklin  1920-07-25  1958-04-16   37             Chemist\n",
      "1        William Gosset  1876-06-13  1937-10-16   61        Statistician\n",
      "2  Florence Nightingale  1820-05-12  1910-08-13   90               Nurse\n",
      "3           Marie Curie  1867-11-07  1934-07-04   66             Chemist\n",
      "4         Rachel Carson  1907-05-27  1964-04-14   56           Biologist\n",
      "5             John Snow  1813-03-15  1858-06-16   45           Physician\n",
      "6           Alan Turing  1912-06-23  1954-06-07   41  Computer Scientist\n",
      "7          Johann Gauss  1777-04-30  1855-02-23   77       Mathematician\n"
     ]
    }
   ],
   "source": [
    "scientists = pd.read_csv('data/scientists.csv')\n",
    "print(type(scientists))\n",
    "print(scientists)"
   ]
  },
  {
   "cell_type": "markdown",
   "metadata": {},
   "source": [
    "### Creating a DataFrame"
   ]
  },
  {
   "cell_type": "markdown",
   "metadata": {},
   "source": [
    "* A DataFrame can be thought of as a dictionary of Series objects\n",
    "* This is why dictionaries are the most common way of creating a DataFrame\n",
    "* The key will represent the column name, and the values will be the contents of the column"
   ]
  },
  {
   "cell_type": "code",
   "execution_count": 211,
   "metadata": {},
   "outputs": [
    {
     "name": "stdout",
     "output_type": "stream",
     "text": [
      "                Name    Occupation        Born        Died  Age\n",
      "0  Rosaline Franklin       Chemist  1920-07-25  1958-04-16   37\n",
      "1     William Gosset  Statistician  1876-06-13  1937-10-16   61 \n",
      "\n"
     ]
    }
   ],
   "source": [
    "scientists = pd.DataFrame({\n",
    "                ' Name': ['Rosaline Franklin', 'William Gosset'],\n",
    "                ' Occupation': ['Chemist', 'Statistician'], \n",
    "                ' Born': ['1920-07-25', '1876-06-13'],\n",
    "                ' Died': ['1958-04-16', '1937-10-16'], \n",
    "                ' Age': [37, 61]})\n",
    "print(scientists, '\\n')"
   ]
  },
  {
   "cell_type": "code",
   "execution_count": 212,
   "metadata": {},
   "outputs": [
    {
     "name": "stdout",
     "output_type": "stream",
     "text": [
      "                     Occupation        Born        Died  Age\n",
      "Rosaline Franklin       Chemist  1920-07-25  1958-04-16   37\n",
      "William Gosset     Statistician  1876-06-13  1937-10-16   61 \n",
      "\n"
     ]
    }
   ],
   "source": [
    "scientists = pd.DataFrame(\n",
    "    data={'Occupation': ['Chemist', 'Statistician'], \n",
    "          'Born': ['1920-07-25', '1876-06-13'],\n",
    "          'Died': ['1958-04-16', '1937-10-16'], \n",
    "          'Age': [37, 61]},\n",
    "    index=['Rosaline Franklin', 'William Gosset'], \n",
    "    columns=['Occupation', 'Born', 'Died', 'Age'])\n",
    "print(scientists, '\\n')"
   ]
  },
  {
   "cell_type": "code",
   "execution_count": 213,
   "metadata": {},
   "outputs": [
    {
     "name": "stdout",
     "output_type": "stream",
     "text": [
      "\n",
      " z21 \n",
      " 0    1.0\n",
      "1    3.0\n",
      "2    5.0\n",
      "3    NaN\n",
      "4    6.0\n",
      "5    8.0\n",
      "dtype: float64 \n",
      "\n",
      "\n",
      " PD11 \n",
      " DatetimeIndex(['2013-01-01', '2013-01-02', '2013-01-03', '2013-01-04',\n",
      "               '2013-01-05', '2013-01-06'],\n",
      "              dtype='datetime64[ns]', freq='D') \n",
      "\n"
     ]
    }
   ],
   "source": [
    "# Datetime\n",
    "z21 = pd.Series([1,3,5,np.nan,6,8]); \n",
    "print('\\n z21 \\n', z21, '\\n')\n",
    "dates = pd.date_range('20130101', periods=6);  \n",
    "print('\\n PD11 \\n', dates, '\\n')"
   ]
  },
  {
   "cell_type": "code",
   "execution_count": 214,
   "metadata": {},
   "outputs": [
    {
     "name": "stdout",
     "output_type": "stream",
     "text": [
      "\n",
      " PD12 \n",
      "                    A         B         C         D\n",
      "2013-01-01  2.512013  0.619043 -1.349623  0.232023\n",
      "2013-01-02  1.171309  0.403829  1.175753  0.402619\n",
      "2013-01-03 -0.557745  1.013880 -0.880502  0.306881\n",
      "2013-01-04  0.395355 -1.616468 -0.380885 -0.314516\n",
      "2013-01-05 -0.108063  0.169742  0.388890  1.068679\n",
      "2013-01-06  0.640821  0.857723 -0.134049 -0.840510 \n",
      "\n"
     ]
    }
   ],
   "source": [
    "# Matrix-like\n",
    "df21 = pd.DataFrame(np.random.randn(6,4), index=dates, columns=list('ABCD'))\n",
    "print('\\n PD12 \\n', df21, '\\n')"
   ]
  },
  {
   "cell_type": "code",
   "execution_count": 216,
   "metadata": {},
   "outputs": [
    {
     "name": "stdout",
     "output_type": "stream",
     "text": [
      "\n",
      " PD21 \n",
      "      A          B    C  D      E    F\n",
      "0  1.0 2023-01-02  1.0  3   test  foo\n",
      "1  1.0 2023-01-02  1.0  3  train  foo\n",
      "2  1.0 2023-01-02  1.0  3   test  foo\n",
      "3  1.0 2023-01-02  1.0  3  train  foo \n",
      "\n"
     ]
    }
   ],
   "source": [
    "df22 = pd.DataFrame({ 'A' : 1.,\n",
    "                      'B' : pd.Timestamp('20230102'),\n",
    "                      'C' : pd.Series(1,index=list(range(4)),dtype='float32'),\n",
    "                      'D' : np.array([3] * 4,dtype='int32'),\n",
    "                      'E' : pd.Categorical([\"test\",\"train\",\"test\",\"train\"]),\n",
    "                      'F' : 'foo' }) \n",
    "print('\\n PD21 \\n', df22, '\\n')"
   ]
  },
  {
   "cell_type": "code",
   "execution_count": 217,
   "metadata": {},
   "outputs": [
    {
     "name": "stdout",
     "output_type": "stream",
     "text": [
      "\n",
      " PD22 \n",
      " A          float64\n",
      "B    datetime64[s]\n",
      "C          float32\n",
      "D            int32\n",
      "E         category\n",
      "F           object\n",
      "dtype: object \n",
      "\n",
      "\n",
      " PD23 \n",
      " Index([0, 1, 2, 3], dtype='int64') \n",
      "\n",
      "\n",
      " PD24 \n",
      " Index(['A', 'B', 'C', 'D', 'E', 'F'], dtype='object') \n",
      "\n"
     ]
    }
   ],
   "source": [
    "print('\\n PD22 \\n', df22.dtypes, '\\n')\n",
    "print('\\n PD23 \\n', df22.index, '\\n')\n",
    "print('\\n PD24 \\n', df22.columns, '\\n')"
   ]
  },
  {
   "cell_type": "code",
   "execution_count": 218,
   "metadata": {},
   "outputs": [
    {
     "name": "stdout",
     "output_type": "stream",
     "text": [
      "\n",
      " PD25 \n",
      " [[1.0 Timestamp('2023-01-02 00:00:00') 1.0 3 'test' 'foo']\n",
      " [1.0 Timestamp('2023-01-02 00:00:00') 1.0 3 'train' 'foo']\n",
      " [1.0 Timestamp('2023-01-02 00:00:00') 1.0 3 'test' 'foo']\n",
      " [1.0 Timestamp('2023-01-02 00:00:00') 1.0 3 'train' 'foo']] \n",
      "\n",
      "\n",
      " PD26 \n",
      "          A                    B    C    D\n",
      "count  4.0                    4  4.0  4.0\n",
      "mean   1.0  2023-01-02 00:00:00  1.0  3.0\n",
      "min    1.0  2023-01-02 00:00:00  1.0  3.0\n",
      "25%    1.0  2023-01-02 00:00:00  1.0  3.0\n",
      "50%    1.0  2023-01-02 00:00:00  1.0  3.0\n",
      "75%    1.0  2023-01-02 00:00:00  1.0  3.0\n",
      "max    1.0  2023-01-02 00:00:00  1.0  3.0\n",
      "std    0.0                  NaN  0.0  0.0 \n",
      "\n",
      "\n",
      " PD27 \n",
      "                      0                    1                    2  \\\n",
      "A                  1.0                  1.0                  1.0   \n",
      "B  2023-01-02 00:00:00  2023-01-02 00:00:00  2023-01-02 00:00:00   \n",
      "C                  1.0                  1.0                  1.0   \n",
      "D                    3                    3                    3   \n",
      "E                 test                train                 test   \n",
      "F                  foo                  foo                  foo   \n",
      "\n",
      "                     3  \n",
      "A                  1.0  \n",
      "B  2023-01-02 00:00:00  \n",
      "C                  1.0  \n",
      "D                    3  \n",
      "E                train  \n",
      "F                  foo   \n",
      "\n"
     ]
    }
   ],
   "source": [
    "print('\\n PD25 \\n', df22.values, '\\n')\n",
    "print('\\n PD26 \\n', df22.describe(), '\\n')\n",
    "print('\\n PD27 \\n', df22.T, '\\n')   # Transpose"
   ]
  },
  {
   "cell_type": "code",
   "execution_count": 219,
   "metadata": {},
   "outputs": [
    {
     "name": "stdout",
     "output_type": "stream",
     "text": [
      "\n",
      " PD28 \n",
      "      F      E  D    C          B    A\n",
      "0  foo   test  3  1.0 2023-01-02  1.0\n",
      "1  foo  train  3  1.0 2023-01-02  1.0\n",
      "2  foo   test  3  1.0 2023-01-02  1.0\n",
      "3  foo  train  3  1.0 2023-01-02  1.0 \n",
      "\n",
      "\n",
      " PD28-2 \n",
      "      A          B    C  D      E    F\n",
      "3  1.0 2023-01-02  1.0  3  train  foo\n",
      "2  1.0 2023-01-02  1.0  3   test  foo\n",
      "1  1.0 2023-01-02  1.0  3  train  foo\n",
      "0  1.0 2023-01-02  1.0  3   test  foo \n",
      "\n",
      "\n",
      " PD29 \n",
      "      A          B    C  D      E    F\n",
      "0  1.0 2023-01-02  1.0  3   test  foo\n",
      "2  1.0 2023-01-02  1.0  3   test  foo\n",
      "1  1.0 2023-01-02  1.0  3  train  foo\n",
      "3  1.0 2023-01-02  1.0  3  train  foo \n",
      "\n"
     ]
    }
   ],
   "source": [
    "print('\\n PD28 \\n', df22.sort_index(axis=1, ascending=False), '\\n') # sorting by an axis \n",
    "print('\\n PD28-2 \\n', df22.sort_index(axis=0, ascending=False), '\\n') # sorting by an axis \n",
    "print('\\n PD29 \\n', df22.sort_values(by='E') , '\\n')    # sorting by values "
   ]
  },
  {
   "cell_type": "code",
   "execution_count": 144,
   "metadata": {},
   "outputs": [
    {
     "data": {
      "text/html": [
       "<div>\n",
       "<style scoped>\n",
       "    .dataframe tbody tr th:only-of-type {\n",
       "        vertical-align: middle;\n",
       "    }\n",
       "\n",
       "    .dataframe tbody tr th {\n",
       "        vertical-align: top;\n",
       "    }\n",
       "\n",
       "    .dataframe thead th {\n",
       "        text-align: right;\n",
       "    }\n",
       "</style>\n",
       "<table border=\"1\" class=\"dataframe\">\n",
       "  <thead>\n",
       "    <tr style=\"text-align: right;\">\n",
       "      <th></th>\n",
       "      <th>account</th>\n",
       "      <th>Jan</th>\n",
       "      <th>Feb</th>\n",
       "      <th>Mar</th>\n",
       "    </tr>\n",
       "  </thead>\n",
       "  <tbody>\n",
       "    <tr>\n",
       "      <th>0</th>\n",
       "      <td>Jones LLC</td>\n",
       "      <td>150</td>\n",
       "      <td>200</td>\n",
       "      <td>50</td>\n",
       "    </tr>\n",
       "    <tr>\n",
       "      <th>1</th>\n",
       "      <td>Alpha Co</td>\n",
       "      <td>200</td>\n",
       "      <td>210</td>\n",
       "      <td>90</td>\n",
       "    </tr>\n",
       "    <tr>\n",
       "      <th>2</th>\n",
       "      <td>Blue Inc</td>\n",
       "      <td>140</td>\n",
       "      <td>215</td>\n",
       "      <td>95</td>\n",
       "    </tr>\n",
       "  </tbody>\n",
       "</table>\n",
       "</div>"
      ],
      "text/plain": [
       "     account  Jan  Feb  Mar\n",
       "0  Jones LLC  150  200   50\n",
       "1   Alpha Co  200  210   90\n",
       "2   Blue Inc  140  215   95"
      ]
     },
     "execution_count": 144,
     "metadata": {},
     "output_type": "execute_result"
    }
   ],
   "source": [
    "# Page 50\n",
    "### Creating pandas dataframe from list and dictionary\n",
    "### 1. List to dataframe\n",
    "import pandas as pd\n",
    "\n",
    "sales = [('Jones LLC', 150, 200, 50),\n",
    "         ('Alpha Co', 200, 210, 90),\n",
    "         ('Blue Inc', 140, 215, 95)]\n",
    "labels = ['account', 'Jan', 'Feb', 'Mar']\n",
    "\n",
    "# row oriented approach : from_records\n",
    "df = pd.DataFrame.from_records(sales, columns=labels)\n",
    "df"
   ]
  },
  {
   "cell_type": "markdown",
   "metadata": {},
   "source": [
    "* 데이터프레임은 딕셔너리를 전달한다. 딕셔너리는 key와 value 로 이루어진 데이터쌍들의 순서를 보장하지는 않는다. \n",
    "* 그러나, 'OrderedDict'를 사용하면, 순서가 보장된 딕셔너리를 전달한다. "
   ]
  },
  {
   "cell_type": "code",
   "execution_count": 220,
   "metadata": {},
   "outputs": [
    {
     "name": "stdout",
     "output_type": "stream",
     "text": [
      "\n",
      " df1 \n",
      "      account  Jan  Feb  Mar\n",
      "0  Jones LLC  150  200  140\n",
      "1   Alpha Co  200  210  215\n",
      "2   Blue Inc   50   90   95 \n",
      "\n",
      "\n",
      " df2 \n",
      "      account  Jan  Feb  Mar\n",
      "0  Jones LLC  150  200  140\n",
      "1   Alpha Co  200  210  215\n",
      "2   Blue Inc   50   90   95 \n",
      "\n"
     ]
    }
   ],
   "source": [
    "### 2. Dictionary to dataframe\n",
    "from collections import OrderedDict\n",
    "from datetime import date\n",
    "\n",
    "# row oriented approach (list of dictionaries)\n",
    "sales = [{'account': 'Jones LLC', 'Jan': 150, 'Feb': 200, 'Mar': 140},\n",
    "         {'account': 'Alpha Co',  'Jan': 200, 'Feb': 210, 'Mar': 215},\n",
    "         {'account': 'Blue Inc',  'Jan': 50,  'Feb': 90,  'Mar': 95 }]\n",
    "df1 = pd.DataFrame(sales)\n",
    "print('\\n df1 \\n', df1, '\\n')\n",
    "\n",
    "# column oriented approach\n",
    "sales = {'account': ['Jones LLC', 'Alpha Co', 'Blue Inc'],\n",
    "            'Jan': [150, 200, 50],\n",
    "            'Feb': [200, 210, 90],\n",
    "            'Mar': [140, 215, 95]}\n",
    "df2 = pd.DataFrame.from_dict(sales)\n",
    "print('\\n df2 \\n', df2, '\\n')\n"
   ]
  },
  {
   "cell_type": "code",
   "execution_count": 221,
   "metadata": {},
   "outputs": [
    {
     "data": {
      "text/html": [
       "<div>\n",
       "<style scoped>\n",
       "    .dataframe tbody tr th:only-of-type {\n",
       "        vertical-align: middle;\n",
       "    }\n",
       "\n",
       "    .dataframe tbody tr th {\n",
       "        vertical-align: top;\n",
       "    }\n",
       "\n",
       "    .dataframe thead th {\n",
       "        text-align: right;\n",
       "    }\n",
       "</style>\n",
       "<table border=\"1\" class=\"dataframe\">\n",
       "  <thead>\n",
       "    <tr style=\"text-align: right;\">\n",
       "      <th></th>\n",
       "      <th>account</th>\n",
       "      <th>Jan</th>\n",
       "      <th>Feb</th>\n",
       "      <th>Mar</th>\n",
       "    </tr>\n",
       "  </thead>\n",
       "  <tbody>\n",
       "    <tr>\n",
       "      <th>0</th>\n",
       "      <td>Jones LLC</td>\n",
       "      <td>150</td>\n",
       "      <td>200</td>\n",
       "      <td>140</td>\n",
       "    </tr>\n",
       "    <tr>\n",
       "      <th>1</th>\n",
       "      <td>Alpha Co</td>\n",
       "      <td>200</td>\n",
       "      <td>210</td>\n",
       "      <td>215</td>\n",
       "    </tr>\n",
       "    <tr>\n",
       "      <th>2</th>\n",
       "      <td>Blue Inc</td>\n",
       "      <td>50</td>\n",
       "      <td>90</td>\n",
       "      <td>95</td>\n",
       "    </tr>\n",
       "  </tbody>\n",
       "</table>\n",
       "</div>"
      ],
      "text/plain": [
       "     account  Jan  Feb  Mar\n",
       "0  Jones LLC  150  200  140\n",
       "1   Alpha Co  200  210  215\n",
       "2   Blue Inc   50   90   95"
      ]
     },
     "execution_count": 221,
     "metadata": {},
     "output_type": "execute_result"
    }
   ],
   "source": [
    "### 3. OrderedDict to dataframe\n",
    "\n",
    "sales = OrderedDict([ ('account', ['Jones LLC', 'Alpha Co', 'Blue Inc']),\n",
    "          ('Jan', [150, 200, 50]),\n",
    "          ('Feb',  [200, 210, 90]),\n",
    "          ('Mar', [140, 215, 95]) ] )\n",
    "df = pd.DataFrame.from_dict(sales)\n",
    "df"
   ]
  },
  {
   "cell_type": "markdown",
   "metadata": {},
   "source": [
    "#### However, starting from Python 3.7, dictionaries are guaranteed to maintain the order of insertion!"
   ]
  },
  {
   "cell_type": "code",
   "execution_count": 222,
   "metadata": {},
   "outputs": [
    {
     "data": {
      "text/plain": [
       "0       Rosaline Franklin\n",
       "1          William Gosset\n",
       "2    Florence Nightingale\n",
       "3             Marie Curie\n",
       "4           Rachel Carson\n",
       "5               John Snow\n",
       "6             Alan Turing\n",
       "7            Johann Gauss\n",
       "Name: Name, dtype: object"
      ]
     },
     "execution_count": 222,
     "metadata": {},
     "output_type": "execute_result"
    }
   ],
   "source": [
    "# Subsetting methods for columns\n",
    "scientists = pd.read_csv('data/scientists.csv')\n",
    "scientists['Name']"
   ]
  },
  {
   "cell_type": "code",
   "execution_count": 223,
   "metadata": {},
   "outputs": [
    {
     "data": {
      "text/html": [
       "<div>\n",
       "<style scoped>\n",
       "    .dataframe tbody tr th:only-of-type {\n",
       "        vertical-align: middle;\n",
       "    }\n",
       "\n",
       "    .dataframe tbody tr th {\n",
       "        vertical-align: top;\n",
       "    }\n",
       "\n",
       "    .dataframe thead th {\n",
       "        text-align: right;\n",
       "    }\n",
       "</style>\n",
       "<table border=\"1\" class=\"dataframe\">\n",
       "  <thead>\n",
       "    <tr style=\"text-align: right;\">\n",
       "      <th></th>\n",
       "      <th>Name</th>\n",
       "      <th>Age</th>\n",
       "    </tr>\n",
       "  </thead>\n",
       "  <tbody>\n",
       "    <tr>\n",
       "      <th>0</th>\n",
       "      <td>Rosaline Franklin</td>\n",
       "      <td>37</td>\n",
       "    </tr>\n",
       "    <tr>\n",
       "      <th>1</th>\n",
       "      <td>William Gosset</td>\n",
       "      <td>61</td>\n",
       "    </tr>\n",
       "    <tr>\n",
       "      <th>2</th>\n",
       "      <td>Florence Nightingale</td>\n",
       "      <td>90</td>\n",
       "    </tr>\n",
       "    <tr>\n",
       "      <th>3</th>\n",
       "      <td>Marie Curie</td>\n",
       "      <td>66</td>\n",
       "    </tr>\n",
       "    <tr>\n",
       "      <th>4</th>\n",
       "      <td>Rachel Carson</td>\n",
       "      <td>56</td>\n",
       "    </tr>\n",
       "    <tr>\n",
       "      <th>5</th>\n",
       "      <td>John Snow</td>\n",
       "      <td>45</td>\n",
       "    </tr>\n",
       "    <tr>\n",
       "      <th>6</th>\n",
       "      <td>Alan Turing</td>\n",
       "      <td>41</td>\n",
       "    </tr>\n",
       "    <tr>\n",
       "      <th>7</th>\n",
       "      <td>Johann Gauss</td>\n",
       "      <td>77</td>\n",
       "    </tr>\n",
       "  </tbody>\n",
       "</table>\n",
       "</div>"
      ],
      "text/plain": [
       "                   Name  Age\n",
       "0     Rosaline Franklin   37\n",
       "1        William Gosset   61\n",
       "2  Florence Nightingale   90\n",
       "3           Marie Curie   66\n",
       "4         Rachel Carson   56\n",
       "5             John Snow   45\n",
       "6           Alan Turing   41\n",
       "7          Johann Gauss   77"
      ]
     },
     "execution_count": 223,
     "metadata": {},
     "output_type": "execute_result"
    }
   ],
   "source": [
    "scientists[['Name', 'Age']]"
   ]
  },
  {
   "cell_type": "code",
   "execution_count": 68,
   "metadata": {},
   "outputs": [
    {
     "name": "stdout",
     "output_type": "stream",
     "text": [
      "Name           John Snow\n",
      "Born          1813-03-15\n",
      "Died          1858-06-16\n",
      "Age                   45\n",
      "Occupation     Physician\n",
      "Name: 5, dtype: object\n",
      "          Name        Born        Died  Age Occupation\n",
      "3  Marie Curie  1867-11-07  1934-07-04   66    Chemist\n",
      "5    John Snow  1813-03-15  1858-06-16   45  Physician\n"
     ]
    }
   ],
   "source": [
    "# Subsetting methods for rows\n",
    "print(scientists.loc[5])\n",
    "print(scientists.loc[[3,5]])"
   ]
  },
  {
   "cell_type": "code",
   "execution_count": 69,
   "metadata": {},
   "outputs": [
    {
     "name": "stdout",
     "output_type": "stream",
     "text": [
      "Name           John Snow\n",
      "Born          1813-03-15\n",
      "Died          1858-06-16\n",
      "Age                   45\n",
      "Occupation     Physician\n",
      "Name: 5, dtype: object\n",
      "          Name        Born        Died  Age          Occupation\n",
      "5    John Snow  1813-03-15  1858-06-16   45           Physician\n",
      "6  Alan Turing  1912-06-23  1954-06-07   41  Computer Scientist\n"
     ]
    }
   ],
   "source": [
    "print(scientists.iloc[5])\n",
    "print(scientists.iloc[[5,6]])"
   ]
  },
  {
   "cell_type": "code",
   "execution_count": 224,
   "metadata": {},
   "outputs": [
    {
     "name": "stdout",
     "output_type": "stream",
     "text": [
      "                   Name  Age\n",
      "0     Rosaline Franklin   37\n",
      "1        William Gosset   61\n",
      "2  Florence Nightingale   90\n",
      "3           Marie Curie   66\n",
      "4         Rachel Carson   56\n",
      "5             John Snow   45\n",
      "6           Alan Turing   41\n",
      "7          Johann Gauss   77\n"
     ]
    }
   ],
   "source": [
    "# Broadcasting\n",
    "scient = scientists[['Name', 'Age']]\n",
    "print(scient)"
   ]
  },
  {
   "cell_type": "code",
   "execution_count": 225,
   "metadata": {},
   "outputs": [
    {
     "name": "stdout",
     "output_type": "stream",
     "text": [
      "                                       Name  Age\n",
      "0        Rosaline FranklinRosaline Franklin   74\n",
      "1              William GossetWilliam Gosset  122\n",
      "2  Florence NightingaleFlorence Nightingale  180\n",
      "3                    Marie CurieMarie Curie  132\n",
      "4                Rachel CarsonRachel Carson  112\n",
      "5                        John SnowJohn Snow   90\n",
      "6                    Alan TuringAlan Turing   82\n",
      "7                  Johann GaussJohann Gauss  154\n"
     ]
    }
   ],
   "source": [
    "print(scient*2)"
   ]
  },
  {
   "cell_type": "markdown",
   "metadata": {},
   "source": [
    "### Boolean Subsetting DataFrame    "
   ]
  },
  {
   "cell_type": "markdown",
   "metadata": {},
   "source": [
    "* `df[column name]` Single column\n",
    "* `df[[ column1, column2, ... ]]` Multiple columns\n",
    "* `df.loc [ row label ]` Row by row index label (row name)\n",
    "* `df.loc [[ label1 , label2 , ...]]` Multiple rows by index label\n",
    "* `df.iloc[row number]` Row by row number\n",
    "* `df.iloc[[ row1, row2, ...]]` Multiple rows by index label or number\n",
    "* `df[bool]` Row based on bool\n",
    "* `df[[ bool1, bool2, ...]]` Multiple rows based on bool\n",
    "* `df[ start :stop: step ]` Rows based on slicing notation"
   ]
  },
  {
   "cell_type": "code",
   "execution_count": 72,
   "metadata": {},
   "outputs": [
    {
     "name": "stdout",
     "output_type": "stream",
     "text": [
      "D04 \n",
      "                    Name        Born        Died  Age     Occupation\n",
      "1        William Gosset  1876-06-13  1937-10-16   61   Statistician\n",
      "2  Florence Nightingale  1820-05-12  1910-08-13   90          Nurse\n",
      "3           Marie Curie  1867-11-07  1934-07-04   66        Chemist\n",
      "7          Johann Gauss  1777-04-30  1855-02-23   77  Mathematician \n",
      "\n"
     ]
    }
   ],
   "source": [
    "# Boolean vectors will subset rows\n",
    "print('D04 \\n', scientists[scientists['Age'] > \n",
    "         scientists['Age'].mean()], '\\n')"
   ]
  },
  {
   "cell_type": "code",
   "execution_count": 73,
   "metadata": {},
   "outputs": [
    {
     "data": {
      "text/plain": [
       "59.125"
      ]
     },
     "execution_count": 73,
     "metadata": {},
     "output_type": "execute_result"
    }
   ],
   "source": [
    "scientists['Age'].mean()"
   ]
  },
  {
   "cell_type": "code",
   "execution_count": 74,
   "metadata": {},
   "outputs": [
    {
     "data": {
      "text/plain": [
       "0    False\n",
       "1     True\n",
       "2     True\n",
       "3     True\n",
       "4    False\n",
       "5    False\n",
       "6    False\n",
       "7     True\n",
       "Name: Age, dtype: bool"
      ]
     },
     "execution_count": 74,
     "metadata": {},
     "output_type": "execute_result"
    }
   ],
   "source": [
    "scientists['Age'] > scientists['Age'].mean()"
   ]
  },
  {
   "cell_type": "code",
   "execution_count": 75,
   "metadata": {},
   "outputs": [
    {
     "name": "stdout",
     "output_type": "stream",
     "text": [
      "E01 \n",
      "                    Name        Born        Died  Age          Occupation\n",
      "0     Rosaline Franklin  1920-07-25  1958-04-16   37             Chemist\n",
      "1        William Gosset  1876-06-13  1937-10-16   61        Statistician\n",
      "2  Florence Nightingale  1820-05-12  1910-08-13   90               Nurse\n",
      "3           Marie Curie  1867-11-07  1934-07-04   66             Chemist\n",
      "4         Rachel Carson  1907-05-27  1964-04-14   56           Biologist\n",
      "5             John Snow  1813-03-15  1858-06-16   45           Physician\n",
      "6           Alan Turing  1912-06-23  1954-06-07   41  Computer Scientist\n",
      "7          Johann Gauss  1777-04-30  1855-02-23   77       Mathematician \n",
      "\n",
      "E03 \n",
      "                 Name        Born        Died  Age    Occupation\n",
      "0  Rosaline Franklin  1920-07-25  1958-04-16   37       Chemist\n",
      "1     William Gosset  1876-06-13  1937-10-16   61  Statistician\n",
      "4      Rachel Carson  1907-05-27  1964-04-14   56     Biologist\n",
      "5          John Snow  1813-03-15  1858-06-16   45     Physician \n",
      "\n"
     ]
    }
   ],
   "source": [
    "print('E01 \\n', scientists, '\\n')\n",
    "print('E03 \\n', scientists.iloc[[True, True, False, False, True, \n",
    "                                               True, False, False]], '\\n')"
   ]
  },
  {
   "cell_type": "code",
   "execution_count": 226,
   "metadata": {},
   "outputs": [
    {
     "data": {
      "text/html": [
       "<div>\n",
       "<style scoped>\n",
       "    .dataframe tbody tr th:only-of-type {\n",
       "        vertical-align: middle;\n",
       "    }\n",
       "\n",
       "    .dataframe tbody tr th {\n",
       "        vertical-align: top;\n",
       "    }\n",
       "\n",
       "    .dataframe thead th {\n",
       "        text-align: right;\n",
       "    }\n",
       "</style>\n",
       "<table border=\"1\" class=\"dataframe\">\n",
       "  <thead>\n",
       "    <tr style=\"text-align: right;\">\n",
       "      <th></th>\n",
       "      <th>A</th>\n",
       "      <th>B</th>\n",
       "      <th>C</th>\n",
       "      <th>D</th>\n",
       "    </tr>\n",
       "  </thead>\n",
       "  <tbody>\n",
       "    <tr>\n",
       "      <th>2022-02-01</th>\n",
       "      <td>-1.276203</td>\n",
       "      <td>-0.142481</td>\n",
       "      <td>0.556643</td>\n",
       "      <td>1.549209</td>\n",
       "    </tr>\n",
       "    <tr>\n",
       "      <th>2022-02-02</th>\n",
       "      <td>0.279091</td>\n",
       "      <td>0.940020</td>\n",
       "      <td>-0.614352</td>\n",
       "      <td>2.346162</td>\n",
       "    </tr>\n",
       "    <tr>\n",
       "      <th>2022-02-03</th>\n",
       "      <td>0.303628</td>\n",
       "      <td>1.115184</td>\n",
       "      <td>-1.421332</td>\n",
       "      <td>-0.474432</td>\n",
       "    </tr>\n",
       "    <tr>\n",
       "      <th>2022-02-04</th>\n",
       "      <td>-0.369006</td>\n",
       "      <td>0.672061</td>\n",
       "      <td>-0.556284</td>\n",
       "      <td>-1.183119</td>\n",
       "    </tr>\n",
       "    <tr>\n",
       "      <th>2022-02-05</th>\n",
       "      <td>1.069905</td>\n",
       "      <td>-0.114597</td>\n",
       "      <td>-0.310769</td>\n",
       "      <td>-0.743456</td>\n",
       "    </tr>\n",
       "    <tr>\n",
       "      <th>2022-02-06</th>\n",
       "      <td>-1.858371</td>\n",
       "      <td>1.604028</td>\n",
       "      <td>-2.188863</td>\n",
       "      <td>1.064257</td>\n",
       "    </tr>\n",
       "  </tbody>\n",
       "</table>\n",
       "</div>"
      ],
      "text/plain": [
       "                   A         B         C         D\n",
       "2022-02-01 -1.276203 -0.142481  0.556643  1.549209\n",
       "2022-02-02  0.279091  0.940020 -0.614352  2.346162\n",
       "2022-02-03  0.303628  1.115184 -1.421332 -0.474432\n",
       "2022-02-04 -0.369006  0.672061 -0.556284 -1.183119\n",
       "2022-02-05  1.069905 -0.114597 -0.310769 -0.743456\n",
       "2022-02-06 -1.858371  1.604028 -2.188863  1.064257"
      ]
     },
     "execution_count": 226,
     "metadata": {},
     "output_type": "execute_result"
    }
   ],
   "source": [
    "# Making a dataframe\n",
    "z31 = pd.Series([1,3,5,np.nan,6,8])\n",
    "\n",
    "dates = pd.date_range('20220201', periods=6)\n",
    "df31 = pd.DataFrame(np.random.randn(6,4), index=dates,\n",
    "           columns=list('ABCD'))\n",
    "df31"
   ]
  },
  {
   "cell_type": "code",
   "execution_count": 84,
   "metadata": {},
   "outputs": [
    {
     "name": "stdout",
     "output_type": "stream",
     "text": [
      "PA11 Apple \n",
      "                    A         B         C         D\n",
      "2022-02-01 -0.102168  0.315021  0.446248  0.183452\n",
      "2022-02-02  0.753542 -0.502519 -0.704075  0.017554 \n",
      "\n",
      "PA12 Apple \n",
      "                    A         B         C         D\n",
      "2022-02-01 -0.102168  0.315021  0.446248  0.183452\n",
      "2022-02-02  0.753542 -0.502519 -0.704075  0.017554 \n",
      "\n"
     ]
    }
   ],
   "source": [
    "print('PA11 Apple \\n', df31.head(2), '\\n')\n",
    "print('PA12 Apple \\n', df31[0:2], '\\n')"
   ]
  },
  {
   "cell_type": "code",
   "execution_count": 85,
   "metadata": {},
   "outputs": [
    {
     "name": "stdout",
     "output_type": "stream",
     "text": [
      "PA13 Apple \n",
      " 2022-02-01   -0.102168\n",
      "2022-02-02    0.753542\n",
      "2022-02-03    1.063801\n",
      "2022-02-04    0.039864\n",
      "2022-02-05   -0.659918\n",
      "2022-02-06    0.999473\n",
      "Freq: D, Name: A, dtype: float64 \n",
      "\n",
      "PA14 Apple \n",
      "                    A         B         C         D\n",
      "2022-02-02  0.753542 -0.502519 -0.704075  0.017554\n",
      "2022-02-03  1.063801  0.300808  1.088541 -0.110296\n",
      "2022-02-04  0.039864 -1.866120  1.508905  1.156505 \n",
      "\n"
     ]
    }
   ],
   "source": [
    "print('PA13 Apple \\n', df31['A'], '\\n')\n",
    "print('PA14 Apple \\n', df31['20220202':'20220204'], '\\n')"
   ]
  },
  {
   "cell_type": "code",
   "execution_count": 86,
   "metadata": {},
   "outputs": [
    {
     "name": "stdout",
     "output_type": "stream",
     "text": [
      "PA21 Apple \n",
      " A   -0.102168\n",
      "B    0.315021\n",
      "C    0.446248\n",
      "D    0.183452\n",
      "Name: 2022-02-01 00:00:00, dtype: float64 \n",
      "\n",
      "PA22 Apple \n",
      "                    A         B\n",
      "2022-02-01 -0.102168  0.315021\n",
      "2022-02-02  0.753542 -0.502519\n",
      "2022-02-03  1.063801  0.300808\n",
      "2022-02-04  0.039864 -1.866120\n",
      "2022-02-05 -0.659918  2.727276\n",
      "2022-02-06  0.999473  0.875198 \n",
      "\n",
      "PA23 Apple \n",
      " A    0.753542\n",
      "B   -0.502519\n",
      "Name: 2022-02-02 00:00:00, dtype: float64 \n",
      "\n"
     ]
    }
   ],
   "source": [
    "# Selection by label\n",
    "print('PA21 Apple \\n', df31.loc[dates[0]], '\\n')\n",
    "print('PA22 Apple \\n', df31.loc[:,['A','B']], '\\n')\n",
    "print('PA23 Apple \\n', df31.loc['20220202',['A','B']], '\\n')"
   ]
  },
  {
   "cell_type": "code",
   "execution_count": 87,
   "metadata": {},
   "outputs": [
    {
     "name": "stdout",
     "output_type": "stream",
     "text": [
      "PA24 Apple \n",
      "                    A         B\n",
      "2022-02-02  0.753542 -0.502519\n",
      "2022-02-03  1.063801  0.300808\n",
      "2022-02-04  0.039864 -1.866120 \n",
      "\n",
      "PA25 Apple \n",
      " -0.10216790702723064 \n",
      "\n",
      "PA26 Apple \n",
      " -0.10216790702723064 \n",
      "\n"
     ]
    }
   ],
   "source": [
    "print('PA24 Apple \\n', df31.loc['20220202':'20220204',['A','B']],\n",
    "           '\\n')\n",
    "print('PA25 Apple \\n', df31.loc[dates[0],'A'], '\\n')\n",
    "print('PA26 Apple \\n', df31.at[dates[0],'A'], '\\n') # single value, faster"
   ]
  },
  {
   "cell_type": "code",
   "execution_count": 229,
   "metadata": {},
   "outputs": [
    {
     "name": "stdout",
     "output_type": "stream",
     "text": [
      "PA41 Apple \n",
      "                    A         B         C         D\n",
      "2022-02-02  0.279091  0.940020 -0.614352  2.346162\n",
      "2022-02-03  0.303628  1.115184 -1.421332 -0.474432\n",
      "2022-02-05  1.069905 -0.114597 -0.310769 -0.743456 \n",
      "\n",
      "PA42 Apple \n",
      "                    A         B         C         D\n",
      "2022-02-01       NaN       NaN  0.556643  1.549209\n",
      "2022-02-02  0.279091  0.940020       NaN  2.346162\n",
      "2022-02-03  0.303628  1.115184       NaN       NaN\n",
      "2022-02-04       NaN  0.672061       NaN       NaN\n",
      "2022-02-05  1.069905       NaN       NaN       NaN\n",
      "2022-02-06       NaN  1.604028       NaN  1.064257 \n",
      "\n"
     ]
    }
   ],
   "source": [
    "# Boolean Indexing\n",
    "print('PA41 Apple \\n', df31[df31.A > 0], '\\n')\n",
    "print('PA42 Apple \\n', df31[df31 > 0], '\\n')"
   ]
  },
  {
   "cell_type": "code",
   "execution_count": 230,
   "metadata": {},
   "outputs": [
    {
     "name": "stdout",
     "output_type": "stream",
     "text": [
      "                   A         B         C         D      E\n",
      "2022-02-01 -1.276203 -0.142481  0.556643  1.549209    one\n",
      "2022-02-02  0.279091  0.940020 -0.614352  2.346162    one\n",
      "2022-02-03  0.303628  1.115184 -1.421332 -0.474432    two\n",
      "2022-02-04 -0.369006  0.672061 -0.556284 -1.183119  three\n",
      "2022-02-05  1.069905 -0.114597 -0.310769 -0.743456   four\n",
      "2022-02-06 -1.858371  1.604028 -2.188863  1.064257  three \n",
      "\n",
      "PA43 Apple \n",
      "                    A         B         C         D     E\n",
      "2022-02-03  0.303628  1.115184 -1.421332 -0.474432   two\n",
      "2022-02-05  1.069905 -0.114597 -0.310769 -0.743456  four \n",
      "\n"
     ]
    }
   ],
   "source": [
    "df32 = df31.copy()\n",
    "df32['E'] = ['one', 'one','two','three','four','three'];\n",
    "print(df32, '\\n')\n",
    "print('PA43 Apple \\n', df32[df32['E'].isin(['two','four'])], '\\n')"
   ]
  },
  {
   "cell_type": "markdown",
   "metadata": {},
   "source": [
    "### Make Changes to Series and DataFrame"
   ]
  },
  {
   "cell_type": "code",
   "execution_count": 231,
   "metadata": {},
   "outputs": [
    {
     "data": {
      "text/html": [
       "<div>\n",
       "<style scoped>\n",
       "    .dataframe tbody tr th:only-of-type {\n",
       "        vertical-align: middle;\n",
       "    }\n",
       "\n",
       "    .dataframe tbody tr th {\n",
       "        vertical-align: top;\n",
       "    }\n",
       "\n",
       "    .dataframe thead th {\n",
       "        text-align: right;\n",
       "    }\n",
       "</style>\n",
       "<table border=\"1\" class=\"dataframe\">\n",
       "  <thead>\n",
       "    <tr style=\"text-align: right;\">\n",
       "      <th></th>\n",
       "      <th>Name</th>\n",
       "      <th>Born</th>\n",
       "      <th>Died</th>\n",
       "      <th>Age</th>\n",
       "      <th>Occupation</th>\n",
       "    </tr>\n",
       "  </thead>\n",
       "  <tbody>\n",
       "    <tr>\n",
       "      <th>0</th>\n",
       "      <td>Rosaline Franklin</td>\n",
       "      <td>1920-07-25</td>\n",
       "      <td>1958-04-16</td>\n",
       "      <td>37</td>\n",
       "      <td>Chemist</td>\n",
       "    </tr>\n",
       "    <tr>\n",
       "      <th>1</th>\n",
       "      <td>William Gosset</td>\n",
       "      <td>1876-06-13</td>\n",
       "      <td>1937-10-16</td>\n",
       "      <td>61</td>\n",
       "      <td>Statistician</td>\n",
       "    </tr>\n",
       "    <tr>\n",
       "      <th>2</th>\n",
       "      <td>Florence Nightingale</td>\n",
       "      <td>1820-05-12</td>\n",
       "      <td>1910-08-13</td>\n",
       "      <td>90</td>\n",
       "      <td>Nurse</td>\n",
       "    </tr>\n",
       "    <tr>\n",
       "      <th>3</th>\n",
       "      <td>Marie Curie</td>\n",
       "      <td>1867-11-07</td>\n",
       "      <td>1934-07-04</td>\n",
       "      <td>66</td>\n",
       "      <td>Chemist</td>\n",
       "    </tr>\n",
       "    <tr>\n",
       "      <th>4</th>\n",
       "      <td>Rachel Carson</td>\n",
       "      <td>1907-05-27</td>\n",
       "      <td>1964-04-14</td>\n",
       "      <td>56</td>\n",
       "      <td>Biologist</td>\n",
       "    </tr>\n",
       "    <tr>\n",
       "      <th>5</th>\n",
       "      <td>John Snow</td>\n",
       "      <td>1813-03-15</td>\n",
       "      <td>1858-06-16</td>\n",
       "      <td>45</td>\n",
       "      <td>Physician</td>\n",
       "    </tr>\n",
       "    <tr>\n",
       "      <th>6</th>\n",
       "      <td>Alan Turing</td>\n",
       "      <td>1912-06-23</td>\n",
       "      <td>1954-06-07</td>\n",
       "      <td>41</td>\n",
       "      <td>Computer Scientist</td>\n",
       "    </tr>\n",
       "    <tr>\n",
       "      <th>7</th>\n",
       "      <td>Johann Gauss</td>\n",
       "      <td>1777-04-30</td>\n",
       "      <td>1855-02-23</td>\n",
       "      <td>77</td>\n",
       "      <td>Mathematician</td>\n",
       "    </tr>\n",
       "  </tbody>\n",
       "</table>\n",
       "</div>"
      ],
      "text/plain": [
       "                   Name        Born        Died  Age          Occupation\n",
       "0     Rosaline Franklin  1920-07-25  1958-04-16   37             Chemist\n",
       "1        William Gosset  1876-06-13  1937-10-16   61        Statistician\n",
       "2  Florence Nightingale  1820-05-12  1910-08-13   90               Nurse\n",
       "3           Marie Curie  1867-11-07  1934-07-04   66             Chemist\n",
       "4         Rachel Carson  1907-05-27  1964-04-14   56           Biologist\n",
       "5             John Snow  1813-03-15  1858-06-16   45           Physician\n",
       "6           Alan Turing  1912-06-23  1954-06-07   41  Computer Scientist\n",
       "7          Johann Gauss  1777-04-30  1855-02-23   77       Mathematician"
      ]
     },
     "execution_count": 231,
     "metadata": {},
     "output_type": "execute_result"
    }
   ],
   "source": [
    "scientists = pd.read_csv('data/scientists.csv')\n",
    "scientists"
   ]
  },
  {
   "cell_type": "code",
   "execution_count": 233,
   "metadata": {},
   "outputs": [
    {
     "name": "stdout",
     "output_type": "stream",
     "text": [
      "F01 \n",
      " object \n",
      "\n",
      "F02 \n",
      " object \n",
      "\n"
     ]
    }
   ],
   "source": [
    "# object datatype = '문자열'\n",
    "print('F01 \\n', scientists['Born'].dtype, '\\n')\n",
    "print('F02 \\n', scientists['Died'].dtype, '\\n')"
   ]
  },
  {
   "cell_type": "code",
   "execution_count": 112,
   "metadata": {},
   "outputs": [
    {
     "name": "stdout",
     "output_type": "stream",
     "text": [
      "F03 \n",
      " 0   1920-07-25\n",
      "1   1876-06-13\n",
      "2   1820-05-12\n",
      "3   1867-11-07\n",
      "4   1907-05-27\n",
      "5   1813-03-15\n",
      "6   1912-06-23\n",
      "7   1777-04-30\n",
      "Name: Born, dtype: datetime64[ns] \n",
      "\n",
      "F04 \n",
      " 0   1958-04-16\n",
      "1   1937-10-16\n",
      "2   1910-08-13\n",
      "3   1934-07-04\n",
      "4   1964-04-14\n",
      "5   1858-06-16\n",
      "6   1954-06-07\n",
      "7   1855-02-23\n",
      "Name: Died, dtype: datetime64[ns] \n",
      "\n"
     ]
    }
   ],
   "source": [
    "# format the ’Born’ column as a datetime\n",
    "born_datetime = pd.to_datetime(scientists['Born'], \n",
    "                                    format='%Y-%m-%d')\n",
    "print('F03 \\n', born_datetime, '\\n')\n",
    "# format the ’Died’ column as a datetime\n",
    "died_datetime = pd.to_datetime(scientists['Died'], \n",
    "                                    format='%Y-%m-%d')\n",
    "print('F04 \\n', died_datetime, '\\n')"
   ]
  },
  {
   "cell_type": "code",
   "execution_count": 113,
   "metadata": {},
   "outputs": [
    {
     "data": {
      "text/plain": [
       "0   1920-07-25\n",
       "1   1876-06-13\n",
       "2   1820-05-12\n",
       "Name: Born, dtype: datetime64[ns]"
      ]
     },
     "execution_count": 113,
     "metadata": {},
     "output_type": "execute_result"
    }
   ],
   "source": [
    "born_datetime.head(3)"
   ]
  },
  {
   "cell_type": "code",
   "execution_count": 114,
   "metadata": {},
   "outputs": [
    {
     "name": "stdout",
     "output_type": "stream",
     "text": [
      "F05 \n",
      "                    Name        Born        Died  Age    Occupation    born_dt  \\\n",
      "0     Rosaline Franklin  1920-07-25  1958-04-16   37       Chemist 1920-07-25   \n",
      "1        William Gosset  1876-06-13  1937-10-16   61  Statistician 1876-06-13   \n",
      "2  Florence Nightingale  1820-05-12  1910-08-13   90         Nurse 1820-05-12   \n",
      "3           Marie Curie  1867-11-07  1934-07-04   66       Chemist 1867-11-07   \n",
      "4         Rachel Carson  1907-05-27  1964-04-14   56     Biologist 1907-05-27   \n",
      "\n",
      "     died_dt  \n",
      "0 1958-04-16  \n",
      "1 1937-10-16  \n",
      "2 1910-08-13  \n",
      "3 1934-07-04  \n",
      "4 1964-04-14   \n",
      "\n",
      "F06 \n",
      " (8, 7) \n",
      "\n"
     ]
    }
   ],
   "source": [
    "scientists['born_dt'], scientists['died_dt'] = (born_datetime, died_datetime)\n",
    "print('F05 \\n', scientists.head(), '\\n')\n",
    "print('F06 \\n', scientists.shape, '\\n')"
   ]
  },
  {
   "cell_type": "code",
   "execution_count": 116,
   "metadata": {},
   "outputs": [
    {
     "name": "stdout",
     "output_type": "stream",
     "text": [
      "F05 \n",
      "                    Name        Born        Died  Age          Occupation  \\\n",
      "0     Rosaline Franklin  1920-07-25  1958-04-16   37             Chemist   \n",
      "1        William Gosset  1876-06-13  1937-10-16   61        Statistician   \n",
      "2  Florence Nightingale  1820-05-12  1910-08-13   90               Nurse   \n",
      "3           Marie Curie  1867-11-07  1934-07-04   66             Chemist   \n",
      "4         Rachel Carson  1907-05-27  1964-04-14   56           Biologist   \n",
      "5             John Snow  1813-03-15  1858-06-16   45           Physician   \n",
      "6           Alan Turing  1912-06-23  1954-06-07   41  Computer Scientist   \n",
      "7          Johann Gauss  1777-04-30  1855-02-23   77       Mathematician   \n",
      "\n",
      "     born_dt    died_dt age_days_dt  \n",
      "0 1920-07-25 1958-04-16  13779 days  \n",
      "1 1876-06-13 1937-10-16  22404 days  \n",
      "2 1820-05-12 1910-08-13  32964 days  \n",
      "3 1867-11-07 1934-07-04  24345 days  \n",
      "4 1907-05-27 1964-04-14  20777 days  \n",
      "5 1813-03-15 1858-06-16  16529 days  \n",
      "6 1912-06-23 1954-06-07  15324 days  \n",
      "7 1777-04-30 1855-02-23  28422 days   \n",
      "\n",
      "F06 \n",
      " (8, 8) \n",
      "\n"
     ]
    }
   ],
   "source": [
    "scientists['age_days_dt'] = scientists['died_dt'] - scientists['born_dt']\n",
    "print('F05 \\n', scientists, '\\n')\n",
    "print('F06 \\n', scientists.shape, '\\n')"
   ]
  },
  {
   "cell_type": "code",
   "execution_count": 173,
   "metadata": {},
   "outputs": [
    {
     "name": "stderr",
     "output_type": "stream",
     "text": [
      "/Users/wooseong/miniforge3/lib/python3.9/random.py:362: SettingWithCopyWarning: \n",
      "A value is trying to be set on a copy of a slice from a DataFrame\n",
      "\n",
      "See the caveats in the documentation: https://pandas.pydata.org/pandas-docs/stable/user_guide/indexing.html#returning-a-view-versus-a-copy\n",
      "  x[i], x[j] = x[j], x[i]\n"
     ]
    },
    {
     "data": {
      "text/html": [
       "<div>\n",
       "<style scoped>\n",
       "    .dataframe tbody tr th:only-of-type {\n",
       "        vertical-align: middle;\n",
       "    }\n",
       "\n",
       "    .dataframe tbody tr th {\n",
       "        vertical-align: top;\n",
       "    }\n",
       "\n",
       "    .dataframe thead th {\n",
       "        text-align: right;\n",
       "    }\n",
       "</style>\n",
       "<table border=\"1\" class=\"dataframe\">\n",
       "  <thead>\n",
       "    <tr style=\"text-align: right;\">\n",
       "      <th></th>\n",
       "      <th>Name</th>\n",
       "      <th>Born</th>\n",
       "      <th>Died</th>\n",
       "      <th>Age</th>\n",
       "      <th>Occupation</th>\n",
       "      <th>born_dt</th>\n",
       "      <th>died_dt</th>\n",
       "      <th>age_days_dt</th>\n",
       "    </tr>\n",
       "  </thead>\n",
       "  <tbody>\n",
       "    <tr>\n",
       "      <th>0</th>\n",
       "      <td>Rosaline Franklin</td>\n",
       "      <td>1920-07-25</td>\n",
       "      <td>1958-04-16</td>\n",
       "      <td>77</td>\n",
       "      <td>Chemist</td>\n",
       "      <td>1920-07-25</td>\n",
       "      <td>1958-04-16</td>\n",
       "      <td>13779 days</td>\n",
       "    </tr>\n",
       "    <tr>\n",
       "      <th>1</th>\n",
       "      <td>William Gosset</td>\n",
       "      <td>1876-06-13</td>\n",
       "      <td>1937-10-16</td>\n",
       "      <td>90</td>\n",
       "      <td>Statistician</td>\n",
       "      <td>1876-06-13</td>\n",
       "      <td>1937-10-16</td>\n",
       "      <td>22404 days</td>\n",
       "    </tr>\n",
       "    <tr>\n",
       "      <th>2</th>\n",
       "      <td>Florence Nightingale</td>\n",
       "      <td>1820-05-12</td>\n",
       "      <td>1910-08-13</td>\n",
       "      <td>37</td>\n",
       "      <td>Nurse</td>\n",
       "      <td>1820-05-12</td>\n",
       "      <td>1910-08-13</td>\n",
       "      <td>32964 days</td>\n",
       "    </tr>\n",
       "    <tr>\n",
       "      <th>3</th>\n",
       "      <td>Marie Curie</td>\n",
       "      <td>1867-11-07</td>\n",
       "      <td>1934-07-04</td>\n",
       "      <td>61</td>\n",
       "      <td>Chemist</td>\n",
       "      <td>1867-11-07</td>\n",
       "      <td>1934-07-04</td>\n",
       "      <td>24345 days</td>\n",
       "    </tr>\n",
       "    <tr>\n",
       "      <th>4</th>\n",
       "      <td>Rachel Carson</td>\n",
       "      <td>1907-05-27</td>\n",
       "      <td>1964-04-14</td>\n",
       "      <td>41</td>\n",
       "      <td>Biologist</td>\n",
       "      <td>1907-05-27</td>\n",
       "      <td>1964-04-14</td>\n",
       "      <td>20777 days</td>\n",
       "    </tr>\n",
       "    <tr>\n",
       "      <th>5</th>\n",
       "      <td>John Snow</td>\n",
       "      <td>1813-03-15</td>\n",
       "      <td>1858-06-16</td>\n",
       "      <td>45</td>\n",
       "      <td>Physician</td>\n",
       "      <td>1813-03-15</td>\n",
       "      <td>1858-06-16</td>\n",
       "      <td>16529 days</td>\n",
       "    </tr>\n",
       "    <tr>\n",
       "      <th>6</th>\n",
       "      <td>Alan Turing</td>\n",
       "      <td>1912-06-23</td>\n",
       "      <td>1954-06-07</td>\n",
       "      <td>66</td>\n",
       "      <td>Computer Scientist</td>\n",
       "      <td>1912-06-23</td>\n",
       "      <td>1954-06-07</td>\n",
       "      <td>15324 days</td>\n",
       "    </tr>\n",
       "    <tr>\n",
       "      <th>7</th>\n",
       "      <td>Johann Gauss</td>\n",
       "      <td>1777-04-30</td>\n",
       "      <td>1855-02-23</td>\n",
       "      <td>56</td>\n",
       "      <td>Mathematician</td>\n",
       "      <td>1777-04-30</td>\n",
       "      <td>1855-02-23</td>\n",
       "      <td>28422 days</td>\n",
       "    </tr>\n",
       "  </tbody>\n",
       "</table>\n",
       "</div>"
      ],
      "text/plain": [
       "                   Name        Born        Died  Age          Occupation  \\\n",
       "0     Rosaline Franklin  1920-07-25  1958-04-16   77             Chemist   \n",
       "1        William Gosset  1876-06-13  1937-10-16   90        Statistician   \n",
       "2  Florence Nightingale  1820-05-12  1910-08-13   37               Nurse   \n",
       "3           Marie Curie  1867-11-07  1934-07-04   61             Chemist   \n",
       "4         Rachel Carson  1907-05-27  1964-04-14   41           Biologist   \n",
       "5             John Snow  1813-03-15  1858-06-16   45           Physician   \n",
       "6           Alan Turing  1912-06-23  1954-06-07   66  Computer Scientist   \n",
       "7          Johann Gauss  1777-04-30  1855-02-23   56       Mathematician   \n",
       "\n",
       "     born_dt    died_dt age_days_dt  \n",
       "0 1920-07-25 1958-04-16  13779 days  \n",
       "1 1876-06-13 1937-10-16  22404 days  \n",
       "2 1820-05-12 1910-08-13  32964 days  \n",
       "3 1867-11-07 1934-07-04  24345 days  \n",
       "4 1907-05-27 1964-04-14  20777 days  \n",
       "5 1813-03-15 1858-06-16  16529 days  \n",
       "6 1912-06-23 1954-06-07  15324 days  \n",
       "7 1777-04-30 1855-02-23  28422 days  "
      ]
     },
     "execution_count": 173,
     "metadata": {},
     "output_type": "execute_result"
    }
   ],
   "source": [
    "import random \n",
    "random.seed(42)\n",
    "random.shuffle(scientists['Age'])\n",
    "scientists"
   ]
  },
  {
   "cell_type": "code",
   "execution_count": 117,
   "metadata": {},
   "outputs": [
    {
     "name": "stdout",
     "output_type": "stream",
     "text": [
      "F09 \n",
      "                    Name        Born        Died  Age          Occupation  \\\n",
      "0     Rosaline Franklin  1920-07-25  1958-04-16   37             Chemist   \n",
      "1        William Gosset  1876-06-13  1937-10-16   61        Statistician   \n",
      "2  Florence Nightingale  1820-05-12  1910-08-13   90               Nurse   \n",
      "3           Marie Curie  1867-11-07  1934-07-04   66             Chemist   \n",
      "4         Rachel Carson  1907-05-27  1964-04-14   56           Biologist   \n",
      "5             John Snow  1813-03-15  1858-06-16   45           Physician   \n",
      "6           Alan Turing  1912-06-23  1954-06-07   41  Computer Scientist   \n",
      "7          Johann Gauss  1777-04-30  1855-02-23   77       Mathematician   \n",
      "\n",
      "     born_dt    died_dt age_days_dt age_years_dt  \n",
      "0 1920-07-25 1958-04-16  13779 days   13779 days  \n",
      "1 1876-06-13 1937-10-16  22404 days   22404 days  \n",
      "2 1820-05-12 1910-08-13  32964 days   32964 days  \n",
      "3 1867-11-07 1934-07-04  24345 days   24345 days  \n",
      "4 1907-05-27 1964-04-14  20777 days   20777 days  \n",
      "5 1813-03-15 1858-06-16  16529 days   16529 days  \n",
      "6 1912-06-23 1954-06-07  15324 days   15324 days  \n",
      "7 1777-04-30 1855-02-23  28422 days   28422 days   \n",
      "\n",
      "F10 \n",
      " (8, 9) \n",
      "\n"
     ]
    }
   ],
   "source": [
    "scientists['age_years_dt'] = scientists['age_days_dt'].astype('category')        \n",
    "print('F09 \\n', scientists, '\\n')\n",
    "print('F10 \\n', scientists.shape, '\\n')"
   ]
  },
  {
   "cell_type": "code",
   "execution_count": 177,
   "metadata": {},
   "outputs": [
    {
     "data": {
      "text/html": [
       "<div>\n",
       "<style scoped>\n",
       "    .dataframe tbody tr th:only-of-type {\n",
       "        vertical-align: middle;\n",
       "    }\n",
       "\n",
       "    .dataframe tbody tr th {\n",
       "        vertical-align: top;\n",
       "    }\n",
       "\n",
       "    .dataframe thead th {\n",
       "        text-align: right;\n",
       "    }\n",
       "</style>\n",
       "<table border=\"1\" class=\"dataframe\">\n",
       "  <thead>\n",
       "    <tr style=\"text-align: right;\">\n",
       "      <th></th>\n",
       "      <th>Name</th>\n",
       "      <th>Born</th>\n",
       "      <th>Died</th>\n",
       "      <th>Age</th>\n",
       "      <th>Occupation</th>\n",
       "    </tr>\n",
       "  </thead>\n",
       "  <tbody>\n",
       "    <tr>\n",
       "      <th>0</th>\n",
       "      <td>Rosaline Franklin</td>\n",
       "      <td>1920-07-25</td>\n",
       "      <td>1958-04-16</td>\n",
       "      <td>37</td>\n",
       "      <td>Chemist</td>\n",
       "    </tr>\n",
       "    <tr>\n",
       "      <th>1</th>\n",
       "      <td>Florence Nightingale</td>\n",
       "      <td>1820-05-12</td>\n",
       "      <td>1910-08-13</td>\n",
       "      <td>90</td>\n",
       "      <td>Nurse</td>\n",
       "    </tr>\n",
       "    <tr>\n",
       "      <th>2</th>\n",
       "      <td>Marie Curie</td>\n",
       "      <td>1867-11-07</td>\n",
       "      <td>1934-07-04</td>\n",
       "      <td>66</td>\n",
       "      <td>Chemist</td>\n",
       "    </tr>\n",
       "    <tr>\n",
       "      <th>3</th>\n",
       "      <td>Johann Gauss</td>\n",
       "      <td>1777-04-30</td>\n",
       "      <td>1855-02-23</td>\n",
       "      <td>77</td>\n",
       "      <td>Mathematician</td>\n",
       "    </tr>\n",
       "    <tr>\n",
       "      <th>4</th>\n",
       "      <td>John Snow</td>\n",
       "      <td>1813-03-15</td>\n",
       "      <td>1858-06-16</td>\n",
       "      <td>45</td>\n",
       "      <td>Physician</td>\n",
       "    </tr>\n",
       "    <tr>\n",
       "      <th>5</th>\n",
       "      <td>Rachel Carson</td>\n",
       "      <td>1907-05-27</td>\n",
       "      <td>1964-04-14</td>\n",
       "      <td>56</td>\n",
       "      <td>Biologist</td>\n",
       "    </tr>\n",
       "    <tr>\n",
       "      <th>6</th>\n",
       "      <td>William Gosset</td>\n",
       "      <td>1876-06-13</td>\n",
       "      <td>1937-10-16</td>\n",
       "      <td>61</td>\n",
       "      <td>Statistician</td>\n",
       "    </tr>\n",
       "    <tr>\n",
       "      <th>7</th>\n",
       "      <td>Alan Turing</td>\n",
       "      <td>1912-06-23</td>\n",
       "      <td>1954-06-07</td>\n",
       "      <td>41</td>\n",
       "      <td>Computer Scientist</td>\n",
       "    </tr>\n",
       "  </tbody>\n",
       "</table>\n",
       "</div>"
      ],
      "text/plain": [
       "                   Name        Born        Died  Age          Occupation\n",
       "0     Rosaline Franklin  1920-07-25  1958-04-16   37             Chemist\n",
       "1  Florence Nightingale  1820-05-12  1910-08-13   90               Nurse\n",
       "2           Marie Curie  1867-11-07  1934-07-04   66             Chemist\n",
       "3          Johann Gauss  1777-04-30  1855-02-23   77       Mathematician\n",
       "4             John Snow  1813-03-15  1858-06-16   45           Physician\n",
       "5         Rachel Carson  1907-05-27  1964-04-14   56           Biologist\n",
       "6        William Gosset  1876-06-13  1937-10-16   61        Statistician\n",
       "7           Alan Turing  1912-06-23  1954-06-07   41  Computer Scientist"
      ]
     },
     "execution_count": 177,
     "metadata": {},
     "output_type": "execute_result"
    }
   ],
   "source": [
    "# sample(frac=1) randomly shuffles all rows\n",
    "# drop_index=True resets the index to start from 0\n",
    "# scientists.sample(frac=1)\n",
    "# scientists.sample(frac=0.5)\n",
    "scientists.sample(frac=1).reset_index(drop=True)"
   ]
  },
  {
   "cell_type": "code",
   "execution_count": 120,
   "metadata": {},
   "outputs": [
    {
     "name": "stdout",
     "output_type": "stream",
     "text": [
      "Index(['Name', 'Born', 'Died', 'Age', 'Occupation', 'born_dt', 'died_dt',\n",
      "       'age_days_dt', 'age_years_dt'],\n",
      "      dtype='object')\n"
     ]
    },
    {
     "data": {
      "text/html": [
       "<div>\n",
       "<style scoped>\n",
       "    .dataframe tbody tr th:only-of-type {\n",
       "        vertical-align: middle;\n",
       "    }\n",
       "\n",
       "    .dataframe tbody tr th {\n",
       "        vertical-align: top;\n",
       "    }\n",
       "\n",
       "    .dataframe thead th {\n",
       "        text-align: right;\n",
       "    }\n",
       "</style>\n",
       "<table border=\"1\" class=\"dataframe\">\n",
       "  <thead>\n",
       "    <tr style=\"text-align: right;\">\n",
       "      <th></th>\n",
       "      <th>Name</th>\n",
       "      <th>Age</th>\n",
       "      <th>Occupation</th>\n",
       "      <th>born_dt</th>\n",
       "      <th>died_dt</th>\n",
       "      <th>age_days_dt</th>\n",
       "      <th>age_years_dt</th>\n",
       "    </tr>\n",
       "  </thead>\n",
       "  <tbody>\n",
       "    <tr>\n",
       "      <th>0</th>\n",
       "      <td>Rosaline Franklin</td>\n",
       "      <td>37</td>\n",
       "      <td>Chemist</td>\n",
       "      <td>1920-07-25</td>\n",
       "      <td>1958-04-16</td>\n",
       "      <td>13779 days</td>\n",
       "      <td>13779 days</td>\n",
       "    </tr>\n",
       "    <tr>\n",
       "      <th>1</th>\n",
       "      <td>William Gosset</td>\n",
       "      <td>61</td>\n",
       "      <td>Statistician</td>\n",
       "      <td>1876-06-13</td>\n",
       "      <td>1937-10-16</td>\n",
       "      <td>22404 days</td>\n",
       "      <td>22404 days</td>\n",
       "    </tr>\n",
       "    <tr>\n",
       "      <th>2</th>\n",
       "      <td>Florence Nightingale</td>\n",
       "      <td>90</td>\n",
       "      <td>Nurse</td>\n",
       "      <td>1820-05-12</td>\n",
       "      <td>1910-08-13</td>\n",
       "      <td>32964 days</td>\n",
       "      <td>32964 days</td>\n",
       "    </tr>\n",
       "    <tr>\n",
       "      <th>3</th>\n",
       "      <td>Marie Curie</td>\n",
       "      <td>66</td>\n",
       "      <td>Chemist</td>\n",
       "      <td>1867-11-07</td>\n",
       "      <td>1934-07-04</td>\n",
       "      <td>24345 days</td>\n",
       "      <td>24345 days</td>\n",
       "    </tr>\n",
       "    <tr>\n",
       "      <th>4</th>\n",
       "      <td>Rachel Carson</td>\n",
       "      <td>56</td>\n",
       "      <td>Biologist</td>\n",
       "      <td>1907-05-27</td>\n",
       "      <td>1964-04-14</td>\n",
       "      <td>20777 days</td>\n",
       "      <td>20777 days</td>\n",
       "    </tr>\n",
       "    <tr>\n",
       "      <th>5</th>\n",
       "      <td>John Snow</td>\n",
       "      <td>45</td>\n",
       "      <td>Physician</td>\n",
       "      <td>1813-03-15</td>\n",
       "      <td>1858-06-16</td>\n",
       "      <td>16529 days</td>\n",
       "      <td>16529 days</td>\n",
       "    </tr>\n",
       "    <tr>\n",
       "      <th>6</th>\n",
       "      <td>Alan Turing</td>\n",
       "      <td>41</td>\n",
       "      <td>Computer Scientist</td>\n",
       "      <td>1912-06-23</td>\n",
       "      <td>1954-06-07</td>\n",
       "      <td>15324 days</td>\n",
       "      <td>15324 days</td>\n",
       "    </tr>\n",
       "    <tr>\n",
       "      <th>7</th>\n",
       "      <td>Johann Gauss</td>\n",
       "      <td>77</td>\n",
       "      <td>Mathematician</td>\n",
       "      <td>1777-04-30</td>\n",
       "      <td>1855-02-23</td>\n",
       "      <td>28422 days</td>\n",
       "      <td>28422 days</td>\n",
       "    </tr>\n",
       "  </tbody>\n",
       "</table>\n",
       "</div>"
      ],
      "text/plain": [
       "                   Name  Age          Occupation    born_dt    died_dt  \\\n",
       "0     Rosaline Franklin   37             Chemist 1920-07-25 1958-04-16   \n",
       "1        William Gosset   61        Statistician 1876-06-13 1937-10-16   \n",
       "2  Florence Nightingale   90               Nurse 1820-05-12 1910-08-13   \n",
       "3           Marie Curie   66             Chemist 1867-11-07 1934-07-04   \n",
       "4         Rachel Carson   56           Biologist 1907-05-27 1964-04-14   \n",
       "5             John Snow   45           Physician 1813-03-15 1858-06-16   \n",
       "6           Alan Turing   41  Computer Scientist 1912-06-23 1954-06-07   \n",
       "7          Johann Gauss   77       Mathematician 1777-04-30 1855-02-23   \n",
       "\n",
       "  age_days_dt age_years_dt  \n",
       "0  13779 days   13779 days  \n",
       "1  22404 days   22404 days  \n",
       "2  32964 days   32964 days  \n",
       "3  24345 days   24345 days  \n",
       "4  20777 days   20777 days  \n",
       "5  16529 days   16529 days  \n",
       "6  15324 days   15324 days  \n",
       "7  28422 days   28422 days  "
      ]
     },
     "execution_count": 120,
     "metadata": {},
     "output_type": "execute_result"
    }
   ],
   "source": [
    "# Drop columns\n",
    "print(scientists.columns)\n",
    "scientists_dropped = scientists.drop(['Born', 'Died'], axis=1)\n",
    "scientists_dropped"
   ]
  },
  {
   "cell_type": "markdown",
   "metadata": {},
   "source": [
    "# Data Loading and Subsetting"
   ]
  },
  {
   "cell_type": "markdown",
   "metadata": {},
   "source": [
    "### Subsetting Columns"
   ]
  },
  {
   "cell_type": "code",
   "execution_count": 235,
   "metadata": {},
   "outputs": [
    {
     "name": "stdout",
     "output_type": "stream",
     "text": [
      "print 3 rows \n",
      "        country continent  year  lifeExp       pop   gdpPercap\n",
      "0  Afghanistan      Asia  1952   28.801   8425333  779.445314\n",
      "1  Afghanistan      Asia  1957   30.332   9240934  820.853030\n",
      "2  Afghanistan      Asia  1962   31.997  10267083  853.100710 \n",
      "\n",
      "type =  <class 'pandas.core.frame.DataFrame'> \n",
      "\n",
      "shape =  (1704, 6) \n",
      "\n",
      "columns ]  Index(['country', 'continent', 'year', 'lifeExp', 'pop', 'gdpPercap'], dtype='object') \n",
      "\n",
      "dtypes, \n",
      " country       object\n",
      "continent     object\n",
      "year           int64\n",
      "lifeExp      float64\n",
      "pop            int64\n",
      "gdpPercap    float64\n",
      "dtype: object \n",
      "\n",
      "information, \n",
      " <bound method DataFrame.info of           country continent  year  lifeExp       pop   gdpPercap\n",
      "0     Afghanistan      Asia  1952   28.801   8425333  779.445314\n",
      "1     Afghanistan      Asia  1957   30.332   9240934  820.853030\n",
      "2     Afghanistan      Asia  1962   31.997  10267083  853.100710\n",
      "3     Afghanistan      Asia  1967   34.020  11537966  836.197138\n",
      "4     Afghanistan      Asia  1972   36.088  13079460  739.981106\n",
      "...           ...       ...   ...      ...       ...         ...\n",
      "1699     Zimbabwe    Africa  1987   62.351   9216418  706.157306\n",
      "1700     Zimbabwe    Africa  1992   60.377  10704340  693.420786\n",
      "1701     Zimbabwe    Africa  1997   46.809  11404948  792.449960\n",
      "1702     Zimbabwe    Africa  2002   39.989  11926563  672.038623\n",
      "1703     Zimbabwe    Africa  2007   43.487  12311143  469.709298\n",
      "\n",
      "[1704 rows x 6 columns]> \n",
      "\n"
     ]
    }
   ],
   "source": [
    "# Load Gapminder.tsv\n",
    "df = pd.read_csv('data/gapminder.tsv', sep='\\t')\n",
    "print('print 3 rows \\n', df.head(3), '\\n')\n",
    "print('type = ', type(df), '\\n')\n",
    "print('shape = ', df.shape, '\\n')\n",
    "print('columns ] ', df.columns, '\\n')\n",
    "print('dtypes, \\n', df.dtypes, '\\n')\n",
    "print('information, \\n', df.info, '\\n')"
   ]
  },
  {
   "cell_type": "code",
   "execution_count": 122,
   "metadata": {},
   "outputs": [
    {
     "name": "stdout",
     "output_type": "stream",
     "text": [
      "type = <class 'pandas.core.series.Series'> \n",
      "\n",
      "the first 5 rows \n",
      " 0    Afghanistan\n",
      "1    Afghanistan\n",
      "2    Afghanistan\n",
      "3    Afghanistan\n",
      "4    Afghanistan\n",
      "Name: country, dtype: object \n",
      "\n",
      "the last 3 rows \n",
      " 1701    Zimbabwe\n",
      "1702    Zimbabwe\n",
      "1703    Zimbabwe\n",
      "Name: country, dtype: object \n",
      "\n"
     ]
    }
   ],
   "source": [
    "# Subset columns by name\n",
    "country_df = df['country'] \n",
    "print('type =', type(country_df), '\\n') \n",
    "print('the first 5 rows', '\\n', country_df.head(), '\\n') \n",
    "print('the last 3 rows', '\\n', country_df.tail(3), '\\n')"
   ]
  },
  {
   "cell_type": "code",
   "execution_count": 124,
   "metadata": {},
   "outputs": [
    {
     "name": "stdout",
     "output_type": "stream",
     "text": [
      "type =           country continent  year\n",
      "0     Afghanistan      Asia  1952\n",
      "1     Afghanistan      Asia  1957\n",
      "2     Afghanistan      Asia  1962\n",
      "3     Afghanistan      Asia  1967\n",
      "4     Afghanistan      Asia  1972\n",
      "...           ...       ...   ...\n",
      "1699     Zimbabwe    Africa  1987\n",
      "1700     Zimbabwe    Africa  1992\n",
      "1701     Zimbabwe    Africa  1997\n",
      "1702     Zimbabwe    Africa  2002\n",
      "1703     Zimbabwe    Africa  2007\n",
      "\n",
      "[1704 rows x 3 columns] \n",
      "\n",
      "the first 5 rows = \n",
      "        country continent  year\n",
      "0  Afghanistan      Asia  1952\n",
      "1  Afghanistan      Asia  1957\n",
      "2  Afghanistan      Asia  1962\n",
      "3  Afghanistan      Asia  1967\n",
      "4  Afghanistan      Asia  1972 \n",
      "\n",
      "the last 3 rows = \n",
      "        country continent  year\n",
      "1701  Zimbabwe    Africa  1997\n",
      "1702  Zimbabwe    Africa  2002\n",
      "1703  Zimbabwe    Africa  2007 \n",
      "\n",
      "the first 2 rows = \n",
      " 0    Afghanistan\n",
      "1    Afghanistan\n",
      "Name: country, dtype: object \n",
      "\n"
     ]
    }
   ],
   "source": [
    "# Subset Columns by Name\n",
    "\n",
    "subsett = df[['country', 'continent', 'year']]\n",
    "print('type =', subsett, '\\n')\n",
    "print('the first 5 rows = \\n', subsett.head(), '\\n')\n",
    "print('the last 3 rows = \\n', subsett.tail(3), '\\n')\n",
    "\n",
    "country_df_dot = df.country\n",
    "print('the first 2 rows = \\n', country_df_dot.head(2) , '\\n')"
   ]
  },
  {
   "cell_type": "code",
   "execution_count": null,
   "metadata": {},
   "outputs": [],
   "source": [
    "# Subset columns by index position\n",
    "subset = df[df.columns[1]]\n",
    "print('index position 01 \\n', subset.head(), '\\n')\n",
    "subset11 = df[df.columns[[0,-1]]]\n",
    "print('index position 02 \\n', subset11.head(), '\\n')\n",
    "subset12 = df[df.columns[0:3]]\n",
    "print('index position 03 \\n', subset12.head(), '\\n')"
   ]
  },
  {
   "cell_type": "code",
   "execution_count": 127,
   "metadata": {},
   "outputs": [
    {
     "name": "stdout",
     "output_type": "stream",
     "text": [
      "range 01 \n",
      " [0, 1, 2, 3, 4] \n",
      "\n",
      "range 02 \n",
      "        country continent  year  lifeExp       pop\n",
      "0  Afghanistan      Asia  1952   28.801   8425333\n",
      "1  Afghanistan      Asia  1957   30.332   9240934\n",
      "2  Afghanistan      Asia  1962   31.997  10267083\n",
      "3  Afghanistan      Asia  1967   34.020  11537966\n",
      "4  Afghanistan      Asia  1972   36.088  13079460 \n",
      "\n"
     ]
    }
   ],
   "source": [
    "# Subset Columns by Range\n",
    "\n",
    "# create a range from 0 - 4 inclusive\n",
    "small_range = list(range(5)) \n",
    "print('range 01 \\n', small_range, '\\n') \n",
    "subset21 = df[df.columns[small_range]] \n",
    "print('range 02 \\n', subset21.head(5), '\\n')"
   ]
  },
  {
   "cell_type": "code",
   "execution_count": 126,
   "metadata": {},
   "outputs": [
    {
     "name": "stdout",
     "output_type": "stream",
     "text": [
      "range 11 \n",
      " [3, 4, 5] \n",
      "\n",
      "range 12 \n",
      "    lifeExp       pop   gdpPercap\n",
      "0   28.801   8425333  779.445314\n",
      "1   30.332   9240934  820.853030\n",
      "2   31.997  10267083  853.100710 \n",
      "\n"
     ]
    }
   ],
   "source": [
    "# create a range from 3 - 5 inclusive\n",
    "small_range = list(range(3, 6))\n",
    "print('range 11 \\n', small_range, '\\n')\n",
    "subset22 = df[df.columns[small_range]]\n",
    "print('range 12 \\n', subset22.head(3), '\\n')"
   ]
  },
  {
   "cell_type": "markdown",
   "metadata": {},
   "source": [
    "## Subsetting rows"
   ]
  },
  {
   "cell_type": "code",
   "execution_count": 128,
   "metadata": {},
   "outputs": [
    {
     "name": "stdout",
     "output_type": "stream",
     "text": [
      ".loc 01 => \n",
      " country      Afghanistan\n",
      "continent           Asia\n",
      "year                1952\n",
      "lifeExp           28.801\n",
      "pop              8425333\n",
      "gdpPercap     779.445314\n",
      "Name: 0, dtype: object \n",
      "\n",
      ".loc 02 => \n",
      " country      Bangladesh\n",
      "continent          Asia\n",
      "year               1967\n",
      "lifeExp          43.453\n",
      "pop            62821884\n",
      "gdpPercap    721.186086\n",
      "Name: 99, dtype: object \n",
      "\n"
     ]
    }
   ],
   "source": [
    "# Subset rows by 'loc' method\n",
    "# get the first row \n",
    "print('.loc 01 => \\n', df.loc[0], '\\n') \n",
    "\n",
    "# get the 100th row \n",
    "# recall that values start with 0 \n",
    "print('.loc 02 => \\n', df.loc[99], '\\n')"
   ]
  },
  {
   "cell_type": "code",
   "execution_count": 237,
   "metadata": {},
   "outputs": [
    {
     "name": "stdout",
     "output_type": "stream",
     "text": [
      "1      Hyunjun Choi\n",
      "3       Woosung Cho\n",
      "5    Byeungchan Kim\n",
      "dtype: object \n",
      "\n",
      "Hyunjun Choi \n",
      "\n"
     ]
    }
   ],
   "source": [
    "loc_series = pd.Series(['Hyunjun Choi','Woosung Cho', 'Byeungchan Kim'], index = [1, 3, 5])\n",
    "print(loc_series, '\\n')\n",
    "# print(loc_series.loc[0], '\\n')\n",
    "print(loc_series.loc[1], '\\n')"
   ]
  },
  {
   "cell_type": "code",
   "execution_count": 131,
   "metadata": {},
   "outputs": [
    {
     "name": "stdout",
     "output_type": "stream",
     "text": [
      ".loc 03 => \n",
      " country        Zimbabwe\n",
      "continent        Africa\n",
      "year               2007\n",
      "lifeExp          43.487\n",
      "pop            12311143\n",
      "gdpPercap    469.709298\n",
      "Name: 1703, dtype: object \n",
      "\n",
      "tail 03 => \n",
      "        country continent  year  lifeExp       pop   gdpPercap\n",
      "1703  Zimbabwe    Africa  2007   43.487  12311143  469.709298 \n",
      "\n",
      ".loc 04 => \n",
      " <class 'pandas.core.series.Series'> \n",
      "\n",
      "head 04 => \n",
      " <class 'pandas.core.frame.DataFrame'> \n",
      "\n"
     ]
    }
   ],
   "source": [
    "# get the last row (correctly)\n",
    "# use the first value given from shape to get the total number\n",
    "\n",
    "number_of_rows = df.shape[0]\n",
    "\n",
    "# substract 1 from the value since we want the last index value\n",
    "last_row_index = number_of_rows - 1\n",
    "\n",
    "# finally do the subset using the index of the last row\n",
    "print('.loc 03 => \\n', df.loc[last_row_index], '\\n')\n",
    "\n",
    "# there are many ways of doing what you want\n",
    "print('tail 03 => \\n', df.tail(n=1), '\\n')\n",
    "subset_loc = df.loc[0]\n",
    "print('.loc 04 => \\n', type(subset_loc), '\\n')\n",
    "subset_head = df.head(n=1)\n",
    "print('head 04 => \\n', type(subset_head), '\\n')"
   ]
  },
  {
   "cell_type": "code",
   "execution_count": 140,
   "metadata": {},
   "outputs": [
    {
     "name": "stdout",
     "output_type": "stream",
     "text": [
      "multiple rows => \n",
      "          country continent  year  lifeExp       pop    gdpPercap\n",
      "0    Afghanistan      Asia  1952   28.801   8425333   779.445314\n",
      "99    Bangladesh      Asia  1967   43.453  62821884   721.186086\n",
      "999     Mongolia      Asia  1967   51.253   1149500  1226.041130 \n",
      "\n"
     ]
    }
   ],
   "source": [
    "# Subset Multiple Rows by '.loc' Method\n",
    "\n",
    "# select the first, 100th, and 1000th row\n",
    "# note the double square brackets similar to the syntax used to\n",
    "# subset multiple columns\n",
    "print('multiple rows => \\n', df.loc[[0, 99, 999]], '\\n')"
   ]
  },
  {
   "cell_type": "code",
   "execution_count": 143,
   "metadata": {},
   "outputs": [
    {
     "name": "stdout",
     "output_type": "stream",
     "text": [
      "iloc 01 => \n",
      " country      Afghanistan\n",
      "continent           Asia\n",
      "year                1952\n",
      "lifeExp           28.801\n",
      "pop              8425333\n",
      "gdpPercap     779.445314\n",
      "Name: 0, dtype: object \n",
      "\n",
      "iloc 02 => \n",
      " country      Bangladesh\n",
      "continent          Asia\n",
      "year               1967\n",
      "lifeExp          43.453\n",
      "pop            62821884\n",
      "gdpPercap    721.186086\n",
      "Name: 99, dtype: object \n",
      "\n",
      "iloc 03 => \n",
      "          country continent  year  lifeExp       pop    gdpPercap\n",
      "0    Afghanistan      Asia  1952   28.801   8425333   779.445314\n",
      "99    Bangladesh      Asia  1967   43.453  62821884   721.186086\n",
      "999     Mongolia      Asia  1967   51.253   1149500  1226.041130 \n",
      "\n"
     ]
    }
   ],
   "source": [
    "# Subset Rows by Row Number w/ '.iloc' Method\n",
    "# get the first row\n",
    "print('iloc 01 => \\n', df.iloc[0], '\\n')\n",
    "\n",
    "# get the 100th row\n",
    "print('iloc 02 => \\n', df.iloc[99], '\\n')\n",
    "\n",
    "# get the first, 100th, and 1000th rows\n",
    "print('iloc 03 => \\n', df.iloc[[0, 99, 999]], '\\n')"
   ]
  },
  {
   "cell_type": "code",
   "execution_count": 238,
   "metadata": {},
   "outputs": [
    {
     "name": "stdout",
     "output_type": "stream",
     "text": [
      "1      Hyunjun Choi\n",
      "3       Woosung Cho\n",
      "5    Byeungchan Kim\n",
      "dtype: object \n",
      "\n",
      "Hyunjun Choi \n",
      "\n"
     ]
    }
   ],
   "source": [
    "loc_series = pd.Series(['Hyunjun Choi','Woosung Cho', 'Byeungchan Kim'], index = [1, 3, 5])\n",
    "print(loc_series, '\\n')\n",
    "print(loc_series.iloc[0], '\\n')\n",
    "# print(loc_series.iloc[1], '\\n')"
   ]
  },
  {
   "cell_type": "code",
   "execution_count": 145,
   "metadata": {},
   "outputs": [
    {
     "name": "stdout",
     "output_type": "stream",
     "text": [
      "iloc 11 => \n",
      "   continent  year  lifeExp\n",
      "0      Asia  1952   28.801\n",
      "1      Asia  1957   30.332 \n",
      "\n",
      "iloc 12 => \n",
      "   continent  year  lifeExp\n",
      "0      Asia  1952   28.801\n",
      "1      Asia  1957   30.332 \n",
      "\n",
      "iloc 13 => \n",
      "        country continent  year  lifeExp      pop   gdpPercap\n",
      "0  Afghanistan      Asia  1952   28.801  8425333  779.445314\n",
      "1  Afghanistan      Asia  1957   30.332  9240934  820.853030 \n",
      "\n",
      "iloc 14 => \n",
      "      continent  lifeExp   gdpPercap\n",
      "0         Asia   28.801  779.445314\n",
      "1         Asia   30.332  820.853030\n",
      "2         Asia   31.997  853.100710\n",
      "3         Asia   34.020  836.197138\n",
      "4         Asia   36.088  739.981106\n",
      "...        ...      ...         ...\n",
      "1699    Africa   62.351  706.157306\n",
      "1700    Africa   60.377  693.420786\n",
      "1701    Africa   46.809  792.449960\n",
      "1702    Africa   39.989  672.038623\n",
      "1703    Africa   43.487  469.709298\n",
      "\n",
      "[1704 rows x 3 columns] \n",
      "\n"
     ]
    }
   ],
   "source": [
    "# get some rows and columns\n",
    "print('iloc 11 => \\n', df.iloc[0:2, 1:4], '\\n')\n",
    "print('iloc 12 => \\n', df.iloc[:2, 1:4], '\\n')\n",
    "print('iloc 13 => \\n', df.iloc[:2, ], '\\n')\n",
    "print('iloc 14 => \\n', df.iloc[:, [1,3,5]], '\\n')"
   ]
  },
  {
   "cell_type": "code",
   "execution_count": 146,
   "metadata": {},
   "outputs": [
    {
     "name": "stdout",
     "output_type": "stream",
     "text": [
      "PA31 Apple \n",
      " A    0.039864\n",
      "B   -1.866120\n",
      "C    1.508905\n",
      "D    1.156505\n",
      "Name: 2022-02-04 00:00:00, dtype: float64 \n",
      "\n",
      "PA32 Apple \n",
      "                    A         B\n",
      "2022-02-04  0.039864 -1.866120\n",
      "2022-02-05 -0.659918  2.727276 \n",
      "\n",
      "PA33 Apple \n",
      "                    A         C\n",
      "2022-02-02  0.753542 -0.704075\n",
      "2022-02-03  1.063801  1.088541\n",
      "2022-02-05 -0.659918 -1.195594 \n",
      "\n",
      "PA34 Apple \n",
      "                    A         B         C         D\n",
      "2022-02-02  0.753542 -0.502519 -0.704075  0.017554\n",
      "2022-02-03  1.063801  0.300808  1.088541 -0.110296 \n",
      "\n",
      "PA35 Apple \n",
      "                    B         C\n",
      "2022-02-01  0.315021  0.446248\n",
      "2022-02-02 -0.502519 -0.704075\n",
      "2022-02-03  0.300808  1.088541\n",
      "2022-02-04 -1.866120  1.508905\n",
      "2022-02-05  2.727276 -1.195594\n",
      "2022-02-06  0.875198  0.245372 \n",
      "\n",
      "PA36 Apple \n",
      " -0.5025191538357688 \n",
      "\n",
      "PA37 Apple \n",
      " -0.5025191538357688 \n",
      "\n"
     ]
    }
   ],
   "source": [
    "# Dataset Apple - Selection by Integer Position Locations\n",
    "print('PA31 Apple \\n', df31.iloc[3], '\\n')\n",
    "print('PA32 Apple \\n', df31.iloc[3:5,0:2], '\\n')\n",
    "print('PA33 Apple \\n', df31.iloc[[1,2,4],[0,2]], '\\n')\n",
    "print('PA34 Apple \\n', df31.iloc[1:3,:], '\\n')\n",
    "print('PA35 Apple \\n', df31.iloc[:,1:3], '\\n')\n",
    "print('PA36 Apple \\n', df31.iloc[1,1], '\\n')\n",
    "print('PA37 Apple \\n', df31.iat[1,1], '\\n')"
   ]
  },
  {
   "cell_type": "code",
   "execution_count": 239,
   "metadata": {},
   "outputs": [
    {
     "name": "stdout",
     "output_type": "stream",
     "text": [
      "PS1 Apple \n",
      " 2022-02-02    1\n",
      "2022-02-03    2\n",
      "2022-02-04    3\n",
      "2022-02-05    4\n",
      "2022-02-06    5\n",
      "2022-02-07    6\n",
      "Freq: D, dtype: int64 \n",
      "\n",
      "PS2 Apple \n",
      "                    A         B         C         D    F\n",
      "2022-02-01 -1.276203 -0.142481  0.556643  1.549209  NaN\n",
      "2022-02-02  0.279091  0.940020 -0.614352  2.346162  1.0\n",
      "2022-02-03  0.303628  1.115184 -1.421332 -0.474432  2.0\n",
      "2022-02-04 -0.369006  0.672061 -0.556284 -1.183119  3.0\n",
      "2022-02-05  1.069905 -0.114597 -0.310769 -0.743456  4.0\n",
      "2022-02-06 -1.858371  1.604028 -2.188863  1.064257  5.0 \n",
      "\n"
     ]
    }
   ],
   "source": [
    "# Dataset Apple - Subsetting\n",
    "s31 = pd.Series([1,2,3,4,5,6],\n",
    "        index = pd.date_range('20220202', periods=6))\n",
    "print('PS1 Apple \\n', s31, '\\n')\n",
    "dfT = df31; df31['F'] = s31;\n",
    "print('PS2 Apple \\n', df31, '\\n')"
   ]
  },
  {
   "cell_type": "code",
   "execution_count": 240,
   "metadata": {},
   "outputs": [
    {
     "name": "stdout",
     "output_type": "stream",
     "text": [
      "PS3 Apple \n",
      "                    A         B         C         D    F\n",
      "2022-02-01  0.000000 -0.142481  0.556643  1.549209  NaN\n",
      "2022-02-02  0.279091  0.940020 -0.614352  2.346162  1.0\n",
      "2022-02-03  0.303628  1.115184 -1.421332 -0.474432  2.0\n",
      "2022-02-04 -0.369006  0.672061 -0.556284 -1.183119  3.0\n",
      "2022-02-05  1.069905 -0.114597 -0.310769 -0.743456  4.0\n",
      "2022-02-06 -1.858371  1.604028 -2.188863  1.064257  5.0 \n",
      "\n",
      "PS4 Apple \n",
      "                    A         B         C         D    F\n",
      "2022-02-01  0.000000  0.000000  0.556643  1.549209  NaN\n",
      "2022-02-02  0.279091  0.940020 -0.614352  2.346162  1.0\n",
      "2022-02-03  0.303628  1.115184 -1.421332 -0.474432  2.0\n",
      "2022-02-04 -0.369006  0.672061 -0.556284 -1.183119  3.0\n",
      "2022-02-05  1.069905 -0.114597 -0.310769 -0.743456  4.0\n",
      "2022-02-06 -1.858371  1.604028 -2.188863  1.064257  5.0 \n",
      "\n"
     ]
    }
   ],
   "source": [
    "df31.at[dates[0],'A'] = 0\n",
    "print('PS3 Apple \\n', df31, '\\n')\n",
    "# iat = Similarly to iloc, iat provides integer based lookups\n",
    "df31.iat[0,1] = 0\n",
    "print('PS4 Apple \\n', df31, '\\n')"
   ]
  },
  {
   "cell_type": "code",
   "execution_count": 241,
   "metadata": {},
   "outputs": [
    {
     "name": "stdout",
     "output_type": "stream",
     "text": [
      "PS5 Apple \n",
      "                    A         B         C    D    F\n",
      "2022-02-01  0.000000  0.000000  0.556643  5.0  NaN\n",
      "2022-02-02  0.279091  0.940020 -0.614352  5.0  1.0\n",
      "2022-02-03  0.303628  1.115184 -1.421332  5.0  2.0\n",
      "2022-02-04 -0.369006  0.672061 -0.556284  5.0  3.0\n",
      "2022-02-05  1.069905 -0.114597 -0.310769  5.0  4.0\n",
      "2022-02-06 -1.858371  1.604028 -2.188863  5.0  5.0 \n",
      "\n",
      "PS6 Apple \n",
      "                    A         B         C    D    F\n",
      "2022-02-01  0.000000  0.000000 -0.556643 -5.0  NaN\n",
      "2022-02-02 -0.279091 -0.940020 -0.614352 -5.0 -1.0\n",
      "2022-02-03 -0.303628 -1.115184 -1.421332 -5.0 -2.0\n",
      "2022-02-04 -0.369006 -0.672061 -0.556284 -5.0 -3.0\n",
      "2022-02-05 -1.069905 -0.114597 -0.310769 -5.0 -4.0\n",
      "2022-02-06 -1.858371 -1.604028 -2.188863 -5.0 -5.0 \n",
      "\n"
     ]
    }
   ],
   "source": [
    "df31.loc[:,'D'] = np.array([5]*len(df31));\n",
    "print('PS5 Apple \\n', df31, '\\n')\n",
    "\n",
    "df32 = df31.copy()\n",
    "df32[df32 > 0] = -df32;\n",
    "print('PS6 Apple \\n', df32, '\\n')"
   ]
  },
  {
   "cell_type": "code",
   "execution_count": 242,
   "metadata": {},
   "outputs": [
    {
     "data": {
      "text/html": [
       "<div>\n",
       "<style scoped>\n",
       "    .dataframe tbody tr th:only-of-type {\n",
       "        vertical-align: middle;\n",
       "    }\n",
       "\n",
       "    .dataframe tbody tr th {\n",
       "        vertical-align: top;\n",
       "    }\n",
       "\n",
       "    .dataframe thead th {\n",
       "        text-align: right;\n",
       "    }\n",
       "</style>\n",
       "<table border=\"1\" class=\"dataframe\">\n",
       "  <thead>\n",
       "    <tr style=\"text-align: right;\">\n",
       "      <th></th>\n",
       "      <th>A</th>\n",
       "      <th>B</th>\n",
       "      <th>C</th>\n",
       "      <th>D</th>\n",
       "      <th>F</th>\n",
       "    </tr>\n",
       "  </thead>\n",
       "  <tbody>\n",
       "    <tr>\n",
       "      <th>2022-02-01</th>\n",
       "      <td>NaN</td>\n",
       "      <td>NaN</td>\n",
       "      <td>0.556643</td>\n",
       "      <td>5.0</td>\n",
       "      <td>NaN</td>\n",
       "    </tr>\n",
       "    <tr>\n",
       "      <th>2022-02-02</th>\n",
       "      <td>0.279091</td>\n",
       "      <td>0.940020</td>\n",
       "      <td>NaN</td>\n",
       "      <td>5.0</td>\n",
       "      <td>1.0</td>\n",
       "    </tr>\n",
       "    <tr>\n",
       "      <th>2022-02-03</th>\n",
       "      <td>0.303628</td>\n",
       "      <td>1.115184</td>\n",
       "      <td>NaN</td>\n",
       "      <td>5.0</td>\n",
       "      <td>2.0</td>\n",
       "    </tr>\n",
       "    <tr>\n",
       "      <th>2022-02-04</th>\n",
       "      <td>NaN</td>\n",
       "      <td>0.672061</td>\n",
       "      <td>NaN</td>\n",
       "      <td>5.0</td>\n",
       "      <td>3.0</td>\n",
       "    </tr>\n",
       "    <tr>\n",
       "      <th>2022-02-05</th>\n",
       "      <td>1.069905</td>\n",
       "      <td>NaN</td>\n",
       "      <td>NaN</td>\n",
       "      <td>5.0</td>\n",
       "      <td>4.0</td>\n",
       "    </tr>\n",
       "    <tr>\n",
       "      <th>2022-02-06</th>\n",
       "      <td>NaN</td>\n",
       "      <td>1.604028</td>\n",
       "      <td>NaN</td>\n",
       "      <td>5.0</td>\n",
       "      <td>5.0</td>\n",
       "    </tr>\n",
       "  </tbody>\n",
       "</table>\n",
       "</div>"
      ],
      "text/plain": [
       "                   A         B         C    D    F\n",
       "2022-02-01       NaN       NaN  0.556643  5.0  NaN\n",
       "2022-02-02  0.279091  0.940020       NaN  5.0  1.0\n",
       "2022-02-03  0.303628  1.115184       NaN  5.0  2.0\n",
       "2022-02-04       NaN  0.672061       NaN  5.0  3.0\n",
       "2022-02-05  1.069905       NaN       NaN  5.0  4.0\n",
       "2022-02-06       NaN  1.604028       NaN  5.0  5.0"
      ]
     },
     "execution_count": 242,
     "metadata": {},
     "output_type": "execute_result"
    }
   ],
   "source": [
    "df32 = df31.copy()\n",
    "df32[df32 > 0]"
   ]
  },
  {
   "cell_type": "markdown",
   "metadata": {},
   "source": [
    "### Groupby"
   ]
  },
  {
   "cell_type": "code",
   "execution_count": 243,
   "metadata": {},
   "outputs": [
    {
     "name": "stdout",
     "output_type": "stream",
     "text": [
      "\n",
      " Groupby11 \n",
      "      A      B   C         D         E   F\n",
      "0  foo    one  ZZ  0.804554  0.990109   1\n",
      "1  bar    one  AA  0.225611 -0.126398   2\n",
      "2  foo    two  CC -1.109957  0.084435   3\n",
      "3  bar  three  WW  0.341182 -0.615449  NA\n",
      "4  foo    two  XX -1.427399  0.673167   5\n",
      "5  bar    two  HH -0.919157 -1.536640   6\n",
      "6  foo    one  DD -0.245476  0.975653  NA\n",
      "7  foo  three  UU  0.875044  0.174379   8 \n",
      "\n"
     ]
    }
   ],
   "source": [
    "df121 = pd.DataFrame({'A' : ['foo', 'bar', 'foo', 'bar',\n",
    "                             'foo', 'bar', 'foo', 'foo'],\n",
    "                      'B' : ['one', 'one', 'two', 'three',\n",
    "                             'two', 'two', 'one', 'three'],\n",
    "                      'C' : ['ZZ', 'AA', 'CC', 'WW', \n",
    "                             'XX', 'HH', 'DD', 'UU'],      \n",
    "                      'D' : np.random.randn(8),\n",
    "                      'E' : np.random.randn(8),\n",
    "                      'F' : [1, 2, 3, 'NA', 5, 6, 'NA', 8]});  \n",
    "print('\\n Groupby11 \\n', df121, '\\n')"
   ]
  },
  {
   "cell_type": "code",
   "execution_count": 160,
   "metadata": {},
   "outputs": [
    {
     "ename": "TypeError",
     "evalue": "unsupported operand type(s) for +: 'int' and 'str'",
     "output_type": "error",
     "traceback": [
      "\u001b[0;31m---------------------------------------------------------------------------\u001b[0m",
      "\u001b[0;31mTypeError\u001b[0m                                 Traceback (most recent call last)",
      "Cell \u001b[0;32mIn[160], line 1\u001b[0m\n\u001b[0;32m----> 1\u001b[0m \u001b[38;5;28mprint\u001b[39m(\u001b[38;5;124m'\u001b[39m\u001b[38;5;130;01m\\n\u001b[39;00m\u001b[38;5;124m Groupby12 \u001b[39m\u001b[38;5;130;01m\\n\u001b[39;00m\u001b[38;5;124m'\u001b[39m, df121\u001b[38;5;241m.\u001b[39mgroupby(\u001b[38;5;124m'\u001b[39m\u001b[38;5;124mA\u001b[39m\u001b[38;5;124m'\u001b[39m)\u001b[38;5;241m.\u001b[39msum(), \u001b[38;5;124m'\u001b[39m\u001b[38;5;130;01m\\n\u001b[39;00m\u001b[38;5;124m'\u001b[39m)\n\u001b[1;32m      2\u001b[0m \u001b[38;5;28mprint\u001b[39m(\u001b[38;5;124m'\u001b[39m\u001b[38;5;130;01m\\n\u001b[39;00m\u001b[38;5;124m Groupby13  \u001b[39m\u001b[38;5;130;01m\\n\u001b[39;00m\u001b[38;5;124m'\u001b[39m, df121\u001b[38;5;241m.\u001b[39mgroupby([\u001b[38;5;124m'\u001b[39m\u001b[38;5;124mA\u001b[39m\u001b[38;5;124m'\u001b[39m,\u001b[38;5;124m'\u001b[39m\u001b[38;5;124mB\u001b[39m\u001b[38;5;124m'\u001b[39m])\u001b[38;5;241m.\u001b[39msum(), \u001b[38;5;124m'\u001b[39m\u001b[38;5;130;01m\\n\u001b[39;00m\u001b[38;5;124m'\u001b[39m)\n",
      "File \u001b[0;32m/opt/homebrew/Caskroom/miniconda/base/envs/pandas/lib/python3.12/site-packages/pandas/core/groupby/groupby.py:3146\u001b[0m, in \u001b[0;36mGroupBy.sum\u001b[0;34m(self, numeric_only, min_count, engine, engine_kwargs)\u001b[0m\n\u001b[1;32m   3141\u001b[0m \u001b[38;5;28;01melse\u001b[39;00m:\n\u001b[1;32m   3142\u001b[0m     \u001b[38;5;66;03m# If we are grouping on categoricals we want unobserved categories to\u001b[39;00m\n\u001b[1;32m   3143\u001b[0m     \u001b[38;5;66;03m# return zero, rather than the default of NaN which the reindexing in\u001b[39;00m\n\u001b[1;32m   3144\u001b[0m     \u001b[38;5;66;03m# _agg_general() returns. GH #31422\u001b[39;00m\n\u001b[1;32m   3145\u001b[0m     \u001b[38;5;28;01mwith\u001b[39;00m com\u001b[38;5;241m.\u001b[39mtemp_setattr(\u001b[38;5;28mself\u001b[39m, \u001b[38;5;124m\"\u001b[39m\u001b[38;5;124mobserved\u001b[39m\u001b[38;5;124m\"\u001b[39m, \u001b[38;5;28;01mTrue\u001b[39;00m):\n\u001b[0;32m-> 3146\u001b[0m         result \u001b[38;5;241m=\u001b[39m \u001b[38;5;28mself\u001b[39m\u001b[38;5;241m.\u001b[39m_agg_general(\n\u001b[1;32m   3147\u001b[0m             numeric_only\u001b[38;5;241m=\u001b[39mnumeric_only,\n\u001b[1;32m   3148\u001b[0m             min_count\u001b[38;5;241m=\u001b[39mmin_count,\n\u001b[1;32m   3149\u001b[0m             alias\u001b[38;5;241m=\u001b[39m\u001b[38;5;124m\"\u001b[39m\u001b[38;5;124msum\u001b[39m\u001b[38;5;124m\"\u001b[39m,\n\u001b[1;32m   3150\u001b[0m             npfunc\u001b[38;5;241m=\u001b[39mnp\u001b[38;5;241m.\u001b[39msum,\n\u001b[1;32m   3151\u001b[0m         )\n\u001b[1;32m   3153\u001b[0m     \u001b[38;5;28;01mreturn\u001b[39;00m \u001b[38;5;28mself\u001b[39m\u001b[38;5;241m.\u001b[39m_reindex_output(result, fill_value\u001b[38;5;241m=\u001b[39m\u001b[38;5;241m0\u001b[39m)\n",
      "File \u001b[0;32m/opt/homebrew/Caskroom/miniconda/base/envs/pandas/lib/python3.12/site-packages/pandas/core/groupby/groupby.py:1906\u001b[0m, in \u001b[0;36mGroupBy._agg_general\u001b[0;34m(self, numeric_only, min_count, alias, npfunc, **kwargs)\u001b[0m\n\u001b[1;32m   1896\u001b[0m \u001b[38;5;129m@final\u001b[39m\n\u001b[1;32m   1897\u001b[0m \u001b[38;5;28;01mdef\u001b[39;00m \u001b[38;5;21m_agg_general\u001b[39m(\n\u001b[1;32m   1898\u001b[0m     \u001b[38;5;28mself\u001b[39m,\n\u001b[0;32m   (...)\u001b[0m\n\u001b[1;32m   1904\u001b[0m     \u001b[38;5;241m*\u001b[39m\u001b[38;5;241m*\u001b[39mkwargs,\n\u001b[1;32m   1905\u001b[0m ):\n\u001b[0;32m-> 1906\u001b[0m     result \u001b[38;5;241m=\u001b[39m \u001b[38;5;28mself\u001b[39m\u001b[38;5;241m.\u001b[39m_cython_agg_general(\n\u001b[1;32m   1907\u001b[0m         how\u001b[38;5;241m=\u001b[39malias,\n\u001b[1;32m   1908\u001b[0m         alt\u001b[38;5;241m=\u001b[39mnpfunc,\n\u001b[1;32m   1909\u001b[0m         numeric_only\u001b[38;5;241m=\u001b[39mnumeric_only,\n\u001b[1;32m   1910\u001b[0m         min_count\u001b[38;5;241m=\u001b[39mmin_count,\n\u001b[1;32m   1911\u001b[0m         \u001b[38;5;241m*\u001b[39m\u001b[38;5;241m*\u001b[39mkwargs,\n\u001b[1;32m   1912\u001b[0m     )\n\u001b[1;32m   1913\u001b[0m     \u001b[38;5;28;01mreturn\u001b[39;00m result\u001b[38;5;241m.\u001b[39m__finalize__(\u001b[38;5;28mself\u001b[39m\u001b[38;5;241m.\u001b[39mobj, method\u001b[38;5;241m=\u001b[39m\u001b[38;5;124m\"\u001b[39m\u001b[38;5;124mgroupby\u001b[39m\u001b[38;5;124m\"\u001b[39m)\n",
      "File \u001b[0;32m/opt/homebrew/Caskroom/miniconda/base/envs/pandas/lib/python3.12/site-packages/pandas/core/groupby/groupby.py:1998\u001b[0m, in \u001b[0;36mGroupBy._cython_agg_general\u001b[0;34m(self, how, alt, numeric_only, min_count, **kwargs)\u001b[0m\n\u001b[1;32m   1995\u001b[0m     result \u001b[38;5;241m=\u001b[39m \u001b[38;5;28mself\u001b[39m\u001b[38;5;241m.\u001b[39m_agg_py_fallback(how, values, ndim\u001b[38;5;241m=\u001b[39mdata\u001b[38;5;241m.\u001b[39mndim, alt\u001b[38;5;241m=\u001b[39malt)\n\u001b[1;32m   1996\u001b[0m     \u001b[38;5;28;01mreturn\u001b[39;00m result\n\u001b[0;32m-> 1998\u001b[0m new_mgr \u001b[38;5;241m=\u001b[39m data\u001b[38;5;241m.\u001b[39mgrouped_reduce(array_func)\n\u001b[1;32m   1999\u001b[0m res \u001b[38;5;241m=\u001b[39m \u001b[38;5;28mself\u001b[39m\u001b[38;5;241m.\u001b[39m_wrap_agged_manager(new_mgr)\n\u001b[1;32m   2000\u001b[0m \u001b[38;5;28;01mif\u001b[39;00m how \u001b[38;5;129;01min\u001b[39;00m [\u001b[38;5;124m\"\u001b[39m\u001b[38;5;124midxmin\u001b[39m\u001b[38;5;124m\"\u001b[39m, \u001b[38;5;124m\"\u001b[39m\u001b[38;5;124midxmax\u001b[39m\u001b[38;5;124m\"\u001b[39m]:\n",
      "File \u001b[0;32m/opt/homebrew/Caskroom/miniconda/base/envs/pandas/lib/python3.12/site-packages/pandas/core/internals/managers.py:1469\u001b[0m, in \u001b[0;36mBlockManager.grouped_reduce\u001b[0;34m(self, func)\u001b[0m\n\u001b[1;32m   1465\u001b[0m \u001b[38;5;28;01mif\u001b[39;00m blk\u001b[38;5;241m.\u001b[39mis_object:\n\u001b[1;32m   1466\u001b[0m     \u001b[38;5;66;03m# split on object-dtype blocks bc some columns may raise\u001b[39;00m\n\u001b[1;32m   1467\u001b[0m     \u001b[38;5;66;03m#  while others do not.\u001b[39;00m\n\u001b[1;32m   1468\u001b[0m     \u001b[38;5;28;01mfor\u001b[39;00m sb \u001b[38;5;129;01min\u001b[39;00m blk\u001b[38;5;241m.\u001b[39m_split():\n\u001b[0;32m-> 1469\u001b[0m         applied \u001b[38;5;241m=\u001b[39m sb\u001b[38;5;241m.\u001b[39mapply(func)\n\u001b[1;32m   1470\u001b[0m         result_blocks \u001b[38;5;241m=\u001b[39m extend_blocks(applied, result_blocks)\n\u001b[1;32m   1471\u001b[0m \u001b[38;5;28;01melse\u001b[39;00m:\n",
      "File \u001b[0;32m/opt/homebrew/Caskroom/miniconda/base/envs/pandas/lib/python3.12/site-packages/pandas/core/internals/blocks.py:393\u001b[0m, in \u001b[0;36mBlock.apply\u001b[0;34m(self, func, **kwargs)\u001b[0m\n\u001b[1;32m    387\u001b[0m \u001b[38;5;129m@final\u001b[39m\n\u001b[1;32m    388\u001b[0m \u001b[38;5;28;01mdef\u001b[39;00m \u001b[38;5;21mapply\u001b[39m(\u001b[38;5;28mself\u001b[39m, func, \u001b[38;5;241m*\u001b[39m\u001b[38;5;241m*\u001b[39mkwargs) \u001b[38;5;241m-\u001b[39m\u001b[38;5;241m>\u001b[39m \u001b[38;5;28mlist\u001b[39m[Block]:\n\u001b[1;32m    389\u001b[0m \u001b[38;5;250m    \u001b[39m\u001b[38;5;124;03m\"\"\"\u001b[39;00m\n\u001b[1;32m    390\u001b[0m \u001b[38;5;124;03m    apply the function to my values; return a block if we are not\u001b[39;00m\n\u001b[1;32m    391\u001b[0m \u001b[38;5;124;03m    one\u001b[39;00m\n\u001b[1;32m    392\u001b[0m \u001b[38;5;124;03m    \"\"\"\u001b[39;00m\n\u001b[0;32m--> 393\u001b[0m     result \u001b[38;5;241m=\u001b[39m func(\u001b[38;5;28mself\u001b[39m\u001b[38;5;241m.\u001b[39mvalues, \u001b[38;5;241m*\u001b[39m\u001b[38;5;241m*\u001b[39mkwargs)\n\u001b[1;32m    395\u001b[0m     result \u001b[38;5;241m=\u001b[39m maybe_coerce_values(result)\n\u001b[1;32m    396\u001b[0m     \u001b[38;5;28;01mreturn\u001b[39;00m \u001b[38;5;28mself\u001b[39m\u001b[38;5;241m.\u001b[39m_split_op_result(result)\n",
      "File \u001b[0;32m/opt/homebrew/Caskroom/miniconda/base/envs/pandas/lib/python3.12/site-packages/pandas/core/groupby/groupby.py:1973\u001b[0m, in \u001b[0;36mGroupBy._cython_agg_general.<locals>.array_func\u001b[0;34m(values)\u001b[0m\n\u001b[1;32m   1971\u001b[0m \u001b[38;5;28;01mdef\u001b[39;00m \u001b[38;5;21marray_func\u001b[39m(values: ArrayLike) \u001b[38;5;241m-\u001b[39m\u001b[38;5;241m>\u001b[39m ArrayLike:\n\u001b[1;32m   1972\u001b[0m     \u001b[38;5;28;01mtry\u001b[39;00m:\n\u001b[0;32m-> 1973\u001b[0m         result \u001b[38;5;241m=\u001b[39m \u001b[38;5;28mself\u001b[39m\u001b[38;5;241m.\u001b[39m_grouper\u001b[38;5;241m.\u001b[39m_cython_operation(\n\u001b[1;32m   1974\u001b[0m             \u001b[38;5;124m\"\u001b[39m\u001b[38;5;124maggregate\u001b[39m\u001b[38;5;124m\"\u001b[39m,\n\u001b[1;32m   1975\u001b[0m             values,\n\u001b[1;32m   1976\u001b[0m             how,\n\u001b[1;32m   1977\u001b[0m             axis\u001b[38;5;241m=\u001b[39mdata\u001b[38;5;241m.\u001b[39mndim \u001b[38;5;241m-\u001b[39m \u001b[38;5;241m1\u001b[39m,\n\u001b[1;32m   1978\u001b[0m             min_count\u001b[38;5;241m=\u001b[39mmin_count,\n\u001b[1;32m   1979\u001b[0m             \u001b[38;5;241m*\u001b[39m\u001b[38;5;241m*\u001b[39mkwargs,\n\u001b[1;32m   1980\u001b[0m         )\n\u001b[1;32m   1981\u001b[0m     \u001b[38;5;28;01mexcept\u001b[39;00m \u001b[38;5;167;01mNotImplementedError\u001b[39;00m:\n\u001b[1;32m   1982\u001b[0m         \u001b[38;5;66;03m# generally if we have numeric_only=False\u001b[39;00m\n\u001b[1;32m   1983\u001b[0m         \u001b[38;5;66;03m# and non-applicable functions\u001b[39;00m\n\u001b[1;32m   1984\u001b[0m         \u001b[38;5;66;03m# try to python agg\u001b[39;00m\n\u001b[1;32m   1985\u001b[0m         \u001b[38;5;66;03m# TODO: shouldn't min_count matter?\u001b[39;00m\n\u001b[1;32m   1986\u001b[0m         \u001b[38;5;66;03m# TODO: avoid special casing SparseArray here\u001b[39;00m\n\u001b[1;32m   1987\u001b[0m         \u001b[38;5;28;01mif\u001b[39;00m how \u001b[38;5;129;01min\u001b[39;00m [\u001b[38;5;124m\"\u001b[39m\u001b[38;5;124many\u001b[39m\u001b[38;5;124m\"\u001b[39m, \u001b[38;5;124m\"\u001b[39m\u001b[38;5;124mall\u001b[39m\u001b[38;5;124m\"\u001b[39m] \u001b[38;5;129;01mand\u001b[39;00m \u001b[38;5;28misinstance\u001b[39m(values, SparseArray):\n",
      "File \u001b[0;32m/opt/homebrew/Caskroom/miniconda/base/envs/pandas/lib/python3.12/site-packages/pandas/core/groupby/ops.py:831\u001b[0m, in \u001b[0;36mBaseGrouper._cython_operation\u001b[0;34m(self, kind, values, how, axis, min_count, **kwargs)\u001b[0m\n\u001b[1;32m    829\u001b[0m ids, _, _ \u001b[38;5;241m=\u001b[39m \u001b[38;5;28mself\u001b[39m\u001b[38;5;241m.\u001b[39mgroup_info\n\u001b[1;32m    830\u001b[0m ngroups \u001b[38;5;241m=\u001b[39m \u001b[38;5;28mself\u001b[39m\u001b[38;5;241m.\u001b[39mngroups\n\u001b[0;32m--> 831\u001b[0m \u001b[38;5;28;01mreturn\u001b[39;00m cy_op\u001b[38;5;241m.\u001b[39mcython_operation(\n\u001b[1;32m    832\u001b[0m     values\u001b[38;5;241m=\u001b[39mvalues,\n\u001b[1;32m    833\u001b[0m     axis\u001b[38;5;241m=\u001b[39maxis,\n\u001b[1;32m    834\u001b[0m     min_count\u001b[38;5;241m=\u001b[39mmin_count,\n\u001b[1;32m    835\u001b[0m     comp_ids\u001b[38;5;241m=\u001b[39mids,\n\u001b[1;32m    836\u001b[0m     ngroups\u001b[38;5;241m=\u001b[39mngroups,\n\u001b[1;32m    837\u001b[0m     \u001b[38;5;241m*\u001b[39m\u001b[38;5;241m*\u001b[39mkwargs,\n\u001b[1;32m    838\u001b[0m )\n",
      "File \u001b[0;32m/opt/homebrew/Caskroom/miniconda/base/envs/pandas/lib/python3.12/site-packages/pandas/core/groupby/ops.py:550\u001b[0m, in \u001b[0;36mWrappedCythonOp.cython_operation\u001b[0;34m(self, values, axis, min_count, comp_ids, ngroups, **kwargs)\u001b[0m\n\u001b[1;32m    539\u001b[0m \u001b[38;5;28;01mif\u001b[39;00m \u001b[38;5;129;01mnot\u001b[39;00m \u001b[38;5;28misinstance\u001b[39m(values, np\u001b[38;5;241m.\u001b[39mndarray):\n\u001b[1;32m    540\u001b[0m     \u001b[38;5;66;03m# i.e. ExtensionArray\u001b[39;00m\n\u001b[1;32m    541\u001b[0m     \u001b[38;5;28;01mreturn\u001b[39;00m values\u001b[38;5;241m.\u001b[39m_groupby_op(\n\u001b[1;32m    542\u001b[0m         how\u001b[38;5;241m=\u001b[39m\u001b[38;5;28mself\u001b[39m\u001b[38;5;241m.\u001b[39mhow,\n\u001b[1;32m    543\u001b[0m         has_dropped_na\u001b[38;5;241m=\u001b[39m\u001b[38;5;28mself\u001b[39m\u001b[38;5;241m.\u001b[39mhas_dropped_na,\n\u001b[0;32m   (...)\u001b[0m\n\u001b[1;32m    547\u001b[0m         \u001b[38;5;241m*\u001b[39m\u001b[38;5;241m*\u001b[39mkwargs,\n\u001b[1;32m    548\u001b[0m     )\n\u001b[0;32m--> 550\u001b[0m \u001b[38;5;28;01mreturn\u001b[39;00m \u001b[38;5;28mself\u001b[39m\u001b[38;5;241m.\u001b[39m_cython_op_ndim_compat(\n\u001b[1;32m    551\u001b[0m     values,\n\u001b[1;32m    552\u001b[0m     min_count\u001b[38;5;241m=\u001b[39mmin_count,\n\u001b[1;32m    553\u001b[0m     ngroups\u001b[38;5;241m=\u001b[39mngroups,\n\u001b[1;32m    554\u001b[0m     comp_ids\u001b[38;5;241m=\u001b[39mcomp_ids,\n\u001b[1;32m    555\u001b[0m     mask\u001b[38;5;241m=\u001b[39m\u001b[38;5;28;01mNone\u001b[39;00m,\n\u001b[1;32m    556\u001b[0m     \u001b[38;5;241m*\u001b[39m\u001b[38;5;241m*\u001b[39mkwargs,\n\u001b[1;32m    557\u001b[0m )\n",
      "File \u001b[0;32m/opt/homebrew/Caskroom/miniconda/base/envs/pandas/lib/python3.12/site-packages/pandas/core/groupby/ops.py:344\u001b[0m, in \u001b[0;36mWrappedCythonOp._cython_op_ndim_compat\u001b[0;34m(self, values, min_count, ngroups, comp_ids, mask, result_mask, **kwargs)\u001b[0m\n\u001b[1;32m    341\u001b[0m     \u001b[38;5;66;03m# otherwise we have OHLC\u001b[39;00m\n\u001b[1;32m    342\u001b[0m     \u001b[38;5;28;01mreturn\u001b[39;00m res\u001b[38;5;241m.\u001b[39mT\n\u001b[0;32m--> 344\u001b[0m \u001b[38;5;28;01mreturn\u001b[39;00m \u001b[38;5;28mself\u001b[39m\u001b[38;5;241m.\u001b[39m_call_cython_op(\n\u001b[1;32m    345\u001b[0m     values,\n\u001b[1;32m    346\u001b[0m     min_count\u001b[38;5;241m=\u001b[39mmin_count,\n\u001b[1;32m    347\u001b[0m     ngroups\u001b[38;5;241m=\u001b[39mngroups,\n\u001b[1;32m    348\u001b[0m     comp_ids\u001b[38;5;241m=\u001b[39mcomp_ids,\n\u001b[1;32m    349\u001b[0m     mask\u001b[38;5;241m=\u001b[39mmask,\n\u001b[1;32m    350\u001b[0m     result_mask\u001b[38;5;241m=\u001b[39mresult_mask,\n\u001b[1;32m    351\u001b[0m     \u001b[38;5;241m*\u001b[39m\u001b[38;5;241m*\u001b[39mkwargs,\n\u001b[1;32m    352\u001b[0m )\n",
      "File \u001b[0;32m/opt/homebrew/Caskroom/miniconda/base/envs/pandas/lib/python3.12/site-packages/pandas/core/groupby/ops.py:418\u001b[0m, in \u001b[0;36mWrappedCythonOp._call_cython_op\u001b[0;34m(self, values, min_count, ngroups, comp_ids, mask, result_mask, **kwargs)\u001b[0m\n\u001b[1;32m    407\u001b[0m counts \u001b[38;5;241m=\u001b[39m np\u001b[38;5;241m.\u001b[39mzeros(ngroups, dtype\u001b[38;5;241m=\u001b[39mnp\u001b[38;5;241m.\u001b[39mint64)\n\u001b[1;32m    408\u001b[0m \u001b[38;5;28;01mif\u001b[39;00m \u001b[38;5;28mself\u001b[39m\u001b[38;5;241m.\u001b[39mhow \u001b[38;5;129;01min\u001b[39;00m [\n\u001b[1;32m    409\u001b[0m     \u001b[38;5;124m\"\u001b[39m\u001b[38;5;124midxmin\u001b[39m\u001b[38;5;124m\"\u001b[39m,\n\u001b[1;32m    410\u001b[0m     \u001b[38;5;124m\"\u001b[39m\u001b[38;5;124midxmax\u001b[39m\u001b[38;5;124m\"\u001b[39m,\n\u001b[0;32m   (...)\u001b[0m\n\u001b[1;32m    416\u001b[0m     \u001b[38;5;124m\"\u001b[39m\u001b[38;5;124msum\u001b[39m\u001b[38;5;124m\"\u001b[39m,\n\u001b[1;32m    417\u001b[0m ]:\n\u001b[0;32m--> 418\u001b[0m     func(\n\u001b[1;32m    419\u001b[0m         out\u001b[38;5;241m=\u001b[39mresult,\n\u001b[1;32m    420\u001b[0m         counts\u001b[38;5;241m=\u001b[39mcounts,\n\u001b[1;32m    421\u001b[0m         values\u001b[38;5;241m=\u001b[39mvalues,\n\u001b[1;32m    422\u001b[0m         labels\u001b[38;5;241m=\u001b[39mcomp_ids,\n\u001b[1;32m    423\u001b[0m         min_count\u001b[38;5;241m=\u001b[39mmin_count,\n\u001b[1;32m    424\u001b[0m         mask\u001b[38;5;241m=\u001b[39mmask,\n\u001b[1;32m    425\u001b[0m         result_mask\u001b[38;5;241m=\u001b[39mresult_mask,\n\u001b[1;32m    426\u001b[0m         is_datetimelike\u001b[38;5;241m=\u001b[39mis_datetimelike,\n\u001b[1;32m    427\u001b[0m         \u001b[38;5;241m*\u001b[39m\u001b[38;5;241m*\u001b[39mkwargs,\n\u001b[1;32m    428\u001b[0m     )\n\u001b[1;32m    429\u001b[0m \u001b[38;5;28;01melif\u001b[39;00m \u001b[38;5;28mself\u001b[39m\u001b[38;5;241m.\u001b[39mhow \u001b[38;5;129;01min\u001b[39;00m [\u001b[38;5;124m\"\u001b[39m\u001b[38;5;124msem\u001b[39m\u001b[38;5;124m\"\u001b[39m, \u001b[38;5;124m\"\u001b[39m\u001b[38;5;124mstd\u001b[39m\u001b[38;5;124m\"\u001b[39m, \u001b[38;5;124m\"\u001b[39m\u001b[38;5;124mvar\u001b[39m\u001b[38;5;124m\"\u001b[39m, \u001b[38;5;124m\"\u001b[39m\u001b[38;5;124mohlc\u001b[39m\u001b[38;5;124m\"\u001b[39m, \u001b[38;5;124m\"\u001b[39m\u001b[38;5;124mprod\u001b[39m\u001b[38;5;124m\"\u001b[39m, \u001b[38;5;124m\"\u001b[39m\u001b[38;5;124mmedian\u001b[39m\u001b[38;5;124m\"\u001b[39m]:\n\u001b[1;32m    430\u001b[0m     \u001b[38;5;28;01mif\u001b[39;00m \u001b[38;5;28mself\u001b[39m\u001b[38;5;241m.\u001b[39mhow \u001b[38;5;129;01min\u001b[39;00m [\u001b[38;5;124m\"\u001b[39m\u001b[38;5;124mstd\u001b[39m\u001b[38;5;124m\"\u001b[39m, \u001b[38;5;124m\"\u001b[39m\u001b[38;5;124msem\u001b[39m\u001b[38;5;124m\"\u001b[39m]:\n",
      "File \u001b[0;32mgroupby.pyx:725\u001b[0m, in \u001b[0;36mpandas._libs.groupby.group_sum\u001b[0;34m()\u001b[0m\n",
      "\u001b[0;31mTypeError\u001b[0m: unsupported operand type(s) for +: 'int' and 'str'"
     ]
    }
   ],
   "source": [
    "print('\\n Groupby12 \\n', df121.groupby('A').sum(), '\\n')\n",
    "print('\\n Groupby13  \\n', df121.groupby(['A','B']).sum(), '\\n')"
   ]
  },
  {
   "cell_type": "code",
   "execution_count": 165,
   "metadata": {},
   "outputs": [
    {
     "name": "stdout",
     "output_type": "stream",
     "text": [
      "\n",
      " Groupby12 \n",
      "             D         E\n",
      "A                      \n",
      "bar  1.004195 -1.878481\n",
      "foo  1.298264 -0.352180 \n",
      "\n",
      "\n",
      " Groupby13  \n",
      "                   D         E\n",
      "A   B                        \n",
      "bar one    0.437666 -0.647477\n",
      "    three  2.140583  0.031729\n",
      "    two   -1.574054 -1.262732\n",
      "foo one    0.448604 -0.120274\n",
      "    three  0.813213  0.345380\n",
      "    two    0.036448 -0.577285 \n",
      "\n"
     ]
    }
   ],
   "source": [
    "print('\\n Groupby12 \\n', df121.groupby('A')[['D', 'E']].sum(), '\\n')\n",
    "print('\\n Groupby13  \\n', df121.groupby(['A','B'])[['D','E']].sum(), '\\n')"
   ]
  },
  {
   "cell_type": "code",
   "execution_count": 167,
   "metadata": {},
   "outputs": [
    {
     "name": "stdout",
     "output_type": "stream",
     "text": [
      "\n",
      " Groupby 14 \n",
      "      A      B   C         D         E   F  G      H\n",
      "0  foo    one  ZZ -0.521054  0.557738   1  0    one\n",
      "1  bar    one  AA  0.437666 -0.647477   2  0    one\n",
      "2  foo    two  CC  0.453391 -0.366640   3  0    two\n",
      "3  bar  three  WW  2.140583  0.031729  NA  0  three\n",
      "4  foo    two  XX -0.416943 -0.210646   5  0    two\n",
      "5  bar    two  HH -1.574054 -1.262732   6 -1    two\n",
      "6  foo    one  DD  0.969658 -0.678012  NA  0    one\n",
      "7  foo  three  UU  0.813213  0.345380   8  0  three \n",
      "\n"
     ]
    }
   ],
   "source": [
    "df121[\"G\"] = df121[\"E\"].astype(int); \n",
    "\n",
    "df121[\"H\"] = df121[\"B\"].astype(\"category\"); \n",
    "print('\\n Groupby 14 \\n', df121, '\\n')"
   ]
  },
  {
   "cell_type": "code",
   "execution_count": 244,
   "metadata": {},
   "outputs": [
    {
     "data": {
      "text/html": [
       "<div>\n",
       "<style scoped>\n",
       "    .dataframe tbody tr th:only-of-type {\n",
       "        vertical-align: middle;\n",
       "    }\n",
       "\n",
       "    .dataframe tbody tr th {\n",
       "        vertical-align: top;\n",
       "    }\n",
       "\n",
       "    .dataframe thead th {\n",
       "        text-align: right;\n",
       "    }\n",
       "</style>\n",
       "<table border=\"1\" class=\"dataframe\">\n",
       "  <thead>\n",
       "    <tr style=\"text-align: right;\">\n",
       "      <th></th>\n",
       "      <th>country</th>\n",
       "      <th>continent</th>\n",
       "      <th>year</th>\n",
       "      <th>lifeExp</th>\n",
       "      <th>pop</th>\n",
       "      <th>gdpPercap</th>\n",
       "    </tr>\n",
       "  </thead>\n",
       "  <tbody>\n",
       "    <tr>\n",
       "      <th>0</th>\n",
       "      <td>Afghanistan</td>\n",
       "      <td>Asia</td>\n",
       "      <td>1952</td>\n",
       "      <td>28.801</td>\n",
       "      <td>8425333</td>\n",
       "      <td>779.445314</td>\n",
       "    </tr>\n",
       "    <tr>\n",
       "      <th>1</th>\n",
       "      <td>Afghanistan</td>\n",
       "      <td>Asia</td>\n",
       "      <td>1957</td>\n",
       "      <td>30.332</td>\n",
       "      <td>9240934</td>\n",
       "      <td>820.853030</td>\n",
       "    </tr>\n",
       "    <tr>\n",
       "      <th>2</th>\n",
       "      <td>Afghanistan</td>\n",
       "      <td>Asia</td>\n",
       "      <td>1962</td>\n",
       "      <td>31.997</td>\n",
       "      <td>10267083</td>\n",
       "      <td>853.100710</td>\n",
       "    </tr>\n",
       "    <tr>\n",
       "      <th>3</th>\n",
       "      <td>Afghanistan</td>\n",
       "      <td>Asia</td>\n",
       "      <td>1967</td>\n",
       "      <td>34.020</td>\n",
       "      <td>11537966</td>\n",
       "      <td>836.197138</td>\n",
       "    </tr>\n",
       "    <tr>\n",
       "      <th>4</th>\n",
       "      <td>Afghanistan</td>\n",
       "      <td>Asia</td>\n",
       "      <td>1972</td>\n",
       "      <td>36.088</td>\n",
       "      <td>13079460</td>\n",
       "      <td>739.981106</td>\n",
       "    </tr>\n",
       "    <tr>\n",
       "      <th>...</th>\n",
       "      <td>...</td>\n",
       "      <td>...</td>\n",
       "      <td>...</td>\n",
       "      <td>...</td>\n",
       "      <td>...</td>\n",
       "      <td>...</td>\n",
       "    </tr>\n",
       "    <tr>\n",
       "      <th>1699</th>\n",
       "      <td>Zimbabwe</td>\n",
       "      <td>Africa</td>\n",
       "      <td>1987</td>\n",
       "      <td>62.351</td>\n",
       "      <td>9216418</td>\n",
       "      <td>706.157306</td>\n",
       "    </tr>\n",
       "    <tr>\n",
       "      <th>1700</th>\n",
       "      <td>Zimbabwe</td>\n",
       "      <td>Africa</td>\n",
       "      <td>1992</td>\n",
       "      <td>60.377</td>\n",
       "      <td>10704340</td>\n",
       "      <td>693.420786</td>\n",
       "    </tr>\n",
       "    <tr>\n",
       "      <th>1701</th>\n",
       "      <td>Zimbabwe</td>\n",
       "      <td>Africa</td>\n",
       "      <td>1997</td>\n",
       "      <td>46.809</td>\n",
       "      <td>11404948</td>\n",
       "      <td>792.449960</td>\n",
       "    </tr>\n",
       "    <tr>\n",
       "      <th>1702</th>\n",
       "      <td>Zimbabwe</td>\n",
       "      <td>Africa</td>\n",
       "      <td>2002</td>\n",
       "      <td>39.989</td>\n",
       "      <td>11926563</td>\n",
       "      <td>672.038623</td>\n",
       "    </tr>\n",
       "    <tr>\n",
       "      <th>1703</th>\n",
       "      <td>Zimbabwe</td>\n",
       "      <td>Africa</td>\n",
       "      <td>2007</td>\n",
       "      <td>43.487</td>\n",
       "      <td>12311143</td>\n",
       "      <td>469.709298</td>\n",
       "    </tr>\n",
       "  </tbody>\n",
       "</table>\n",
       "<p>1704 rows × 6 columns</p>\n",
       "</div>"
      ],
      "text/plain": [
       "          country continent  year  lifeExp       pop   gdpPercap\n",
       "0     Afghanistan      Asia  1952   28.801   8425333  779.445314\n",
       "1     Afghanistan      Asia  1957   30.332   9240934  820.853030\n",
       "2     Afghanistan      Asia  1962   31.997  10267083  853.100710\n",
       "3     Afghanistan      Asia  1967   34.020  11537966  836.197138\n",
       "4     Afghanistan      Asia  1972   36.088  13079460  739.981106\n",
       "...           ...       ...   ...      ...       ...         ...\n",
       "1699     Zimbabwe    Africa  1987   62.351   9216418  706.157306\n",
       "1700     Zimbabwe    Africa  1992   60.377  10704340  693.420786\n",
       "1701     Zimbabwe    Africa  1997   46.809  11404948  792.449960\n",
       "1702     Zimbabwe    Africa  2002   39.989  11926563  672.038623\n",
       "1703     Zimbabwe    Africa  2007   43.487  12311143  469.709298\n",
       "\n",
       "[1704 rows x 6 columns]"
      ]
     },
     "execution_count": 244,
     "metadata": {},
     "output_type": "execute_result"
    }
   ],
   "source": [
    "# Grouped means\n",
    "df = pd.read_csv('data/gapminder.tsv', sep='\\t')\n",
    "df"
   ]
  },
  {
   "cell_type": "code",
   "execution_count": 169,
   "metadata": {},
   "outputs": [
    {
     "name": "stdout",
     "output_type": "stream",
     "text": [
      "Grouped means 01  \n",
      " year\n",
      "1952    49.057620\n",
      "1957    51.507401\n",
      "1962    53.609249\n",
      "1967    55.678290\n",
      "1972    57.647386\n",
      "1977    59.570157\n",
      "1982    61.533197\n",
      "1987    63.212613\n",
      "1992    64.160338\n",
      "1997    65.014676\n",
      "2002    65.694923\n",
      "2007    67.007423\n",
      "Name: lifeExp, dtype: float64 \n",
      "\n"
     ]
    },
    {
     "ename": "TypeError",
     "evalue": "agg function failed [how->mean,dtype->object]",
     "output_type": "error",
     "traceback": [
      "\u001b[0;31m---------------------------------------------------------------------------\u001b[0m",
      "\u001b[0;31mTypeError\u001b[0m                                 Traceback (most recent call last)",
      "File \u001b[0;32m/opt/homebrew/Caskroom/miniconda/base/envs/pandas/lib/python3.12/site-packages/pandas/core/groupby/groupby.py:1942\u001b[0m, in \u001b[0;36mGroupBy._agg_py_fallback\u001b[0;34m(self, how, values, ndim, alt)\u001b[0m\n\u001b[1;32m   1941\u001b[0m \u001b[38;5;28;01mtry\u001b[39;00m:\n\u001b[0;32m-> 1942\u001b[0m     res_values \u001b[38;5;241m=\u001b[39m \u001b[38;5;28mself\u001b[39m\u001b[38;5;241m.\u001b[39m_grouper\u001b[38;5;241m.\u001b[39magg_series(ser, alt, preserve_dtype\u001b[38;5;241m=\u001b[39m\u001b[38;5;28;01mTrue\u001b[39;00m)\n\u001b[1;32m   1943\u001b[0m \u001b[38;5;28;01mexcept\u001b[39;00m \u001b[38;5;167;01mException\u001b[39;00m \u001b[38;5;28;01mas\u001b[39;00m err:\n",
      "File \u001b[0;32m/opt/homebrew/Caskroom/miniconda/base/envs/pandas/lib/python3.12/site-packages/pandas/core/groupby/ops.py:864\u001b[0m, in \u001b[0;36mBaseGrouper.agg_series\u001b[0;34m(self, obj, func, preserve_dtype)\u001b[0m\n\u001b[1;32m    862\u001b[0m     preserve_dtype \u001b[38;5;241m=\u001b[39m \u001b[38;5;28;01mTrue\u001b[39;00m\n\u001b[0;32m--> 864\u001b[0m result \u001b[38;5;241m=\u001b[39m \u001b[38;5;28mself\u001b[39m\u001b[38;5;241m.\u001b[39m_aggregate_series_pure_python(obj, func)\n\u001b[1;32m    866\u001b[0m npvalues \u001b[38;5;241m=\u001b[39m lib\u001b[38;5;241m.\u001b[39mmaybe_convert_objects(result, try_float\u001b[38;5;241m=\u001b[39m\u001b[38;5;28;01mFalse\u001b[39;00m)\n",
      "File \u001b[0;32m/opt/homebrew/Caskroom/miniconda/base/envs/pandas/lib/python3.12/site-packages/pandas/core/groupby/ops.py:885\u001b[0m, in \u001b[0;36mBaseGrouper._aggregate_series_pure_python\u001b[0;34m(self, obj, func)\u001b[0m\n\u001b[1;32m    884\u001b[0m \u001b[38;5;28;01mfor\u001b[39;00m i, group \u001b[38;5;129;01min\u001b[39;00m \u001b[38;5;28menumerate\u001b[39m(splitter):\n\u001b[0;32m--> 885\u001b[0m     res \u001b[38;5;241m=\u001b[39m func(group)\n\u001b[1;32m    886\u001b[0m     res \u001b[38;5;241m=\u001b[39m extract_result(res)\n",
      "File \u001b[0;32m/opt/homebrew/Caskroom/miniconda/base/envs/pandas/lib/python3.12/site-packages/pandas/core/groupby/groupby.py:2454\u001b[0m, in \u001b[0;36mGroupBy.mean.<locals>.<lambda>\u001b[0;34m(x)\u001b[0m\n\u001b[1;32m   2451\u001b[0m \u001b[38;5;28;01melse\u001b[39;00m:\n\u001b[1;32m   2452\u001b[0m     result \u001b[38;5;241m=\u001b[39m \u001b[38;5;28mself\u001b[39m\u001b[38;5;241m.\u001b[39m_cython_agg_general(\n\u001b[1;32m   2453\u001b[0m         \u001b[38;5;124m\"\u001b[39m\u001b[38;5;124mmean\u001b[39m\u001b[38;5;124m\"\u001b[39m,\n\u001b[0;32m-> 2454\u001b[0m         alt\u001b[38;5;241m=\u001b[39m\u001b[38;5;28;01mlambda\u001b[39;00m x: Series(x, copy\u001b[38;5;241m=\u001b[39m\u001b[38;5;28;01mFalse\u001b[39;00m)\u001b[38;5;241m.\u001b[39mmean(numeric_only\u001b[38;5;241m=\u001b[39mnumeric_only),\n\u001b[1;32m   2455\u001b[0m         numeric_only\u001b[38;5;241m=\u001b[39mnumeric_only,\n\u001b[1;32m   2456\u001b[0m     )\n\u001b[1;32m   2457\u001b[0m     \u001b[38;5;28;01mreturn\u001b[39;00m result\u001b[38;5;241m.\u001b[39m__finalize__(\u001b[38;5;28mself\u001b[39m\u001b[38;5;241m.\u001b[39mobj, method\u001b[38;5;241m=\u001b[39m\u001b[38;5;124m\"\u001b[39m\u001b[38;5;124mgroupby\u001b[39m\u001b[38;5;124m\"\u001b[39m)\n",
      "File \u001b[0;32m/opt/homebrew/Caskroom/miniconda/base/envs/pandas/lib/python3.12/site-packages/pandas/core/series.py:6540\u001b[0m, in \u001b[0;36mSeries.mean\u001b[0;34m(self, axis, skipna, numeric_only, **kwargs)\u001b[0m\n\u001b[1;32m   6532\u001b[0m \u001b[38;5;129m@doc\u001b[39m(make_doc(\u001b[38;5;124m\"\u001b[39m\u001b[38;5;124mmean\u001b[39m\u001b[38;5;124m\"\u001b[39m, ndim\u001b[38;5;241m=\u001b[39m\u001b[38;5;241m1\u001b[39m))\n\u001b[1;32m   6533\u001b[0m \u001b[38;5;28;01mdef\u001b[39;00m \u001b[38;5;21mmean\u001b[39m(\n\u001b[1;32m   6534\u001b[0m     \u001b[38;5;28mself\u001b[39m,\n\u001b[0;32m   (...)\u001b[0m\n\u001b[1;32m   6538\u001b[0m     \u001b[38;5;241m*\u001b[39m\u001b[38;5;241m*\u001b[39mkwargs,\n\u001b[1;32m   6539\u001b[0m ):\n\u001b[0;32m-> 6540\u001b[0m     \u001b[38;5;28;01mreturn\u001b[39;00m NDFrame\u001b[38;5;241m.\u001b[39mmean(\u001b[38;5;28mself\u001b[39m, axis, skipna, numeric_only, \u001b[38;5;241m*\u001b[39m\u001b[38;5;241m*\u001b[39mkwargs)\n",
      "File \u001b[0;32m/opt/homebrew/Caskroom/miniconda/base/envs/pandas/lib/python3.12/site-packages/pandas/core/generic.py:12417\u001b[0m, in \u001b[0;36mNDFrame.mean\u001b[0;34m(self, axis, skipna, numeric_only, **kwargs)\u001b[0m\n\u001b[1;32m  12410\u001b[0m \u001b[38;5;28;01mdef\u001b[39;00m \u001b[38;5;21mmean\u001b[39m(\n\u001b[1;32m  12411\u001b[0m     \u001b[38;5;28mself\u001b[39m,\n\u001b[1;32m  12412\u001b[0m     axis: Axis \u001b[38;5;241m|\u001b[39m \u001b[38;5;28;01mNone\u001b[39;00m \u001b[38;5;241m=\u001b[39m \u001b[38;5;241m0\u001b[39m,\n\u001b[0;32m   (...)\u001b[0m\n\u001b[1;32m  12415\u001b[0m     \u001b[38;5;241m*\u001b[39m\u001b[38;5;241m*\u001b[39mkwargs,\n\u001b[1;32m  12416\u001b[0m ) \u001b[38;5;241m-\u001b[39m\u001b[38;5;241m>\u001b[39m Series \u001b[38;5;241m|\u001b[39m \u001b[38;5;28mfloat\u001b[39m:\n\u001b[0;32m> 12417\u001b[0m     \u001b[38;5;28;01mreturn\u001b[39;00m \u001b[38;5;28mself\u001b[39m\u001b[38;5;241m.\u001b[39m_stat_function(\n\u001b[1;32m  12418\u001b[0m         \u001b[38;5;124m\"\u001b[39m\u001b[38;5;124mmean\u001b[39m\u001b[38;5;124m\"\u001b[39m, nanops\u001b[38;5;241m.\u001b[39mnanmean, axis, skipna, numeric_only, \u001b[38;5;241m*\u001b[39m\u001b[38;5;241m*\u001b[39mkwargs\n\u001b[1;32m  12419\u001b[0m     )\n",
      "File \u001b[0;32m/opt/homebrew/Caskroom/miniconda/base/envs/pandas/lib/python3.12/site-packages/pandas/core/generic.py:12374\u001b[0m, in \u001b[0;36mNDFrame._stat_function\u001b[0;34m(self, name, func, axis, skipna, numeric_only, **kwargs)\u001b[0m\n\u001b[1;32m  12372\u001b[0m validate_bool_kwarg(skipna, \u001b[38;5;124m\"\u001b[39m\u001b[38;5;124mskipna\u001b[39m\u001b[38;5;124m\"\u001b[39m, none_allowed\u001b[38;5;241m=\u001b[39m\u001b[38;5;28;01mFalse\u001b[39;00m)\n\u001b[0;32m> 12374\u001b[0m \u001b[38;5;28;01mreturn\u001b[39;00m \u001b[38;5;28mself\u001b[39m\u001b[38;5;241m.\u001b[39m_reduce(\n\u001b[1;32m  12375\u001b[0m     func, name\u001b[38;5;241m=\u001b[39mname, axis\u001b[38;5;241m=\u001b[39maxis, skipna\u001b[38;5;241m=\u001b[39mskipna, numeric_only\u001b[38;5;241m=\u001b[39mnumeric_only\n\u001b[1;32m  12376\u001b[0m )\n",
      "File \u001b[0;32m/opt/homebrew/Caskroom/miniconda/base/envs/pandas/lib/python3.12/site-packages/pandas/core/series.py:6448\u001b[0m, in \u001b[0;36mSeries._reduce\u001b[0;34m(self, op, name, axis, skipna, numeric_only, filter_type, **kwds)\u001b[0m\n\u001b[1;32m   6444\u001b[0m     \u001b[38;5;28;01mraise\u001b[39;00m \u001b[38;5;167;01mTypeError\u001b[39;00m(\n\u001b[1;32m   6445\u001b[0m         \u001b[38;5;124mf\u001b[39m\u001b[38;5;124m\"\u001b[39m\u001b[38;5;124mSeries.\u001b[39m\u001b[38;5;132;01m{\u001b[39;00mname\u001b[38;5;132;01m}\u001b[39;00m\u001b[38;5;124m does not allow \u001b[39m\u001b[38;5;132;01m{\u001b[39;00mkwd_name\u001b[38;5;132;01m}\u001b[39;00m\u001b[38;5;124m=\u001b[39m\u001b[38;5;132;01m{\u001b[39;00mnumeric_only\u001b[38;5;132;01m}\u001b[39;00m\u001b[38;5;124m \u001b[39m\u001b[38;5;124m\"\u001b[39m\n\u001b[1;32m   6446\u001b[0m         \u001b[38;5;124m\"\u001b[39m\u001b[38;5;124mwith non-numeric dtypes.\u001b[39m\u001b[38;5;124m\"\u001b[39m\n\u001b[1;32m   6447\u001b[0m     )\n\u001b[0;32m-> 6448\u001b[0m \u001b[38;5;28;01mreturn\u001b[39;00m op(delegate, skipna\u001b[38;5;241m=\u001b[39mskipna, \u001b[38;5;241m*\u001b[39m\u001b[38;5;241m*\u001b[39mkwds)\n",
      "File \u001b[0;32m/opt/homebrew/Caskroom/miniconda/base/envs/pandas/lib/python3.12/site-packages/pandas/core/nanops.py:147\u001b[0m, in \u001b[0;36mbottleneck_switch.__call__.<locals>.f\u001b[0;34m(values, axis, skipna, **kwds)\u001b[0m\n\u001b[1;32m    146\u001b[0m \u001b[38;5;28;01melse\u001b[39;00m:\n\u001b[0;32m--> 147\u001b[0m     result \u001b[38;5;241m=\u001b[39m alt(values, axis\u001b[38;5;241m=\u001b[39maxis, skipna\u001b[38;5;241m=\u001b[39mskipna, \u001b[38;5;241m*\u001b[39m\u001b[38;5;241m*\u001b[39mkwds)\n\u001b[1;32m    149\u001b[0m \u001b[38;5;28;01mreturn\u001b[39;00m result\n",
      "File \u001b[0;32m/opt/homebrew/Caskroom/miniconda/base/envs/pandas/lib/python3.12/site-packages/pandas/core/nanops.py:404\u001b[0m, in \u001b[0;36m_datetimelike_compat.<locals>.new_func\u001b[0;34m(values, axis, skipna, mask, **kwargs)\u001b[0m\n\u001b[1;32m    402\u001b[0m     mask \u001b[38;5;241m=\u001b[39m isna(values)\n\u001b[0;32m--> 404\u001b[0m result \u001b[38;5;241m=\u001b[39m func(values, axis\u001b[38;5;241m=\u001b[39maxis, skipna\u001b[38;5;241m=\u001b[39mskipna, mask\u001b[38;5;241m=\u001b[39mmask, \u001b[38;5;241m*\u001b[39m\u001b[38;5;241m*\u001b[39mkwargs)\n\u001b[1;32m    406\u001b[0m \u001b[38;5;28;01mif\u001b[39;00m datetimelike:\n",
      "File \u001b[0;32m/opt/homebrew/Caskroom/miniconda/base/envs/pandas/lib/python3.12/site-packages/pandas/core/nanops.py:720\u001b[0m, in \u001b[0;36mnanmean\u001b[0;34m(values, axis, skipna, mask)\u001b[0m\n\u001b[1;32m    719\u001b[0m the_sum \u001b[38;5;241m=\u001b[39m values\u001b[38;5;241m.\u001b[39msum(axis, dtype\u001b[38;5;241m=\u001b[39mdtype_sum)\n\u001b[0;32m--> 720\u001b[0m the_sum \u001b[38;5;241m=\u001b[39m _ensure_numeric(the_sum)\n\u001b[1;32m    722\u001b[0m \u001b[38;5;28;01mif\u001b[39;00m axis \u001b[38;5;129;01mis\u001b[39;00m \u001b[38;5;129;01mnot\u001b[39;00m \u001b[38;5;28;01mNone\u001b[39;00m \u001b[38;5;129;01mand\u001b[39;00m \u001b[38;5;28mgetattr\u001b[39m(the_sum, \u001b[38;5;124m\"\u001b[39m\u001b[38;5;124mndim\u001b[39m\u001b[38;5;124m\"\u001b[39m, \u001b[38;5;28;01mFalse\u001b[39;00m):\n",
      "File \u001b[0;32m/opt/homebrew/Caskroom/miniconda/base/envs/pandas/lib/python3.12/site-packages/pandas/core/nanops.py:1701\u001b[0m, in \u001b[0;36m_ensure_numeric\u001b[0;34m(x)\u001b[0m\n\u001b[1;32m   1699\u001b[0m \u001b[38;5;28;01mif\u001b[39;00m \u001b[38;5;28misinstance\u001b[39m(x, \u001b[38;5;28mstr\u001b[39m):\n\u001b[1;32m   1700\u001b[0m     \u001b[38;5;66;03m# GH#44008, GH#36703 avoid casting e.g. strings to numeric\u001b[39;00m\n\u001b[0;32m-> 1701\u001b[0m     \u001b[38;5;28;01mraise\u001b[39;00m \u001b[38;5;167;01mTypeError\u001b[39;00m(\u001b[38;5;124mf\u001b[39m\u001b[38;5;124m\"\u001b[39m\u001b[38;5;124mCould not convert string \u001b[39m\u001b[38;5;124m'\u001b[39m\u001b[38;5;132;01m{\u001b[39;00mx\u001b[38;5;132;01m}\u001b[39;00m\u001b[38;5;124m'\u001b[39m\u001b[38;5;124m to numeric\u001b[39m\u001b[38;5;124m\"\u001b[39m)\n\u001b[1;32m   1702\u001b[0m \u001b[38;5;28;01mtry\u001b[39;00m:\n",
      "\u001b[0;31mTypeError\u001b[0m: Could not convert string 'AfghanistanAlbaniaAlgeriaAngolaArgentinaAustraliaAustriaBahrainBangladeshBelgiumBeninBoliviaBosnia and HerzegovinaBotswanaBrazilBulgariaBurkina FasoBurundiCambodiaCameroonCanadaCentral African RepublicChadChileChinaColombiaComorosCongo, Dem. Rep.Congo, Rep.Costa RicaCote d'IvoireCroatiaCubaCzech RepublicDenmarkDjiboutiDominican RepublicEcuadorEgyptEl SalvadorEquatorial GuineaEritreaEthiopiaFinlandFranceGabonGambiaGermanyGhanaGreeceGuatemalaGuineaGuinea-BissauHaitiHondurasHong Kong, ChinaHungaryIcelandIndiaIndonesiaIranIraqIrelandIsraelItalyJamaicaJapanJordanKenyaKorea, Dem. Rep.Korea, Rep.KuwaitLebanonLesothoLiberiaLibyaMadagascarMalawiMalaysiaMaliMauritaniaMauritiusMexicoMongoliaMontenegroMoroccoMozambiqueMyanmarNamibiaNepalNetherlandsNew ZealandNicaraguaNigerNigeriaNorwayOmanPakistanPanamaParaguayPeruPhilippinesPolandPortugalPuerto RicoReunionRomaniaRwandaSao Tome and PrincipeSaudi ArabiaSenegalSerbiaSierra LeoneSingaporeSlovak RepublicSloveniaSomaliaSouth AfricaSpainSri LankaSudanSwazilandSwedenSwitzerlandSyriaTaiwanTanzaniaThailandTogoTrinidad and TobagoTunisiaTurkeyUgandaUnited KingdomUnited StatesUruguayVenezuelaVietnamWest Bank and GazaYemen, Rep.ZambiaZimbabwe' to numeric",
      "\nThe above exception was the direct cause of the following exception:\n",
      "\u001b[0;31mTypeError\u001b[0m                                 Traceback (most recent call last)",
      "Cell \u001b[0;32mIn[169], line 5\u001b[0m\n\u001b[1;32m      1\u001b[0m \u001b[38;5;66;03m# mean of life expectancy by year\u001b[39;00m\n\u001b[1;32m      2\u001b[0m \u001b[38;5;28mprint\u001b[39m(\u001b[38;5;124m'\u001b[39m\u001b[38;5;124mGrouped means 01  \u001b[39m\u001b[38;5;130;01m\\n\u001b[39;00m\u001b[38;5;124m'\u001b[39m, \n\u001b[1;32m      3\u001b[0m       df\u001b[38;5;241m.\u001b[39mgroupby(\u001b[38;5;124m'\u001b[39m\u001b[38;5;124myear\u001b[39m\u001b[38;5;124m'\u001b[39m)[\u001b[38;5;124m'\u001b[39m\u001b[38;5;124mlifeExp\u001b[39m\u001b[38;5;124m'\u001b[39m]\u001b[38;5;241m.\u001b[39mmean(), \u001b[38;5;124m'\u001b[39m\u001b[38;5;130;01m\\n\u001b[39;00m\u001b[38;5;124m'\u001b[39m)\n\u001b[1;32m      4\u001b[0m \u001b[38;5;28mprint\u001b[39m(\u001b[38;5;124m'\u001b[39m\u001b[38;5;124mGrouped means 01  \u001b[39m\u001b[38;5;130;01m\\n\u001b[39;00m\u001b[38;5;124m'\u001b[39m, \n\u001b[0;32m----> 5\u001b[0m       df\u001b[38;5;241m.\u001b[39mgroupby(\u001b[38;5;124m'\u001b[39m\u001b[38;5;124myear\u001b[39m\u001b[38;5;124m'\u001b[39m)\u001b[38;5;241m.\u001b[39mmean(), \u001b[38;5;124m'\u001b[39m\u001b[38;5;130;01m\\n\u001b[39;00m\u001b[38;5;124m'\u001b[39m)\n",
      "File \u001b[0;32m/opt/homebrew/Caskroom/miniconda/base/envs/pandas/lib/python3.12/site-packages/pandas/core/groupby/groupby.py:2452\u001b[0m, in \u001b[0;36mGroupBy.mean\u001b[0;34m(self, numeric_only, engine, engine_kwargs)\u001b[0m\n\u001b[1;32m   2445\u001b[0m     \u001b[38;5;28;01mreturn\u001b[39;00m \u001b[38;5;28mself\u001b[39m\u001b[38;5;241m.\u001b[39m_numba_agg_general(\n\u001b[1;32m   2446\u001b[0m         grouped_mean,\n\u001b[1;32m   2447\u001b[0m         executor\u001b[38;5;241m.\u001b[39mfloat_dtype_mapping,\n\u001b[1;32m   2448\u001b[0m         engine_kwargs,\n\u001b[1;32m   2449\u001b[0m         min_periods\u001b[38;5;241m=\u001b[39m\u001b[38;5;241m0\u001b[39m,\n\u001b[1;32m   2450\u001b[0m     )\n\u001b[1;32m   2451\u001b[0m \u001b[38;5;28;01melse\u001b[39;00m:\n\u001b[0;32m-> 2452\u001b[0m     result \u001b[38;5;241m=\u001b[39m \u001b[38;5;28mself\u001b[39m\u001b[38;5;241m.\u001b[39m_cython_agg_general(\n\u001b[1;32m   2453\u001b[0m         \u001b[38;5;124m\"\u001b[39m\u001b[38;5;124mmean\u001b[39m\u001b[38;5;124m\"\u001b[39m,\n\u001b[1;32m   2454\u001b[0m         alt\u001b[38;5;241m=\u001b[39m\u001b[38;5;28;01mlambda\u001b[39;00m x: Series(x, copy\u001b[38;5;241m=\u001b[39m\u001b[38;5;28;01mFalse\u001b[39;00m)\u001b[38;5;241m.\u001b[39mmean(numeric_only\u001b[38;5;241m=\u001b[39mnumeric_only),\n\u001b[1;32m   2455\u001b[0m         numeric_only\u001b[38;5;241m=\u001b[39mnumeric_only,\n\u001b[1;32m   2456\u001b[0m     )\n\u001b[1;32m   2457\u001b[0m     \u001b[38;5;28;01mreturn\u001b[39;00m result\u001b[38;5;241m.\u001b[39m__finalize__(\u001b[38;5;28mself\u001b[39m\u001b[38;5;241m.\u001b[39mobj, method\u001b[38;5;241m=\u001b[39m\u001b[38;5;124m\"\u001b[39m\u001b[38;5;124mgroupby\u001b[39m\u001b[38;5;124m\"\u001b[39m)\n",
      "File \u001b[0;32m/opt/homebrew/Caskroom/miniconda/base/envs/pandas/lib/python3.12/site-packages/pandas/core/groupby/groupby.py:1998\u001b[0m, in \u001b[0;36mGroupBy._cython_agg_general\u001b[0;34m(self, how, alt, numeric_only, min_count, **kwargs)\u001b[0m\n\u001b[1;32m   1995\u001b[0m     result \u001b[38;5;241m=\u001b[39m \u001b[38;5;28mself\u001b[39m\u001b[38;5;241m.\u001b[39m_agg_py_fallback(how, values, ndim\u001b[38;5;241m=\u001b[39mdata\u001b[38;5;241m.\u001b[39mndim, alt\u001b[38;5;241m=\u001b[39malt)\n\u001b[1;32m   1996\u001b[0m     \u001b[38;5;28;01mreturn\u001b[39;00m result\n\u001b[0;32m-> 1998\u001b[0m new_mgr \u001b[38;5;241m=\u001b[39m data\u001b[38;5;241m.\u001b[39mgrouped_reduce(array_func)\n\u001b[1;32m   1999\u001b[0m res \u001b[38;5;241m=\u001b[39m \u001b[38;5;28mself\u001b[39m\u001b[38;5;241m.\u001b[39m_wrap_agged_manager(new_mgr)\n\u001b[1;32m   2000\u001b[0m \u001b[38;5;28;01mif\u001b[39;00m how \u001b[38;5;129;01min\u001b[39;00m [\u001b[38;5;124m\"\u001b[39m\u001b[38;5;124midxmin\u001b[39m\u001b[38;5;124m\"\u001b[39m, \u001b[38;5;124m\"\u001b[39m\u001b[38;5;124midxmax\u001b[39m\u001b[38;5;124m\"\u001b[39m]:\n",
      "File \u001b[0;32m/opt/homebrew/Caskroom/miniconda/base/envs/pandas/lib/python3.12/site-packages/pandas/core/internals/managers.py:1469\u001b[0m, in \u001b[0;36mBlockManager.grouped_reduce\u001b[0;34m(self, func)\u001b[0m\n\u001b[1;32m   1465\u001b[0m \u001b[38;5;28;01mif\u001b[39;00m blk\u001b[38;5;241m.\u001b[39mis_object:\n\u001b[1;32m   1466\u001b[0m     \u001b[38;5;66;03m# split on object-dtype blocks bc some columns may raise\u001b[39;00m\n\u001b[1;32m   1467\u001b[0m     \u001b[38;5;66;03m#  while others do not.\u001b[39;00m\n\u001b[1;32m   1468\u001b[0m     \u001b[38;5;28;01mfor\u001b[39;00m sb \u001b[38;5;129;01min\u001b[39;00m blk\u001b[38;5;241m.\u001b[39m_split():\n\u001b[0;32m-> 1469\u001b[0m         applied \u001b[38;5;241m=\u001b[39m sb\u001b[38;5;241m.\u001b[39mapply(func)\n\u001b[1;32m   1470\u001b[0m         result_blocks \u001b[38;5;241m=\u001b[39m extend_blocks(applied, result_blocks)\n\u001b[1;32m   1471\u001b[0m \u001b[38;5;28;01melse\u001b[39;00m:\n",
      "File \u001b[0;32m/opt/homebrew/Caskroom/miniconda/base/envs/pandas/lib/python3.12/site-packages/pandas/core/internals/blocks.py:393\u001b[0m, in \u001b[0;36mBlock.apply\u001b[0;34m(self, func, **kwargs)\u001b[0m\n\u001b[1;32m    387\u001b[0m \u001b[38;5;129m@final\u001b[39m\n\u001b[1;32m    388\u001b[0m \u001b[38;5;28;01mdef\u001b[39;00m \u001b[38;5;21mapply\u001b[39m(\u001b[38;5;28mself\u001b[39m, func, \u001b[38;5;241m*\u001b[39m\u001b[38;5;241m*\u001b[39mkwargs) \u001b[38;5;241m-\u001b[39m\u001b[38;5;241m>\u001b[39m \u001b[38;5;28mlist\u001b[39m[Block]:\n\u001b[1;32m    389\u001b[0m \u001b[38;5;250m    \u001b[39m\u001b[38;5;124;03m\"\"\"\u001b[39;00m\n\u001b[1;32m    390\u001b[0m \u001b[38;5;124;03m    apply the function to my values; return a block if we are not\u001b[39;00m\n\u001b[1;32m    391\u001b[0m \u001b[38;5;124;03m    one\u001b[39;00m\n\u001b[1;32m    392\u001b[0m \u001b[38;5;124;03m    \"\"\"\u001b[39;00m\n\u001b[0;32m--> 393\u001b[0m     result \u001b[38;5;241m=\u001b[39m func(\u001b[38;5;28mself\u001b[39m\u001b[38;5;241m.\u001b[39mvalues, \u001b[38;5;241m*\u001b[39m\u001b[38;5;241m*\u001b[39mkwargs)\n\u001b[1;32m    395\u001b[0m     result \u001b[38;5;241m=\u001b[39m maybe_coerce_values(result)\n\u001b[1;32m    396\u001b[0m     \u001b[38;5;28;01mreturn\u001b[39;00m \u001b[38;5;28mself\u001b[39m\u001b[38;5;241m.\u001b[39m_split_op_result(result)\n",
      "File \u001b[0;32m/opt/homebrew/Caskroom/miniconda/base/envs/pandas/lib/python3.12/site-packages/pandas/core/groupby/groupby.py:1995\u001b[0m, in \u001b[0;36mGroupBy._cython_agg_general.<locals>.array_func\u001b[0;34m(values)\u001b[0m\n\u001b[1;32m   1992\u001b[0m     \u001b[38;5;28;01mreturn\u001b[39;00m result\n\u001b[1;32m   1994\u001b[0m \u001b[38;5;28;01massert\u001b[39;00m alt \u001b[38;5;129;01mis\u001b[39;00m \u001b[38;5;129;01mnot\u001b[39;00m \u001b[38;5;28;01mNone\u001b[39;00m\n\u001b[0;32m-> 1995\u001b[0m result \u001b[38;5;241m=\u001b[39m \u001b[38;5;28mself\u001b[39m\u001b[38;5;241m.\u001b[39m_agg_py_fallback(how, values, ndim\u001b[38;5;241m=\u001b[39mdata\u001b[38;5;241m.\u001b[39mndim, alt\u001b[38;5;241m=\u001b[39malt)\n\u001b[1;32m   1996\u001b[0m \u001b[38;5;28;01mreturn\u001b[39;00m result\n",
      "File \u001b[0;32m/opt/homebrew/Caskroom/miniconda/base/envs/pandas/lib/python3.12/site-packages/pandas/core/groupby/groupby.py:1946\u001b[0m, in \u001b[0;36mGroupBy._agg_py_fallback\u001b[0;34m(self, how, values, ndim, alt)\u001b[0m\n\u001b[1;32m   1944\u001b[0m     msg \u001b[38;5;241m=\u001b[39m \u001b[38;5;124mf\u001b[39m\u001b[38;5;124m\"\u001b[39m\u001b[38;5;124magg function failed [how->\u001b[39m\u001b[38;5;132;01m{\u001b[39;00mhow\u001b[38;5;132;01m}\u001b[39;00m\u001b[38;5;124m,dtype->\u001b[39m\u001b[38;5;132;01m{\u001b[39;00mser\u001b[38;5;241m.\u001b[39mdtype\u001b[38;5;132;01m}\u001b[39;00m\u001b[38;5;124m]\u001b[39m\u001b[38;5;124m\"\u001b[39m\n\u001b[1;32m   1945\u001b[0m     \u001b[38;5;66;03m# preserve the kind of exception that raised\u001b[39;00m\n\u001b[0;32m-> 1946\u001b[0m     \u001b[38;5;28;01mraise\u001b[39;00m \u001b[38;5;28mtype\u001b[39m(err)(msg) \u001b[38;5;28;01mfrom\u001b[39;00m \u001b[38;5;21;01merr\u001b[39;00m\n\u001b[1;32m   1948\u001b[0m \u001b[38;5;28;01mif\u001b[39;00m ser\u001b[38;5;241m.\u001b[39mdtype \u001b[38;5;241m==\u001b[39m \u001b[38;5;28mobject\u001b[39m:\n\u001b[1;32m   1949\u001b[0m     res_values \u001b[38;5;241m=\u001b[39m res_values\u001b[38;5;241m.\u001b[39mastype(\u001b[38;5;28mobject\u001b[39m, copy\u001b[38;5;241m=\u001b[39m\u001b[38;5;28;01mFalse\u001b[39;00m)\n",
      "\u001b[0;31mTypeError\u001b[0m: agg function failed [how->mean,dtype->object]"
     ]
    }
   ],
   "source": [
    "# mean of life expectancy by year\n",
    "print('Grouped means 01  \\n', \n",
    "      df.groupby('year')['lifeExp'].mean(), '\\n')\n",
    "print('Grouped means 01  \\n', \n",
    "      df.groupby('year').mean(), '\\n')"
   ]
  },
  {
   "cell_type": "code",
   "execution_count": 170,
   "metadata": {},
   "outputs": [
    {
     "name": "stdout",
     "output_type": "stream",
     "text": [
      "Grouped means 01  \n",
      " <class 'pandas.core.groupby.generic.DataFrameGroupBy'> \n",
      "\n",
      "Grouped means 02  \n",
      " <pandas.core.groupby.generic.DataFrameGroupBy object at 0x12b7ff020> \n",
      "\n"
     ]
    }
   ],
   "source": [
    "grouped_year_df = df.groupby(['year'])\n",
    "print('Grouped means 01  \\n', type(grouped_year_df), '\\n')\n",
    "print('Grouped means 02  \\n', grouped_year_df, '\\n')"
   ]
  },
  {
   "cell_type": "code",
   "execution_count": 171,
   "metadata": {},
   "outputs": [
    {
     "name": "stdout",
     "output_type": "stream",
     "text": [
      "Grouped means 03 \n",
      " <class 'pandas.core.groupby.generic.SeriesGroupBy'>\n",
      "Grouped means 04 \n",
      " <pandas.core.groupby.generic.SeriesGroupBy object at 0x12c0dc440>\n"
     ]
    }
   ],
   "source": [
    "grouped_year_df_lifeExp = grouped_year_df['lifeExp'] \n",
    "print('Grouped means 03 \\n', type(grouped_year_df_lifeExp))\n",
    "print('Grouped means 04 \\n', grouped_year_df_lifeExp)"
   ]
  },
  {
   "cell_type": "code",
   "execution_count": 172,
   "metadata": {},
   "outputs": [
    {
     "name": "stdout",
     "output_type": "stream",
     "text": [
      "Grouped means 05 \n",
      " year\n",
      "1952    49.057620\n",
      "1957    51.507401\n",
      "1962    53.609249\n",
      "1967    55.678290\n",
      "1972    57.647386\n",
      "1977    59.570157\n",
      "1982    61.533197\n",
      "1987    63.212613\n",
      "1992    64.160338\n",
      "1997    65.014676\n",
      "2002    65.694923\n",
      "2007    67.007423\n",
      "Name: lifeExp, dtype: float64 \n",
      "\n"
     ]
    }
   ],
   "source": [
    "mean_lifeExp_by_year = grouped_year_df_lifeExp.mean()\n",
    "print('Grouped means 05 \\n', mean_lifeExp_by_year, '\\n')"
   ]
  },
  {
   "cell_type": "code",
   "execution_count": 173,
   "metadata": {},
   "outputs": [
    {
     "name": "stdout",
     "output_type": "stream",
     "text": [
      "Grouped means 06 \n",
      "                   lifeExp     gdpPercap\n",
      "year continent                         \n",
      "1952 Africa     39.135500   1252.572466\n",
      "     Americas   53.279840   4079.062552\n",
      "     Asia       46.314394   5195.484004\n",
      "     Europe     64.408500   5661.057435\n",
      "     Oceania    69.255000  10298.085650\n",
      "1957 Africa     41.266346   1385.236062\n",
      "     Americas   55.960280   4616.043733\n",
      "     Asia       49.318544   5787.732940\n",
      "     Europe     66.703067   6963.012816\n",
      "     Oceania    70.295000  11598.522455\n",
      "1962 Africa     43.319442   1598.078825\n",
      "     Americas   58.398760   4901.541870\n",
      "     Asia       51.563223   5729.369625\n",
      "     Europe     68.539233   8365.486814\n",
      "     Oceania    71.085000  12696.452430\n",
      "1967 Africa     45.334538   2050.363801\n",
      "     Americas   60.410920   5668.253496\n",
      "     Asia       54.663640   5971.173374\n",
      "     Europe     69.737600  10143.823757\n",
      "     Oceania    71.310000  14495.021790\n",
      "1972 Africa     47.450942   2339.615674\n",
      "     Americas   62.394920   6491.334139\n",
      "     Asia       57.319269   8187.468699\n",
      "     Europe     70.775033  12479.575246\n",
      "     Oceania    71.910000  16417.333380\n",
      "1977 Africa     49.580423   2585.938508\n",
      "     Americas   64.391560   7352.007126\n",
      "     Asia       59.610556   7791.314020\n",
      "     Europe     71.937767  14283.979110\n",
      "     Oceania    72.855000  17283.957605\n",
      "1982 Africa     51.592865   2481.592960\n",
      "     Americas   66.228840   7506.737088\n",
      "     Asia       62.617939   7434.135157\n",
      "     Europe     72.806400  15617.896551\n",
      "     Oceania    74.290000  18554.709840\n",
      "1987 Africa     53.344788   2282.668991\n",
      "     Americas   68.090720   7793.400261\n",
      "     Asia       64.851182   7608.226508\n",
      "     Europe     73.642167  17214.310727\n",
      "     Oceania    75.320000  20448.040160\n",
      "1992 Africa     53.629577   2281.810333\n",
      "     Americas   69.568360   8044.934406\n",
      "     Asia       66.537212   8639.690248\n",
      "     Europe     74.440100  17061.568084\n",
      "     Oceania    76.945000  20894.045885\n",
      "1997 Africa     53.598269   2378.759555\n",
      "     Americas   71.150480   8889.300863\n",
      "     Asia       68.020515   9834.093295\n",
      "     Europe     75.505167  19076.781802\n",
      "     Oceania    78.190000  24024.175170\n",
      "2002 Africa     53.325231   2599.385159\n",
      "     Americas   72.422040   9287.677107\n",
      "     Asia       69.233879  10174.090397\n",
      "     Europe     76.700600  21711.732422\n",
      "     Oceania    79.740000  26938.778040\n",
      "2007 Africa     54.806038   3089.032605\n",
      "     Americas   73.608120  11003.031625\n",
      "     Asia       70.728485  12473.026870\n",
      "     Europe     77.648600  25054.481636\n",
      "     Oceania    80.719500  29810.188275\n"
     ]
    }
   ],
   "source": [
    "# multiple columns\n",
    "print('Grouped means 06 \\n', \n",
    "      df.groupby(['year', 'continent'])[['lifeExp', 'gdpPercap']].mean())"
   ]
  },
  {
   "cell_type": "code",
   "execution_count": 174,
   "metadata": {},
   "outputs": [
    {
     "name": "stdout",
     "output_type": "stream",
     "text": [
      "Grouped means 07 \n",
      " continent\n",
      "Africa      52\n",
      "Americas    25\n",
      "Asia        33\n",
      "Europe      30\n",
      "Oceania      2\n",
      "Name: country, dtype: int64 \n",
      "\n"
     ]
    }
   ],
   "source": [
    "# Calculate frequencies\n",
    "# use the nunique (number unique) to calculate \n",
    "print('Grouped means 07 \\n', \n",
    "      df.groupby('continent')['country'].nunique(),'\\n')"
   ]
  },
  {
   "cell_type": "code",
   "execution_count": 175,
   "metadata": {},
   "outputs": [
    {
     "name": "stdout",
     "output_type": "stream",
     "text": [
      "Grouped means 08 \n",
      " continent  country       \n",
      "Africa     Algeria           12\n",
      "           Angola            12\n",
      "           Benin             12\n",
      "           Botswana          12\n",
      "           Burkina Faso      12\n",
      "                             ..\n",
      "Europe     Switzerland       12\n",
      "           Turkey            12\n",
      "           United Kingdom    12\n",
      "Oceania    Australia         12\n",
      "           New Zealand       12\n",
      "Name: count, Length: 142, dtype: int64 \n",
      "\n"
     ]
    }
   ],
   "source": [
    "# the number of unique values in a series\n",
    "print('Grouped means 08 \\n',\n",
    "      df.groupby('continent')['country'].value_counts(),'\\n')"
   ]
  },
  {
   "cell_type": "markdown",
   "metadata": {},
   "source": [
    "### Missing data"
   ]
  },
  {
   "cell_type": "code",
   "execution_count": 176,
   "metadata": {},
   "outputs": [
    {
     "name": "stdout",
     "output_type": "stream",
     "text": [
      "MS1 Apple \n",
      "                    A         B         C         D\n",
      "2022-02-01 -0.325610 -0.112565 -2.229167  0.242462\n",
      "2022-02-02 -0.789820 -0.897544  0.237840 -0.909135\n",
      "2022-02-03  1.746809  0.811598  0.028812 -0.131707\n",
      "2022-02-04  0.301938  0.255472 -0.287185  1.571416\n",
      "2022-02-05 -0.352698  0.147315  1.805455 -0.179301\n",
      "2022-02-06  1.012149  0.548468  0.066136 -0.730313 \n",
      "\n"
     ]
    }
   ],
   "source": [
    "dates = pd.date_range('20220201', periods=6)\n",
    "df41 = pd.DataFrame(np.random.randn(6,4), index=dates,\n",
    "           columns=list('ABCD'))\n",
    "print('MS1 Apple \\n', df41, '\\n')"
   ]
  },
  {
   "cell_type": "code",
   "execution_count": 192,
   "metadata": {},
   "outputs": [
    {
     "name": "stdout",
     "output_type": "stream",
     "text": [
      "MS2 Apple \n",
      "                    A         B         C         D   E\n",
      "2022-02-01 -0.667128 -0.548471  0.024112 -1.552206 NaN\n",
      "2022-02-02  2.757254 -0.715237 -2.502123 -1.878850 NaN\n",
      "2022-02-03 -1.361677 -0.680995  1.796769  2.040316 NaN\n",
      "2022-02-04  0.696291  0.219688  2.079392  1.368923 NaN \n",
      "\n"
     ]
    }
   ],
   "source": [
    "df41 = df41.reindex(index=dates[0:4], \n",
    "                                  columns =list(df31.columns)+['E']); \n",
    "print('MS2 Apple \\n', df41, '\\n')"
   ]
  },
  {
   "cell_type": "code",
   "execution_count": 177,
   "metadata": {},
   "outputs": [
    {
     "name": "stdout",
     "output_type": "stream",
     "text": [
      "MS3 Apple \n",
      "                    A         B         C         D    E\n",
      "2022-02-01 -0.325610 -0.112565 -2.229167  0.242462  1.0\n",
      "2022-02-02 -0.789820 -0.897544  0.237840 -0.909135  1.0\n",
      "2022-02-03  1.746809  0.811598  0.028812 -0.131707  NaN\n",
      "2022-02-04  0.301938  0.255472 -0.287185  1.571416  NaN\n",
      "2022-02-05 -0.352698  0.147315  1.805455 -0.179301  NaN\n",
      "2022-02-06  1.012149  0.548468  0.066136 -0.730313  NaN \n",
      "\n",
      "                  A         B         C         D    E\n",
      "2022-02-01 -0.32561 -0.112565 -2.229167  0.242462  1.0\n",
      "2022-02-02 -0.78982 -0.897544  0.237840 -0.909135  1.0 \n",
      "\n",
      "                   A         B         C         D    E\n",
      "2022-02-01 -0.325610 -0.112565 -2.229167  0.242462  1.0\n",
      "2022-02-02 -0.789820 -0.897544  0.237840 -0.909135  1.0\n",
      "2022-02-03  1.746809  0.811598  0.028812 -0.131707  5.0\n",
      "2022-02-04  0.301938  0.255472 -0.287185  1.571416  5.0\n",
      "2022-02-05 -0.352698  0.147315  1.805455 -0.179301  5.0\n",
      "2022-02-06  1.012149  0.548468  0.066136 -0.730313  5.0 \n",
      "\n",
      "MS4 Apple \n",
      "                 A      B      C      D      E\n",
      "2022-02-01  False  False  False  False  False\n",
      "2022-02-02  False  False  False  False  False\n",
      "2022-02-03  False  False  False  False   True\n",
      "2022-02-04  False  False  False  False   True\n",
      "2022-02-05  False  False  False  False   True\n",
      "2022-02-06  False  False  False  False   True \n",
      "\n"
     ]
    }
   ],
   "source": [
    "df41.loc[dates[0]:dates[1],'E'] = 1;  \n",
    "print('MS3 Apple \\n', df41, '\\n')\n",
    "print(df41.dropna(how='any'), '\\n')\n",
    "print(df41.fillna(value=5), '\\n')   # Filling missing data\n",
    "print('MS4 Apple \\n', pd.isnull(df41), '\\n') # pandas; is null?"
   ]
  },
  {
   "cell_type": "markdown",
   "metadata": {},
   "source": [
    "### Mixing it up"
   ]
  },
  {
   "cell_type": "code",
   "execution_count": 178,
   "metadata": {},
   "outputs": [
    {
     "name": "stdout",
     "output_type": "stream",
     "text": [
      ".loc 31 => \n",
      " Angola \n",
      "\n",
      ".iloc 32 => \n",
      " Angola \n",
      "\n"
     ]
    }
   ],
   "source": [
    "# Subset Rows and Columns\n",
    "# get the 43rd country in our data\n",
    "print('.loc 31 => \\n', df.loc[42, 'country'], '\\n')\n",
    "print('.iloc 32 => \\n', df.iloc[42, 0], '\\n')"
   ]
  },
  {
   "cell_type": "code",
   "execution_count": 180,
   "metadata": {},
   "outputs": [
    {
     "name": "stdout",
     "output_type": "stream",
     "text": [
      "       country continent  year  lifeExp       pop   gdpPercap\n",
      "1701  Zimbabwe    Africa  1997   46.809  11404948  792.449960\n",
      "1702  Zimbabwe    Africa  2002   39.989  11926563  672.038623\n",
      "1703  Zimbabwe    Africa  2007   43.487  12311143  469.709298 \n",
      "\n",
      "<class 'pandas.core.frame.DataFrame'> \n",
      "\n",
      "<class 'pandas.core.series.Series'> \n",
      "\n"
     ]
    }
   ],
   "source": [
    "no_rows = df.shape[0]\n",
    "print(df.loc[no_rows-3:no_rows-1], '\\n')\n",
    "print(type(df.loc[no_rows-3:no_rows-1]), '\\n')\n",
    "print(type(df.loc[no_rows-1]), '\\n')"
   ]
  },
  {
   "cell_type": "code",
   "execution_count": 181,
   "metadata": {},
   "outputs": [
    {
     "name": "stdout",
     "output_type": "stream",
     "text": [
      "       country continent  year  lifeExp       pop   gdpPercap\n",
      "1701  Zimbabwe    Africa  1997   46.809  11404948  792.449960\n",
      "1702  Zimbabwe    Africa  2002   39.989  11926563  672.038623\n",
      "1703  Zimbabwe    Africa  2007   43.487  12311143  469.709298 \n",
      "\n",
      "<class 'pandas.core.frame.DataFrame'> \n",
      "\n",
      "<class 'pandas.core.frame.DataFrame'> \n",
      "\n"
     ]
    }
   ],
   "source": [
    "print(df.tail(n=3), '\\n')\n",
    "print(type(df.tail(n=3)), '\\n')\n",
    "print(type(df.tail(n=1)), '\\n')"
   ]
  },
  {
   "cell_type": "code",
   "execution_count": 183,
   "metadata": {},
   "outputs": [
    {
     "name": "stdout",
     "output_type": "stream",
     "text": [
      "1704 \n",
      "\n",
      "[3 4 5 ... 0 1 2] \n",
      "\n"
     ]
    }
   ],
   "source": [
    "# '.iloc' Method and '.loc' Method\n",
    "\n",
    "# ‘iloc’ method subsets rows based on the index label\n",
    "# ‘loc’ method subsets rows based on the row index number\n",
    "print(len(df), '\\n')\n",
    "indexx = np.mod(np.arange(len(df)) + 3, len(df))\n",
    "print(indexx, '\\n')\n",
    "df.index = indexx"
   ]
  },
  {
   "cell_type": "code",
   "execution_count": 184,
   "metadata": {},
   "outputs": [
    {
     "data": {
      "text/plain": [
       "1702    1987\n",
       "1703    1992\n",
       "0       1997\n",
       "1       2002\n",
       "2       2007\n",
       "Name: year, dtype: int64"
      ]
     },
     "execution_count": 184,
     "metadata": {},
     "output_type": "execute_result"
    }
   ],
   "source": [
    "df['year'].head()\n",
    "df['year'].tail()"
   ]
  },
  {
   "cell_type": "markdown",
   "metadata": {},
   "source": [
    "### Statistics"
   ]
  },
  {
   "cell_type": "code",
   "execution_count": 194,
   "metadata": {},
   "outputs": [
    {
     "data": {
      "text/html": [
       "<div>\n",
       "<style scoped>\n",
       "    .dataframe tbody tr th:only-of-type {\n",
       "        vertical-align: middle;\n",
       "    }\n",
       "\n",
       "    .dataframe tbody tr th {\n",
       "        vertical-align: top;\n",
       "    }\n",
       "\n",
       "    .dataframe thead th {\n",
       "        text-align: right;\n",
       "    }\n",
       "</style>\n",
       "<table border=\"1\" class=\"dataframe\">\n",
       "  <thead>\n",
       "    <tr style=\"text-align: right;\">\n",
       "      <th></th>\n",
       "      <th>A</th>\n",
       "      <th>B</th>\n",
       "      <th>C</th>\n",
       "      <th>D</th>\n",
       "    </tr>\n",
       "  </thead>\n",
       "  <tbody>\n",
       "    <tr>\n",
       "      <th>2022-02-01</th>\n",
       "      <td>0.381658</td>\n",
       "      <td>-0.564201</td>\n",
       "      <td>-1.550022</td>\n",
       "      <td>-0.165963</td>\n",
       "    </tr>\n",
       "    <tr>\n",
       "      <th>2022-02-02</th>\n",
       "      <td>0.486720</td>\n",
       "      <td>-1.524469</td>\n",
       "      <td>0.307471</td>\n",
       "      <td>-0.490075</td>\n",
       "    </tr>\n",
       "    <tr>\n",
       "      <th>2022-02-03</th>\n",
       "      <td>0.374161</td>\n",
       "      <td>1.010265</td>\n",
       "      <td>0.742260</td>\n",
       "      <td>-0.903433</td>\n",
       "    </tr>\n",
       "    <tr>\n",
       "      <th>2022-02-04</th>\n",
       "      <td>0.139778</td>\n",
       "      <td>1.799154</td>\n",
       "      <td>-1.240186</td>\n",
       "      <td>0.257931</td>\n",
       "    </tr>\n",
       "    <tr>\n",
       "      <th>2022-02-05</th>\n",
       "      <td>1.532762</td>\n",
       "      <td>-0.291590</td>\n",
       "      <td>2.349639</td>\n",
       "      <td>-0.328258</td>\n",
       "    </tr>\n",
       "    <tr>\n",
       "      <th>2022-02-06</th>\n",
       "      <td>0.975656</td>\n",
       "      <td>-0.726969</td>\n",
       "      <td>-0.335099</td>\n",
       "      <td>1.384967</td>\n",
       "    </tr>\n",
       "  </tbody>\n",
       "</table>\n",
       "</div>"
      ],
      "text/plain": [
       "                   A         B         C         D\n",
       "2022-02-01  0.381658 -0.564201 -1.550022 -0.165963\n",
       "2022-02-02  0.486720 -1.524469  0.307471 -0.490075\n",
       "2022-02-03  0.374161  1.010265  0.742260 -0.903433\n",
       "2022-02-04  0.139778  1.799154 -1.240186  0.257931\n",
       "2022-02-05  1.532762 -0.291590  2.349639 -0.328258\n",
       "2022-02-06  0.975656 -0.726969 -0.335099  1.384967"
      ]
     },
     "execution_count": 194,
     "metadata": {},
     "output_type": "execute_result"
    }
   ],
   "source": [
    "dates = pd.date_range('20220201', periods=6)\n",
    "df51 = pd.DataFrame(np.random.randn(6,4), index=dates,\n",
    "           columns=list('ABCD')); df51"
   ]
  },
  {
   "cell_type": "code",
   "execution_count": 195,
   "metadata": {},
   "outputs": [
    {
     "name": "stdout",
     "output_type": "stream",
     "text": [
      "SA12 Apple \n",
      " A    0.648456\n",
      "B   -0.049635\n",
      "C    0.045677\n",
      "D   -0.040805\n",
      "dtype: float64 \n",
      "\n",
      "SA13 Apple \n",
      " 2022-02-01   -0.474632\n",
      "2022-02-02   -0.305088\n",
      "2022-02-03    0.305813\n",
      "2022-02-04    0.239169\n",
      "2022-02-05    0.815638\n",
      "2022-02-06    0.324639\n",
      "Freq: D, dtype: float64 \n",
      "\n"
     ]
    }
   ],
   "source": [
    "print('SA12 Apple \\n', df51.mean(), '\\n')\n",
    "\n",
    "# axis 1\n",
    "print('SA13 Apple \\n', df51.mean(1), '\\n')"
   ]
  },
  {
   "cell_type": "code",
   "execution_count": 196,
   "metadata": {},
   "outputs": [
    {
     "name": "stdout",
     "output_type": "stream",
     "text": [
      "SA14 Apple \n",
      " 2022-02-01    NaN\n",
      "2022-02-02    NaN\n",
      "2022-02-03    1.0\n",
      "2022-02-04    3.0\n",
      "2022-02-05    5.0\n",
      "2022-02-06    NaN\n",
      "Freq: D, dtype: float64 \n",
      "\n",
      "SA15 Apple \n",
      "                    A         B         C         D\n",
      "2022-02-01       NaN       NaN       NaN       NaN\n",
      "2022-02-02       NaN       NaN       NaN       NaN\n",
      "2022-02-03 -0.625839  0.010265 -0.257740 -1.903433\n",
      "2022-02-04 -2.860222 -1.200846 -4.240186 -2.742069\n",
      "2022-02-05 -3.467238 -5.291590 -2.650361 -5.328258\n",
      "2022-02-06       NaN       NaN       NaN       NaN \n",
      "\n"
     ]
    }
   ],
   "source": [
    "s51 = pd.Series([1,3,5,np.nan,6,8], index=dates).shift(2)\n",
    "print('SA14 Apple \\n', s51, '\\n')\n",
    "# DataFrame.sub = Subtraction of dataframe and other, \n",
    "# element-wise \n",
    "print('SA15 Apple \\n', df51.sub(s51, axis='index'), '\\n')"
   ]
  },
  {
   "cell_type": "code",
   "execution_count": 197,
   "metadata": {},
   "outputs": [
    {
     "name": "stdout",
     "output_type": "stream",
     "text": [
      "                   A         B         C         D\n",
      "2022-02-01  0.381658 -0.564201 -1.550022 -0.165963\n",
      "2022-02-02  0.486720 -1.524469  0.307471 -0.490075\n",
      "2022-02-03  0.374161  1.010265  0.742260 -0.903433\n",
      "2022-02-04  0.139778  1.799154 -1.240186  0.257931\n",
      "2022-02-05  1.532762 -0.291590  2.349639 -0.328258\n",
      "2022-02-06  0.975656 -0.726969 -0.335099  1.384967\n",
      "SA21 Apple \n",
      "                    A         B         C         D\n",
      "2022-02-01  0.381658 -0.564201 -1.550022 -0.165963\n",
      "2022-02-02  0.868378 -2.088670 -1.242551 -0.656038\n",
      "2022-02-03  1.242540 -1.078405 -0.500291 -1.559471\n",
      "2022-02-04  1.382318  0.720749 -1.740477 -1.301540\n",
      "2022-02-05  2.915080  0.429159  0.609162 -1.629798\n",
      "2022-02-06  3.890735 -0.297810  0.274063 -0.244831 \n",
      "\n",
      "SA22 Apple \n",
      " A    1.392984\n",
      "B    3.323623\n",
      "C    3.899661\n",
      "D    2.288400\n",
      "dtype: float64 \n",
      "\n"
     ]
    }
   ],
   "source": [
    "print(df51)\n",
    "print('SA21 Apple \\n', df51.apply(np.cumsum), '\\n')\n",
    "print('SA22 Apple \\n', df51.apply(lambda x: x.max() - x.min()), '\\n')"
   ]
  },
  {
   "cell_type": "code",
   "execution_count": 198,
   "metadata": {},
   "outputs": [
    {
     "name": "stdout",
     "output_type": "stream",
     "text": [
      "SA23 Apple \n",
      " 0    1\n",
      "1    3\n",
      "2    2\n",
      "3    4\n",
      "4    5\n",
      "5    5\n",
      "6    6\n",
      "7    4\n",
      "8    6\n",
      "9    0\n",
      "dtype: int64 \n",
      "\n",
      "SA24 Apple \n",
      " 4    2\n",
      "5    2\n",
      "6    2\n",
      "1    1\n",
      "3    1\n",
      "2    1\n",
      "0    1\n",
      "dtype: int64 \n",
      "\n"
     ]
    }
   ],
   "source": [
    "s511 = pd.Series(np.random.randint(0, 7, size=10))\n",
    "print('SA23 Apple \\n', s511, '\\n')\n",
    "print('SA24 Apple \\n', s511.value_counts(), '\\n')"
   ]
  },
  {
   "cell_type": "markdown",
   "metadata": {},
   "source": [
    "### Categoricals"
   ]
  },
  {
   "cell_type": "code",
   "execution_count": null,
   "metadata": {},
   "outputs": [],
   "source": [
    "df101 = pd.DataFrame({\"id\":[1,2,3,4,5,6], \"raw_grade\":['a', 'b', 'b', 'a', 'a', 'e']})\n",
    "print('\\n Category11 \\n', df101, '\\n')"
   ]
  },
  {
   "cell_type": "code",
   "execution_count": null,
   "metadata": {},
   "outputs": [],
   "source": [
    "df101[\"grade\"] = df101[\"raw_grade\"].astype(\"category\")\n",
    "print('\\n Category12 \\n', df101, '\\n')"
   ]
  },
  {
   "cell_type": "code",
   "execution_count": null,
   "metadata": {},
   "outputs": [],
   "source": [
    "df101[\"grade\"].cat.categories = [\"very good\", \"good\", \"very bad\"]\n",
    "print('\\n Category 13 \\n', df101, '\\n')"
   ]
  },
  {
   "cell_type": "code",
   "execution_count": null,
   "metadata": {},
   "outputs": [],
   "source": [
    "# number of categories should be same\n",
    "df101[\"grade\"] = df101[\"grade\"].cat.set_categories(\n",
    "    [\"very bad\", \"bad\", \"medium\", \"good\", \"very good\"]) \n",
    "print('\\n Category 14 \\n', df101, '\\n')"
   ]
  },
  {
   "cell_type": "code",
   "execution_count": null,
   "metadata": {},
   "outputs": [],
   "source": [
    "df101.sort_values(by=\"grade\") \n",
    "df101.groupby(\"grade\").size()"
   ]
  },
  {
   "cell_type": "code",
   "execution_count": null,
   "metadata": {},
   "outputs": [],
   "source": []
  }
 ],
 "metadata": {
  "kernelspec": {
   "display_name": "Python 3 (ipykernel)",
   "language": "python",
   "name": "python3"
  },
  "language_info": {
   "codemirror_mode": {
    "name": "ipython",
    "version": 3
   },
   "file_extension": ".py",
   "mimetype": "text/x-python",
   "name": "python",
   "nbconvert_exporter": "python",
   "pygments_lexer": "ipython3",
   "version": "3.12.3"
  },
  "orig_nbformat": 4
 },
 "nbformat": 4,
 "nbformat_minor": 2
}
